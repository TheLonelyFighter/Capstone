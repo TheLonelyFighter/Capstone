{
 "cells": [
  {
   "cell_type": "code",
   "execution_count": 1,
   "id": "16c0da74",
   "metadata": {},
   "outputs": [],
   "source": [
    "import numpy as np\n",
    "from scipy import signal\n",
    "import pandas as pd\n",
    "import glob\n",
    "import os"
   ]
  },
  {
   "cell_type": "code",
   "execution_count": 5,
   "id": "973f91af",
   "metadata": {},
   "outputs": [
    {
     "data": {
      "text/html": [
       "<div>\n",
       "<style scoped>\n",
       "    .dataframe tbody tr th:only-of-type {\n",
       "        vertical-align: middle;\n",
       "    }\n",
       "\n",
       "    .dataframe tbody tr th {\n",
       "        vertical-align: top;\n",
       "    }\n",
       "\n",
       "    .dataframe thead th {\n",
       "        text-align: right;\n",
       "    }\n",
       "</style>\n",
       "<table border=\"1\" class=\"dataframe\">\n",
       "  <thead>\n",
       "    <tr style=\"text-align: right;\">\n",
       "      <th></th>\n",
       "      <th>type</th>\n",
       "      <th>date time</th>\n",
       "      <th>latitude</th>\n",
       "      <th>longitude</th>\n",
       "      <th>accuracy(m)</th>\n",
       "      <th>altitude(m)</th>\n",
       "      <th>geoid_height(m)</th>\n",
       "      <th>speed(m/s)</th>\n",
       "      <th>bearing(deg)</th>\n",
       "      <th>sat_used</th>\n",
       "      <th>sat_inview</th>\n",
       "      <th>name</th>\n",
       "      <th>desc</th>\n",
       "    </tr>\n",
       "  </thead>\n",
       "  <tbody>\n",
       "    <tr>\n",
       "      <th>0</th>\n",
       "      <td>T</td>\n",
       "      <td>2022-02-18 12:47:26.144</td>\n",
       "      <td>60.382353</td>\n",
       "      <td>22.776870</td>\n",
       "      <td>8</td>\n",
       "      <td>36.987</td>\n",
       "      <td>NaN</td>\n",
       "      <td>0.00</td>\n",
       "      <td>NaN</td>\n",
       "      <td>8</td>\n",
       "      <td>43</td>\n",
       "      <td>20220218-144726</td>\n",
       "      <td>GPS Logger: 20220218-144726 - Jee</td>\n",
       "    </tr>\n",
       "    <tr>\n",
       "      <th>1</th>\n",
       "      <td>T</td>\n",
       "      <td>2022-02-18 12:47:27</td>\n",
       "      <td>60.382352</td>\n",
       "      <td>22.776821</td>\n",
       "      <td>5</td>\n",
       "      <td>51.237</td>\n",
       "      <td>NaN</td>\n",
       "      <td>0.23</td>\n",
       "      <td>61.0</td>\n",
       "      <td>7</td>\n",
       "      <td>43</td>\n",
       "      <td>NaN</td>\n",
       "      <td>NaN</td>\n",
       "    </tr>\n",
       "    <tr>\n",
       "      <th>2</th>\n",
       "      <td>T</td>\n",
       "      <td>2022-02-18 12:47:29</td>\n",
       "      <td>60.382349</td>\n",
       "      <td>22.776848</td>\n",
       "      <td>4</td>\n",
       "      <td>54.446</td>\n",
       "      <td>NaN</td>\n",
       "      <td>0.00</td>\n",
       "      <td>NaN</td>\n",
       "      <td>26</td>\n",
       "      <td>44</td>\n",
       "      <td>NaN</td>\n",
       "      <td>NaN</td>\n",
       "    </tr>\n",
       "    <tr>\n",
       "      <th>3</th>\n",
       "      <td>T</td>\n",
       "      <td>2022-02-18 12:47:30</td>\n",
       "      <td>60.382352</td>\n",
       "      <td>22.776850</td>\n",
       "      <td>5</td>\n",
       "      <td>53.619</td>\n",
       "      <td>NaN</td>\n",
       "      <td>0.00</td>\n",
       "      <td>NaN</td>\n",
       "      <td>26</td>\n",
       "      <td>44</td>\n",
       "      <td>NaN</td>\n",
       "      <td>NaN</td>\n",
       "    </tr>\n",
       "    <tr>\n",
       "      <th>4</th>\n",
       "      <td>T</td>\n",
       "      <td>2022-02-18 12:47:31</td>\n",
       "      <td>60.382349</td>\n",
       "      <td>22.776857</td>\n",
       "      <td>4</td>\n",
       "      <td>53.068</td>\n",
       "      <td>NaN</td>\n",
       "      <td>0.00</td>\n",
       "      <td>NaN</td>\n",
       "      <td>26</td>\n",
       "      <td>44</td>\n",
       "      <td>NaN</td>\n",
       "      <td>NaN</td>\n",
       "    </tr>\n",
       "    <tr>\n",
       "      <th>...</th>\n",
       "      <td>...</td>\n",
       "      <td>...</td>\n",
       "      <td>...</td>\n",
       "      <td>...</td>\n",
       "      <td>...</td>\n",
       "      <td>...</td>\n",
       "      <td>...</td>\n",
       "      <td>...</td>\n",
       "      <td>...</td>\n",
       "      <td>...</td>\n",
       "      <td>...</td>\n",
       "      <td>...</td>\n",
       "      <td>...</td>\n",
       "    </tr>\n",
       "    <tr>\n",
       "      <th>95</th>\n",
       "      <td>T</td>\n",
       "      <td>2022-02-18 12:49:02</td>\n",
       "      <td>60.382366</td>\n",
       "      <td>22.776739</td>\n",
       "      <td>10</td>\n",
       "      <td>53.783</td>\n",
       "      <td>NaN</td>\n",
       "      <td>0.00</td>\n",
       "      <td>NaN</td>\n",
       "      <td>23</td>\n",
       "      <td>44</td>\n",
       "      <td>NaN</td>\n",
       "      <td>NaN</td>\n",
       "    </tr>\n",
       "    <tr>\n",
       "      <th>96</th>\n",
       "      <td>T</td>\n",
       "      <td>2022-02-18 12:49:03</td>\n",
       "      <td>60.382366</td>\n",
       "      <td>22.776739</td>\n",
       "      <td>10</td>\n",
       "      <td>53.790</td>\n",
       "      <td>NaN</td>\n",
       "      <td>0.00</td>\n",
       "      <td>NaN</td>\n",
       "      <td>22</td>\n",
       "      <td>44</td>\n",
       "      <td>NaN</td>\n",
       "      <td>NaN</td>\n",
       "    </tr>\n",
       "    <tr>\n",
       "      <th>97</th>\n",
       "      <td>T</td>\n",
       "      <td>2022-02-18 12:49:04</td>\n",
       "      <td>60.382366</td>\n",
       "      <td>22.776739</td>\n",
       "      <td>10</td>\n",
       "      <td>53.793</td>\n",
       "      <td>NaN</td>\n",
       "      <td>0.00</td>\n",
       "      <td>NaN</td>\n",
       "      <td>22</td>\n",
       "      <td>44</td>\n",
       "      <td>NaN</td>\n",
       "      <td>NaN</td>\n",
       "    </tr>\n",
       "    <tr>\n",
       "      <th>98</th>\n",
       "      <td>T</td>\n",
       "      <td>2022-02-18 12:49:05</td>\n",
       "      <td>60.382367</td>\n",
       "      <td>22.776739</td>\n",
       "      <td>10</td>\n",
       "      <td>53.821</td>\n",
       "      <td>NaN</td>\n",
       "      <td>0.00</td>\n",
       "      <td>NaN</td>\n",
       "      <td>23</td>\n",
       "      <td>44</td>\n",
       "      <td>NaN</td>\n",
       "      <td>NaN</td>\n",
       "    </tr>\n",
       "    <tr>\n",
       "      <th>99</th>\n",
       "      <td>T</td>\n",
       "      <td>2022-02-18 12:49:06</td>\n",
       "      <td>60.382367</td>\n",
       "      <td>22.776739</td>\n",
       "      <td>10</td>\n",
       "      <td>53.834</td>\n",
       "      <td>NaN</td>\n",
       "      <td>0.00</td>\n",
       "      <td>NaN</td>\n",
       "      <td>23</td>\n",
       "      <td>44</td>\n",
       "      <td>NaN</td>\n",
       "      <td>NaN</td>\n",
       "    </tr>\n",
       "  </tbody>\n",
       "</table>\n",
       "<p>100 rows × 13 columns</p>\n",
       "</div>"
      ],
      "text/plain": [
       "   type                date time   latitude  longitude  accuracy(m)  \\\n",
       "0     T  2022-02-18 12:47:26.144  60.382353  22.776870            8   \n",
       "1     T      2022-02-18 12:47:27  60.382352  22.776821            5   \n",
       "2     T      2022-02-18 12:47:29  60.382349  22.776848            4   \n",
       "3     T      2022-02-18 12:47:30  60.382352  22.776850            5   \n",
       "4     T      2022-02-18 12:47:31  60.382349  22.776857            4   \n",
       "..  ...                      ...        ...        ...          ...   \n",
       "95    T      2022-02-18 12:49:02  60.382366  22.776739           10   \n",
       "96    T      2022-02-18 12:49:03  60.382366  22.776739           10   \n",
       "97    T      2022-02-18 12:49:04  60.382366  22.776739           10   \n",
       "98    T      2022-02-18 12:49:05  60.382367  22.776739           10   \n",
       "99    T      2022-02-18 12:49:06  60.382367  22.776739           10   \n",
       "\n",
       "    altitude(m)  geoid_height(m)  speed(m/s)  bearing(deg)  sat_used  \\\n",
       "0        36.987              NaN        0.00           NaN         8   \n",
       "1        51.237              NaN        0.23          61.0         7   \n",
       "2        54.446              NaN        0.00           NaN        26   \n",
       "3        53.619              NaN        0.00           NaN        26   \n",
       "4        53.068              NaN        0.00           NaN        26   \n",
       "..          ...              ...         ...           ...       ...   \n",
       "95       53.783              NaN        0.00           NaN        23   \n",
       "96       53.790              NaN        0.00           NaN        22   \n",
       "97       53.793              NaN        0.00           NaN        22   \n",
       "98       53.821              NaN        0.00           NaN        23   \n",
       "99       53.834              NaN        0.00           NaN        23   \n",
       "\n",
       "    sat_inview             name                               desc  \n",
       "0           43  20220218-144726  GPS Logger: 20220218-144726 - Jee  \n",
       "1           43              NaN                                NaN  \n",
       "2           44              NaN                                NaN  \n",
       "3           44              NaN                                NaN  \n",
       "4           44              NaN                                NaN  \n",
       "..         ...              ...                                ...  \n",
       "95          44              NaN                                NaN  \n",
       "96          44              NaN                                NaN  \n",
       "97          44              NaN                                NaN  \n",
       "98          44              NaN                                NaN  \n",
       "99          44              NaN                                NaN  \n",
       "\n",
       "[100 rows x 13 columns]"
      ]
     },
     "execution_count": 5,
     "metadata": {},
     "output_type": "execute_result"
    }
   ],
   "source": [
    "data_path=\"C:\\\\Users\\\\AtteR\\\\Documents\\\\Capstone\\\\audio_processing\\\\Speeds for 18.2.22 recordings.txt\"\n",
    "data_df=pd.read_csv(data_path)\n",
    "data_df.head(100)"
   ]
  },
  {
   "cell_type": "code",
   "execution_count": 3,
   "id": "384be551",
   "metadata": {},
   "outputs": [
    {
     "name": "stdout",
     "output_type": "stream",
     "text": [
      "3502\n"
     ]
    }
   ],
   "source": [
    "print(len(speed_data_df))"
   ]
  },
  {
   "cell_type": "code",
   "execution_count": 4,
   "id": "1e86c531",
   "metadata": {},
   "outputs": [
    {
     "name": "stdout",
     "output_type": "stream",
     "text": [
      "['C:\\\\Users\\\\AtteR\\\\Documents\\\\Capstone\\\\audio_processing\\\\Snow with speed\\\\2022_14_14_38-Jan-20.wav', 'C:\\\\Users\\\\AtteR\\\\Documents\\\\Capstone\\\\audio_processing\\\\Snow with speed\\\\2022_14_14_41-Jan-20.wav', 'C:\\\\Users\\\\AtteR\\\\Documents\\\\Capstone\\\\audio_processing\\\\Snow with speed\\\\2022_14_14_44-Jan-20.wav', 'C:\\\\Users\\\\AtteR\\\\Documents\\\\Capstone\\\\audio_processing\\\\Snow with speed\\\\2022_14_14_47-Jan-20.wav', 'C:\\\\Users\\\\AtteR\\\\Documents\\\\Capstone\\\\audio_processing\\\\Snow with speed\\\\2022_14_14_51-Jan-20.wav']\n"
     ]
    }
   ],
   "source": [
    "data_path=\"C:\\\\Users\\\\AtteR\\\\Documents\\\\Capstone\\\\audio_processing\\\\Snow 18.2\"\n",
    "files=glob.glob(data_path+\"/*.wav\")\n",
    "print(files[0:5])"
   ]
  },
  {
   "cell_type": "code",
   "execution_count": 5,
   "id": "692d1014",
   "metadata": {},
   "outputs": [
    {
     "name": "stdout",
     "output_type": "stream",
     "text": [
      "14 14 38\n"
     ]
    }
   ],
   "source": [
    "string_list=files[0].split(\"_\")\n",
    "date= \"2022-01-20\"\n",
    "print(string_list[2],string_list[3],string_list[4].split(\"-\")[0])"
   ]
  },
  {
   "cell_type": "code",
   "execution_count": 6,
   "id": "6eed02f0",
   "metadata": {},
   "outputs": [
    {
     "name": "stdout",
     "output_type": "stream",
     "text": [
      "<class 'str'>\n",
      "2022-01-20 12:13:13\n"
     ]
    }
   ],
   "source": [
    "print(type(data_df[\"date time\"][0]))\n",
    "print(data_df[\"date time\"][0])"
   ]
  },
  {
   "cell_type": "code",
   "execution_count": 7,
   "id": "b366f228",
   "metadata": {},
   "outputs": [
    {
     "name": "stdout",
     "output_type": "stream",
     "text": [
      "True\n"
     ]
    }
   ],
   "source": [
    "print(data_df[\"date time\"][0]==\"2022-01-20 12:13:13\")\n"
   ]
  },
  {
   "cell_type": "code",
   "execution_count": 8,
   "id": "b00337f9",
   "metadata": {},
   "outputs": [
    {
     "name": "stdout",
     "output_type": "stream",
     "text": [
      "2022-01-20 12:14:38\n"
     ]
    }
   ],
   "source": [
    "string_list=files[0].split(\"_\")\n",
    "date_time_from_filename= \"2022-01-20 \"+str(int(string_list[2])-2)+\":\"+string_list[3]+\":\"+string_list[4].split(\"-\")[0]\n",
    "print(date_time_from_filename)"
   ]
  },
  {
   "cell_type": "code",
   "execution_count": 9,
   "id": "a771a927",
   "metadata": {},
   "outputs": [],
   "source": [
    "speeds=[]\n",
    "for file_name,i in zip(files,range(0,len(files))):\n",
    "    string_list=file_name.split(\"_\")\n",
    "    date_time_from_filename= \"2022-01-20 \"+str(int(string_list[2])-2)+\":\"+string_list[3]+\":\"+string_list[4].split(\"-\")[0]\n",
    "    for ii in range(len(data_df[\"date time\"])):\n",
    "        if data_df[\"date time\"][ii]==date_time_from_filename:\n",
    "            speed=data_df[\"speed(m/s)\"][ii]\n",
    "            identity=file_name.split(\"\\\\\")[-1]\n",
    "            speeds.append([identity,speed])"
   ]
  },
  {
   "cell_type": "code",
   "execution_count": 10,
   "id": "6a36e723",
   "metadata": {},
   "outputs": [
    {
     "data": {
      "text/html": [
       "<div>\n",
       "<style scoped>\n",
       "    .dataframe tbody tr th:only-of-type {\n",
       "        vertical-align: middle;\n",
       "    }\n",
       "\n",
       "    .dataframe tbody tr th {\n",
       "        vertical-align: top;\n",
       "    }\n",
       "\n",
       "    .dataframe thead th {\n",
       "        text-align: right;\n",
       "    }\n",
       "</style>\n",
       "<table border=\"1\" class=\"dataframe\">\n",
       "  <thead>\n",
       "    <tr style=\"text-align: right;\">\n",
       "      <th></th>\n",
       "      <th>id</th>\n",
       "      <th>speed(m/s)</th>\n",
       "    </tr>\n",
       "  </thead>\n",
       "  <tbody>\n",
       "    <tr>\n",
       "      <th>0</th>\n",
       "      <td>2022_14_14_38-Jan-20.wav</td>\n",
       "      <td>6.39</td>\n",
       "    </tr>\n",
       "    <tr>\n",
       "      <th>1</th>\n",
       "      <td>2022_14_14_41-Jan-20.wav</td>\n",
       "      <td>6.92</td>\n",
       "    </tr>\n",
       "    <tr>\n",
       "      <th>2</th>\n",
       "      <td>2022_14_14_44-Jan-20.wav</td>\n",
       "      <td>5.04</td>\n",
       "    </tr>\n",
       "    <tr>\n",
       "      <th>3</th>\n",
       "      <td>2022_14_14_47-Jan-20.wav</td>\n",
       "      <td>6.68</td>\n",
       "    </tr>\n",
       "    <tr>\n",
       "      <th>4</th>\n",
       "      <td>2022_14_14_51-Jan-20.wav</td>\n",
       "      <td>8.23</td>\n",
       "    </tr>\n",
       "  </tbody>\n",
       "</table>\n",
       "</div>"
      ],
      "text/plain": [
       "                         id  speed(m/s)\n",
       "0  2022_14_14_38-Jan-20.wav        6.39\n",
       "1  2022_14_14_41-Jan-20.wav        6.92\n",
       "2  2022_14_14_44-Jan-20.wav        5.04\n",
       "3  2022_14_14_47-Jan-20.wav        6.68\n",
       "4  2022_14_14_51-Jan-20.wav        8.23"
      ]
     },
     "execution_count": 10,
     "metadata": {},
     "output_type": "execute_result"
    }
   ],
   "source": [
    "speeds_df=pd.DataFrame(speeds,columns=[\"id\",\"speed(m/s)\"])\n",
    "speeds_df.head()"
   ]
  },
  {
   "cell_type": "code",
   "execution_count": 11,
   "id": "33a0afbd",
   "metadata": {},
   "outputs": [],
   "source": [
    "speeds_df.to_csv(\"C:\\\\Users\\\\AtteR\\\\Documents\\\\Capstone\\\\audio_processing\\\\Snow 18.2\\\\speeds.csv\",index=False)"
   ]
  }
 ],
 "metadata": {
  "kernelspec": {
   "display_name": "Python 3 (ipykernel)",
   "language": "python",
   "name": "python3"
  },
  "language_info": {
   "codemirror_mode": {
    "name": "ipython",
    "version": 3
   },
   "file_extension": ".py",
   "mimetype": "text/x-python",
   "name": "python",
   "nbconvert_exporter": "python",
   "pygments_lexer": "ipython3",
   "version": "3.9.10"
  }
 },
 "nbformat": 4,
 "nbformat_minor": 5
}
