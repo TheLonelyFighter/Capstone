{
 "cells": [
  {
   "cell_type": "code",
   "execution_count": 1,
   "id": "16c0da74",
   "metadata": {},
   "outputs": [],
   "source": [
    "import numpy as np\n",
    "from scipy import signal\n",
    "import pandas as pd\n",
    "import glob\n",
    "import os"
   ]
  },
  {
   "cell_type": "code",
   "execution_count": 2,
   "id": "973f91af",
   "metadata": {},
   "outputs": [
    {
     "data": {
      "text/html": [
       "<div>\n",
       "<style scoped>\n",
       "    .dataframe tbody tr th:only-of-type {\n",
       "        vertical-align: middle;\n",
       "    }\n",
       "\n",
       "    .dataframe tbody tr th {\n",
       "        vertical-align: top;\n",
       "    }\n",
       "\n",
       "    .dataframe thead th {\n",
       "        text-align: right;\n",
       "    }\n",
       "</style>\n",
       "<table border=\"1\" class=\"dataframe\">\n",
       "  <thead>\n",
       "    <tr style=\"text-align: right;\">\n",
       "      <th></th>\n",
       "      <th>type</th>\n",
       "      <th>date time</th>\n",
       "      <th>latitude</th>\n",
       "      <th>longitude</th>\n",
       "      <th>accuracy(m)</th>\n",
       "      <th>altitude(m)</th>\n",
       "      <th>geoid_height(m)</th>\n",
       "      <th>speed(m/s)</th>\n",
       "      <th>bearing(deg)</th>\n",
       "      <th>sat_used</th>\n",
       "      <th>sat_inview</th>\n",
       "      <th>name</th>\n",
       "      <th>desc</th>\n",
       "    </tr>\n",
       "  </thead>\n",
       "  <tbody>\n",
       "    <tr>\n",
       "      <th>0</th>\n",
       "      <td>T</td>\n",
       "      <td>2022-01-20 12:13:13</td>\n",
       "      <td>60.461900</td>\n",
       "      <td>22.297547</td>\n",
       "      <td>4</td>\n",
       "      <td>33.771</td>\n",
       "      <td>NaN</td>\n",
       "      <td>8.70</td>\n",
       "      <td>16.0</td>\n",
       "      <td>27</td>\n",
       "      <td>40</td>\n",
       "      <td>20220120-141313</td>\n",
       "      <td>GPS Logger: 20220120-141313</td>\n",
       "    </tr>\n",
       "    <tr>\n",
       "      <th>1</th>\n",
       "      <td>T</td>\n",
       "      <td>2022-01-20 12:13:14</td>\n",
       "      <td>60.461978</td>\n",
       "      <td>22.297590</td>\n",
       "      <td>4</td>\n",
       "      <td>33.595</td>\n",
       "      <td>NaN</td>\n",
       "      <td>8.99</td>\n",
       "      <td>15.0</td>\n",
       "      <td>27</td>\n",
       "      <td>40</td>\n",
       "      <td>NaN</td>\n",
       "      <td>NaN</td>\n",
       "    </tr>\n",
       "    <tr>\n",
       "      <th>2</th>\n",
       "      <td>T</td>\n",
       "      <td>2022-01-20 12:13:15</td>\n",
       "      <td>60.462062</td>\n",
       "      <td>22.297632</td>\n",
       "      <td>4</td>\n",
       "      <td>33.311</td>\n",
       "      <td>NaN</td>\n",
       "      <td>9.22</td>\n",
       "      <td>15.0</td>\n",
       "      <td>27</td>\n",
       "      <td>40</td>\n",
       "      <td>NaN</td>\n",
       "      <td>NaN</td>\n",
       "    </tr>\n",
       "    <tr>\n",
       "      <th>3</th>\n",
       "      <td>T</td>\n",
       "      <td>2022-01-20 12:13:16</td>\n",
       "      <td>60.462148</td>\n",
       "      <td>22.297673</td>\n",
       "      <td>4</td>\n",
       "      <td>33.650</td>\n",
       "      <td>NaN</td>\n",
       "      <td>9.33</td>\n",
       "      <td>14.0</td>\n",
       "      <td>26</td>\n",
       "      <td>40</td>\n",
       "      <td>NaN</td>\n",
       "      <td>NaN</td>\n",
       "    </tr>\n",
       "    <tr>\n",
       "      <th>4</th>\n",
       "      <td>T</td>\n",
       "      <td>2022-01-20 12:13:17</td>\n",
       "      <td>60.462231</td>\n",
       "      <td>22.297707</td>\n",
       "      <td>4</td>\n",
       "      <td>32.666</td>\n",
       "      <td>NaN</td>\n",
       "      <td>9.45</td>\n",
       "      <td>15.0</td>\n",
       "      <td>27</td>\n",
       "      <td>40</td>\n",
       "      <td>NaN</td>\n",
       "      <td>NaN</td>\n",
       "    </tr>\n",
       "  </tbody>\n",
       "</table>\n",
       "</div>"
      ],
      "text/plain": [
       "  type            date time   latitude  longitude  accuracy(m)  altitude(m)  \\\n",
       "0    T  2022-01-20 12:13:13  60.461900  22.297547            4       33.771   \n",
       "1    T  2022-01-20 12:13:14  60.461978  22.297590            4       33.595   \n",
       "2    T  2022-01-20 12:13:15  60.462062  22.297632            4       33.311   \n",
       "3    T  2022-01-20 12:13:16  60.462148  22.297673            4       33.650   \n",
       "4    T  2022-01-20 12:13:17  60.462231  22.297707            4       32.666   \n",
       "\n",
       "   geoid_height(m)  speed(m/s)  bearing(deg)  sat_used  sat_inview  \\\n",
       "0              NaN        8.70          16.0        27          40   \n",
       "1              NaN        8.99          15.0        27          40   \n",
       "2              NaN        9.22          15.0        27          40   \n",
       "3              NaN        9.33          14.0        26          40   \n",
       "4              NaN        9.45          15.0        27          40   \n",
       "\n",
       "              name                         desc  \n",
       "0  20220120-141313  GPS Logger: 20220120-141313  \n",
       "1              NaN                          NaN  \n",
       "2              NaN                          NaN  \n",
       "3              NaN                          NaN  \n",
       "4              NaN                          NaN  "
      ]
     },
     "execution_count": 2,
     "metadata": {},
     "output_type": "execute_result"
    }
   ],
   "source": [
    "speed_data_path=\"C:\\\\Users\\\\AtteR\\\\Documents\\\\Capstone\\\\audio_processing\\\\speed_data_for_snow_20.1.-22.txt\"\n",
    "speed_data_df=pd.read_csv(speed_data_path)\n",
    "speed_data_df.head()"
   ]
  },
  {
   "cell_type": "code",
   "execution_count": 3,
   "id": "384be551",
   "metadata": {},
   "outputs": [
    {
     "name": "stdout",
     "output_type": "stream",
     "text": [
      "3502\n"
     ]
    }
   ],
   "source": [
    "print(len(speed_data_df))"
   ]
  },
  {
   "cell_type": "code",
   "execution_count": 4,
   "id": "1e86c531",
   "metadata": {},
   "outputs": [
    {
     "name": "stdout",
     "output_type": "stream",
     "text": [
      "['C:\\\\Users\\\\AtteR\\\\Documents\\\\Capstone\\\\audio_processing\\\\Snow with speed\\\\2022_14_14_38-Jan-20.wav', 'C:\\\\Users\\\\AtteR\\\\Documents\\\\Capstone\\\\audio_processing\\\\Snow with speed\\\\2022_14_14_41-Jan-20.wav', 'C:\\\\Users\\\\AtteR\\\\Documents\\\\Capstone\\\\audio_processing\\\\Snow with speed\\\\2022_14_14_44-Jan-20.wav', 'C:\\\\Users\\\\AtteR\\\\Documents\\\\Capstone\\\\audio_processing\\\\Snow with speed\\\\2022_14_14_47-Jan-20.wav', 'C:\\\\Users\\\\AtteR\\\\Documents\\\\Capstone\\\\audio_processing\\\\Snow with speed\\\\2022_14_14_51-Jan-20.wav']\n"
     ]
    }
   ],
   "source": [
    "snow_data_path=\"C:\\\\Users\\\\AtteR\\\\Documents\\\\Capstone\\\\audio_processing\\\\Snow with speed\"\n",
    "snow_files=glob.glob(snow_data_path+\"/*.wav\")\n",
    "print(snow_files[0:5])"
   ]
  },
  {
   "cell_type": "code",
   "execution_count": 5,
   "id": "692d1014",
   "metadata": {},
   "outputs": [
    {
     "name": "stdout",
     "output_type": "stream",
     "text": [
      "14 14 38\n"
     ]
    }
   ],
   "source": [
    "string_list=snow_files[0].split(\"_\")\n",
    "date= \"2022-01-20\"\n",
    "print(string_list[2],string_list[3],string_list[4].split(\"-\")[0])"
   ]
  },
  {
   "cell_type": "code",
   "execution_count": 6,
   "id": "6eed02f0",
   "metadata": {},
   "outputs": [
    {
     "name": "stdout",
     "output_type": "stream",
     "text": [
      "<class 'str'>\n",
      "2022-01-20 12:13:13\n"
     ]
    }
   ],
   "source": [
    "print(type(speed_data_df[\"date time\"][0]))\n",
    "print(speed_data_df[\"date time\"][0])"
   ]
  },
  {
   "cell_type": "code",
   "execution_count": 7,
   "id": "b366f228",
   "metadata": {},
   "outputs": [
    {
     "name": "stdout",
     "output_type": "stream",
     "text": [
      "True\n"
     ]
    }
   ],
   "source": [
    "print(speed_data_df[\"date time\"][0]==\"2022-01-20 12:13:13\")\n"
   ]
  },
  {
   "cell_type": "code",
   "execution_count": 8,
   "id": "b00337f9",
   "metadata": {},
   "outputs": [
    {
     "name": "stdout",
     "output_type": "stream",
     "text": [
      "2022-01-20 12:14:38\n"
     ]
    }
   ],
   "source": [
    "string_list=snow_files[0].split(\"_\")\n",
    "date_time_from_filename= \"2022-01-20 \"+str(int(string_list[2])-2)+\":\"+string_list[3]+\":\"+string_list[4].split(\"-\")[0]\n",
    "print(date_time_from_filename)"
   ]
  },
  {
   "cell_type": "code",
   "execution_count": 9,
   "id": "a771a927",
   "metadata": {},
   "outputs": [],
   "source": [
    "speeds=[]\n",
    "for file_name,i in zip(snow_files,range(0,len(snow_files))):\n",
    "    string_list=file_name.split(\"_\")\n",
    "    date_time_from_filename= \"2022-01-20 \"+str(int(string_list[2])-2)+\":\"+string_list[3]+\":\"+string_list[4].split(\"-\")[0]\n",
    "    for ii in range(len(speed_data_df[\"date time\"])):\n",
    "        if speed_data_df[\"date time\"][ii]==date_time_from_filename:\n",
    "            speed=speed_data_df[\"speed(m/s)\"][ii]\n",
    "            identity=file_name.split(\"\\\\\")[-1]\n",
    "            speeds.append([identity,speed])"
   ]
  },
  {
   "cell_type": "code",
   "execution_count": 10,
   "id": "6a36e723",
   "metadata": {},
   "outputs": [
    {
     "data": {
      "text/html": [
       "<div>\n",
       "<style scoped>\n",
       "    .dataframe tbody tr th:only-of-type {\n",
       "        vertical-align: middle;\n",
       "    }\n",
       "\n",
       "    .dataframe tbody tr th {\n",
       "        vertical-align: top;\n",
       "    }\n",
       "\n",
       "    .dataframe thead th {\n",
       "        text-align: right;\n",
       "    }\n",
       "</style>\n",
       "<table border=\"1\" class=\"dataframe\">\n",
       "  <thead>\n",
       "    <tr style=\"text-align: right;\">\n",
       "      <th></th>\n",
       "      <th>id</th>\n",
       "      <th>speed(m/s)</th>\n",
       "    </tr>\n",
       "  </thead>\n",
       "  <tbody>\n",
       "    <tr>\n",
       "      <th>0</th>\n",
       "      <td>2022_14_14_38-Jan-20.wav</td>\n",
       "      <td>6.39</td>\n",
       "    </tr>\n",
       "    <tr>\n",
       "      <th>1</th>\n",
       "      <td>2022_14_14_41-Jan-20.wav</td>\n",
       "      <td>6.92</td>\n",
       "    </tr>\n",
       "    <tr>\n",
       "      <th>2</th>\n",
       "      <td>2022_14_14_44-Jan-20.wav</td>\n",
       "      <td>5.04</td>\n",
       "    </tr>\n",
       "    <tr>\n",
       "      <th>3</th>\n",
       "      <td>2022_14_14_47-Jan-20.wav</td>\n",
       "      <td>6.68</td>\n",
       "    </tr>\n",
       "    <tr>\n",
       "      <th>4</th>\n",
       "      <td>2022_14_14_51-Jan-20.wav</td>\n",
       "      <td>8.23</td>\n",
       "    </tr>\n",
       "  </tbody>\n",
       "</table>\n",
       "</div>"
      ],
      "text/plain": [
       "                         id  speed(m/s)\n",
       "0  2022_14_14_38-Jan-20.wav        6.39\n",
       "1  2022_14_14_41-Jan-20.wav        6.92\n",
       "2  2022_14_14_44-Jan-20.wav        5.04\n",
       "3  2022_14_14_47-Jan-20.wav        6.68\n",
       "4  2022_14_14_51-Jan-20.wav        8.23"
      ]
     },
     "execution_count": 10,
     "metadata": {},
     "output_type": "execute_result"
    }
   ],
   "source": [
    "speeds_df=pd.DataFrame(speeds,columns=[\"id\",\"speed(m/s)\"])\n",
    "speeds_df.head()"
   ]
  },
  {
   "cell_type": "code",
   "execution_count": 11,
   "id": "33a0afbd",
   "metadata": {},
   "outputs": [],
   "source": [
    "speeds_df.to_csv(\"C:\\\\Users\\\\AtteR\\\\Documents\\\\Capstone\\\\audio_processing\\\\Snow with speed\\\\snow speeds.csv\",index=False)"
   ]
  }
 ],
 "metadata": {
  "kernelspec": {
   "display_name": "Python 3 (ipykernel)",
   "language": "python",
   "name": "python3"
  },
  "language_info": {
   "codemirror_mode": {
    "name": "ipython",
    "version": 3
   },
   "file_extension": ".py",
   "mimetype": "text/x-python",
   "name": "python",
   "nbconvert_exporter": "python",
   "pygments_lexer": "ipython3",
   "version": "3.9.7"
  }
 },
 "nbformat": 4,
 "nbformat_minor": 5
}
