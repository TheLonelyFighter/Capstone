{
 "cells": [
  {
   "cell_type": "code",
   "execution_count": 7,
   "id": "2ae24a74",
   "metadata": {},
   "outputs": [],
   "source": [
    "import numpy as np\n",
    "from scipy import signal\n",
    "import pandas as pd\n",
    "import glob\n"
   ]
  },
  {
   "cell_type": "code",
   "execution_count": 4,
   "id": "95246ef7",
   "metadata": {},
   "outputs": [
    {
     "data": {
      "text/html": [
       "<div>\n",
       "<style scoped>\n",
       "    .dataframe tbody tr th:only-of-type {\n",
       "        vertical-align: middle;\n",
       "    }\n",
       "\n",
       "    .dataframe tbody tr th {\n",
       "        vertical-align: top;\n",
       "    }\n",
       "\n",
       "    .dataframe thead th {\n",
       "        text-align: right;\n",
       "    }\n",
       "</style>\n",
       "<table border=\"1\" class=\"dataframe\">\n",
       "  <thead>\n",
       "    <tr style=\"text-align: right;\">\n",
       "      <th></th>\n",
       "      <th>type</th>\n",
       "      <th>date time</th>\n",
       "      <th>latitude</th>\n",
       "      <th>longitude</th>\n",
       "      <th>accuracy(m)</th>\n",
       "      <th>altitude(m)</th>\n",
       "      <th>geoid_height(m)</th>\n",
       "      <th>speed(m/s)</th>\n",
       "      <th>bearing(deg)</th>\n",
       "      <th>sat_used</th>\n",
       "      <th>sat_inview</th>\n",
       "      <th>name</th>\n",
       "      <th>desc</th>\n",
       "    </tr>\n",
       "  </thead>\n",
       "  <tbody>\n",
       "    <tr>\n",
       "      <th>0</th>\n",
       "      <td>W</td>\n",
       "      <td>2022-01-20 13:20:09</td>\n",
       "      <td>60.455597</td>\n",
       "      <td>22.286339</td>\n",
       "      <td>10</td>\n",
       "      <td>43.813</td>\n",
       "      <td>NaN</td>\n",
       "      <td>0.00</td>\n",
       "      <td>NaN</td>\n",
       "      <td>18</td>\n",
       "      <td>46</td>\n",
       "      <td>NaN</td>\n",
       "      <td>Actual speeds 20.1.2022</td>\n",
       "    </tr>\n",
       "    <tr>\n",
       "      <th>1</th>\n",
       "      <td>T</td>\n",
       "      <td>2022-01-20 12:13:13</td>\n",
       "      <td>60.461900</td>\n",
       "      <td>22.297547</td>\n",
       "      <td>4</td>\n",
       "      <td>33.771</td>\n",
       "      <td>NaN</td>\n",
       "      <td>8.70</td>\n",
       "      <td>16.0</td>\n",
       "      <td>27</td>\n",
       "      <td>40</td>\n",
       "      <td>20220120-141313</td>\n",
       "      <td>GPS Logger: 20220120-141313</td>\n",
       "    </tr>\n",
       "    <tr>\n",
       "      <th>2</th>\n",
       "      <td>T</td>\n",
       "      <td>2022-01-20 12:13:14</td>\n",
       "      <td>60.461978</td>\n",
       "      <td>22.297590</td>\n",
       "      <td>4</td>\n",
       "      <td>33.595</td>\n",
       "      <td>NaN</td>\n",
       "      <td>8.99</td>\n",
       "      <td>15.0</td>\n",
       "      <td>27</td>\n",
       "      <td>40</td>\n",
       "      <td>NaN</td>\n",
       "      <td>NaN</td>\n",
       "    </tr>\n",
       "    <tr>\n",
       "      <th>3</th>\n",
       "      <td>T</td>\n",
       "      <td>2022-01-20 12:13:15</td>\n",
       "      <td>60.462062</td>\n",
       "      <td>22.297632</td>\n",
       "      <td>4</td>\n",
       "      <td>33.311</td>\n",
       "      <td>NaN</td>\n",
       "      <td>9.22</td>\n",
       "      <td>15.0</td>\n",
       "      <td>27</td>\n",
       "      <td>40</td>\n",
       "      <td>NaN</td>\n",
       "      <td>NaN</td>\n",
       "    </tr>\n",
       "    <tr>\n",
       "      <th>4</th>\n",
       "      <td>T</td>\n",
       "      <td>2022-01-20 12:13:16</td>\n",
       "      <td>60.462148</td>\n",
       "      <td>22.297673</td>\n",
       "      <td>4</td>\n",
       "      <td>33.650</td>\n",
       "      <td>NaN</td>\n",
       "      <td>9.33</td>\n",
       "      <td>14.0</td>\n",
       "      <td>26</td>\n",
       "      <td>40</td>\n",
       "      <td>NaN</td>\n",
       "      <td>NaN</td>\n",
       "    </tr>\n",
       "  </tbody>\n",
       "</table>\n",
       "</div>"
      ],
      "text/plain": [
       "  type            date time   latitude  longitude  accuracy(m)  altitude(m)  \\\n",
       "0    W  2022-01-20 13:20:09  60.455597  22.286339           10       43.813   \n",
       "1    T  2022-01-20 12:13:13  60.461900  22.297547            4       33.771   \n",
       "2    T  2022-01-20 12:13:14  60.461978  22.297590            4       33.595   \n",
       "3    T  2022-01-20 12:13:15  60.462062  22.297632            4       33.311   \n",
       "4    T  2022-01-20 12:13:16  60.462148  22.297673            4       33.650   \n",
       "\n",
       "   geoid_height(m)  speed(m/s)  bearing(deg)  sat_used  sat_inview  \\\n",
       "0              NaN        0.00           NaN        18          46   \n",
       "1              NaN        8.70          16.0        27          40   \n",
       "2              NaN        8.99          15.0        27          40   \n",
       "3              NaN        9.22          15.0        27          40   \n",
       "4              NaN        9.33          14.0        26          40   \n",
       "\n",
       "              name                         desc  \n",
       "0              NaN      Actual speeds 20.1.2022  \n",
       "1  20220120-141313  GPS Logger: 20220120-141313  \n",
       "2              NaN                          NaN  \n",
       "3              NaN                          NaN  \n",
       "4              NaN                          NaN  "
      ]
     },
     "execution_count": 4,
     "metadata": {},
     "output_type": "execute_result"
    }
   ],
   "source": [
    "speed_data_path=\"C:\\\\Users\\\\AtteR\\\\Documents\\\\Capstone\\\\audio_processing\\\\speed_data_for_snow_20.1.-22.txt\"\n",
    "speed_data_df=pd.read_csv(speed_data_path)\n",
    "speed_data_df.head()"
   ]
  },
  {
   "cell_type": "code",
   "execution_count": 5,
   "id": "94182b23",
   "metadata": {},
   "outputs": [
    {
     "name": "stdout",
     "output_type": "stream",
     "text": [
      "3503\n"
     ]
    }
   ],
   "source": [
    "print(len(speed_data_df))"
   ]
  },
  {
   "cell_type": "code",
   "execution_count": 8,
   "id": "d800e05f",
   "metadata": {},
   "outputs": [
    {
     "name": "stdout",
     "output_type": "stream",
     "text": [
      "['C:\\\\Users\\\\AtteR\\\\Documents\\\\Capstone\\\\audio_processing\\\\Snow with speed\\\\2022_14_14_38-Jan-20.wav', 'C:\\\\Users\\\\AtteR\\\\Documents\\\\Capstone\\\\audio_processing\\\\Snow with speed\\\\2022_14_14_41-Jan-20.wav', 'C:\\\\Users\\\\AtteR\\\\Documents\\\\Capstone\\\\audio_processing\\\\Snow with speed\\\\2022_14_14_44-Jan-20.wav', 'C:\\\\Users\\\\AtteR\\\\Documents\\\\Capstone\\\\audio_processing\\\\Snow with speed\\\\2022_14_14_47-Jan-20.wav', 'C:\\\\Users\\\\AtteR\\\\Documents\\\\Capstone\\\\audio_processing\\\\Snow with speed\\\\2022_14_14_51-Jan-20.wav']\n"
     ]
    }
   ],
   "source": [
    "snow_data_path=\"C:\\\\Users\\\\AtteR\\\\Documents\\\\Capstone\\\\audio_processing\\\\Snow with speed\"\n",
    "snow_files=glob.glob(snow_data_path+\"/*.wav\")\n",
    "print(snow_files[0:5])"
   ]
  },
  {
   "cell_type": "code",
   "execution_count": null,
   "id": "aa74c576",
   "metadata": {},
   "outputs": [],
   "source": []
  }
 ],
 "metadata": {
  "kernelspec": {
   "display_name": "Python 3 (ipykernel)",
   "language": "python",
   "name": "python3"
  },
  "language_info": {
   "codemirror_mode": {
    "name": "ipython",
    "version": 3
   },
   "file_extension": ".py",
   "mimetype": "text/x-python",
   "name": "python",
   "nbconvert_exporter": "python",
   "pygments_lexer": "ipython3",
   "version": "3.9.7"
  }
 },
 "nbformat": 4,
 "nbformat_minor": 5
}
