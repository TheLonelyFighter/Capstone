{
 "cells": [
  {
   "cell_type": "code",
   "execution_count": 8,
   "id": "b7b716db",
   "metadata": {},
   "outputs": [],
   "source": [
    "#!pip install tsfel\n",
    "from tsfel.feature_extraction import features as tsfelf\n",
    "import numpy as np\n",
    "import os\n",
    "from scipy import signal\n",
    "import pandas as pd\n",
    "import glob\n",
    "import sklearn\n",
    "from scipy.io import wavfile\n",
    "from scipy.signal import decimate\n",
    "from sklearn.neighbors import KNeighborsClassifier\n",
    "from sklearn.metrics import plot_confusion_matrix\n",
    "from sklearn.model_selection import train_test_split\n",
    "from sklearn import preprocessing"
   ]
  },
  {
   "cell_type": "code",
   "execution_count": 9,
   "id": "409c7566",
   "metadata": {},
   "outputs": [],
   "source": [
    "source_samp_rate=44100\n",
    "decimation_factor = 4\n",
    "#actual samples per second. When we record 1 second of audio we get only something like 0.9 seconds because of the chunk size\n",
    "chunk=4096\n",
    "single_audio_frame_size=10*chunk"
   ]
  },
  {
   "cell_type": "markdown",
   "id": "6cd279b1",
   "metadata": {},
   "source": [
    "#Preprocessing.\n",
    "Filtration and feature extraction"
   ]
  },
  {
   "cell_type": "code",
   "execution_count": 10,
   "id": "d72f5a69",
   "metadata": {},
   "outputs": [],
   "source": [
    "def hpf(arr,fs,lf,order):\n",
    "    wbut = lf\n",
    "    bbut, abut = signal.butter(order,wbut, btype='highpass', fs=fs)\n",
    "    return signal.filtfilt(bbut, abut, arr)\n",
    "\n",
    "def get_features(sig,label,fs = 44100):\n",
    "    \n",
    "    s_f = hpf(sig, fs, 65, 2)\n",
    "\n",
    "    Zero_Cross = tsfelf.zero_cross(sig)\n",
    "    Zero_Cross_filt = tsfelf.zero_cross(s_f)\n",
    "            \n",
    "    Spectral_centroid = tsfelf.spectral_centroid(sig, fs)\n",
    "    Spectral_centroid_filt = tsfelf.spectral_centroid(s_f, fs)\n",
    "\n",
    "    Spectral_spread = tsfelf.spectral_spread(sig, fs)\n",
    "    Spectral_spread_filt = tsfelf.spectral_spread(s_f, fs) \n",
    "            \n",
    "    STD = np.std(sig)\n",
    "    STD_filt = np.std(s_f)\n",
    "    \n",
    "    RMS = tsfelf.rms(sig)\n",
    "    RMS_filt= tsfelf.rms(s_f)\n",
    "    \n",
    "    kurt_filt = tsfelf.kurtosis(s_f)\n",
    "    \n",
    "    return [label, RMS, RMS_filt, Zero_Cross, Zero_Cross_filt, Spectral_centroid, \n",
    "     Spectral_centroid_filt, Spectral_spread, Spectral_spread_filt, STD, STD_filt, kurt_filt]"
   ]
  },
  {
   "cell_type": "code",
   "execution_count": 18,
   "id": "ff0b3580",
   "metadata": {},
   "outputs": [],
   "source": [
    "def get_features_from_folder_10s_samples(folder_path,label,decimation_factor):\n",
    "    files=glob.glob(folder_path+\"/*.wav\")\n",
    "    print(label, len(files))\n",
    "    features_array = []\n",
    "    for file_path in files:\n",
    "        samplerate, sdata=wavfile.read(file_path)\n",
    "        decimated_data=decimate(sdata,decimation_factor)\n",
    "        sample1=decimated_data[0:int(single_audio_frame_size/decimation_factor*3)]\n",
    "        sample2=decimated_data[int(single_audio_frame_size/decimation_factor*3+1):int(single_audio_frame_size/decimation_factor*6+1)]\n",
    "        sample3=decimated_data[int(single_audio_frame_size/decimation_factor*6+2):int(single_audio_frame_size/decimation_factor*9+2)]\n",
    "        #print(len(sample1),len(sample2),len(sample3))\n",
    "        features1=get_features(sample1,label,samplerate/decimation_factor)\n",
    "        features2=get_features(sample2,label,samplerate/decimation_factor)\n",
    "        features3=get_features(sample3,label,samplerate/decimation_factor)\n",
    "        features_array.append(features1)\n",
    "        features_array.append(features2)\n",
    "        features_array.append(features3)\n",
    "    return features_array\n",
    "\n",
    "def get_features_from_folder_3s_samples(folder_path,label,decimation_factor):\n",
    "    print(label)\n",
    "    files=glob.glob(folder_path+\"/*.wav\")\n",
    "    print(len(files))\n",
    "    features_array = []\n",
    "    for file_path in files:\n",
    "        samplerate, sdata=wavfile.read(file_path)\n",
    "        decimated_data=decimate(sdata,decimation_factor)\n",
    "        sample1=decimated_data[0:int(single_audio_frame_size/decimation_factor*3)]\n",
    "        #print(len(sample1))\n",
    "        features1=get_features(sample1,label,samplerate/decimation_factor)\n",
    "        features_array.append(features1)\n",
    "        #print(features_array)\n",
    "    return features_array"
   ]
  },
  {
   "cell_type": "code",
   "execution_count": 20,
   "id": "3faf63c8",
   "metadata": {},
   "outputs": [
    {
     "name": "stdout",
     "output_type": "stream",
     "text": [
      "Snow\n",
      "724\n",
      "Wet asphalt\n",
      "186\n",
      "Dry asphalt\n",
      "207\n",
      "Dry gravel\n",
      "12\n"
     ]
    }
   ],
   "source": [
    "cwd = os.getcwd()\n",
    "wg_path = cwd+\"/Wet gravel\"\n",
    "dg_path = cwd+\"/Dry gravel\"\n",
    "dg2_path = cwd+\"/Dry gravel 09_03\"\n",
    "da_path = cwd+\"/Dry asphalt\"\n",
    "wa_path = cwd+\"/Wet asphalt\"\n",
    "da2_path = cwd+\"/Dry asphalt 09_03\"\n",
    "ice_path= cwd+\"/Ice\"\n",
    "snow_path = cwd+\"/Snow with speed\"\n",
    "wa2_path = cwd+\"/Wet asphalt 25.2\"\n",
    "wg_features=np.asarray(get_features_from_folder_10s_samples(wg_path,\"Wet gravel\",decimation_factor))\n",
    "dg_features=np.asarray(get_features_from_folder_10s_samples(dg_path,\"Dry gravel\",decimation_factor))\n",
    "da_features=np.asarray(get_features_from_folder_10s_samples(da_path,\"Dry asphalt\",decimation_factor))\n",
    "wa_features=np.asarray(get_features_from_folder_10s_samples(wa_path,\"Wet asphalt\",decimation_factor))\n",
    "ice_features=np.asarray(get_features_from_folder_10s_samples(ice_path,\"Ice\",decimation_factor))\n",
    "snow_features=np.asarray(get_features_from_folder_3s_samples(snow_path,\"Snow\",decimation_factor))\n",
    "wa2_features=np.asarray(get_features_from_folder_3s_samples(wa2_path,\"Wet asphalt\",decimation_factor))\n",
    "da2_features=np.asarray(get_features_from_folder_3s_samples(da2_path,\"Dry asphalt\",decimation_factor))\n",
    "dg2_features=np.asarray(get_features_from_folder_3s_samples(dg2_path,\"Dry gravel\",decimation_factor))"
   ]
  },
  {
   "cell_type": "code",
   "execution_count": 21,
   "id": "92ce3c03",
   "metadata": {},
   "outputs": [
    {
     "name": "stdout",
     "output_type": "stream",
     "text": [
      "93 246 1176 483 42 724 186 207 12\n"
     ]
    }
   ],
   "source": [
    "print(len(wg_features),len(dg_features),len(da_features),len(wa_features),len(ice_features),len(snow_features),len(wa2_features),len(da2_features),len(dg2_features))"
   ]
  },
  {
   "cell_type": "code",
   "execution_count": 22,
   "id": "5efbd1cc",
   "metadata": {},
   "outputs": [],
   "source": [
    "all_features=np.concatenate((wg_features,dg_features,da_features,wa_features,ice_features,snow_features,wa2_features,da2_features,dg2_features))"
   ]
  },
  {
   "cell_type": "code",
   "execution_count": 23,
   "id": "efe886fe",
   "metadata": {},
   "outputs": [
    {
     "data": {
      "text/html": [
       "<div>\n",
       "<style scoped>\n",
       "    .dataframe tbody tr th:only-of-type {\n",
       "        vertical-align: middle;\n",
       "    }\n",
       "\n",
       "    .dataframe tbody tr th {\n",
       "        vertical-align: top;\n",
       "    }\n",
       "\n",
       "    .dataframe thead th {\n",
       "        text-align: right;\n",
       "    }\n",
       "</style>\n",
       "<table border=\"1\" class=\"dataframe\">\n",
       "  <thead>\n",
       "    <tr style=\"text-align: right;\">\n",
       "      <th></th>\n",
       "      <th>Label</th>\n",
       "      <th>RMS</th>\n",
       "      <th>RMS_filt</th>\n",
       "      <th>Zero_Cross</th>\n",
       "      <th>Zero_Cross_filt</th>\n",
       "      <th>Spectral_centroid</th>\n",
       "      <th>Spectral_centroid_filt</th>\n",
       "      <th>Spectral_spread</th>\n",
       "      <th>Spectral_spread_filt</th>\n",
       "      <th>STD</th>\n",
       "      <th>STD_filt</th>\n",
       "      <th>kurt_filt</th>\n",
       "    </tr>\n",
       "  </thead>\n",
       "  <tbody>\n",
       "    <tr>\n",
       "      <th>0</th>\n",
       "      <td>Wet gravel</td>\n",
       "      <td>121.92391460938127</td>\n",
       "      <td>85.87118160323317</td>\n",
       "      <td>1120</td>\n",
       "      <td>1674</td>\n",
       "      <td>712.590499680659</td>\n",
       "      <td>812.0604470477313</td>\n",
       "      <td>900.8488695369704</td>\n",
       "      <td>920.8849937463609</td>\n",
       "      <td>121.92284557295439</td>\n",
       "      <td>85.8711724481287</td>\n",
       "      <td>-0.3624601373656495</td>\n",
       "    </tr>\n",
       "    <tr>\n",
       "      <th>1</th>\n",
       "      <td>Wet gravel</td>\n",
       "      <td>118.56077762961824</td>\n",
       "      <td>82.954566641256</td>\n",
       "      <td>1603</td>\n",
       "      <td>2353</td>\n",
       "      <td>836.8418452474989</td>\n",
       "      <td>959.8708169616173</td>\n",
       "      <td>1023.9019867604572</td>\n",
       "      <td>1052.362947659002</td>\n",
       "      <td>118.5597027287074</td>\n",
       "      <td>82.95455054014292</td>\n",
       "      <td>-0.06392442828365796</td>\n",
       "    </tr>\n",
       "    <tr>\n",
       "      <th>2</th>\n",
       "      <td>Wet gravel</td>\n",
       "      <td>143.70605958900202</td>\n",
       "      <td>105.4227313476053</td>\n",
       "      <td>3033</td>\n",
       "      <td>4376</td>\n",
       "      <td>1273.9581217320942</td>\n",
       "      <td>1420.2785316389406</td>\n",
       "      <td>1242.6124586103792</td>\n",
       "      <td>1233.8428115719548</td>\n",
       "      <td>143.7045981452574</td>\n",
       "      <td>105.42272665761868</td>\n",
       "      <td>0.18863861982081298</td>\n",
       "    </tr>\n",
       "    <tr>\n",
       "      <th>3</th>\n",
       "      <td>Wet gravel</td>\n",
       "      <td>180.74153438104145</td>\n",
       "      <td>133.43676214748328</td>\n",
       "      <td>3092</td>\n",
       "      <td>4087</td>\n",
       "      <td>1165.0997236240394</td>\n",
       "      <td>1327.8755292837186</td>\n",
       "      <td>1232.0124702293285</td>\n",
       "      <td>1235.471666105919</td>\n",
       "      <td>180.74103423541672</td>\n",
       "      <td>133.43675499075238</td>\n",
       "      <td>2.3686710438106395</td>\n",
       "    </tr>\n",
       "    <tr>\n",
       "      <th>4</th>\n",
       "      <td>Wet gravel</td>\n",
       "      <td>297.383142956495</td>\n",
       "      <td>233.13526339142138</td>\n",
       "      <td>4443</td>\n",
       "      <td>5729</td>\n",
       "      <td>1466.8412660916533</td>\n",
       "      <td>1608.260925200598</td>\n",
       "      <td>1333.4576797490986</td>\n",
       "      <td>1316.249909031341</td>\n",
       "      <td>297.3824295936254</td>\n",
       "      <td>233.13524493170874</td>\n",
       "      <td>1.4125485144263976</td>\n",
       "    </tr>\n",
       "  </tbody>\n",
       "</table>\n",
       "</div>"
      ],
      "text/plain": [
       "        Label                 RMS            RMS_filt Zero_Cross  \\\n",
       "0  Wet gravel  121.92391460938127   85.87118160323317       1120   \n",
       "1  Wet gravel  118.56077762961824     82.954566641256       1603   \n",
       "2  Wet gravel  143.70605958900202   105.4227313476053       3033   \n",
       "3  Wet gravel  180.74153438104145  133.43676214748328       3092   \n",
       "4  Wet gravel    297.383142956495  233.13526339142138       4443   \n",
       "\n",
       "  Zero_Cross_filt   Spectral_centroid Spectral_centroid_filt  \\\n",
       "0            1674    712.590499680659      812.0604470477313   \n",
       "1            2353   836.8418452474989      959.8708169616173   \n",
       "2            4376  1273.9581217320942     1420.2785316389406   \n",
       "3            4087  1165.0997236240394     1327.8755292837186   \n",
       "4            5729  1466.8412660916533      1608.260925200598   \n",
       "\n",
       "      Spectral_spread Spectral_spread_filt                 STD  \\\n",
       "0   900.8488695369704    920.8849937463609  121.92284557295439   \n",
       "1  1023.9019867604572    1052.362947659002   118.5597027287074   \n",
       "2  1242.6124586103792   1233.8428115719548   143.7045981452574   \n",
       "3  1232.0124702293285    1235.471666105919  180.74103423541672   \n",
       "4  1333.4576797490986    1316.249909031341   297.3824295936254   \n",
       "\n",
       "             STD_filt             kurt_filt  \n",
       "0    85.8711724481287   -0.3624601373656495  \n",
       "1   82.95455054014292  -0.06392442828365796  \n",
       "2  105.42272665761868   0.18863861982081298  \n",
       "3  133.43675499075238    2.3686710438106395  \n",
       "4  233.13524493170874    1.4125485144263976  "
      ]
     },
     "execution_count": 23,
     "metadata": {},
     "output_type": "execute_result"
    }
   ],
   "source": [
    "columnlist=[\"Label\",\"RMS\", \"RMS_filt\",\"Zero_Cross\", \"Zero_Cross_filt\", \"Spectral_centroid\", \"Spectral_centroid_filt\", \"Spectral_spread\", \\\n",
    "                        \"Spectral_spread_filt\", \"STD\", \"STD_filt\", \"kurt_filt\"]\n",
    "roadtype_features_df=pd.DataFrame(all_features,columns=columnlist)\n",
    "roadtype_features_df.head()"
   ]
  },
  {
   "cell_type": "code",
   "execution_count": 24,
   "id": "21bdb34b",
   "metadata": {},
   "outputs": [
    {
     "name": "stdout",
     "output_type": "stream",
     "text": [
      "3169\n",
      "3169\n"
     ]
    }
   ],
   "source": [
    "print(len(roadtype_features_df))\n",
    "roadtype_features_df = roadtype_features_df.dropna()\n",
    "print(len(roadtype_features_df))"
   ]
  },
  {
   "cell_type": "code",
   "execution_count": 25,
   "id": "4a315d74",
   "metadata": {},
   "outputs": [
    {
     "name": "stdout",
     "output_type": "stream",
     "text": [
      "3169\n"
     ]
    },
    {
     "data": {
      "text/html": [
       "<div>\n",
       "<style scoped>\n",
       "    .dataframe tbody tr th:only-of-type {\n",
       "        vertical-align: middle;\n",
       "    }\n",
       "\n",
       "    .dataframe tbody tr th {\n",
       "        vertical-align: top;\n",
       "    }\n",
       "\n",
       "    .dataframe thead th {\n",
       "        text-align: right;\n",
       "    }\n",
       "</style>\n",
       "<table border=\"1\" class=\"dataframe\">\n",
       "  <thead>\n",
       "    <tr style=\"text-align: right;\">\n",
       "      <th></th>\n",
       "      <th>RMS</th>\n",
       "      <th>RMS_filt</th>\n",
       "      <th>Zero_Cross</th>\n",
       "      <th>Zero_Cross_filt</th>\n",
       "      <th>Spectral_centroid</th>\n",
       "      <th>Spectral_centroid_filt</th>\n",
       "      <th>Spectral_spread</th>\n",
       "      <th>Spectral_spread_filt</th>\n",
       "      <th>STD</th>\n",
       "      <th>STD_filt</th>\n",
       "      <th>kurt_filt</th>\n",
       "    </tr>\n",
       "  </thead>\n",
       "  <tbody>\n",
       "    <tr>\n",
       "      <th>0</th>\n",
       "      <td>121.92391460938127</td>\n",
       "      <td>85.87118160323317</td>\n",
       "      <td>1120</td>\n",
       "      <td>1674</td>\n",
       "      <td>712.590499680659</td>\n",
       "      <td>812.0604470477313</td>\n",
       "      <td>900.8488695369704</td>\n",
       "      <td>920.8849937463609</td>\n",
       "      <td>121.92284557295439</td>\n",
       "      <td>85.8711724481287</td>\n",
       "      <td>-0.3624601373656495</td>\n",
       "    </tr>\n",
       "    <tr>\n",
       "      <th>1</th>\n",
       "      <td>118.56077762961824</td>\n",
       "      <td>82.954566641256</td>\n",
       "      <td>1603</td>\n",
       "      <td>2353</td>\n",
       "      <td>836.8418452474989</td>\n",
       "      <td>959.8708169616173</td>\n",
       "      <td>1023.9019867604572</td>\n",
       "      <td>1052.362947659002</td>\n",
       "      <td>118.5597027287074</td>\n",
       "      <td>82.95455054014292</td>\n",
       "      <td>-0.06392442828365796</td>\n",
       "    </tr>\n",
       "    <tr>\n",
       "      <th>2</th>\n",
       "      <td>143.70605958900202</td>\n",
       "      <td>105.4227313476053</td>\n",
       "      <td>3033</td>\n",
       "      <td>4376</td>\n",
       "      <td>1273.9581217320942</td>\n",
       "      <td>1420.2785316389406</td>\n",
       "      <td>1242.6124586103792</td>\n",
       "      <td>1233.8428115719548</td>\n",
       "      <td>143.7045981452574</td>\n",
       "      <td>105.42272665761868</td>\n",
       "      <td>0.18863861982081298</td>\n",
       "    </tr>\n",
       "    <tr>\n",
       "      <th>3</th>\n",
       "      <td>180.74153438104145</td>\n",
       "      <td>133.43676214748328</td>\n",
       "      <td>3092</td>\n",
       "      <td>4087</td>\n",
       "      <td>1165.0997236240394</td>\n",
       "      <td>1327.8755292837186</td>\n",
       "      <td>1232.0124702293285</td>\n",
       "      <td>1235.471666105919</td>\n",
       "      <td>180.74103423541672</td>\n",
       "      <td>133.43675499075238</td>\n",
       "      <td>2.3686710438106395</td>\n",
       "    </tr>\n",
       "    <tr>\n",
       "      <th>4</th>\n",
       "      <td>297.383142956495</td>\n",
       "      <td>233.13526339142138</td>\n",
       "      <td>4443</td>\n",
       "      <td>5729</td>\n",
       "      <td>1466.8412660916533</td>\n",
       "      <td>1608.260925200598</td>\n",
       "      <td>1333.4576797490986</td>\n",
       "      <td>1316.249909031341</td>\n",
       "      <td>297.3824295936254</td>\n",
       "      <td>233.13524493170874</td>\n",
       "      <td>1.4125485144263976</td>\n",
       "    </tr>\n",
       "  </tbody>\n",
       "</table>\n",
       "</div>"
      ],
      "text/plain": [
       "                  RMS            RMS_filt Zero_Cross Zero_Cross_filt  \\\n",
       "0  121.92391460938127   85.87118160323317       1120            1674   \n",
       "1  118.56077762961824     82.954566641256       1603            2353   \n",
       "2  143.70605958900202   105.4227313476053       3033            4376   \n",
       "3  180.74153438104145  133.43676214748328       3092            4087   \n",
       "4    297.383142956495  233.13526339142138       4443            5729   \n",
       "\n",
       "    Spectral_centroid Spectral_centroid_filt     Spectral_spread  \\\n",
       "0    712.590499680659      812.0604470477313   900.8488695369704   \n",
       "1   836.8418452474989      959.8708169616173  1023.9019867604572   \n",
       "2  1273.9581217320942     1420.2785316389406  1242.6124586103792   \n",
       "3  1165.0997236240394     1327.8755292837186  1232.0124702293285   \n",
       "4  1466.8412660916533      1608.260925200598  1333.4576797490986   \n",
       "\n",
       "  Spectral_spread_filt                 STD            STD_filt  \\\n",
       "0    920.8849937463609  121.92284557295439    85.8711724481287   \n",
       "1    1052.362947659002   118.5597027287074   82.95455054014292   \n",
       "2   1233.8428115719548   143.7045981452574  105.42272665761868   \n",
       "3    1235.471666105919  180.74103423541672  133.43675499075238   \n",
       "4    1316.249909031341   297.3824295936254  233.13524493170874   \n",
       "\n",
       "              kurt_filt  \n",
       "0   -0.3624601373656495  \n",
       "1  -0.06392442828365796  \n",
       "2   0.18863861982081298  \n",
       "3    2.3686710438106395  \n",
       "4    1.4125485144263976  "
      ]
     },
     "execution_count": 25,
     "metadata": {},
     "output_type": "execute_result"
    }
   ],
   "source": [
    "y=roadtype_features_df[\"Label\"]\n",
    "print(len(y))\n",
    "features=[\"RMS\", \"RMS_filt\",\"Zero_Cross\", \"Zero_Cross_filt\", \"Spectral_centroid\", \"Spectral_centroid_filt\", \"Spectral_spread\", \\\n",
    "                        \"Spectral_spread_filt\", \"STD\", \"STD_filt\", \"kurt_filt\"]\n",
    "X=roadtype_features_df[features]\n",
    "X.head()"
   ]
  },
  {
   "cell_type": "code",
   "execution_count": 26,
   "id": "8fa244b0",
   "metadata": {},
   "outputs": [],
   "source": [
    "x_train, x_test, y_train, y_test = train_test_split(X, y, test_size=0.33, random_state=42, shuffle=True, stratify=y)"
   ]
  },
  {
   "cell_type": "code",
   "execution_count": 29,
   "id": "0321e452",
   "metadata": {},
   "outputs": [
    {
     "name": "stdout",
     "output_type": "stream",
     "text": [
      "KNN confusion matrix\n"
     ]
    },
    {
     "name": "stderr",
     "output_type": "stream",
     "text": [
      "C:\\Users\\AtteR\\AppData\\Local\\Packages\\PythonSoftwareFoundation.Python.3.9_qbz5n2kfra8p0\\LocalCache\\local-packages\\Python39\\site-packages\\sklearn\\utils\\deprecation.py:87: FutureWarning: Function plot_confusion_matrix is deprecated; Function `plot_confusion_matrix` is deprecated in 1.0 and will be removed in 1.2. Use one of the class methods: ConfusionMatrixDisplay.from_predictions or ConfusionMatrixDisplay.from_estimator.\n",
      "  warnings.warn(msg, category=FutureWarning)\n"
     ]
    },
    {
     "data": {
      "text/plain": [
       "<sklearn.metrics._plot.confusion_matrix.ConfusionMatrixDisplay at 0x1c1cec51970>"
      ]
     },
     "execution_count": 29,
     "metadata": {},
     "output_type": "execute_result"
    },
    {
     "data": {
      "image/png": "[encoded data removed]",
      "text/plain": [
       "<Figure size 432x288 with 2 Axes>"
      ]
     },
     "metadata": {
      "needs_background": "light"
     },
     "output_type": "display_data"
    }
   ],
   "source": [
    "knn = KNeighborsClassifier(n_neighbors=3)\n",
    "knn.fit(x_train, y_train)\n",
    "y_pred_knn = knn.predict(x_test)\n",
    "print(\"KNN confusion matrix\")\n",
    "plot_confusion_matrix(knn, x_test, y_test)\n"
   ]
  },
  {
   "cell_type": "code",
   "execution_count": 30,
   "id": "8c7f4c6c",
   "metadata": {},
   "outputs": [
    {
     "name": "stdout",
     "output_type": "stream",
     "text": [
      "0.858508604206501\n"
     ]
    }
   ],
   "source": [
    "trues=0\n",
    "for true,pred in zip(y_test,y_pred_knn):\n",
    "    if(true==pred):\n",
    "        trues=trues+1\n",
    "print(trues/len(y_test))"
   ]
  },
  {
   "cell_type": "markdown",
   "id": "43e23dc6",
   "metadata": {},
   "source": [
    "Let's do some scaling"
   ]
  },
  {
   "cell_type": "code",
   "execution_count": 31,
   "id": "e207c2f6",
   "metadata": {},
   "outputs": [
    {
     "data": {
      "text/html": [
       "<div>\n",
       "<style scoped>\n",
       "    .dataframe tbody tr th:only-of-type {\n",
       "        vertical-align: middle;\n",
       "    }\n",
       "\n",
       "    .dataframe tbody tr th {\n",
       "        vertical-align: top;\n",
       "    }\n",
       "\n",
       "    .dataframe thead th {\n",
       "        text-align: right;\n",
       "    }\n",
       "</style>\n",
       "<table border=\"1\" class=\"dataframe\">\n",
       "  <thead>\n",
       "    <tr style=\"text-align: right;\">\n",
       "      <th></th>\n",
       "      <th>Label</th>\n",
       "      <th>RMS</th>\n",
       "      <th>RMS_filt</th>\n",
       "      <th>Zero_Cross</th>\n",
       "      <th>Zero_Cross_filt</th>\n",
       "      <th>Spectral_centroid</th>\n",
       "      <th>Spectral_centroid_filt</th>\n",
       "      <th>Spectral_spread</th>\n",
       "      <th>Spectral_spread_filt</th>\n",
       "      <th>STD</th>\n",
       "      <th>STD_filt</th>\n",
       "      <th>kurt_filt</th>\n",
       "    </tr>\n",
       "  </thead>\n",
       "  <tbody>\n",
       "    <tr>\n",
       "      <th>0</th>\n",
       "      <td>Wet gravel</td>\n",
       "      <td>-1.125801</td>\n",
       "      <td>-1.078709</td>\n",
       "      <td>-1.694441</td>\n",
       "      <td>-1.705003</td>\n",
       "      <td>-1.131146</td>\n",
       "      <td>-1.103693</td>\n",
       "      <td>-0.062070</td>\n",
       "      <td>0.178363</td>\n",
       "      <td>-1.125801</td>\n",
       "      <td>-1.078709</td>\n",
       "      <td>-0.214044</td>\n",
       "    </tr>\n",
       "    <tr>\n",
       "      <th>1</th>\n",
       "      <td>Wet gravel</td>\n",
       "      <td>-1.126435</td>\n",
       "      <td>-1.079290</td>\n",
       "      <td>-1.458059</td>\n",
       "      <td>-1.364402</td>\n",
       "      <td>-0.737083</td>\n",
       "      <td>-0.618022</td>\n",
       "      <td>0.918959</td>\n",
       "      <td>1.242867</td>\n",
       "      <td>-1.126435</td>\n",
       "      <td>-1.079290</td>\n",
       "      <td>-0.189545</td>\n",
       "    </tr>\n",
       "    <tr>\n",
       "      <th>2</th>\n",
       "      <td>Wet gravel</td>\n",
       "      <td>-1.121699</td>\n",
       "      <td>-1.074818</td>\n",
       "      <td>-0.758211</td>\n",
       "      <td>-0.349620</td>\n",
       "      <td>0.649228</td>\n",
       "      <td>0.894772</td>\n",
       "      <td>2.662608</td>\n",
       "      <td>2.712209</td>\n",
       "      <td>-1.121699</td>\n",
       "      <td>-1.074818</td>\n",
       "      <td>-0.168818</td>\n",
       "    </tr>\n",
       "    <tr>\n",
       "      <th>3</th>\n",
       "      <td>Wet gravel</td>\n",
       "      <td>-1.114723</td>\n",
       "      <td>-1.069242</td>\n",
       "      <td>-0.729336</td>\n",
       "      <td>-0.494589</td>\n",
       "      <td>0.303984</td>\n",
       "      <td>0.591157</td>\n",
       "      <td>2.578100</td>\n",
       "      <td>2.725397</td>\n",
       "      <td>-1.114723</td>\n",
       "      <td>-1.069242</td>\n",
       "      <td>0.010090</td>\n",
       "    </tr>\n",
       "    <tr>\n",
       "      <th>4</th>\n",
       "      <td>Wet gravel</td>\n",
       "      <td>-1.092754</td>\n",
       "      <td>-1.049399</td>\n",
       "      <td>-0.068150</td>\n",
       "      <td>0.329075</td>\n",
       "      <td>1.260955</td>\n",
       "      <td>1.512439</td>\n",
       "      <td>3.386863</td>\n",
       "      <td>3.379414</td>\n",
       "      <td>-1.092754</td>\n",
       "      <td>-1.049399</td>\n",
       "      <td>-0.068376</td>\n",
       "    </tr>\n",
       "  </tbody>\n",
       "</table>\n",
       "</div>"
      ],
      "text/plain": [
       "        Label       RMS  RMS_filt  Zero_Cross  Zero_Cross_filt  \\\n",
       "0  Wet gravel -1.125801 -1.078709   -1.694441        -1.705003   \n",
       "1  Wet gravel -1.126435 -1.079290   -1.458059        -1.364402   \n",
       "2  Wet gravel -1.121699 -1.074818   -0.758211        -0.349620   \n",
       "3  Wet gravel -1.114723 -1.069242   -0.729336        -0.494589   \n",
       "4  Wet gravel -1.092754 -1.049399   -0.068150         0.329075   \n",
       "\n",
       "   Spectral_centroid  Spectral_centroid_filt  Spectral_spread  \\\n",
       "0          -1.131146               -1.103693        -0.062070   \n",
       "1          -0.737083               -0.618022         0.918959   \n",
       "2           0.649228                0.894772         2.662608   \n",
       "3           0.303984                0.591157         2.578100   \n",
       "4           1.260955                1.512439         3.386863   \n",
       "\n",
       "   Spectral_spread_filt       STD  STD_filt  kurt_filt  \n",
       "0              0.178363 -1.125801 -1.078709  -0.214044  \n",
       "1              1.242867 -1.126435 -1.079290  -0.189545  \n",
       "2              2.712209 -1.121699 -1.074818  -0.168818  \n",
       "3              2.725397 -1.114723 -1.069242   0.010090  \n",
       "4              3.379414 -1.092754 -1.049399  -0.068376  "
      ]
     },
     "execution_count": 31,
     "metadata": {},
     "output_type": "execute_result"
    }
   ],
   "source": [
    "scaled_df=roadtype_features_df.copy()\n",
    "scaler = preprocessing.StandardScaler()\n",
    "scaled_df[features]=scaler.fit_transform(scaled_df[features])\n",
    "scaled_df.head()"
   ]
  },
  {
   "cell_type": "code",
   "execution_count": 32,
   "id": "eb292bb8",
   "metadata": {},
   "outputs": [
    {
     "name": "stdout",
     "output_type": "stream",
     "text": [
      "KNN_with_scaling confusion matrix\n"
     ]
    },
    {
     "name": "stderr",
     "output_type": "stream",
     "text": [
      "C:\\Users\\AtteR\\AppData\\Local\\Packages\\PythonSoftwareFoundation.Python.3.9_qbz5n2kfra8p0\\LocalCache\\local-packages\\Python39\\site-packages\\sklearn\\utils\\deprecation.py:87: FutureWarning: Function plot_confusion_matrix is deprecated; Function `plot_confusion_matrix` is deprecated in 1.0 and will be removed in 1.2. Use one of the class methods: ConfusionMatrixDisplay.from_predictions or ConfusionMatrixDisplay.from_estimator.\n",
      "  warnings.warn(msg, category=FutureWarning)\n"
     ]
    },
    {
     "data": {
      "text/plain": [
       "<sklearn.metrics._plot.confusion_matrix.ConfusionMatrixDisplay at 0x1c1981141c0>"
      ]
     },
     "execution_count": 32,
     "metadata": {},
     "output_type": "execute_result"
    },
    {
     "data": {
      "image/png": "[encoded data removed]",
      "text/plain": [
       "<Figure size 432x288 with 2 Axes>"
      ]
     },
     "metadata": {
      "needs_background": "light"
     },
     "output_type": "display_data"
    }
   ],
   "source": [
    "y=scaled_df[\"Label\"]\n",
    "X=scaled_df[features]\n",
    "x_train, x_test, y_train, y_test = train_test_split(X, y, test_size=0.33, random_state=42, shuffle=True, stratify=y)\n",
    "knn_with_scaling = KNeighborsClassifier(n_neighbors=3)\n",
    "knn_with_scaling.fit(x_train, y_train)\n",
    "y_pred_knn = knn_with_scaling.predict(x_test)\n",
    "print(\"KNN_with_scaling confusion matrix\")\n",
    "plot_confusion_matrix(knn_with_scaling, x_test, y_test)"
   ]
  },
  {
   "cell_type": "code",
   "execution_count": 33,
   "id": "a0f1cfe1",
   "metadata": {},
   "outputs": [
    {
     "name": "stdout",
     "output_type": "stream",
     "text": [
      "0.8852772466539197\n"
     ]
    }
   ],
   "source": [
    "trues=0\n",
    "for true,pred in zip(y_test,y_pred_knn):\n",
    "    if(true==pred):\n",
    "        trues=trues+1\n",
    "print(trues/len(y_test))"
   ]
  },
  {
   "cell_type": "code",
   "execution_count": 34,
   "id": "41903e4e",
   "metadata": {},
   "outputs": [],
   "source": [
    "filename=\"df-\"+str(decimation_factor)+\"_wl-3s_\"+\"09.03.2022.csv\"\n",
    "roadtype_features_df.to_csv(filename,index=False)"
   ]
  },
  {
   "cell_type": "code",
   "execution_count": null,
   "id": "e9578737",
   "metadata": {},
   "outputs": [],
   "source": []
  }
 ],
 "metadata": {
  "kernelspec": {
   "display_name": "Python 3",
   "language": "python",
   "name": "python3"
  },
  "language_info": {
   "codemirror_mode": {
    "name": "ipython",
    "version": 3
   },
   "file_extension": ".py",
   "mimetype": "text/x-python",
   "name": "python",
   "nbconvert_exporter": "python",
   "pygments_lexer": "ipython3",
   "version": "3.9.10"
  }
 },
 "nbformat": 4,
 "nbformat_minor": 5
}
