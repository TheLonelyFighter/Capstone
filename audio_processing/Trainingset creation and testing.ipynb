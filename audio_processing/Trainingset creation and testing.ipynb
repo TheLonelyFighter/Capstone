{
 "cells": [
  {
   "cell_type": "code",
   "execution_count": 1,
   "id": "ed98bbd2",
   "metadata": {},
   "outputs": [],
   "source": [
    "#!pip install tsfel\n",
    "from tsfel.feature_extraction import features as tsfelf\n",
    "import numpy as np\n",
    "from scipy import signal\n",
    "import pandas as pd\n",
    "import glob\n",
    "import sklearn\n",
    "from scipy.io import wavfile\n",
    "from scipy.signal import decimate\n",
    "from sklearn.neighbors import KNeighborsClassifier\n",
    "from sklearn.metrics import plot_confusion_matrix\n",
    "from sklearn.model_selection import train_test_split\n",
    "from sklearn import preprocessing"
   ]
  },
  {
   "cell_type": "code",
   "execution_count": 2,
   "id": "e0380ed8",
   "metadata": {},
   "outputs": [],
   "source": [
    "source_samp_rate=44100\n",
    "decimation_factor = 4"
   ]
  },
  {
   "cell_type": "markdown",
   "id": "1658d6b4",
   "metadata": {},
   "source": [
    "#Preprocessing.\n",
    "Filtration and feature extraction"
   ]
  },
  {
   "cell_type": "code",
   "execution_count": 3,
   "id": "33a325ee",
   "metadata": {},
   "outputs": [],
   "source": [
    "def hpf(arr,fs,lf,order):\n",
    "    wbut = lf\n",
    "    bbut, abut = signal.butter(order,wbut, btype='highpass', fs=fs)\n",
    "    return signal.filtfilt(bbut, abut, arr)\n",
    "\n",
    "def get_features(sig,label,fs = 44100):\n",
    "    \n",
    "    features = [\"RMS\", \"RMS_filt\", \"Spectral_centroid\", \"Spectral_centroid_filt\",\\\n",
    "                \"Zero-Cross\", \"Zero-Cross_filt\", \"Spectral_slope\", \\\n",
    "                    \"Spectral_slope_filt\", \"Spectral_spread\", \\\n",
    "                        \"Spectral_spread_filt\", \"STD\", \"STD_filt\"]\n",
    "\n",
    "        \n",
    "    s_f = hpf(sig, fs, 65, 2)\n",
    "    RMS = tsfelf.rms(sig)\n",
    "    RMS_filt= tsfelf.rms(s_f)\n",
    "    \n",
    "    Zero_Cross = tsfelf.zero_cross(sig)\n",
    "    Zero_Cross_filt = tsfelf.zero_cross(s_f)\n",
    "            \n",
    "    Spectral_centroid = tsfelf.spectral_centroid(sig, fs)\n",
    "    Spectral_centroid_filt = tsfelf.spectral_centroid(s_f, fs)\n",
    "            \n",
    "    Spectral_slope = tsfelf.spectral_slope(sig, fs)\n",
    "    Spectral_slope_filt = tsfelf.spectral_slope(s_f, fs) \n",
    "            \n",
    "    Spectral_spread = tsfelf.spectral_spread(sig, fs)\n",
    "    Spectral_spread_filt = tsfelf.spectral_spread(s_f, fs) \n",
    "            \n",
    "    STD = np.std(sig)\n",
    "            \n",
    "    STD_filt = np.std(s_f)\n",
    "\n",
    "    return [label, RMS, RMS_filt, Zero_Cross, Zero_Cross_filt, Spectral_centroid, \n",
    "     Spectral_centroid_filt,Spectral_slope, Spectral_slope_filt, Spectral_spread, Spectral_spread_filt,  \n",
    "      STD, STD_filt]"
   ]
  },
  {
   "cell_type": "code",
   "execution_count": null,
   "id": "73c98681",
   "metadata": {},
   "outputs": [],
   "source": []
  },
  {
   "cell_type": "code",
   "execution_count": null,
   "id": "31c8936f",
   "metadata": {},
   "outputs": [],
   "source": []
  },
  {
   "cell_type": "code",
   "execution_count": null,
   "id": "c9210604",
   "metadata": {},
   "outputs": [],
   "source": []
  },
  {
   "cell_type": "code",
   "execution_count": null,
   "id": "1035084f",
   "metadata": {},
   "outputs": [],
   "source": [
    "\n",
    "    "
   ]
  },
  {
   "cell_type": "code",
   "execution_count": null,
   "id": "b2ddc4b2",
   "metadata": {},
   "outputs": [],
   "source": []
  },
  {
   "cell_type": "code",
   "execution_count": 4,
   "id": "f38bebdd",
   "metadata": {},
   "outputs": [],
   "source": [
    "def get_features_from_folder(folder_path,label,decimation_factor):\n",
    "    files=glob.glob(folder_path+\"/*.wav\")\n",
    "    print(files)\n",
    "    features_array = []\n",
    "    for file_path in files:\n",
    "        samplerate, sdata=wavfile.read(file_path)\n",
    "        decimated_data=decimate(sdata,decimation_factor)\n",
    "        sample1=decimated_data[0:int(samplerate/decimation_factor*3-1)]\n",
    "        sample2=decimated_data[int(samplerate/decimation_factor*3):int(samplerate/decimation_factor*6-1)]\n",
    "        sample3=decimated_data[int(samplerate/decimation_factor*6):int(samplerate/decimation_factor*9-1)]\n",
    "        features1=get_features(sample1,label,samplerate/decimation_factor)\n",
    "        features2=get_features(sample2,label,samplerate/decimation_factor)\n",
    "        features3=get_features(sample3,label,samplerate/decimation_factor)\n",
    "        features_array.append(features1)\n",
    "        features_array.append(features2)\n",
    "        features_array.append(features3)\n",
    "    return features_array\n"
   ]
  },
  {
   "cell_type": "code",
   "execution_count": 5,
   "id": "cf5cf162",
   "metadata": {},
   "outputs": [
    {
     "name": "stdout",
     "output_type": "stream",
     "text": [
      "['C:\\\\Users\\\\AtteR\\\\Desktop\\\\Wet gravel\\\\2021_14_51_45-Nov-10.wav', 'C:\\\\Users\\\\AtteR\\\\Desktop\\\\Wet gravel\\\\2021_14_51_56-Nov-10.wav', 'C:\\\\Users\\\\AtteR\\\\Desktop\\\\Wet gravel\\\\2021_14_52_06-Nov-10.wav', 'C:\\\\Users\\\\AtteR\\\\Desktop\\\\Wet gravel\\\\2021_14_52_16-Nov-10.wav', 'C:\\\\Users\\\\AtteR\\\\Desktop\\\\Wet gravel\\\\2021_14_52_26-Nov-10.wav', 'C:\\\\Users\\\\AtteR\\\\Desktop\\\\Wet gravel\\\\2021_14_52_36-Nov-10.wav', 'C:\\\\Users\\\\AtteR\\\\Desktop\\\\Wet gravel\\\\2021_14_52_47-Nov-10.wav', 'C:\\\\Users\\\\AtteR\\\\Desktop\\\\Wet gravel\\\\2021_14_52_57-Nov-10.wav', 'C:\\\\Users\\\\AtteR\\\\Desktop\\\\Wet gravel\\\\2021_14_53_07-Nov-10.wav', 'C:\\\\Users\\\\AtteR\\\\Desktop\\\\Wet gravel\\\\2021_14_53_17-Nov-10.wav', 'C:\\\\Users\\\\AtteR\\\\Desktop\\\\Wet gravel\\\\2021_14_53_27-Nov-10.wav', 'C:\\\\Users\\\\AtteR\\\\Desktop\\\\Wet gravel\\\\2021_15_04_50-Nov-10.wav', 'C:\\\\Users\\\\AtteR\\\\Desktop\\\\Wet gravel\\\\2021_15_05_00-Nov-10.wav', 'C:\\\\Users\\\\AtteR\\\\Desktop\\\\Wet gravel\\\\2021_15_05_10-Nov-10.wav', 'C:\\\\Users\\\\AtteR\\\\Desktop\\\\Wet gravel\\\\2021_15_05_21-Nov-10.wav', 'C:\\\\Users\\\\AtteR\\\\Desktop\\\\Wet gravel\\\\2021_15_05_31-Nov-10.wav', 'C:\\\\Users\\\\AtteR\\\\Desktop\\\\Wet gravel\\\\2021_15_05_41-Nov-10.wav', 'C:\\\\Users\\\\AtteR\\\\Desktop\\\\Wet gravel\\\\2021_15_05_51-Nov-10.wav', 'C:\\\\Users\\\\AtteR\\\\Desktop\\\\Wet gravel\\\\2021_15_06_01-Nov-10.wav', 'C:\\\\Users\\\\AtteR\\\\Desktop\\\\Wet gravel\\\\2021_15_06_12-Nov-10.wav', 'C:\\\\Users\\\\AtteR\\\\Desktop\\\\Wet gravel\\\\2021_15_06_22-Nov-10.wav', 'C:\\\\Users\\\\AtteR\\\\Desktop\\\\Wet gravel\\\\2021_15_06_32-Nov-10.wav', 'C:\\\\Users\\\\AtteR\\\\Desktop\\\\Wet gravel\\\\2021_15_06_42-Nov-10.wav', 'C:\\\\Users\\\\AtteR\\\\Desktop\\\\Wet gravel\\\\2021_15_06_52-Nov-10.wav', 'C:\\\\Users\\\\AtteR\\\\Desktop\\\\Wet gravel\\\\2021_15_07_03-Nov-10.wav', 'C:\\\\Users\\\\AtteR\\\\Desktop\\\\Wet gravel\\\\2021_15_07_13-Nov-10.wav', 'C:\\\\Users\\\\AtteR\\\\Desktop\\\\Wet gravel\\\\2021_15_07_23-Nov-10.wav', 'C:\\\\Users\\\\AtteR\\\\Desktop\\\\Wet gravel\\\\2021_15_07_33-Nov-10.wav', 'C:\\\\Users\\\\AtteR\\\\Desktop\\\\Wet gravel\\\\2021_15_07_43-Nov-10.wav', 'C:\\\\Users\\\\AtteR\\\\Desktop\\\\Wet gravel\\\\2021_15_07_54-Nov-10.wav', 'C:\\\\Users\\\\AtteR\\\\Desktop\\\\Wet gravel\\\\2021_15_08_04-Nov-10.wav']\n",
      "['C:\\\\Users\\\\AtteR\\\\Desktop\\\\Dry gravel\\\\2021_11_08_52-Nov-22.wav', 'C:\\\\Users\\\\AtteR\\\\Desktop\\\\Dry gravel\\\\2021_11_09_01-Nov-22.wav', 'C:\\\\Users\\\\AtteR\\\\Desktop\\\\Dry gravel\\\\2021_11_09_11-Nov-22.wav', 'C:\\\\Users\\\\AtteR\\\\Desktop\\\\Dry gravel\\\\2021_11_09_20-Nov-22.wav', 'C:\\\\Users\\\\AtteR\\\\Desktop\\\\Dry gravel\\\\2021_11_09_30-Nov-22.wav', 'C:\\\\Users\\\\AtteR\\\\Desktop\\\\Dry gravel\\\\2021_11_09_40-Nov-22.wav', 'C:\\\\Users\\\\AtteR\\\\Desktop\\\\Dry gravel\\\\2021_11_09_49-Nov-22.wav', 'C:\\\\Users\\\\AtteR\\\\Desktop\\\\Dry gravel\\\\2021_11_09_59-Nov-22.wav', 'C:\\\\Users\\\\AtteR\\\\Desktop\\\\Dry gravel\\\\2021_11_10_09-Nov-22.wav', 'C:\\\\Users\\\\AtteR\\\\Desktop\\\\Dry gravel\\\\2021_11_10_18-Nov-22.wav', 'C:\\\\Users\\\\AtteR\\\\Desktop\\\\Dry gravel\\\\2021_11_10_28-Nov-22.wav', 'C:\\\\Users\\\\AtteR\\\\Desktop\\\\Dry gravel\\\\2021_11_10_37-Nov-22.wav', 'C:\\\\Users\\\\AtteR\\\\Desktop\\\\Dry gravel\\\\2021_11_10_47-Nov-22.wav', 'C:\\\\Users\\\\AtteR\\\\Desktop\\\\Dry gravel\\\\2021_11_10_57-Nov-22.wav', 'C:\\\\Users\\\\AtteR\\\\Desktop\\\\Dry gravel\\\\2021_11_11_06-Nov-22.wav', 'C:\\\\Users\\\\AtteR\\\\Desktop\\\\Dry gravel\\\\2021_11_11_16-Nov-22.wav', 'C:\\\\Users\\\\AtteR\\\\Desktop\\\\Dry gravel\\\\2021_11_11_26-Nov-22.wav', 'C:\\\\Users\\\\AtteR\\\\Desktop\\\\Dry gravel\\\\2021_11_11_35-Nov-22.wav', 'C:\\\\Users\\\\AtteR\\\\Desktop\\\\Dry gravel\\\\2021_11_11_45-Nov-22.wav', 'C:\\\\Users\\\\AtteR\\\\Desktop\\\\Dry gravel\\\\2021_11_11_55-Nov-22.wav', 'C:\\\\Users\\\\AtteR\\\\Desktop\\\\Dry gravel\\\\2021_11_12_04-Nov-22.wav', 'C:\\\\Users\\\\AtteR\\\\Desktop\\\\Dry gravel\\\\2021_11_12_14-Nov-22.wav', 'C:\\\\Users\\\\AtteR\\\\Desktop\\\\Dry gravel\\\\2021_11_12_23-Nov-22.wav', 'C:\\\\Users\\\\AtteR\\\\Desktop\\\\Dry gravel\\\\2021_11_12_33-Nov-22.wav', 'C:\\\\Users\\\\AtteR\\\\Desktop\\\\Dry gravel\\\\2021_11_12_43-Nov-22.wav', 'C:\\\\Users\\\\AtteR\\\\Desktop\\\\Dry gravel\\\\2021_11_12_52-Nov-22.wav', 'C:\\\\Users\\\\AtteR\\\\Desktop\\\\Dry gravel\\\\2021_11_13_02-Nov-22.wav', 'C:\\\\Users\\\\AtteR\\\\Desktop\\\\Dry gravel\\\\2021_11_13_12-Nov-22.wav', 'C:\\\\Users\\\\AtteR\\\\Desktop\\\\Dry gravel\\\\2021_11_13_21-Nov-22.wav', 'C:\\\\Users\\\\AtteR\\\\Desktop\\\\Dry gravel\\\\2021_11_13_31-Nov-22.wav', 'C:\\\\Users\\\\AtteR\\\\Desktop\\\\Dry gravel\\\\2021_11_13_41-Nov-22.wav', 'C:\\\\Users\\\\AtteR\\\\Desktop\\\\Dry gravel\\\\2021_11_13_50-Nov-22.wav', 'C:\\\\Users\\\\AtteR\\\\Desktop\\\\Dry gravel\\\\2021_11_14_00-Nov-22.wav', 'C:\\\\Users\\\\AtteR\\\\Desktop\\\\Dry gravel\\\\2021_11_14_09-Nov-22.wav', 'C:\\\\Users\\\\AtteR\\\\Desktop\\\\Dry gravel\\\\2021_11_14_19-Nov-22.wav', 'C:\\\\Users\\\\AtteR\\\\Desktop\\\\Dry gravel\\\\2021_11_14_29-Nov-22.wav', 'C:\\\\Users\\\\AtteR\\\\Desktop\\\\Dry gravel\\\\2021_11_23_09-Nov-22.wav', 'C:\\\\Users\\\\AtteR\\\\Desktop\\\\Dry gravel\\\\2021_11_23_19-Nov-22.wav', 'C:\\\\Users\\\\AtteR\\\\Desktop\\\\Dry gravel\\\\2021_11_23_28-Nov-22.wav', 'C:\\\\Users\\\\AtteR\\\\Desktop\\\\Dry gravel\\\\2021_11_23_38-Nov-22.wav', 'C:\\\\Users\\\\AtteR\\\\Desktop\\\\Dry gravel\\\\2021_11_23_47-Nov-22.wav', 'C:\\\\Users\\\\AtteR\\\\Desktop\\\\Dry gravel\\\\2021_11_23_57-Nov-22.wav', 'C:\\\\Users\\\\AtteR\\\\Desktop\\\\Dry gravel\\\\2021_11_24_07-Nov-22.wav', 'C:\\\\Users\\\\AtteR\\\\Desktop\\\\Dry gravel\\\\2021_11_24_16-Nov-22.wav', 'C:\\\\Users\\\\AtteR\\\\Desktop\\\\Dry gravel\\\\2021_11_24_26-Nov-22.wav', 'C:\\\\Users\\\\AtteR\\\\Desktop\\\\Dry gravel\\\\2021_11_24_36-Nov-22.wav', 'C:\\\\Users\\\\AtteR\\\\Desktop\\\\Dry gravel\\\\2021_11_24_45-Nov-22.wav', 'C:\\\\Users\\\\AtteR\\\\Desktop\\\\Dry gravel\\\\2021_11_24_55-Nov-22.wav', 'C:\\\\Users\\\\AtteR\\\\Desktop\\\\Dry gravel\\\\2021_11_25_04-Nov-22.wav', 'C:\\\\Users\\\\AtteR\\\\Desktop\\\\Dry gravel\\\\2021_11_25_14-Nov-22.wav', 'C:\\\\Users\\\\AtteR\\\\Desktop\\\\Dry gravel\\\\2021_11_25_24-Nov-22.wav', 'C:\\\\Users\\\\AtteR\\\\Desktop\\\\Dry gravel\\\\2021_11_25_33-Nov-22.wav', 'C:\\\\Users\\\\AtteR\\\\Desktop\\\\Dry gravel\\\\2021_11_25_43-Nov-22.wav', 'C:\\\\Users\\\\AtteR\\\\Desktop\\\\Dry gravel\\\\2021_11_25_53-Nov-22.wav', 'C:\\\\Users\\\\AtteR\\\\Desktop\\\\Dry gravel\\\\2021_11_26_02-Nov-22.wav', 'C:\\\\Users\\\\AtteR\\\\Desktop\\\\Dry gravel\\\\2021_11_26_12-Nov-22.wav', 'C:\\\\Users\\\\AtteR\\\\Desktop\\\\Dry gravel\\\\2021_11_26_22-Nov-22.wav', 'C:\\\\Users\\\\AtteR\\\\Desktop\\\\Dry gravel\\\\2021_11_26_31-Nov-22.wav', 'C:\\\\Users\\\\AtteR\\\\Desktop\\\\Dry gravel\\\\2021_11_26_41-Nov-22.wav', 'C:\\\\Users\\\\AtteR\\\\Desktop\\\\Dry gravel\\\\2021_11_26_50-Nov-22.wav', 'C:\\\\Users\\\\AtteR\\\\Desktop\\\\Dry gravel\\\\2021_11_44_04-Nov-22.wav', 'C:\\\\Users\\\\AtteR\\\\Desktop\\\\Dry gravel\\\\2021_11_44_13-Nov-22.wav', 'C:\\\\Users\\\\AtteR\\\\Desktop\\\\Dry gravel\\\\2021_11_44_23-Nov-22.wav', 'C:\\\\Users\\\\AtteR\\\\Desktop\\\\Dry gravel\\\\2021_11_44_33-Nov-22.wav', 'C:\\\\Users\\\\AtteR\\\\Desktop\\\\Dry gravel\\\\2021_11_44_42-Nov-22.wav', 'C:\\\\Users\\\\AtteR\\\\Desktop\\\\Dry gravel\\\\2021_11_44_52-Nov-22.wav', 'C:\\\\Users\\\\AtteR\\\\Desktop\\\\Dry gravel\\\\2021_11_45_02-Nov-22.wav', 'C:\\\\Users\\\\AtteR\\\\Desktop\\\\Dry gravel\\\\2021_11_45_11-Nov-22.wav', 'C:\\\\Users\\\\AtteR\\\\Desktop\\\\Dry gravel\\\\2021_11_45_21-Nov-22.wav', 'C:\\\\Users\\\\AtteR\\\\Desktop\\\\Dry gravel\\\\2021_11_45_31-Nov-22.wav', 'C:\\\\Users\\\\AtteR\\\\Desktop\\\\Dry gravel\\\\2021_11_45_40-Nov-22.wav', 'C:\\\\Users\\\\AtteR\\\\Desktop\\\\Dry gravel\\\\2021_11_45_50-Nov-22.wav', 'C:\\\\Users\\\\AtteR\\\\Desktop\\\\Dry gravel\\\\2021_11_45_59-Nov-22.wav', 'C:\\\\Users\\\\AtteR\\\\Desktop\\\\Dry gravel\\\\2021_11_46_09-Nov-22.wav', 'C:\\\\Users\\\\AtteR\\\\Desktop\\\\Dry gravel\\\\2021_11_46_19-Nov-22.wav', 'C:\\\\Users\\\\AtteR\\\\Desktop\\\\Dry gravel\\\\2021_11_46_28-Nov-22.wav', 'C:\\\\Users\\\\AtteR\\\\Desktop\\\\Dry gravel\\\\2021_11_46_38-Nov-22.wav', 'C:\\\\Users\\\\AtteR\\\\Desktop\\\\Dry gravel\\\\2021_11_46_48-Nov-22.wav', 'C:\\\\Users\\\\AtteR\\\\Desktop\\\\Dry gravel\\\\2021_11_46_57-Nov-22.wav', 'C:\\\\Users\\\\AtteR\\\\Desktop\\\\Dry gravel\\\\2021_11_47_07-Nov-22.wav', 'C:\\\\Users\\\\AtteR\\\\Desktop\\\\Dry gravel\\\\2021_11_47_16-Nov-22.wav', 'C:\\\\Users\\\\AtteR\\\\Desktop\\\\Dry gravel\\\\2021_11_47_26-Nov-22.wav']\n",
      "['C:\\\\Users\\\\AtteR\\\\Desktop\\\\Dry asphalt\\\\2021_10_46_03-Nov-22.wav', 'C:\\\\Users\\\\AtteR\\\\Desktop\\\\Dry asphalt\\\\2021_10_46_18-Nov-22.wav', 'C:\\\\Users\\\\AtteR\\\\Desktop\\\\Dry asphalt\\\\2021_10_46_28-Nov-22.wav', 'C:\\\\Users\\\\AtteR\\\\Desktop\\\\Dry asphalt\\\\2021_10_46_37-Nov-22.wav', 'C:\\\\Users\\\\AtteR\\\\Desktop\\\\Dry asphalt\\\\2021_10_46_47-Nov-22.wav', 'C:\\\\Users\\\\AtteR\\\\Desktop\\\\Dry asphalt\\\\2021_10_46_56-Nov-22.wav', 'C:\\\\Users\\\\AtteR\\\\Desktop\\\\Dry asphalt\\\\2021_10_47_06-Nov-22.wav', 'C:\\\\Users\\\\AtteR\\\\Desktop\\\\Dry asphalt\\\\2021_10_47_16-Nov-22.wav', 'C:\\\\Users\\\\AtteR\\\\Desktop\\\\Dry asphalt\\\\2021_10_47_25-Nov-22.wav', 'C:\\\\Users\\\\AtteR\\\\Desktop\\\\Dry asphalt\\\\2021_10_47_35-Nov-22.wav', 'C:\\\\Users\\\\AtteR\\\\Desktop\\\\Dry asphalt\\\\2021_10_47_45-Nov-22.wav', 'C:\\\\Users\\\\AtteR\\\\Desktop\\\\Dry asphalt\\\\2021_10_47_54-Nov-22.wav', 'C:\\\\Users\\\\AtteR\\\\Desktop\\\\Dry asphalt\\\\2021_10_48_04-Nov-22.wav', 'C:\\\\Users\\\\AtteR\\\\Desktop\\\\Dry asphalt\\\\2021_10_48_13-Nov-22.wav', 'C:\\\\Users\\\\AtteR\\\\Desktop\\\\Dry asphalt\\\\2021_10_48_23-Nov-22.wav', 'C:\\\\Users\\\\AtteR\\\\Desktop\\\\Dry asphalt\\\\2021_10_48_33-Nov-22.wav', 'C:\\\\Users\\\\AtteR\\\\Desktop\\\\Dry asphalt\\\\2021_10_48_42-Nov-22.wav', 'C:\\\\Users\\\\AtteR\\\\Desktop\\\\Dry asphalt\\\\2021_10_48_52-Nov-22.wav', 'C:\\\\Users\\\\AtteR\\\\Desktop\\\\Dry asphalt\\\\2021_10_49_02-Nov-22.wav', 'C:\\\\Users\\\\AtteR\\\\Desktop\\\\Dry asphalt\\\\2021_10_49_11-Nov-22.wav', 'C:\\\\Users\\\\AtteR\\\\Desktop\\\\Dry asphalt\\\\2021_10_49_21-Nov-22.wav', 'C:\\\\Users\\\\AtteR\\\\Desktop\\\\Dry asphalt\\\\2021_10_49_30-Nov-22.wav', 'C:\\\\Users\\\\AtteR\\\\Desktop\\\\Dry asphalt\\\\2021_10_49_40-Nov-22.wav', 'C:\\\\Users\\\\AtteR\\\\Desktop\\\\Dry asphalt\\\\2021_10_49_50-Nov-22.wav', 'C:\\\\Users\\\\AtteR\\\\Desktop\\\\Dry asphalt\\\\2021_10_49_59-Nov-22.wav', 'C:\\\\Users\\\\AtteR\\\\Desktop\\\\Dry asphalt\\\\2021_10_50_09-Nov-22.wav', 'C:\\\\Users\\\\AtteR\\\\Desktop\\\\Dry asphalt\\\\2021_10_50_19-Nov-22.wav', 'C:\\\\Users\\\\AtteR\\\\Desktop\\\\Dry asphalt\\\\2021_10_50_28-Nov-22.wav', 'C:\\\\Users\\\\AtteR\\\\Desktop\\\\Dry asphalt\\\\2021_10_52_58-Nov-22.wav', 'C:\\\\Users\\\\AtteR\\\\Desktop\\\\Dry asphalt\\\\2021_10_53_08-Nov-22.wav', 'C:\\\\Users\\\\AtteR\\\\Desktop\\\\Dry asphalt\\\\2021_10_53_17-Nov-22.wav', 'C:\\\\Users\\\\AtteR\\\\Desktop\\\\Dry asphalt\\\\2021_10_53_27-Nov-22.wav', 'C:\\\\Users\\\\AtteR\\\\Desktop\\\\Dry asphalt\\\\2021_10_53_37-Nov-22.wav', 'C:\\\\Users\\\\AtteR\\\\Desktop\\\\Dry asphalt\\\\2021_10_53_46-Nov-22.wav', 'C:\\\\Users\\\\AtteR\\\\Desktop\\\\Dry asphalt\\\\2021_10_53_56-Nov-22.wav', 'C:\\\\Users\\\\AtteR\\\\Desktop\\\\Dry asphalt\\\\2021_10_54_05-Nov-22.wav', 'C:\\\\Users\\\\AtteR\\\\Desktop\\\\Dry asphalt\\\\2021_10_54_15-Nov-22.wav', 'C:\\\\Users\\\\AtteR\\\\Desktop\\\\Dry asphalt\\\\2021_10_54_25-Nov-22.wav', 'C:\\\\Users\\\\AtteR\\\\Desktop\\\\Dry asphalt\\\\2021_10_54_34-Nov-22.wav', 'C:\\\\Users\\\\AtteR\\\\Desktop\\\\Dry asphalt\\\\2021_10_54_44-Nov-22.wav', 'C:\\\\Users\\\\AtteR\\\\Desktop\\\\Dry asphalt\\\\2021_10_55_13-Nov-22.wav', 'C:\\\\Users\\\\AtteR\\\\Desktop\\\\Dry asphalt\\\\2021_10_55_22-Nov-22.wav', 'C:\\\\Users\\\\AtteR\\\\Desktop\\\\Dry asphalt\\\\2021_10_55_32-Nov-22.wav', 'C:\\\\Users\\\\AtteR\\\\Desktop\\\\Dry asphalt\\\\2021_10_55_42-Nov-22.wav', 'C:\\\\Users\\\\AtteR\\\\Desktop\\\\Dry asphalt\\\\2021_10_55_51-Nov-22.wav', 'C:\\\\Users\\\\AtteR\\\\Desktop\\\\Dry asphalt\\\\2021_10_56_01-Nov-22.wav', 'C:\\\\Users\\\\AtteR\\\\Desktop\\\\Dry asphalt\\\\2021_10_56_11-Nov-22.wav', 'C:\\\\Users\\\\AtteR\\\\Desktop\\\\Dry asphalt\\\\2021_10_56_20-Nov-22.wav', 'C:\\\\Users\\\\AtteR\\\\Desktop\\\\Dry asphalt\\\\2021_10_56_30-Nov-22.wav', 'C:\\\\Users\\\\AtteR\\\\Desktop\\\\Dry asphalt\\\\2021_10_56_39-Nov-22.wav', 'C:\\\\Users\\\\AtteR\\\\Desktop\\\\Dry asphalt\\\\2021_10_56_59-Nov-22.wav', 'C:\\\\Users\\\\AtteR\\\\Desktop\\\\Dry asphalt\\\\2021_10_57_08-Nov-22.wav', 'C:\\\\Users\\\\AtteR\\\\Desktop\\\\Dry asphalt\\\\2021_10_57_18-Nov-22.wav', 'C:\\\\Users\\\\AtteR\\\\Desktop\\\\Dry asphalt\\\\2021_10_57_28-Nov-22.wav', 'C:\\\\Users\\\\AtteR\\\\Desktop\\\\Dry asphalt\\\\2021_10_57_37-Nov-22.wav', 'C:\\\\Users\\\\AtteR\\\\Desktop\\\\Dry asphalt\\\\2021_10_57_47-Nov-22.wav', 'C:\\\\Users\\\\AtteR\\\\Desktop\\\\Dry asphalt\\\\2021_10_57_56-Nov-22.wav', 'C:\\\\Users\\\\AtteR\\\\Desktop\\\\Dry asphalt\\\\2021_10_58_06-Nov-22.wav', 'C:\\\\Users\\\\AtteR\\\\Desktop\\\\Dry asphalt\\\\2021_10_58_16-Nov-22.wav', 'C:\\\\Users\\\\AtteR\\\\Desktop\\\\Dry asphalt\\\\2021_10_58_25-Nov-22.wav', 'C:\\\\Users\\\\AtteR\\\\Desktop\\\\Dry asphalt\\\\2021_10_58_35-Nov-22.wav', 'C:\\\\Users\\\\AtteR\\\\Desktop\\\\Dry asphalt\\\\2021_10_58_45-Nov-22.wav', 'C:\\\\Users\\\\AtteR\\\\Desktop\\\\Dry asphalt\\\\2021_10_58_54-Nov-22.wav', 'C:\\\\Users\\\\AtteR\\\\Desktop\\\\Dry asphalt\\\\2021_10_59_04-Nov-22.wav', 'C:\\\\Users\\\\AtteR\\\\Desktop\\\\Dry asphalt\\\\2021_10_59_14-Nov-22.wav', 'C:\\\\Users\\\\AtteR\\\\Desktop\\\\Dry asphalt\\\\2021_10_59_23-Nov-22.wav', 'C:\\\\Users\\\\AtteR\\\\Desktop\\\\Dry asphalt\\\\2021_10_59_33-Nov-22.wav', 'C:\\\\Users\\\\AtteR\\\\Desktop\\\\Dry asphalt\\\\2021_10_59_42-Nov-22.wav', 'C:\\\\Users\\\\AtteR\\\\Desktop\\\\Dry asphalt\\\\2021_10_59_52-Nov-22.wav', 'C:\\\\Users\\\\AtteR\\\\Desktop\\\\Dry asphalt\\\\2021_11_00_02-Nov-22.wav', 'C:\\\\Users\\\\AtteR\\\\Desktop\\\\Dry asphalt\\\\2021_11_00_11-Nov-22.wav', 'C:\\\\Users\\\\AtteR\\\\Desktop\\\\Dry asphalt\\\\2021_11_00_21-Nov-22.wav', 'C:\\\\Users\\\\AtteR\\\\Desktop\\\\Dry asphalt\\\\2021_11_00_31-Nov-22.wav', 'C:\\\\Users\\\\AtteR\\\\Desktop\\\\Dry asphalt\\\\2021_11_00_40-Nov-22.wav', 'C:\\\\Users\\\\AtteR\\\\Desktop\\\\Dry asphalt\\\\2021_11_00_50-Nov-22.wav', 'C:\\\\Users\\\\AtteR\\\\Desktop\\\\Dry asphalt\\\\2021_11_00_59-Nov-22.wav', 'C:\\\\Users\\\\AtteR\\\\Desktop\\\\Dry asphalt\\\\2021_11_01_09-Nov-22.wav', 'C:\\\\Users\\\\AtteR\\\\Desktop\\\\Dry asphalt\\\\2021_11_01_19-Nov-22.wav', 'C:\\\\Users\\\\AtteR\\\\Desktop\\\\Dry asphalt\\\\2021_11_01_28-Nov-22.wav', 'C:\\\\Users\\\\AtteR\\\\Desktop\\\\Dry asphalt\\\\2021_11_01_38-Nov-22.wav', 'C:\\\\Users\\\\AtteR\\\\Desktop\\\\Dry asphalt\\\\2021_11_01_48-Nov-22.wav', 'C:\\\\Users\\\\AtteR\\\\Desktop\\\\Dry asphalt\\\\2021_11_01_57-Nov-22.wav', 'C:\\\\Users\\\\AtteR\\\\Desktop\\\\Dry asphalt\\\\2021_11_02_07-Nov-22.wav', 'C:\\\\Users\\\\AtteR\\\\Desktop\\\\Dry asphalt\\\\2021_11_02_17-Nov-22.wav', 'C:\\\\Users\\\\AtteR\\\\Desktop\\\\Dry asphalt\\\\2021_11_02_26-Nov-22.wav', 'C:\\\\Users\\\\AtteR\\\\Desktop\\\\Dry asphalt\\\\2021_11_02_36-Nov-22.wav', 'C:\\\\Users\\\\AtteR\\\\Desktop\\\\Dry asphalt\\\\2021_11_02_45-Nov-22.wav', 'C:\\\\Users\\\\AtteR\\\\Desktop\\\\Dry asphalt\\\\2021_11_02_55-Nov-22.wav', 'C:\\\\Users\\\\AtteR\\\\Desktop\\\\Dry asphalt\\\\2021_11_03_05-Nov-22.wav', 'C:\\\\Users\\\\AtteR\\\\Desktop\\\\Dry asphalt\\\\2021_11_03_14-Nov-22.wav', 'C:\\\\Users\\\\AtteR\\\\Desktop\\\\Dry asphalt\\\\2021_11_03_24-Nov-22.wav', 'C:\\\\Users\\\\AtteR\\\\Desktop\\\\Dry asphalt\\\\2021_11_03_34-Nov-22.wav', 'C:\\\\Users\\\\AtteR\\\\Desktop\\\\Dry asphalt\\\\2021_11_03_43-Nov-22.wav', 'C:\\\\Users\\\\AtteR\\\\Desktop\\\\Dry asphalt\\\\2021_11_03_53-Nov-22.wav', 'C:\\\\Users\\\\AtteR\\\\Desktop\\\\Dry asphalt\\\\2021_11_04_03-Nov-22.wav', 'C:\\\\Users\\\\AtteR\\\\Desktop\\\\Dry asphalt\\\\2021_11_04_12-Nov-22.wav', 'C:\\\\Users\\\\AtteR\\\\Desktop\\\\Dry asphalt\\\\2021_11_04_22-Nov-22.wav', 'C:\\\\Users\\\\AtteR\\\\Desktop\\\\Dry asphalt\\\\2021_11_04_31-Nov-22.wav', 'C:\\\\Users\\\\AtteR\\\\Desktop\\\\Dry asphalt\\\\2021_11_04_41-Nov-22.wav', 'C:\\\\Users\\\\AtteR\\\\Desktop\\\\Dry asphalt\\\\2021_11_04_51-Nov-22.wav', 'C:\\\\Users\\\\AtteR\\\\Desktop\\\\Dry asphalt\\\\2021_11_05_00-Nov-22.wav', 'C:\\\\Users\\\\AtteR\\\\Desktop\\\\Dry asphalt\\\\2021_11_05_10-Nov-22.wav', 'C:\\\\Users\\\\AtteR\\\\Desktop\\\\Dry asphalt\\\\2021_11_05_20-Nov-22.wav', 'C:\\\\Users\\\\AtteR\\\\Desktop\\\\Dry asphalt\\\\2021_11_05_29-Nov-22.wav', 'C:\\\\Users\\\\AtteR\\\\Desktop\\\\Dry asphalt\\\\2021_11_05_39-Nov-22.wav', 'C:\\\\Users\\\\AtteR\\\\Desktop\\\\Dry asphalt\\\\2021_11_05_48-Nov-22.wav', 'C:\\\\Users\\\\AtteR\\\\Desktop\\\\Dry asphalt\\\\2021_11_05_58-Nov-22.wav', 'C:\\\\Users\\\\AtteR\\\\Desktop\\\\Dry asphalt\\\\2021_11_07_06-Nov-22.wav', 'C:\\\\Users\\\\AtteR\\\\Desktop\\\\Dry asphalt\\\\2021_11_07_15-Nov-22.wav', 'C:\\\\Users\\\\AtteR\\\\Desktop\\\\Dry asphalt\\\\2021_11_07_25-Nov-22.wav', 'C:\\\\Users\\\\AtteR\\\\Desktop\\\\Dry asphalt\\\\2021_11_07_34-Nov-22.wav', 'C:\\\\Users\\\\AtteR\\\\Desktop\\\\Dry asphalt\\\\2021_11_07_44-Nov-22.wav', 'C:\\\\Users\\\\AtteR\\\\Desktop\\\\Dry asphalt\\\\2021_11_07_54-Nov-22.wav', 'C:\\\\Users\\\\AtteR\\\\Desktop\\\\Dry asphalt\\\\2021_11_08_03-Nov-22.wav', 'C:\\\\Users\\\\AtteR\\\\Desktop\\\\Dry asphalt\\\\2021_11_08_13-Nov-22.wav', 'C:\\\\Users\\\\AtteR\\\\Desktop\\\\Dry asphalt\\\\2021_11_08_23-Nov-22.wav', 'C:\\\\Users\\\\AtteR\\\\Desktop\\\\Dry asphalt\\\\2021_11_14_48-Nov-22.wav', 'C:\\\\Users\\\\AtteR\\\\Desktop\\\\Dry asphalt\\\\2021_11_14_58-Nov-22.wav', 'C:\\\\Users\\\\AtteR\\\\Desktop\\\\Dry asphalt\\\\2021_11_15_07-Nov-22.wav', 'C:\\\\Users\\\\AtteR\\\\Desktop\\\\Dry asphalt\\\\2021_11_15_17-Nov-22.wav', 'C:\\\\Users\\\\AtteR\\\\Desktop\\\\Dry asphalt\\\\2021_11_15_26-Nov-22.wav', 'C:\\\\Users\\\\AtteR\\\\Desktop\\\\Dry asphalt\\\\2021_11_15_36-Nov-22.wav', 'C:\\\\Users\\\\AtteR\\\\Desktop\\\\Dry asphalt\\\\2021_11_15_46-Nov-22.wav', 'C:\\\\Users\\\\AtteR\\\\Desktop\\\\Dry asphalt\\\\2021_11_15_55-Nov-22.wav', 'C:\\\\Users\\\\AtteR\\\\Desktop\\\\Dry asphalt\\\\2021_11_16_05-Nov-22.wav', 'C:\\\\Users\\\\AtteR\\\\Desktop\\\\Dry asphalt\\\\2021_11_16_15-Nov-22.wav', 'C:\\\\Users\\\\AtteR\\\\Desktop\\\\Dry asphalt\\\\2021_11_16_24-Nov-22.wav', 'C:\\\\Users\\\\AtteR\\\\Desktop\\\\Dry asphalt\\\\2021_11_16_34-Nov-22.wav', 'C:\\\\Users\\\\AtteR\\\\Desktop\\\\Dry asphalt\\\\2021_11_16_43-Nov-22.wav', 'C:\\\\Users\\\\AtteR\\\\Desktop\\\\Dry asphalt\\\\2021_11_16_53-Nov-22.wav', 'C:\\\\Users\\\\AtteR\\\\Desktop\\\\Dry asphalt\\\\2021_11_17_03-Nov-22.wav', 'C:\\\\Users\\\\AtteR\\\\Desktop\\\\Dry asphalt\\\\2021_11_17_12-Nov-22.wav', 'C:\\\\Users\\\\AtteR\\\\Desktop\\\\Dry asphalt\\\\2021_11_17_22-Nov-22.wav', 'C:\\\\Users\\\\AtteR\\\\Desktop\\\\Dry asphalt\\\\2021_11_17_32-Nov-22.wav', 'C:\\\\Users\\\\AtteR\\\\Desktop\\\\Dry asphalt\\\\2021_11_17_41-Nov-22.wav', 'C:\\\\Users\\\\AtteR\\\\Desktop\\\\Dry asphalt\\\\2021_11_17_51-Nov-22.wav', 'C:\\\\Users\\\\AtteR\\\\Desktop\\\\Dry asphalt\\\\2021_11_18_01-Nov-22.wav', 'C:\\\\Users\\\\AtteR\\\\Desktop\\\\Dry asphalt\\\\2021_11_18_10-Nov-22.wav', 'C:\\\\Users\\\\AtteR\\\\Desktop\\\\Dry asphalt\\\\2021_11_18_20-Nov-22.wav', 'C:\\\\Users\\\\AtteR\\\\Desktop\\\\Dry asphalt\\\\2021_11_18_29-Nov-22.wav', 'C:\\\\Users\\\\AtteR\\\\Desktop\\\\Dry asphalt\\\\2021_11_18_39-Nov-22.wav', 'C:\\\\Users\\\\AtteR\\\\Desktop\\\\Dry asphalt\\\\2021_11_18_49-Nov-22.wav', 'C:\\\\Users\\\\AtteR\\\\Desktop\\\\Dry asphalt\\\\2021_11_18_58-Nov-22.wav', 'C:\\\\Users\\\\AtteR\\\\Desktop\\\\Dry asphalt\\\\2021_11_19_08-Nov-22.wav', 'C:\\\\Users\\\\AtteR\\\\Desktop\\\\Dry asphalt\\\\2021_11_19_18-Nov-22.wav', 'C:\\\\Users\\\\AtteR\\\\Desktop\\\\Dry asphalt\\\\2021_11_19_27-Nov-22.wav', 'C:\\\\Users\\\\AtteR\\\\Desktop\\\\Dry asphalt\\\\2021_11_19_37-Nov-22.wav', 'C:\\\\Users\\\\AtteR\\\\Desktop\\\\Dry asphalt\\\\2021_11_19_47-Nov-22.wav', 'C:\\\\Users\\\\AtteR\\\\Desktop\\\\Dry asphalt\\\\2021_11_19_56-Nov-22.wav', 'C:\\\\Users\\\\AtteR\\\\Desktop\\\\Dry asphalt\\\\2021_11_20_06-Nov-22.wav', 'C:\\\\Users\\\\AtteR\\\\Desktop\\\\Dry asphalt\\\\2021_11_20_15-Nov-22.wav', 'C:\\\\Users\\\\AtteR\\\\Desktop\\\\Dry asphalt\\\\2021_11_20_25-Nov-22.wav', 'C:\\\\Users\\\\AtteR\\\\Desktop\\\\Dry asphalt\\\\2021_11_20_35-Nov-22.wav', 'C:\\\\Users\\\\AtteR\\\\Desktop\\\\Dry asphalt\\\\2021_11_20_44-Nov-22.wav', 'C:\\\\Users\\\\AtteR\\\\Desktop\\\\Dry asphalt\\\\2021_11_20_54-Nov-22.wav', 'C:\\\\Users\\\\AtteR\\\\Desktop\\\\Dry asphalt\\\\2021_11_21_04-Nov-22.wav', 'C:\\\\Users\\\\AtteR\\\\Desktop\\\\Dry asphalt\\\\2021_11_21_13-Nov-22.wav', 'C:\\\\Users\\\\AtteR\\\\Desktop\\\\Dry asphalt\\\\2021_11_21_23-Nov-22.wav', 'C:\\\\Users\\\\AtteR\\\\Desktop\\\\Dry asphalt\\\\2021_11_21_33-Nov-22.wav', 'C:\\\\Users\\\\AtteR\\\\Desktop\\\\Dry asphalt\\\\2021_11_21_42-Nov-22.wav', 'C:\\\\Users\\\\AtteR\\\\Desktop\\\\Dry asphalt\\\\2021_11_21_52-Nov-22.wav', 'C:\\\\Users\\\\AtteR\\\\Desktop\\\\Dry asphalt\\\\2021_11_22_01-Nov-22.wav', 'C:\\\\Users\\\\AtteR\\\\Desktop\\\\Dry asphalt\\\\2021_11_22_11-Nov-22.wav', 'C:\\\\Users\\\\AtteR\\\\Desktop\\\\Dry asphalt\\\\2021_11_22_21-Nov-22.wav', 'C:\\\\Users\\\\AtteR\\\\Desktop\\\\Dry asphalt\\\\2021_11_22_30-Nov-22.wav', 'C:\\\\Users\\\\AtteR\\\\Desktop\\\\Dry asphalt\\\\2021_11_22_40-Nov-22.wav', 'C:\\\\Users\\\\AtteR\\\\Desktop\\\\Dry asphalt\\\\2021_11_22_50-Nov-22.wav', 'C:\\\\Users\\\\AtteR\\\\Desktop\\\\Dry asphalt\\\\2021_11_27_10-Nov-22.wav', 'C:\\\\Users\\\\AtteR\\\\Desktop\\\\Dry asphalt\\\\2021_11_27_19-Nov-22.wav', 'C:\\\\Users\\\\AtteR\\\\Desktop\\\\Dry asphalt\\\\2021_11_27_29-Nov-22.wav', 'C:\\\\Users\\\\AtteR\\\\Desktop\\\\Dry asphalt\\\\2021_11_27_39-Nov-22.wav', 'C:\\\\Users\\\\AtteR\\\\Desktop\\\\Dry asphalt\\\\2021_11_27_48-Nov-22.wav', 'C:\\\\Users\\\\AtteR\\\\Desktop\\\\Dry asphalt\\\\2021_11_27_58-Nov-22.wav', 'C:\\\\Users\\\\AtteR\\\\Desktop\\\\Dry asphalt\\\\2021_11_28_07-Nov-22.wav', 'C:\\\\Users\\\\AtteR\\\\Desktop\\\\Dry asphalt\\\\2021_11_28_17-Nov-22.wav', 'C:\\\\Users\\\\AtteR\\\\Desktop\\\\Dry asphalt\\\\2021_11_28_27-Nov-22.wav', 'C:\\\\Users\\\\AtteR\\\\Desktop\\\\Dry asphalt\\\\2021_11_28_36-Nov-22.wav', 'C:\\\\Users\\\\AtteR\\\\Desktop\\\\Dry asphalt\\\\2021_11_28_46-Nov-22.wav', 'C:\\\\Users\\\\AtteR\\\\Desktop\\\\Dry asphalt\\\\2021_11_28_56-Nov-22.wav', 'C:\\\\Users\\\\AtteR\\\\Desktop\\\\Dry asphalt\\\\2021_11_29_05-Nov-22.wav', 'C:\\\\Users\\\\AtteR\\\\Desktop\\\\Dry asphalt\\\\2021_11_29_15-Nov-22.wav', 'C:\\\\Users\\\\AtteR\\\\Desktop\\\\Dry asphalt\\\\2021_11_29_25-Nov-22.wav', 'C:\\\\Users\\\\AtteR\\\\Desktop\\\\Dry asphalt\\\\2021_11_29_34-Nov-22(1).wav', 'C:\\\\Users\\\\AtteR\\\\Desktop\\\\Dry asphalt\\\\2021_11_29_34-Nov-22.wav', 'C:\\\\Users\\\\AtteR\\\\Desktop\\\\Dry asphalt\\\\2021_11_29_44-Nov-22.wav', 'C:\\\\Users\\\\AtteR\\\\Desktop\\\\Dry asphalt\\\\2021_11_29_53-Nov-22.wav', 'C:\\\\Users\\\\AtteR\\\\Desktop\\\\Dry asphalt\\\\2021_11_30_03-Nov-22.wav', 'C:\\\\Users\\\\AtteR\\\\Desktop\\\\Dry asphalt\\\\2021_11_30_13-Nov-22.wav', 'C:\\\\Users\\\\AtteR\\\\Desktop\\\\Dry asphalt\\\\2021_11_30_22-Nov-22.wav', 'C:\\\\Users\\\\AtteR\\\\Desktop\\\\Dry asphalt\\\\2021_11_30_32-Nov-22.wav', 'C:\\\\Users\\\\AtteR\\\\Desktop\\\\Dry asphalt\\\\2021_11_30_42-Nov-22.wav', 'C:\\\\Users\\\\AtteR\\\\Desktop\\\\Dry asphalt\\\\2021_11_30_51-Nov-22.wav', 'C:\\\\Users\\\\AtteR\\\\Desktop\\\\Dry asphalt\\\\2021_11_31_01-Nov-22.wav', 'C:\\\\Users\\\\AtteR\\\\Desktop\\\\Dry asphalt\\\\2021_11_31_10-Nov-22.wav', 'C:\\\\Users\\\\AtteR\\\\Desktop\\\\Dry asphalt\\\\2021_11_31_20-Nov-22.wav', 'C:\\\\Users\\\\AtteR\\\\Desktop\\\\Dry asphalt\\\\2021_11_36_12-Nov-22.wav', 'C:\\\\Users\\\\AtteR\\\\Desktop\\\\Dry asphalt\\\\2021_11_36_22-Nov-22.wav', 'C:\\\\Users\\\\AtteR\\\\Desktop\\\\Dry asphalt\\\\2021_11_36_31-Nov-22.wav', 'C:\\\\Users\\\\AtteR\\\\Desktop\\\\Dry asphalt\\\\2021_11_36_41-Nov-22.wav', 'C:\\\\Users\\\\AtteR\\\\Desktop\\\\Dry asphalt\\\\2021_11_36_50-Nov-22.wav', 'C:\\\\Users\\\\AtteR\\\\Desktop\\\\Dry asphalt\\\\2021_11_37_00-Nov-22.wav', 'C:\\\\Users\\\\AtteR\\\\Desktop\\\\Dry asphalt\\\\2021_11_37_10-Nov-22.wav', 'C:\\\\Users\\\\AtteR\\\\Desktop\\\\Dry asphalt\\\\2021_11_37_19-Nov-22.wav', 'C:\\\\Users\\\\AtteR\\\\Desktop\\\\Dry asphalt\\\\2021_11_37_29-Nov-22.wav', 'C:\\\\Users\\\\AtteR\\\\Desktop\\\\Dry asphalt\\\\2021_11_37_38-Nov-22.wav', 'C:\\\\Users\\\\AtteR\\\\Desktop\\\\Dry asphalt\\\\2021_11_37_48-Nov-22.wav', 'C:\\\\Users\\\\AtteR\\\\Desktop\\\\Dry asphalt\\\\2021_11_37_58-Nov-22.wav', 'C:\\\\Users\\\\AtteR\\\\Desktop\\\\Dry asphalt\\\\2021_11_38_07-Nov-22.wav', 'C:\\\\Users\\\\AtteR\\\\Desktop\\\\Dry asphalt\\\\2021_11_38_17-Nov-22.wav', 'C:\\\\Users\\\\AtteR\\\\Desktop\\\\Dry asphalt\\\\2021_11_38_27-Nov-22.wav', 'C:\\\\Users\\\\AtteR\\\\Desktop\\\\Dry asphalt\\\\2021_11_38_36-Nov-22.wav', 'C:\\\\Users\\\\AtteR\\\\Desktop\\\\Dry asphalt\\\\2021_11_38_46-Nov-22.wav', 'C:\\\\Users\\\\AtteR\\\\Desktop\\\\Dry asphalt\\\\2021_11_38_56-Nov-22.wav', 'C:\\\\Users\\\\AtteR\\\\Desktop\\\\Dry asphalt\\\\2021_11_39_05-Nov-22.wav', 'C:\\\\Users\\\\AtteR\\\\Desktop\\\\Dry asphalt\\\\2021_11_39_15-Nov-22.wav', 'C:\\\\Users\\\\AtteR\\\\Desktop\\\\Dry asphalt\\\\2021_11_39_24-Nov-22.wav', 'C:\\\\Users\\\\AtteR\\\\Desktop\\\\Dry asphalt\\\\2021_11_39_34-Nov-22.wav', 'C:\\\\Users\\\\AtteR\\\\Desktop\\\\Dry asphalt\\\\2021_11_39_44-Nov-22.wav', 'C:\\\\Users\\\\AtteR\\\\Desktop\\\\Dry asphalt\\\\2021_11_39_53-Nov-22.wav', 'C:\\\\Users\\\\AtteR\\\\Desktop\\\\Dry asphalt\\\\2021_11_40_03-Nov-22.wav', 'C:\\\\Users\\\\AtteR\\\\Desktop\\\\Dry asphalt\\\\2021_11_40_13-Nov-22.wav', 'C:\\\\Users\\\\AtteR\\\\Desktop\\\\Dry asphalt\\\\2021_11_40_22-Nov-22(1).wav', 'C:\\\\Users\\\\AtteR\\\\Desktop\\\\Dry asphalt\\\\2021_11_40_22-Nov-22.wav', 'C:\\\\Users\\\\AtteR\\\\Desktop\\\\Dry asphalt\\\\2021_11_40_32-Nov-22.wav', 'C:\\\\Users\\\\AtteR\\\\Desktop\\\\Dry asphalt\\\\2021_11_40_41-Nov-22(1).wav', 'C:\\\\Users\\\\AtteR\\\\Desktop\\\\Dry asphalt\\\\2021_11_40_41-Nov-22.wav', 'C:\\\\Users\\\\AtteR\\\\Desktop\\\\Dry asphalt\\\\2021_11_40_51-Nov-22.wav', 'C:\\\\Users\\\\AtteR\\\\Desktop\\\\Dry asphalt\\\\2021_11_41_01-Nov-22.wav', 'C:\\\\Users\\\\AtteR\\\\Desktop\\\\Dry asphalt\\\\2021_11_41_10-Nov-22.wav', 'C:\\\\Users\\\\AtteR\\\\Desktop\\\\Dry asphalt\\\\2021_11_41_20-Nov-22.wav', 'C:\\\\Users\\\\AtteR\\\\Desktop\\\\Dry asphalt\\\\2021_11_41_30-Nov-22.wav', 'C:\\\\Users\\\\AtteR\\\\Desktop\\\\Dry asphalt\\\\2021_11_41_39-Nov-22.wav', 'C:\\\\Users\\\\AtteR\\\\Desktop\\\\Dry asphalt\\\\2021_11_41_49-Nov-22.wav', 'C:\\\\Users\\\\AtteR\\\\Desktop\\\\Dry asphalt\\\\2021_11_41_59-Nov-22.wav', 'C:\\\\Users\\\\AtteR\\\\Desktop\\\\Dry asphalt\\\\2021_11_42_08-Nov-22.wav', 'C:\\\\Users\\\\AtteR\\\\Desktop\\\\Dry asphalt\\\\2021_11_42_18-Nov-22.wav', 'C:\\\\Users\\\\AtteR\\\\Desktop\\\\Dry asphalt\\\\2021_11_42_27-Nov-22(1).wav', 'C:\\\\Users\\\\AtteR\\\\Desktop\\\\Dry asphalt\\\\2021_11_42_27-Nov-22.wav', 'C:\\\\Users\\\\AtteR\\\\Desktop\\\\Dry asphalt\\\\2021_11_42_37-Nov-22.wav', 'C:\\\\Users\\\\AtteR\\\\Desktop\\\\Dry asphalt\\\\2021_11_42_47-Nov-22.wav', 'C:\\\\Users\\\\AtteR\\\\Desktop\\\\Dry asphalt\\\\2021_11_42_56-Nov-22.wav', 'C:\\\\Users\\\\AtteR\\\\Desktop\\\\Dry asphalt\\\\2021_11_43_06-Nov-22.wav', 'C:\\\\Users\\\\AtteR\\\\Desktop\\\\Dry asphalt\\\\2021_11_43_16-Nov-22.wav', 'C:\\\\Users\\\\AtteR\\\\Desktop\\\\Dry asphalt\\\\2021_11_43_25-Nov-22.wav', 'C:\\\\Users\\\\AtteR\\\\Desktop\\\\Dry asphalt\\\\2021_11_43_35-Nov-22.wav', 'C:\\\\Users\\\\AtteR\\\\Desktop\\\\Dry asphalt\\\\2021_11_48_05-Nov-22.wav', 'C:\\\\Users\\\\AtteR\\\\Desktop\\\\Dry asphalt\\\\2021_11_48_14-Nov-22.wav', 'C:\\\\Users\\\\AtteR\\\\Desktop\\\\Dry asphalt\\\\2021_11_48_24-Nov-22(1).wav', 'C:\\\\Users\\\\AtteR\\\\Desktop\\\\Dry asphalt\\\\2021_11_48_24-Nov-22.wav', 'C:\\\\Users\\\\AtteR\\\\Desktop\\\\Dry asphalt\\\\2021_11_48_33-Nov-22.wav', 'C:\\\\Users\\\\AtteR\\\\Desktop\\\\Dry asphalt\\\\2021_11_48_43-Nov-22.wav', 'C:\\\\Users\\\\AtteR\\\\Desktop\\\\Dry asphalt\\\\2021_11_48_53-Nov-22.wav', 'C:\\\\Users\\\\AtteR\\\\Desktop\\\\Dry asphalt\\\\2021_11_49_02-Nov-22.wav', 'C:\\\\Users\\\\AtteR\\\\Desktop\\\\Dry asphalt\\\\2021_11_49_12-Nov-22.wav', 'C:\\\\Users\\\\AtteR\\\\Desktop\\\\Dry asphalt\\\\2021_11_49_22-Nov-22.wav', 'C:\\\\Users\\\\AtteR\\\\Desktop\\\\Dry asphalt\\\\2021_11_49_31-Nov-22.wav', 'C:\\\\Users\\\\AtteR\\\\Desktop\\\\Dry asphalt\\\\2021_11_49_41-Nov-22.wav', 'C:\\\\Users\\\\AtteR\\\\Desktop\\\\Dry asphalt\\\\2021_11_49_50-Nov-22.wav', 'C:\\\\Users\\\\AtteR\\\\Desktop\\\\Dry asphalt\\\\2021_11_50_00-Nov-22.wav', 'C:\\\\Users\\\\AtteR\\\\Desktop\\\\Dry asphalt\\\\2021_11_50_10-Nov-22.wav', 'C:\\\\Users\\\\AtteR\\\\Desktop\\\\Dry asphalt\\\\2021_11_50_19-Nov-22.wav', 'C:\\\\Users\\\\AtteR\\\\Desktop\\\\Dry asphalt\\\\2021_11_50_29-Nov-22.wav', 'C:\\\\Users\\\\AtteR\\\\Desktop\\\\Dry asphalt\\\\2021_11_50_39-Nov-22.wav', 'C:\\\\Users\\\\AtteR\\\\Desktop\\\\Dry asphalt\\\\2021_11_50_48-Nov-22.wav', 'C:\\\\Users\\\\AtteR\\\\Desktop\\\\Dry asphalt\\\\2021_11_50_58-Nov-22.wav', 'C:\\\\Users\\\\AtteR\\\\Desktop\\\\Dry asphalt\\\\2021_11_51_07-Nov-22.wav', 'C:\\\\Users\\\\AtteR\\\\Desktop\\\\Dry asphalt\\\\2021_11_51_17-Nov-22.wav', 'C:\\\\Users\\\\AtteR\\\\Desktop\\\\Dry asphalt\\\\2021_11_51_27-Nov-22.wav', 'C:\\\\Users\\\\AtteR\\\\Desktop\\\\Dry asphalt\\\\2021_11_51_36-Nov-22.wav', 'C:\\\\Users\\\\AtteR\\\\Desktop\\\\Dry asphalt\\\\2021_11_51_46-Nov-22.wav', 'C:\\\\Users\\\\AtteR\\\\Desktop\\\\Dry asphalt\\\\2021_11_51_56-Nov-22.wav', 'C:\\\\Users\\\\AtteR\\\\Desktop\\\\Dry asphalt\\\\2021_11_52_05-Nov-22.wav', 'C:\\\\Users\\\\AtteR\\\\Desktop\\\\Dry asphalt\\\\2021_11_52_15-Nov-22.wav', 'C:\\\\Users\\\\AtteR\\\\Desktop\\\\Dry asphalt\\\\2021_11_52_25-Nov-22.wav', 'C:\\\\Users\\\\AtteR\\\\Desktop\\\\Dry asphalt\\\\2021_11_52_34-Nov-22(1).wav', 'C:\\\\Users\\\\AtteR\\\\Desktop\\\\Dry asphalt\\\\2021_11_52_34-Nov-22.wav', 'C:\\\\Users\\\\AtteR\\\\Desktop\\\\Dry asphalt\\\\2021_11_52_44-Nov-22.wav', 'C:\\\\Users\\\\AtteR\\\\Desktop\\\\Dry asphalt\\\\2021_11_52_53-Nov-22.wav', 'C:\\\\Users\\\\AtteR\\\\Desktop\\\\Dry asphalt\\\\2021_11_53_03-Nov-22.wav', 'C:\\\\Users\\\\AtteR\\\\Desktop\\\\Dry asphalt\\\\2021_11_53_13-Nov-22.wav', 'C:\\\\Users\\\\AtteR\\\\Desktop\\\\Dry asphalt\\\\2021_11_53_22-Nov-22.wav', 'C:\\\\Users\\\\AtteR\\\\Desktop\\\\Dry asphalt\\\\2021_11_53_32-Nov-22.wav', 'C:\\\\Users\\\\AtteR\\\\Desktop\\\\Dry asphalt\\\\2021_11_53_42-Nov-22.wav', 'C:\\\\Users\\\\AtteR\\\\Desktop\\\\Dry asphalt\\\\2021_11_53_51-Nov-22.wav', 'C:\\\\Users\\\\AtteR\\\\Desktop\\\\Dry asphalt\\\\2021_11_54_01-Nov-22.wav', 'C:\\\\Users\\\\AtteR\\\\Desktop\\\\Dry asphalt\\\\2021_11_54_11-Nov-22.wav', 'C:\\\\Users\\\\AtteR\\\\Desktop\\\\Dry asphalt\\\\2021_11_54_20-Nov-22.wav', 'C:\\\\Users\\\\AtteR\\\\Desktop\\\\Dry asphalt\\\\2021_11_54_30-Nov-22.wav', 'C:\\\\Users\\\\AtteR\\\\Desktop\\\\Dry asphalt\\\\2021_11_54_39-Nov-22.wav', 'C:\\\\Users\\\\AtteR\\\\Desktop\\\\Dry asphalt\\\\2021_11_54_49-Nov-22.wav', 'C:\\\\Users\\\\AtteR\\\\Desktop\\\\Dry asphalt\\\\2021_11_54_59-Nov-22.wav', 'C:\\\\Users\\\\AtteR\\\\Desktop\\\\Dry asphalt\\\\2021_11_55_08-Nov-22.wav', 'C:\\\\Users\\\\AtteR\\\\Desktop\\\\Dry asphalt\\\\2021_11_55_18-Nov-22.wav', 'C:\\\\Users\\\\AtteR\\\\Desktop\\\\Dry asphalt\\\\2021_11_55_28-Nov-22.wav', 'C:\\\\Users\\\\AtteR\\\\Desktop\\\\Dry asphalt\\\\2021_11_55_37-Nov-22.wav', 'C:\\\\Users\\\\AtteR\\\\Desktop\\\\Dry asphalt\\\\2021_11_55_47-Nov-22.wav', 'C:\\\\Users\\\\AtteR\\\\Desktop\\\\Dry asphalt\\\\2021_11_55_56-Nov-22.wav', 'C:\\\\Users\\\\AtteR\\\\Desktop\\\\Dry asphalt\\\\2021_11_56_06-Nov-22.wav', 'C:\\\\Users\\\\AtteR\\\\Desktop\\\\Dry asphalt\\\\2021_11_56_16-Nov-22.wav', 'C:\\\\Users\\\\AtteR\\\\Desktop\\\\Dry asphalt\\\\2021_11_56_25-Nov-22.wav', 'C:\\\\Users\\\\AtteR\\\\Desktop\\\\Dry asphalt\\\\2021_11_56_35-Nov-22.wav', 'C:\\\\Users\\\\AtteR\\\\Desktop\\\\Dry asphalt\\\\2021_11_56_45-Nov-22.wav', 'C:\\\\Users\\\\AtteR\\\\Desktop\\\\Dry asphalt\\\\2021_11_56_54-Nov-22.wav', 'C:\\\\Users\\\\AtteR\\\\Desktop\\\\Dry asphalt\\\\2021_11_57_04-Nov-22.wav', 'C:\\\\Users\\\\AtteR\\\\Desktop\\\\Dry asphalt\\\\2021_11_57_14-Nov-22.wav', 'C:\\\\Users\\\\AtteR\\\\Desktop\\\\Dry asphalt\\\\2021_11_57_23-Nov-22.wav', 'C:\\\\Users\\\\AtteR\\\\Desktop\\\\Dry asphalt\\\\2021_11_57_33-Nov-22.wav', 'C:\\\\Users\\\\AtteR\\\\Desktop\\\\Dry asphalt\\\\2021_11_57_42-Nov-22.wav', 'C:\\\\Users\\\\AtteR\\\\Desktop\\\\Dry asphalt\\\\2021_11_57_52-Nov-22.wav', 'C:\\\\Users\\\\AtteR\\\\Desktop\\\\Dry asphalt\\\\2021_11_58_02-Nov-22.wav', 'C:\\\\Users\\\\AtteR\\\\Desktop\\\\Dry asphalt\\\\2021_11_58_11-Nov-22.wav', 'C:\\\\Users\\\\AtteR\\\\Desktop\\\\Dry asphalt\\\\2021_11_58_21-Nov-22(1).wav', 'C:\\\\Users\\\\AtteR\\\\Desktop\\\\Dry asphalt\\\\2021_11_58_21-Nov-22.wav', 'C:\\\\Users\\\\AtteR\\\\Desktop\\\\Dry asphalt\\\\2021_11_58_31-Nov-22.wav', 'C:\\\\Users\\\\AtteR\\\\Desktop\\\\Dry asphalt\\\\2021_11_58_40-Nov-22.wav', 'C:\\\\Users\\\\AtteR\\\\Desktop\\\\Dry asphalt\\\\2021_11_58_50-Nov-22.wav', 'C:\\\\Users\\\\AtteR\\\\Desktop\\\\Dry asphalt\\\\2021_11_58_59-Nov-22.wav', 'C:\\\\Users\\\\AtteR\\\\Desktop\\\\Dry asphalt\\\\2021_11_59_09-Nov-22.wav', 'C:\\\\Users\\\\AtteR\\\\Desktop\\\\Dry asphalt\\\\2021_11_59_19-Nov-22.wav', 'C:\\\\Users\\\\AtteR\\\\Desktop\\\\Dry asphalt\\\\2021_11_59_28-Nov-22.wav', 'C:\\\\Users\\\\AtteR\\\\Desktop\\\\Dry asphalt\\\\2021_11_59_38-Nov-22.wav', 'C:\\\\Users\\\\AtteR\\\\Desktop\\\\Dry asphalt\\\\2021_11_59_48-Nov-22.wav', 'C:\\\\Users\\\\AtteR\\\\Desktop\\\\Dry asphalt\\\\2021_11_59_57-Nov-22.wav', 'C:\\\\Users\\\\AtteR\\\\Desktop\\\\Dry asphalt\\\\2021_12_00_07-Nov-22.wav', 'C:\\\\Users\\\\AtteR\\\\Desktop\\\\Dry asphalt\\\\2021_12_00_16-Nov-22.wav', 'C:\\\\Users\\\\AtteR\\\\Desktop\\\\Dry asphalt\\\\2021_12_00_26-Nov-22.wav', 'C:\\\\Users\\\\AtteR\\\\Desktop\\\\Dry asphalt\\\\2021_12_00_36-Nov-22.wav', 'C:\\\\Users\\\\AtteR\\\\Desktop\\\\Dry asphalt\\\\2021_12_00_45-Nov-22.wav', 'C:\\\\Users\\\\AtteR\\\\Desktop\\\\Dry asphalt\\\\2021_12_00_55-Nov-22.wav', 'C:\\\\Users\\\\AtteR\\\\Desktop\\\\Dry asphalt\\\\2021_12_01_14-Nov-22.wav', 'C:\\\\Users\\\\AtteR\\\\Desktop\\\\Dry asphalt\\\\2021_12_01_24-Nov-22(1).wav', 'C:\\\\Users\\\\AtteR\\\\Desktop\\\\Dry asphalt\\\\2021_12_01_24-Nov-22.wav', 'C:\\\\Users\\\\AtteR\\\\Desktop\\\\Dry asphalt\\\\2021_12_01_34-Nov-22.wav', 'C:\\\\Users\\\\AtteR\\\\Desktop\\\\Dry asphalt\\\\2021_12_01_43-Nov-22.wav', 'C:\\\\Users\\\\AtteR\\\\Desktop\\\\Dry asphalt\\\\2021_12_01_53-Nov-22.wav', 'C:\\\\Users\\\\AtteR\\\\Desktop\\\\Dry asphalt\\\\2021_12_02_02-Nov-22.wav', 'C:\\\\Users\\\\AtteR\\\\Desktop\\\\Dry asphalt\\\\2021_12_02_12-Nov-22.wav', 'C:\\\\Users\\\\AtteR\\\\Desktop\\\\Dry asphalt\\\\2021_12_02_22-Nov-22.wav', 'C:\\\\Users\\\\AtteR\\\\Desktop\\\\Dry asphalt\\\\2021_12_02_31-Nov-22.wav', 'C:\\\\Users\\\\AtteR\\\\Desktop\\\\Dry asphalt\\\\2021_12_02_41-Nov-22.wav', 'C:\\\\Users\\\\AtteR\\\\Desktop\\\\Dry asphalt\\\\2021_12_02_51-Nov-22.wav', 'C:\\\\Users\\\\AtteR\\\\Desktop\\\\Dry asphalt\\\\2021_12_03_00-Nov-22.wav', 'C:\\\\Users\\\\AtteR\\\\Desktop\\\\Dry asphalt\\\\2021_12_03_10-Nov-22.wav', 'C:\\\\Users\\\\AtteR\\\\Desktop\\\\Dry asphalt\\\\2021_12_03_19-Nov-22.wav', 'C:\\\\Users\\\\AtteR\\\\Desktop\\\\Dry asphalt\\\\2021_12_03_29-Nov-22.wav', 'C:\\\\Users\\\\AtteR\\\\Desktop\\\\Dry asphalt\\\\2021_12_03_39-Nov-22.wav', 'C:\\\\Users\\\\AtteR\\\\Desktop\\\\Dry asphalt\\\\2021_12_03_48-Nov-22.wav', 'C:\\\\Users\\\\AtteR\\\\Desktop\\\\Dry asphalt\\\\2021_12_03_58-Nov-22.wav', 'C:\\\\Users\\\\AtteR\\\\Desktop\\\\Dry asphalt\\\\2021_12_04_08-Nov-22.wav', 'C:\\\\Users\\\\AtteR\\\\Desktop\\\\Dry asphalt\\\\2021_12_04_17-Nov-22.wav', 'C:\\\\Users\\\\AtteR\\\\Desktop\\\\Dry asphalt\\\\2021_12_04_27-Nov-22.wav', 'C:\\\\Users\\\\AtteR\\\\Desktop\\\\Dry asphalt\\\\2021_12_04_36-Nov-22.wav', 'C:\\\\Users\\\\AtteR\\\\Desktop\\\\Dry asphalt\\\\2021_12_04_46-Nov-22.wav', 'C:\\\\Users\\\\AtteR\\\\Desktop\\\\Dry asphalt\\\\2021_12_04_56-Nov-22.wav', 'C:\\\\Users\\\\AtteR\\\\Desktop\\\\Dry asphalt\\\\2021_12_05_05-Nov-22.wav', 'C:\\\\Users\\\\AtteR\\\\Desktop\\\\Dry asphalt\\\\2021_12_05_15-Nov-22.wav', 'C:\\\\Users\\\\AtteR\\\\Desktop\\\\Dry asphalt\\\\2021_12_05_25-Nov-22.wav', 'C:\\\\Users\\\\AtteR\\\\Desktop\\\\Dry asphalt\\\\2021_12_05_34-Nov-22.wav', 'C:\\\\Users\\\\AtteR\\\\Desktop\\\\Dry asphalt\\\\2021_12_05_44-Nov-22.wav', 'C:\\\\Users\\\\AtteR\\\\Desktop\\\\Dry asphalt\\\\2021_12_05_54-Nov-22.wav', 'C:\\\\Users\\\\AtteR\\\\Desktop\\\\Dry asphalt\\\\2021_12_06_03-Nov-22.wav', 'C:\\\\Users\\\\AtteR\\\\Desktop\\\\Dry asphalt\\\\2021_12_06_13-Nov-22.wav', 'C:\\\\Users\\\\AtteR\\\\Desktop\\\\Dry asphalt\\\\2021_12_06_22-Nov-22(1).wav', 'C:\\\\Users\\\\AtteR\\\\Desktop\\\\Dry asphalt\\\\2021_12_06_22-Nov-22.wav', 'C:\\\\Users\\\\AtteR\\\\Desktop\\\\Dry asphalt\\\\2021_12_06_32-Nov-22(1).wav', 'C:\\\\Users\\\\AtteR\\\\Desktop\\\\Dry asphalt\\\\2021_12_06_32-Nov-22.wav', 'C:\\\\Users\\\\AtteR\\\\Desktop\\\\Dry asphalt\\\\2021_12_06_42-Nov-22.wav', 'C:\\\\Users\\\\AtteR\\\\Desktop\\\\Dry asphalt\\\\2021_12_06_51-Nov-22.wav', 'C:\\\\Users\\\\AtteR\\\\Desktop\\\\Dry asphalt\\\\2021_12_07_01-Nov-22.wav', 'C:\\\\Users\\\\AtteR\\\\Desktop\\\\Dry asphalt\\\\2021_12_07_11-Nov-22.wav', 'C:\\\\Users\\\\AtteR\\\\Desktop\\\\Dry asphalt\\\\2021_12_07_20-Nov-22.wav', 'C:\\\\Users\\\\AtteR\\\\Desktop\\\\Dry asphalt\\\\2021_12_07_30-Nov-22.wav', 'C:\\\\Users\\\\AtteR\\\\Desktop\\\\Dry asphalt\\\\2021_12_07_39-Nov-22.wav', 'C:\\\\Users\\\\AtteR\\\\Desktop\\\\Dry asphalt\\\\2021_12_07_49-Nov-22.wav', 'C:\\\\Users\\\\AtteR\\\\Desktop\\\\Dry asphalt\\\\2021_12_08_08-Nov-22.wav', 'C:\\\\Users\\\\AtteR\\\\Desktop\\\\Dry asphalt\\\\2021_12_08_18-Nov-22.wav', 'C:\\\\Users\\\\AtteR\\\\Desktop\\\\Dry asphalt\\\\2021_12_08_28-Nov-22.wav', 'C:\\\\Users\\\\AtteR\\\\Desktop\\\\Dry asphalt\\\\2021_12_08_37-Nov-22.wav', 'C:\\\\Users\\\\AtteR\\\\Desktop\\\\Dry asphalt\\\\2021_12_09_06-Nov-22.wav', 'C:\\\\Users\\\\AtteR\\\\Desktop\\\\Dry asphalt\\\\2021_12_09_16-Nov-22.wav', 'C:\\\\Users\\\\AtteR\\\\Desktop\\\\Dry asphalt\\\\2021_12_10_23-Nov-22.wav', 'C:\\\\Users\\\\AtteR\\\\Desktop\\\\Dry asphalt\\\\2021_12_10_33-Nov-22.wav', 'C:\\\\Users\\\\AtteR\\\\Desktop\\\\Dry asphalt\\\\2021_12_10_42-Nov-22.wav', 'C:\\\\Users\\\\AtteR\\\\Desktop\\\\Dry asphalt\\\\2021_12_11_11-Nov-22.wav', 'C:\\\\Users\\\\AtteR\\\\Desktop\\\\Dry asphalt\\\\2021_12_11_21-Nov-22.wav', 'C:\\\\Users\\\\AtteR\\\\Desktop\\\\Dry asphalt\\\\2021_12_11_31-Nov-22.wav', 'C:\\\\Users\\\\AtteR\\\\Desktop\\\\Dry asphalt\\\\2021_12_11_40-Nov-22.wav', 'C:\\\\Users\\\\AtteR\\\\Desktop\\\\Dry asphalt\\\\2021_12_11_50-Nov-22.wav', 'C:\\\\Users\\\\AtteR\\\\Desktop\\\\Dry asphalt\\\\2021_12_11_59-Nov-22.wav', 'C:\\\\Users\\\\AtteR\\\\Desktop\\\\Dry asphalt\\\\2021_12_12_09-Nov-22.wav', 'C:\\\\Users\\\\AtteR\\\\Desktop\\\\Dry asphalt\\\\2021_12_12_19-Nov-22.wav', 'C:\\\\Users\\\\AtteR\\\\Desktop\\\\Dry asphalt\\\\2021_12_12_28-Nov-22.wav']\n"
     ]
    },
    {
     "name": "stdout",
     "output_type": "stream",
     "text": [
      "['C:\\\\Users\\\\AtteR\\\\Desktop\\\\Wet asphalt\\\\2021_14_54_08-Nov-10.wav', 'C:\\\\Users\\\\AtteR\\\\Desktop\\\\Wet asphalt\\\\2021_14_54_18-Nov-10.wav', 'C:\\\\Users\\\\AtteR\\\\Desktop\\\\Wet asphalt\\\\2021_14_54_28-Nov-10.wav', 'C:\\\\Users\\\\AtteR\\\\Desktop\\\\Wet asphalt\\\\2021_14_54_39-Nov-10.wav', 'C:\\\\Users\\\\AtteR\\\\Desktop\\\\Wet asphalt\\\\2021_14_54_49-Nov-10.wav', 'C:\\\\Users\\\\AtteR\\\\Desktop\\\\Wet asphalt\\\\2021_14_54_59-Nov-10.wav', 'C:\\\\Users\\\\AtteR\\\\Desktop\\\\Wet asphalt\\\\2021_14_55_09-Nov-10.wav', 'C:\\\\Users\\\\AtteR\\\\Desktop\\\\Wet asphalt\\\\2021_14_55_19-Nov-10.wav', 'C:\\\\Users\\\\AtteR\\\\Desktop\\\\Wet asphalt\\\\2021_14_55_30-Nov-10.wav', 'C:\\\\Users\\\\AtteR\\\\Desktop\\\\Wet asphalt\\\\2021_14_55_40-Nov-10.wav', 'C:\\\\Users\\\\AtteR\\\\Desktop\\\\Wet asphalt\\\\2021_14_55_50-Nov-10.wav', 'C:\\\\Users\\\\AtteR\\\\Desktop\\\\Wet asphalt\\\\2021_14_56_00-Nov-10.wav', 'C:\\\\Users\\\\AtteR\\\\Desktop\\\\Wet asphalt\\\\2021_14_56_10-Nov-10.wav', 'C:\\\\Users\\\\AtteR\\\\Desktop\\\\Wet asphalt\\\\2021_14_56_20-Nov-10.wav', 'C:\\\\Users\\\\AtteR\\\\Desktop\\\\Wet asphalt\\\\2021_14_56_31-Nov-10.wav', 'C:\\\\Users\\\\AtteR\\\\Desktop\\\\Wet asphalt\\\\2021_14_56_41-Nov-10.wav', 'C:\\\\Users\\\\AtteR\\\\Desktop\\\\Wet asphalt\\\\2021_14_56_51-Nov-10.wav', 'C:\\\\Users\\\\AtteR\\\\Desktop\\\\Wet asphalt\\\\2021_14_57_01-Nov-10.wav', 'C:\\\\Users\\\\AtteR\\\\Desktop\\\\Wet asphalt\\\\2021_14_57_11-Nov-10.wav', 'C:\\\\Users\\\\AtteR\\\\Desktop\\\\Wet asphalt\\\\2021_14_57_22-Nov-10.wav', 'C:\\\\Users\\\\AtteR\\\\Desktop\\\\Wet asphalt\\\\2021_14_57_32-Nov-10.wav', 'C:\\\\Users\\\\AtteR\\\\Desktop\\\\Wet asphalt\\\\2021_14_57_42-Nov-10.wav', 'C:\\\\Users\\\\AtteR\\\\Desktop\\\\Wet asphalt\\\\2021_14_57_52-Nov-10.wav', 'C:\\\\Users\\\\AtteR\\\\Desktop\\\\Wet asphalt\\\\2021_14_58_02-Nov-10.wav', 'C:\\\\Users\\\\AtteR\\\\Desktop\\\\Wet asphalt\\\\2021_14_58_13-Nov-10.wav', 'C:\\\\Users\\\\AtteR\\\\Desktop\\\\Wet asphalt\\\\2021_14_58_23-Nov-10.wav', 'C:\\\\Users\\\\AtteR\\\\Desktop\\\\Wet asphalt\\\\2021_14_58_33-Nov-10.wav', 'C:\\\\Users\\\\AtteR\\\\Desktop\\\\Wet asphalt\\\\2021_14_58_43-Nov-10.wav', 'C:\\\\Users\\\\AtteR\\\\Desktop\\\\Wet asphalt\\\\2021_14_58_53-Nov-10.wav', 'C:\\\\Users\\\\AtteR\\\\Desktop\\\\Wet asphalt\\\\2021_14_59_04-Nov-10.wav', 'C:\\\\Users\\\\AtteR\\\\Desktop\\\\Wet asphalt\\\\2021_14_59_14-Nov-10.wav', 'C:\\\\Users\\\\AtteR\\\\Desktop\\\\Wet asphalt\\\\2021_14_59_24-Nov-10.wav', 'C:\\\\Users\\\\AtteR\\\\Desktop\\\\Wet asphalt\\\\2021_14_59_34-Nov-10.wav', 'C:\\\\Users\\\\AtteR\\\\Desktop\\\\Wet asphalt\\\\2021_14_59_55-Nov-10.wav', 'C:\\\\Users\\\\AtteR\\\\Desktop\\\\Wet asphalt\\\\2021_15_00_05-Nov-10.wav', 'C:\\\\Users\\\\AtteR\\\\Desktop\\\\Wet asphalt\\\\2021_15_00_15-Nov-10.wav', 'C:\\\\Users\\\\AtteR\\\\Desktop\\\\Wet asphalt\\\\2021_15_00_25-Nov-10.wav', 'C:\\\\Users\\\\AtteR\\\\Desktop\\\\Wet asphalt\\\\2021_15_00_35-Nov-10.wav', 'C:\\\\Users\\\\AtteR\\\\Desktop\\\\Wet asphalt\\\\2021_15_00_45-Nov-10.wav', 'C:\\\\Users\\\\AtteR\\\\Desktop\\\\Wet asphalt\\\\2021_15_00_56-Nov-10.wav', 'C:\\\\Users\\\\AtteR\\\\Desktop\\\\Wet asphalt\\\\2021_15_01_06-Nov-10.wav', 'C:\\\\Users\\\\AtteR\\\\Desktop\\\\Wet asphalt\\\\2021_15_01_16-Nov-10.wav', 'C:\\\\Users\\\\AtteR\\\\Desktop\\\\Wet asphalt\\\\2021_15_01_26-Nov-10.wav', 'C:\\\\Users\\\\AtteR\\\\Desktop\\\\Wet asphalt\\\\2021_15_01_36-Nov-10.wav', 'C:\\\\Users\\\\AtteR\\\\Desktop\\\\Wet asphalt\\\\2021_15_01_47-Nov-10.wav', 'C:\\\\Users\\\\AtteR\\\\Desktop\\\\Wet asphalt\\\\2021_15_01_57-Nov-10.wav', 'C:\\\\Users\\\\AtteR\\\\Desktop\\\\Wet asphalt\\\\2021_15_02_07-Nov-10.wav', 'C:\\\\Users\\\\AtteR\\\\Desktop\\\\Wet asphalt\\\\2021_15_02_17-Nov-10.wav', 'C:\\\\Users\\\\AtteR\\\\Desktop\\\\Wet asphalt\\\\2021_15_02_27-Nov-10.wav', 'C:\\\\Users\\\\AtteR\\\\Desktop\\\\Wet asphalt\\\\2021_15_02_38-Nov-10.wav', 'C:\\\\Users\\\\AtteR\\\\Desktop\\\\Wet asphalt\\\\2021_15_02_48-Nov-10.wav', 'C:\\\\Users\\\\AtteR\\\\Desktop\\\\Wet asphalt\\\\2021_15_02_58-Nov-10.wav', 'C:\\\\Users\\\\AtteR\\\\Desktop\\\\Wet asphalt\\\\2021_15_03_08-Nov-10.wav', 'C:\\\\Users\\\\AtteR\\\\Desktop\\\\Wet asphalt\\\\2021_15_03_18-Nov-10.wav', 'C:\\\\Users\\\\AtteR\\\\Desktop\\\\Wet asphalt\\\\2021_15_03_29-Nov-10.wav', 'C:\\\\Users\\\\AtteR\\\\Desktop\\\\Wet asphalt\\\\2021_15_03_39-Nov-10.wav', 'C:\\\\Users\\\\AtteR\\\\Desktop\\\\Wet asphalt\\\\2021_15_03_49-Nov-10.wav', 'C:\\\\Users\\\\AtteR\\\\Desktop\\\\Wet asphalt\\\\2021_15_03_59-Nov-10.wav', 'C:\\\\Users\\\\AtteR\\\\Desktop\\\\Wet asphalt\\\\2021_15_04_09-Nov-10.wav', 'C:\\\\Users\\\\AtteR\\\\Desktop\\\\Wet asphalt\\\\2021_15_04_19-Nov-10.wav', 'C:\\\\Users\\\\AtteR\\\\Desktop\\\\Wet asphalt\\\\2021_15_04_30-Nov-10.wav', 'C:\\\\Users\\\\AtteR\\\\Desktop\\\\Wet asphalt\\\\2021_15_04_40-Nov-10.wav', 'C:\\\\Users\\\\AtteR\\\\Desktop\\\\Wet asphalt\\\\2021_15_08_34-Nov-10.wav', 'C:\\\\Users\\\\AtteR\\\\Desktop\\\\Wet asphalt\\\\2021_15_08_44-Nov-10.wav', 'C:\\\\Users\\\\AtteR\\\\Desktop\\\\Wet asphalt\\\\2021_15_08_55-Nov-10.wav', 'C:\\\\Users\\\\AtteR\\\\Desktop\\\\Wet asphalt\\\\2021_15_09_05-Nov-10.wav', 'C:\\\\Users\\\\AtteR\\\\Desktop\\\\Wet asphalt\\\\2021_15_09_15-Nov-10.wav', 'C:\\\\Users\\\\AtteR\\\\Desktop\\\\Wet asphalt\\\\2021_15_09_25-Nov-10.wav', 'C:\\\\Users\\\\AtteR\\\\Desktop\\\\Wet asphalt\\\\2021_15_09_35-Nov-10.wav', 'C:\\\\Users\\\\AtteR\\\\Desktop\\\\Wet asphalt\\\\2021_15_09_46-Nov-10.wav', 'C:\\\\Users\\\\AtteR\\\\Desktop\\\\Wet asphalt\\\\2021_15_09_56-Nov-10.wav', 'C:\\\\Users\\\\AtteR\\\\Desktop\\\\Wet asphalt\\\\2021_15_10_06-Nov-10.wav', 'C:\\\\Users\\\\AtteR\\\\Desktop\\\\Wet asphalt\\\\2021_15_10_16-Nov-10.wav', 'C:\\\\Users\\\\AtteR\\\\Desktop\\\\Wet asphalt\\\\2021_15_10_26-Nov-10.wav', 'C:\\\\Users\\\\AtteR\\\\Desktop\\\\Wet asphalt\\\\2021_15_10_37-Nov-10.wav', 'C:\\\\Users\\\\AtteR\\\\Desktop\\\\Wet asphalt\\\\2021_15_10_47-Nov-10.wav', 'C:\\\\Users\\\\AtteR\\\\Desktop\\\\Wet asphalt\\\\2021_15_10_57-Nov-10.wav', 'C:\\\\Users\\\\AtteR\\\\Desktop\\\\Wet asphalt\\\\2021_15_11_07-Nov-10.wav', 'C:\\\\Users\\\\AtteR\\\\Desktop\\\\Wet asphalt\\\\2021_15_11_17-Nov-10.wav', 'C:\\\\Users\\\\AtteR\\\\Desktop\\\\Wet asphalt\\\\2021_15_13_40-Nov-10.wav', 'C:\\\\Users\\\\AtteR\\\\Desktop\\\\Wet asphalt\\\\2021_15_13_50-Nov-10.wav', 'C:\\\\Users\\\\AtteR\\\\Desktop\\\\Wet asphalt\\\\2021_15_14_00-Nov-10.wav', 'C:\\\\Users\\\\AtteR\\\\Desktop\\\\Wet asphalt\\\\2021_15_14_11-Nov-10.wav', 'C:\\\\Users\\\\AtteR\\\\Desktop\\\\Wet asphalt\\\\2021_15_14_21-Nov-10.wav', 'C:\\\\Users\\\\AtteR\\\\Desktop\\\\Wet asphalt\\\\2021_15_14_31-Nov-10.wav', 'C:\\\\Users\\\\AtteR\\\\Desktop\\\\Wet asphalt\\\\2021_15_14_41-Nov-10.wav', 'C:\\\\Users\\\\AtteR\\\\Desktop\\\\Wet asphalt\\\\2021_15_14_51-Nov-10.wav', 'C:\\\\Users\\\\AtteR\\\\Desktop\\\\Wet asphalt\\\\2021_15_15_02-Nov-10.wav', 'C:\\\\Users\\\\AtteR\\\\Desktop\\\\Wet asphalt\\\\2021_15_15_12-Nov-10.wav', 'C:\\\\Users\\\\AtteR\\\\Desktop\\\\Wet asphalt\\\\2021_15_15_22-Nov-10.wav', 'C:\\\\Users\\\\AtteR\\\\Desktop\\\\Wet asphalt\\\\2021_15_15_32-Nov-10.wav', 'C:\\\\Users\\\\AtteR\\\\Desktop\\\\Wet asphalt\\\\2021_15_15_42-Nov-10.wav', 'C:\\\\Users\\\\AtteR\\\\Desktop\\\\Wet asphalt\\\\2021_15_15_53-Nov-10.wav', 'C:\\\\Users\\\\AtteR\\\\Desktop\\\\Wet asphalt\\\\2021_15_16_03-Nov-10.wav', 'C:\\\\Users\\\\AtteR\\\\Desktop\\\\Wet asphalt\\\\2021_15_16_13-Nov-10.wav', 'C:\\\\Users\\\\AtteR\\\\Desktop\\\\Wet asphalt\\\\2021_15_16_23-Nov-10.wav', 'C:\\\\Users\\\\AtteR\\\\Desktop\\\\Wet asphalt\\\\2021_15_16_33-Nov-10.wav', 'C:\\\\Users\\\\AtteR\\\\Desktop\\\\Wet asphalt\\\\2021_15_16_44-Nov-10.wav', 'C:\\\\Users\\\\AtteR\\\\Desktop\\\\Wet asphalt\\\\2021_15_16_54-Nov-10.wav', 'C:\\\\Users\\\\AtteR\\\\Desktop\\\\Wet asphalt\\\\2021_15_17_04-Nov-10.wav', 'C:\\\\Users\\\\AtteR\\\\Desktop\\\\Wet asphalt\\\\2021_15_17_14-Nov-10.wav', 'C:\\\\Users\\\\AtteR\\\\Desktop\\\\Wet asphalt\\\\2021_15_17_24-Nov-10.wav', 'C:\\\\Users\\\\AtteR\\\\Desktop\\\\Wet asphalt\\\\2021_15_17_34-Nov-10.wav', 'C:\\\\Users\\\\AtteR\\\\Desktop\\\\Wet asphalt\\\\2021_15_17_45-Nov-10.wav', 'C:\\\\Users\\\\AtteR\\\\Desktop\\\\Wet asphalt\\\\2021_15_17_55-Nov-10.wav', 'C:\\\\Users\\\\AtteR\\\\Desktop\\\\Wet asphalt\\\\2021_15_18_05-Nov-10.wav', 'C:\\\\Users\\\\AtteR\\\\Desktop\\\\Wet asphalt\\\\2021_15_18_15-Nov-10.wav', 'C:\\\\Users\\\\AtteR\\\\Desktop\\\\Wet asphalt\\\\2021_15_18_25-Nov-10.wav', 'C:\\\\Users\\\\AtteR\\\\Desktop\\\\Wet asphalt\\\\2021_15_18_36-Nov-10.wav', 'C:\\\\Users\\\\AtteR\\\\Desktop\\\\Wet asphalt\\\\2021_15_18_46-Nov-10.wav', 'C:\\\\Users\\\\AtteR\\\\Desktop\\\\Wet asphalt\\\\2022_14_44_14-Jan-13.wav', 'C:\\\\Users\\\\AtteR\\\\Desktop\\\\Wet asphalt\\\\2022_14_44_24-Jan-13.wav', 'C:\\\\Users\\\\AtteR\\\\Desktop\\\\Wet asphalt\\\\2022_14_44_35-Jan-13.wav', 'C:\\\\Users\\\\AtteR\\\\Desktop\\\\Wet asphalt\\\\2022_14_44_45-Jan-13.wav', 'C:\\\\Users\\\\AtteR\\\\Desktop\\\\Wet asphalt\\\\2022_14_44_55-Jan-13.wav', 'C:\\\\Users\\\\AtteR\\\\Desktop\\\\Wet asphalt\\\\2022_14_45_05-Jan-13.wav', 'C:\\\\Users\\\\AtteR\\\\Desktop\\\\Wet asphalt\\\\2022_14_45_15-Jan-13.wav', 'C:\\\\Users\\\\AtteR\\\\Desktop\\\\Wet asphalt\\\\2022_14_45_26-Jan-13.wav', 'C:\\\\Users\\\\AtteR\\\\Desktop\\\\Wet asphalt\\\\2022_14_45_36-Jan-13.wav', 'C:\\\\Users\\\\AtteR\\\\Desktop\\\\Wet asphalt\\\\2022_14_45_46-Jan-13.wav', 'C:\\\\Users\\\\AtteR\\\\Desktop\\\\Wet asphalt\\\\2022_14_45_56-Jan-13.wav', 'C:\\\\Users\\\\AtteR\\\\Desktop\\\\Wet asphalt\\\\2022_14_46_06-Jan-13.wav', 'C:\\\\Users\\\\AtteR\\\\Desktop\\\\Wet asphalt\\\\2022_14_46_17-Jan-13.wav', 'C:\\\\Users\\\\AtteR\\\\Desktop\\\\Wet asphalt\\\\2022_14_46_27-Jan-13.wav', 'C:\\\\Users\\\\AtteR\\\\Desktop\\\\Wet asphalt\\\\2022_14_46_37-Jan-13.wav', 'C:\\\\Users\\\\AtteR\\\\Desktop\\\\Wet asphalt\\\\2022_14_46_47-Jan-13.wav', 'C:\\\\Users\\\\AtteR\\\\Desktop\\\\Wet asphalt\\\\2022_14_46_57-Jan-13.wav', 'C:\\\\Users\\\\AtteR\\\\Desktop\\\\Wet asphalt\\\\2022_14_47_07-Jan-13.wav', 'C:\\\\Users\\\\AtteR\\\\Desktop\\\\Wet asphalt\\\\2022_14_47_18-Jan-13.wav', 'C:\\\\Users\\\\AtteR\\\\Desktop\\\\Wet asphalt\\\\2022_14_47_28-Jan-13.wav', 'C:\\\\Users\\\\AtteR\\\\Desktop\\\\Wet asphalt\\\\2022_14_47_38-Jan-13.wav', 'C:\\\\Users\\\\AtteR\\\\Desktop\\\\Wet asphalt\\\\2022_14_47_48-Jan-13.wav', 'C:\\\\Users\\\\AtteR\\\\Desktop\\\\Wet asphalt\\\\2022_14_47_58-Jan-13.wav', 'C:\\\\Users\\\\AtteR\\\\Desktop\\\\Wet asphalt\\\\2022_14_48_09-Jan-13.wav', 'C:\\\\Users\\\\AtteR\\\\Desktop\\\\Wet asphalt\\\\2022_14_48_19-Jan-13.wav', 'C:\\\\Users\\\\AtteR\\\\Desktop\\\\Wet asphalt\\\\2022_14_48_29-Jan-13.wav', 'C:\\\\Users\\\\AtteR\\\\Desktop\\\\Wet asphalt\\\\2022_14_48_39-Jan-13.wav', 'C:\\\\Users\\\\AtteR\\\\Desktop\\\\Wet asphalt\\\\2022_14_48_49-Jan-13.wav', 'C:\\\\Users\\\\AtteR\\\\Desktop\\\\Wet asphalt\\\\2022_14_49_00-Jan-13.wav', 'C:\\\\Users\\\\AtteR\\\\Desktop\\\\Wet asphalt\\\\2022_14_49_10-Jan-13.wav', 'C:\\\\Users\\\\AtteR\\\\Desktop\\\\Wet asphalt\\\\2022_14_49_20-Jan-13.wav', 'C:\\\\Users\\\\AtteR\\\\Desktop\\\\Wet asphalt\\\\2022_15_00_45-Jan-13.wav', 'C:\\\\Users\\\\AtteR\\\\Desktop\\\\Wet asphalt\\\\2022_15_00_55-Jan-13.wav', 'C:\\\\Users\\\\AtteR\\\\Desktop\\\\Wet asphalt\\\\2022_15_01_05-Jan-13.wav', 'C:\\\\Users\\\\AtteR\\\\Desktop\\\\Wet asphalt\\\\2022_15_01_15-Jan-13.wav', 'C:\\\\Users\\\\AtteR\\\\Desktop\\\\Wet asphalt\\\\2022_15_01_26-Jan-13.wav', 'C:\\\\Users\\\\AtteR\\\\Desktop\\\\Wet asphalt\\\\2022_15_01_36-Jan-13.wav', 'C:\\\\Users\\\\AtteR\\\\Desktop\\\\Wet asphalt\\\\2022_15_01_46-Jan-13.wav', 'C:\\\\Users\\\\AtteR\\\\Desktop\\\\Wet asphalt\\\\2022_15_01_56-Jan-13.wav', 'C:\\\\Users\\\\AtteR\\\\Desktop\\\\Wet asphalt\\\\2022_15_02_06-Jan-13.wav', 'C:\\\\Users\\\\AtteR\\\\Desktop\\\\Wet asphalt\\\\2022_15_02_17-Jan-13.wav', 'C:\\\\Users\\\\AtteR\\\\Desktop\\\\Wet asphalt\\\\2022_15_02_27-Jan-13.wav', 'C:\\\\Users\\\\AtteR\\\\Desktop\\\\Wet asphalt\\\\2022_15_02_37-Jan-13.wav', 'C:\\\\Users\\\\AtteR\\\\Desktop\\\\Wet asphalt\\\\2022_15_02_47-Jan-13.wav', 'C:\\\\Users\\\\AtteR\\\\Desktop\\\\Wet asphalt\\\\2022_15_02_57-Jan-13.wav', 'C:\\\\Users\\\\AtteR\\\\Desktop\\\\Wet asphalt\\\\2022_15_03_08-Jan-13.wav', 'C:\\\\Users\\\\AtteR\\\\Desktop\\\\Wet asphalt\\\\2022_15_03_18-Jan-13.wav', 'C:\\\\Users\\\\AtteR\\\\Desktop\\\\Wet asphalt\\\\2022_15_03_28-Jan-13.wav', 'C:\\\\Users\\\\AtteR\\\\Desktop\\\\Wet asphalt\\\\2022_15_03_38-Jan-13.wav', 'C:\\\\Users\\\\AtteR\\\\Desktop\\\\Wet asphalt\\\\2022_15_03_48-Jan-13.wav', 'C:\\\\Users\\\\AtteR\\\\Desktop\\\\Wet asphalt\\\\2022_15_03_59-Jan-13.wav']\n"
     ]
    },
    {
     "name": "stdout",
     "output_type": "stream",
     "text": [
      "['C:\\\\Users\\\\AtteR\\\\Desktop\\\\Ice\\\\2022_14_51_14-Jan-13.wav', 'C:\\\\Users\\\\AtteR\\\\Desktop\\\\Ice\\\\2022_14_51_24-Jan-13.wav', 'C:\\\\Users\\\\AtteR\\\\Desktop\\\\Ice\\\\2022_14_51_34-Jan-13.wav', 'C:\\\\Users\\\\AtteR\\\\Desktop\\\\Ice\\\\2022_14_51_45-Jan-13.wav', 'C:\\\\Users\\\\AtteR\\\\Desktop\\\\Ice\\\\2022_14_56_20-Jan-13.wav', 'C:\\\\Users\\\\AtteR\\\\Desktop\\\\Ice\\\\2022_14_56_30-Jan-13.wav', 'C:\\\\Users\\\\AtteR\\\\Desktop\\\\Ice\\\\2022_14_57_21-Jan-13.wav', 'C:\\\\Users\\\\AtteR\\\\Desktop\\\\Ice\\\\2022_14_57_31-Jan-13.wav', 'C:\\\\Users\\\\AtteR\\\\Desktop\\\\Ice\\\\2022_14_59_03-Jan-13.wav', 'C:\\\\Users\\\\AtteR\\\\Desktop\\\\Ice\\\\2022_14_59_13-Jan-13.wav', 'C:\\\\Users\\\\AtteR\\\\Desktop\\\\Ice\\\\2022_14_59_23-Jan-13.wav', 'C:\\\\Users\\\\AtteR\\\\Desktop\\\\Ice\\\\2022_14_59_34-Jan-13.wav', 'C:\\\\Users\\\\AtteR\\\\Desktop\\\\Ice\\\\2022_14_59_44-Jan-13.wav', 'C:\\\\Users\\\\AtteR\\\\Desktop\\\\Ice\\\\2022_15_00_14-Jan-13.wav']\n"
     ]
    }
   ],
   "source": [
    "wg_path = \"C:\\\\Users\\\\AtteR\\\\Desktop\\\\Wet gravel\"\n",
    "dg_path = \"C:\\\\Users\\\\AtteR\\\\Desktop\\\\Dry gravel\"\n",
    "da_path = \"C:\\\\Users\\\\AtteR\\\\Desktop\\\\Dry asphalt\"\n",
    "wa_path = \"C:\\\\Users\\\\AtteR\\\\Desktop\\\\Wet asphalt\"\n",
    "ice_path=\"C:\\\\Users\\\\AtteR\\\\Desktop\\\\Ice\"\n",
    "wg_features=np.asarray(get_features_from_folder(wg_path,\"Wet gravel\",decimation_factor))\n",
    "dg_features=np.asarray(get_features_from_folder(dg_path,\"Dry gravel\",decimation_factor))\n",
    "da_features=np.asarray(get_features_from_folder(da_path,\"Dry asphalt\",decimation_factor))\n",
    "wa_features=np.asarray(get_features_from_folder(wa_path,\"Wet asphalt\",decimation_factor))\n",
    "ice_features=np.asarray(get_features_from_folder(ice_path,\"Ice\",decimation_factor))"
   ]
  },
  {
   "cell_type": "code",
   "execution_count": 6,
   "id": "cdc8edb6",
   "metadata": {},
   "outputs": [
    {
     "name": "stdout",
     "output_type": "stream",
     "text": [
      "93 246 1176 483 42\n"
     ]
    }
   ],
   "source": [
    "print(len(wg_features),len(dg_features),len(da_features),len(wa_features),len(ice_features))"
   ]
  },
  {
   "cell_type": "code",
   "execution_count": 7,
   "id": "50d2fced",
   "metadata": {},
   "outputs": [],
   "source": [
    "all_features=np.concatenate((wg_features,dg_features,da_features,wa_features,ice_features))"
   ]
  },
  {
   "cell_type": "code",
   "execution_count": 8,
   "id": "5b687bf0",
   "metadata": {},
   "outputs": [
    {
     "data": {
      "text/html": [
       "<div>\n",
       "<style scoped>\n",
       "    .dataframe tbody tr th:only-of-type {\n",
       "        vertical-align: middle;\n",
       "    }\n",
       "\n",
       "    .dataframe tbody tr th {\n",
       "        vertical-align: top;\n",
       "    }\n",
       "\n",
       "    .dataframe thead th {\n",
       "        text-align: right;\n",
       "    }\n",
       "</style>\n",
       "<table border=\"1\" class=\"dataframe\">\n",
       "  <thead>\n",
       "    <tr style=\"text-align: right;\">\n",
       "      <th></th>\n",
       "      <th>Label</th>\n",
       "      <th>RMS</th>\n",
       "      <th>RMS_filt</th>\n",
       "      <th>Spectral_centroid</th>\n",
       "      <th>Spectral_centroid_filt</th>\n",
       "      <th>Zero-Cross</th>\n",
       "      <th>Zero-Cross_filt</th>\n",
       "      <th>Spectral_slope</th>\n",
       "      <th>Spectral_slope_filt</th>\n",
       "      <th>Spectral_spread</th>\n",
       "      <th>Spectral_spread_filt</th>\n",
       "      <th>STD</th>\n",
       "      <th>STD_filt</th>\n",
       "    </tr>\n",
       "  </thead>\n",
       "  <tbody>\n",
       "    <tr>\n",
       "      <th>0</th>\n",
       "      <td>Wet gravel</td>\n",
       "      <td>121.36131809749838</td>\n",
       "      <td>85.66330485275074</td>\n",
       "      <td>1214</td>\n",
       "      <td>1823</td>\n",
       "      <td>706.9415625251071</td>\n",
       "      <td>809.972502854982</td>\n",
       "      <td>-4.8933685023070076e-08</td>\n",
       "      <td>-4.647319707918017e-08</td>\n",
       "      <td>892.8185297524504</td>\n",
       "      <td>921.568378125202</td>\n",
       "      <td>121.36056846669014</td>\n",
       "      <td>85.66330138684029</td>\n",
       "    </tr>\n",
       "    <tr>\n",
       "      <th>1</th>\n",
       "      <td>Wet gravel</td>\n",
       "      <td>121.90214827468019</td>\n",
       "      <td>85.40397070703878</td>\n",
       "      <td>1848</td>\n",
       "      <td>2742</td>\n",
       "      <td>932.7300968143064</td>\n",
       "      <td>1058.8196428804586</td>\n",
       "      <td>-4.3541615760104636e-08</td>\n",
       "      <td>-4.053046389685839e-08</td>\n",
       "      <td>1101.399680725606</td>\n",
       "      <td>1121.3505005573843</td>\n",
       "      <td>121.90049301208536</td>\n",
       "      <td>85.40396706413705</td>\n",
       "    </tr>\n",
       "    <tr>\n",
       "      <th>2</th>\n",
       "      <td>Wet gravel</td>\n",
       "      <td>143.28180471309255</td>\n",
       "      <td>105.14578176416187</td>\n",
       "      <td>3565</td>\n",
       "      <td>5045</td>\n",
       "      <td>1296.9443048741527</td>\n",
       "      <td>1440.8023292284233</td>\n",
       "      <td>-3.484379484285918e-08</td>\n",
       "      <td>-3.1408312904887706e-08</td>\n",
       "      <td>1250.8410036799442</td>\n",
       "      <td>1237.9137111956707</td>\n",
       "      <td>143.28178096470862</td>\n",
       "      <td>105.14576505054569</td>\n",
       "    </tr>\n",
       "    <tr>\n",
       "      <th>3</th>\n",
       "      <td>Wet gravel</td>\n",
       "      <td>178.57684499761723</td>\n",
       "      <td>131.94747599701756</td>\n",
       "      <td>3382</td>\n",
       "      <td>4469</td>\n",
       "      <td>1170.1359729761057</td>\n",
       "      <td>1333.2253123851224</td>\n",
       "      <td>-3.7872112072819084e-08</td>\n",
       "      <td>-3.397736596928871e-08</td>\n",
       "      <td>1232.239102502508</td>\n",
       "      <td>1234.1362104420862</td>\n",
       "      <td>178.5766307977514</td>\n",
       "      <td>131.9474702286461</td>\n",
       "    </tr>\n",
       "    <tr>\n",
       "      <th>4</th>\n",
       "      <td>Wet gravel</td>\n",
       "      <td>329.4445975085013</td>\n",
       "      <td>265.59582849115066</td>\n",
       "      <td>4865</td>\n",
       "      <td>6218</td>\n",
       "      <td>1467.4235617340914</td>\n",
       "      <td>1604.4018246404044</td>\n",
       "      <td>-3.0772569686181085e-08</td>\n",
       "      <td>-2.75013837358551e-08</td>\n",
       "      <td>1330.6052972625894</td>\n",
       "      <td>1315.9158175468494</td>\n",
       "      <td>329.444252396269</td>\n",
       "      <td>265.595823619754</td>\n",
       "    </tr>\n",
       "  </tbody>\n",
       "</table>\n",
       "</div>"
      ],
      "text/plain": [
       "        Label                 RMS            RMS_filt Spectral_centroid  \\\n",
       "0  Wet gravel  121.36131809749838   85.66330485275074              1214   \n",
       "1  Wet gravel  121.90214827468019   85.40397070703878              1848   \n",
       "2  Wet gravel  143.28180471309255  105.14578176416187              3565   \n",
       "3  Wet gravel  178.57684499761723  131.94747599701756              3382   \n",
       "4  Wet gravel   329.4445975085013  265.59582849115066              4865   \n",
       "\n",
       "  Spectral_centroid_filt          Zero-Cross     Zero-Cross_filt  \\\n",
       "0                   1823   706.9415625251071    809.972502854982   \n",
       "1                   2742   932.7300968143064  1058.8196428804586   \n",
       "2                   5045  1296.9443048741527  1440.8023292284233   \n",
       "3                   4469  1170.1359729761057  1333.2253123851224   \n",
       "4                   6218  1467.4235617340914  1604.4018246404044   \n",
       "\n",
       "            Spectral_slope      Spectral_slope_filt     Spectral_spread  \\\n",
       "0  -4.8933685023070076e-08   -4.647319707918017e-08   892.8185297524504   \n",
       "1  -4.3541615760104636e-08   -4.053046389685839e-08   1101.399680725606   \n",
       "2   -3.484379484285918e-08  -3.1408312904887706e-08  1250.8410036799442   \n",
       "3  -3.7872112072819084e-08   -3.397736596928871e-08   1232.239102502508   \n",
       "4  -3.0772569686181085e-08    -2.75013837358551e-08  1330.6052972625894   \n",
       "\n",
       "  Spectral_spread_filt                 STD            STD_filt  \n",
       "0     921.568378125202  121.36056846669014   85.66330138684029  \n",
       "1   1121.3505005573843  121.90049301208536   85.40396706413705  \n",
       "2   1237.9137111956707  143.28178096470862  105.14576505054569  \n",
       "3   1234.1362104420862   178.5766307977514   131.9474702286461  \n",
       "4   1315.9158175468494    329.444252396269    265.595823619754  "
      ]
     },
     "execution_count": 8,
     "metadata": {},
     "output_type": "execute_result"
    }
   ],
   "source": [
    "columnlist=[\"Label\",\"RMS\", \"RMS_filt\", \"Spectral_centroid\", \"Spectral_centroid_filt\",\\\n",
    "                \"Zero-Cross\", \"Zero-Cross_filt\", \"Spectral_slope\", \\\n",
    "                    \"Spectral_slope_filt\", \"Spectral_spread\", \\\n",
    "                        \"Spectral_spread_filt\", \"STD\", \"STD_filt\"]\n",
    "roadtype_features_df=pd.DataFrame(all_features,columns=columnlist)\n",
    "roadtype_features_df.head()"
   ]
  },
  {
   "cell_type": "code",
   "execution_count": 9,
   "id": "b0ce5727",
   "metadata": {},
   "outputs": [
    {
     "name": "stdout",
     "output_type": "stream",
     "text": [
      "2040\n",
      "2040\n"
     ]
    }
   ],
   "source": [
    "print(len(roadtype_features_df))\n",
    "roadtype_features_df = roadtype_features_df.dropna()\n",
    "print(len(roadtype_features_df))"
   ]
  },
  {
   "cell_type": "code",
   "execution_count": 10,
   "id": "f73327c8",
   "metadata": {},
   "outputs": [
    {
     "name": "stdout",
     "output_type": "stream",
     "text": [
      "2040\n"
     ]
    },
    {
     "data": {
      "text/html": [
       "<div>\n",
       "<style scoped>\n",
       "    .dataframe tbody tr th:only-of-type {\n",
       "        vertical-align: middle;\n",
       "    }\n",
       "\n",
       "    .dataframe tbody tr th {\n",
       "        vertical-align: top;\n",
       "    }\n",
       "\n",
       "    .dataframe thead th {\n",
       "        text-align: right;\n",
       "    }\n",
       "</style>\n",
       "<table border=\"1\" class=\"dataframe\">\n",
       "  <thead>\n",
       "    <tr style=\"text-align: right;\">\n",
       "      <th></th>\n",
       "      <th>RMS</th>\n",
       "      <th>RMS_filt</th>\n",
       "      <th>Spectral_centroid</th>\n",
       "      <th>Spectral_centroid_filt</th>\n",
       "      <th>Zero-Cross</th>\n",
       "      <th>Zero-Cross_filt</th>\n",
       "      <th>Spectral_slope</th>\n",
       "      <th>Spectral_slope_filt</th>\n",
       "      <th>Spectral_spread</th>\n",
       "      <th>Spectral_spread_filt</th>\n",
       "      <th>STD</th>\n",
       "      <th>STD_filt</th>\n",
       "    </tr>\n",
       "  </thead>\n",
       "  <tbody>\n",
       "    <tr>\n",
       "      <th>0</th>\n",
       "      <td>121.36131809749838</td>\n",
       "      <td>85.66330485275074</td>\n",
       "      <td>1214</td>\n",
       "      <td>1823</td>\n",
       "      <td>706.9415625251071</td>\n",
       "      <td>809.972502854982</td>\n",
       "      <td>-4.8933685023070076e-08</td>\n",
       "      <td>-4.647319707918017e-08</td>\n",
       "      <td>892.8185297524504</td>\n",
       "      <td>921.568378125202</td>\n",
       "      <td>121.36056846669014</td>\n",
       "      <td>85.66330138684029</td>\n",
       "    </tr>\n",
       "    <tr>\n",
       "      <th>1</th>\n",
       "      <td>121.90214827468019</td>\n",
       "      <td>85.40397070703878</td>\n",
       "      <td>1848</td>\n",
       "      <td>2742</td>\n",
       "      <td>932.7300968143064</td>\n",
       "      <td>1058.8196428804586</td>\n",
       "      <td>-4.3541615760104636e-08</td>\n",
       "      <td>-4.053046389685839e-08</td>\n",
       "      <td>1101.399680725606</td>\n",
       "      <td>1121.3505005573843</td>\n",
       "      <td>121.90049301208536</td>\n",
       "      <td>85.40396706413705</td>\n",
       "    </tr>\n",
       "    <tr>\n",
       "      <th>2</th>\n",
       "      <td>143.28180471309255</td>\n",
       "      <td>105.14578176416187</td>\n",
       "      <td>3565</td>\n",
       "      <td>5045</td>\n",
       "      <td>1296.9443048741527</td>\n",
       "      <td>1440.8023292284233</td>\n",
       "      <td>-3.484379484285918e-08</td>\n",
       "      <td>-3.1408312904887706e-08</td>\n",
       "      <td>1250.8410036799442</td>\n",
       "      <td>1237.9137111956707</td>\n",
       "      <td>143.28178096470862</td>\n",
       "      <td>105.14576505054569</td>\n",
       "    </tr>\n",
       "    <tr>\n",
       "      <th>3</th>\n",
       "      <td>178.57684499761723</td>\n",
       "      <td>131.94747599701756</td>\n",
       "      <td>3382</td>\n",
       "      <td>4469</td>\n",
       "      <td>1170.1359729761057</td>\n",
       "      <td>1333.2253123851224</td>\n",
       "      <td>-3.7872112072819084e-08</td>\n",
       "      <td>-3.397736596928871e-08</td>\n",
       "      <td>1232.239102502508</td>\n",
       "      <td>1234.1362104420862</td>\n",
       "      <td>178.5766307977514</td>\n",
       "      <td>131.9474702286461</td>\n",
       "    </tr>\n",
       "    <tr>\n",
       "      <th>4</th>\n",
       "      <td>329.4445975085013</td>\n",
       "      <td>265.59582849115066</td>\n",
       "      <td>4865</td>\n",
       "      <td>6218</td>\n",
       "      <td>1467.4235617340914</td>\n",
       "      <td>1604.4018246404044</td>\n",
       "      <td>-3.0772569686181085e-08</td>\n",
       "      <td>-2.75013837358551e-08</td>\n",
       "      <td>1330.6052972625894</td>\n",
       "      <td>1315.9158175468494</td>\n",
       "      <td>329.444252396269</td>\n",
       "      <td>265.595823619754</td>\n",
       "    </tr>\n",
       "  </tbody>\n",
       "</table>\n",
       "</div>"
      ],
      "text/plain": [
       "                  RMS            RMS_filt Spectral_centroid  \\\n",
       "0  121.36131809749838   85.66330485275074              1214   \n",
       "1  121.90214827468019   85.40397070703878              1848   \n",
       "2  143.28180471309255  105.14578176416187              3565   \n",
       "3  178.57684499761723  131.94747599701756              3382   \n",
       "4   329.4445975085013  265.59582849115066              4865   \n",
       "\n",
       "  Spectral_centroid_filt          Zero-Cross     Zero-Cross_filt  \\\n",
       "0                   1823   706.9415625251071    809.972502854982   \n",
       "1                   2742   932.7300968143064  1058.8196428804586   \n",
       "2                   5045  1296.9443048741527  1440.8023292284233   \n",
       "3                   4469  1170.1359729761057  1333.2253123851224   \n",
       "4                   6218  1467.4235617340914  1604.4018246404044   \n",
       "\n",
       "            Spectral_slope      Spectral_slope_filt     Spectral_spread  \\\n",
       "0  -4.8933685023070076e-08   -4.647319707918017e-08   892.8185297524504   \n",
       "1  -4.3541615760104636e-08   -4.053046389685839e-08   1101.399680725606   \n",
       "2   -3.484379484285918e-08  -3.1408312904887706e-08  1250.8410036799442   \n",
       "3  -3.7872112072819084e-08   -3.397736596928871e-08   1232.239102502508   \n",
       "4  -3.0772569686181085e-08    -2.75013837358551e-08  1330.6052972625894   \n",
       "\n",
       "  Spectral_spread_filt                 STD            STD_filt  \n",
       "0     921.568378125202  121.36056846669014   85.66330138684029  \n",
       "1   1121.3505005573843  121.90049301208536   85.40396706413705  \n",
       "2   1237.9137111956707  143.28178096470862  105.14576505054569  \n",
       "3   1234.1362104420862   178.5766307977514   131.9474702286461  \n",
       "4   1315.9158175468494    329.444252396269    265.595823619754  "
      ]
     },
     "execution_count": 10,
     "metadata": {},
     "output_type": "execute_result"
    }
   ],
   "source": [
    "y=roadtype_features_df[\"Label\"]\n",
    "print(len(y))\n",
    "features=[\"RMS\", \"RMS_filt\", \"Spectral_centroid\", \"Spectral_centroid_filt\",\\\n",
    "                \"Zero-Cross\", \"Zero-Cross_filt\", \"Spectral_slope\", \\\n",
    "                    \"Spectral_slope_filt\", \"Spectral_spread\", \\\n",
    "                        \"Spectral_spread_filt\", \"STD\", \"STD_filt\"]\n",
    "X=roadtype_features_df[features]\n",
    "X.head()"
   ]
  },
  {
   "cell_type": "code",
   "execution_count": 11,
   "id": "a70b2df8",
   "metadata": {},
   "outputs": [],
   "source": [
    "x_train, x_test, y_train, y_test = train_test_split(X, y, test_size=0.33, random_state=42, shuffle=True, stratify=y)"
   ]
  },
  {
   "cell_type": "code",
   "execution_count": 12,
   "id": "6ab65e72",
   "metadata": {},
   "outputs": [
    {
     "name": "stdout",
     "output_type": "stream",
     "text": [
      "KNN confusion matrix\n"
     ]
    },
    {
     "data": {
      "text/plain": [
       "<sklearn.metrics._plot.confusion_matrix.ConfusionMatrixDisplay at 0x2e4a822ce20>"
      ]
     },
     "execution_count": 12,
     "metadata": {},
     "output_type": "execute_result"
    },
    {
     "data": {
      "image/png": "[encoded data removed]",
      "text/plain": [
       "<Figure size 432x288 with 2 Axes>"
      ]
     },
     "metadata": {
      "needs_background": "light"
     },
     "output_type": "display_data"
    }
   ],
   "source": [
    "knn = KNeighborsClassifier(n_neighbors=3)\n",
    "knn.fit(x_train, y_train)\n",
    "y_pred_knn = knn.predict(x_test)\n",
    "print(\"KNN confusion matrix\")\n",
    "plot_confusion_matrix(knn, x_test, y_test)\n"
   ]
  },
  {
   "cell_type": "code",
   "execution_count": 13,
   "id": "7ed558c2",
   "metadata": {},
   "outputs": [
    {
     "name": "stdout",
     "output_type": "stream",
     "text": [
      "0.913946587537092\n"
     ]
    }
   ],
   "source": [
    "trues=0\n",
    "for true,pred in zip(y_test,y_pred_knn):\n",
    "    if(true==pred):\n",
    "        trues=trues+1\n",
    "print(trues/len(y_test))"
   ]
  },
  {
   "cell_type": "markdown",
   "id": "f42b3891",
   "metadata": {},
   "source": [
    "Let's do some scaling"
   ]
  },
  {
   "cell_type": "code",
   "execution_count": 14,
   "id": "cd3b066f",
   "metadata": {},
   "outputs": [
    {
     "data": {
      "text/html": [
       "<div>\n",
       "<style scoped>\n",
       "    .dataframe tbody tr th:only-of-type {\n",
       "        vertical-align: middle;\n",
       "    }\n",
       "\n",
       "    .dataframe tbody tr th {\n",
       "        vertical-align: top;\n",
       "    }\n",
       "\n",
       "    .dataframe thead th {\n",
       "        text-align: right;\n",
       "    }\n",
       "</style>\n",
       "<table border=\"1\" class=\"dataframe\">\n",
       "  <thead>\n",
       "    <tr style=\"text-align: right;\">\n",
       "      <th></th>\n",
       "      <th>Label</th>\n",
       "      <th>RMS</th>\n",
       "      <th>RMS_filt</th>\n",
       "      <th>Spectral_centroid</th>\n",
       "      <th>Spectral_centroid_filt</th>\n",
       "      <th>Zero-Cross</th>\n",
       "      <th>Zero-Cross_filt</th>\n",
       "      <th>Spectral_slope</th>\n",
       "      <th>Spectral_slope_filt</th>\n",
       "      <th>Spectral_spread</th>\n",
       "      <th>Spectral_spread_filt</th>\n",
       "      <th>STD</th>\n",
       "      <th>STD_filt</th>\n",
       "    </tr>\n",
       "  </thead>\n",
       "  <tbody>\n",
       "    <tr>\n",
       "      <th>0</th>\n",
       "      <td>Wet gravel</td>\n",
       "      <td>-1.049234</td>\n",
       "      <td>-1.035090</td>\n",
       "      <td>-2.066931</td>\n",
       "      <td>-2.049002</td>\n",
       "      <td>-1.500317</td>\n",
       "      <td>-1.447758</td>\n",
       "      <td>-1.500317</td>\n",
       "      <td>-1.447758</td>\n",
       "      <td>-0.199132</td>\n",
       "      <td>0.123180</td>\n",
       "      <td>-1.049234</td>\n",
       "      <td>-1.035090</td>\n",
       "    </tr>\n",
       "    <tr>\n",
       "      <th>1</th>\n",
       "      <td>Wet gravel</td>\n",
       "      <td>-1.049143</td>\n",
       "      <td>-1.035136</td>\n",
       "      <td>-1.722492</td>\n",
       "      <td>-1.525337</td>\n",
       "      <td>-0.605744</td>\n",
       "      <td>-0.406427</td>\n",
       "      <td>-0.605744</td>\n",
       "      <td>-0.406427</td>\n",
       "      <td>1.631488</td>\n",
       "      <td>1.833405</td>\n",
       "      <td>-1.049143</td>\n",
       "      <td>-1.035136</td>\n",
       "    </tr>\n",
       "    <tr>\n",
       "      <th>2</th>\n",
       "      <td>Wet gravel</td>\n",
       "      <td>-1.045547</td>\n",
       "      <td>-1.031629</td>\n",
       "      <td>-0.789683</td>\n",
       "      <td>-0.213040</td>\n",
       "      <td>0.837269</td>\n",
       "      <td>1.192026</td>\n",
       "      <td>0.837269</td>\n",
       "      <td>1.192026</td>\n",
       "      <td>2.943065</td>\n",
       "      <td>2.831238</td>\n",
       "      <td>-1.045546</td>\n",
       "      <td>-1.031629</td>\n",
       "    </tr>\n",
       "    <tr>\n",
       "      <th>3</th>\n",
       "      <td>Wet gravel</td>\n",
       "      <td>-1.039609</td>\n",
       "      <td>-1.026868</td>\n",
       "      <td>-0.889103</td>\n",
       "      <td>-0.541256</td>\n",
       "      <td>0.334856</td>\n",
       "      <td>0.741857</td>\n",
       "      <td>0.334856</td>\n",
       "      <td>0.741857</td>\n",
       "      <td>2.779805</td>\n",
       "      <td>2.798901</td>\n",
       "      <td>-1.039609</td>\n",
       "      <td>-1.026868</td>\n",
       "    </tr>\n",
       "    <tr>\n",
       "      <th>4</th>\n",
       "      <td>Wet gravel</td>\n",
       "      <td>-1.014231</td>\n",
       "      <td>-1.003124</td>\n",
       "      <td>-0.083421</td>\n",
       "      <td>0.455360</td>\n",
       "      <td>1.512707</td>\n",
       "      <td>1.876628</td>\n",
       "      <td>1.512707</td>\n",
       "      <td>1.876628</td>\n",
       "      <td>3.643119</td>\n",
       "      <td>3.498971</td>\n",
       "      <td>-1.014231</td>\n",
       "      <td>-1.003124</td>\n",
       "    </tr>\n",
       "  </tbody>\n",
       "</table>\n",
       "</div>"
      ],
      "text/plain": [
       "        Label       RMS  RMS_filt  Spectral_centroid  Spectral_centroid_filt  \\\n",
       "0  Wet gravel -1.049234 -1.035090          -2.066931               -2.049002   \n",
       "1  Wet gravel -1.049143 -1.035136          -1.722492               -1.525337   \n",
       "2  Wet gravel -1.045547 -1.031629          -0.789683               -0.213040   \n",
       "3  Wet gravel -1.039609 -1.026868          -0.889103               -0.541256   \n",
       "4  Wet gravel -1.014231 -1.003124          -0.083421                0.455360   \n",
       "\n",
       "   Zero-Cross  Zero-Cross_filt  Spectral_slope  Spectral_slope_filt  \\\n",
       "0   -1.500317        -1.447758       -1.500317            -1.447758   \n",
       "1   -0.605744        -0.406427       -0.605744            -0.406427   \n",
       "2    0.837269         1.192026        0.837269             1.192026   \n",
       "3    0.334856         0.741857        0.334856             0.741857   \n",
       "4    1.512707         1.876628        1.512707             1.876628   \n",
       "\n",
       "   Spectral_spread  Spectral_spread_filt       STD  STD_filt  \n",
       "0        -0.199132              0.123180 -1.049234 -1.035090  \n",
       "1         1.631488              1.833405 -1.049143 -1.035136  \n",
       "2         2.943065              2.831238 -1.045546 -1.031629  \n",
       "3         2.779805              2.798901 -1.039609 -1.026868  \n",
       "4         3.643119              3.498971 -1.014231 -1.003124  "
      ]
     },
     "execution_count": 14,
     "metadata": {},
     "output_type": "execute_result"
    }
   ],
   "source": [
    "scaled_df=roadtype_features_df.copy()\n",
    "scaler = preprocessing.StandardScaler()\n",
    "scaled_df[features]=scaler.fit_transform(scaled_df[features])\n",
    "scaled_df.head()"
   ]
  },
  {
   "cell_type": "code",
   "execution_count": 15,
   "id": "88faadf0",
   "metadata": {},
   "outputs": [
    {
     "name": "stdout",
     "output_type": "stream",
     "text": [
      "KNN_with_scaling confusion matrix\n"
     ]
    },
    {
     "data": {
      "text/plain": [
       "<sklearn.metrics._plot.confusion_matrix.ConfusionMatrixDisplay at 0x2e4a7071c40>"
      ]
     },
     "execution_count": 15,
     "metadata": {},
     "output_type": "execute_result"
    },
    {
     "data": {
      "image/png": "[encoded data removed]",
      "text/plain": [
       "<Figure size 432x288 with 2 Axes>"
      ]
     },
     "metadata": {
      "needs_background": "light"
     },
     "output_type": "display_data"
    }
   ],
   "source": [
    "y=scaled_df[\"Label\"]\n",
    "X=scaled_df[features]\n",
    "x_train, x_test, y_train, y_test = train_test_split(X, y, test_size=0.33, random_state=42, shuffle=True, stratify=y)\n",
    "knn_with_scaling = KNeighborsClassifier(n_neighbors=3)\n",
    "knn_with_scaling.fit(x_train, y_train)\n",
    "y_pred_knn = knn_with_scaling.predict(x_test)\n",
    "print(\"KNN_with_scaling confusion matrix\")\n",
    "plot_confusion_matrix(knn_with_scaling, x_test, y_test)"
   ]
  },
  {
   "cell_type": "code",
   "execution_count": 16,
   "id": "e3ead67c",
   "metadata": {},
   "outputs": [
    {
     "name": "stdout",
     "output_type": "stream",
     "text": [
      "0.9510385756676558\n"
     ]
    }
   ],
   "source": [
    "trues=0\n",
    "for true,pred in zip(y_test,y_pred_knn):\n",
    "    if(true==pred):\n",
    "        trues=trues+1\n",
    "print(trues/len(y_test))"
   ]
  },
  {
   "cell_type": "code",
   "execution_count": 18,
   "id": "ed550021",
   "metadata": {},
   "outputs": [],
   "source": [
    "filename=\"df-\"+str(decimation_factor)+\"_wl-3s_\"+\"19.1.2022.csv\"\n",
    "roadtype_features_df.to_csv(filename,index=False)"
   ]
  },
  {
   "cell_type": "code",
   "execution_count": null,
   "id": "5c8e34fa",
   "metadata": {},
   "outputs": [],
   "source": []
  }
 ],
 "metadata": {
  "kernelspec": {
   "display_name": "Python 3 (ipykernel)",
   "language": "python",
   "name": "python3"
  },
  "language_info": {
   "codemirror_mode": {
    "name": "ipython",
    "version": 3
   },
   "file_extension": ".py",
   "mimetype": "text/x-python",
   "name": "python",
   "nbconvert_exporter": "python",
   "pygments_lexer": "ipython3",
   "version": "3.9.7"
  }
 },
 "nbformat": 4,
 "nbformat_minor": 5
}
