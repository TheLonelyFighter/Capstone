{
 "cells": [
  {
   "cell_type": "markdown",
   "metadata": {},
   "source": [
    "# Reading the signals etc"
   ]
  },
  {
   "cell_type": "code",
   "execution_count": 1,
   "metadata": {},
   "outputs": [],
   "source": [
    "import numpy as np\n",
    "import pandas as pd\n",
    "from scipy import signal\n",
    "import matplotlib.pyplot as plt\n",
    "from scipy.io import wavfile\n",
    "from scipy.integrate import simps\n",
    "from scipy.fft import fftshift\n",
    "from tsfel.feature_extraction import features as tsfelf"
   ]
  },
  {
   "cell_type": "code",
   "execution_count": 2,
   "metadata": {},
   "outputs": [],
   "source": [
    "from os import listdir\n",
    "from os.path import isfile, join\n"
   ]
  },
  {
   "cell_type": "code",
   "execution_count": 3,
   "metadata": {},
   "outputs": [],
   "source": [
    "def bpf(arr, fs, lf, hf, order):\n",
    "    wbut = [lf, hf]\n",
    "    bbut, abut = signal.butter(order, wbut, btype ='bandpass', fs = fs)\n",
    "\n",
    "    return signal.filtfilt(bbut, abut, arr)\n",
    "\n",
    "def hpf(arr, fs, lf, order):\n",
    "    wbut = lf\n",
    "    bbut, abut = signal.butter(order, wbut, btype ='highpass', fs =fs)\n",
    "\n",
    "    return signal.filtfilt(bbut, abut, arr)\n"
   ]
  },
  {
   "cell_type": "code",
   "execution_count": 4,
   "metadata": {},
   "outputs": [],
   "source": [
    "mypath = 'C:\\\\Users\\\\Owner\\\\Downloads\\\\CapstoneData\\\\yllas'\n",
    "timestamps = [f for f in listdir(mypath) if isfile(join(mypath, f))]\n"
   ]
  },
  {
   "cell_type": "code",
   "execution_count": 5,
   "metadata": {},
   "outputs": [
    {
     "data": {
      "text/plain": [
       "['2021_16_06_56-Dec-18.wav',\n",
       " '2021_16_07_06-Dec-18.wav',\n",
       " '2021_16_07_16-Dec-18.wav',\n",
       " '2021_16_07_27-Dec-18.wav',\n",
       " '2021_16_07_37-Dec-18.wav',\n",
       " '2021_16_07_47-Dec-18.wav',\n",
       " '2021_16_07_57-Dec-18.wav',\n",
       " '2021_16_08_07-Dec-18.wav',\n",
       " '2021_16_08_18-Dec-18.wav',\n",
       " '2021_16_08_28-Dec-18.wav',\n",
       " '2021_16_08_38-Dec-18.wav',\n",
       " '2021_16_08_48-Dec-18.wav',\n",
       " '2021_16_08_58-Dec-18.wav',\n",
       " '2021_16_09_09-Dec-18.wav',\n",
       " '2021_16_09_19-Dec-18.wav',\n",
       " '2021_16_09_29-Dec-18.wav',\n",
       " '2021_16_09_39-Dec-18.wav',\n",
       " '2021_16_09_49-Dec-18.wav',\n",
       " '2021_16_10_00-Dec-18.wav',\n",
       " '2021_16_10_10-Dec-18.wav',\n",
       " '2021_16_10_20-Dec-18.wav',\n",
       " '2021_16_10_30-Dec-18.wav',\n",
       " '2021_16_10_40-Dec-18.wav',\n",
       " '2021_16_10_51-Dec-18.wav',\n",
       " '2021_16_11_01-Dec-18.wav',\n",
       " '2021_16_11_11-Dec-18.wav',\n",
       " '2021_16_11_21-Dec-18.wav',\n",
       " '2021_16_11_31-Dec-18.wav',\n",
       " '2021_16_11_42-Dec-18.wav',\n",
       " '2021_16_11_52-Dec-18.wav',\n",
       " '2021_16_12_02-Dec-18.wav',\n",
       " '2021_16_12_12-Dec-18.wav',\n",
       " '2021_16_12_22-Dec-18.wav',\n",
       " '2021_16_12_33-Dec-18.wav',\n",
       " '2021_16_12_43-Dec-18.wav',\n",
       " '2021_16_12_53-Dec-18.wav',\n",
       " '2021_16_13_03-Dec-18.wav',\n",
       " '2021_16_13_13-Dec-18.wav',\n",
       " '2021_16_13_24-Dec-18.wav',\n",
       " '2021_16_13_34-Dec-18.wav',\n",
       " '2021_16_13_44-Dec-18.wav',\n",
       " '2021_16_13_54-Dec-18.wav',\n",
       " '2021_16_14_04-Dec-18.wav',\n",
       " '2021_16_14_14-Dec-18.wav',\n",
       " '2021_16_14_25-Dec-18.wav',\n",
       " '2021_16_14_35-Dec-18.wav',\n",
       " '2021_16_14_45-Dec-18.wav',\n",
       " '2021_16_14_55-Dec-18.wav',\n",
       " '2021_16_15_05-Dec-18.wav',\n",
       " '2021_16_15_16-Dec-18.wav',\n",
       " '2021_16_15_26-Dec-18.wav',\n",
       " '2021_16_15_36-Dec-18.wav',\n",
       " '2021_16_15_46-Dec-18.wav',\n",
       " '2021_16_15_56-Dec-18.wav',\n",
       " '2021_16_16_07-Dec-18.wav',\n",
       " '2021_16_16_17-Dec-18.wav',\n",
       " '2021_16_16_27-Dec-18.wav',\n",
       " '2021_16_16_37-Dec-18.wav',\n",
       " '2021_16_16_47-Dec-18.wav',\n",
       " '2021_16_16_58-Dec-18.wav',\n",
       " '2021_16_17_08-Dec-18.wav',\n",
       " '2021_16_17_18-Dec-18.wav',\n",
       " '2021_16_17_28-Dec-18.wav',\n",
       " '2021_16_17_38-Dec-18.wav',\n",
       " '2021_16_17_49-Dec-18.wav',\n",
       " '2021_16_17_59-Dec-18.wav',\n",
       " '2021_16_18_09-Dec-18.wav',\n",
       " '2021_16_18_19-Dec-18.wav',\n",
       " '2021_16_18_29-Dec-18.wav',\n",
       " '2021_16_18_40-Dec-18.wav',\n",
       " '2021_16_18_50-Dec-18.wav',\n",
       " '2021_16_19_00-Dec-18.wav',\n",
       " '2021_16_19_10-Dec-18.wav',\n",
       " '2021_16_19_20-Dec-18.wav',\n",
       " '2021_16_19_30-Dec-18.wav',\n",
       " '2021_16_19_41-Dec-18.wav',\n",
       " '2021_16_19_51-Dec-18.wav',\n",
       " '2021_16_20_01-Dec-18.wav',\n",
       " '2021_16_20_11-Dec-18.wav',\n",
       " '2021_16_20_21-Dec-18.wav',\n",
       " '2021_16_20_32-Dec-18.wav',\n",
       " '2021_16_20_42-Dec-18.wav',\n",
       " '2021_16_20_52-Dec-18.wav',\n",
       " '2021_16_21_02-Dec-18.wav',\n",
       " '2021_16_21_12-Dec-18.wav',\n",
       " '2021_16_21_23-Dec-18.wav',\n",
       " '2021_16_21_33-Dec-18.wav',\n",
       " '2021_16_21_43-Dec-18.wav',\n",
       " '2021_16_21_53-Dec-18.wav',\n",
       " '2021_16_22_03-Dec-18.wav',\n",
       " '2021_16_22_14-Dec-18.wav',\n",
       " '2021_16_22_24-Dec-18.wav',\n",
       " '2021_16_22_34-Dec-18.wav',\n",
       " '2021_16_22_44-Dec-18.wav',\n",
       " '2021_16_22_54-Dec-18.wav',\n",
       " '2021_16_23_05-Dec-18.wav',\n",
       " '2021_16_23_15-Dec-18.wav',\n",
       " '2021_16_23_25-Dec-18.wav',\n",
       " '2021_16_23_35-Dec-18.wav',\n",
       " '2021_16_23_45-Dec-18.wav',\n",
       " '2021_16_23_55-Dec-18.wav',\n",
       " '2021_16_24_06-Dec-18.wav',\n",
       " '2021_16_24_16-Dec-18.wav',\n",
       " '2021_16_24_26-Dec-18.wav',\n",
       " '2021_16_24_36-Dec-18.wav',\n",
       " '2021_16_24_46-Dec-18.wav',\n",
       " '2021_16_24_57-Dec-18.wav',\n",
       " '2021_16_25_07-Dec-18.wav',\n",
       " '2021_16_25_17-Dec-18.wav',\n",
       " '2021_16_25_27-Dec-18.wav',\n",
       " '2021_16_25_37-Dec-18.wav',\n",
       " '2021_16_25_48-Dec-18.wav',\n",
       " '2021_16_25_58-Dec-18.wav',\n",
       " '2021_16_26_08-Dec-18.wav',\n",
       " '2021_16_26_18-Dec-18.wav',\n",
       " '2021_16_26_28-Dec-18.wav',\n",
       " '2021_16_26_39-Dec-18.wav',\n",
       " '2021_16_26_49-Dec-18.wav',\n",
       " '2021_16_26_59-Dec-18.wav',\n",
       " '2021_16_27_09-Dec-18.wav',\n",
       " '2021_16_27_19-Dec-18.wav',\n",
       " '2021_16_27_30-Dec-18.wav',\n",
       " '2021_16_27_40-Dec-18.wav',\n",
       " '2021_16_27_50-Dec-18.wav',\n",
       " '2021_16_28_00-Dec-18.wav',\n",
       " '2021_16_28_10-Dec-18.wav',\n",
       " '2021_16_28_21-Dec-18.wav',\n",
       " '2021_16_28_31-Dec-18.wav',\n",
       " '2021_16_28_41-Dec-18.wav',\n",
       " '2021_16_28_51-Dec-18.wav',\n",
       " '2021_16_29_01-Dec-18.wav',\n",
       " '2021_16_29_12-Dec-18.wav',\n",
       " '2021_16_29_13-Dec-15.wav',\n",
       " '2021_16_29_22-Dec-18.wav',\n",
       " '2021_16_29_23-Dec-15.wav',\n",
       " '2021_16_29_32-Dec-18.wav',\n",
       " '2021_16_29_34-Dec-15.wav',\n",
       " '2021_16_29_42-Dec-18.wav',\n",
       " '2021_16_29_44-Dec-15.wav',\n",
       " '2021_16_29_52-Dec-18.wav',\n",
       " '2021_16_29_54-Dec-15.wav',\n",
       " '2021_16_30_03-Dec-18.wav',\n",
       " '2021_16_30_04-Dec-15.wav',\n",
       " '2021_16_30_14-Dec-15.wav',\n",
       " '2021_16_30_24-Dec-15.wav',\n",
       " '2021_16_30_35-Dec-15.wav',\n",
       " '2021_16_30_45-Dec-15.wav',\n",
       " '2021_16_30_55-Dec-15.wav',\n",
       " '2021_16_31_05-Dec-15.wav',\n",
       " '2021_16_31_15-Dec-15.wav']"
      ]
     },
     "execution_count": 5,
     "metadata": {},
     "output_type": "execute_result"
    }
   ],
   "source": [
    "timestamps"
   ]
  },
  {
   "cell_type": "code",
   "execution_count": 15,
   "metadata": {},
   "outputs": [],
   "source": [
    "fs = 44100\n",
    "def read_data(r_id):\n",
    "    link = 'C:\\\\Users\\\\Owner\\\\Downloads\\\\CapstoneData\\\\yllas\\\\'+ str(r_id)\n",
    "    sr, data = wavfile.read(link)\n",
    "    return data\n",
    "def read_data2(r_id):\n",
    "    link = 'C:\\\\Users\\\\Owner\\\\Downloads\\\\CapstoneData\\\\22_Nov_2021_gravel_and_dry_asphalt\\\\'+ str(r_id)\n",
    "    sr, data = wavfile.read(link)\n",
    "    return data\n",
    "\n",
    "def read_timestamps(r_id):\n",
    "    link = 'C:\\\\Users\\\\Owner\\\\Downloads\\\\CapstoneData\\\\10_Nov_2021_timestamps\\\\'+ str(r_id)\n",
    "    time = pd.read_csv(link)\n",
    "    return time\n"
   ]
  },
  {
   "cell_type": "code",
   "execution_count": 20,
   "metadata": {},
   "outputs": [
    {
     "data": {
      "text/plain": [
       "409600"
      ]
     },
     "execution_count": 20,
     "metadata": {},
     "output_type": "execute_result"
    }
   ],
   "source": [
    "s = read_data2('2021_10_47_35-Nov-22.wav')\n",
    "\n",
    "len(s)"
   ]
  },
  {
   "cell_type": "markdown",
   "metadata": {},
   "source": [
    "## Extracting features from the signals"
   ]
  },
  {
   "cell_type": "code",
   "execution_count": 34,
   "metadata": {},
   "outputs": [],
   "source": [
    "def get_features(data, surface):\n",
    "    columns = [\"Surface\"]\n",
    "    features = [\"RMS\", \"RMSf\", \"Spec\", \"Specf\", \"ZC\", \"ZCf\", \"Specslo\", \"Specslof\", \"Specspr\", \"Specsprf\", \"STD\", \"STDf\"]\n",
    "\n",
    "    df = pd.DataFrame(columns = columns)\n",
    "    for i in range(len(data)):\n",
    "        r_id = data[i]\n",
    "        df.loc[i, \"ID\"] = r_id\n",
    "        df.loc[i, \"Surface\"] = surface\n",
    "        \n",
    "        #Read the signals\n",
    "        sig = read_data(r_id)\n",
    "        \n",
    "        s_f = hpf(sig, fs, 65, 2)\n",
    "        df.loc[i, \"RMS\"] = tsfelf.rms(sig)\n",
    "        df.loc[i, \"RMS_filt\"] = tsfelf.rms(s_f)\n",
    "\n",
    "        df.loc[i, \"Zero-Cross\"] = tsfelf.zero_cross(sig)\n",
    "        df.loc[i, \"Zero-Cross_filt\"] = tsfelf.zero_cross(s_f)\n",
    "        \n",
    "        df.loc[i, \"Spectral_centroid\"] = tsfelf.spectral_centroid(sig, fs)\n",
    "        df.loc[i, \"Spectral_centroid_filt\"] = tsfelf.spectral_centroid(s_f, fs)\n",
    "        \n",
    "        df.loc[i, \"Spectral_slope\"] = tsfelf.spectral_slope(sig, fs)\n",
    "        df.loc[i, \"Spectral_slope_filt\"] = tsfelf.spectral_slope(s_f, fs) \n",
    "        \n",
    "        df.loc[i, \"Spectral_spread\"] = tsfelf.spectral_spread(sig, fs)\n",
    "        df.loc[i, \"Spectral_spread_filt\"] = tsfelf.spectral_spread(s_f, fs) \n",
    "        \n",
    "        df.loc[i, \"STD\"] = np.std(sig)\n",
    "        \n",
    "        df.loc[i, \"STD_filt\"] = np.std(s_f)\n",
    "        \n",
    "        print(i, end=',')\n",
    "    return df, features\n",
    "        "
   ]
  },
  {
   "cell_type": "code",
   "execution_count": 35,
   "metadata": {},
   "outputs": [
    {
     "name": "stdout",
     "output_type": "stream",
     "text": [
      "0,1,2,3,4,5,6,7,8,9,10,11,12,13,14,15,16,17,18,19,20,21,22,23,24,25,26,27,28,29,30,31,32,33,34,35,36,37,38,39,40,41,42,43,44,45,46,47,48,49,50,51,52,53,54,55,56,57,58,59,60,61,62,63,64,65,66,67,68,69,70,71,72,73,74,75,76,77,78,79,80,81,82,83,84,85,86,87,88,89,90,91,92,93,94,95,96,97,98,99,100,101,102,103,104,105,106,107,108,0,1,2,3,4,5,6,7,8,9,10,11,12,13,14,15,16,17,18,19,20,21,22,23,24,25,26,27,28,29,"
     ]
    }
   ],
   "source": [
    "\n",
    "waspdf, features = get_features(wasp_files, \"Wet Asphalt\")\n",
    "\n",
    "graveldf, _ = get_features(gravel_files, \"Wet Gravel\")\n",
    "\n"
   ]
  },
  {
   "cell_type": "code",
   "execution_count": 36,
   "metadata": {},
   "outputs": [],
   "source": [
    "def get_features2(data, surface):\n",
    "    columns = [\"Surface\"]\n",
    "    features = [\"RMS\", \"RMSf\", \"Spec\", \"Specf\", \"ZC\", \"ZCf\", \"Specslo\", \"Specslof\", \"Specspr\", \"Specsprf\", \"STD\", \"STDf\"]\n",
    "\n",
    "    df = pd.DataFrame(columns = columns)\n",
    "    for i in range(len(data)):\n",
    "        r_id = data[i]\n",
    "        df.loc[i, \"ID\"] = r_id\n",
    "        df.loc[i, \"Surface\"] = surface\n",
    "        #Read the signals\n",
    "        sig = read_data2(r_id)\n",
    "        \n",
    "        s_f = hpf(sig, fs, 65, 2)\n",
    "        df.loc[i, \"RMS\"] = tsfelf.rms(sig)\n",
    "        df.loc[i, \"RMS_filt\"] = tsfelf.rms(s_f)\n",
    "\n",
    "        df.loc[i, \"Zero-Cross\"] = tsfelf.zero_cross(sig)\n",
    "        df.loc[i, \"Zero-Cross_filt\"] = tsfelf.zero_cross(s_f)\n",
    "        \n",
    "        df.loc[i, \"Spectral_centroid\"] = tsfelf.spectral_centroid(sig, fs)\n",
    "        df.loc[i, \"Spectral_centroid_filt\"] = tsfelf.spectral_centroid(s_f, fs)\n",
    "        \n",
    "        df.loc[i, \"Spectral_slope\"] = tsfelf.spectral_slope(sig, fs)\n",
    "        df.loc[i, \"Spectral_slope_filt\"] = tsfelf.spectral_slope(s_f, fs) \n",
    "        \n",
    "        df.loc[i, \"Spectral_spread\"] = tsfelf.spectral_spread(sig, fs)\n",
    "        df.loc[i, \"Spectral_spread_filt\"] = tsfelf.spectral_spread(s_f, fs) \n",
    "        \n",
    "        df.loc[i, \"STD\"] = np.std(sig)\n",
    "        \n",
    "        df.loc[i, \"STD_filt\"] = np.std(s_f)\n",
    "        \n",
    "        print(i, end=',')\n",
    "    return df, features\n",
    "        "
   ]
  },
  {
   "cell_type": "code",
   "execution_count": 37,
   "metadata": {},
   "outputs": [
    {
     "name": "stdout",
     "output_type": "stream",
     "text": [
      "0,1,2,3,4,5,6,7,8,9,10,11,12,13,14,15,16,17,18,19,20,21,22,23,24,25,26,27,28,29,30,31,32,33,34,35,36,37,38,39,40,41,42,43,44,45,46,47,48,49,50,51,52,53,54,55,56,57,58,59,60,61,62,63,64,65,66,67,68,69,70,71,72,73,74,75,76,77,78,79,80,81,82,83,84,85,86,87,88,89,90,91,92,93,94,95,0,1,2,3,4,5,6,7,8,9,10,11,12,13,14,15,16,17,18,19,20,21,22,23,24,25,26,27,28,29,30,31,32,33,34,35,36,37,38,39,40,41,42,43,44,45,46,47,48,49,50,51,52,53,54,55,56,57,58,59,60,61,62,63,64,65,66,67,68,69,70,71,72,73,74,75,76,77,78,79,80,81,82,83,84,85,86,87,88,89,90,91,92,93,94,95,96,97,98,99,100,101,102,103,104,105,106,107,108,109,110,111,112,113,114,115,116,117,118,119,120,121,122,123,124,125,126,127,128,129,130,131,132,133,134,135,136,137,138,139,140,141,142,143,144,145,146,147,148,149,150,151,152,153,154,155,156,157,158,159,160,161,162,163,164,165,166,167,168,169,170,171,172,173,174,175,176,177,178,179,180,181,182,183,184,185,186,187,188,189,190,191,192,193,194,195,196,197,198,199,200,201,202,203,204,205,206,207,208,209,210,211,212,213,214,215,216,217,218,219,220,221,222,223,224,225,226,227,228,229,230,231,232,233,234,235,236,237,238,239,240,241,242,243,244,245,246,247,248,249,250,251,252,253,254,255,256,257,258,259,260,261,262,263,264,265,266,267,268,269,270,271,272,273,274,275,276,277,278,279,280,281,282,283,284,285,286,287,288,289,290,291,292,293,294,295,296,297,298,299,300,301,302,303,304,305,306,307,308,309,310,311,312,313,314,315,316,317,318,319,320,321,322,323,324,325,326,327,328,329,330,331,332,333,334,335,336,337,338,339,340,341,342,343,344,345,346,347,348,349,350,351,352,353,354,355,356,357,358,359,360,361,362,363,364,365,366,367,368,369,370,371,372,373,374,375,376,377,378,379,380,381,382,383,384,385,386,387,388,389,390,391,392,393,394,395,396,397,398,399,400,401,402,403,404,405,406,407,408,409,410,411,412,413,414,415,416,417,418,419,420,421,422,423,424,425,426,427,428,429,430,431,432,433,434,435,436,437,438,439,440,441,442,443,444,445,446,447,448,449,450,451,452,453,454,455,456,457,458,459,460,461,462,463,464,465,466,467,468,469,470,471,472,473,474,475,476,477,478,479,480,481,482,483,484,485,486,487,488,489,490,491,492,493,494,495,496,497,498,499,500,501,502,503,504,505,506,507,508,509,510,511,512,513,514,515,516,517,518,519,520,521,522,523,524,525,526,527,528,529,530,531,532,533,534,535,536,537,538,539,540,541,542,543,544,545,546,547,548,549,550,551,552,553,554,555,556,557,558,559,560,561,562,563,564,565,566,567,568,569,570,571,572,573,574,575,576,577,578,579,580,581,582,583,584,585,586,587,588,589,590,591,592,593,594,595,596,597,598,599,600,601,602,603,604,605,606,607,608,609,610,611,612,613,614,615,616,617,618,619,620,621,622,623,624,625,626,627,628,629,630,631,632,633,634,635,636,637,638,639,640,641,642,643,644,645,646,647,648,649,650,651,652,653,654,655,656,657,658,659,660,661,662,663,664,665,666,667,668,"
     ]
    }
   ],
   "source": [
    "graveldf2, _ = get_features2(gravel_files2, \"Dry Gravel\")\n",
    "\n",
    "drydf, _ = get_features2(dry_files, \"Dry Asphalt\")"
   ]
  },
  {
   "cell_type": "code",
   "execution_count": null,
   "metadata": {},
   "outputs": [],
   "source": []
  },
  {
   "cell_type": "code",
   "execution_count": 38,
   "metadata": {},
   "outputs": [
    {
     "data": {
      "text/html": [
       "<div>\n",
       "<style scoped>\n",
       "    .dataframe tbody tr th:only-of-type {\n",
       "        vertical-align: middle;\n",
       "    }\n",
       "\n",
       "    .dataframe tbody tr th {\n",
       "        vertical-align: top;\n",
       "    }\n",
       "\n",
       "    .dataframe thead th {\n",
       "        text-align: right;\n",
       "    }\n",
       "</style>\n",
       "<table border=\"1\" class=\"dataframe\">\n",
       "  <thead>\n",
       "    <tr style=\"text-align: right;\">\n",
       "      <th></th>\n",
       "      <th>Surface</th>\n",
       "      <th>ID</th>\n",
       "      <th>RMS</th>\n",
       "      <th>RMS_filt</th>\n",
       "      <th>Zero-Cross</th>\n",
       "      <th>Zero-Cross_filt</th>\n",
       "      <th>Spectral_centroid</th>\n",
       "      <th>Spectral_centroid_filt</th>\n",
       "      <th>Spectral_slope</th>\n",
       "      <th>Spectral_slope_filt</th>\n",
       "      <th>Spectral_spread</th>\n",
       "      <th>Spectral_spread_filt</th>\n",
       "      <th>STD</th>\n",
       "      <th>STD_filt</th>\n",
       "    </tr>\n",
       "  </thead>\n",
       "  <tbody>\n",
       "    <tr>\n",
       "      <th>0</th>\n",
       "      <td>Wet Asphalt</td>\n",
       "      <td>2021_14_54_08-Nov-10.wav</td>\n",
       "      <td>29.546131</td>\n",
       "      <td>1023.227026</td>\n",
       "      <td>7470.0</td>\n",
       "      <td>8387.0</td>\n",
       "      <td>936.116277</td>\n",
       "      <td>1018.407771</td>\n",
       "      <td>-1.136291e-09</td>\n",
       "      <td>-1.127022e-09</td>\n",
       "      <td>1641.800213</td>\n",
       "      <td>1592.380153</td>\n",
       "      <td>1165.214212</td>\n",
       "      <td>1023.227026</td>\n",
       "    </tr>\n",
       "    <tr>\n",
       "      <th>1</th>\n",
       "      <td>Wet Asphalt</td>\n",
       "      <td>2021_14_54_18-Nov-10.wav</td>\n",
       "      <td>23.158067</td>\n",
       "      <td>1283.379764</td>\n",
       "      <td>8372.0</td>\n",
       "      <td>9884.0</td>\n",
       "      <td>869.158982</td>\n",
       "      <td>980.920178</td>\n",
       "      <td>-1.143832e-09</td>\n",
       "      <td>-1.131245e-09</td>\n",
       "      <td>1428.056723</td>\n",
       "      <td>1453.218214</td>\n",
       "      <td>1536.434588</td>\n",
       "      <td>1283.379763</td>\n",
       "    </tr>\n",
       "    <tr>\n",
       "      <th>2</th>\n",
       "      <td>Wet Asphalt</td>\n",
       "      <td>2021_14_54_28-Nov-10.wav</td>\n",
       "      <td>22.356680</td>\n",
       "      <td>1559.749380</td>\n",
       "      <td>9023.0</td>\n",
       "      <td>10466.0</td>\n",
       "      <td>978.265482</td>\n",
       "      <td>1050.050716</td>\n",
       "      <td>-1.131544e-09</td>\n",
       "      <td>-1.123459e-09</td>\n",
       "      <td>1688.413169</td>\n",
       "      <td>1527.067657</td>\n",
       "      <td>1827.613507</td>\n",
       "      <td>1559.749375</td>\n",
       "    </tr>\n",
       "    <tr>\n",
       "      <th>3</th>\n",
       "      <td>Wet Asphalt</td>\n",
       "      <td>2021_14_54_39-Nov-10.wav</td>\n",
       "      <td>18.413845</td>\n",
       "      <td>1917.039422</td>\n",
       "      <td>8206.0</td>\n",
       "      <td>9659.0</td>\n",
       "      <td>868.511381</td>\n",
       "      <td>999.818919</td>\n",
       "      <td>-1.143905e-09</td>\n",
       "      <td>-1.129116e-09</td>\n",
       "      <td>1434.742860</td>\n",
       "      <td>1557.996016</td>\n",
       "      <td>2310.517279</td>\n",
       "      <td>1917.039352</td>\n",
       "    </tr>\n",
       "    <tr>\n",
       "      <th>4</th>\n",
       "      <td>Wet Asphalt</td>\n",
       "      <td>2021_14_54_49-Nov-10.wav</td>\n",
       "      <td>17.320115</td>\n",
       "      <td>1903.750157</td>\n",
       "      <td>7371.0</td>\n",
       "      <td>9141.0</td>\n",
       "      <td>845.770818</td>\n",
       "      <td>980.018609</td>\n",
       "      <td>-1.146466e-09</td>\n",
       "      <td>-1.131346e-09</td>\n",
       "      <td>1441.429068</td>\n",
       "      <td>1511.096731</td>\n",
       "      <td>2390.523797</td>\n",
       "      <td>1903.750146</td>\n",
       "    </tr>\n",
       "    <tr>\n",
       "      <th>...</th>\n",
       "      <td>...</td>\n",
       "      <td>...</td>\n",
       "      <td>...</td>\n",
       "      <td>...</td>\n",
       "      <td>...</td>\n",
       "      <td>...</td>\n",
       "      <td>...</td>\n",
       "      <td>...</td>\n",
       "      <td>...</td>\n",
       "      <td>...</td>\n",
       "      <td>...</td>\n",
       "      <td>...</td>\n",
       "      <td>...</td>\n",
       "      <td>...</td>\n",
       "    </tr>\n",
       "    <tr>\n",
       "      <th>664</th>\n",
       "      <td>Dry Asphalt</td>\n",
       "      <td>2021_12_11_50-Nov-22.wav</td>\n",
       "      <td>36.534334</td>\n",
       "      <td>888.469033</td>\n",
       "      <td>22574.0</td>\n",
       "      <td>23509.0</td>\n",
       "      <td>1716.408648</td>\n",
       "      <td>1765.754351</td>\n",
       "      <td>-1.121796e-09</td>\n",
       "      <td>-1.115849e-09</td>\n",
       "      <td>2077.639124</td>\n",
       "      <td>2094.478887</td>\n",
       "      <td>908.634971</td>\n",
       "      <td>888.469033</td>\n",
       "    </tr>\n",
       "    <tr>\n",
       "      <th>665</th>\n",
       "      <td>Dry Asphalt</td>\n",
       "      <td>2021_12_11_59-Nov-22.wav</td>\n",
       "      <td>29.227326</td>\n",
       "      <td>2105.265017</td>\n",
       "      <td>22609.0</td>\n",
       "      <td>23344.0</td>\n",
       "      <td>1726.941985</td>\n",
       "      <td>1789.627193</td>\n",
       "      <td>-1.120526e-09</td>\n",
       "      <td>-1.112972e-09</td>\n",
       "      <td>2049.099301</td>\n",
       "      <td>2059.192042</td>\n",
       "      <td>2193.910625</td>\n",
       "      <td>2105.265017</td>\n",
       "    </tr>\n",
       "    <tr>\n",
       "      <th>666</th>\n",
       "      <td>Dry Asphalt</td>\n",
       "      <td>2021_12_12_09-Nov-22.wav</td>\n",
       "      <td>12.354906</td>\n",
       "      <td>3569.975285</td>\n",
       "      <td>19416.0</td>\n",
       "      <td>20806.0</td>\n",
       "      <td>1423.374044</td>\n",
       "      <td>1493.428487</td>\n",
       "      <td>-1.157110e-09</td>\n",
       "      <td>-1.148668e-09</td>\n",
       "      <td>1679.621230</td>\n",
       "      <td>1625.419419</td>\n",
       "      <td>3908.569348</td>\n",
       "      <td>3569.975225</td>\n",
       "    </tr>\n",
       "    <tr>\n",
       "      <th>667</th>\n",
       "      <td>Dry Asphalt</td>\n",
       "      <td>2021_12_12_19-Nov-22.wav</td>\n",
       "      <td>11.684496</td>\n",
       "      <td>4516.976878</td>\n",
       "      <td>21197.0</td>\n",
       "      <td>22303.0</td>\n",
       "      <td>1498.312835</td>\n",
       "      <td>1572.473819</td>\n",
       "      <td>-1.148079e-09</td>\n",
       "      <td>-1.139142e-09</td>\n",
       "      <td>1631.718617</td>\n",
       "      <td>1628.609637</td>\n",
       "      <td>4845.935116</td>\n",
       "      <td>4516.976775</td>\n",
       "    </tr>\n",
       "    <tr>\n",
       "      <th>668</th>\n",
       "      <td>Dry Asphalt</td>\n",
       "      <td>2021_12_12_28-Nov-22.wav</td>\n",
       "      <td>12.263296</td>\n",
       "      <td>4049.689384</td>\n",
       "      <td>22638.0</td>\n",
       "      <td>23347.0</td>\n",
       "      <td>1561.314007</td>\n",
       "      <td>1654.965812</td>\n",
       "      <td>-1.140487e-09</td>\n",
       "      <td>-1.129200e-09</td>\n",
       "      <td>1623.968941</td>\n",
       "      <td>1800.667366</td>\n",
       "      <td>4207.709816</td>\n",
       "      <td>4049.689383</td>\n",
       "    </tr>\n",
       "  </tbody>\n",
       "</table>\n",
       "<p>904 rows × 14 columns</p>\n",
       "</div>"
      ],
      "text/plain": [
       "         Surface                        ID        RMS     RMS_filt  \\\n",
       "0    Wet Asphalt  2021_14_54_08-Nov-10.wav  29.546131  1023.227026   \n",
       "1    Wet Asphalt  2021_14_54_18-Nov-10.wav  23.158067  1283.379764   \n",
       "2    Wet Asphalt  2021_14_54_28-Nov-10.wav  22.356680  1559.749380   \n",
       "3    Wet Asphalt  2021_14_54_39-Nov-10.wav  18.413845  1917.039422   \n",
       "4    Wet Asphalt  2021_14_54_49-Nov-10.wav  17.320115  1903.750157   \n",
       "..           ...                       ...        ...          ...   \n",
       "664  Dry Asphalt  2021_12_11_50-Nov-22.wav  36.534334   888.469033   \n",
       "665  Dry Asphalt  2021_12_11_59-Nov-22.wav  29.227326  2105.265017   \n",
       "666  Dry Asphalt  2021_12_12_09-Nov-22.wav  12.354906  3569.975285   \n",
       "667  Dry Asphalt  2021_12_12_19-Nov-22.wav  11.684496  4516.976878   \n",
       "668  Dry Asphalt  2021_12_12_28-Nov-22.wav  12.263296  4049.689384   \n",
       "\n",
       "     Zero-Cross  Zero-Cross_filt  Spectral_centroid  Spectral_centroid_filt  \\\n",
       "0        7470.0           8387.0         936.116277             1018.407771   \n",
       "1        8372.0           9884.0         869.158982              980.920178   \n",
       "2        9023.0          10466.0         978.265482             1050.050716   \n",
       "3        8206.0           9659.0         868.511381              999.818919   \n",
       "4        7371.0           9141.0         845.770818              980.018609   \n",
       "..          ...              ...                ...                     ...   \n",
       "664     22574.0          23509.0        1716.408648             1765.754351   \n",
       "665     22609.0          23344.0        1726.941985             1789.627193   \n",
       "666     19416.0          20806.0        1423.374044             1493.428487   \n",
       "667     21197.0          22303.0        1498.312835             1572.473819   \n",
       "668     22638.0          23347.0        1561.314007             1654.965812   \n",
       "\n",
       "     Spectral_slope  Spectral_slope_filt  Spectral_spread  \\\n",
       "0     -1.136291e-09        -1.127022e-09      1641.800213   \n",
       "1     -1.143832e-09        -1.131245e-09      1428.056723   \n",
       "2     -1.131544e-09        -1.123459e-09      1688.413169   \n",
       "3     -1.143905e-09        -1.129116e-09      1434.742860   \n",
       "4     -1.146466e-09        -1.131346e-09      1441.429068   \n",
       "..              ...                  ...              ...   \n",
       "664   -1.121796e-09        -1.115849e-09      2077.639124   \n",
       "665   -1.120526e-09        -1.112972e-09      2049.099301   \n",
       "666   -1.157110e-09        -1.148668e-09      1679.621230   \n",
       "667   -1.148079e-09        -1.139142e-09      1631.718617   \n",
       "668   -1.140487e-09        -1.129200e-09      1623.968941   \n",
       "\n",
       "     Spectral_spread_filt          STD     STD_filt  \n",
       "0             1592.380153  1165.214212  1023.227026  \n",
       "1             1453.218214  1536.434588  1283.379763  \n",
       "2             1527.067657  1827.613507  1559.749375  \n",
       "3             1557.996016  2310.517279  1917.039352  \n",
       "4             1511.096731  2390.523797  1903.750146  \n",
       "..                    ...          ...          ...  \n",
       "664           2094.478887   908.634971   888.469033  \n",
       "665           2059.192042  2193.910625  2105.265017  \n",
       "666           1625.419419  3908.569348  3569.975225  \n",
       "667           1628.609637  4845.935116  4516.976775  \n",
       "668           1800.667366  4207.709816  4049.689383  \n",
       "\n",
       "[904 rows x 14 columns]"
      ]
     },
     "execution_count": 38,
     "metadata": {},
     "output_type": "execute_result"
    }
   ],
   "source": [
    "#Adding all of the dataframes together.\n",
    "\n",
    "alldf = pd.concat([waspdf, graveldf, graveldf2, drydf])\n",
    "\n",
    "alldf"
   ]
  },
  {
   "cell_type": "code",
   "execution_count": 39,
   "metadata": {},
   "outputs": [],
   "source": [
    "alldf.to_csv(r'C:\\\\Users\\\\Owner\\\\Downloads\\\\CapstoneData\\\\DataFrame_01_12.csv', index = False)"
   ]
  },
  {
   "cell_type": "markdown",
   "metadata": {},
   "source": [
    "# Data analysis. \n",
    "\n",
    "### Different surfaces and their features boxplotted."
   ]
  },
  {
   "cell_type": "code",
   "execution_count": 141,
   "metadata": {},
   "outputs": [
    {
     "data": {
      "image/png": "[encoded data removed]",
      "text/plain": [
       "<Figure size 432x288 with 1 Axes>"
      ]
     },
     "metadata": {
      "needs_background": "light"
     },
     "output_type": "display_data"
    }
   ],
   "source": [
    "fig = sns.boxplot(data=alldf, x=\"Surface\", y=\"RMS\")"
   ]
  },
  {
   "cell_type": "code",
   "execution_count": 140,
   "metadata": {},
   "outputs": [
    {
     "data": {
      "image/png": "[encoded data removed]",
      "text/plain": [
       "<Figure size 432x288 with 1 Axes>"
      ]
     },
     "metadata": {
      "needs_background": "light"
     },
     "output_type": "display_data"
    }
   ],
   "source": [
    "fig = sns.boxplot(data=alldf, x=\"Surface\", y=\"RMSf\")"
   ]
  },
  {
   "cell_type": "code",
   "execution_count": 139,
   "metadata": {},
   "outputs": [
    {
     "data": {
      "image/png": "[encoded data removed]",
      "text/plain": [
       "<Figure size 432x288 with 1 Axes>"
      ]
     },
     "metadata": {
      "needs_background": "light"
     },
     "output_type": "display_data"
    }
   ],
   "source": [
    "fig = sns.boxplot(data=alldf, x=\"Surface\", y=\"Spec\")"
   ]
  },
  {
   "cell_type": "code",
   "execution_count": 138,
   "metadata": {},
   "outputs": [
    {
     "data": {
      "image/png": "[encoded data removed]",
      "text/plain": [
       "<Figure size 432x288 with 1 Axes>"
      ]
     },
     "metadata": {
      "needs_background": "light"
     },
     "output_type": "display_data"
    }
   ],
   "source": [
    "fig = sns.boxplot(data=alldf, x=\"Surface\", y=\"Specslo\")"
   ]
  },
  {
   "cell_type": "code",
   "execution_count": 137,
   "metadata": {},
   "outputs": [
    {
     "data": {
      "image/png": "[encoded data removed]",
      "text/plain": [
       "<Figure size 432x288 with 1 Axes>"
      ]
     },
     "metadata": {
      "needs_background": "light"
     },
     "output_type": "display_data"
    }
   ],
   "source": [
    "fig = sns.boxplot(data=alldf, x=\"Surface\", y=\"ZC\")"
   ]
  },
  {
   "cell_type": "code",
   "execution_count": 136,
   "metadata": {},
   "outputs": [
    {
     "data": {
      "image/png": "[encoded data removed]",
      "text/plain": [
       "<Figure size 432x288 with 1 Axes>"
      ]
     },
     "metadata": {
      "needs_background": "light"
     },
     "output_type": "display_data"
    }
   ],
   "source": [
    "fig = sns.boxplot(data=alldf, x=\"Surface\", y=\"ZCf\")"
   ]
  },
  {
   "cell_type": "code",
   "execution_count": 135,
   "metadata": {},
   "outputs": [
    {
     "data": {
      "image/png": "[encoded data removed]",
      "text/plain": [
       "<Figure size 432x288 with 1 Axes>"
      ]
     },
     "metadata": {
      "needs_background": "light"
     },
     "output_type": "display_data"
    }
   ],
   "source": [
    "fig = sns.boxplot(data=alldf, x=\"Surface\", y=\"Specspr\")"
   ]
  },
  {
   "cell_type": "code",
   "execution_count": 134,
   "metadata": {},
   "outputs": [
    {
     "data": {
      "image/png": "[encoded data removed]",
      "text/plain": [
       "<Figure size 432x288 with 1 Axes>"
      ]
     },
     "metadata": {
      "needs_background": "light"
     },
     "output_type": "display_data"
    }
   ],
   "source": [
    "fig = sns.boxplot(data=alldf, x=\"Surface\", y=\"Specsprf\")"
   ]
  },
  {
   "cell_type": "code",
   "execution_count": 165,
   "metadata": {},
   "outputs": [
    {
     "data": {
      "image/png": "[encoded data removed]",
      "text/plain": [
       "<Figure size 432x288 with 1 Axes>"
      ]
     },
     "metadata": {
      "needs_background": "light"
     },
     "output_type": "display_data"
    }
   ],
   "source": [
    "fig = sns.boxplot(data=alldf, x=\"Surface\", y=\"STD\")"
   ]
  },
  {
   "cell_type": "code",
   "execution_count": 133,
   "metadata": {},
   "outputs": [
    {
     "data": {
      "image/png": "[encoded data removed]",
      "text/plain": [
       "<Figure size 432x288 with 1 Axes>"
      ]
     },
     "metadata": {
      "needs_background": "light"
     },
     "output_type": "display_data"
    }
   ],
   "source": [
    "fig = sns.boxplot(data=alldf, x=\"Surface\", y=\"STDf\")"
   ]
  },
  {
   "cell_type": "code",
   "execution_count": 107,
   "metadata": {},
   "outputs": [
    {
     "data": {
      "text/html": [
       "<div>\n",
       "<style scoped>\n",
       "    .dataframe tbody tr th:only-of-type {\n",
       "        vertical-align: middle;\n",
       "    }\n",
       "\n",
       "    .dataframe tbody tr th {\n",
       "        vertical-align: top;\n",
       "    }\n",
       "\n",
       "    .dataframe thead th {\n",
       "        text-align: right;\n",
       "    }\n",
       "</style>\n",
       "<table border=\"1\" class=\"dataframe\">\n",
       "  <thead>\n",
       "    <tr style=\"text-align: right;\">\n",
       "      <th></th>\n",
       "      <th>Surface</th>\n",
       "      <th>RMS</th>\n",
       "      <th>RMSf</th>\n",
       "      <th>ZC</th>\n",
       "      <th>ZCf</th>\n",
       "      <th>Spec</th>\n",
       "      <th>Specf</th>\n",
       "      <th>Specslo</th>\n",
       "      <th>Specslof</th>\n",
       "      <th>Specspr</th>\n",
       "      <th>Specsprf</th>\n",
       "      <th>STD</th>\n",
       "      <th>STDf</th>\n",
       "    </tr>\n",
       "  </thead>\n",
       "  <tbody>\n",
       "    <tr>\n",
       "      <th>0</th>\n",
       "      <td>Wet Asphalt</td>\n",
       "      <td>0.636991</td>\n",
       "      <td>-0.909537</td>\n",
       "      <td>-1.776822</td>\n",
       "      <td>-1.970302</td>\n",
       "      <td>-1.436763</td>\n",
       "      <td>-1.451934</td>\n",
       "      <td>-0.277799</td>\n",
       "      <td>-0.296562</td>\n",
       "      <td>-0.671288</td>\n",
       "      <td>-0.752975</td>\n",
       "      <td>-0.932151</td>\n",
       "      <td>-0.909537</td>\n",
       "    </tr>\n",
       "    <tr>\n",
       "      <th>1</th>\n",
       "      <td>Wet Asphalt</td>\n",
       "      <td>0.179694</td>\n",
       "      <td>-0.795452</td>\n",
       "      <td>-1.609772</td>\n",
       "      <td>-1.678002</td>\n",
       "      <td>-1.602796</td>\n",
       "      <td>-1.544345</td>\n",
       "      <td>-0.489709</td>\n",
       "      <td>-0.406159</td>\n",
       "      <td>-1.160694</td>\n",
       "      <td>-1.059778</td>\n",
       "      <td>-0.775480</td>\n",
       "      <td>-0.795452</td>\n",
       "    </tr>\n",
       "    <tr>\n",
       "      <th>2</th>\n",
       "      <td>Wet Asphalt</td>\n",
       "      <td>0.122326</td>\n",
       "      <td>-0.674255</td>\n",
       "      <td>-1.489207</td>\n",
       "      <td>-1.564362</td>\n",
       "      <td>-1.332246</td>\n",
       "      <td>-1.373932</td>\n",
       "      <td>-0.144402</td>\n",
       "      <td>-0.204052</td>\n",
       "      <td>-0.564559</td>\n",
       "      <td>-0.896966</td>\n",
       "      <td>-0.652589</td>\n",
       "      <td>-0.674255</td>\n",
       "    </tr>\n",
       "    <tr>\n",
       "      <th>3</th>\n",
       "      <td>Wet Asphalt</td>\n",
       "      <td>-0.159926</td>\n",
       "      <td>-0.517573</td>\n",
       "      <td>-1.640515</td>\n",
       "      <td>-1.721935</td>\n",
       "      <td>-1.604402</td>\n",
       "      <td>-1.497758</td>\n",
       "      <td>-0.491759</td>\n",
       "      <td>-0.350907</td>\n",
       "      <td>-1.145385</td>\n",
       "      <td>-0.828780</td>\n",
       "      <td>-0.448782</td>\n",
       "      <td>-0.517573</td>\n",
       "    </tr>\n",
       "    <tr>\n",
       "      <th>4</th>\n",
       "      <td>Wet Asphalt</td>\n",
       "      <td>-0.238222</td>\n",
       "      <td>-0.523400</td>\n",
       "      <td>-1.795157</td>\n",
       "      <td>-1.823078</td>\n",
       "      <td>-1.660792</td>\n",
       "      <td>-1.546567</td>\n",
       "      <td>-0.563729</td>\n",
       "      <td>-0.408794</td>\n",
       "      <td>-1.130075</td>\n",
       "      <td>-0.932176</td>\n",
       "      <td>-0.415016</td>\n",
       "      <td>-0.523400</td>\n",
       "    </tr>\n",
       "    <tr>\n",
       "      <th>...</th>\n",
       "      <td>...</td>\n",
       "      <td>...</td>\n",
       "      <td>...</td>\n",
       "      <td>...</td>\n",
       "      <td>...</td>\n",
       "      <td>...</td>\n",
       "      <td>...</td>\n",
       "      <td>...</td>\n",
       "      <td>...</td>\n",
       "      <td>...</td>\n",
       "      <td>...</td>\n",
       "      <td>...</td>\n",
       "      <td>...</td>\n",
       "    </tr>\n",
       "    <tr>\n",
       "      <th>664</th>\n",
       "      <td>Dry Asphalt</td>\n",
       "      <td>1.137249</td>\n",
       "      <td>-0.968632</td>\n",
       "      <td>1.020432</td>\n",
       "      <td>0.982384</td>\n",
       "      <td>0.498121</td>\n",
       "      <td>0.390345</td>\n",
       "      <td>0.129511</td>\n",
       "      <td>-0.006529</td>\n",
       "      <td>0.326647</td>\n",
       "      <td>0.353976</td>\n",
       "      <td>-1.040439</td>\n",
       "      <td>-0.968632</td>\n",
       "    </tr>\n",
       "    <tr>\n",
       "      <th>665</th>\n",
       "      <td>Dry Asphalt</td>\n",
       "      <td>0.614169</td>\n",
       "      <td>-0.435030</td>\n",
       "      <td>1.026914</td>\n",
       "      <td>0.950166</td>\n",
       "      <td>0.524241</td>\n",
       "      <td>0.449193</td>\n",
       "      <td>0.165181</td>\n",
       "      <td>0.068150</td>\n",
       "      <td>0.261300</td>\n",
       "      <td>0.276181</td>\n",
       "      <td>-0.497996</td>\n",
       "      <td>-0.435030</td>\n",
       "    </tr>\n",
       "    <tr>\n",
       "      <th>666</th>\n",
       "      <td>Dry Asphalt</td>\n",
       "      <td>-0.593662</td>\n",
       "      <td>0.207291</td>\n",
       "      <td>0.435572</td>\n",
       "      <td>0.454602</td>\n",
       "      <td>-0.228514</td>\n",
       "      <td>-0.280964</td>\n",
       "      <td>-0.862822</td>\n",
       "      <td>-0.858418</td>\n",
       "      <td>-0.584690</td>\n",
       "      <td>-0.680135</td>\n",
       "      <td>0.225667</td>\n",
       "      <td>0.207291</td>\n",
       "    </tr>\n",
       "    <tr>\n",
       "      <th>667</th>\n",
       "      <td>Dry Asphalt</td>\n",
       "      <td>-0.641654</td>\n",
       "      <td>0.622580</td>\n",
       "      <td>0.765412</td>\n",
       "      <td>0.746903</td>\n",
       "      <td>-0.042689</td>\n",
       "      <td>-0.086110</td>\n",
       "      <td>-0.609049</td>\n",
       "      <td>-0.611148</td>\n",
       "      <td>-0.694372</td>\n",
       "      <td>-0.673102</td>\n",
       "      <td>0.621277</td>\n",
       "      <td>0.622580</td>\n",
       "    </tr>\n",
       "    <tr>\n",
       "      <th>668</th>\n",
       "      <td>Dry Asphalt</td>\n",
       "      <td>-0.600220</td>\n",
       "      <td>0.417660</td>\n",
       "      <td>1.032284</td>\n",
       "      <td>0.950752</td>\n",
       "      <td>0.113535</td>\n",
       "      <td>0.117241</td>\n",
       "      <td>-0.395702</td>\n",
       "      <td>-0.353097</td>\n",
       "      <td>-0.712116</td>\n",
       "      <td>-0.293775</td>\n",
       "      <td>0.351917</td>\n",
       "      <td>0.417660</td>\n",
       "    </tr>\n",
       "  </tbody>\n",
       "</table>\n",
       "<p>554 rows × 13 columns</p>\n",
       "</div>"
      ],
      "text/plain": [
       "         Surface       RMS      RMSf        ZC       ZCf      Spec     Specf  \\\n",
       "0    Wet Asphalt  0.636991 -0.909537 -1.776822 -1.970302 -1.436763 -1.451934   \n",
       "1    Wet Asphalt  0.179694 -0.795452 -1.609772 -1.678002 -1.602796 -1.544345   \n",
       "2    Wet Asphalt  0.122326 -0.674255 -1.489207 -1.564362 -1.332246 -1.373932   \n",
       "3    Wet Asphalt -0.159926 -0.517573 -1.640515 -1.721935 -1.604402 -1.497758   \n",
       "4    Wet Asphalt -0.238222 -0.523400 -1.795157 -1.823078 -1.660792 -1.546567   \n",
       "..           ...       ...       ...       ...       ...       ...       ...   \n",
       "664  Dry Asphalt  1.137249 -0.968632  1.020432  0.982384  0.498121  0.390345   \n",
       "665  Dry Asphalt  0.614169 -0.435030  1.026914  0.950166  0.524241  0.449193   \n",
       "666  Dry Asphalt -0.593662  0.207291  0.435572  0.454602 -0.228514 -0.280964   \n",
       "667  Dry Asphalt -0.641654  0.622580  0.765412  0.746903 -0.042689 -0.086110   \n",
       "668  Dry Asphalt -0.600220  0.417660  1.032284  0.950752  0.113535  0.117241   \n",
       "\n",
       "      Specslo  Specslof   Specspr  Specsprf       STD      STDf  \n",
       "0   -0.277799 -0.296562 -0.671288 -0.752975 -0.932151 -0.909537  \n",
       "1   -0.489709 -0.406159 -1.160694 -1.059778 -0.775480 -0.795452  \n",
       "2   -0.144402 -0.204052 -0.564559 -0.896966 -0.652589 -0.674255  \n",
       "3   -0.491759 -0.350907 -1.145385 -0.828780 -0.448782 -0.517573  \n",
       "4   -0.563729 -0.408794 -1.130075 -0.932176 -0.415016 -0.523400  \n",
       "..        ...       ...       ...       ...       ...       ...  \n",
       "664  0.129511 -0.006529  0.326647  0.353976 -1.040439 -0.968632  \n",
       "665  0.165181  0.068150  0.261300  0.276181 -0.497996 -0.435030  \n",
       "666 -0.862822 -0.858418 -0.584690 -0.680135  0.225667  0.207291  \n",
       "667 -0.609049 -0.611148 -0.694372 -0.673102  0.621277  0.622580  \n",
       "668 -0.395702 -0.353097 -0.712116 -0.293775  0.351917  0.417660  \n",
       "\n",
       "[554 rows x 13 columns]"
      ]
     },
     "execution_count": 107,
     "metadata": {},
     "output_type": "execute_result"
    }
   ],
   "source": [
    "alldf"
   ]
  },
  {
   "cell_type": "markdown",
   "metadata": {},
   "source": [
    "# MACHINE LEARNING PART\n",
    "\n",
    "### This time I split the gravel instances into two: wet and dry.\n"
   ]
  },
  {
   "cell_type": "code",
   "execution_count": 101,
   "metadata": {},
   "outputs": [],
   "source": [
    "from sklearn.model_selection import train_test_split\n",
    "from sklearn.neighbors import KNeighborsClassifier\n",
    "import sklearn\n",
    "import seaborn as sns\n",
    "from sklearn.metrics import plot_confusion_matrix\n",
    "from sklearn.metrics import accuracy_score\n",
    "from sklearn.model_selection import LeaveOneOut\n",
    "from sklearn.model_selection import cross_val_score\n",
    "from sklearn.model_selection import KFold\n",
    "from sklearn.metrics import recall_score\n",
    "from sklearn.metrics import plot_confusion_matrix\n",
    "from sklearn.metrics import precision_score\n",
    "from sklearn.ensemble import RandomForestClassifier\n",
    "from sklearn.ensemble import ExtraTreesClassifier\n",
    "from sklearn import preprocessing\n",
    "from sklearn import tree\n",
    "from sklearn.naive_bayes import GaussianNB"
   ]
  },
  {
   "cell_type": "code",
   "execution_count": 206,
   "metadata": {},
   "outputs": [
    {
     "data": {
      "text/plain": [
       "['RMS',\n",
       " 'RMSf',\n",
       " 'Spec',\n",
       " 'Specf',\n",
       " 'ZC',\n",
       " 'ZCf',\n",
       " 'Specslo',\n",
       " 'Specslof',\n",
       " 'Specspr',\n",
       " 'Specsprf',\n",
       " 'STD',\n",
       " 'STDf']"
      ]
     },
     "execution_count": 206,
     "metadata": {},
     "output_type": "execute_result"
    }
   ],
   "source": [
    "features"
   ]
  },
  {
   "cell_type": "code",
   "execution_count": 207,
   "metadata": {},
   "outputs": [],
   "source": [
    "fts=['RMS',\n",
    " 'RMSf',\n",
    " 'Spec',\n",
    " 'Specf',\n",
    " 'ZC',\n",
    " 'ZCf',\n",
    " 'Specslo',\n",
    " 'Specslof',\n",
    " 'Specspr',\n",
    " 'Specsprf',\n",
    " 'STD',\n",
    " 'STDf',\n",
    "'Surface']"
   ]
  },
  {
   "cell_type": "code",
   "execution_count": 229,
   "metadata": {},
   "outputs": [],
   "source": [
    "graveldf2[\"Surface\"] = \"DryGrav\"\n",
    "\n",
    "graveldf[\"Surface\"] = \"WetGrav\"\n",
    "\n",
    "waspdf[\"Surface\"] = \"WetAsp\"\n",
    "\n",
    "drydf[\"Surface\"] = \"DryAsp\""
   ]
  },
  {
   "cell_type": "code",
   "execution_count": 230,
   "metadata": {},
   "outputs": [],
   "source": [
    "graveldf22 = graveldf2[fts]\n",
    "\n",
    "graveldf12 = graveldf[fts]\n",
    "\n",
    "waspdf2 = waspdf[fts]\n",
    "\n",
    "drydf2 = drydf[fts]"
   ]
  },
  {
   "cell_type": "code",
   "execution_count": 231,
   "metadata": {},
   "outputs": [
    {
     "data": {
      "text/html": [
       "<div>\n",
       "<style scoped>\n",
       "    .dataframe tbody tr th:only-of-type {\n",
       "        vertical-align: middle;\n",
       "    }\n",
       "\n",
       "    .dataframe tbody tr th {\n",
       "        vertical-align: top;\n",
       "    }\n",
       "\n",
       "    .dataframe thead th {\n",
       "        text-align: right;\n",
       "    }\n",
       "</style>\n",
       "<table border=\"1\" class=\"dataframe\">\n",
       "  <thead>\n",
       "    <tr style=\"text-align: right;\">\n",
       "      <th></th>\n",
       "      <th>RMS</th>\n",
       "      <th>RMSf</th>\n",
       "      <th>Spec</th>\n",
       "      <th>Specf</th>\n",
       "      <th>ZC</th>\n",
       "      <th>ZCf</th>\n",
       "      <th>Specslo</th>\n",
       "      <th>Specslof</th>\n",
       "      <th>Specspr</th>\n",
       "      <th>Specsprf</th>\n",
       "      <th>STD</th>\n",
       "      <th>STDf</th>\n",
       "      <th>Surface</th>\n",
       "    </tr>\n",
       "  </thead>\n",
       "  <tbody>\n",
       "    <tr>\n",
       "      <th>0</th>\n",
       "      <td>29.546131</td>\n",
       "      <td>1023.227026</td>\n",
       "      <td>936.116277</td>\n",
       "      <td>1018.407771</td>\n",
       "      <td>7470.0</td>\n",
       "      <td>8387.0</td>\n",
       "      <td>-1.136291e-09</td>\n",
       "      <td>-1.127022e-09</td>\n",
       "      <td>1641.800213</td>\n",
       "      <td>1592.380153</td>\n",
       "      <td>1165.214212</td>\n",
       "      <td>1023.227026</td>\n",
       "      <td>WetAsp</td>\n",
       "    </tr>\n",
       "    <tr>\n",
       "      <th>1</th>\n",
       "      <td>23.158067</td>\n",
       "      <td>1283.379764</td>\n",
       "      <td>869.158982</td>\n",
       "      <td>980.920178</td>\n",
       "      <td>8372.0</td>\n",
       "      <td>9884.0</td>\n",
       "      <td>-1.143832e-09</td>\n",
       "      <td>-1.131245e-09</td>\n",
       "      <td>1428.056723</td>\n",
       "      <td>1453.218214</td>\n",
       "      <td>1536.434588</td>\n",
       "      <td>1283.379763</td>\n",
       "      <td>WetAsp</td>\n",
       "    </tr>\n",
       "    <tr>\n",
       "      <th>2</th>\n",
       "      <td>22.356680</td>\n",
       "      <td>1559.749380</td>\n",
       "      <td>978.265482</td>\n",
       "      <td>1050.050716</td>\n",
       "      <td>9023.0</td>\n",
       "      <td>10466.0</td>\n",
       "      <td>-1.131544e-09</td>\n",
       "      <td>-1.123459e-09</td>\n",
       "      <td>1688.413169</td>\n",
       "      <td>1527.067657</td>\n",
       "      <td>1827.613507</td>\n",
       "      <td>1559.749375</td>\n",
       "      <td>WetAsp</td>\n",
       "    </tr>\n",
       "    <tr>\n",
       "      <th>3</th>\n",
       "      <td>18.413845</td>\n",
       "      <td>1917.039422</td>\n",
       "      <td>868.511381</td>\n",
       "      <td>999.818919</td>\n",
       "      <td>8206.0</td>\n",
       "      <td>9659.0</td>\n",
       "      <td>-1.143905e-09</td>\n",
       "      <td>-1.129116e-09</td>\n",
       "      <td>1434.742860</td>\n",
       "      <td>1557.996016</td>\n",
       "      <td>2310.517279</td>\n",
       "      <td>1917.039352</td>\n",
       "      <td>WetAsp</td>\n",
       "    </tr>\n",
       "    <tr>\n",
       "      <th>4</th>\n",
       "      <td>17.320115</td>\n",
       "      <td>1903.750157</td>\n",
       "      <td>845.770818</td>\n",
       "      <td>980.018609</td>\n",
       "      <td>7371.0</td>\n",
       "      <td>9141.0</td>\n",
       "      <td>-1.146466e-09</td>\n",
       "      <td>-1.131346e-09</td>\n",
       "      <td>1441.429068</td>\n",
       "      <td>1511.096731</td>\n",
       "      <td>2390.523797</td>\n",
       "      <td>1903.750146</td>\n",
       "      <td>WetAsp</td>\n",
       "    </tr>\n",
       "    <tr>\n",
       "      <th>...</th>\n",
       "      <td>...</td>\n",
       "      <td>...</td>\n",
       "      <td>...</td>\n",
       "      <td>...</td>\n",
       "      <td>...</td>\n",
       "      <td>...</td>\n",
       "      <td>...</td>\n",
       "      <td>...</td>\n",
       "      <td>...</td>\n",
       "      <td>...</td>\n",
       "      <td>...</td>\n",
       "      <td>...</td>\n",
       "      <td>...</td>\n",
       "    </tr>\n",
       "    <tr>\n",
       "      <th>149</th>\n",
       "      <td>8.015358</td>\n",
       "      <td>5411.595677</td>\n",
       "      <td>1411.974206</td>\n",
       "      <td>1464.138470</td>\n",
       "      <td>20532.0</td>\n",
       "      <td>21396.0</td>\n",
       "      <td>-1.158484e-09</td>\n",
       "      <td>-1.152197e-09</td>\n",
       "      <td>1508.710934</td>\n",
       "      <td>1467.133287</td>\n",
       "      <td>5686.370703</td>\n",
       "      <td>5411.595274</td>\n",
       "      <td>DryAsp</td>\n",
       "    </tr>\n",
       "    <tr>\n",
       "      <th>150</th>\n",
       "      <td>10.389646</td>\n",
       "      <td>5148.698010</td>\n",
       "      <td>1426.624362</td>\n",
       "      <td>1482.212794</td>\n",
       "      <td>21115.0</td>\n",
       "      <td>22032.0</td>\n",
       "      <td>-1.156718e-09</td>\n",
       "      <td>-1.150019e-09</td>\n",
       "      <td>1534.212795</td>\n",
       "      <td>1505.584996</td>\n",
       "      <td>5419.202908</td>\n",
       "      <td>5148.697873</td>\n",
       "      <td>DryAsp</td>\n",
       "    </tr>\n",
       "    <tr>\n",
       "      <th>151</th>\n",
       "      <td>5.727104</td>\n",
       "      <td>5511.432614</td>\n",
       "      <td>1430.342826</td>\n",
       "      <td>1484.987545</td>\n",
       "      <td>21158.0</td>\n",
       "      <td>22068.0</td>\n",
       "      <td>-1.156270e-09</td>\n",
       "      <td>-1.149685e-09</td>\n",
       "      <td>1515.618864</td>\n",
       "      <td>1462.701347</td>\n",
       "      <td>5806.613661</td>\n",
       "      <td>5511.432586</td>\n",
       "      <td>DryAsp</td>\n",
       "    </tr>\n",
       "    <tr>\n",
       "      <th>153</th>\n",
       "      <td>6.959138</td>\n",
       "      <td>5811.278444</td>\n",
       "      <td>1409.120273</td>\n",
       "      <td>1476.886269</td>\n",
       "      <td>20752.0</td>\n",
       "      <td>21879.0</td>\n",
       "      <td>-1.158828e-09</td>\n",
       "      <td>-1.150661e-09</td>\n",
       "      <td>1494.198522</td>\n",
       "      <td>1514.366795</td>\n",
       "      <td>6142.207515</td>\n",
       "      <td>5811.278346</td>\n",
       "      <td>DryAsp</td>\n",
       "    </tr>\n",
       "    <tr>\n",
       "      <th>154</th>\n",
       "      <td>7.940663</td>\n",
       "      <td>4603.270370</td>\n",
       "      <td>1449.444357</td>\n",
       "      <td>1511.847038</td>\n",
       "      <td>20834.0</td>\n",
       "      <td>22208.0</td>\n",
       "      <td>-1.153968e-09</td>\n",
       "      <td>-1.146448e-09</td>\n",
       "      <td>1573.830404</td>\n",
       "      <td>1522.523202</td>\n",
       "      <td>4921.942283</td>\n",
       "      <td>4603.270179</td>\n",
       "      <td>DryAsp</td>\n",
       "    </tr>\n",
       "  </tbody>\n",
       "</table>\n",
       "<p>316 rows × 13 columns</p>\n",
       "</div>"
      ],
      "text/plain": [
       "           RMS         RMSf         Spec        Specf       ZC      ZCf  \\\n",
       "0    29.546131  1023.227026   936.116277  1018.407771   7470.0   8387.0   \n",
       "1    23.158067  1283.379764   869.158982   980.920178   8372.0   9884.0   \n",
       "2    22.356680  1559.749380   978.265482  1050.050716   9023.0  10466.0   \n",
       "3    18.413845  1917.039422   868.511381   999.818919   8206.0   9659.0   \n",
       "4    17.320115  1903.750157   845.770818   980.018609   7371.0   9141.0   \n",
       "..         ...          ...          ...          ...      ...      ...   \n",
       "149   8.015358  5411.595677  1411.974206  1464.138470  20532.0  21396.0   \n",
       "150  10.389646  5148.698010  1426.624362  1482.212794  21115.0  22032.0   \n",
       "151   5.727104  5511.432614  1430.342826  1484.987545  21158.0  22068.0   \n",
       "153   6.959138  5811.278444  1409.120273  1476.886269  20752.0  21879.0   \n",
       "154   7.940663  4603.270370  1449.444357  1511.847038  20834.0  22208.0   \n",
       "\n",
       "          Specslo      Specslof      Specspr     Specsprf          STD  \\\n",
       "0   -1.136291e-09 -1.127022e-09  1641.800213  1592.380153  1165.214212   \n",
       "1   -1.143832e-09 -1.131245e-09  1428.056723  1453.218214  1536.434588   \n",
       "2   -1.131544e-09 -1.123459e-09  1688.413169  1527.067657  1827.613507   \n",
       "3   -1.143905e-09 -1.129116e-09  1434.742860  1557.996016  2310.517279   \n",
       "4   -1.146466e-09 -1.131346e-09  1441.429068  1511.096731  2390.523797   \n",
       "..            ...           ...          ...          ...          ...   \n",
       "149 -1.158484e-09 -1.152197e-09  1508.710934  1467.133287  5686.370703   \n",
       "150 -1.156718e-09 -1.150019e-09  1534.212795  1505.584996  5419.202908   \n",
       "151 -1.156270e-09 -1.149685e-09  1515.618864  1462.701347  5806.613661   \n",
       "153 -1.158828e-09 -1.150661e-09  1494.198522  1514.366795  6142.207515   \n",
       "154 -1.153968e-09 -1.146448e-09  1573.830404  1522.523202  4921.942283   \n",
       "\n",
       "            STDf Surface  \n",
       "0    1023.227026  WetAsp  \n",
       "1    1283.379763  WetAsp  \n",
       "2    1559.749375  WetAsp  \n",
       "3    1917.039352  WetAsp  \n",
       "4    1903.750146  WetAsp  \n",
       "..           ...     ...  \n",
       "149  5411.595274  DryAsp  \n",
       "150  5148.697873  DryAsp  \n",
       "151  5511.432586  DryAsp  \n",
       "153  5811.278346  DryAsp  \n",
       "154  4603.270179  DryAsp  \n",
       "\n",
       "[316 rows x 13 columns]"
      ]
     },
     "execution_count": 231,
     "metadata": {},
     "output_type": "execute_result"
    }
   ],
   "source": [
    "tdrydf2 = drydf2.dropna()\n",
    "\n",
    "tdrydf2 = tdrydf2[0:105]\n",
    "\n",
    "alldf = pd.concat([waspdf, graveldf, graveldf2, tdrydf])\n",
    "\n",
    "alldf = pd.concat([waspdf2, graveldf12, graveldf22, tdrydf2])\n",
    "\n",
    "alldf"
   ]
  },
  {
   "cell_type": "code",
   "execution_count": 233,
   "metadata": {},
   "outputs": [
    {
     "data": {
      "text/html": [
       "<div>\n",
       "<style scoped>\n",
       "    .dataframe tbody tr th:only-of-type {\n",
       "        vertical-align: middle;\n",
       "    }\n",
       "\n",
       "    .dataframe tbody tr th {\n",
       "        vertical-align: top;\n",
       "    }\n",
       "\n",
       "    .dataframe thead th {\n",
       "        text-align: right;\n",
       "    }\n",
       "</style>\n",
       "<table border=\"1\" class=\"dataframe\">\n",
       "  <thead>\n",
       "    <tr style=\"text-align: right;\">\n",
       "      <th></th>\n",
       "      <th>RMS</th>\n",
       "      <th>RMSf</th>\n",
       "      <th>Spec</th>\n",
       "      <th>Specf</th>\n",
       "      <th>ZC</th>\n",
       "      <th>ZCf</th>\n",
       "      <th>Specslo</th>\n",
       "      <th>Specslof</th>\n",
       "      <th>Specspr</th>\n",
       "      <th>Specsprf</th>\n",
       "      <th>STD</th>\n",
       "      <th>STDf</th>\n",
       "      <th>Surface</th>\n",
       "    </tr>\n",
       "  </thead>\n",
       "  <tbody>\n",
       "    <tr>\n",
       "      <th>0</th>\n",
       "      <td>1.268606</td>\n",
       "      <td>-1.064313</td>\n",
       "      <td>-1.084118</td>\n",
       "      <td>-1.128411</td>\n",
       "      <td>-1.181980</td>\n",
       "      <td>-1.340856</td>\n",
       "      <td>-0.333712</td>\n",
       "      <td>-0.363234</td>\n",
       "      <td>-0.558278</td>\n",
       "      <td>-0.643032</td>\n",
       "      <td>-1.146502</td>\n",
       "      <td>-1.064313</td>\n",
       "      <td>WetAsp</td>\n",
       "    </tr>\n",
       "    <tr>\n",
       "      <th>1</th>\n",
       "      <td>0.601704</td>\n",
       "      <td>-0.932870</td>\n",
       "      <td>-1.242590</td>\n",
       "      <td>-1.217249</td>\n",
       "      <td>-1.036518</td>\n",
       "      <td>-1.087577</td>\n",
       "      <td>-0.561859</td>\n",
       "      <td>-0.477827</td>\n",
       "      <td>-1.045452</td>\n",
       "      <td>-0.947470</td>\n",
       "      <td>-0.960707</td>\n",
       "      <td>-0.932870</td>\n",
       "      <td>WetAsp</td>\n",
       "    </tr>\n",
       "    <tr>\n",
       "      <th>2</th>\n",
       "      <td>0.518041</td>\n",
       "      <td>-0.793233</td>\n",
       "      <td>-0.984361</td>\n",
       "      <td>-1.053425</td>\n",
       "      <td>-0.931534</td>\n",
       "      <td>-0.989107</td>\n",
       "      <td>-0.190094</td>\n",
       "      <td>-0.266507</td>\n",
       "      <td>-0.452035</td>\n",
       "      <td>-0.785913</td>\n",
       "      <td>-0.814973</td>\n",
       "      <td>-0.793233</td>\n",
       "      <td>WetAsp</td>\n",
       "    </tr>\n",
       "    <tr>\n",
       "      <th>3</th>\n",
       "      <td>0.106417</td>\n",
       "      <td>-0.612711</td>\n",
       "      <td>-1.244123</td>\n",
       "      <td>-1.172463</td>\n",
       "      <td>-1.063288</td>\n",
       "      <td>-1.125645</td>\n",
       "      <td>-0.564066</td>\n",
       "      <td>-0.420057</td>\n",
       "      <td>-1.030212</td>\n",
       "      <td>-0.718253</td>\n",
       "      <td>-0.573281</td>\n",
       "      <td>-0.612711</td>\n",
       "      <td>WetAsp</td>\n",
       "    </tr>\n",
       "    <tr>\n",
       "      <th>4</th>\n",
       "      <td>-0.007766</td>\n",
       "      <td>-0.619426</td>\n",
       "      <td>-1.297944</td>\n",
       "      <td>-1.219385</td>\n",
       "      <td>-1.197945</td>\n",
       "      <td>-1.213286</td>\n",
       "      <td>-0.641551</td>\n",
       "      <td>-0.480583</td>\n",
       "      <td>-1.014973</td>\n",
       "      <td>-0.820852</td>\n",
       "      <td>-0.533238</td>\n",
       "      <td>-0.619426</td>\n",
       "      <td>WetAsp</td>\n",
       "    </tr>\n",
       "    <tr>\n",
       "      <th>...</th>\n",
       "      <td>...</td>\n",
       "      <td>...</td>\n",
       "      <td>...</td>\n",
       "      <td>...</td>\n",
       "      <td>...</td>\n",
       "      <td>...</td>\n",
       "      <td>...</td>\n",
       "      <td>...</td>\n",
       "      <td>...</td>\n",
       "      <td>...</td>\n",
       "      <td>...</td>\n",
       "      <td>...</td>\n",
       "      <td>...</td>\n",
       "    </tr>\n",
       "    <tr>\n",
       "      <th>149</th>\n",
       "      <td>-0.979165</td>\n",
       "      <td>1.152927</td>\n",
       "      <td>0.042125</td>\n",
       "      <td>-0.072129</td>\n",
       "      <td>0.924475</td>\n",
       "      <td>0.860158</td>\n",
       "      <td>-1.005123</td>\n",
       "      <td>-1.046506</td>\n",
       "      <td>-0.861621</td>\n",
       "      <td>-0.917029</td>\n",
       "      <td>1.116324</td>\n",
       "      <td>1.152927</td>\n",
       "      <td>DryAsp</td>\n",
       "    </tr>\n",
       "    <tr>\n",
       "      <th>150</th>\n",
       "      <td>-0.731294</td>\n",
       "      <td>1.020097</td>\n",
       "      <td>0.076799</td>\n",
       "      <td>-0.029297</td>\n",
       "      <td>1.018493</td>\n",
       "      <td>0.967764</td>\n",
       "      <td>-0.951710</td>\n",
       "      <td>-0.987388</td>\n",
       "      <td>-0.803496</td>\n",
       "      <td>-0.832910</td>\n",
       "      <td>0.982607</td>\n",
       "      <td>1.020097</td>\n",
       "      <td>DryAsp</td>\n",
       "    </tr>\n",
       "    <tr>\n",
       "      <th>151</th>\n",
       "      <td>-1.218054</td>\n",
       "      <td>1.203370</td>\n",
       "      <td>0.085599</td>\n",
       "      <td>-0.022722</td>\n",
       "      <td>1.025428</td>\n",
       "      <td>0.973854</td>\n",
       "      <td>-0.938153</td>\n",
       "      <td>-0.978312</td>\n",
       "      <td>-0.845876</td>\n",
       "      <td>-0.926724</td>\n",
       "      <td>1.176505</td>\n",
       "      <td>1.203370</td>\n",
       "      <td>DryAsp</td>\n",
       "    </tr>\n",
       "    <tr>\n",
       "      <th>153</th>\n",
       "      <td>-1.089432</td>\n",
       "      <td>1.354868</td>\n",
       "      <td>0.035371</td>\n",
       "      <td>-0.041920</td>\n",
       "      <td>0.959954</td>\n",
       "      <td>0.941877</td>\n",
       "      <td>-1.015528</td>\n",
       "      <td>-1.004810</td>\n",
       "      <td>-0.894698</td>\n",
       "      <td>-0.813698</td>\n",
       "      <td>1.344469</td>\n",
       "      <td>1.354868</td>\n",
       "      <td>DryAsp</td>\n",
       "    </tr>\n",
       "    <tr>\n",
       "      <th>154</th>\n",
       "      <td>-0.986963</td>\n",
       "      <td>0.744517</td>\n",
       "      <td>0.130808</td>\n",
       "      <td>0.040929</td>\n",
       "      <td>0.973178</td>\n",
       "      <td>0.997541</td>\n",
       "      <td>-0.868511</td>\n",
       "      <td>-0.890460</td>\n",
       "      <td>-0.713198</td>\n",
       "      <td>-0.795855</td>\n",
       "      <td>0.733730</td>\n",
       "      <td>0.744517</td>\n",
       "      <td>DryAsp</td>\n",
       "    </tr>\n",
       "  </tbody>\n",
       "</table>\n",
       "<p>307 rows × 13 columns</p>\n",
       "</div>"
      ],
      "text/plain": [
       "          RMS      RMSf      Spec     Specf        ZC       ZCf   Specslo  \\\n",
       "0    1.268606 -1.064313 -1.084118 -1.128411 -1.181980 -1.340856 -0.333712   \n",
       "1    0.601704 -0.932870 -1.242590 -1.217249 -1.036518 -1.087577 -0.561859   \n",
       "2    0.518041 -0.793233 -0.984361 -1.053425 -0.931534 -0.989107 -0.190094   \n",
       "3    0.106417 -0.612711 -1.244123 -1.172463 -1.063288 -1.125645 -0.564066   \n",
       "4   -0.007766 -0.619426 -1.297944 -1.219385 -1.197945 -1.213286 -0.641551   \n",
       "..        ...       ...       ...       ...       ...       ...       ...   \n",
       "149 -0.979165  1.152927  0.042125 -0.072129  0.924475  0.860158 -1.005123   \n",
       "150 -0.731294  1.020097  0.076799 -0.029297  1.018493  0.967764 -0.951710   \n",
       "151 -1.218054  1.203370  0.085599 -0.022722  1.025428  0.973854 -0.938153   \n",
       "153 -1.089432  1.354868  0.035371 -0.041920  0.959954  0.941877 -1.015528   \n",
       "154 -0.986963  0.744517  0.130808  0.040929  0.973178  0.997541 -0.868511   \n",
       "\n",
       "     Specslof   Specspr  Specsprf       STD      STDf Surface  \n",
       "0   -0.363234 -0.558278 -0.643032 -1.146502 -1.064313  WetAsp  \n",
       "1   -0.477827 -1.045452 -0.947470 -0.960707 -0.932870  WetAsp  \n",
       "2   -0.266507 -0.452035 -0.785913 -0.814973 -0.793233  WetAsp  \n",
       "3   -0.420057 -1.030212 -0.718253 -0.573281 -0.612711  WetAsp  \n",
       "4   -0.480583 -1.014973 -0.820852 -0.533238 -0.619426  WetAsp  \n",
       "..        ...       ...       ...       ...       ...     ...  \n",
       "149 -1.046506 -0.861621 -0.917029  1.116324  1.152927  DryAsp  \n",
       "150 -0.987388 -0.803496 -0.832910  0.982607  1.020097  DryAsp  \n",
       "151 -0.978312 -0.845876 -0.926724  1.176505  1.203370  DryAsp  \n",
       "153 -1.004810 -0.894698 -0.813698  1.344469  1.354868  DryAsp  \n",
       "154 -0.890460 -0.713198 -0.795855  0.733730  0.744517  DryAsp  \n",
       "\n",
       "[307 rows x 13 columns]"
      ]
     },
     "execution_count": 233,
     "metadata": {},
     "output_type": "execute_result"
    }
   ],
   "source": [
    "\n",
    "# post processing, standardize the data\n",
    "\n",
    "#remove na values\n",
    "alldf = alldf.dropna()\n",
    "\n",
    "scaler = preprocessing.StandardScaler()\n",
    "# Fit your data on the scaler object\n",
    "\n",
    "#with these 3 features only, we can get almost perfect score...\n",
    "\n",
    "alldf[features] = scaler.fit_transform(alldf[features])\n",
    "\n",
    "alldf"
   ]
  },
  {
   "cell_type": "code",
   "execution_count": 234,
   "metadata": {},
   "outputs": [
    {
     "data": {
      "text/html": [
       "<div>\n",
       "<style scoped>\n",
       "    .dataframe tbody tr th:only-of-type {\n",
       "        vertical-align: middle;\n",
       "    }\n",
       "\n",
       "    .dataframe tbody tr th {\n",
       "        vertical-align: top;\n",
       "    }\n",
       "\n",
       "    .dataframe thead th {\n",
       "        text-align: right;\n",
       "    }\n",
       "</style>\n",
       "<table border=\"1\" class=\"dataframe\">\n",
       "  <thead>\n",
       "    <tr style=\"text-align: right;\">\n",
       "      <th></th>\n",
       "      <th>RMS</th>\n",
       "      <th>RMSf</th>\n",
       "      <th>Spec</th>\n",
       "      <th>Specf</th>\n",
       "      <th>ZC</th>\n",
       "      <th>ZCf</th>\n",
       "      <th>Specslo</th>\n",
       "      <th>Specslof</th>\n",
       "      <th>Specspr</th>\n",
       "      <th>Specsprf</th>\n",
       "      <th>STD</th>\n",
       "      <th>STDf</th>\n",
       "    </tr>\n",
       "  </thead>\n",
       "  <tbody>\n",
       "    <tr>\n",
       "      <th>0</th>\n",
       "      <td>1.268606</td>\n",
       "      <td>-1.064313</td>\n",
       "      <td>-1.084118</td>\n",
       "      <td>-1.128411</td>\n",
       "      <td>-1.181980</td>\n",
       "      <td>-1.340856</td>\n",
       "      <td>-0.333712</td>\n",
       "      <td>-0.363234</td>\n",
       "      <td>-0.558278</td>\n",
       "      <td>-0.643032</td>\n",
       "      <td>-1.146502</td>\n",
       "      <td>-1.064313</td>\n",
       "    </tr>\n",
       "    <tr>\n",
       "      <th>1</th>\n",
       "      <td>0.601704</td>\n",
       "      <td>-0.932870</td>\n",
       "      <td>-1.242590</td>\n",
       "      <td>-1.217249</td>\n",
       "      <td>-1.036518</td>\n",
       "      <td>-1.087577</td>\n",
       "      <td>-0.561859</td>\n",
       "      <td>-0.477827</td>\n",
       "      <td>-1.045452</td>\n",
       "      <td>-0.947470</td>\n",
       "      <td>-0.960707</td>\n",
       "      <td>-0.932870</td>\n",
       "    </tr>\n",
       "    <tr>\n",
       "      <th>2</th>\n",
       "      <td>0.518041</td>\n",
       "      <td>-0.793233</td>\n",
       "      <td>-0.984361</td>\n",
       "      <td>-1.053425</td>\n",
       "      <td>-0.931534</td>\n",
       "      <td>-0.989107</td>\n",
       "      <td>-0.190094</td>\n",
       "      <td>-0.266507</td>\n",
       "      <td>-0.452035</td>\n",
       "      <td>-0.785913</td>\n",
       "      <td>-0.814973</td>\n",
       "      <td>-0.793233</td>\n",
       "    </tr>\n",
       "    <tr>\n",
       "      <th>3</th>\n",
       "      <td>0.106417</td>\n",
       "      <td>-0.612711</td>\n",
       "      <td>-1.244123</td>\n",
       "      <td>-1.172463</td>\n",
       "      <td>-1.063288</td>\n",
       "      <td>-1.125645</td>\n",
       "      <td>-0.564066</td>\n",
       "      <td>-0.420057</td>\n",
       "      <td>-1.030212</td>\n",
       "      <td>-0.718253</td>\n",
       "      <td>-0.573281</td>\n",
       "      <td>-0.612711</td>\n",
       "    </tr>\n",
       "    <tr>\n",
       "      <th>4</th>\n",
       "      <td>-0.007766</td>\n",
       "      <td>-0.619426</td>\n",
       "      <td>-1.297944</td>\n",
       "      <td>-1.219385</td>\n",
       "      <td>-1.197945</td>\n",
       "      <td>-1.213286</td>\n",
       "      <td>-0.641551</td>\n",
       "      <td>-0.480583</td>\n",
       "      <td>-1.014973</td>\n",
       "      <td>-0.820852</td>\n",
       "      <td>-0.533238</td>\n",
       "      <td>-0.619426</td>\n",
       "    </tr>\n",
       "    <tr>\n",
       "      <th>...</th>\n",
       "      <td>...</td>\n",
       "      <td>...</td>\n",
       "      <td>...</td>\n",
       "      <td>...</td>\n",
       "      <td>...</td>\n",
       "      <td>...</td>\n",
       "      <td>...</td>\n",
       "      <td>...</td>\n",
       "      <td>...</td>\n",
       "      <td>...</td>\n",
       "      <td>...</td>\n",
       "      <td>...</td>\n",
       "    </tr>\n",
       "    <tr>\n",
       "      <th>149</th>\n",
       "      <td>-0.979165</td>\n",
       "      <td>1.152927</td>\n",
       "      <td>0.042125</td>\n",
       "      <td>-0.072129</td>\n",
       "      <td>0.924475</td>\n",
       "      <td>0.860158</td>\n",
       "      <td>-1.005123</td>\n",
       "      <td>-1.046506</td>\n",
       "      <td>-0.861621</td>\n",
       "      <td>-0.917029</td>\n",
       "      <td>1.116324</td>\n",
       "      <td>1.152927</td>\n",
       "    </tr>\n",
       "    <tr>\n",
       "      <th>150</th>\n",
       "      <td>-0.731294</td>\n",
       "      <td>1.020097</td>\n",
       "      <td>0.076799</td>\n",
       "      <td>-0.029297</td>\n",
       "      <td>1.018493</td>\n",
       "      <td>0.967764</td>\n",
       "      <td>-0.951710</td>\n",
       "      <td>-0.987388</td>\n",
       "      <td>-0.803496</td>\n",
       "      <td>-0.832910</td>\n",
       "      <td>0.982607</td>\n",
       "      <td>1.020097</td>\n",
       "    </tr>\n",
       "    <tr>\n",
       "      <th>151</th>\n",
       "      <td>-1.218054</td>\n",
       "      <td>1.203370</td>\n",
       "      <td>0.085599</td>\n",
       "      <td>-0.022722</td>\n",
       "      <td>1.025428</td>\n",
       "      <td>0.973854</td>\n",
       "      <td>-0.938153</td>\n",
       "      <td>-0.978312</td>\n",
       "      <td>-0.845876</td>\n",
       "      <td>-0.926724</td>\n",
       "      <td>1.176505</td>\n",
       "      <td>1.203370</td>\n",
       "    </tr>\n",
       "    <tr>\n",
       "      <th>153</th>\n",
       "      <td>-1.089432</td>\n",
       "      <td>1.354868</td>\n",
       "      <td>0.035371</td>\n",
       "      <td>-0.041920</td>\n",
       "      <td>0.959954</td>\n",
       "      <td>0.941877</td>\n",
       "      <td>-1.015528</td>\n",
       "      <td>-1.004810</td>\n",
       "      <td>-0.894698</td>\n",
       "      <td>-0.813698</td>\n",
       "      <td>1.344469</td>\n",
       "      <td>1.354868</td>\n",
       "    </tr>\n",
       "    <tr>\n",
       "      <th>154</th>\n",
       "      <td>-0.986963</td>\n",
       "      <td>0.744517</td>\n",
       "      <td>0.130808</td>\n",
       "      <td>0.040929</td>\n",
       "      <td>0.973178</td>\n",
       "      <td>0.997541</td>\n",
       "      <td>-0.868511</td>\n",
       "      <td>-0.890460</td>\n",
       "      <td>-0.713198</td>\n",
       "      <td>-0.795855</td>\n",
       "      <td>0.733730</td>\n",
       "      <td>0.744517</td>\n",
       "    </tr>\n",
       "  </tbody>\n",
       "</table>\n",
       "<p>307 rows × 12 columns</p>\n",
       "</div>"
      ],
      "text/plain": [
       "          RMS      RMSf      Spec     Specf        ZC       ZCf   Specslo  \\\n",
       "0    1.268606 -1.064313 -1.084118 -1.128411 -1.181980 -1.340856 -0.333712   \n",
       "1    0.601704 -0.932870 -1.242590 -1.217249 -1.036518 -1.087577 -0.561859   \n",
       "2    0.518041 -0.793233 -0.984361 -1.053425 -0.931534 -0.989107 -0.190094   \n",
       "3    0.106417 -0.612711 -1.244123 -1.172463 -1.063288 -1.125645 -0.564066   \n",
       "4   -0.007766 -0.619426 -1.297944 -1.219385 -1.197945 -1.213286 -0.641551   \n",
       "..        ...       ...       ...       ...       ...       ...       ...   \n",
       "149 -0.979165  1.152927  0.042125 -0.072129  0.924475  0.860158 -1.005123   \n",
       "150 -0.731294  1.020097  0.076799 -0.029297  1.018493  0.967764 -0.951710   \n",
       "151 -1.218054  1.203370  0.085599 -0.022722  1.025428  0.973854 -0.938153   \n",
       "153 -1.089432  1.354868  0.035371 -0.041920  0.959954  0.941877 -1.015528   \n",
       "154 -0.986963  0.744517  0.130808  0.040929  0.973178  0.997541 -0.868511   \n",
       "\n",
       "     Specslof   Specspr  Specsprf       STD      STDf  \n",
       "0   -0.363234 -0.558278 -0.643032 -1.146502 -1.064313  \n",
       "1   -0.477827 -1.045452 -0.947470 -0.960707 -0.932870  \n",
       "2   -0.266507 -0.452035 -0.785913 -0.814973 -0.793233  \n",
       "3   -0.420057 -1.030212 -0.718253 -0.573281 -0.612711  \n",
       "4   -0.480583 -1.014973 -0.820852 -0.533238 -0.619426  \n",
       "..        ...       ...       ...       ...       ...  \n",
       "149 -1.046506 -0.861621 -0.917029  1.116324  1.152927  \n",
       "150 -0.987388 -0.803496 -0.832910  0.982607  1.020097  \n",
       "151 -0.978312 -0.845876 -0.926724  1.176505  1.203370  \n",
       "153 -1.004810 -0.894698 -0.813698  1.344469  1.354868  \n",
       "154 -0.890460 -0.713198 -0.795855  0.733730  0.744517  \n",
       "\n",
       "[307 rows x 12 columns]"
      ]
     },
     "execution_count": 234,
     "metadata": {},
     "output_type": "execute_result"
    }
   ],
   "source": [
    "X = alldf[features]\n",
    "y = alldf[\"Surface\"]\n",
    "\n",
    "X"
   ]
  },
  {
   "cell_type": "code",
   "execution_count": 241,
   "metadata": {},
   "outputs": [
    {
     "data": {
      "text/html": [
       "<div>\n",
       "<style scoped>\n",
       "    .dataframe tbody tr th:only-of-type {\n",
       "        vertical-align: middle;\n",
       "    }\n",
       "\n",
       "    .dataframe tbody tr th {\n",
       "        vertical-align: top;\n",
       "    }\n",
       "\n",
       "    .dataframe thead th {\n",
       "        text-align: right;\n",
       "    }\n",
       "</style>\n",
       "<table border=\"1\" class=\"dataframe\">\n",
       "  <thead>\n",
       "    <tr style=\"text-align: right;\">\n",
       "      <th></th>\n",
       "      <th>RMS</th>\n",
       "      <th>RMSf</th>\n",
       "      <th>Spec</th>\n",
       "      <th>Specf</th>\n",
       "      <th>ZC</th>\n",
       "      <th>ZCf</th>\n",
       "      <th>Specslo</th>\n",
       "      <th>Specslof</th>\n",
       "      <th>Specspr</th>\n",
       "      <th>Specsprf</th>\n",
       "      <th>STD</th>\n",
       "      <th>STDf</th>\n",
       "    </tr>\n",
       "  </thead>\n",
       "  <tbody>\n",
       "    <tr>\n",
       "      <th>16</th>\n",
       "      <td>0.388380</td>\n",
       "      <td>-0.835925</td>\n",
       "      <td>-0.572947</td>\n",
       "      <td>-0.507944</td>\n",
       "      <td>-0.840419</td>\n",
       "      <td>-0.760191</td>\n",
       "      <td>0.402207</td>\n",
       "      <td>0.437122</td>\n",
       "      <td>0.223255</td>\n",
       "      <td>-0.026962</td>\n",
       "      <td>-0.752651</td>\n",
       "      <td>-0.835925</td>\n",
       "    </tr>\n",
       "    <tr>\n",
       "      <th>14</th>\n",
       "      <td>0.103893</td>\n",
       "      <td>-0.380286</td>\n",
       "      <td>1.217216</td>\n",
       "      <td>1.186679</td>\n",
       "      <td>0.360851</td>\n",
       "      <td>0.280845</td>\n",
       "      <td>0.805041</td>\n",
       "      <td>0.690924</td>\n",
       "      <td>1.632193</td>\n",
       "      <td>1.604490</td>\n",
       "      <td>-0.461806</td>\n",
       "      <td>-0.380286</td>\n",
       "    </tr>\n",
       "    <tr>\n",
       "      <th>39</th>\n",
       "      <td>-0.557905</td>\n",
       "      <td>0.651519</td>\n",
       "      <td>0.002278</td>\n",
       "      <td>-0.099367</td>\n",
       "      <td>0.751598</td>\n",
       "      <td>0.649514</td>\n",
       "      <td>-1.066505</td>\n",
       "      <td>-1.084099</td>\n",
       "      <td>-0.773495</td>\n",
       "      <td>-0.693268</td>\n",
       "      <td>0.567606</td>\n",
       "      <td>0.651519</td>\n",
       "    </tr>\n",
       "    <tr>\n",
       "      <th>113</th>\n",
       "      <td>-0.618309</td>\n",
       "      <td>0.309795</td>\n",
       "      <td>-0.045760</td>\n",
       "      <td>-0.196808</td>\n",
       "      <td>0.749341</td>\n",
       "      <td>0.644946</td>\n",
       "      <td>-1.140505</td>\n",
       "      <td>-1.218589</td>\n",
       "      <td>-0.735563</td>\n",
       "      <td>-0.892010</td>\n",
       "      <td>0.214775</td>\n",
       "      <td>0.309795</td>\n",
       "    </tr>\n",
       "    <tr>\n",
       "      <th>67</th>\n",
       "      <td>0.384418</td>\n",
       "      <td>-0.548410</td>\n",
       "      <td>-1.004756</td>\n",
       "      <td>-0.974927</td>\n",
       "      <td>-1.280836</td>\n",
       "      <td>-1.474010</td>\n",
       "      <td>-0.219456</td>\n",
       "      <td>-0.165251</td>\n",
       "      <td>-0.469034</td>\n",
       "      <td>-0.364104</td>\n",
       "      <td>-0.566226</td>\n",
       "      <td>-0.548410</td>\n",
       "    </tr>\n",
       "    <tr>\n",
       "      <th>...</th>\n",
       "      <td>...</td>\n",
       "      <td>...</td>\n",
       "      <td>...</td>\n",
       "      <td>...</td>\n",
       "      <td>...</td>\n",
       "      <td>...</td>\n",
       "      <td>...</td>\n",
       "      <td>...</td>\n",
       "      <td>...</td>\n",
       "      <td>...</td>\n",
       "      <td>...</td>\n",
       "      <td>...</td>\n",
       "    </tr>\n",
       "    <tr>\n",
       "      <th>53</th>\n",
       "      <td>-1.072251</td>\n",
       "      <td>1.628227</td>\n",
       "      <td>0.983221</td>\n",
       "      <td>0.964862</td>\n",
       "      <td>-0.080534</td>\n",
       "      <td>-0.247540</td>\n",
       "      <td>0.444585</td>\n",
       "      <td>0.384767</td>\n",
       "      <td>1.668718</td>\n",
       "      <td>1.819292</td>\n",
       "      <td>1.579066</td>\n",
       "      <td>1.628226</td>\n",
       "    </tr>\n",
       "    <tr>\n",
       "      <th>71</th>\n",
       "      <td>-0.352499</td>\n",
       "      <td>-0.302677</td>\n",
       "      <td>-1.353899</td>\n",
       "      <td>-1.275171</td>\n",
       "      <td>-1.347761</td>\n",
       "      <td>-1.440172</td>\n",
       "      <td>-0.722108</td>\n",
       "      <td>-0.552543</td>\n",
       "      <td>-0.993764</td>\n",
       "      <td>-0.760854</td>\n",
       "      <td>-0.181304</td>\n",
       "      <td>-0.302677</td>\n",
       "    </tr>\n",
       "    <tr>\n",
       "      <th>106</th>\n",
       "      <td>0.896456</td>\n",
       "      <td>-0.905924</td>\n",
       "      <td>0.119161</td>\n",
       "      <td>0.162234</td>\n",
       "      <td>-0.295824</td>\n",
       "      <td>-0.389999</td>\n",
       "      <td>1.398614</td>\n",
       "      <td>1.301600</td>\n",
       "      <td>0.603217</td>\n",
       "      <td>0.665586</td>\n",
       "      <td>-0.985525</td>\n",
       "      <td>-0.905924</td>\n",
       "    </tr>\n",
       "    <tr>\n",
       "      <th>98</th>\n",
       "      <td>-1.395480</td>\n",
       "      <td>1.532340</td>\n",
       "      <td>0.246579</td>\n",
       "      <td>0.029288</td>\n",
       "      <td>1.025912</td>\n",
       "      <td>0.959304</td>\n",
       "      <td>-0.690172</td>\n",
       "      <td>-0.906528</td>\n",
       "      <td>-0.333280</td>\n",
       "      <td>-0.846893</td>\n",
       "      <td>1.495831</td>\n",
       "      <td>1.532340</td>\n",
       "    </tr>\n",
       "    <tr>\n",
       "      <th>102</th>\n",
       "      <td>2.812138</td>\n",
       "      <td>-1.208310</td>\n",
       "      <td>-0.778530</td>\n",
       "      <td>-0.695040</td>\n",
       "      <td>-1.229392</td>\n",
       "      <td>-1.084024</td>\n",
       "      <td>0.106234</td>\n",
       "      <td>0.195782</td>\n",
       "      <td>-0.280228</td>\n",
       "      <td>0.085840</td>\n",
       "      <td>-1.308337</td>\n",
       "      <td>-1.208310</td>\n",
       "    </tr>\n",
       "  </tbody>\n",
       "</table>\n",
       "<p>205 rows × 12 columns</p>\n",
       "</div>"
      ],
      "text/plain": [
       "          RMS      RMSf      Spec     Specf        ZC       ZCf   Specslo  \\\n",
       "16   0.388380 -0.835925 -0.572947 -0.507944 -0.840419 -0.760191  0.402207   \n",
       "14   0.103893 -0.380286  1.217216  1.186679  0.360851  0.280845  0.805041   \n",
       "39  -0.557905  0.651519  0.002278 -0.099367  0.751598  0.649514 -1.066505   \n",
       "113 -0.618309  0.309795 -0.045760 -0.196808  0.749341  0.644946 -1.140505   \n",
       "67   0.384418 -0.548410 -1.004756 -0.974927 -1.280836 -1.474010 -0.219456   \n",
       "..        ...       ...       ...       ...       ...       ...       ...   \n",
       "53  -1.072251  1.628227  0.983221  0.964862 -0.080534 -0.247540  0.444585   \n",
       "71  -0.352499 -0.302677 -1.353899 -1.275171 -1.347761 -1.440172 -0.722108   \n",
       "106  0.896456 -0.905924  0.119161  0.162234 -0.295824 -0.389999  1.398614   \n",
       "98  -1.395480  1.532340  0.246579  0.029288  1.025912  0.959304 -0.690172   \n",
       "102  2.812138 -1.208310 -0.778530 -0.695040 -1.229392 -1.084024  0.106234   \n",
       "\n",
       "     Specslof   Specspr  Specsprf       STD      STDf  \n",
       "16   0.437122  0.223255 -0.026962 -0.752651 -0.835925  \n",
       "14   0.690924  1.632193  1.604490 -0.461806 -0.380286  \n",
       "39  -1.084099 -0.773495 -0.693268  0.567606  0.651519  \n",
       "113 -1.218589 -0.735563 -0.892010  0.214775  0.309795  \n",
       "67  -0.165251 -0.469034 -0.364104 -0.566226 -0.548410  \n",
       "..        ...       ...       ...       ...       ...  \n",
       "53   0.384767  1.668718  1.819292  1.579066  1.628226  \n",
       "71  -0.552543 -0.993764 -0.760854 -0.181304 -0.302677  \n",
       "106  1.301600  0.603217  0.665586 -0.985525 -0.905924  \n",
       "98  -0.906528 -0.333280 -0.846893  1.495831  1.532340  \n",
       "102  0.195782 -0.280228  0.085840 -1.308337 -1.208310  \n",
       "\n",
       "[205 rows x 12 columns]"
      ]
     },
     "execution_count": 241,
     "metadata": {},
     "output_type": "execute_result"
    }
   ],
   "source": [
    "x_train, x_test, y_train, y_test = train_test_split(X, y, test_size=0.33, random_state=42, shuffle=True, stratify=None)\n",
    "\n",
    "x_train"
   ]
  },
  {
   "cell_type": "code",
   "execution_count": 242,
   "metadata": {},
   "outputs": [],
   "source": [
    "# KNN\n",
    "\n",
    "knn = KNeighborsClassifier(n_neighbors=3)\n",
    "knn.fit(x_train, y_train)\n",
    "\n",
    "y_pred_knn = knn.predict(x_test)\n",
    "\n",
    "\n",
    "\n",
    "# Extra trees classifier\n",
    "\n",
    "forestclf = ExtraTreesClassifier(n_estimators = 500)\n",
    "\n",
    "forestclf.fit(x_train, y_train)\n",
    "\n",
    "y_pred_forest = forestclf.predict(x_test)\n",
    "\n",
    "\n",
    "# SVC\n",
    "\n",
    "#Create a svm Classifier\n",
    "clf = sklearn.svm.SVC(kernel='linear') \n",
    "\n",
    "#Train the model using the training sets\n",
    "clf.fit(x_train, y_train)\n",
    "\n",
    "#Predict the response for test dataset\n",
    "y_pred_svc = clf.predict(x_test)\n",
    "\n",
    "\n",
    "# Random Forest\n",
    "\n",
    "rforestclf = RandomForestClassifier(n_estimators = 500)\n",
    "\n",
    "rforestclf.fit(x_train, y_train)\n",
    "\n",
    "y_pred_rforest = rforestclf.predict(x_test)\n",
    "\n",
    "\n",
    "# Decision tree\n",
    "\n",
    "treeclf = tree.DecisionTreeClassifier()\n",
    "treeclf = clf.fit(x_train, y_train)\n",
    "y_pred_tree = rforestclf.predict(x_test)\n",
    "\n",
    "# Naive bayes\n",
    "\n",
    "gnb = GaussianNB()\n",
    "nbclf = gnb.fit(x_train, y_train)\n",
    "y_pred_nb = nbclf.predict(x_test)"
   ]
  },
  {
   "cell_type": "code",
   "execution_count": 243,
   "metadata": {
    "scrolled": false
   },
   "outputs": [
    {
     "name": "stdout",
     "output_type": "stream",
     "text": [
      "KNN confusion matrix\n"
     ]
    },
    {
     "data": {
      "image/png": "[encoded data removed]",
      "text/plain": [
       "<Figure size 432x288 with 2 Axes>"
      ]
     },
     "metadata": {
      "needs_background": "light"
     },
     "output_type": "display_data"
    },
    {
     "name": "stdout",
     "output_type": "stream",
     "text": [
      "SVC confusion matrix\n"
     ]
    },
    {
     "data": {
      "image/png": "[encoded data removed]",
      "text/plain": [
       "<Figure size 432x288 with 2 Axes>"
      ]
     },
     "metadata": {
      "needs_background": "light"
     },
     "output_type": "display_data"
    },
    {
     "name": "stdout",
     "output_type": "stream",
     "text": [
      "Decision tree classifier confusion matrix\n"
     ]
    },
    {
     "data": {
      "image/png": "[encoded data removed]",
      "text/plain": [
       "<Figure size 432x288 with 2 Axes>"
      ]
     },
     "metadata": {
      "needs_background": "light"
     },
     "output_type": "display_data"
    },
    {
     "name": "stdout",
     "output_type": "stream",
     "text": [
      "Random forest classifier confusion matrix\n"
     ]
    },
    {
     "data": {
      "image/png": "[encoded data removed]",
      "text/plain": [
       "<Figure size 432x288 with 2 Axes>"
      ]
     },
     "metadata": {
      "needs_background": "light"
     },
     "output_type": "display_data"
    },
    {
     "name": "stdout",
     "output_type": "stream",
     "text": [
      "Extra trees classifier confusion matrix\n"
     ]
    },
    {
     "data": {
      "image/png": "[encoded data removed]",
      "text/plain": [
       "<Figure size 432x288 with 2 Axes>"
      ]
     },
     "metadata": {
      "needs_background": "light"
     },
     "output_type": "display_data"
    },
    {
     "name": "stdout",
     "output_type": "stream",
     "text": [
      "NaiveBayes classifier confusion matrix\n"
     ]
    },
    {
     "data": {
      "image/png": "[encoded data removed]",
      "text/plain": [
       "<Figure size 432x288 with 2 Axes>"
      ]
     },
     "metadata": {
      "needs_background": "light"
     },
     "output_type": "display_data"
    }
   ],
   "source": [
    "#%matplotlib inline\n",
    "\n",
    "print(\"KNN confusion matrix\")\n",
    "plot_confusion_matrix(knn, x_test, y_test)\n",
    "plt.show()\n",
    "\n",
    "\n",
    "print(\"SVC confusion matrix\")\n",
    "plot_confusion_matrix(clf, x_test, y_test)\n",
    "plt.show()\n",
    "\n",
    "print(\"Decision tree classifier confusion matrix\")\n",
    "plot_confusion_matrix(treeclf, x_test, y_test)\n",
    "plt.show()\n",
    "\n",
    "print(\"Random forest classifier confusion matrix\")\n",
    "plot_confusion_matrix(rforestclf, x_test, y_test)\n",
    "plt.show()\n",
    "\n",
    "print(\"Extra trees classifier confusion matrix\")\n",
    "plot_confusion_matrix(forestclf, x_test, y_test)\n",
    "plt.show()\n",
    "\n",
    "print(\"NaiveBayes classifier confusion matrix\")\n",
    "plot_confusion_matrix(nbclf, x_test, y_test)\n",
    "plt.show()"
   ]
  },
  {
   "cell_type": "code",
   "execution_count": 244,
   "metadata": {},
   "outputs": [
    {
     "name": "stdout",
     "output_type": "stream",
     "text": [
      "Accuracy knn:  0.96\n",
      "Accuracy svc:  0.98\n",
      "Accuracy Tree :  0.96\n",
      "Accuracy Random forest :  0.96\n",
      "Accuracy Extra Trees :  0.97\n",
      "----------\n",
      "Precision knn:  0.97\n",
      "Precision svc:  0.97\n",
      "Precision Tree:  0.95\n",
      "Precision Random Forest:  0.95\n",
      "Precision trees:  0.98\n",
      "----------\n",
      "Recall knn:  0.92\n",
      "Recall svc:  0.97\n",
      "Recall tree:  0.94\n",
      "Recall forest:  0.94\n",
      "Recall trees:  0.95\n",
      "----------\n",
      "F1 knn:  0.94\n",
      "F1 svc:  0.97\n",
      "F1 tree:  0.95\n",
      "F1 forest:  0.95\n",
      "F1 trees:  0.96\n"
     ]
    }
   ],
   "source": [
    "from sklearn.metrics import recall_score\n",
    "from sklearn.metrics import f1_score\n",
    "print(\"Accuracy knn: \", np.round(accuracy_score(y_test, y_pred_knn),2))\n",
    "print(\"Accuracy svc: \", np.round(accuracy_score(y_test, y_pred_svc),2))\n",
    "print(\"Accuracy Tree : \", np.round(accuracy_score(y_test, y_pred_tree),2))\n",
    "print(\"Accuracy Random forest : \", np.round(accuracy_score(y_test, y_pred_rforest),2))\n",
    "print(\"Accuracy Extra Trees : \", np.round(accuracy_score(y_test, y_pred_forest),2))\n",
    "\n",
    "print(\"----------\")\n",
    "\n",
    "print(\"Precision knn: \", np.round(precision_score(y_test, y_pred_knn, average='macro'),2))\n",
    "print(\"Precision svc: \", np.round(precision_score(y_test, y_pred_svc, average = 'macro'),2))\n",
    "print(\"Precision Tree: \", np.round(precision_score(y_test, y_pred_tree, average = 'macro'),2))\n",
    "print(\"Precision Random Forest: \", np.round(precision_score(y_test, y_pred_rforest, average = 'macro'),2))\n",
    "print(\"Precision trees: \", np.round(precision_score(y_test, y_pred_forest, average = 'macro'),2))\n",
    "\n",
    "print(\"----------\")\n",
    "\n",
    "print(\"Recall knn: \", np.round(recall_score(y_test, y_pred_knn, average = 'macro'),2))\n",
    "print(\"Recall svc: \", np.round(recall_score(y_test, y_pred_svc, average = 'macro'),2))     \n",
    "print(\"Recall tree: \", np.round(recall_score(y_test, y_pred_tree, average = 'macro'),2))  \n",
    "print(\"Recall forest: \", np.round(recall_score(y_test, y_pred_rforest, average = 'macro'),2))     \n",
    "print(\"Recall trees: \", np.round(recall_score(y_test, y_pred_forest, average = 'macro'),2)) \n",
    "\n",
    "print(\"----------\")\n",
    " \n",
    "print(\"F1 knn: \", np.round(f1_score(y_test, y_pred_knn, average = 'macro'),2))\n",
    "print(\"F1 svc: \", np.round(f1_score(y_test, y_pred_svc, average = 'macro'),2))            \n",
    "print(\"F1 tree: \", np.round(f1_score(y_test, y_pred_tree, average = 'macro'),2))  \n",
    "print(\"F1 forest: \", np.round(f1_score(y_test, y_pred_rforest, average = 'macro'),2))  \n",
    "\n",
    "print(\"F1 trees: \", np.round(f1_score(y_test, y_pred_forest, average = 'macro'),2))  "
   ]
  },
  {
   "cell_type": "markdown",
   "metadata": {},
   "source": [
    "### Machine learning with gravel, wet asphalt and dry asphalt. They all can clearly be recognized with multiple different ML methods. Accuracy is good, considering that some of the outliers are the ones that are predicted incorrectly. Dry asphalt and gravel are mixed together a little bit."
   ]
  },
  {
   "cell_type": "code",
   "execution_count": 245,
   "metadata": {},
   "outputs": [
    {
     "name": "stdout",
     "output_type": "stream",
     "text": [
      "Accuracy knn: 98.0 %\n",
      "Accuracy svc: 98.0 %\n",
      "Accuracy tree: 94.1 %\n"
     ]
    }
   ],
   "source": [
    "model = KNeighborsClassifier(n_neighbors=3)\n",
    "scores = cross_val_score(model, X, y, scoring='accuracy', cv=LeaveOneOut(), n_jobs=-1)\n",
    "\n",
    "print('Accuracy knn:', round(np.mean(scores)*100,1), '%')\n",
    "\n",
    "\n",
    "model = sklearn.svm.SVC(kernel='linear') \n",
    "scores = cross_val_score(model, X, y, scoring='accuracy', cv=LeaveOneOut(), n_jobs=-1)\n",
    "\n",
    "print('Accuracy svc:', round(np.mean(scores)*100,1), '%')\n",
    "\n",
    "\n",
    "model = tree.DecisionTreeClassifier()\n",
    "scores = cross_val_score(model, X, y, scoring='accuracy', cv=LeaveOneOut(), n_jobs=-1)\n",
    "print('Accuracy tree:', round(np.mean(scores)*100,1), '%')\n",
    "\n",
    "\n",
    "# model = RandomForestClassifier(n_estimators = 500)\n",
    "# scores = cross_val_score(model, X, y, scoring='accuracy', cv=LeaveOneOut(), n_jobs=-1)\n",
    "# print('Accuracy forest:', round(np.mean(scores)*100,1), '%')\n",
    "\n",
    "\n",
    "\n",
    "# model = ExtraTreesClassifier(n_estimators = 500)\n",
    "# scores = cross_val_score(model, X, y, scoring='accuracy', cv=LeaveOneOut(), n_jobs=-1)\n",
    "\n",
    "# print('Accuracy extra trees:', round(np.mean(scores)*100,1), '%')"
   ]
  },
  {
   "cell_type": "code",
   "execution_count": 126,
   "metadata": {},
   "outputs": [
    {
     "data": {
      "text/html": [
       "<div>\n",
       "<style scoped>\n",
       "    .dataframe tbody tr th:only-of-type {\n",
       "        vertical-align: middle;\n",
       "    }\n",
       "\n",
       "    .dataframe tbody tr th {\n",
       "        vertical-align: top;\n",
       "    }\n",
       "\n",
       "    .dataframe thead th {\n",
       "        text-align: right;\n",
       "    }\n",
       "</style>\n",
       "<table border=\"1\" class=\"dataframe\">\n",
       "  <thead>\n",
       "    <tr style=\"text-align: right;\">\n",
       "      <th></th>\n",
       "      <th>RMS</th>\n",
       "      <th>RMSf</th>\n",
       "      <th>Spec</th>\n",
       "      <th>Specf</th>\n",
       "      <th>ZC</th>\n",
       "      <th>ZCf</th>\n",
       "      <th>Specslo</th>\n",
       "      <th>Specslof</th>\n",
       "      <th>Specspr</th>\n",
       "      <th>Specsprf</th>\n",
       "      <th>STD</th>\n",
       "      <th>STDf</th>\n",
       "    </tr>\n",
       "  </thead>\n",
       "  <tbody>\n",
       "    <tr>\n",
       "      <th>0</th>\n",
       "      <td>0.636991</td>\n",
       "      <td>-0.909537</td>\n",
       "      <td>-1.436763</td>\n",
       "      <td>-1.451934</td>\n",
       "      <td>-1.776822</td>\n",
       "      <td>-1.970302</td>\n",
       "      <td>-0.277799</td>\n",
       "      <td>-0.296562</td>\n",
       "      <td>-0.671288</td>\n",
       "      <td>-0.752975</td>\n",
       "      <td>-0.932151</td>\n",
       "      <td>-0.909537</td>\n",
       "    </tr>\n",
       "    <tr>\n",
       "      <th>1</th>\n",
       "      <td>0.179694</td>\n",
       "      <td>-0.795452</td>\n",
       "      <td>-1.602796</td>\n",
       "      <td>-1.544345</td>\n",
       "      <td>-1.609772</td>\n",
       "      <td>-1.678002</td>\n",
       "      <td>-0.489709</td>\n",
       "      <td>-0.406159</td>\n",
       "      <td>-1.160694</td>\n",
       "      <td>-1.059778</td>\n",
       "      <td>-0.775480</td>\n",
       "      <td>-0.795452</td>\n",
       "    </tr>\n",
       "    <tr>\n",
       "      <th>2</th>\n",
       "      <td>0.122326</td>\n",
       "      <td>-0.674255</td>\n",
       "      <td>-1.332246</td>\n",
       "      <td>-1.373932</td>\n",
       "      <td>-1.489207</td>\n",
       "      <td>-1.564362</td>\n",
       "      <td>-0.144402</td>\n",
       "      <td>-0.204052</td>\n",
       "      <td>-0.564559</td>\n",
       "      <td>-0.896966</td>\n",
       "      <td>-0.652589</td>\n",
       "      <td>-0.674255</td>\n",
       "    </tr>\n",
       "    <tr>\n",
       "      <th>3</th>\n",
       "      <td>-0.159926</td>\n",
       "      <td>-0.517573</td>\n",
       "      <td>-1.604402</td>\n",
       "      <td>-1.497758</td>\n",
       "      <td>-1.640515</td>\n",
       "      <td>-1.721935</td>\n",
       "      <td>-0.491759</td>\n",
       "      <td>-0.350907</td>\n",
       "      <td>-1.145385</td>\n",
       "      <td>-0.828780</td>\n",
       "      <td>-0.448782</td>\n",
       "      <td>-0.517573</td>\n",
       "    </tr>\n",
       "    <tr>\n",
       "      <th>4</th>\n",
       "      <td>-0.238222</td>\n",
       "      <td>-0.523400</td>\n",
       "      <td>-1.660792</td>\n",
       "      <td>-1.546567</td>\n",
       "      <td>-1.795157</td>\n",
       "      <td>-1.823078</td>\n",
       "      <td>-0.563729</td>\n",
       "      <td>-0.408794</td>\n",
       "      <td>-1.130075</td>\n",
       "      <td>-0.932176</td>\n",
       "      <td>-0.415016</td>\n",
       "      <td>-0.523400</td>\n",
       "    </tr>\n",
       "    <tr>\n",
       "      <th>...</th>\n",
       "      <td>...</td>\n",
       "      <td>...</td>\n",
       "      <td>...</td>\n",
       "      <td>...</td>\n",
       "      <td>...</td>\n",
       "      <td>...</td>\n",
       "      <td>...</td>\n",
       "      <td>...</td>\n",
       "      <td>...</td>\n",
       "      <td>...</td>\n",
       "      <td>...</td>\n",
       "      <td>...</td>\n",
       "    </tr>\n",
       "    <tr>\n",
       "      <th>664</th>\n",
       "      <td>1.137249</td>\n",
       "      <td>-0.968632</td>\n",
       "      <td>0.498121</td>\n",
       "      <td>0.390345</td>\n",
       "      <td>1.020432</td>\n",
       "      <td>0.982384</td>\n",
       "      <td>0.129511</td>\n",
       "      <td>-0.006529</td>\n",
       "      <td>0.326647</td>\n",
       "      <td>0.353976</td>\n",
       "      <td>-1.040439</td>\n",
       "      <td>-0.968632</td>\n",
       "    </tr>\n",
       "    <tr>\n",
       "      <th>665</th>\n",
       "      <td>0.614169</td>\n",
       "      <td>-0.435030</td>\n",
       "      <td>0.524241</td>\n",
       "      <td>0.449193</td>\n",
       "      <td>1.026914</td>\n",
       "      <td>0.950166</td>\n",
       "      <td>0.165181</td>\n",
       "      <td>0.068150</td>\n",
       "      <td>0.261300</td>\n",
       "      <td>0.276181</td>\n",
       "      <td>-0.497996</td>\n",
       "      <td>-0.435030</td>\n",
       "    </tr>\n",
       "    <tr>\n",
       "      <th>666</th>\n",
       "      <td>-0.593662</td>\n",
       "      <td>0.207291</td>\n",
       "      <td>-0.228514</td>\n",
       "      <td>-0.280964</td>\n",
       "      <td>0.435572</td>\n",
       "      <td>0.454602</td>\n",
       "      <td>-0.862822</td>\n",
       "      <td>-0.858418</td>\n",
       "      <td>-0.584690</td>\n",
       "      <td>-0.680135</td>\n",
       "      <td>0.225667</td>\n",
       "      <td>0.207291</td>\n",
       "    </tr>\n",
       "    <tr>\n",
       "      <th>667</th>\n",
       "      <td>-0.641654</td>\n",
       "      <td>0.622580</td>\n",
       "      <td>-0.042689</td>\n",
       "      <td>-0.086110</td>\n",
       "      <td>0.765412</td>\n",
       "      <td>0.746903</td>\n",
       "      <td>-0.609049</td>\n",
       "      <td>-0.611148</td>\n",
       "      <td>-0.694372</td>\n",
       "      <td>-0.673102</td>\n",
       "      <td>0.621277</td>\n",
       "      <td>0.622580</td>\n",
       "    </tr>\n",
       "    <tr>\n",
       "      <th>668</th>\n",
       "      <td>-0.600220</td>\n",
       "      <td>0.417660</td>\n",
       "      <td>0.113535</td>\n",
       "      <td>0.117241</td>\n",
       "      <td>1.032284</td>\n",
       "      <td>0.950752</td>\n",
       "      <td>-0.395702</td>\n",
       "      <td>-0.353097</td>\n",
       "      <td>-0.712116</td>\n",
       "      <td>-0.293775</td>\n",
       "      <td>0.351917</td>\n",
       "      <td>0.417660</td>\n",
       "    </tr>\n",
       "  </tbody>\n",
       "</table>\n",
       "<p>554 rows × 12 columns</p>\n",
       "</div>"
      ],
      "text/plain": [
       "          RMS      RMSf      Spec     Specf        ZC       ZCf   Specslo  \\\n",
       "0    0.636991 -0.909537 -1.436763 -1.451934 -1.776822 -1.970302 -0.277799   \n",
       "1    0.179694 -0.795452 -1.602796 -1.544345 -1.609772 -1.678002 -0.489709   \n",
       "2    0.122326 -0.674255 -1.332246 -1.373932 -1.489207 -1.564362 -0.144402   \n",
       "3   -0.159926 -0.517573 -1.604402 -1.497758 -1.640515 -1.721935 -0.491759   \n",
       "4   -0.238222 -0.523400 -1.660792 -1.546567 -1.795157 -1.823078 -0.563729   \n",
       "..        ...       ...       ...       ...       ...       ...       ...   \n",
       "664  1.137249 -0.968632  0.498121  0.390345  1.020432  0.982384  0.129511   \n",
       "665  0.614169 -0.435030  0.524241  0.449193  1.026914  0.950166  0.165181   \n",
       "666 -0.593662  0.207291 -0.228514 -0.280964  0.435572  0.454602 -0.862822   \n",
       "667 -0.641654  0.622580 -0.042689 -0.086110  0.765412  0.746903 -0.609049   \n",
       "668 -0.600220  0.417660  0.113535  0.117241  1.032284  0.950752 -0.395702   \n",
       "\n",
       "     Specslof   Specspr  Specsprf       STD      STDf  \n",
       "0   -0.296562 -0.671288 -0.752975 -0.932151 -0.909537  \n",
       "1   -0.406159 -1.160694 -1.059778 -0.775480 -0.795452  \n",
       "2   -0.204052 -0.564559 -0.896966 -0.652589 -0.674255  \n",
       "3   -0.350907 -1.145385 -0.828780 -0.448782 -0.517573  \n",
       "4   -0.408794 -1.130075 -0.932176 -0.415016 -0.523400  \n",
       "..        ...       ...       ...       ...       ...  \n",
       "664 -0.006529  0.326647  0.353976 -1.040439 -0.968632  \n",
       "665  0.068150  0.261300  0.276181 -0.497996 -0.435030  \n",
       "666 -0.858418 -0.584690 -0.680135  0.225667  0.207291  \n",
       "667 -0.611148 -0.694372 -0.673102  0.621277  0.622580  \n",
       "668 -0.353097 -0.712116 -0.293775  0.351917  0.417660  \n",
       "\n",
       "[554 rows x 12 columns]"
      ]
     },
     "execution_count": 126,
     "metadata": {},
     "output_type": "execute_result"
    }
   ],
   "source": [
    "X"
   ]
  },
  {
   "cell_type": "code",
   "execution_count": 127,
   "metadata": {},
   "outputs": [
    {
     "data": {
      "text/plain": [
       "['RMS',\n",
       " 'RMSf',\n",
       " 'Spec',\n",
       " 'Specf',\n",
       " 'ZC',\n",
       " 'ZCf',\n",
       " 'Specslo',\n",
       " 'Specslof',\n",
       " 'Specspr',\n",
       " 'Specsprf',\n",
       " 'STD',\n",
       " 'STDf']"
      ]
     },
     "execution_count": 127,
     "metadata": {},
     "output_type": "execute_result"
    }
   ],
   "source": [
    "features"
   ]
  },
  {
   "cell_type": "code",
   "execution_count": 128,
   "metadata": {},
   "outputs": [
    {
     "data": {
      "text/html": [
       "<div>\n",
       "<style scoped>\n",
       "    .dataframe tbody tr th:only-of-type {\n",
       "        vertical-align: middle;\n",
       "    }\n",
       "\n",
       "    .dataframe tbody tr th {\n",
       "        vertical-align: top;\n",
       "    }\n",
       "\n",
       "    .dataframe thead th {\n",
       "        text-align: right;\n",
       "    }\n",
       "</style>\n",
       "<table border=\"1\" class=\"dataframe\">\n",
       "  <thead>\n",
       "    <tr style=\"text-align: right;\">\n",
       "      <th></th>\n",
       "      <th>Surface</th>\n",
       "      <th>RMS</th>\n",
       "      <th>RMSf</th>\n",
       "      <th>ZC</th>\n",
       "      <th>ZCf</th>\n",
       "      <th>Spec</th>\n",
       "      <th>Specf</th>\n",
       "      <th>Specslo</th>\n",
       "      <th>Specslof</th>\n",
       "      <th>Specspr</th>\n",
       "      <th>Specsprf</th>\n",
       "      <th>STD</th>\n",
       "      <th>STDf</th>\n",
       "    </tr>\n",
       "  </thead>\n",
       "  <tbody>\n",
       "    <tr>\n",
       "      <th>0</th>\n",
       "      <td>Wet Asphalt</td>\n",
       "      <td>0.636991</td>\n",
       "      <td>-0.909537</td>\n",
       "      <td>-1.776822</td>\n",
       "      <td>-1.970302</td>\n",
       "      <td>-1.436763</td>\n",
       "      <td>-1.451934</td>\n",
       "      <td>-0.277799</td>\n",
       "      <td>-0.296562</td>\n",
       "      <td>-0.671288</td>\n",
       "      <td>-0.752975</td>\n",
       "      <td>-0.932151</td>\n",
       "      <td>-0.909537</td>\n",
       "    </tr>\n",
       "    <tr>\n",
       "      <th>1</th>\n",
       "      <td>Wet Asphalt</td>\n",
       "      <td>0.179694</td>\n",
       "      <td>-0.795452</td>\n",
       "      <td>-1.609772</td>\n",
       "      <td>-1.678002</td>\n",
       "      <td>-1.602796</td>\n",
       "      <td>-1.544345</td>\n",
       "      <td>-0.489709</td>\n",
       "      <td>-0.406159</td>\n",
       "      <td>-1.160694</td>\n",
       "      <td>-1.059778</td>\n",
       "      <td>-0.775480</td>\n",
       "      <td>-0.795452</td>\n",
       "    </tr>\n",
       "    <tr>\n",
       "      <th>2</th>\n",
       "      <td>Wet Asphalt</td>\n",
       "      <td>0.122326</td>\n",
       "      <td>-0.674255</td>\n",
       "      <td>-1.489207</td>\n",
       "      <td>-1.564362</td>\n",
       "      <td>-1.332246</td>\n",
       "      <td>-1.373932</td>\n",
       "      <td>-0.144402</td>\n",
       "      <td>-0.204052</td>\n",
       "      <td>-0.564559</td>\n",
       "      <td>-0.896966</td>\n",
       "      <td>-0.652589</td>\n",
       "      <td>-0.674255</td>\n",
       "    </tr>\n",
       "    <tr>\n",
       "      <th>3</th>\n",
       "      <td>Wet Asphalt</td>\n",
       "      <td>-0.159926</td>\n",
       "      <td>-0.517573</td>\n",
       "      <td>-1.640515</td>\n",
       "      <td>-1.721935</td>\n",
       "      <td>-1.604402</td>\n",
       "      <td>-1.497758</td>\n",
       "      <td>-0.491759</td>\n",
       "      <td>-0.350907</td>\n",
       "      <td>-1.145385</td>\n",
       "      <td>-0.828780</td>\n",
       "      <td>-0.448782</td>\n",
       "      <td>-0.517573</td>\n",
       "    </tr>\n",
       "    <tr>\n",
       "      <th>4</th>\n",
       "      <td>Wet Asphalt</td>\n",
       "      <td>-0.238222</td>\n",
       "      <td>-0.523400</td>\n",
       "      <td>-1.795157</td>\n",
       "      <td>-1.823078</td>\n",
       "      <td>-1.660792</td>\n",
       "      <td>-1.546567</td>\n",
       "      <td>-0.563729</td>\n",
       "      <td>-0.408794</td>\n",
       "      <td>-1.130075</td>\n",
       "      <td>-0.932176</td>\n",
       "      <td>-0.415016</td>\n",
       "      <td>-0.523400</td>\n",
       "    </tr>\n",
       "    <tr>\n",
       "      <th>...</th>\n",
       "      <td>...</td>\n",
       "      <td>...</td>\n",
       "      <td>...</td>\n",
       "      <td>...</td>\n",
       "      <td>...</td>\n",
       "      <td>...</td>\n",
       "      <td>...</td>\n",
       "      <td>...</td>\n",
       "      <td>...</td>\n",
       "      <td>...</td>\n",
       "      <td>...</td>\n",
       "      <td>...</td>\n",
       "      <td>...</td>\n",
       "    </tr>\n",
       "    <tr>\n",
       "      <th>664</th>\n",
       "      <td>Dry Asphalt</td>\n",
       "      <td>1.137249</td>\n",
       "      <td>-0.968632</td>\n",
       "      <td>1.020432</td>\n",
       "      <td>0.982384</td>\n",
       "      <td>0.498121</td>\n",
       "      <td>0.390345</td>\n",
       "      <td>0.129511</td>\n",
       "      <td>-0.006529</td>\n",
       "      <td>0.326647</td>\n",
       "      <td>0.353976</td>\n",
       "      <td>-1.040439</td>\n",
       "      <td>-0.968632</td>\n",
       "    </tr>\n",
       "    <tr>\n",
       "      <th>665</th>\n",
       "      <td>Dry Asphalt</td>\n",
       "      <td>0.614169</td>\n",
       "      <td>-0.435030</td>\n",
       "      <td>1.026914</td>\n",
       "      <td>0.950166</td>\n",
       "      <td>0.524241</td>\n",
       "      <td>0.449193</td>\n",
       "      <td>0.165181</td>\n",
       "      <td>0.068150</td>\n",
       "      <td>0.261300</td>\n",
       "      <td>0.276181</td>\n",
       "      <td>-0.497996</td>\n",
       "      <td>-0.435030</td>\n",
       "    </tr>\n",
       "    <tr>\n",
       "      <th>666</th>\n",
       "      <td>Dry Asphalt</td>\n",
       "      <td>-0.593662</td>\n",
       "      <td>0.207291</td>\n",
       "      <td>0.435572</td>\n",
       "      <td>0.454602</td>\n",
       "      <td>-0.228514</td>\n",
       "      <td>-0.280964</td>\n",
       "      <td>-0.862822</td>\n",
       "      <td>-0.858418</td>\n",
       "      <td>-0.584690</td>\n",
       "      <td>-0.680135</td>\n",
       "      <td>0.225667</td>\n",
       "      <td>0.207291</td>\n",
       "    </tr>\n",
       "    <tr>\n",
       "      <th>667</th>\n",
       "      <td>Dry Asphalt</td>\n",
       "      <td>-0.641654</td>\n",
       "      <td>0.622580</td>\n",
       "      <td>0.765412</td>\n",
       "      <td>0.746903</td>\n",
       "      <td>-0.042689</td>\n",
       "      <td>-0.086110</td>\n",
       "      <td>-0.609049</td>\n",
       "      <td>-0.611148</td>\n",
       "      <td>-0.694372</td>\n",
       "      <td>-0.673102</td>\n",
       "      <td>0.621277</td>\n",
       "      <td>0.622580</td>\n",
       "    </tr>\n",
       "    <tr>\n",
       "      <th>668</th>\n",
       "      <td>Dry Asphalt</td>\n",
       "      <td>-0.600220</td>\n",
       "      <td>0.417660</td>\n",
       "      <td>1.032284</td>\n",
       "      <td>0.950752</td>\n",
       "      <td>0.113535</td>\n",
       "      <td>0.117241</td>\n",
       "      <td>-0.395702</td>\n",
       "      <td>-0.353097</td>\n",
       "      <td>-0.712116</td>\n",
       "      <td>-0.293775</td>\n",
       "      <td>0.351917</td>\n",
       "      <td>0.417660</td>\n",
       "    </tr>\n",
       "  </tbody>\n",
       "</table>\n",
       "<p>554 rows × 13 columns</p>\n",
       "</div>"
      ],
      "text/plain": [
       "         Surface       RMS      RMSf        ZC       ZCf      Spec     Specf  \\\n",
       "0    Wet Asphalt  0.636991 -0.909537 -1.776822 -1.970302 -1.436763 -1.451934   \n",
       "1    Wet Asphalt  0.179694 -0.795452 -1.609772 -1.678002 -1.602796 -1.544345   \n",
       "2    Wet Asphalt  0.122326 -0.674255 -1.489207 -1.564362 -1.332246 -1.373932   \n",
       "3    Wet Asphalt -0.159926 -0.517573 -1.640515 -1.721935 -1.604402 -1.497758   \n",
       "4    Wet Asphalt -0.238222 -0.523400 -1.795157 -1.823078 -1.660792 -1.546567   \n",
       "..           ...       ...       ...       ...       ...       ...       ...   \n",
       "664  Dry Asphalt  1.137249 -0.968632  1.020432  0.982384  0.498121  0.390345   \n",
       "665  Dry Asphalt  0.614169 -0.435030  1.026914  0.950166  0.524241  0.449193   \n",
       "666  Dry Asphalt -0.593662  0.207291  0.435572  0.454602 -0.228514 -0.280964   \n",
       "667  Dry Asphalt -0.641654  0.622580  0.765412  0.746903 -0.042689 -0.086110   \n",
       "668  Dry Asphalt -0.600220  0.417660  1.032284  0.950752  0.113535  0.117241   \n",
       "\n",
       "      Specslo  Specslof   Specspr  Specsprf       STD      STDf  \n",
       "0   -0.277799 -0.296562 -0.671288 -0.752975 -0.932151 -0.909537  \n",
       "1   -0.489709 -0.406159 -1.160694 -1.059778 -0.775480 -0.795452  \n",
       "2   -0.144402 -0.204052 -0.564559 -0.896966 -0.652589 -0.674255  \n",
       "3   -0.491759 -0.350907 -1.145385 -0.828780 -0.448782 -0.517573  \n",
       "4   -0.563729 -0.408794 -1.130075 -0.932176 -0.415016 -0.523400  \n",
       "..        ...       ...       ...       ...       ...       ...  \n",
       "664  0.129511 -0.006529  0.326647  0.353976 -1.040439 -0.968632  \n",
       "665  0.165181  0.068150  0.261300  0.276181 -0.497996 -0.435030  \n",
       "666 -0.862822 -0.858418 -0.584690 -0.680135  0.225667  0.207291  \n",
       "667 -0.609049 -0.611148 -0.694372 -0.673102  0.621277  0.622580  \n",
       "668 -0.395702 -0.353097 -0.712116 -0.293775  0.351917  0.417660  \n",
       "\n",
       "[554 rows x 13 columns]"
      ]
     },
     "execution_count": 128,
     "metadata": {},
     "output_type": "execute_result"
    }
   ],
   "source": [
    "alldf"
   ]
  },
  {
   "cell_type": "markdown",
   "metadata": {},
   "source": [
    "## Unsupervised ML"
   ]
  },
  {
   "cell_type": "code",
   "execution_count": 148,
   "metadata": {},
   "outputs": [
    {
     "data": {
      "image/png": "[encoded data removed]",
      "text/plain": [
       "<Figure size 432x288 with 1 Axes>"
      ]
     },
     "metadata": {
      "needs_background": "light"
     },
     "output_type": "display_data"
    }
   ],
   "source": [
    "# Import whatever libraries, modules, etc. you may need here.\n",
    "\n",
    "import scipy as sp\n",
    "from scipy import stats\n",
    "from sklearn.decomposition import PCA\n",
    "from sklearn.cluster import AgglomerativeClustering\n",
    "from sklearn.metrics import silhouette_score\n",
    "from sklearn.metrics import adjusted_rand_score\n",
    "\n",
    "X =  alldf[features]\n",
    "Y = alldf[\"Surface\"]\n",
    "\n",
    "X = X.apply(sp.stats.zscore) # z-standardization\n",
    "\n",
    "\n",
    "#PCA\n",
    "pca = PCA(n_components=2)\n",
    "X_r = pca.fit(X).transform(X)\n",
    "plt.figure()\n",
    "plt.scatter(X_r[:,0],X_r[:,1])\n",
    "plt.show()"
   ]
  },
  {
   "cell_type": "code",
   "execution_count": 149,
   "metadata": {},
   "outputs": [
    {
     "data": {
      "text/plain": [
       "0      Wet Asphalt\n",
       "1      Wet Asphalt\n",
       "2      Wet Asphalt\n",
       "3      Wet Asphalt\n",
       "4      Wet Asphalt\n",
       "          ...     \n",
       "664    Dry Asphalt\n",
       "665    Dry Asphalt\n",
       "666    Dry Asphalt\n",
       "667    Dry Asphalt\n",
       "668    Dry Asphalt\n",
       "Name: Surface, Length: 554, dtype: object"
      ]
     },
     "execution_count": 149,
     "metadata": {},
     "output_type": "execute_result"
    }
   ],
   "source": [
    "Y"
   ]
  },
  {
   "cell_type": "code",
   "execution_count": 150,
   "metadata": {},
   "outputs": [],
   "source": [
    "Y = pd.factorize(Y)[0]"
   ]
  },
  {
   "cell_type": "code",
   "execution_count": 152,
   "metadata": {},
   "outputs": [
    {
     "data": {
      "image/png": "[encoded data removed]",
      "text/plain": [
       "<Figure size 432x288 with 1 Axes>"
      ]
     },
     "metadata": {
      "needs_background": "light"
     },
     "output_type": "display_data"
    },
    {
     "data": {
      "image/png": "[encoded data removed]",
      "text/plain": [
       "<Figure size 432x288 with 1 Axes>"
      ]
     },
     "metadata": {
      "needs_background": "light"
     },
     "output_type": "display_data"
    },
    {
     "name": "stdout",
     "output_type": "stream",
     "text": [
      "Rand score: 0.5564256224469758\n"
     ]
    }
   ],
   "source": [
    "\n",
    "\n",
    "# clustering with ward method\n",
    "clustering = AgglomerativeClustering(n_clusters=3, linkage='ward').fit(X)\n",
    "clustering_labels = clustering.labels_\n",
    "\n",
    "# PCA\n",
    "pca=PCA(n_components=3)\n",
    "X_r = pca.fit_transform(X)\n",
    "\n",
    "\n",
    "plt.figure()\n",
    "# plot the predicted clusters \n",
    "for i in range(len(clustering_labels)):\n",
    "    labels = list(set(clustering_labels))\n",
    "    if clustering_labels[i] == labels[2]:\n",
    "        plt.scatter(X_r[i,0],X_r[i,1], color='g', label=\"Gravel\")\n",
    "        \n",
    "    if clustering_labels[i] == labels[0]:\n",
    "        plt.scatter(X_r[i,0],X_r[i,1], color='r', label=\"Wet Asphalt\")\n",
    "    if clustering_labels[i] == labels[1]:\n",
    "        plt.scatter(X_r[i,0],X_r[i,1], color='b', label=\"Dry Asphalt\")\n",
    "\n",
    "handles, labels = plt.gca().get_legend_handles_labels()\n",
    "by_label = dict(zip(labels, handles))\n",
    "plt.legend(by_label.values(), by_label.keys())\n",
    "plt.title(\"Unsupervised ML\")\n",
    "plt.show()\n",
    "\n",
    "plt.figure()\n",
    "# plot the correct types\n",
    "for i in range(len(Y)):\n",
    "    labels = list(set(Y))\n",
    "    if Y[i] == labels[0]:\n",
    "        plt.scatter(X_r[i,0],X_r[i,1], color='g', label=\"Gravel\")\n",
    "    if Y[i] == labels[1]:\n",
    "        plt.scatter(X_r[i,0],X_r[i,1], color='r', label=\"Wet Asphalt\")\n",
    "    if Y[i] == labels[2]:\n",
    "        plt.scatter(X_r[i,0],X_r[i,1], color='b', label=\"Dry Asphalt\")\n",
    "        \n",
    "plt.title(\"PCA\")\n",
    "handles, labels = plt.gca().get_legend_handles_labels()\n",
    "by_label = dict(zip(labels, handles))\n",
    "plt.legend(by_label.values(), by_label.keys())\n",
    "plt.show()\n",
    "\n",
    "rand = adjusted_rand_score(Y, clustering_labels)\n",
    "print('Rand score:', rand)\n"
   ]
  },
  {
   "cell_type": "markdown",
   "metadata": {},
   "source": [
    "# Machine learning for only asphalt recordings\n",
    "\n",
    "### These should be recorded at fairly similar speeds."
   ]
  },
  {
   "cell_type": "code",
   "execution_count": 256,
   "metadata": {},
   "outputs": [],
   "source": [
    "aspdf = pd.concat([tdrydf, waspdf])\n",
    "\n",
    "aspdf = aspdf.dropna()\n",
    "\n",
    "X = aspdf[features]\n",
    "y = aspdf[\"Surface\"]\n",
    "\n",
    "x_train, x_test, y_train, y_test = train_test_split(X, y, test_size=0.25, random_state=0, shuffle=True, stratify=None)\n",
    "\n",
    "# KNN\n",
    "\n",
    "knn = KNeighborsClassifier(n_neighbors=3)\n",
    "knn.fit(x_train, y_train)\n",
    "\n",
    "y_pred_knn = knn.predict(x_test)\n",
    "\n",
    "\n",
    "\n",
    "# Extra trees classifier\n",
    "\n",
    "forestclf = ExtraTreesClassifier(n_estimators = 500)\n",
    "\n",
    "forestclf.fit(x_train, y_train)\n",
    "\n",
    "y_pred_forest = forestclf.predict(x_test)\n",
    "\n",
    "\n",
    "# SVC\n",
    "\n",
    "#Create a svm Classifier\n",
    "clf = sklearn.svm.SVC(kernel='linear') \n",
    "\n",
    "#Train the model using the training sets\n",
    "clf.fit(x_train, y_train)\n",
    "\n",
    "#Predict the response for test dataset\n",
    "y_pred_svc = clf.predict(x_test)\n",
    "\n",
    "\n",
    "# Random Forest\n",
    "\n",
    "rforestclf = RandomForestClassifier(n_estimators = 500)\n",
    "\n",
    "rforestclf.fit(x_train, y_train)\n",
    "\n",
    "y_pred_rforest = rforestclf.predict(x_test)\n",
    "\n",
    "\n",
    "# Decision tree\n",
    "\n",
    "treeclf = tree.DecisionTreeClassifier()\n",
    "treeclf = clf.fit(x_train, y_train)\n",
    "y_pred_tree = rforestclf.predict(x_test)\n",
    "\n",
    "# Naive bayes\n",
    "\n",
    "gnb = GaussianNB()\n",
    "nbclf = gnb.fit(x_train, y_train)\n",
    "y_pred_nb = nbclf.predict(x_test)"
   ]
  },
  {
   "cell_type": "code",
   "execution_count": 257,
   "metadata": {
    "scrolled": false
   },
   "outputs": [
    {
     "name": "stdout",
     "output_type": "stream",
     "text": [
      "KNN confusion matrix\n"
     ]
    },
    {
     "data": {
      "image/png": "[encoded data removed]",
      "text/plain": [
       "<Figure size 432x288 with 2 Axes>"
      ]
     },
     "metadata": {
      "needs_background": "light"
     },
     "output_type": "display_data"
    },
    {
     "name": "stdout",
     "output_type": "stream",
     "text": [
      "SVC confusion matrix\n"
     ]
    },
    {
     "data": {
      "image/png": "[encoded data removed]",
      "text/plain": [
       "<Figure size 432x288 with 2 Axes>"
      ]
     },
     "metadata": {
      "needs_background": "light"
     },
     "output_type": "display_data"
    },
    {
     "name": "stdout",
     "output_type": "stream",
     "text": [
      "Decision tree classifier confusion matrix\n"
     ]
    },
    {
     "data": {
      "image/png": "[encoded data removed]",
      "text/plain": [
       "<Figure size 432x288 with 2 Axes>"
      ]
     },
     "metadata": {
      "needs_background": "light"
     },
     "output_type": "display_data"
    },
    {
     "name": "stdout",
     "output_type": "stream",
     "text": [
      "Random forest classifier confusion matrix\n"
     ]
    },
    {
     "data": {
      "image/png": "[encoded data removed]",
      "text/plain": [
       "<Figure size 432x288 with 2 Axes>"
      ]
     },
     "metadata": {
      "needs_background": "light"
     },
     "output_type": "display_data"
    },
    {
     "name": "stdout",
     "output_type": "stream",
     "text": [
      "Extra trees classifier confusion matrix\n"
     ]
    },
    {
     "data": {
      "image/png": "[encoded data removed]",
      "text/plain": [
       "<Figure size 432x288 with 2 Axes>"
      ]
     },
     "metadata": {
      "needs_background": "light"
     },
     "output_type": "display_data"
    },
    {
     "name": "stdout",
     "output_type": "stream",
     "text": [
      "NaiveBayes classifier confusion matrix\n"
     ]
    },
    {
     "data": {
      "image/png": "[encoded data removed]",
      "text/plain": [
       "<Figure size 432x288 with 2 Axes>"
      ]
     },
     "metadata": {
      "needs_background": "light"
     },
     "output_type": "display_data"
    }
   ],
   "source": [
    "#%matplotlib inline\n",
    "\n",
    "print(\"KNN confusion matrix\")\n",
    "plot_confusion_matrix(knn, x_test, y_test)\n",
    "plt.show()\n",
    "\n",
    "\n",
    "print(\"SVC confusion matrix\")\n",
    "plot_confusion_matrix(clf, x_test, y_test)\n",
    "plt.show()\n",
    "\n",
    "print(\"Decision tree classifier confusion matrix\")\n",
    "plot_confusion_matrix(treeclf, x_test, y_test)\n",
    "plt.show()\n",
    "\n",
    "print(\"Random forest classifier confusion matrix\")\n",
    "plot_confusion_matrix(rforestclf, x_test, y_test)\n",
    "plt.show()\n",
    "\n",
    "print(\"Extra trees classifier confusion matrix\")\n",
    "plot_confusion_matrix(forestclf, x_test, y_test)\n",
    "plt.show()\n",
    "\n",
    "print(\"NaiveBayes classifier confusion matrix\")\n",
    "plot_confusion_matrix(nbclf, x_test, y_test)\n",
    "plt.show()"
   ]
  },
  {
   "cell_type": "code",
   "execution_count": 258,
   "metadata": {},
   "outputs": [
    {
     "name": "stdout",
     "output_type": "stream",
     "text": [
      "Accuracy knn:  1.0\n",
      "Accuracy svc:  1.0\n",
      "Accuracy Tree :  1.0\n",
      "Accuracy Random forest :  1.0\n",
      "Accuracy Extra Trees :  1.0\n",
      "----------\n",
      "Precision knn:  1.0\n",
      "Precision svc:  1.0\n",
      "Precision Tree:  1.0\n",
      "Precision Random Forest:  1.0\n",
      "Precision trees:  1.0\n",
      "----------\n",
      "Recall knn:  1.0\n",
      "Recall svc:  1.0\n",
      "Recall tree:  1.0\n",
      "Recall forest:  1.0\n",
      "Recall trees:  1.0\n",
      "----------\n",
      "F1 knn:  1.0\n",
      "F1 svc:  1.0\n",
      "F1 tree:  1.0\n",
      "F1 forest:  1.0\n",
      "F1 trees:  1.0\n"
     ]
    }
   ],
   "source": [
    "from sklearn.metrics import recall_score\n",
    "from sklearn.metrics import f1_score\n",
    "print(\"Accuracy knn: \", np.round(accuracy_score(y_test, y_pred_knn),2))\n",
    "print(\"Accuracy svc: \", np.round(accuracy_score(y_test, y_pred_svc),2))\n",
    "print(\"Accuracy Tree : \", np.round(accuracy_score(y_test, y_pred_tree),2))\n",
    "print(\"Accuracy Random forest : \", np.round(accuracy_score(y_test, y_pred_rforest),2))\n",
    "print(\"Accuracy Extra Trees : \", np.round(accuracy_score(y_test, y_pred_forest),2))\n",
    "\n",
    "print(\"----------\")\n",
    "\n",
    "print(\"Precision knn: \", np.round(precision_score(y_test, y_pred_knn, average='macro'),2))\n",
    "print(\"Precision svc: \", np.round(precision_score(y_test, y_pred_svc, average = 'macro'),2))\n",
    "print(\"Precision Tree: \", np.round(precision_score(y_test, y_pred_tree, average = 'macro'),2))\n",
    "print(\"Precision Random Forest: \", np.round(precision_score(y_test, y_pred_rforest, average = 'macro'),2))\n",
    "print(\"Precision trees: \", np.round(precision_score(y_test, y_pred_forest, average = 'macro'),2))\n",
    "\n",
    "print(\"----------\")\n",
    "\n",
    "print(\"Recall knn: \", np.round(recall_score(y_test, y_pred_knn, average = 'macro'),2))\n",
    "print(\"Recall svc: \", np.round(recall_score(y_test, y_pred_svc, average = 'macro'),2))     \n",
    "print(\"Recall tree: \", np.round(recall_score(y_test, y_pred_tree, average = 'macro'),2))  \n",
    "print(\"Recall forest: \", np.round(recall_score(y_test, y_pred_rforest, average = 'macro'),2))     \n",
    "print(\"Recall trees: \", np.round(recall_score(y_test, y_pred_forest, average = 'macro'),2)) \n",
    "\n",
    "print(\"----------\")\n",
    " \n",
    "print(\"F1 knn: \", np.round(f1_score(y_test, y_pred_knn, average = 'macro'),2))\n",
    "print(\"F1 svc: \", np.round(f1_score(y_test, y_pred_svc, average = 'macro'),2))            \n",
    "print(\"F1 tree: \", np.round(f1_score(y_test, y_pred_tree, average = 'macro'),2))  \n",
    "print(\"F1 forest: \", np.round(f1_score(y_test, y_pred_rforest, average = 'macro'),2))  \n",
    "\n",
    "print(\"F1 trees: \", np.round(f1_score(y_test, y_pred_forest, average = 'macro'),2))  "
   ]
  },
  {
   "cell_type": "code",
   "execution_count": 196,
   "metadata": {},
   "outputs": [
    {
     "name": "stdout",
     "output_type": "stream",
     "text": [
      "Accuracy knn: 100.0 %\n",
      "Accuracy svc: 100.0 %\n",
      "Accuracy tree: 100.0 %\n"
     ]
    }
   ],
   "source": [
    "model = KNeighborsClassifier(n_neighbors=3)\n",
    "scores = cross_val_score(model, X, y, scoring='accuracy', cv=LeaveOneOut(), n_jobs=-1)\n",
    "\n",
    "print('Accuracy knn:', round(np.mean(scores)*100,1), '%')\n",
    "\n",
    "\n",
    "model = sklearn.svm.SVC(kernel='linear') \n",
    "scores = cross_val_score(model, X, y, scoring='accuracy', cv=LeaveOneOut(), n_jobs=-1)\n",
    "\n",
    "print('Accuracy svc:', round(np.mean(scores)*100,1), '%')\n",
    "\n",
    "\n",
    "model = tree.DecisionTreeClassifier()\n",
    "scores = cross_val_score(model, X, y, scoring='accuracy', cv=LeaveOneOut(), n_jobs=-1)\n",
    "print('Accuracy tree:', round(np.mean(scores)*100,1), '%')\n",
    "\n",
    "\n",
    "# model = RandomForestClassifier(n_estimators = 500)\n",
    "# scores = cross_val_score(model, X, y, scoring='accuracy', cv=LeaveOneOut(), n_jobs=-1)\n",
    "# print('Accuracy forest:', round(np.mean(scores)*100,1), '%')\n",
    "\n",
    "\n",
    "\n",
    "# model = ExtraTreesClassifier(n_estimators = 500)\n",
    "# scores = cross_val_score(model, X, y, scoring='accuracy', cv=LeaveOneOut(), n_jobs=-1)\n",
    "\n",
    "# print('Accuracy extra trees:', round(np.mean(scores)*100,1), '%')"
   ]
  },
  {
   "cell_type": "markdown",
   "metadata": {},
   "source": [
    "### Really good results, considering these are recorded at the same speeds. "
   ]
  },
  {
   "cell_type": "code",
   "execution_count": 169,
   "metadata": {},
   "outputs": [
    {
     "data": {
      "text/html": [
       "<div>\n",
       "<style scoped>\n",
       "    .dataframe tbody tr th:only-of-type {\n",
       "        vertical-align: middle;\n",
       "    }\n",
       "\n",
       "    .dataframe tbody tr th {\n",
       "        vertical-align: top;\n",
       "    }\n",
       "\n",
       "    .dataframe thead th {\n",
       "        text-align: right;\n",
       "    }\n",
       "</style>\n",
       "<table border=\"1\" class=\"dataframe\">\n",
       "  <thead>\n",
       "    <tr style=\"text-align: right;\">\n",
       "      <th></th>\n",
       "      <th>Surface</th>\n",
       "      <th>RMS</th>\n",
       "      <th>RMSf</th>\n",
       "      <th>ZC</th>\n",
       "      <th>ZCf</th>\n",
       "      <th>Spec</th>\n",
       "      <th>Specf</th>\n",
       "      <th>Specslo</th>\n",
       "      <th>Specslof</th>\n",
       "      <th>Specspr</th>\n",
       "      <th>Specsprf</th>\n",
       "      <th>STD</th>\n",
       "      <th>STDf</th>\n",
       "    </tr>\n",
       "  </thead>\n",
       "  <tbody>\n",
       "    <tr>\n",
       "      <th>0</th>\n",
       "      <td>Wet Asphalt</td>\n",
       "      <td>0.636991</td>\n",
       "      <td>-0.909537</td>\n",
       "      <td>-1.776822</td>\n",
       "      <td>-1.970302</td>\n",
       "      <td>-1.436763</td>\n",
       "      <td>-1.451934</td>\n",
       "      <td>-0.277799</td>\n",
       "      <td>-0.296562</td>\n",
       "      <td>-0.671288</td>\n",
       "      <td>-0.752975</td>\n",
       "      <td>-0.932151</td>\n",
       "      <td>-0.909537</td>\n",
       "    </tr>\n",
       "    <tr>\n",
       "      <th>1</th>\n",
       "      <td>Wet Asphalt</td>\n",
       "      <td>0.179694</td>\n",
       "      <td>-0.795452</td>\n",
       "      <td>-1.609772</td>\n",
       "      <td>-1.678002</td>\n",
       "      <td>-1.602796</td>\n",
       "      <td>-1.544345</td>\n",
       "      <td>-0.489709</td>\n",
       "      <td>-0.406159</td>\n",
       "      <td>-1.160694</td>\n",
       "      <td>-1.059778</td>\n",
       "      <td>-0.775480</td>\n",
       "      <td>-0.795452</td>\n",
       "    </tr>\n",
       "    <tr>\n",
       "      <th>2</th>\n",
       "      <td>Wet Asphalt</td>\n",
       "      <td>0.122326</td>\n",
       "      <td>-0.674255</td>\n",
       "      <td>-1.489207</td>\n",
       "      <td>-1.564362</td>\n",
       "      <td>-1.332246</td>\n",
       "      <td>-1.373932</td>\n",
       "      <td>-0.144402</td>\n",
       "      <td>-0.204052</td>\n",
       "      <td>-0.564559</td>\n",
       "      <td>-0.896966</td>\n",
       "      <td>-0.652589</td>\n",
       "      <td>-0.674255</td>\n",
       "    </tr>\n",
       "    <tr>\n",
       "      <th>3</th>\n",
       "      <td>Wet Asphalt</td>\n",
       "      <td>-0.159926</td>\n",
       "      <td>-0.517573</td>\n",
       "      <td>-1.640515</td>\n",
       "      <td>-1.721935</td>\n",
       "      <td>-1.604402</td>\n",
       "      <td>-1.497758</td>\n",
       "      <td>-0.491759</td>\n",
       "      <td>-0.350907</td>\n",
       "      <td>-1.145385</td>\n",
       "      <td>-0.828780</td>\n",
       "      <td>-0.448782</td>\n",
       "      <td>-0.517573</td>\n",
       "    </tr>\n",
       "    <tr>\n",
       "      <th>4</th>\n",
       "      <td>Wet Asphalt</td>\n",
       "      <td>-0.238222</td>\n",
       "      <td>-0.523400</td>\n",
       "      <td>-1.795157</td>\n",
       "      <td>-1.823078</td>\n",
       "      <td>-1.660792</td>\n",
       "      <td>-1.546567</td>\n",
       "      <td>-0.563729</td>\n",
       "      <td>-0.408794</td>\n",
       "      <td>-1.130075</td>\n",
       "      <td>-0.932176</td>\n",
       "      <td>-0.415016</td>\n",
       "      <td>-0.523400</td>\n",
       "    </tr>\n",
       "    <tr>\n",
       "      <th>...</th>\n",
       "      <td>...</td>\n",
       "      <td>...</td>\n",
       "      <td>...</td>\n",
       "      <td>...</td>\n",
       "      <td>...</td>\n",
       "      <td>...</td>\n",
       "      <td>...</td>\n",
       "      <td>...</td>\n",
       "      <td>...</td>\n",
       "      <td>...</td>\n",
       "      <td>...</td>\n",
       "      <td>...</td>\n",
       "      <td>...</td>\n",
       "    </tr>\n",
       "    <tr>\n",
       "      <th>664</th>\n",
       "      <td>Dry Asphalt</td>\n",
       "      <td>1.137249</td>\n",
       "      <td>-0.968632</td>\n",
       "      <td>1.020432</td>\n",
       "      <td>0.982384</td>\n",
       "      <td>0.498121</td>\n",
       "      <td>0.390345</td>\n",
       "      <td>0.129511</td>\n",
       "      <td>-0.006529</td>\n",
       "      <td>0.326647</td>\n",
       "      <td>0.353976</td>\n",
       "      <td>-1.040439</td>\n",
       "      <td>-0.968632</td>\n",
       "    </tr>\n",
       "    <tr>\n",
       "      <th>665</th>\n",
       "      <td>Dry Asphalt</td>\n",
       "      <td>0.614169</td>\n",
       "      <td>-0.435030</td>\n",
       "      <td>1.026914</td>\n",
       "      <td>0.950166</td>\n",
       "      <td>0.524241</td>\n",
       "      <td>0.449193</td>\n",
       "      <td>0.165181</td>\n",
       "      <td>0.068150</td>\n",
       "      <td>0.261300</td>\n",
       "      <td>0.276181</td>\n",
       "      <td>-0.497996</td>\n",
       "      <td>-0.435030</td>\n",
       "    </tr>\n",
       "    <tr>\n",
       "      <th>666</th>\n",
       "      <td>Dry Asphalt</td>\n",
       "      <td>-0.593662</td>\n",
       "      <td>0.207291</td>\n",
       "      <td>0.435572</td>\n",
       "      <td>0.454602</td>\n",
       "      <td>-0.228514</td>\n",
       "      <td>-0.280964</td>\n",
       "      <td>-0.862822</td>\n",
       "      <td>-0.858418</td>\n",
       "      <td>-0.584690</td>\n",
       "      <td>-0.680135</td>\n",
       "      <td>0.225667</td>\n",
       "      <td>0.207291</td>\n",
       "    </tr>\n",
       "    <tr>\n",
       "      <th>667</th>\n",
       "      <td>Dry Asphalt</td>\n",
       "      <td>-0.641654</td>\n",
       "      <td>0.622580</td>\n",
       "      <td>0.765412</td>\n",
       "      <td>0.746903</td>\n",
       "      <td>-0.042689</td>\n",
       "      <td>-0.086110</td>\n",
       "      <td>-0.609049</td>\n",
       "      <td>-0.611148</td>\n",
       "      <td>-0.694372</td>\n",
       "      <td>-0.673102</td>\n",
       "      <td>0.621277</td>\n",
       "      <td>0.622580</td>\n",
       "    </tr>\n",
       "    <tr>\n",
       "      <th>668</th>\n",
       "      <td>Dry Asphalt</td>\n",
       "      <td>-0.600220</td>\n",
       "      <td>0.417660</td>\n",
       "      <td>1.032284</td>\n",
       "      <td>0.950752</td>\n",
       "      <td>0.113535</td>\n",
       "      <td>0.117241</td>\n",
       "      <td>-0.395702</td>\n",
       "      <td>-0.353097</td>\n",
       "      <td>-0.712116</td>\n",
       "      <td>-0.293775</td>\n",
       "      <td>0.351917</td>\n",
       "      <td>0.417660</td>\n",
       "    </tr>\n",
       "  </tbody>\n",
       "</table>\n",
       "<p>554 rows × 13 columns</p>\n",
       "</div>"
      ],
      "text/plain": [
       "         Surface       RMS      RMSf        ZC       ZCf      Spec     Specf  \\\n",
       "0    Wet Asphalt  0.636991 -0.909537 -1.776822 -1.970302 -1.436763 -1.451934   \n",
       "1    Wet Asphalt  0.179694 -0.795452 -1.609772 -1.678002 -1.602796 -1.544345   \n",
       "2    Wet Asphalt  0.122326 -0.674255 -1.489207 -1.564362 -1.332246 -1.373932   \n",
       "3    Wet Asphalt -0.159926 -0.517573 -1.640515 -1.721935 -1.604402 -1.497758   \n",
       "4    Wet Asphalt -0.238222 -0.523400 -1.795157 -1.823078 -1.660792 -1.546567   \n",
       "..           ...       ...       ...       ...       ...       ...       ...   \n",
       "664  Dry Asphalt  1.137249 -0.968632  1.020432  0.982384  0.498121  0.390345   \n",
       "665  Dry Asphalt  0.614169 -0.435030  1.026914  0.950166  0.524241  0.449193   \n",
       "666  Dry Asphalt -0.593662  0.207291  0.435572  0.454602 -0.228514 -0.280964   \n",
       "667  Dry Asphalt -0.641654  0.622580  0.765412  0.746903 -0.042689 -0.086110   \n",
       "668  Dry Asphalt -0.600220  0.417660  1.032284  0.950752  0.113535  0.117241   \n",
       "\n",
       "      Specslo  Specslof   Specspr  Specsprf       STD      STDf  \n",
       "0   -0.277799 -0.296562 -0.671288 -0.752975 -0.932151 -0.909537  \n",
       "1   -0.489709 -0.406159 -1.160694 -1.059778 -0.775480 -0.795452  \n",
       "2   -0.144402 -0.204052 -0.564559 -0.896966 -0.652589 -0.674255  \n",
       "3   -0.491759 -0.350907 -1.145385 -0.828780 -0.448782 -0.517573  \n",
       "4   -0.563729 -0.408794 -1.130075 -0.932176 -0.415016 -0.523400  \n",
       "..        ...       ...       ...       ...       ...       ...  \n",
       "664  0.129511 -0.006529  0.326647  0.353976 -1.040439 -0.968632  \n",
       "665  0.165181  0.068150  0.261300  0.276181 -0.497996 -0.435030  \n",
       "666 -0.862822 -0.858418 -0.584690 -0.680135  0.225667  0.207291  \n",
       "667 -0.609049 -0.611148 -0.694372 -0.673102  0.621277  0.622580  \n",
       "668 -0.395702 -0.353097 -0.712116 -0.293775  0.351917  0.417660  \n",
       "\n",
       "[554 rows x 13 columns]"
      ]
     },
     "execution_count": 169,
     "metadata": {},
     "output_type": "execute_result"
    }
   ],
   "source": [
    "alldf"
   ]
  },
  {
   "cell_type": "code",
   "execution_count": 253,
   "metadata": {},
   "outputs": [],
   "source": [
    "sdf = adf.dropna()"
   ]
  },
  {
   "cell_type": "code",
   "execution_count": 248,
   "metadata": {},
   "outputs": [
    {
     "data": {
      "text/html": [
       "<div>\n",
       "<style scoped>\n",
       "    .dataframe tbody tr th:only-of-type {\n",
       "        vertical-align: middle;\n",
       "    }\n",
       "\n",
       "    .dataframe tbody tr th {\n",
       "        vertical-align: top;\n",
       "    }\n",
       "\n",
       "    .dataframe thead th {\n",
       "        text-align: right;\n",
       "    }\n",
       "</style>\n",
       "<table border=\"1\" class=\"dataframe\">\n",
       "  <thead>\n",
       "    <tr style=\"text-align: right;\">\n",
       "      <th></th>\n",
       "      <th>RMS</th>\n",
       "      <th>RMSf</th>\n",
       "      <th>Spec</th>\n",
       "      <th>Specf</th>\n",
       "      <th>ZC</th>\n",
       "      <th>ZCf</th>\n",
       "      <th>Specslo</th>\n",
       "      <th>Specslof</th>\n",
       "      <th>Specspr</th>\n",
       "      <th>Specsprf</th>\n",
       "      <th>STD</th>\n",
       "      <th>STDf</th>\n",
       "      <th>Surface</th>\n",
       "    </tr>\n",
       "  </thead>\n",
       "  <tbody>\n",
       "    <tr>\n",
       "      <th>0</th>\n",
       "      <td>29.546131</td>\n",
       "      <td>1023.227026</td>\n",
       "      <td>936.116277</td>\n",
       "      <td>1018.407771</td>\n",
       "      <td>7470.0</td>\n",
       "      <td>8387.0</td>\n",
       "      <td>-1.136291e-09</td>\n",
       "      <td>-1.127022e-09</td>\n",
       "      <td>1641.800213</td>\n",
       "      <td>1592.380153</td>\n",
       "      <td>1165.214212</td>\n",
       "      <td>1023.227026</td>\n",
       "      <td>WetAsp</td>\n",
       "    </tr>\n",
       "    <tr>\n",
       "      <th>1</th>\n",
       "      <td>23.158067</td>\n",
       "      <td>1283.379764</td>\n",
       "      <td>869.158982</td>\n",
       "      <td>980.920178</td>\n",
       "      <td>8372.0</td>\n",
       "      <td>9884.0</td>\n",
       "      <td>-1.143832e-09</td>\n",
       "      <td>-1.131245e-09</td>\n",
       "      <td>1428.056723</td>\n",
       "      <td>1453.218214</td>\n",
       "      <td>1536.434588</td>\n",
       "      <td>1283.379763</td>\n",
       "      <td>WetAsp</td>\n",
       "    </tr>\n",
       "    <tr>\n",
       "      <th>2</th>\n",
       "      <td>22.356680</td>\n",
       "      <td>1559.749380</td>\n",
       "      <td>978.265482</td>\n",
       "      <td>1050.050716</td>\n",
       "      <td>9023.0</td>\n",
       "      <td>10466.0</td>\n",
       "      <td>-1.131544e-09</td>\n",
       "      <td>-1.123459e-09</td>\n",
       "      <td>1688.413169</td>\n",
       "      <td>1527.067657</td>\n",
       "      <td>1827.613507</td>\n",
       "      <td>1559.749375</td>\n",
       "      <td>WetAsp</td>\n",
       "    </tr>\n",
       "    <tr>\n",
       "      <th>3</th>\n",
       "      <td>18.413845</td>\n",
       "      <td>1917.039422</td>\n",
       "      <td>868.511381</td>\n",
       "      <td>999.818919</td>\n",
       "      <td>8206.0</td>\n",
       "      <td>9659.0</td>\n",
       "      <td>-1.143905e-09</td>\n",
       "      <td>-1.129116e-09</td>\n",
       "      <td>1434.742860</td>\n",
       "      <td>1557.996016</td>\n",
       "      <td>2310.517279</td>\n",
       "      <td>1917.039352</td>\n",
       "      <td>WetAsp</td>\n",
       "    </tr>\n",
       "    <tr>\n",
       "      <th>4</th>\n",
       "      <td>17.320115</td>\n",
       "      <td>1903.750157</td>\n",
       "      <td>845.770818</td>\n",
       "      <td>980.018609</td>\n",
       "      <td>7371.0</td>\n",
       "      <td>9141.0</td>\n",
       "      <td>-1.146466e-09</td>\n",
       "      <td>-1.131346e-09</td>\n",
       "      <td>1441.429068</td>\n",
       "      <td>1511.096731</td>\n",
       "      <td>2390.523797</td>\n",
       "      <td>1903.750146</td>\n",
       "      <td>WetAsp</td>\n",
       "    </tr>\n",
       "    <tr>\n",
       "      <th>...</th>\n",
       "      <td>...</td>\n",
       "      <td>...</td>\n",
       "      <td>...</td>\n",
       "      <td>...</td>\n",
       "      <td>...</td>\n",
       "      <td>...</td>\n",
       "      <td>...</td>\n",
       "      <td>...</td>\n",
       "      <td>...</td>\n",
       "      <td>...</td>\n",
       "      <td>...</td>\n",
       "      <td>...</td>\n",
       "      <td>...</td>\n",
       "    </tr>\n",
       "    <tr>\n",
       "      <th>664</th>\n",
       "      <td>36.534334</td>\n",
       "      <td>888.469033</td>\n",
       "      <td>1716.408648</td>\n",
       "      <td>1765.754351</td>\n",
       "      <td>22574.0</td>\n",
       "      <td>23509.0</td>\n",
       "      <td>-1.121796e-09</td>\n",
       "      <td>-1.115849e-09</td>\n",
       "      <td>2077.639124</td>\n",
       "      <td>2094.478887</td>\n",
       "      <td>908.634971</td>\n",
       "      <td>888.469033</td>\n",
       "      <td>DryAsp</td>\n",
       "    </tr>\n",
       "    <tr>\n",
       "      <th>665</th>\n",
       "      <td>29.227326</td>\n",
       "      <td>2105.265017</td>\n",
       "      <td>1726.941985</td>\n",
       "      <td>1789.627193</td>\n",
       "      <td>22609.0</td>\n",
       "      <td>23344.0</td>\n",
       "      <td>-1.120526e-09</td>\n",
       "      <td>-1.112972e-09</td>\n",
       "      <td>2049.099301</td>\n",
       "      <td>2059.192042</td>\n",
       "      <td>2193.910625</td>\n",
       "      <td>2105.265017</td>\n",
       "      <td>DryAsp</td>\n",
       "    </tr>\n",
       "    <tr>\n",
       "      <th>666</th>\n",
       "      <td>12.354906</td>\n",
       "      <td>3569.975285</td>\n",
       "      <td>1423.374044</td>\n",
       "      <td>1493.428487</td>\n",
       "      <td>19416.0</td>\n",
       "      <td>20806.0</td>\n",
       "      <td>-1.157110e-09</td>\n",
       "      <td>-1.148668e-09</td>\n",
       "      <td>1679.621230</td>\n",
       "      <td>1625.419419</td>\n",
       "      <td>3908.569348</td>\n",
       "      <td>3569.975225</td>\n",
       "      <td>DryAsp</td>\n",
       "    </tr>\n",
       "    <tr>\n",
       "      <th>667</th>\n",
       "      <td>11.684496</td>\n",
       "      <td>4516.976878</td>\n",
       "      <td>1498.312835</td>\n",
       "      <td>1572.473819</td>\n",
       "      <td>21197.0</td>\n",
       "      <td>22303.0</td>\n",
       "      <td>-1.148079e-09</td>\n",
       "      <td>-1.139142e-09</td>\n",
       "      <td>1631.718617</td>\n",
       "      <td>1628.609637</td>\n",
       "      <td>4845.935116</td>\n",
       "      <td>4516.976775</td>\n",
       "      <td>DryAsp</td>\n",
       "    </tr>\n",
       "    <tr>\n",
       "      <th>668</th>\n",
       "      <td>12.263296</td>\n",
       "      <td>4049.689384</td>\n",
       "      <td>1561.314007</td>\n",
       "      <td>1654.965812</td>\n",
       "      <td>22638.0</td>\n",
       "      <td>23347.0</td>\n",
       "      <td>-1.140487e-09</td>\n",
       "      <td>-1.129200e-09</td>\n",
       "      <td>1623.968941</td>\n",
       "      <td>1800.667366</td>\n",
       "      <td>4207.709816</td>\n",
       "      <td>4049.689383</td>\n",
       "      <td>DryAsp</td>\n",
       "    </tr>\n",
       "  </tbody>\n",
       "</table>\n",
       "<p>880 rows × 13 columns</p>\n",
       "</div>"
      ],
      "text/plain": [
       "           RMS         RMSf         Spec        Specf       ZC      ZCf  \\\n",
       "0    29.546131  1023.227026   936.116277  1018.407771   7470.0   8387.0   \n",
       "1    23.158067  1283.379764   869.158982   980.920178   8372.0   9884.0   \n",
       "2    22.356680  1559.749380   978.265482  1050.050716   9023.0  10466.0   \n",
       "3    18.413845  1917.039422   868.511381   999.818919   8206.0   9659.0   \n",
       "4    17.320115  1903.750157   845.770818   980.018609   7371.0   9141.0   \n",
       "..         ...          ...          ...          ...      ...      ...   \n",
       "664  36.534334   888.469033  1716.408648  1765.754351  22574.0  23509.0   \n",
       "665  29.227326  2105.265017  1726.941985  1789.627193  22609.0  23344.0   \n",
       "666  12.354906  3569.975285  1423.374044  1493.428487  19416.0  20806.0   \n",
       "667  11.684496  4516.976878  1498.312835  1572.473819  21197.0  22303.0   \n",
       "668  12.263296  4049.689384  1561.314007  1654.965812  22638.0  23347.0   \n",
       "\n",
       "          Specslo      Specslof      Specspr     Specsprf          STD  \\\n",
       "0   -1.136291e-09 -1.127022e-09  1641.800213  1592.380153  1165.214212   \n",
       "1   -1.143832e-09 -1.131245e-09  1428.056723  1453.218214  1536.434588   \n",
       "2   -1.131544e-09 -1.123459e-09  1688.413169  1527.067657  1827.613507   \n",
       "3   -1.143905e-09 -1.129116e-09  1434.742860  1557.996016  2310.517279   \n",
       "4   -1.146466e-09 -1.131346e-09  1441.429068  1511.096731  2390.523797   \n",
       "..            ...           ...          ...          ...          ...   \n",
       "664 -1.121796e-09 -1.115849e-09  2077.639124  2094.478887   908.634971   \n",
       "665 -1.120526e-09 -1.112972e-09  2049.099301  2059.192042  2193.910625   \n",
       "666 -1.157110e-09 -1.148668e-09  1679.621230  1625.419419  3908.569348   \n",
       "667 -1.148079e-09 -1.139142e-09  1631.718617  1628.609637  4845.935116   \n",
       "668 -1.140487e-09 -1.129200e-09  1623.968941  1800.667366  4207.709816   \n",
       "\n",
       "            STDf Surface  \n",
       "0    1023.227026  WetAsp  \n",
       "1    1283.379763  WetAsp  \n",
       "2    1559.749375  WetAsp  \n",
       "3    1917.039352  WetAsp  \n",
       "4    1903.750146  WetAsp  \n",
       "..           ...     ...  \n",
       "664   888.469033  DryAsp  \n",
       "665  2105.265017  DryAsp  \n",
       "666  3569.975225  DryAsp  \n",
       "667  4516.976775  DryAsp  \n",
       "668  4049.689383  DryAsp  \n",
       "\n",
       "[880 rows x 13 columns]"
      ]
     },
     "execution_count": 248,
     "metadata": {},
     "output_type": "execute_result"
    }
   ],
   "source": [
    "graveldf22 = graveldf2[fts]\n",
    "\n",
    "graveldf12 = graveldf[fts]\n",
    "\n",
    "waspdf2 = waspdf[fts]\n",
    "\n",
    "drydf2 = drydf[fts]\n",
    "\n",
    "adf = pd.concat([waspdf2, graveldf12, graveldf22, drydf2])\n",
    "\n",
    "adf"
   ]
  },
  {
   "cell_type": "code",
   "execution_count": 250,
   "metadata": {},
   "outputs": [
    {
     "data": {
      "application/vnd.plotly.v1+json": {
       "config": {
        "plotlyServerURL": "https://plot.ly"
       },
       "data": [
        {
         "hovertemplate": "Surface=WetAsp<br>ZCf=%{x}<br>Spec=%{y}<extra></extra>",
         "legendgroup": "WetAsp",
         "marker": {
          "color": "#636efa",
          "symbol": "circle"
         },
         "mode": "markers",
         "name": "WetAsp",
         "orientation": "v",
         "showlegend": true,
         "type": "scatter",
         "x": [
          8387,
          9884,
          10466,
          9659,
          9141,
          6894,
          7752,
          8539,
          8204,
          6707,
          9185,
          12123,
          12527,
          11875,
          11924,
          13849,
          11819,
          10601,
          9557,
          9135,
          8225,
          7120,
          10701,
          11082,
          10554,
          7781,
          9765,
          10141,
          10200,
          9916,
          8617,
          9614,
          10807,
          10963,
          11211,
          11338,
          10657,
          9837,
          9288,
          9063,
          8707,
          9684,
          10132,
          10162,
          11808,
          9281,
          8329,
          9516,
          9445,
          9869,
          9369,
          10506,
          9706,
          10584,
          10045,
          9442,
          10042,
          9397,
          9788,
          10232,
          8534,
          5375,
          8015,
          7984,
          9509,
          9871,
          10000,
          7600,
          7236,
          8666,
          8119,
          7800,
          6117,
          5590,
          5479,
          7867,
          8700,
          8314,
          8084,
          8110,
          10240,
          7370,
          6870,
          10085,
          9748,
          10369,
          10237,
          9898,
          10245,
          9614,
          11459,
          12826,
          8898,
          8899,
          11993,
          10110,
          9437,
          9846,
          10650,
          10074,
          10596,
          9646,
          9905,
          11550,
          11269,
          14343,
          14007,
          8983,
          8304
         ],
         "xaxis": "x",
         "y": [
          936.1162765399653,
          869.1589820451281,
          978.2654819774413,
          868.5113810080219,
          845.7708176252468,
          721.5411591337694,
          864.7586451354639,
          910.5094292394741,
          992.1898396941965,
          745.7486271406032,
          1020.5213730934578,
          1195.3681650502876,
          1075.3586465872543,
          1111.6946043163748,
          1213.4181831310882,
          1270.7157597399585,
          1152.0953376165232,
          971.6538159038182,
          907.8287098275838,
          880.3985727628603,
          771.2922836408242,
          785.1900683289539,
          900.6544275049756,
          867.8600843360255,
          865.9327326627351,
          792.9043076447006,
          841.8954802682149,
          876.1927925010543,
          805.5716022237268,
          800.5593852118255,
          804.4277887225584,
          885.618105679985,
          1040.4088522073719,
          968.2038337816383,
          803.9315489347739,
          797.5345880346396,
          756.5737123276512,
          781.8528786571472,
          852.2121346364795,
          862.1518003012475,
          798.4181972059584,
          950.4816530239275,
          1031.939983673328,
          1037.1246952928052,
          1150.7329606298188,
          728.9213148859611,
          717.6706905746431,
          920.2395026108366,
          966.9061448022943,
          980.3563544095618,
          947.5094660355718,
          1074.6248167228923,
          932.3515646216625,
          1076.2648940581116,
          938.6214724710808,
          849.9274196584753,
          898.0736675600428,
          1030.9725396197593,
          1037.3683826612814,
          1161.8001291393189,
          810.0431785650914,
          695.7731490213629,
          759.4898798027936,
          803.0465348123117,
          918.7806180245309,
          1049.473944391368,
          1025.6423566828319,
          969.6482378466245,
          879.9778643214853,
          869.8608862482063,
          795.1208235772989,
          822.1288613670946,
          783.3851454645445,
          687.4879421030307,
          694.8346775457392,
          1082.5600324231148,
          917.0215649187418,
          1043.2215985877663,
          994.2479827171335,
          855.5669298216686,
          926.0127972060092,
          1034.1513837128496,
          862.498177759535,
          871.0762307852733,
          784.710748297188,
          876.9438340862736,
          976.3223925466377,
          883.5923993522619,
          1031.9520148942715,
          846.0386239378859,
          1146.7986465837823,
          1217.4928866464913,
          929.6892318346155,
          858.1986361210113,
          1207.3180690145468,
          1117.8275193455768,
          1025.4917390762319,
          1112.8417583633327,
          1222.2536715335557,
          1185.830086109346,
          1127.0630929791241,
          1129.2818447952843,
          1065.2326379547098,
          1101.7954399533123,
          1166.5508262788271,
          1381.3718678910288,
          1444.52332752792,
          1025.9256760236228,
          975.3336212859057
         ],
         "yaxis": "y"
        },
        {
         "hovertemplate": "Surface=WetGrav<br>ZCf=%{x}<br>Spec=%{y}<extra></extra>",
         "legendgroup": "WetGrav",
         "marker": {
          "color": "#EF553B",
          "symbol": "circle"
         },
         "mode": "markers",
         "name": "WetGrav",
         "orientation": "v",
         "showlegend": true,
         "type": "scatter",
         "x": [
          13156,
          20817,
          13514,
          14074,
          13145,
          14399,
          12347,
          11757,
          10315,
          11178,
          13602,
          8931,
          9367,
          9473,
          8742,
          12502,
          10462,
          8666,
          8880,
          9652,
          11700,
          10189,
          13080,
          17086,
          22799,
          16171,
          13024,
          18786,
          16163,
          15063
         ],
         "xaxis": "x",
         "y": [
          1929.3535419894447,
          1776.5627131441033,
          1328.0071675425027,
          1467.927173998685,
          1304.3568982359675,
          1432.873918560046,
          1292.104351055983,
          2226.6217363995984,
          1262.0687187543897,
          1406.2976112482954,
          1402.7437669040703,
          1101.8288448783323,
          1202.0531348001714,
          1372.506234645359,
          1130.605343681894,
          1536.1722089622967,
          1322.2414827646664,
          1145.4588219376953,
          1074.8582710140781,
          1168.6831126235052,
          1169.3151480281147,
          1158.3541132618464,
          1328.81529768993,
          1486.9562035770196,
          1985.4264610580299,
          1612.4625005712608,
          1337.9774333354296,
          1637.9216964095642,
          1549.3626822569136,
          1354.1296093512333
         ],
         "yaxis": "y"
        },
        {
         "hovertemplate": "Surface=DryGrav<br>ZCf=%{x}<br>Spec=%{y}<extra></extra>",
         "legendgroup": "DryGrav",
         "marker": {
          "color": "#00cc96",
          "symbol": "circle"
         },
         "mode": "markers",
         "name": "DryGrav",
         "orientation": "v",
         "showlegend": true,
         "type": "scatter",
         "x": [
          23898,
          21414,
          20535,
          19891,
          19074,
          21153,
          21151,
          21020,
          20303,
          20533,
          18652,
          16593,
          18604,
          17691,
          17972,
          21558,
          21275,
          21274,
          21339,
          19107,
          21309,
          26547,
          23640,
          19302,
          16936,
          22312,
          17117,
          18333,
          16517,
          18789,
          19327,
          20379,
          22527,
          22212,
          21166,
          22102,
          24290,
          23825,
          23825,
          25488,
          25750,
          25037,
          25720,
          28261,
          26395,
          30247,
          23357,
          19866,
          22372,
          22302,
          15229,
          20252,
          18882,
          14849,
          22828,
          20919,
          22276,
          20116,
          18700,
          20481,
          21784,
          20527,
          18177,
          17678,
          17053,
          18079,
          19654,
          20154,
          20196,
          21196,
          21020,
          20741
         ],
         "xaxis": "x",
         "y": [
          2641.2080975727195,
          1887.3409558251071,
          1780.0997173463452,
          2129.1475389081,
          2362.0896092968683,
          1958.8170454375934,
          1762.626400996278,
          1793.867065088636,
          1900.63311296138,
          2114.5092202045453,
          1782.0711249772414,
          1617.112568219905,
          1734.865352021254,
          1901.7940213747945,
          1908.4710861105368,
          1858.017844068745,
          2009.7834602081673,
          2046.9943522761555,
          1959.1051882476518,
          1836.7325676542669,
          2018.3220858467619,
          2162.4289308157113,
          2123.7223649612265,
          1829.189218016809,
          1888.0181421961368,
          2048.515042926416,
          2243.9934997579053,
          1921.9956555824451,
          1940.6116828366978,
          1676.8067956540308,
          1973.0359848050064,
          1974.5208866824846,
          1872.0438791950512,
          2066.4600081282833,
          2173.525812821172,
          2316.8741817837395,
          2356.0256132505565,
          2187.861253887996,
          2187.861253887996,
          2257.6622614751686,
          2198.946806059892,
          2206.91897269836,
          2269.7807416173205,
          2331.7287201041136,
          2282.885780680133,
          2491.278734600117,
          2234.998164470736,
          2028.8693568020515,
          2123.36135542591,
          2039.512582566941,
          1680.8182391621642,
          2066.552546292484,
          1981.3390700027437,
          1809.6039884186107,
          2293.3721869120477,
          2318.164010460659,
          2275.0122965340424,
          2067.8062839550967,
          2371.234122353941,
          2399.5677064374004,
          2153.2452234455964,
          1751.9538555260212,
          1746.7492256962034,
          1925.4046764573552,
          1582.5745169948668,
          1587.099101871861,
          1887.145304904147,
          1966.2292726273931,
          2192.1782267972444,
          1813.300934311016,
          1896.5779760393928,
          2123.161799311756
         ],
         "yaxis": "y"
        },
        {
         "hovertemplate": "Surface=DryAsp<br>ZCf=%{x}<br>Spec=%{y}<extra></extra>",
         "legendgroup": "DryAsp",
         "marker": {
          "color": "#ab63fa",
          "symbol": "circle"
         },
         "mode": "markers",
         "name": "DryAsp",
         "orientation": "v",
         "showlegend": true,
         "type": "scatter",
         "x": [
          23833,
          23250,
          23145,
          23026,
          22701,
          23219,
          22877,
          23735,
          22969,
          21188,
          22072,
          20135,
          21749,
          21814,
          21148,
          21202,
          20818,
          20423,
          20860,
          20780,
          21637,
          20496,
          20626,
          21303,
          20591,
          20112,
          20433,
          23070,
          20094,
          19395,
          19443,
          20217,
          20661,
          20745,
          22923,
          21556,
          20177,
          20177,
          19414,
          20151,
          19851,
          20185,
          18867,
          21667,
          21367,
          21445,
          21445,
          20369,
          21204,
          21601,
          20958,
          22233,
          22233,
          22115,
          22144,
          21626,
          19792,
          20920,
          20895,
          23274,
          23235,
          23108,
          23520,
          22393,
          22519,
          21933,
          21633,
          22792,
          22449,
          23083,
          23211,
          22732,
          24399,
          22890,
          23268,
          23089,
          22553,
          22467,
          22358,
          21598,
          22586,
          22181,
          22274,
          22828,
          23164,
          22426,
          22892,
          23068,
          23593,
          22849,
          22172,
          22131,
          20856,
          20477,
          20432,
          20112,
          22192,
          21521,
          21982,
          20733,
          20731,
          20867,
          22317,
          21739,
          21776,
          22057,
          21847,
          21758,
          23159,
          20663,
          21008,
          19933,
          20480,
          20124,
          20861,
          20299,
          20299,
          19977,
          19572,
          20596,
          21067,
          19889,
          20162,
          21075,
          21304,
          21828,
          21144,
          20464,
          20784,
          22405,
          22796,
          22469,
          21799,
          21968,
          21690,
          21690,
          22724,
          22326,
          21549,
          22847,
          21701,
          22093,
          22081,
          20448,
          21058,
          21925,
          21671,
          22307,
          22094,
          21396,
          22032,
          22068,
          22800,
          21879,
          22208,
          21065,
          21338,
          22263,
          22033,
          21727,
          20946,
          20081,
          21412,
          20335,
          21763,
          22072,
          21698,
          19934,
          21851,
          22099,
          22741,
          22741,
          21247,
          22368,
          22289,
          22024,
          21742,
          22489,
          22179,
          21840,
          21972,
          22122,
          21071,
          21665,
          21675,
          21546,
          21725,
          21642,
          21849,
          21529,
          21529,
          21984,
          21332,
          21341,
          20851,
          21385,
          20799,
          20687,
          21474,
          21491,
          20382,
          20567,
          20191,
          20191,
          19399,
          19399,
          20806,
          20806,
          19923,
          19923,
          20251,
          20251,
          20922,
          20922,
          19257,
          19257,
          21425,
          21425,
          19124,
          19124,
          19950,
          19950,
          21760,
          21760,
          22134,
          22134,
          22728,
          22728,
          22722,
          22722,
          23280,
          23280,
          23019,
          23019,
          22676,
          22676,
          22626,
          22626,
          22774,
          22774,
          22337,
          22337,
          22413,
          22413,
          22313,
          22313,
          22097,
          22097,
          21717,
          21717,
          21696,
          21696,
          21597,
          21597,
          21444,
          21444,
          21444,
          21444,
          21889,
          21889,
          21931,
          21931,
          21931,
          21931,
          21666,
          21666,
          21362,
          21362,
          21384,
          21384,
          21858,
          21858,
          21603,
          21603,
          21577,
          21577,
          21889,
          21889,
          21254,
          21254,
          21285,
          21285,
          21420,
          21420,
          21051,
          21051,
          21051,
          21051,
          21706,
          21706,
          21220,
          21220,
          22218,
          22218,
          21544,
          21544,
          20280,
          20280,
          20922,
          20922,
          22379,
          22379,
          24812,
          18850,
          22302,
          15229,
          20252,
          18882,
          14849,
          22828,
          20919,
          22276,
          20116,
          18700,
          20481,
          21784,
          20527,
          18177,
          17678,
          17053,
          18079,
          19654,
          20154,
          20196,
          21196,
          21020,
          20741,
          18178,
          21640,
          20396,
          20396,
          21232,
          21232,
          20653,
          20653,
          20653,
          20653,
          20631,
          20631,
          21512,
          21512,
          20369,
          20369,
          20360,
          20360,
          20308,
          20308,
          19580,
          19580,
          18761,
          18761,
          20601,
          20601,
          17966,
          17966,
          20263,
          20263,
          21186,
          21186,
          20099,
          20099,
          21476,
          21476,
          21012,
          21012,
          22229,
          22229,
          22444,
          22444,
          20869,
          20869,
          21714,
          21714,
          21922,
          21922,
          21172,
          21172,
          21941,
          21941,
          21352,
          21352,
          21145,
          21145,
          21409,
          21409,
          21928,
          21928,
          22551,
          22551,
          22551,
          22551,
          21755,
          21755,
          20633,
          20633,
          21107,
          21107,
          20507,
          20507,
          20033,
          20033,
          21458,
          21458,
          21614,
          21614,
          21089,
          21089,
          21864,
          21864,
          21713,
          21713,
          21172,
          21172,
          21625,
          21625,
          22405,
          22405,
          22045,
          22045,
          21851,
          21851,
          21819,
          21819,
          21849,
          21849,
          21921,
          21921,
          20596,
          20596,
          20751,
          20751,
          21708,
          21708,
          20932,
          20932,
          20128,
          20128,
          20619,
          20619,
          21188,
          21188,
          20124,
          20124,
          20086,
          20086,
          20423,
          20423,
          19837,
          19837,
          20255,
          20255,
          20432,
          20432,
          19935,
          19935,
          19229,
          19229,
          19597,
          19597,
          20911,
          20911,
          20676,
          20676,
          20676,
          20676,
          19595,
          19595,
          20042,
          20042,
          20108,
          20108,
          19644,
          19644,
          20045,
          20045,
          20394,
          20394,
          20704,
          20704,
          21927,
          21927,
          22395,
          22395,
          22331,
          22331,
          22204,
          22204,
          21760,
          21760,
          21800,
          21800,
          22519,
          22519,
          21909,
          21909,
          21841,
          21841,
          21804,
          21804,
          21236,
          21236,
          21236,
          21067,
          21067,
          21067,
          21067,
          21067,
          21067,
          22130,
          22130,
          22130,
          20667,
          20667,
          20667,
          21195,
          21195,
          21195,
          21653,
          21653,
          21653,
          21530,
          21530,
          21530,
          20973,
          20973,
          20973,
          21012,
          21012,
          21012,
          21569,
          21569,
          21569,
          21078,
          21078,
          21078,
          18223,
          18223,
          18223,
          21386,
          21386,
          21386,
          22705,
          22705,
          22705,
          22640,
          22640,
          22640,
          21883,
          21883,
          21883,
          22352,
          22352,
          22352,
          21391,
          21391,
          21391,
          21852,
          21852,
          21852,
          22804,
          22804,
          22804,
          21413,
          21413,
          21413,
          23254,
          23254,
          23254,
          21316,
          21316,
          21316,
          22388,
          22388,
          22388,
          21676,
          21676,
          21676,
          23030,
          23030,
          23030,
          20692,
          20692,
          20692,
          21754,
          21754,
          21754,
          21867,
          21867,
          21867,
          20288,
          20288,
          20288,
          20156,
          20156,
          20156,
          19710,
          19710,
          19710,
          22338,
          22338,
          22338,
          22338,
          22338,
          22338,
          23731,
          23731,
          23731,
          23731,
          23731,
          23731,
          24080,
          24080,
          24080,
          24122,
          24122,
          24122,
          18332,
          18332,
          18332,
          20084,
          20084,
          20084,
          20258,
          20258,
          20258,
          20032,
          20032,
          20032,
          20491,
          20491,
          20491,
          23390,
          23390,
          23390,
          20032,
          20032,
          21825,
          21825,
          19145,
          19145,
          18493,
          18493,
          21693,
          21693,
          21422,
          21890,
          22788,
          19257,
          19861,
          21613,
          22554,
          22554,
          22127,
          22722,
          24074,
          20158,
          21416,
          20495,
          22466,
          23609,
          20493,
          21487,
          21949,
          22109,
          23509,
          23344,
          20806,
          22303,
          23347
         ],
         "xaxis": "x",
         "y": [
          1564.472912054839,
          1557.8334433967075,
          1535.9950704888572,
          1562.0663392310635,
          1527.2675677294305,
          1557.1731517156131,
          1532.8162612965837,
          1593.0002993191326,
          1561.9748946624472,
          1449.9085558371094,
          1480.235643885579,
          1438.3974579527153,
          1584.3847817600724,
          1470.6767950509213,
          1456.769527186702,
          1477.4328797213489,
          1453.9108309175679,
          1428.2601765455343,
          1453.0037670369607,
          1483.4873966182276,
          1518.6824793668538,
          1454.4636321256437,
          1433.3923700134926,
          1515.332324506011,
          1443.2379634576755,
          1442.5265630978868,
          1409.2836089282148,
          1571.7832550159626,
          1402.738099917569,
          1840.2413396262493,
          1385.2546820669752,
          1417.6151051554295,
          1536.0400525939112,
          1465.2817990520425,
          1631.5871904164762,
          1684.6368693179325,
          1434.6174718320462,
          1434.6174718320462,
          1449.4718725779578,
          1395.1380306564452,
          1396.9864586001809,
          1752.903903719343,
          1478.2639870555724,
          1487.3860134715917,
          1500.1642458053832,
          1483.6890972694518,
          1483.6890972694518,
          1392.715871621648,
          1455.1649576364846,
          1493.034875948375,
          1427.5024733319083,
          1523.1694977708605,
          1523.1694977708605,
          1495.6545364506655,
          1516.2005141503628,
          1478.1619861085248,
          1407.0800906526679,
          1471.3289147147775,
          1457.5122935537174,
          1577.813085956218,
          1572.0327078018868,
          1595.5489380366398,
          1550.5814969891978,
          1495.8322730410923,
          1498.2246237229417,
          1495.3260523655742,
          1466.4478021968216,
          1537.5283991610713,
          1473.7421733692222,
          1555.276313525966,
          1534.2121802805016,
          1522.072557652642,
          1572.4220188568183,
          1494.5526992456173,
          1545.6007789707546,
          1524.7558633369931,
          1522.1191391226744,
          1498.262555051871,
          1515.795390764081,
          1493.8974520917723,
          1514.7481870734207,
          1478.9693878893793,
          1490.3270974122356,
          1501.9298423578614,
          1537.3497941488374,
          1495.792492660721,
          1587.4362586436512,
          1554.4339766795051,
          1544.088942471337,
          1501.8060509284687,
          1504.7901625057425,
          1460.5346288842773,
          1426.8335850045871,
          1400.6379553581526,
          1433.712489480506,
          1392.7538746378268,
          1466.4683608293979,
          1437.8323203892812,
          1498.359657944326,
          1411.2578842734918,
          1425.464859243404,
          1415.2949186207616,
          1463.3480366015908,
          1435.3615254910035,
          1421.2837330297334,
          1467.3119384536317,
          1457.7365681644078,
          1453.0327333080743,
          1446.0515320376608,
          1356.6266669041488,
          1417.469819760194,
          1371.6147216527186,
          1354.8892329991077,
          1374.841118660136,
          1437.5289889342196,
          1440.9763397810755,
          1440.9763397810755,
          1908.1172301607037,
          1442.4676866588143,
          1396.223940410963,
          1822.2695816535274,
          1449.498940106987,
          1399.2405988271153,
          1409.504430573951,
          1496.3401870720818,
          1466.4256556118012,
          1376.438746085847,
          1421.5052943605142,
          1432.7603285725515,
          1481.1137864616535,
          1514.736986146601,
          1507.7719211313122,
          1465.305996073175,
          1489.1066202204736,
          1450.6557747599786,
          1450.6557747599786,
          1484.1616909885279,
          1527.6684386558036,
          1431.3718582500708,
          1509.1058127865579,
          1431.461421231218,
          1443.523512664564,
          1447.4153689569623,
          1383.2609274091776,
          1416.993807008096,
          1427.7748908379913,
          1539.168621678068,
          1463.1155178497402,
          1445.5279265068002,
          1411.9742057547185,
          1426.6243620078342,
          1430.3428259634552,
          1489.0916026239938,
          1409.1202734410706,
          1449.444356834683,
          1416.8569075040068,
          1444.636962898914,
          1461.1796867187388,
          1445.9422751885663,
          1423.434742049405,
          1404.5324712931097,
          1347.0339025164037,
          1438.428734348553,
          1375.4247625054718,
          1429.8759232504926,
          1468.0973266333178,
          1623.1337887514924,
          1514.9324237558924,
          1503.1579649647026,
          1458.2485439281588,
          1454.696547245848,
          1454.696547245848,
          1393.794303862612,
          1783.4912876192088,
          1533.0268800562849,
          1452.452485956985,
          1428.0215857423955,
          1505.502252866234,
          1478.1174775918576,
          1485.9597825012743,
          1535.464791029817,
          1442.0736503096732,
          1419.7476232752895,
          1447.5659992335973,
          1434.615718328839,
          1432.3752527073643,
          1459.7771893405888,
          1470.38901759428,
          1472.9722112710992,
          1497.6480799730189,
          1497.6480799730189,
          1492.7718565028367,
          1414.853531257516,
          1415.4878699584476,
          1349.209279256182,
          1439.1183222646448,
          1390.8393794886656,
          1388.7718512101117,
          1599.2168128284914,
          1422.7138238220948,
          1528.237801536635,
          1373.0142062704126,
          1638.26073637047,
          1638.26073637047,
          1361.9727400318843,
          1361.9727400318843,
          1406.4500170099482,
          1406.4500170099482,
          1388.1081020809881,
          1388.1081020809881,
          1507.4078687426916,
          1507.4078687426916,
          1452.0814937872349,
          1452.0814937872349,
          1379.6823700861362,
          1379.6823700861362,
          1581.6536052835206,
          1581.6536052835206,
          1370.62101285672,
          1370.62101285672,
          1659.9328412342736,
          1659.9328412342736,
          1727.9375603548378,
          1727.9375603548378,
          1811.5388890927632,
          1811.5388890927632,
          1870.2134495606088,
          1870.2134495606088,
          1872.6152789611592,
          1872.6152789611592,
          1863.6890058769634,
          1863.6890058769634,
          1844.7295288529263,
          1844.7295288529263,
          1840.7922236522331,
          1840.7922236522331,
          1853.228146472156,
          1853.228146472156,
          1834.6482091878618,
          1834.6482091878618,
          1811.64426404381,
          1811.64426404381,
          1814.9838132162665,
          1814.9838132162665,
          1838.2038556359234,
          1838.2038556359234,
          1911.9181019482326,
          1911.9181019482326,
          1949.3466978934257,
          1949.3466978934257,
          1975.6651917377953,
          1975.6651917377953,
          1962.4839496541063,
          1962.4839496541063,
          1953.3602196726565,
          1953.3602196726565,
          1953.3602196726565,
          1953.3602196726565,
          1966.0119372301797,
          1966.0119372301797,
          1973.948208453744,
          1973.948208453744,
          1973.948208453744,
          1973.948208453744,
          1961.1952581142527,
          1961.1952581142527,
          1963.8574496970696,
          1963.8574496970696,
          1940.8062584866595,
          1940.8062584866595,
          1973.8698185200162,
          1973.8698185200162,
          1949.4419591971819,
          1949.4419591971819,
          1979.1971403665927,
          1979.1971403665927,
          1975.9360059845176,
          1975.9360059845176,
          1930.8000125685674,
          1930.8000125685674,
          1885.5111760526634,
          1885.5111760526634,
          1887.07607421023,
          1887.07607421023,
          1840.4050928826525,
          1840.4050928826525,
          1840.4050928826525,
          1840.4050928826525,
          1897.522667757849,
          1897.522667757849,
          1826.677777238298,
          1826.677777238298,
          1632.7677229353048,
          1632.7677229353048,
          1547.9523272596884,
          1547.9523272596884,
          1397.4336670518708,
          1397.4336670518708,
          1935.1867696480722,
          1935.1867696480722,
          2010.4733440233406,
          2010.4733440233406,
          2254.926320489392,
          1950.538887226052,
          2039.512582566941,
          1680.8182391621642,
          2066.552546292484,
          1981.3390700027437,
          1809.6039884186107,
          2293.3721869120477,
          2318.164010460659,
          2275.0122965340424,
          2067.8062839550967,
          2371.234122353941,
          2399.5677064374004,
          2153.2452234455964,
          1751.9538555260212,
          1746.7492256962034,
          1925.4046764573552,
          1582.5745169948668,
          1587.099101871861,
          1887.145304904147,
          1966.2292726273931,
          2192.1782267972444,
          1813.300934311016,
          1896.5779760393928,
          2123.161799311756,
          1926.7401019838073,
          2292.2848075711718,
          1527.7121936935475,
          1527.7121936935475,
          1501.4202586892354,
          1501.4202586892354,
          1460.8879970975565,
          1460.8879970975565,
          1460.8879970975565,
          1460.8879970975565,
          1406.13954328571,
          1406.13954328571,
          1445.4898682944342,
          1445.4898682944342,
          1362.6941663887296,
          1362.6941663887296,
          1395.4762871329021,
          1395.4762871329021,
          1468.7944957193865,
          1468.7944957193865,
          1433.3108989479172,
          1433.3108989479172,
          1300.0751575891784,
          1300.0751575891784,
          1433.7956215529366,
          1433.7956215529366,
          1279.4697897945434,
          1279.4697897945434,
          1455.8773364476897,
          1455.8773364476897,
          1410.0452590284021,
          1410.0452590284021,
          1365.1086626904726,
          1365.1086626904726,
          1719.1588006926486,
          1719.1588006926486,
          1847.418740018277,
          1847.418740018277,
          1977.941725451403,
          1977.941725451403,
          2006.3207635470487,
          2006.3207635470487,
          1923.5654147940595,
          1923.5654147940595,
          1972.8305047216386,
          1972.8305047216386,
          2021.0664865974372,
          2021.0664865974372,
          1961.4086867345145,
          1961.4086867345145,
          1987.3348051530202,
          1987.3348051530202,
          1952.7225383551834,
          1952.7225383551834,
          1936.9554362165939,
          1936.9554362165939,
          1967.3541763322469,
          1967.3541763322469,
          1995.7854558583563,
          1995.7854558583563,
          2028.6324862416946,
          2028.6324862416946,
          2028.6324862416946,
          2028.6324862416946,
          1962.888796132273,
          1962.888796132273,
          1865.8622242085066,
          1865.8622242085066,
          1898.0356482080624,
          1898.0356482080624,
          1870.0439097410147,
          1870.0439097410147,
          1869.2362618942834,
          1869.2362618942834,
          1951.5768799689354,
          1951.5768799689354,
          1963.5911496745741,
          1963.5911496745741,
          1915.8862351585667,
          1915.8862351585667,
          1910.456326469458,
          1910.456326469458,
          1726.5260300705895,
          1726.5260300705895,
          1928.499811075434,
          1928.499811075434,
          1944.333596953701,
          1944.333596953701,
          1970.8154880071359,
          1970.8154880071359,
          1967.6953730219127,
          1967.6953730219127,
          1962.1658838622964,
          1962.1658838622964,
          1958.5570419595301,
          1958.5570419595301,
          1929.8548187573472,
          1929.8548187573472,
          1897.4716494683885,
          1897.4716494683885,
          1839.8035936721096,
          1839.8035936721096,
          1837.8406554673975,
          1837.8406554673975,
          1951.2311943008262,
          1951.2311943008262,
          1901.8077979277966,
          1901.8077979277966,
          1848.2107212737847,
          1848.2107212737847,
          1871.6257495092684,
          1871.6257495092684,
          1887.6584756788316,
          1887.6584756788316,
          1882.6441267362225,
          1882.6441267362225,
          1864.020102089044,
          1864.020102089044,
          1879.2251108335056,
          1879.2251108335056,
          1849.4933951877435,
          1849.4933951877435,
          1854.13893363479,
          1854.13893363479,
          1867.7447305665573,
          1867.7447305665573,
          1851.9425581878027,
          1851.9425581878027,
          1773.013494029232,
          1773.013494029232,
          1771.1658859713707,
          1771.1658859713707,
          1815.6905692836165,
          1815.6905692836165,
          1840.190848061695,
          1840.190848061695,
          1840.190848061695,
          1840.190848061695,
          1737.997241754161,
          1737.997241754161,
          1850.0757684138132,
          1850.0757684138132,
          1838.6572293556878,
          1838.6572293556878,
          1801.0479421726193,
          1801.0479421726193,
          1838.3824701232363,
          1838.3824701232363,
          1798.8905054814566,
          1798.8905054814566,
          1641.1245606236364,
          1641.1245606236364,
          1501.8120630764113,
          1501.8120630764113,
          1493.2527979913289,
          1493.2527979913289,
          1527.8586360277823,
          1527.8586360277823,
          1521.3888845537076,
          1521.3888845537076,
          1525.9049599879452,
          1525.9049599879452,
          1474.9318529416662,
          1474.9318529416662,
          1494.2838099188846,
          1494.2838099188846,
          1478.8462124014409,
          1478.8462124014409,
          1466.7869070343727,
          1466.7869070343727,
          1514.6942423826574,
          1514.6942423826574,
          1447.060942781601,
          1447.060942781601,
          1447.060942781601,
          1403.2649804005523,
          1403.2649804005523,
          1403.2649804005523,
          1403.2649804005523,
          1403.2649804005523,
          1403.2649804005523,
          1513.309665963176,
          1513.309665963176,
          1513.309665963176,
          1569.0956863444726,
          1569.0956863444726,
          1569.0956863444726,
          1501.2917081658068,
          1501.2917081658068,
          1501.2917081658068,
          1442.0146387203795,
          1442.0146387203795,
          1442.0146387203795,
          1439.0024008697892,
          1439.0024008697892,
          1439.0024008697892,
          1403.6316355003075,
          1403.6316355003075,
          1403.6316355003075,
          1402.6700118263916,
          1402.6700118263916,
          1402.6700118263916,
          1457.7177420001708,
          1457.7177420001708,
          1457.7177420001708,
          1398.7904523424156,
          1398.7904523424156,
          1398.7904523424156,
          1536.945380235612,
          1536.945380235612,
          1536.945380235612,
          1888.396420702876,
          1888.396420702876,
          1888.396420702876,
          2052.8855365648674,
          2052.8855365648674,
          2052.8855365648674,
          1856.1403476608646,
          1856.1403476608646,
          1856.1403476608646,
          1544.220259087467,
          1544.220259087467,
          1544.220259087467,
          1602.7892814844654,
          1602.7892814844654,
          1602.7892814844654,
          1806.8528061496686,
          1806.8528061496686,
          1806.8528061496686,
          1512.4681049771048,
          1512.4681049771048,
          1512.4681049771048,
          1508.0789636201112,
          1508.0789636201112,
          1508.0789636201112,
          1447.4177028961744,
          1447.4177028961744,
          1447.4177028961744,
          1858.4600421603996,
          1858.4600421603996,
          1858.4600421603996,
          1517.978872730634,
          1517.978872730634,
          1517.978872730634,
          1497.3920543902636,
          1497.3920543902636,
          1497.3920543902636,
          1506.7922794954973,
          1506.7922794954973,
          1506.7922794954973,
          1533.9070058546006,
          1533.9070058546006,
          1533.9070058546006,
          1481.4807165595294,
          1481.4807165595294,
          1481.4807165595294,
          2616.679693778551,
          2616.679693778551,
          2616.679693778551,
          2769.8249133336058,
          2769.8249133336058,
          2769.8249133336058,
          2324.523173936147,
          2324.523173936147,
          2324.523173936147,
          1457.466978981097,
          1457.466978981097,
          1457.466978981097,
          1521.0942123856148,
          1521.0942123856148,
          1521.0942123856148,
          1855.1578867370172,
          1855.1578867370172,
          1855.1578867370172,
          1855.1578867370172,
          1855.1578867370172,
          1855.1578867370172,
          2197.508862805824,
          2197.508862805824,
          2197.508862805824,
          2197.508862805824,
          2197.508862805824,
          2197.508862805824,
          2231.3485393273445,
          2231.3485393273445,
          2231.3485393273445,
          2240.8712840028097,
          2240.8712840028097,
          2240.8712840028097,
          1396.3165027264495,
          1396.3165027264495,
          1396.3165027264495,
          1439.5510946446439,
          1439.5510946446439,
          1439.5510946446439,
          1377.8247000175807,
          1377.8247000175807,
          1377.8247000175807,
          1355.0718392634374,
          1355.0718392634374,
          1355.0718392634374,
          1495.0311460606315,
          1495.0311460606315,
          1495.0311460606315,
          1993.3976160416748,
          1993.3976160416748,
          1993.3976160416748,
          1917.3310470265953,
          1917.3310470265953,
          1656.5651323252832,
          1656.5651323252832,
          1308.3476629661827,
          1308.3476629661827,
          1335.8319458814385,
          1335.8319458814385,
          1498.033751631381,
          1498.033751631381,
          1582.807268553283,
          2093.0221090367418,
          1607.1012586649035,
          1379.9598500519605,
          1680.5350864668121,
          2157.1273293062823,
          2258.092663533926,
          2258.092663533926,
          1992.3218519882146,
          2004.0823251807071,
          1807.558293896002,
          1466.4925351926659,
          1444.7244769362076,
          1405.8103151946939,
          1871.222888921034,
          2049.904899205749,
          1512.204301748103,
          1483.2182302557173,
          1491.2662939494294,
          1510.9789702062167,
          1716.408648214385,
          1726.9419849412413,
          1423.3740443101608,
          1498.312835220401,
          1561.3140069533365
         ],
         "yaxis": "y"
        }
       ],
       "layout": {
        "legend": {
         "title": {
          "text": "Surface"
         },
         "tracegroupgap": 0
        },
        "margin": {
         "t": 60
        },
        "template": {
         "data": {
          "bar": [
           {
            "error_x": {
             "color": "#2a3f5f"
            },
            "error_y": {
             "color": "#2a3f5f"
            },
            "marker": {
             "line": {
              "color": "#E5ECF6",
              "width": 0.5
             },
             "pattern": {
              "fillmode": "overlay",
              "size": 10,
              "solidity": 0.2
             }
            },
            "type": "bar"
           }
          ],
          "barpolar": [
           {
            "marker": {
             "line": {
              "color": "#E5ECF6",
              "width": 0.5
             },
             "pattern": {
              "fillmode": "overlay",
              "size": 10,
              "solidity": 0.2
             }
            },
            "type": "barpolar"
           }
          ],
          "carpet": [
           {
            "aaxis": {
             "endlinecolor": "#2a3f5f",
             "gridcolor": "white",
             "linecolor": "white",
             "minorgridcolor": "white",
             "startlinecolor": "#2a3f5f"
            },
            "baxis": {
             "endlinecolor": "#2a3f5f",
             "gridcolor": "white",
             "linecolor": "white",
             "minorgridcolor": "white",
             "startlinecolor": "#2a3f5f"
            },
            "type": "carpet"
           }
          ],
          "choropleth": [
           {
            "colorbar": {
             "outlinewidth": 0,
             "ticks": ""
            },
            "type": "choropleth"
           }
          ],
          "contour": [
           {
            "colorbar": {
             "outlinewidth": 0,
             "ticks": ""
            },
            "colorscale": [
             [
              0,
              "#0d0887"
             ],
             [
              0.1111111111111111,
              "#46039f"
             ],
             [
              0.2222222222222222,
              "#7201a8"
             ],
             [
              0.3333333333333333,
              "#9c179e"
             ],
             [
              0.4444444444444444,
              "#bd3786"
             ],
             [
              0.5555555555555556,
              "#d8576b"
             ],
             [
              0.6666666666666666,
              "#ed7953"
             ],
             [
              0.7777777777777778,
              "#fb9f3a"
             ],
             [
              0.8888888888888888,
              "#fdca26"
             ],
             [
              1,
              "#f0f921"
             ]
            ],
            "type": "contour"
           }
          ],
          "contourcarpet": [
           {
            "colorbar": {
             "outlinewidth": 0,
             "ticks": ""
            },
            "type": "contourcarpet"
           }
          ],
          "heatmap": [
           {
            "colorbar": {
             "outlinewidth": 0,
             "ticks": ""
            },
            "colorscale": [
             [
              0,
              "#0d0887"
             ],
             [
              0.1111111111111111,
              "#46039f"
             ],
             [
              0.2222222222222222,
              "#7201a8"
             ],
             [
              0.3333333333333333,
              "#9c179e"
             ],
             [
              0.4444444444444444,
              "#bd3786"
             ],
             [
              0.5555555555555556,
              "#d8576b"
             ],
             [
              0.6666666666666666,
              "#ed7953"
             ],
             [
              0.7777777777777778,
              "#fb9f3a"
             ],
             [
              0.8888888888888888,
              "#fdca26"
             ],
             [
              1,
              "#f0f921"
             ]
            ],
            "type": "heatmap"
           }
          ],
          "heatmapgl": [
           {
            "colorbar": {
             "outlinewidth": 0,
             "ticks": ""
            },
            "colorscale": [
             [
              0,
              "#0d0887"
             ],
             [
              0.1111111111111111,
              "#46039f"
             ],
             [
              0.2222222222222222,
              "#7201a8"
             ],
             [
              0.3333333333333333,
              "#9c179e"
             ],
             [
              0.4444444444444444,
              "#bd3786"
             ],
             [
              0.5555555555555556,
              "#d8576b"
             ],
             [
              0.6666666666666666,
              "#ed7953"
             ],
             [
              0.7777777777777778,
              "#fb9f3a"
             ],
             [
              0.8888888888888888,
              "#fdca26"
             ],
             [
              1,
              "#f0f921"
             ]
            ],
            "type": "heatmapgl"
           }
          ],
          "histogram": [
           {
            "marker": {
             "pattern": {
              "fillmode": "overlay",
              "size": 10,
              "solidity": 0.2
             }
            },
            "type": "histogram"
           }
          ],
          "histogram2d": [
           {
            "colorbar": {
             "outlinewidth": 0,
             "ticks": ""
            },
            "colorscale": [
             [
              0,
              "#0d0887"
             ],
             [
              0.1111111111111111,
              "#46039f"
             ],
             [
              0.2222222222222222,
              "#7201a8"
             ],
             [
              0.3333333333333333,
              "#9c179e"
             ],
             [
              0.4444444444444444,
              "#bd3786"
             ],
             [
              0.5555555555555556,
              "#d8576b"
             ],
             [
              0.6666666666666666,
              "#ed7953"
             ],
             [
              0.7777777777777778,
              "#fb9f3a"
             ],
             [
              0.8888888888888888,
              "#fdca26"
             ],
             [
              1,
              "#f0f921"
             ]
            ],
            "type": "histogram2d"
           }
          ],
          "histogram2dcontour": [
           {
            "colorbar": {
             "outlinewidth": 0,
             "ticks": ""
            },
            "colorscale": [
             [
              0,
              "#0d0887"
             ],
             [
              0.1111111111111111,
              "#46039f"
             ],
             [
              0.2222222222222222,
              "#7201a8"
             ],
             [
              0.3333333333333333,
              "#9c179e"
             ],
             [
              0.4444444444444444,
              "#bd3786"
             ],
             [
              0.5555555555555556,
              "#d8576b"
             ],
             [
              0.6666666666666666,
              "#ed7953"
             ],
             [
              0.7777777777777778,
              "#fb9f3a"
             ],
             [
              0.8888888888888888,
              "#fdca26"
             ],
             [
              1,
              "#f0f921"
             ]
            ],
            "type": "histogram2dcontour"
           }
          ],
          "mesh3d": [
           {
            "colorbar": {
             "outlinewidth": 0,
             "ticks": ""
            },
            "type": "mesh3d"
           }
          ],
          "parcoords": [
           {
            "line": {
             "colorbar": {
              "outlinewidth": 0,
              "ticks": ""
             }
            },
            "type": "parcoords"
           }
          ],
          "pie": [
           {
            "automargin": true,
            "type": "pie"
           }
          ],
          "scatter": [
           {
            "marker": {
             "colorbar": {
              "outlinewidth": 0,
              "ticks": ""
             }
            },
            "type": "scatter"
           }
          ],
          "scatter3d": [
           {
            "line": {
             "colorbar": {
              "outlinewidth": 0,
              "ticks": ""
             }
            },
            "marker": {
             "colorbar": {
              "outlinewidth": 0,
              "ticks": ""
             }
            },
            "type": "scatter3d"
           }
          ],
          "scattercarpet": [
           {
            "marker": {
             "colorbar": {
              "outlinewidth": 0,
              "ticks": ""
             }
            },
            "type": "scattercarpet"
           }
          ],
          "scattergeo": [
           {
            "marker": {
             "colorbar": {
              "outlinewidth": 0,
              "ticks": ""
             }
            },
            "type": "scattergeo"
           }
          ],
          "scattergl": [
           {
            "marker": {
             "colorbar": {
              "outlinewidth": 0,
              "ticks": ""
             }
            },
            "type": "scattergl"
           }
          ],
          "scattermapbox": [
           {
            "marker": {
             "colorbar": {
              "outlinewidth": 0,
              "ticks": ""
             }
            },
            "type": "scattermapbox"
           }
          ],
          "scatterpolar": [
           {
            "marker": {
             "colorbar": {
              "outlinewidth": 0,
              "ticks": ""
             }
            },
            "type": "scatterpolar"
           }
          ],
          "scatterpolargl": [
           {
            "marker": {
             "colorbar": {
              "outlinewidth": 0,
              "ticks": ""
             }
            },
            "type": "scatterpolargl"
           }
          ],
          "scatterternary": [
           {
            "marker": {
             "colorbar": {
              "outlinewidth": 0,
              "ticks": ""
             }
            },
            "type": "scatterternary"
           }
          ],
          "surface": [
           {
            "colorbar": {
             "outlinewidth": 0,
             "ticks": ""
            },
            "colorscale": [
             [
              0,
              "#0d0887"
             ],
             [
              0.1111111111111111,
              "#46039f"
             ],
             [
              0.2222222222222222,
              "#7201a8"
             ],
             [
              0.3333333333333333,
              "#9c179e"
             ],
             [
              0.4444444444444444,
              "#bd3786"
             ],
             [
              0.5555555555555556,
              "#d8576b"
             ],
             [
              0.6666666666666666,
              "#ed7953"
             ],
             [
              0.7777777777777778,
              "#fb9f3a"
             ],
             [
              0.8888888888888888,
              "#fdca26"
             ],
             [
              1,
              "#f0f921"
             ]
            ],
            "type": "surface"
           }
          ],
          "table": [
           {
            "cells": {
             "fill": {
              "color": "#EBF0F8"
             },
             "line": {
              "color": "white"
             }
            },
            "header": {
             "fill": {
              "color": "#C8D4E3"
             },
             "line": {
              "color": "white"
             }
            },
            "type": "table"
           }
          ]
         },
         "layout": {
          "annotationdefaults": {
           "arrowcolor": "#2a3f5f",
           "arrowhead": 0,
           "arrowwidth": 1
          },
          "autotypenumbers": "strict",
          "coloraxis": {
           "colorbar": {
            "outlinewidth": 0,
            "ticks": ""
           }
          },
          "colorscale": {
           "diverging": [
            [
             0,
             "#8e0152"
            ],
            [
             0.1,
             "#c51b7d"
            ],
            [
             0.2,
             "#de77ae"
            ],
            [
             0.3,
             "#f1b6da"
            ],
            [
             0.4,
             "#fde0ef"
            ],
            [
             0.5,
             "#f7f7f7"
            ],
            [
             0.6,
             "#e6f5d0"
            ],
            [
             0.7,
             "#b8e186"
            ],
            [
             0.8,
             "#7fbc41"
            ],
            [
             0.9,
             "#4d9221"
            ],
            [
             1,
             "#276419"
            ]
           ],
           "sequential": [
            [
             0,
             "#0d0887"
            ],
            [
             0.1111111111111111,
             "#46039f"
            ],
            [
             0.2222222222222222,
             "#7201a8"
            ],
            [
             0.3333333333333333,
             "#9c179e"
            ],
            [
             0.4444444444444444,
             "#bd3786"
            ],
            [
             0.5555555555555556,
             "#d8576b"
            ],
            [
             0.6666666666666666,
             "#ed7953"
            ],
            [
             0.7777777777777778,
             "#fb9f3a"
            ],
            [
             0.8888888888888888,
             "#fdca26"
            ],
            [
             1,
             "#f0f921"
            ]
           ],
           "sequentialminus": [
            [
             0,
             "#0d0887"
            ],
            [
             0.1111111111111111,
             "#46039f"
            ],
            [
             0.2222222222222222,
             "#7201a8"
            ],
            [
             0.3333333333333333,
             "#9c179e"
            ],
            [
             0.4444444444444444,
             "#bd3786"
            ],
            [
             0.5555555555555556,
             "#d8576b"
            ],
            [
             0.6666666666666666,
             "#ed7953"
            ],
            [
             0.7777777777777778,
             "#fb9f3a"
            ],
            [
             0.8888888888888888,
             "#fdca26"
            ],
            [
             1,
             "#f0f921"
            ]
           ]
          },
          "colorway": [
           "#636efa",
           "#EF553B",
           "#00cc96",
           "#ab63fa",
           "#FFA15A",
           "#19d3f3",
           "#FF6692",
           "#B6E880",
           "#FF97FF",
           "#FECB52"
          ],
          "font": {
           "color": "#2a3f5f"
          },
          "geo": {
           "bgcolor": "white",
           "lakecolor": "white",
           "landcolor": "#E5ECF6",
           "showlakes": true,
           "showland": true,
           "subunitcolor": "white"
          },
          "hoverlabel": {
           "align": "left"
          },
          "hovermode": "closest",
          "mapbox": {
           "style": "light"
          },
          "paper_bgcolor": "white",
          "plot_bgcolor": "#E5ECF6",
          "polar": {
           "angularaxis": {
            "gridcolor": "white",
            "linecolor": "white",
            "ticks": ""
           },
           "bgcolor": "#E5ECF6",
           "radialaxis": {
            "gridcolor": "white",
            "linecolor": "white",
            "ticks": ""
           }
          },
          "scene": {
           "xaxis": {
            "backgroundcolor": "#E5ECF6",
            "gridcolor": "white",
            "gridwidth": 2,
            "linecolor": "white",
            "showbackground": true,
            "ticks": "",
            "zerolinecolor": "white"
           },
           "yaxis": {
            "backgroundcolor": "#E5ECF6",
            "gridcolor": "white",
            "gridwidth": 2,
            "linecolor": "white",
            "showbackground": true,
            "ticks": "",
            "zerolinecolor": "white"
           },
           "zaxis": {
            "backgroundcolor": "#E5ECF6",
            "gridcolor": "white",
            "gridwidth": 2,
            "linecolor": "white",
            "showbackground": true,
            "ticks": "",
            "zerolinecolor": "white"
           }
          },
          "shapedefaults": {
           "line": {
            "color": "#2a3f5f"
           }
          },
          "ternary": {
           "aaxis": {
            "gridcolor": "white",
            "linecolor": "white",
            "ticks": ""
           },
           "baxis": {
            "gridcolor": "white",
            "linecolor": "white",
            "ticks": ""
           },
           "bgcolor": "#E5ECF6",
           "caxis": {
            "gridcolor": "white",
            "linecolor": "white",
            "ticks": ""
           }
          },
          "title": {
           "x": 0.05
          },
          "xaxis": {
           "automargin": true,
           "gridcolor": "white",
           "linecolor": "white",
           "ticks": "",
           "title": {
            "standoff": 15
           },
           "zerolinecolor": "white",
           "zerolinewidth": 2
          },
          "yaxis": {
           "automargin": true,
           "gridcolor": "white",
           "linecolor": "white",
           "ticks": "",
           "title": {
            "standoff": 15
           },
           "zerolinecolor": "white",
           "zerolinewidth": 2
          }
         }
        },
        "xaxis": {
         "anchor": "y",
         "domain": [
          0,
          1
         ],
         "title": {
          "text": "ZCf"
         }
        },
        "yaxis": {
         "anchor": "x",
         "domain": [
          0,
          1
         ],
         "title": {
          "text": "Spec"
         }
        }
       }
      },
      "text/html": [
       "<div>                            <div id=\"dafa02bf-8d66-404b-8556-50ce7e7350d7\" class=\"plotly-graph-div\" style=\"height:525px; width:100%;\"></div>            <script type=\"text/javascript\">                require([\"plotly\"], function(Plotly) {                    window.PLOTLYENV=window.PLOTLYENV || {};                                    if (document.getElementById(\"dafa02bf-8d66-404b-8556-50ce7e7350d7\")) {                    Plotly.newPlot(                        \"dafa02bf-8d66-404b-8556-50ce7e7350d7\",                        [{\"hovertemplate\":\"Surface=WetAsp<br>ZCf=%{x}<br>Spec=%{y}<extra></extra>\",\"legendgroup\":\"WetAsp\",\"marker\":{\"color\":\"#636efa\",\"symbol\":\"circle\"},\"mode\":\"markers\",\"name\":\"WetAsp\",\"orientation\":\"v\",\"showlegend\":true,\"type\":\"scatter\",\"x\":[8387.0,9884.0,10466.0,9659.0,9141.0,6894.0,7752.0,8539.0,8204.0,6707.0,9185.0,12123.0,12527.0,11875.0,11924.0,13849.0,11819.0,10601.0,9557.0,9135.0,8225.0,7120.0,10701.0,11082.0,10554.0,7781.0,9765.0,10141.0,10200.0,9916.0,8617.0,9614.0,10807.0,10963.0,11211.0,11338.0,10657.0,9837.0,9288.0,9063.0,8707.0,9684.0,10132.0,10162.0,11808.0,9281.0,8329.0,9516.0,9445.0,9869.0,9369.0,10506.0,9706.0,10584.0,10045.0,9442.0,10042.0,9397.0,9788.0,10232.0,8534.0,5375.0,8015.0,7984.0,9509.0,9871.0,10000.0,7600.0,7236.0,8666.0,8119.0,7800.0,6117.0,5590.0,5479.0,7867.0,8700.0,8314.0,8084.0,8110.0,10240.0,7370.0,6870.0,10085.0,9748.0,10369.0,10237.0,9898.0,10245.0,9614.0,11459.0,12826.0,8898.0,8899.0,11993.0,10110.0,9437.0,9846.0,10650.0,10074.0,10596.0,9646.0,9905.0,11550.0,11269.0,14343.0,14007.0,8983.0,8304.0],\"xaxis\":\"x\",\"y\":[936.1162765399653,869.1589820451281,978.2654819774413,868.5113810080219,845.7708176252468,721.5411591337694,864.7586451354639,910.5094292394741,992.1898396941965,745.7486271406032,1020.5213730934578,1195.3681650502876,1075.3586465872543,1111.6946043163748,1213.4181831310882,1270.7157597399585,1152.0953376165232,971.6538159038182,907.8287098275838,880.3985727628603,771.2922836408242,785.1900683289539,900.6544275049756,867.8600843360255,865.9327326627351,792.9043076447006,841.8954802682149,876.1927925010543,805.5716022237268,800.5593852118255,804.4277887225584,885.618105679985,1040.4088522073719,968.2038337816383,803.9315489347739,797.5345880346396,756.5737123276512,781.8528786571472,852.2121346364795,862.1518003012475,798.4181972059584,950.4816530239275,1031.939983673328,1037.1246952928052,1150.7329606298188,728.9213148859611,717.6706905746431,920.2395026108366,966.9061448022943,980.3563544095618,947.5094660355718,1074.6248167228923,932.3515646216625,1076.2648940581116,938.6214724710808,849.9274196584753,898.0736675600428,1030.9725396197593,1037.3683826612814,1161.8001291393189,810.0431785650914,695.7731490213629,759.4898798027936,803.0465348123117,918.7806180245309,1049.473944391368,1025.6423566828319,969.6482378466245,879.9778643214853,869.8608862482063,795.1208235772989,822.1288613670946,783.3851454645445,687.4879421030307,694.8346775457392,1082.5600324231148,917.0215649187418,1043.2215985877663,994.2479827171335,855.5669298216686,926.0127972060092,1034.1513837128496,862.498177759535,871.0762307852733,784.710748297188,876.9438340862736,976.3223925466377,883.5923993522619,1031.9520148942715,846.0386239378859,1146.7986465837823,1217.4928866464913,929.6892318346155,858.1986361210113,1207.3180690145468,1117.8275193455768,1025.4917390762319,1112.8417583633327,1222.2536715335557,1185.830086109346,1127.0630929791241,1129.2818447952843,1065.2326379547098,1101.7954399533123,1166.5508262788271,1381.3718678910288,1444.52332752792,1025.9256760236228,975.3336212859057],\"yaxis\":\"y\"},{\"hovertemplate\":\"Surface=WetGrav<br>ZCf=%{x}<br>Spec=%{y}<extra></extra>\",\"legendgroup\":\"WetGrav\",\"marker\":{\"color\":\"#EF553B\",\"symbol\":\"circle\"},\"mode\":\"markers\",\"name\":\"WetGrav\",\"orientation\":\"v\",\"showlegend\":true,\"type\":\"scatter\",\"x\":[13156.0,20817.0,13514.0,14074.0,13145.0,14399.0,12347.0,11757.0,10315.0,11178.0,13602.0,8931.0,9367.0,9473.0,8742.0,12502.0,10462.0,8666.0,8880.0,9652.0,11700.0,10189.0,13080.0,17086.0,22799.0,16171.0,13024.0,18786.0,16163.0,15063.0],\"xaxis\":\"x\",\"y\":[1929.3535419894447,1776.5627131441033,1328.0071675425027,1467.927173998685,1304.3568982359675,1432.873918560046,1292.104351055983,2226.6217363995984,1262.0687187543897,1406.2976112482954,1402.7437669040703,1101.8288448783323,1202.0531348001714,1372.506234645359,1130.605343681894,1536.1722089622967,1322.2414827646664,1145.4588219376953,1074.8582710140781,1168.6831126235052,1169.3151480281147,1158.3541132618464,1328.81529768993,1486.9562035770196,1985.4264610580299,1612.4625005712608,1337.9774333354296,1637.9216964095642,1549.3626822569136,1354.1296093512333],\"yaxis\":\"y\"},{\"hovertemplate\":\"Surface=DryGrav<br>ZCf=%{x}<br>Spec=%{y}<extra></extra>\",\"legendgroup\":\"DryGrav\",\"marker\":{\"color\":\"#00cc96\",\"symbol\":\"circle\"},\"mode\":\"markers\",\"name\":\"DryGrav\",\"orientation\":\"v\",\"showlegend\":true,\"type\":\"scatter\",\"x\":[23898.0,21414.0,20535.0,19891.0,19074.0,21153.0,21151.0,21020.0,20303.0,20533.0,18652.0,16593.0,18604.0,17691.0,17972.0,21558.0,21275.0,21274.0,21339.0,19107.0,21309.0,26547.0,23640.0,19302.0,16936.0,22312.0,17117.0,18333.0,16517.0,18789.0,19327.0,20379.0,22527.0,22212.0,21166.0,22102.0,24290.0,23825.0,23825.0,25488.0,25750.0,25037.0,25720.0,28261.0,26395.0,30247.0,23357.0,19866.0,22372.0,22302.0,15229.0,20252.0,18882.0,14849.0,22828.0,20919.0,22276.0,20116.0,18700.0,20481.0,21784.0,20527.0,18177.0,17678.0,17053.0,18079.0,19654.0,20154.0,20196.0,21196.0,21020.0,20741.0],\"xaxis\":\"x\",\"y\":[2641.2080975727195,1887.3409558251071,1780.0997173463452,2129.1475389081,2362.0896092968683,1958.8170454375934,1762.626400996278,1793.867065088636,1900.63311296138,2114.5092202045453,1782.0711249772414,1617.112568219905,1734.865352021254,1901.7940213747945,1908.4710861105368,1858.017844068745,2009.7834602081673,2046.9943522761555,1959.1051882476518,1836.7325676542669,2018.3220858467619,2162.4289308157113,2123.7223649612265,1829.189218016809,1888.0181421961368,2048.515042926416,2243.9934997579053,1921.9956555824451,1940.6116828366978,1676.8067956540308,1973.0359848050064,1974.5208866824846,1872.0438791950512,2066.4600081282833,2173.525812821172,2316.8741817837395,2356.0256132505565,2187.861253887996,2187.861253887996,2257.6622614751686,2198.946806059892,2206.91897269836,2269.7807416173205,2331.7287201041136,2282.885780680133,2491.278734600117,2234.998164470736,2028.8693568020515,2123.36135542591,2039.512582566941,1680.8182391621642,2066.552546292484,1981.3390700027437,1809.6039884186107,2293.3721869120477,2318.164010460659,2275.0122965340424,2067.8062839550967,2371.234122353941,2399.5677064374004,2153.2452234455964,1751.9538555260212,1746.7492256962034,1925.4046764573552,1582.5745169948668,1587.099101871861,1887.145304904147,1966.2292726273931,2192.1782267972444,1813.300934311016,1896.5779760393928,2123.161799311756],\"yaxis\":\"y\"},{\"hovertemplate\":\"Surface=DryAsp<br>ZCf=%{x}<br>Spec=%{y}<extra></extra>\",\"legendgroup\":\"DryAsp\",\"marker\":{\"color\":\"#ab63fa\",\"symbol\":\"circle\"},\"mode\":\"markers\",\"name\":\"DryAsp\",\"orientation\":\"v\",\"showlegend\":true,\"type\":\"scatter\",\"x\":[23833.0,23250.0,23145.0,23026.0,22701.0,23219.0,22877.0,23735.0,22969.0,21188.0,22072.0,20135.0,21749.0,21814.0,21148.0,21202.0,20818.0,20423.0,20860.0,20780.0,21637.0,20496.0,20626.0,21303.0,20591.0,20112.0,20433.0,23070.0,20094.0,19395.0,19443.0,20217.0,20661.0,20745.0,22923.0,21556.0,20177.0,20177.0,19414.0,20151.0,19851.0,20185.0,18867.0,21667.0,21367.0,21445.0,21445.0,20369.0,21204.0,21601.0,20958.0,22233.0,22233.0,22115.0,22144.0,21626.0,19792.0,20920.0,20895.0,23274.0,23235.0,23108.0,23520.0,22393.0,22519.0,21933.0,21633.0,22792.0,22449.0,23083.0,23211.0,22732.0,24399.0,22890.0,23268.0,23089.0,22553.0,22467.0,22358.0,21598.0,22586.0,22181.0,22274.0,22828.0,23164.0,22426.0,22892.0,23068.0,23593.0,22849.0,22172.0,22131.0,20856.0,20477.0,20432.0,20112.0,22192.0,21521.0,21982.0,20733.0,20731.0,20867.0,22317.0,21739.0,21776.0,22057.0,21847.0,21758.0,23159.0,20663.0,21008.0,19933.0,20480.0,20124.0,20861.0,20299.0,20299.0,19977.0,19572.0,20596.0,21067.0,19889.0,20162.0,21075.0,21304.0,21828.0,21144.0,20464.0,20784.0,22405.0,22796.0,22469.0,21799.0,21968.0,21690.0,21690.0,22724.0,22326.0,21549.0,22847.0,21701.0,22093.0,22081.0,20448.0,21058.0,21925.0,21671.0,22307.0,22094.0,21396.0,22032.0,22068.0,22800.0,21879.0,22208.0,21065.0,21338.0,22263.0,22033.0,21727.0,20946.0,20081.0,21412.0,20335.0,21763.0,22072.0,21698.0,19934.0,21851.0,22099.0,22741.0,22741.0,21247.0,22368.0,22289.0,22024.0,21742.0,22489.0,22179.0,21840.0,21972.0,22122.0,21071.0,21665.0,21675.0,21546.0,21725.0,21642.0,21849.0,21529.0,21529.0,21984.0,21332.0,21341.0,20851.0,21385.0,20799.0,20687.0,21474.0,21491.0,20382.0,20567.0,20191.0,20191.0,19399.0,19399.0,20806.0,20806.0,19923.0,19923.0,20251.0,20251.0,20922.0,20922.0,19257.0,19257.0,21425.0,21425.0,19124.0,19124.0,19950.0,19950.0,21760.0,21760.0,22134.0,22134.0,22728.0,22728.0,22722.0,22722.0,23280.0,23280.0,23019.0,23019.0,22676.0,22676.0,22626.0,22626.0,22774.0,22774.0,22337.0,22337.0,22413.0,22413.0,22313.0,22313.0,22097.0,22097.0,21717.0,21717.0,21696.0,21696.0,21597.0,21597.0,21444.0,21444.0,21444.0,21444.0,21889.0,21889.0,21931.0,21931.0,21931.0,21931.0,21666.0,21666.0,21362.0,21362.0,21384.0,21384.0,21858.0,21858.0,21603.0,21603.0,21577.0,21577.0,21889.0,21889.0,21254.0,21254.0,21285.0,21285.0,21420.0,21420.0,21051.0,21051.0,21051.0,21051.0,21706.0,21706.0,21220.0,21220.0,22218.0,22218.0,21544.0,21544.0,20280.0,20280.0,20922.0,20922.0,22379.0,22379.0,24812.0,18850.0,22302.0,15229.0,20252.0,18882.0,14849.0,22828.0,20919.0,22276.0,20116.0,18700.0,20481.0,21784.0,20527.0,18177.0,17678.0,17053.0,18079.0,19654.0,20154.0,20196.0,21196.0,21020.0,20741.0,18178.0,21640.0,20396.0,20396.0,21232.0,21232.0,20653.0,20653.0,20653.0,20653.0,20631.0,20631.0,21512.0,21512.0,20369.0,20369.0,20360.0,20360.0,20308.0,20308.0,19580.0,19580.0,18761.0,18761.0,20601.0,20601.0,17966.0,17966.0,20263.0,20263.0,21186.0,21186.0,20099.0,20099.0,21476.0,21476.0,21012.0,21012.0,22229.0,22229.0,22444.0,22444.0,20869.0,20869.0,21714.0,21714.0,21922.0,21922.0,21172.0,21172.0,21941.0,21941.0,21352.0,21352.0,21145.0,21145.0,21409.0,21409.0,21928.0,21928.0,22551.0,22551.0,22551.0,22551.0,21755.0,21755.0,20633.0,20633.0,21107.0,21107.0,20507.0,20507.0,20033.0,20033.0,21458.0,21458.0,21614.0,21614.0,21089.0,21089.0,21864.0,21864.0,21713.0,21713.0,21172.0,21172.0,21625.0,21625.0,22405.0,22405.0,22045.0,22045.0,21851.0,21851.0,21819.0,21819.0,21849.0,21849.0,21921.0,21921.0,20596.0,20596.0,20751.0,20751.0,21708.0,21708.0,20932.0,20932.0,20128.0,20128.0,20619.0,20619.0,21188.0,21188.0,20124.0,20124.0,20086.0,20086.0,20423.0,20423.0,19837.0,19837.0,20255.0,20255.0,20432.0,20432.0,19935.0,19935.0,19229.0,19229.0,19597.0,19597.0,20911.0,20911.0,20676.0,20676.0,20676.0,20676.0,19595.0,19595.0,20042.0,20042.0,20108.0,20108.0,19644.0,19644.0,20045.0,20045.0,20394.0,20394.0,20704.0,20704.0,21927.0,21927.0,22395.0,22395.0,22331.0,22331.0,22204.0,22204.0,21760.0,21760.0,21800.0,21800.0,22519.0,22519.0,21909.0,21909.0,21841.0,21841.0,21804.0,21804.0,21236.0,21236.0,21236.0,21067.0,21067.0,21067.0,21067.0,21067.0,21067.0,22130.0,22130.0,22130.0,20667.0,20667.0,20667.0,21195.0,21195.0,21195.0,21653.0,21653.0,21653.0,21530.0,21530.0,21530.0,20973.0,20973.0,20973.0,21012.0,21012.0,21012.0,21569.0,21569.0,21569.0,21078.0,21078.0,21078.0,18223.0,18223.0,18223.0,21386.0,21386.0,21386.0,22705.0,22705.0,22705.0,22640.0,22640.0,22640.0,21883.0,21883.0,21883.0,22352.0,22352.0,22352.0,21391.0,21391.0,21391.0,21852.0,21852.0,21852.0,22804.0,22804.0,22804.0,21413.0,21413.0,21413.0,23254.0,23254.0,23254.0,21316.0,21316.0,21316.0,22388.0,22388.0,22388.0,21676.0,21676.0,21676.0,23030.0,23030.0,23030.0,20692.0,20692.0,20692.0,21754.0,21754.0,21754.0,21867.0,21867.0,21867.0,20288.0,20288.0,20288.0,20156.0,20156.0,20156.0,19710.0,19710.0,19710.0,22338.0,22338.0,22338.0,22338.0,22338.0,22338.0,23731.0,23731.0,23731.0,23731.0,23731.0,23731.0,24080.0,24080.0,24080.0,24122.0,24122.0,24122.0,18332.0,18332.0,18332.0,20084.0,20084.0,20084.0,20258.0,20258.0,20258.0,20032.0,20032.0,20032.0,20491.0,20491.0,20491.0,23390.0,23390.0,23390.0,20032.0,20032.0,21825.0,21825.0,19145.0,19145.0,18493.0,18493.0,21693.0,21693.0,21422.0,21890.0,22788.0,19257.0,19861.0,21613.0,22554.0,22554.0,22127.0,22722.0,24074.0,20158.0,21416.0,20495.0,22466.0,23609.0,20493.0,21487.0,21949.0,22109.0,23509.0,23344.0,20806.0,22303.0,23347.0],\"xaxis\":\"x\",\"y\":[1564.472912054839,1557.8334433967075,1535.9950704888572,1562.0663392310635,1527.2675677294305,1557.1731517156131,1532.8162612965837,1593.0002993191326,1561.9748946624472,1449.9085558371094,1480.235643885579,1438.3974579527153,1584.3847817600724,1470.6767950509213,1456.769527186702,1477.4328797213489,1453.9108309175679,1428.2601765455343,1453.0037670369607,1483.4873966182276,1518.6824793668538,1454.4636321256437,1433.3923700134926,1515.332324506011,1443.2379634576755,1442.5265630978868,1409.2836089282148,1571.7832550159626,1402.738099917569,1840.2413396262493,1385.2546820669752,1417.6151051554295,1536.0400525939112,1465.2817990520425,1631.5871904164762,1684.6368693179325,1434.6174718320462,1434.6174718320462,1449.4718725779578,1395.1380306564452,1396.9864586001809,1752.903903719343,1478.2639870555724,1487.3860134715917,1500.1642458053832,1483.6890972694518,1483.6890972694518,1392.715871621648,1455.1649576364846,1493.034875948375,1427.5024733319083,1523.1694977708605,1523.1694977708605,1495.6545364506655,1516.2005141503628,1478.1619861085248,1407.0800906526679,1471.3289147147775,1457.5122935537174,1577.813085956218,1572.0327078018868,1595.5489380366398,1550.5814969891978,1495.8322730410923,1498.2246237229417,1495.3260523655742,1466.4478021968216,1537.5283991610713,1473.7421733692222,1555.276313525966,1534.2121802805016,1522.072557652642,1572.4220188568183,1494.5526992456173,1545.6007789707546,1524.7558633369931,1522.1191391226744,1498.262555051871,1515.795390764081,1493.8974520917723,1514.7481870734207,1478.9693878893793,1490.3270974122356,1501.9298423578614,1537.3497941488374,1495.792492660721,1587.4362586436512,1554.4339766795051,1544.088942471337,1501.8060509284687,1504.7901625057425,1460.5346288842773,1426.8335850045871,1400.6379553581526,1433.712489480506,1392.7538746378268,1466.4683608293979,1437.8323203892812,1498.359657944326,1411.2578842734918,1425.464859243404,1415.2949186207616,1463.3480366015908,1435.3615254910035,1421.2837330297334,1467.3119384536317,1457.7365681644078,1453.0327333080743,1446.0515320376608,1356.6266669041488,1417.469819760194,1371.6147216527186,1354.8892329991077,1374.841118660136,1437.5289889342196,1440.9763397810755,1440.9763397810755,1908.1172301607037,1442.4676866588143,1396.223940410963,1822.2695816535274,1449.498940106987,1399.2405988271153,1409.504430573951,1496.3401870720818,1466.4256556118012,1376.438746085847,1421.5052943605142,1432.7603285725515,1481.1137864616535,1514.736986146601,1507.7719211313122,1465.305996073175,1489.1066202204736,1450.6557747599786,1450.6557747599786,1484.1616909885279,1527.6684386558036,1431.3718582500708,1509.1058127865579,1431.461421231218,1443.523512664564,1447.4153689569623,1383.2609274091776,1416.993807008096,1427.7748908379913,1539.168621678068,1463.1155178497402,1445.5279265068002,1411.9742057547185,1426.6243620078342,1430.3428259634552,1489.0916026239938,1409.1202734410706,1449.444356834683,1416.8569075040068,1444.636962898914,1461.1796867187388,1445.9422751885663,1423.434742049405,1404.5324712931097,1347.0339025164037,1438.428734348553,1375.4247625054718,1429.8759232504926,1468.0973266333178,1623.1337887514924,1514.9324237558924,1503.1579649647026,1458.2485439281588,1454.696547245848,1454.696547245848,1393.794303862612,1783.4912876192088,1533.0268800562849,1452.452485956985,1428.0215857423955,1505.502252866234,1478.1174775918576,1485.9597825012743,1535.464791029817,1442.0736503096732,1419.7476232752895,1447.5659992335973,1434.615718328839,1432.3752527073643,1459.7771893405888,1470.38901759428,1472.9722112710992,1497.6480799730189,1497.6480799730189,1492.7718565028367,1414.853531257516,1415.4878699584476,1349.209279256182,1439.1183222646448,1390.8393794886656,1388.7718512101117,1599.2168128284914,1422.7138238220948,1528.237801536635,1373.0142062704126,1638.26073637047,1638.26073637047,1361.9727400318843,1361.9727400318843,1406.4500170099482,1406.4500170099482,1388.1081020809881,1388.1081020809881,1507.4078687426916,1507.4078687426916,1452.0814937872349,1452.0814937872349,1379.6823700861362,1379.6823700861362,1581.6536052835206,1581.6536052835206,1370.62101285672,1370.62101285672,1659.9328412342736,1659.9328412342736,1727.9375603548378,1727.9375603548378,1811.5388890927632,1811.5388890927632,1870.2134495606088,1870.2134495606088,1872.6152789611592,1872.6152789611592,1863.6890058769634,1863.6890058769634,1844.7295288529263,1844.7295288529263,1840.7922236522331,1840.7922236522331,1853.228146472156,1853.228146472156,1834.6482091878618,1834.6482091878618,1811.64426404381,1811.64426404381,1814.9838132162665,1814.9838132162665,1838.2038556359234,1838.2038556359234,1911.9181019482326,1911.9181019482326,1949.3466978934257,1949.3466978934257,1975.6651917377953,1975.6651917377953,1962.4839496541063,1962.4839496541063,1953.3602196726565,1953.3602196726565,1953.3602196726565,1953.3602196726565,1966.0119372301797,1966.0119372301797,1973.948208453744,1973.948208453744,1973.948208453744,1973.948208453744,1961.1952581142527,1961.1952581142527,1963.8574496970696,1963.8574496970696,1940.8062584866595,1940.8062584866595,1973.8698185200162,1973.8698185200162,1949.4419591971819,1949.4419591971819,1979.1971403665927,1979.1971403665927,1975.9360059845176,1975.9360059845176,1930.8000125685674,1930.8000125685674,1885.5111760526634,1885.5111760526634,1887.07607421023,1887.07607421023,1840.4050928826525,1840.4050928826525,1840.4050928826525,1840.4050928826525,1897.522667757849,1897.522667757849,1826.677777238298,1826.677777238298,1632.7677229353048,1632.7677229353048,1547.9523272596884,1547.9523272596884,1397.4336670518708,1397.4336670518708,1935.1867696480722,1935.1867696480722,2010.4733440233406,2010.4733440233406,2254.926320489392,1950.538887226052,2039.512582566941,1680.8182391621642,2066.552546292484,1981.3390700027437,1809.6039884186107,2293.3721869120477,2318.164010460659,2275.0122965340424,2067.8062839550967,2371.234122353941,2399.5677064374004,2153.2452234455964,1751.9538555260212,1746.7492256962034,1925.4046764573552,1582.5745169948668,1587.099101871861,1887.145304904147,1966.2292726273931,2192.1782267972444,1813.300934311016,1896.5779760393928,2123.161799311756,1926.7401019838073,2292.2848075711718,1527.7121936935475,1527.7121936935475,1501.4202586892354,1501.4202586892354,1460.8879970975565,1460.8879970975565,1460.8879970975565,1460.8879970975565,1406.13954328571,1406.13954328571,1445.4898682944342,1445.4898682944342,1362.6941663887296,1362.6941663887296,1395.4762871329021,1395.4762871329021,1468.7944957193865,1468.7944957193865,1433.3108989479172,1433.3108989479172,1300.0751575891784,1300.0751575891784,1433.7956215529366,1433.7956215529366,1279.4697897945434,1279.4697897945434,1455.8773364476897,1455.8773364476897,1410.0452590284021,1410.0452590284021,1365.1086626904726,1365.1086626904726,1719.1588006926486,1719.1588006926486,1847.418740018277,1847.418740018277,1977.941725451403,1977.941725451403,2006.3207635470487,2006.3207635470487,1923.5654147940595,1923.5654147940595,1972.8305047216386,1972.8305047216386,2021.0664865974372,2021.0664865974372,1961.4086867345145,1961.4086867345145,1987.3348051530202,1987.3348051530202,1952.7225383551834,1952.7225383551834,1936.9554362165939,1936.9554362165939,1967.3541763322469,1967.3541763322469,1995.7854558583563,1995.7854558583563,2028.6324862416946,2028.6324862416946,2028.6324862416946,2028.6324862416946,1962.888796132273,1962.888796132273,1865.8622242085066,1865.8622242085066,1898.0356482080624,1898.0356482080624,1870.0439097410147,1870.0439097410147,1869.2362618942834,1869.2362618942834,1951.5768799689354,1951.5768799689354,1963.5911496745741,1963.5911496745741,1915.8862351585667,1915.8862351585667,1910.456326469458,1910.456326469458,1726.5260300705895,1726.5260300705895,1928.499811075434,1928.499811075434,1944.333596953701,1944.333596953701,1970.8154880071359,1970.8154880071359,1967.6953730219127,1967.6953730219127,1962.1658838622964,1962.1658838622964,1958.5570419595301,1958.5570419595301,1929.8548187573472,1929.8548187573472,1897.4716494683885,1897.4716494683885,1839.8035936721096,1839.8035936721096,1837.8406554673975,1837.8406554673975,1951.2311943008262,1951.2311943008262,1901.8077979277966,1901.8077979277966,1848.2107212737847,1848.2107212737847,1871.6257495092684,1871.6257495092684,1887.6584756788316,1887.6584756788316,1882.6441267362225,1882.6441267362225,1864.020102089044,1864.020102089044,1879.2251108335056,1879.2251108335056,1849.4933951877435,1849.4933951877435,1854.13893363479,1854.13893363479,1867.7447305665573,1867.7447305665573,1851.9425581878027,1851.9425581878027,1773.013494029232,1773.013494029232,1771.1658859713707,1771.1658859713707,1815.6905692836165,1815.6905692836165,1840.190848061695,1840.190848061695,1840.190848061695,1840.190848061695,1737.997241754161,1737.997241754161,1850.0757684138132,1850.0757684138132,1838.6572293556878,1838.6572293556878,1801.0479421726193,1801.0479421726193,1838.3824701232363,1838.3824701232363,1798.8905054814566,1798.8905054814566,1641.1245606236364,1641.1245606236364,1501.8120630764113,1501.8120630764113,1493.2527979913289,1493.2527979913289,1527.8586360277823,1527.8586360277823,1521.3888845537076,1521.3888845537076,1525.9049599879452,1525.9049599879452,1474.9318529416662,1474.9318529416662,1494.2838099188846,1494.2838099188846,1478.8462124014409,1478.8462124014409,1466.7869070343727,1466.7869070343727,1514.6942423826574,1514.6942423826574,1447.060942781601,1447.060942781601,1447.060942781601,1403.2649804005523,1403.2649804005523,1403.2649804005523,1403.2649804005523,1403.2649804005523,1403.2649804005523,1513.309665963176,1513.309665963176,1513.309665963176,1569.0956863444726,1569.0956863444726,1569.0956863444726,1501.2917081658068,1501.2917081658068,1501.2917081658068,1442.0146387203795,1442.0146387203795,1442.0146387203795,1439.0024008697892,1439.0024008697892,1439.0024008697892,1403.6316355003075,1403.6316355003075,1403.6316355003075,1402.6700118263916,1402.6700118263916,1402.6700118263916,1457.7177420001708,1457.7177420001708,1457.7177420001708,1398.7904523424156,1398.7904523424156,1398.7904523424156,1536.945380235612,1536.945380235612,1536.945380235612,1888.396420702876,1888.396420702876,1888.396420702876,2052.8855365648674,2052.8855365648674,2052.8855365648674,1856.1403476608646,1856.1403476608646,1856.1403476608646,1544.220259087467,1544.220259087467,1544.220259087467,1602.7892814844654,1602.7892814844654,1602.7892814844654,1806.8528061496686,1806.8528061496686,1806.8528061496686,1512.4681049771048,1512.4681049771048,1512.4681049771048,1508.0789636201112,1508.0789636201112,1508.0789636201112,1447.4177028961744,1447.4177028961744,1447.4177028961744,1858.4600421603996,1858.4600421603996,1858.4600421603996,1517.978872730634,1517.978872730634,1517.978872730634,1497.3920543902636,1497.3920543902636,1497.3920543902636,1506.7922794954973,1506.7922794954973,1506.7922794954973,1533.9070058546006,1533.9070058546006,1533.9070058546006,1481.4807165595294,1481.4807165595294,1481.4807165595294,2616.679693778551,2616.679693778551,2616.679693778551,2769.8249133336058,2769.8249133336058,2769.8249133336058,2324.523173936147,2324.523173936147,2324.523173936147,1457.466978981097,1457.466978981097,1457.466978981097,1521.0942123856148,1521.0942123856148,1521.0942123856148,1855.1578867370172,1855.1578867370172,1855.1578867370172,1855.1578867370172,1855.1578867370172,1855.1578867370172,2197.508862805824,2197.508862805824,2197.508862805824,2197.508862805824,2197.508862805824,2197.508862805824,2231.3485393273445,2231.3485393273445,2231.3485393273445,2240.8712840028097,2240.8712840028097,2240.8712840028097,1396.3165027264495,1396.3165027264495,1396.3165027264495,1439.5510946446439,1439.5510946446439,1439.5510946446439,1377.8247000175807,1377.8247000175807,1377.8247000175807,1355.0718392634374,1355.0718392634374,1355.0718392634374,1495.0311460606315,1495.0311460606315,1495.0311460606315,1993.3976160416748,1993.3976160416748,1993.3976160416748,1917.3310470265953,1917.3310470265953,1656.5651323252832,1656.5651323252832,1308.3476629661827,1308.3476629661827,1335.8319458814385,1335.8319458814385,1498.033751631381,1498.033751631381,1582.807268553283,2093.0221090367418,1607.1012586649035,1379.9598500519605,1680.5350864668121,2157.1273293062823,2258.092663533926,2258.092663533926,1992.3218519882146,2004.0823251807071,1807.558293896002,1466.4925351926659,1444.7244769362076,1405.8103151946939,1871.222888921034,2049.904899205749,1512.204301748103,1483.2182302557173,1491.2662939494294,1510.9789702062167,1716.408648214385,1726.9419849412413,1423.3740443101608,1498.312835220401,1561.3140069533365],\"yaxis\":\"y\"}],                        {\"legend\":{\"title\":{\"text\":\"Surface\"},\"tracegroupgap\":0},\"margin\":{\"t\":60},\"template\":{\"data\":{\"bar\":[{\"error_x\":{\"color\":\"#2a3f5f\"},\"error_y\":{\"color\":\"#2a3f5f\"},\"marker\":{\"line\":{\"color\":\"#E5ECF6\",\"width\":0.5},\"pattern\":{\"fillmode\":\"overlay\",\"size\":10,\"solidity\":0.2}},\"type\":\"bar\"}],\"barpolar\":[{\"marker\":{\"line\":{\"color\":\"#E5ECF6\",\"width\":0.5},\"pattern\":{\"fillmode\":\"overlay\",\"size\":10,\"solidity\":0.2}},\"type\":\"barpolar\"}],\"carpet\":[{\"aaxis\":{\"endlinecolor\":\"#2a3f5f\",\"gridcolor\":\"white\",\"linecolor\":\"white\",\"minorgridcolor\":\"white\",\"startlinecolor\":\"#2a3f5f\"},\"baxis\":{\"endlinecolor\":\"#2a3f5f\",\"gridcolor\":\"white\",\"linecolor\":\"white\",\"minorgridcolor\":\"white\",\"startlinecolor\":\"#2a3f5f\"},\"type\":\"carpet\"}],\"choropleth\":[{\"colorbar\":{\"outlinewidth\":0,\"ticks\":\"\"},\"type\":\"choropleth\"}],\"contour\":[{\"colorbar\":{\"outlinewidth\":0,\"ticks\":\"\"},\"colorscale\":[[0.0,\"#0d0887\"],[0.1111111111111111,\"#46039f\"],[0.2222222222222222,\"#7201a8\"],[0.3333333333333333,\"#9c179e\"],[0.4444444444444444,\"#bd3786\"],[0.5555555555555556,\"#d8576b\"],[0.6666666666666666,\"#ed7953\"],[0.7777777777777778,\"#fb9f3a\"],[0.8888888888888888,\"#fdca26\"],[1.0,\"#f0f921\"]],\"type\":\"contour\"}],\"contourcarpet\":[{\"colorbar\":{\"outlinewidth\":0,\"ticks\":\"\"},\"type\":\"contourcarpet\"}],\"heatmap\":[{\"colorbar\":{\"outlinewidth\":0,\"ticks\":\"\"},\"colorscale\":[[0.0,\"#0d0887\"],[0.1111111111111111,\"#46039f\"],[0.2222222222222222,\"#7201a8\"],[0.3333333333333333,\"#9c179e\"],[0.4444444444444444,\"#bd3786\"],[0.5555555555555556,\"#d8576b\"],[0.6666666666666666,\"#ed7953\"],[0.7777777777777778,\"#fb9f3a\"],[0.8888888888888888,\"#fdca26\"],[1.0,\"#f0f921\"]],\"type\":\"heatmap\"}],\"heatmapgl\":[{\"colorbar\":{\"outlinewidth\":0,\"ticks\":\"\"},\"colorscale\":[[0.0,\"#0d0887\"],[0.1111111111111111,\"#46039f\"],[0.2222222222222222,\"#7201a8\"],[0.3333333333333333,\"#9c179e\"],[0.4444444444444444,\"#bd3786\"],[0.5555555555555556,\"#d8576b\"],[0.6666666666666666,\"#ed7953\"],[0.7777777777777778,\"#fb9f3a\"],[0.8888888888888888,\"#fdca26\"],[1.0,\"#f0f921\"]],\"type\":\"heatmapgl\"}],\"histogram\":[{\"marker\":{\"pattern\":{\"fillmode\":\"overlay\",\"size\":10,\"solidity\":0.2}},\"type\":\"histogram\"}],\"histogram2d\":[{\"colorbar\":{\"outlinewidth\":0,\"ticks\":\"\"},\"colorscale\":[[0.0,\"#0d0887\"],[0.1111111111111111,\"#46039f\"],[0.2222222222222222,\"#7201a8\"],[0.3333333333333333,\"#9c179e\"],[0.4444444444444444,\"#bd3786\"],[0.5555555555555556,\"#d8576b\"],[0.6666666666666666,\"#ed7953\"],[0.7777777777777778,\"#fb9f3a\"],[0.8888888888888888,\"#fdca26\"],[1.0,\"#f0f921\"]],\"type\":\"histogram2d\"}],\"histogram2dcontour\":[{\"colorbar\":{\"outlinewidth\":0,\"ticks\":\"\"},\"colorscale\":[[0.0,\"#0d0887\"],[0.1111111111111111,\"#46039f\"],[0.2222222222222222,\"#7201a8\"],[0.3333333333333333,\"#9c179e\"],[0.4444444444444444,\"#bd3786\"],[0.5555555555555556,\"#d8576b\"],[0.6666666666666666,\"#ed7953\"],[0.7777777777777778,\"#fb9f3a\"],[0.8888888888888888,\"#fdca26\"],[1.0,\"#f0f921\"]],\"type\":\"histogram2dcontour\"}],\"mesh3d\":[{\"colorbar\":{\"outlinewidth\":0,\"ticks\":\"\"},\"type\":\"mesh3d\"}],\"parcoords\":[{\"line\":{\"colorbar\":{\"outlinewidth\":0,\"ticks\":\"\"}},\"type\":\"parcoords\"}],\"pie\":[{\"automargin\":true,\"type\":\"pie\"}],\"scatter\":[{\"marker\":{\"colorbar\":{\"outlinewidth\":0,\"ticks\":\"\"}},\"type\":\"scatter\"}],\"scatter3d\":[{\"line\":{\"colorbar\":{\"outlinewidth\":0,\"ticks\":\"\"}},\"marker\":{\"colorbar\":{\"outlinewidth\":0,\"ticks\":\"\"}},\"type\":\"scatter3d\"}],\"scattercarpet\":[{\"marker\":{\"colorbar\":{\"outlinewidth\":0,\"ticks\":\"\"}},\"type\":\"scattercarpet\"}],\"scattergeo\":[{\"marker\":{\"colorbar\":{\"outlinewidth\":0,\"ticks\":\"\"}},\"type\":\"scattergeo\"}],\"scattergl\":[{\"marker\":{\"colorbar\":{\"outlinewidth\":0,\"ticks\":\"\"}},\"type\":\"scattergl\"}],\"scattermapbox\":[{\"marker\":{\"colorbar\":{\"outlinewidth\":0,\"ticks\":\"\"}},\"type\":\"scattermapbox\"}],\"scatterpolar\":[{\"marker\":{\"colorbar\":{\"outlinewidth\":0,\"ticks\":\"\"}},\"type\":\"scatterpolar\"}],\"scatterpolargl\":[{\"marker\":{\"colorbar\":{\"outlinewidth\":0,\"ticks\":\"\"}},\"type\":\"scatterpolargl\"}],\"scatterternary\":[{\"marker\":{\"colorbar\":{\"outlinewidth\":0,\"ticks\":\"\"}},\"type\":\"scatterternary\"}],\"surface\":[{\"colorbar\":{\"outlinewidth\":0,\"ticks\":\"\"},\"colorscale\":[[0.0,\"#0d0887\"],[0.1111111111111111,\"#46039f\"],[0.2222222222222222,\"#7201a8\"],[0.3333333333333333,\"#9c179e\"],[0.4444444444444444,\"#bd3786\"],[0.5555555555555556,\"#d8576b\"],[0.6666666666666666,\"#ed7953\"],[0.7777777777777778,\"#fb9f3a\"],[0.8888888888888888,\"#fdca26\"],[1.0,\"#f0f921\"]],\"type\":\"surface\"}],\"table\":[{\"cells\":{\"fill\":{\"color\":\"#EBF0F8\"},\"line\":{\"color\":\"white\"}},\"header\":{\"fill\":{\"color\":\"#C8D4E3\"},\"line\":{\"color\":\"white\"}},\"type\":\"table\"}]},\"layout\":{\"annotationdefaults\":{\"arrowcolor\":\"#2a3f5f\",\"arrowhead\":0,\"arrowwidth\":1},\"autotypenumbers\":\"strict\",\"coloraxis\":{\"colorbar\":{\"outlinewidth\":0,\"ticks\":\"\"}},\"colorscale\":{\"diverging\":[[0,\"#8e0152\"],[0.1,\"#c51b7d\"],[0.2,\"#de77ae\"],[0.3,\"#f1b6da\"],[0.4,\"#fde0ef\"],[0.5,\"#f7f7f7\"],[0.6,\"#e6f5d0\"],[0.7,\"#b8e186\"],[0.8,\"#7fbc41\"],[0.9,\"#4d9221\"],[1,\"#276419\"]],\"sequential\":[[0.0,\"#0d0887\"],[0.1111111111111111,\"#46039f\"],[0.2222222222222222,\"#7201a8\"],[0.3333333333333333,\"#9c179e\"],[0.4444444444444444,\"#bd3786\"],[0.5555555555555556,\"#d8576b\"],[0.6666666666666666,\"#ed7953\"],[0.7777777777777778,\"#fb9f3a\"],[0.8888888888888888,\"#fdca26\"],[1.0,\"#f0f921\"]],\"sequentialminus\":[[0.0,\"#0d0887\"],[0.1111111111111111,\"#46039f\"],[0.2222222222222222,\"#7201a8\"],[0.3333333333333333,\"#9c179e\"],[0.4444444444444444,\"#bd3786\"],[0.5555555555555556,\"#d8576b\"],[0.6666666666666666,\"#ed7953\"],[0.7777777777777778,\"#fb9f3a\"],[0.8888888888888888,\"#fdca26\"],[1.0,\"#f0f921\"]]},\"colorway\":[\"#636efa\",\"#EF553B\",\"#00cc96\",\"#ab63fa\",\"#FFA15A\",\"#19d3f3\",\"#FF6692\",\"#B6E880\",\"#FF97FF\",\"#FECB52\"],\"font\":{\"color\":\"#2a3f5f\"},\"geo\":{\"bgcolor\":\"white\",\"lakecolor\":\"white\",\"landcolor\":\"#E5ECF6\",\"showlakes\":true,\"showland\":true,\"subunitcolor\":\"white\"},\"hoverlabel\":{\"align\":\"left\"},\"hovermode\":\"closest\",\"mapbox\":{\"style\":\"light\"},\"paper_bgcolor\":\"white\",\"plot_bgcolor\":\"#E5ECF6\",\"polar\":{\"angularaxis\":{\"gridcolor\":\"white\",\"linecolor\":\"white\",\"ticks\":\"\"},\"bgcolor\":\"#E5ECF6\",\"radialaxis\":{\"gridcolor\":\"white\",\"linecolor\":\"white\",\"ticks\":\"\"}},\"scene\":{\"xaxis\":{\"backgroundcolor\":\"#E5ECF6\",\"gridcolor\":\"white\",\"gridwidth\":2,\"linecolor\":\"white\",\"showbackground\":true,\"ticks\":\"\",\"zerolinecolor\":\"white\"},\"yaxis\":{\"backgroundcolor\":\"#E5ECF6\",\"gridcolor\":\"white\",\"gridwidth\":2,\"linecolor\":\"white\",\"showbackground\":true,\"ticks\":\"\",\"zerolinecolor\":\"white\"},\"zaxis\":{\"backgroundcolor\":\"#E5ECF6\",\"gridcolor\":\"white\",\"gridwidth\":2,\"linecolor\":\"white\",\"showbackground\":true,\"ticks\":\"\",\"zerolinecolor\":\"white\"}},\"shapedefaults\":{\"line\":{\"color\":\"#2a3f5f\"}},\"ternary\":{\"aaxis\":{\"gridcolor\":\"white\",\"linecolor\":\"white\",\"ticks\":\"\"},\"baxis\":{\"gridcolor\":\"white\",\"linecolor\":\"white\",\"ticks\":\"\"},\"bgcolor\":\"#E5ECF6\",\"caxis\":{\"gridcolor\":\"white\",\"linecolor\":\"white\",\"ticks\":\"\"}},\"title\":{\"x\":0.05},\"xaxis\":{\"automargin\":true,\"gridcolor\":\"white\",\"linecolor\":\"white\",\"ticks\":\"\",\"title\":{\"standoff\":15},\"zerolinecolor\":\"white\",\"zerolinewidth\":2},\"yaxis\":{\"automargin\":true,\"gridcolor\":\"white\",\"linecolor\":\"white\",\"ticks\":\"\",\"title\":{\"standoff\":15},\"zerolinecolor\":\"white\",\"zerolinewidth\":2}}},\"xaxis\":{\"anchor\":\"y\",\"domain\":[0.0,1.0],\"title\":{\"text\":\"ZCf\"}},\"yaxis\":{\"anchor\":\"x\",\"domain\":[0.0,1.0],\"title\":{\"text\":\"Spec\"}}},                        {\"responsive\": true}                    ).then(function(){\n",
       "                            \n",
       "var gd = document.getElementById('dafa02bf-8d66-404b-8556-50ce7e7350d7');\n",
       "var x = new MutationObserver(function (mutations, observer) {{\n",
       "        var display = window.getComputedStyle(gd).display;\n",
       "        if (!display || display === 'none') {{\n",
       "            console.log([gd, 'removed!']);\n",
       "            Plotly.purge(gd);\n",
       "            observer.disconnect();\n",
       "        }}\n",
       "}});\n",
       "\n",
       "// Listen for the removal of the full notebook cells\n",
       "var notebookContainer = gd.closest('#notebook-container');\n",
       "if (notebookContainer) {{\n",
       "    x.observe(notebookContainer, {childList: true});\n",
       "}}\n",
       "\n",
       "// Listen for the clearing of the current output cell\n",
       "var outputEl = gd.closest('.output');\n",
       "if (outputEl) {{\n",
       "    x.observe(outputEl, {childList: true});\n",
       "}}\n",
       "\n",
       "                        })                };                });            </script>        </div>"
      ]
     },
     "metadata": {},
     "output_type": "display_data"
    }
   ],
   "source": [
    "fig = px.scatter(adf, x=\"ZCf\", y=\"Spec\", color=\"Surface\")\n",
    "fig.show()"
   ]
  },
  {
   "cell_type": "code",
   "execution_count": 198,
   "metadata": {},
   "outputs": [
    {
     "data": {
      "text/html": [
       "<div>\n",
       "<style scoped>\n",
       "    .dataframe tbody tr th:only-of-type {\n",
       "        vertical-align: middle;\n",
       "    }\n",
       "\n",
       "    .dataframe tbody tr th {\n",
       "        vertical-align: top;\n",
       "    }\n",
       "\n",
       "    .dataframe thead th {\n",
       "        text-align: right;\n",
       "    }\n",
       "</style>\n",
       "<table border=\"1\" class=\"dataframe\">\n",
       "  <thead>\n",
       "    <tr style=\"text-align: right;\">\n",
       "      <th></th>\n",
       "      <th>Surface</th>\n",
       "      <th>RMS</th>\n",
       "      <th>RMSf</th>\n",
       "      <th>ZC</th>\n",
       "      <th>ZCf</th>\n",
       "      <th>Spec</th>\n",
       "      <th>Specf</th>\n",
       "      <th>Specslo</th>\n",
       "      <th>Specslof</th>\n",
       "      <th>Specspr</th>\n",
       "      <th>Specsprf</th>\n",
       "      <th>STD</th>\n",
       "      <th>STDf</th>\n",
       "      <th>Rhythm</th>\n",
       "    </tr>\n",
       "  </thead>\n",
       "  <tbody>\n",
       "    <tr>\n",
       "      <th>1</th>\n",
       "      <td>G1</td>\n",
       "      <td>51.052199</td>\n",
       "      <td>370.821307</td>\n",
       "      <td>16049.0</td>\n",
       "      <td>20817.0</td>\n",
       "      <td>1776.562713</td>\n",
       "      <td>1948.456806</td>\n",
       "      <td>-1.041633e-09</td>\n",
       "      <td>-1.022273e-09</td>\n",
       "      <td>2229.694097</td>\n",
       "      <td>2250.919703</td>\n",
       "      <td>476.895541</td>\n",
       "      <td>370.821307</td>\n",
       "      <td>G1</td>\n",
       "    </tr>\n",
       "    <tr>\n",
       "      <th>2</th>\n",
       "      <td>G1</td>\n",
       "      <td>33.457894</td>\n",
       "      <td>634.612336</td>\n",
       "      <td>10548.0</td>\n",
       "      <td>13514.0</td>\n",
       "      <td>1328.007168</td>\n",
       "      <td>1514.384964</td>\n",
       "      <td>-1.092153e-09</td>\n",
       "      <td>-1.071162e-09</td>\n",
       "      <td>1956.645926</td>\n",
       "      <td>2003.004965</td>\n",
       "      <td>844.475609</td>\n",
       "      <td>634.612329</td>\n",
       "      <td>G1</td>\n",
       "    </tr>\n",
       "    <tr>\n",
       "      <th>3</th>\n",
       "      <td>G1</td>\n",
       "      <td>28.178588</td>\n",
       "      <td>889.357740</td>\n",
       "      <td>11494.0</td>\n",
       "      <td>14074.0</td>\n",
       "      <td>1467.927174</td>\n",
       "      <td>1612.248922</td>\n",
       "      <td>-1.076394e-09</td>\n",
       "      <td>-1.060139e-09</td>\n",
       "      <td>2023.599560</td>\n",
       "      <td>2037.077885</td>\n",
       "      <td>1082.974500</td>\n",
       "      <td>889.357734</td>\n",
       "      <td>G1</td>\n",
       "    </tr>\n",
       "    <tr>\n",
       "      <th>4</th>\n",
       "      <td>G1</td>\n",
       "      <td>32.018604</td>\n",
       "      <td>807.805273</td>\n",
       "      <td>11281.0</td>\n",
       "      <td>13145.0</td>\n",
       "      <td>1304.356898</td>\n",
       "      <td>1441.542442</td>\n",
       "      <td>-1.094817e-09</td>\n",
       "      <td>-1.079366e-09</td>\n",
       "      <td>1857.789793</td>\n",
       "      <td>1916.264282</td>\n",
       "      <td>938.817379</td>\n",
       "      <td>807.805270</td>\n",
       "      <td>G1</td>\n",
       "    </tr>\n",
       "    <tr>\n",
       "      <th>5</th>\n",
       "      <td>G1</td>\n",
       "      <td>32.636435</td>\n",
       "      <td>722.625523</td>\n",
       "      <td>11877.0</td>\n",
       "      <td>14399.0</td>\n",
       "      <td>1432.873919</td>\n",
       "      <td>1613.936793</td>\n",
       "      <td>-1.080342e-09</td>\n",
       "      <td>-1.059949e-09</td>\n",
       "      <td>2026.102258</td>\n",
       "      <td>2100.303256</td>\n",
       "      <td>897.320860</td>\n",
       "      <td>722.625520</td>\n",
       "      <td>G1</td>\n",
       "    </tr>\n",
       "    <tr>\n",
       "      <th>...</th>\n",
       "      <td>...</td>\n",
       "      <td>...</td>\n",
       "      <td>...</td>\n",
       "      <td>...</td>\n",
       "      <td>...</td>\n",
       "      <td>...</td>\n",
       "      <td>...</td>\n",
       "      <td>...</td>\n",
       "      <td>...</td>\n",
       "      <td>...</td>\n",
       "      <td>...</td>\n",
       "      <td>...</td>\n",
       "      <td>...</td>\n",
       "      <td>...</td>\n",
       "    </tr>\n",
       "    <tr>\n",
       "      <th>67</th>\n",
       "      <td>G2</td>\n",
       "      <td>9.644369</td>\n",
       "      <td>4871.941381</td>\n",
       "      <td>18369.0</td>\n",
       "      <td>20154.0</td>\n",
       "      <td>1966.229273</td>\n",
       "      <td>2081.387942</td>\n",
       "      <td>-1.091689e-09</td>\n",
       "      <td>-1.077812e-09</td>\n",
       "      <td>2752.674709</td>\n",
       "      <td>2789.271224</td>\n",
       "      <td>5389.568104</td>\n",
       "      <td>4871.941381</td>\n",
       "      <td>G2</td>\n",
       "    </tr>\n",
       "    <tr>\n",
       "      <th>68</th>\n",
       "      <td>G2</td>\n",
       "      <td>9.759560</td>\n",
       "      <td>4730.318885</td>\n",
       "      <td>18495.0</td>\n",
       "      <td>20196.0</td>\n",
       "      <td>2192.178227</td>\n",
       "      <td>2318.908897</td>\n",
       "      <td>-1.064460e-09</td>\n",
       "      <td>-1.049187e-09</td>\n",
       "      <td>3044.665498</td>\n",
       "      <td>3086.418993</td>\n",
       "      <td>5269.284526</td>\n",
       "      <td>4730.318836</td>\n",
       "      <td>G2</td>\n",
       "    </tr>\n",
       "    <tr>\n",
       "      <th>69</th>\n",
       "      <td>G2</td>\n",
       "      <td>6.779926</td>\n",
       "      <td>4685.761166</td>\n",
       "      <td>19012.0</td>\n",
       "      <td>21196.0</td>\n",
       "      <td>1813.300934</td>\n",
       "      <td>1934.227518</td>\n",
       "      <td>-1.110119e-09</td>\n",
       "      <td>-1.095546e-09</td>\n",
       "      <td>2465.307969</td>\n",
       "      <td>2503.431501</td>\n",
       "      <td>5333.183836</td>\n",
       "      <td>4685.761015</td>\n",
       "      <td>G2</td>\n",
       "    </tr>\n",
       "    <tr>\n",
       "      <th>70</th>\n",
       "      <td>G2</td>\n",
       "      <td>18.854980</td>\n",
       "      <td>2707.436389</td>\n",
       "      <td>19408.0</td>\n",
       "      <td>21020.0</td>\n",
       "      <td>1896.577976</td>\n",
       "      <td>2000.192952</td>\n",
       "      <td>-1.100083e-09</td>\n",
       "      <td>-1.087596e-09</td>\n",
       "      <td>2504.085541</td>\n",
       "      <td>2514.676703</td>\n",
       "      <td>2994.532132</td>\n",
       "      <td>2707.436335</td>\n",
       "      <td>G2</td>\n",
       "    </tr>\n",
       "    <tr>\n",
       "      <th>71</th>\n",
       "      <td>G2</td>\n",
       "      <td>47.970700</td>\n",
       "      <td>551.749230</td>\n",
       "      <td>18084.0</td>\n",
       "      <td>20741.0</td>\n",
       "      <td>2123.161799</td>\n",
       "      <td>2262.246540</td>\n",
       "      <td>-1.072777e-09</td>\n",
       "      <td>-1.056016e-09</td>\n",
       "      <td>2454.815822</td>\n",
       "      <td>2474.913882</td>\n",
       "      <td>628.782737</td>\n",
       "      <td>551.749190</td>\n",
       "      <td>G2</td>\n",
       "    </tr>\n",
       "  </tbody>\n",
       "</table>\n",
       "<p>93 rows × 14 columns</p>\n",
       "</div>"
      ],
      "text/plain": [
       "   Surface        RMS         RMSf       ZC      ZCf         Spec  \\\n",
       "1       G1  51.052199   370.821307  16049.0  20817.0  1776.562713   \n",
       "2       G1  33.457894   634.612336  10548.0  13514.0  1328.007168   \n",
       "3       G1  28.178588   889.357740  11494.0  14074.0  1467.927174   \n",
       "4       G1  32.018604   807.805273  11281.0  13145.0  1304.356898   \n",
       "5       G1  32.636435   722.625523  11877.0  14399.0  1432.873919   \n",
       "..     ...        ...          ...      ...      ...          ...   \n",
       "67      G2   9.644369  4871.941381  18369.0  20154.0  1966.229273   \n",
       "68      G2   9.759560  4730.318885  18495.0  20196.0  2192.178227   \n",
       "69      G2   6.779926  4685.761166  19012.0  21196.0  1813.300934   \n",
       "70      G2  18.854980  2707.436389  19408.0  21020.0  1896.577976   \n",
       "71      G2  47.970700   551.749230  18084.0  20741.0  2123.161799   \n",
       "\n",
       "          Specf       Specslo      Specslof      Specspr     Specsprf  \\\n",
       "1   1948.456806 -1.041633e-09 -1.022273e-09  2229.694097  2250.919703   \n",
       "2   1514.384964 -1.092153e-09 -1.071162e-09  1956.645926  2003.004965   \n",
       "3   1612.248922 -1.076394e-09 -1.060139e-09  2023.599560  2037.077885   \n",
       "4   1441.542442 -1.094817e-09 -1.079366e-09  1857.789793  1916.264282   \n",
       "5   1613.936793 -1.080342e-09 -1.059949e-09  2026.102258  2100.303256   \n",
       "..          ...           ...           ...          ...          ...   \n",
       "67  2081.387942 -1.091689e-09 -1.077812e-09  2752.674709  2789.271224   \n",
       "68  2318.908897 -1.064460e-09 -1.049187e-09  3044.665498  3086.418993   \n",
       "69  1934.227518 -1.110119e-09 -1.095546e-09  2465.307969  2503.431501   \n",
       "70  2000.192952 -1.100083e-09 -1.087596e-09  2504.085541  2514.676703   \n",
       "71  2262.246540 -1.072777e-09 -1.056016e-09  2454.815822  2474.913882   \n",
       "\n",
       "            STD         STDf Rhythm  \n",
       "1    476.895541   370.821307     G1  \n",
       "2    844.475609   634.612329     G1  \n",
       "3   1082.974500   889.357734     G1  \n",
       "4    938.817379   807.805270     G1  \n",
       "5    897.320860   722.625520     G1  \n",
       "..          ...          ...    ...  \n",
       "67  5389.568104  4871.941381     G2  \n",
       "68  5269.284526  4730.318836     G2  \n",
       "69  5333.183836  4685.761015     G2  \n",
       "70  2994.532132  2707.436335     G2  \n",
       "71   628.782737   551.749190     G2  \n",
       "\n",
       "[93 rows x 14 columns]"
      ]
     },
     "execution_count": 198,
     "metadata": {},
     "output_type": "execute_result"
    }
   ],
   "source": [
    "gdf = graveldf\n",
    "gdf[\"Surface\"] = \"G1\"\n",
    "\n",
    "gdf2 = graveldf2\n",
    "gdf2[\"Surface\"] = \"G2\"\n",
    "\n",
    "\n",
    "gdf = pd.concat([gdf, gdf2])\n",
    "\n",
    "gdf = gdf.dropna()\n",
    "\n",
    "gdf"
   ]
  },
  {
   "cell_type": "code",
   "execution_count": 201,
   "metadata": {},
   "outputs": [
    {
     "data": {
      "application/vnd.plotly.v1+json": {
       "config": {
        "plotlyServerURL": "https://plot.ly"
       },
       "data": [
        {
         "hovertemplate": "Surface=G1<br>RMSf=%{x}<br>Spec=%{y}<extra></extra>",
         "legendgroup": "G1",
         "marker": {
          "color": "#636efa",
          "symbol": "circle"
         },
         "mode": "markers",
         "name": "G1",
         "orientation": "v",
         "showlegend": true,
         "type": "scatter",
         "x": [
          370.8213073726083,
          634.6123361674099,
          889.3577398144887,
          807.8052730760018,
          722.6255230538037,
          923.7667302804617,
          969.0234493069495,
          845.4378663739241,
          826.2358289274331,
          874.7109933016714,
          793.0637127590368,
          1365.1019695510984,
          2260.9740591815153,
          2121.5209113203055,
          2028.0936985033704,
          1782.0497021636895,
          1785.1450529392027,
          1705.191130139102,
          2022.9119453152648,
          1067.1742163936844,
          979.2362856743298,
          787.5766463126334,
          632.9702582807984,
          654.7251023081606,
          989.2959256131898,
          1058.7020969280277,
          1109.938163361988,
          1097.7216456572705,
          1116.430388688007
         ],
         "xaxis": "x",
         "y": [
          1776.5627131441033,
          1328.0071675425027,
          1467.927173998685,
          1304.3568982359675,
          1432.873918560046,
          1292.104351055983,
          2226.6217363995984,
          1262.0687187543897,
          1406.2976112482954,
          1402.7437669040703,
          1101.8288448783323,
          1202.0531348001714,
          1372.506234645359,
          1130.605343681894,
          1536.1722089622967,
          1322.2414827646664,
          1145.4588219376953,
          1074.8582710140781,
          1168.6831126235052,
          1169.3151480281147,
          1158.3541132618464,
          1328.81529768993,
          1486.9562035770196,
          1985.4264610580299,
          1612.4625005712608,
          1337.9774333354296,
          1637.9216964095642,
          1549.3626822569136,
          1354.1296093512333
         ],
         "yaxis": "y"
        },
        {
         "hovertemplate": "Surface=G2<br>RMSf=%{x}<br>Spec=%{y}<extra></extra>",
         "legendgroup": "G2",
         "marker": {
          "color": "#EF553B",
          "symbol": "circle"
         },
         "mode": "markers",
         "name": "G2",
         "orientation": "v",
         "showlegend": true,
         "type": "scatter",
         "x": [
          606.7713848914727,
          963.7150550590875,
          2037.9718188843078,
          2707.373175537177,
          2964.3297307349208,
          3086.708828062151,
          3079.2713154566295,
          2986.870532642887,
          2138.298715043241,
          2067.4000137715484,
          1717.3007296316007,
          1813.6548084078506,
          2168.805056649511,
          2024.7415836519092,
          2377.0568849020897,
          2627.7554195777075,
          2621.695960958469,
          2554.199380305705,
          3027.8280929112198,
          2108.3315836167653,
          1439.196417455914,
          721.8606914150018,
          819.4850379863377,
          1986.8982542137487,
          3004.5818939017827,
          6696.201901525486,
          6375.680293573113,
          4467.977239490567,
          4187.026849151762,
          4176.683421687312,
          5249.221001986969,
          3504.7611594455525,
          7181.670785461172,
          6696.942189933502,
          1194.3931792886185,
          1534.8963664926682,
          1534.8963664926682,
          1633.5884053988982,
          1956.387090409051,
          1777.6038040917772,
          2333.192266428371,
          1448.3113155415551,
          1814.727113238196,
          1510.1945163629896,
          1785.6639489433294,
          2700.36788883122,
          2029.6830258691,
          1574.0550294752848,
          2853.9207710849028,
          7747.345554974373,
          6352.310791330727,
          6687.413810075461,
          5586.475331315476,
          1867.5433329730306,
          2395.6843241167403,
          2698.7215869052006,
          1583.5360070590232,
          2563.694343940255,
          3442.5640068856264,
          4871.941380876385,
          4730.318885032761,
          4685.761165656677,
          2707.436388917085,
          551.7492298180695
         ],
         "xaxis": "x",
         "y": [
          2641.2080975727195,
          1887.3409558251071,
          1780.0997173463452,
          2129.1475389081,
          2362.0896092968683,
          1958.8170454375934,
          1762.626400996278,
          1793.867065088636,
          1900.63311296138,
          2114.5092202045453,
          1782.0711249772414,
          1617.112568219905,
          1734.865352021254,
          1901.7940213747945,
          1908.4710861105368,
          1858.017844068745,
          2009.7834602081673,
          2046.9943522761555,
          1959.1051882476518,
          1836.7325676542669,
          2018.3220858467619,
          2162.4289308157113,
          2123.7223649612265,
          1829.189218016809,
          1888.0181421961368,
          2048.515042926416,
          2243.9934997579053,
          1921.9956555824451,
          1940.6116828366978,
          1676.8067956540308,
          1973.0359848050064,
          1974.5208866824846,
          1872.0438791950512,
          2316.8741817837395,
          2356.0256132505565,
          2187.861253887996,
          2187.861253887996,
          2257.6622614751686,
          2198.946806059892,
          2206.91897269836,
          2269.7807416173205,
          2331.7287201041136,
          2282.885780680133,
          2491.278734600117,
          2234.998164470736,
          2028.8693568020515,
          2123.36135542591,
          2039.512582566941,
          1680.8182391621642,
          1981.3390700027437,
          1809.6039884186107,
          2293.3721869120477,
          2153.2452234455964,
          1751.9538555260212,
          1746.7492256962034,
          1925.4046764573552,
          1582.5745169948668,
          1587.099101871861,
          1887.145304904147,
          1966.2292726273931,
          2192.1782267972444,
          1813.300934311016,
          1896.5779760393928,
          2123.161799311756
         ],
         "yaxis": "y"
        }
       ],
       "layout": {
        "legend": {
         "title": {
          "text": "Surface"
         },
         "tracegroupgap": 0
        },
        "margin": {
         "t": 60
        },
        "template": {
         "data": {
          "bar": [
           {
            "error_x": {
             "color": "#2a3f5f"
            },
            "error_y": {
             "color": "#2a3f5f"
            },
            "marker": {
             "line": {
              "color": "#E5ECF6",
              "width": 0.5
             },
             "pattern": {
              "fillmode": "overlay",
              "size": 10,
              "solidity": 0.2
             }
            },
            "type": "bar"
           }
          ],
          "barpolar": [
           {
            "marker": {
             "line": {
              "color": "#E5ECF6",
              "width": 0.5
             },
             "pattern": {
              "fillmode": "overlay",
              "size": 10,
              "solidity": 0.2
             }
            },
            "type": "barpolar"
           }
          ],
          "carpet": [
           {
            "aaxis": {
             "endlinecolor": "#2a3f5f",
             "gridcolor": "white",
             "linecolor": "white",
             "minorgridcolor": "white",
             "startlinecolor": "#2a3f5f"
            },
            "baxis": {
             "endlinecolor": "#2a3f5f",
             "gridcolor": "white",
             "linecolor": "white",
             "minorgridcolor": "white",
             "startlinecolor": "#2a3f5f"
            },
            "type": "carpet"
           }
          ],
          "choropleth": [
           {
            "colorbar": {
             "outlinewidth": 0,
             "ticks": ""
            },
            "type": "choropleth"
           }
          ],
          "contour": [
           {
            "colorbar": {
             "outlinewidth": 0,
             "ticks": ""
            },
            "colorscale": [
             [
              0,
              "#0d0887"
             ],
             [
              0.1111111111111111,
              "#46039f"
             ],
             [
              0.2222222222222222,
              "#7201a8"
             ],
             [
              0.3333333333333333,
              "#9c179e"
             ],
             [
              0.4444444444444444,
              "#bd3786"
             ],
             [
              0.5555555555555556,
              "#d8576b"
             ],
             [
              0.6666666666666666,
              "#ed7953"
             ],
             [
              0.7777777777777778,
              "#fb9f3a"
             ],
             [
              0.8888888888888888,
              "#fdca26"
             ],
             [
              1,
              "#f0f921"
             ]
            ],
            "type": "contour"
           }
          ],
          "contourcarpet": [
           {
            "colorbar": {
             "outlinewidth": 0,
             "ticks": ""
            },
            "type": "contourcarpet"
           }
          ],
          "heatmap": [
           {
            "colorbar": {
             "outlinewidth": 0,
             "ticks": ""
            },
            "colorscale": [
             [
              0,
              "#0d0887"
             ],
             [
              0.1111111111111111,
              "#46039f"
             ],
             [
              0.2222222222222222,
              "#7201a8"
             ],
             [
              0.3333333333333333,
              "#9c179e"
             ],
             [
              0.4444444444444444,
              "#bd3786"
             ],
             [
              0.5555555555555556,
              "#d8576b"
             ],
             [
              0.6666666666666666,
              "#ed7953"
             ],
             [
              0.7777777777777778,
              "#fb9f3a"
             ],
             [
              0.8888888888888888,
              "#fdca26"
             ],
             [
              1,
              "#f0f921"
             ]
            ],
            "type": "heatmap"
           }
          ],
          "heatmapgl": [
           {
            "colorbar": {
             "outlinewidth": 0,
             "ticks": ""
            },
            "colorscale": [
             [
              0,
              "#0d0887"
             ],
             [
              0.1111111111111111,
              "#46039f"
             ],
             [
              0.2222222222222222,
              "#7201a8"
             ],
             [
              0.3333333333333333,
              "#9c179e"
             ],
             [
              0.4444444444444444,
              "#bd3786"
             ],
             [
              0.5555555555555556,
              "#d8576b"
             ],
             [
              0.6666666666666666,
              "#ed7953"
             ],
             [
              0.7777777777777778,
              "#fb9f3a"
             ],
             [
              0.8888888888888888,
              "#fdca26"
             ],
             [
              1,
              "#f0f921"
             ]
            ],
            "type": "heatmapgl"
           }
          ],
          "histogram": [
           {
            "marker": {
             "pattern": {
              "fillmode": "overlay",
              "size": 10,
              "solidity": 0.2
             }
            },
            "type": "histogram"
           }
          ],
          "histogram2d": [
           {
            "colorbar": {
             "outlinewidth": 0,
             "ticks": ""
            },
            "colorscale": [
             [
              0,
              "#0d0887"
             ],
             [
              0.1111111111111111,
              "#46039f"
             ],
             [
              0.2222222222222222,
              "#7201a8"
             ],
             [
              0.3333333333333333,
              "#9c179e"
             ],
             [
              0.4444444444444444,
              "#bd3786"
             ],
             [
              0.5555555555555556,
              "#d8576b"
             ],
             [
              0.6666666666666666,
              "#ed7953"
             ],
             [
              0.7777777777777778,
              "#fb9f3a"
             ],
             [
              0.8888888888888888,
              "#fdca26"
             ],
             [
              1,
              "#f0f921"
             ]
            ],
            "type": "histogram2d"
           }
          ],
          "histogram2dcontour": [
           {
            "colorbar": {
             "outlinewidth": 0,
             "ticks": ""
            },
            "colorscale": [
             [
              0,
              "#0d0887"
             ],
             [
              0.1111111111111111,
              "#46039f"
             ],
             [
              0.2222222222222222,
              "#7201a8"
             ],
             [
              0.3333333333333333,
              "#9c179e"
             ],
             [
              0.4444444444444444,
              "#bd3786"
             ],
             [
              0.5555555555555556,
              "#d8576b"
             ],
             [
              0.6666666666666666,
              "#ed7953"
             ],
             [
              0.7777777777777778,
              "#fb9f3a"
             ],
             [
              0.8888888888888888,
              "#fdca26"
             ],
             [
              1,
              "#f0f921"
             ]
            ],
            "type": "histogram2dcontour"
           }
          ],
          "mesh3d": [
           {
            "colorbar": {
             "outlinewidth": 0,
             "ticks": ""
            },
            "type": "mesh3d"
           }
          ],
          "parcoords": [
           {
            "line": {
             "colorbar": {
              "outlinewidth": 0,
              "ticks": ""
             }
            },
            "type": "parcoords"
           }
          ],
          "pie": [
           {
            "automargin": true,
            "type": "pie"
           }
          ],
          "scatter": [
           {
            "marker": {
             "colorbar": {
              "outlinewidth": 0,
              "ticks": ""
             }
            },
            "type": "scatter"
           }
          ],
          "scatter3d": [
           {
            "line": {
             "colorbar": {
              "outlinewidth": 0,
              "ticks": ""
             }
            },
            "marker": {
             "colorbar": {
              "outlinewidth": 0,
              "ticks": ""
             }
            },
            "type": "scatter3d"
           }
          ],
          "scattercarpet": [
           {
            "marker": {
             "colorbar": {
              "outlinewidth": 0,
              "ticks": ""
             }
            },
            "type": "scattercarpet"
           }
          ],
          "scattergeo": [
           {
            "marker": {
             "colorbar": {
              "outlinewidth": 0,
              "ticks": ""
             }
            },
            "type": "scattergeo"
           }
          ],
          "scattergl": [
           {
            "marker": {
             "colorbar": {
              "outlinewidth": 0,
              "ticks": ""
             }
            },
            "type": "scattergl"
           }
          ],
          "scattermapbox": [
           {
            "marker": {
             "colorbar": {
              "outlinewidth": 0,
              "ticks": ""
             }
            },
            "type": "scattermapbox"
           }
          ],
          "scatterpolar": [
           {
            "marker": {
             "colorbar": {
              "outlinewidth": 0,
              "ticks": ""
             }
            },
            "type": "scatterpolar"
           }
          ],
          "scatterpolargl": [
           {
            "marker": {
             "colorbar": {
              "outlinewidth": 0,
              "ticks": ""
             }
            },
            "type": "scatterpolargl"
           }
          ],
          "scatterternary": [
           {
            "marker": {
             "colorbar": {
              "outlinewidth": 0,
              "ticks": ""
             }
            },
            "type": "scatterternary"
           }
          ],
          "surface": [
           {
            "colorbar": {
             "outlinewidth": 0,
             "ticks": ""
            },
            "colorscale": [
             [
              0,
              "#0d0887"
             ],
             [
              0.1111111111111111,
              "#46039f"
             ],
             [
              0.2222222222222222,
              "#7201a8"
             ],
             [
              0.3333333333333333,
              "#9c179e"
             ],
             [
              0.4444444444444444,
              "#bd3786"
             ],
             [
              0.5555555555555556,
              "#d8576b"
             ],
             [
              0.6666666666666666,
              "#ed7953"
             ],
             [
              0.7777777777777778,
              "#fb9f3a"
             ],
             [
              0.8888888888888888,
              "#fdca26"
             ],
             [
              1,
              "#f0f921"
             ]
            ],
            "type": "surface"
           }
          ],
          "table": [
           {
            "cells": {
             "fill": {
              "color": "#EBF0F8"
             },
             "line": {
              "color": "white"
             }
            },
            "header": {
             "fill": {
              "color": "#C8D4E3"
             },
             "line": {
              "color": "white"
             }
            },
            "type": "table"
           }
          ]
         },
         "layout": {
          "annotationdefaults": {
           "arrowcolor": "#2a3f5f",
           "arrowhead": 0,
           "arrowwidth": 1
          },
          "autotypenumbers": "strict",
          "coloraxis": {
           "colorbar": {
            "outlinewidth": 0,
            "ticks": ""
           }
          },
          "colorscale": {
           "diverging": [
            [
             0,
             "#8e0152"
            ],
            [
             0.1,
             "#c51b7d"
            ],
            [
             0.2,
             "#de77ae"
            ],
            [
             0.3,
             "#f1b6da"
            ],
            [
             0.4,
             "#fde0ef"
            ],
            [
             0.5,
             "#f7f7f7"
            ],
            [
             0.6,
             "#e6f5d0"
            ],
            [
             0.7,
             "#b8e186"
            ],
            [
             0.8,
             "#7fbc41"
            ],
            [
             0.9,
             "#4d9221"
            ],
            [
             1,
             "#276419"
            ]
           ],
           "sequential": [
            [
             0,
             "#0d0887"
            ],
            [
             0.1111111111111111,
             "#46039f"
            ],
            [
             0.2222222222222222,
             "#7201a8"
            ],
            [
             0.3333333333333333,
             "#9c179e"
            ],
            [
             0.4444444444444444,
             "#bd3786"
            ],
            [
             0.5555555555555556,
             "#d8576b"
            ],
            [
             0.6666666666666666,
             "#ed7953"
            ],
            [
             0.7777777777777778,
             "#fb9f3a"
            ],
            [
             0.8888888888888888,
             "#fdca26"
            ],
            [
             1,
             "#f0f921"
            ]
           ],
           "sequentialminus": [
            [
             0,
             "#0d0887"
            ],
            [
             0.1111111111111111,
             "#46039f"
            ],
            [
             0.2222222222222222,
             "#7201a8"
            ],
            [
             0.3333333333333333,
             "#9c179e"
            ],
            [
             0.4444444444444444,
             "#bd3786"
            ],
            [
             0.5555555555555556,
             "#d8576b"
            ],
            [
             0.6666666666666666,
             "#ed7953"
            ],
            [
             0.7777777777777778,
             "#fb9f3a"
            ],
            [
             0.8888888888888888,
             "#fdca26"
            ],
            [
             1,
             "#f0f921"
            ]
           ]
          },
          "colorway": [
           "#636efa",
           "#EF553B",
           "#00cc96",
           "#ab63fa",
           "#FFA15A",
           "#19d3f3",
           "#FF6692",
           "#B6E880",
           "#FF97FF",
           "#FECB52"
          ],
          "font": {
           "color": "#2a3f5f"
          },
          "geo": {
           "bgcolor": "white",
           "lakecolor": "white",
           "landcolor": "#E5ECF6",
           "showlakes": true,
           "showland": true,
           "subunitcolor": "white"
          },
          "hoverlabel": {
           "align": "left"
          },
          "hovermode": "closest",
          "mapbox": {
           "style": "light"
          },
          "paper_bgcolor": "white",
          "plot_bgcolor": "#E5ECF6",
          "polar": {
           "angularaxis": {
            "gridcolor": "white",
            "linecolor": "white",
            "ticks": ""
           },
           "bgcolor": "#E5ECF6",
           "radialaxis": {
            "gridcolor": "white",
            "linecolor": "white",
            "ticks": ""
           }
          },
          "scene": {
           "xaxis": {
            "backgroundcolor": "#E5ECF6",
            "gridcolor": "white",
            "gridwidth": 2,
            "linecolor": "white",
            "showbackground": true,
            "ticks": "",
            "zerolinecolor": "white"
           },
           "yaxis": {
            "backgroundcolor": "#E5ECF6",
            "gridcolor": "white",
            "gridwidth": 2,
            "linecolor": "white",
            "showbackground": true,
            "ticks": "",
            "zerolinecolor": "white"
           },
           "zaxis": {
            "backgroundcolor": "#E5ECF6",
            "gridcolor": "white",
            "gridwidth": 2,
            "linecolor": "white",
            "showbackground": true,
            "ticks": "",
            "zerolinecolor": "white"
           }
          },
          "shapedefaults": {
           "line": {
            "color": "#2a3f5f"
           }
          },
          "ternary": {
           "aaxis": {
            "gridcolor": "white",
            "linecolor": "white",
            "ticks": ""
           },
           "baxis": {
            "gridcolor": "white",
            "linecolor": "white",
            "ticks": ""
           },
           "bgcolor": "#E5ECF6",
           "caxis": {
            "gridcolor": "white",
            "linecolor": "white",
            "ticks": ""
           }
          },
          "title": {
           "x": 0.05
          },
          "xaxis": {
           "automargin": true,
           "gridcolor": "white",
           "linecolor": "white",
           "ticks": "",
           "title": {
            "standoff": 15
           },
           "zerolinecolor": "white",
           "zerolinewidth": 2
          },
          "yaxis": {
           "automargin": true,
           "gridcolor": "white",
           "linecolor": "white",
           "ticks": "",
           "title": {
            "standoff": 15
           },
           "zerolinecolor": "white",
           "zerolinewidth": 2
          }
         }
        },
        "xaxis": {
         "anchor": "y",
         "domain": [
          0,
          1
         ],
         "title": {
          "text": "RMSf"
         }
        },
        "yaxis": {
         "anchor": "x",
         "domain": [
          0,
          1
         ],
         "title": {
          "text": "Spec"
         }
        }
       }
      },
      "text/html": [
       "<div>                            <div id=\"30bcdb4f-7ca8-4530-bef9-817ac7368098\" class=\"plotly-graph-div\" style=\"height:525px; width:100%;\"></div>            <script type=\"text/javascript\">                require([\"plotly\"], function(Plotly) {                    window.PLOTLYENV=window.PLOTLYENV || {};                                    if (document.getElementById(\"30bcdb4f-7ca8-4530-bef9-817ac7368098\")) {                    Plotly.newPlot(                        \"30bcdb4f-7ca8-4530-bef9-817ac7368098\",                        [{\"hovertemplate\":\"Surface=G1<br>RMSf=%{x}<br>Spec=%{y}<extra></extra>\",\"legendgroup\":\"G1\",\"marker\":{\"color\":\"#636efa\",\"symbol\":\"circle\"},\"mode\":\"markers\",\"name\":\"G1\",\"orientation\":\"v\",\"showlegend\":true,\"type\":\"scatter\",\"x\":[370.8213073726083,634.6123361674099,889.3577398144887,807.8052730760018,722.6255230538037,923.7667302804617,969.0234493069495,845.4378663739241,826.2358289274331,874.7109933016714,793.0637127590368,1365.1019695510984,2260.9740591815153,2121.5209113203055,2028.0936985033704,1782.0497021636895,1785.1450529392027,1705.191130139102,2022.9119453152648,1067.1742163936844,979.2362856743298,787.5766463126334,632.9702582807984,654.7251023081606,989.2959256131898,1058.7020969280277,1109.938163361988,1097.7216456572705,1116.430388688007],\"xaxis\":\"x\",\"y\":[1776.5627131441033,1328.0071675425027,1467.927173998685,1304.3568982359675,1432.873918560046,1292.104351055983,2226.6217363995984,1262.0687187543897,1406.2976112482954,1402.7437669040703,1101.8288448783323,1202.0531348001714,1372.506234645359,1130.605343681894,1536.1722089622967,1322.2414827646664,1145.4588219376953,1074.8582710140781,1168.6831126235052,1169.3151480281147,1158.3541132618464,1328.81529768993,1486.9562035770196,1985.4264610580299,1612.4625005712608,1337.9774333354296,1637.9216964095642,1549.3626822569136,1354.1296093512333],\"yaxis\":\"y\"},{\"hovertemplate\":\"Surface=G2<br>RMSf=%{x}<br>Spec=%{y}<extra></extra>\",\"legendgroup\":\"G2\",\"marker\":{\"color\":\"#EF553B\",\"symbol\":\"circle\"},\"mode\":\"markers\",\"name\":\"G2\",\"orientation\":\"v\",\"showlegend\":true,\"type\":\"scatter\",\"x\":[606.7713848914727,963.7150550590875,2037.9718188843078,2707.373175537177,2964.3297307349208,3086.708828062151,3079.2713154566295,2986.870532642887,2138.298715043241,2067.4000137715484,1717.3007296316007,1813.6548084078506,2168.805056649511,2024.7415836519092,2377.0568849020897,2627.7554195777075,2621.695960958469,2554.199380305705,3027.8280929112198,2108.3315836167653,1439.196417455914,721.8606914150018,819.4850379863377,1986.8982542137487,3004.5818939017827,6696.201901525486,6375.680293573113,4467.977239490567,4187.026849151762,4176.683421687312,5249.221001986969,3504.7611594455525,7181.670785461172,6696.942189933502,1194.3931792886185,1534.8963664926682,1534.8963664926682,1633.5884053988982,1956.387090409051,1777.6038040917772,2333.192266428371,1448.3113155415551,1814.727113238196,1510.1945163629896,1785.6639489433294,2700.36788883122,2029.6830258691,1574.0550294752848,2853.9207710849028,7747.345554974373,6352.310791330727,6687.413810075461,5586.475331315476,1867.5433329730306,2395.6843241167403,2698.7215869052006,1583.5360070590232,2563.694343940255,3442.5640068856264,4871.941380876385,4730.318885032761,4685.761165656677,2707.436388917085,551.7492298180695],\"xaxis\":\"x\",\"y\":[2641.2080975727195,1887.3409558251071,1780.0997173463452,2129.1475389081,2362.0896092968683,1958.8170454375934,1762.626400996278,1793.867065088636,1900.63311296138,2114.5092202045453,1782.0711249772414,1617.112568219905,1734.865352021254,1901.7940213747945,1908.4710861105368,1858.017844068745,2009.7834602081673,2046.9943522761555,1959.1051882476518,1836.7325676542669,2018.3220858467619,2162.4289308157113,2123.7223649612265,1829.189218016809,1888.0181421961368,2048.515042926416,2243.9934997579053,1921.9956555824451,1940.6116828366978,1676.8067956540308,1973.0359848050064,1974.5208866824846,1872.0438791950512,2316.8741817837395,2356.0256132505565,2187.861253887996,2187.861253887996,2257.6622614751686,2198.946806059892,2206.91897269836,2269.7807416173205,2331.7287201041136,2282.885780680133,2491.278734600117,2234.998164470736,2028.8693568020515,2123.36135542591,2039.512582566941,1680.8182391621642,1981.3390700027437,1809.6039884186107,2293.3721869120477,2153.2452234455964,1751.9538555260212,1746.7492256962034,1925.4046764573552,1582.5745169948668,1587.099101871861,1887.145304904147,1966.2292726273931,2192.1782267972444,1813.300934311016,1896.5779760393928,2123.161799311756],\"yaxis\":\"y\"}],                        {\"legend\":{\"title\":{\"text\":\"Surface\"},\"tracegroupgap\":0},\"margin\":{\"t\":60},\"template\":{\"data\":{\"bar\":[{\"error_x\":{\"color\":\"#2a3f5f\"},\"error_y\":{\"color\":\"#2a3f5f\"},\"marker\":{\"line\":{\"color\":\"#E5ECF6\",\"width\":0.5},\"pattern\":{\"fillmode\":\"overlay\",\"size\":10,\"solidity\":0.2}},\"type\":\"bar\"}],\"barpolar\":[{\"marker\":{\"line\":{\"color\":\"#E5ECF6\",\"width\":0.5},\"pattern\":{\"fillmode\":\"overlay\",\"size\":10,\"solidity\":0.2}},\"type\":\"barpolar\"}],\"carpet\":[{\"aaxis\":{\"endlinecolor\":\"#2a3f5f\",\"gridcolor\":\"white\",\"linecolor\":\"white\",\"minorgridcolor\":\"white\",\"startlinecolor\":\"#2a3f5f\"},\"baxis\":{\"endlinecolor\":\"#2a3f5f\",\"gridcolor\":\"white\",\"linecolor\":\"white\",\"minorgridcolor\":\"white\",\"startlinecolor\":\"#2a3f5f\"},\"type\":\"carpet\"}],\"choropleth\":[{\"colorbar\":{\"outlinewidth\":0,\"ticks\":\"\"},\"type\":\"choropleth\"}],\"contour\":[{\"colorbar\":{\"outlinewidth\":0,\"ticks\":\"\"},\"colorscale\":[[0.0,\"#0d0887\"],[0.1111111111111111,\"#46039f\"],[0.2222222222222222,\"#7201a8\"],[0.3333333333333333,\"#9c179e\"],[0.4444444444444444,\"#bd3786\"],[0.5555555555555556,\"#d8576b\"],[0.6666666666666666,\"#ed7953\"],[0.7777777777777778,\"#fb9f3a\"],[0.8888888888888888,\"#fdca26\"],[1.0,\"#f0f921\"]],\"type\":\"contour\"}],\"contourcarpet\":[{\"colorbar\":{\"outlinewidth\":0,\"ticks\":\"\"},\"type\":\"contourcarpet\"}],\"heatmap\":[{\"colorbar\":{\"outlinewidth\":0,\"ticks\":\"\"},\"colorscale\":[[0.0,\"#0d0887\"],[0.1111111111111111,\"#46039f\"],[0.2222222222222222,\"#7201a8\"],[0.3333333333333333,\"#9c179e\"],[0.4444444444444444,\"#bd3786\"],[0.5555555555555556,\"#d8576b\"],[0.6666666666666666,\"#ed7953\"],[0.7777777777777778,\"#fb9f3a\"],[0.8888888888888888,\"#fdca26\"],[1.0,\"#f0f921\"]],\"type\":\"heatmap\"}],\"heatmapgl\":[{\"colorbar\":{\"outlinewidth\":0,\"ticks\":\"\"},\"colorscale\":[[0.0,\"#0d0887\"],[0.1111111111111111,\"#46039f\"],[0.2222222222222222,\"#7201a8\"],[0.3333333333333333,\"#9c179e\"],[0.4444444444444444,\"#bd3786\"],[0.5555555555555556,\"#d8576b\"],[0.6666666666666666,\"#ed7953\"],[0.7777777777777778,\"#fb9f3a\"],[0.8888888888888888,\"#fdca26\"],[1.0,\"#f0f921\"]],\"type\":\"heatmapgl\"}],\"histogram\":[{\"marker\":{\"pattern\":{\"fillmode\":\"overlay\",\"size\":10,\"solidity\":0.2}},\"type\":\"histogram\"}],\"histogram2d\":[{\"colorbar\":{\"outlinewidth\":0,\"ticks\":\"\"},\"colorscale\":[[0.0,\"#0d0887\"],[0.1111111111111111,\"#46039f\"],[0.2222222222222222,\"#7201a8\"],[0.3333333333333333,\"#9c179e\"],[0.4444444444444444,\"#bd3786\"],[0.5555555555555556,\"#d8576b\"],[0.6666666666666666,\"#ed7953\"],[0.7777777777777778,\"#fb9f3a\"],[0.8888888888888888,\"#fdca26\"],[1.0,\"#f0f921\"]],\"type\":\"histogram2d\"}],\"histogram2dcontour\":[{\"colorbar\":{\"outlinewidth\":0,\"ticks\":\"\"},\"colorscale\":[[0.0,\"#0d0887\"],[0.1111111111111111,\"#46039f\"],[0.2222222222222222,\"#7201a8\"],[0.3333333333333333,\"#9c179e\"],[0.4444444444444444,\"#bd3786\"],[0.5555555555555556,\"#d8576b\"],[0.6666666666666666,\"#ed7953\"],[0.7777777777777778,\"#fb9f3a\"],[0.8888888888888888,\"#fdca26\"],[1.0,\"#f0f921\"]],\"type\":\"histogram2dcontour\"}],\"mesh3d\":[{\"colorbar\":{\"outlinewidth\":0,\"ticks\":\"\"},\"type\":\"mesh3d\"}],\"parcoords\":[{\"line\":{\"colorbar\":{\"outlinewidth\":0,\"ticks\":\"\"}},\"type\":\"parcoords\"}],\"pie\":[{\"automargin\":true,\"type\":\"pie\"}],\"scatter\":[{\"marker\":{\"colorbar\":{\"outlinewidth\":0,\"ticks\":\"\"}},\"type\":\"scatter\"}],\"scatter3d\":[{\"line\":{\"colorbar\":{\"outlinewidth\":0,\"ticks\":\"\"}},\"marker\":{\"colorbar\":{\"outlinewidth\":0,\"ticks\":\"\"}},\"type\":\"scatter3d\"}],\"scattercarpet\":[{\"marker\":{\"colorbar\":{\"outlinewidth\":0,\"ticks\":\"\"}},\"type\":\"scattercarpet\"}],\"scattergeo\":[{\"marker\":{\"colorbar\":{\"outlinewidth\":0,\"ticks\":\"\"}},\"type\":\"scattergeo\"}],\"scattergl\":[{\"marker\":{\"colorbar\":{\"outlinewidth\":0,\"ticks\":\"\"}},\"type\":\"scattergl\"}],\"scattermapbox\":[{\"marker\":{\"colorbar\":{\"outlinewidth\":0,\"ticks\":\"\"}},\"type\":\"scattermapbox\"}],\"scatterpolar\":[{\"marker\":{\"colorbar\":{\"outlinewidth\":0,\"ticks\":\"\"}},\"type\":\"scatterpolar\"}],\"scatterpolargl\":[{\"marker\":{\"colorbar\":{\"outlinewidth\":0,\"ticks\":\"\"}},\"type\":\"scatterpolargl\"}],\"scatterternary\":[{\"marker\":{\"colorbar\":{\"outlinewidth\":0,\"ticks\":\"\"}},\"type\":\"scatterternary\"}],\"surface\":[{\"colorbar\":{\"outlinewidth\":0,\"ticks\":\"\"},\"colorscale\":[[0.0,\"#0d0887\"],[0.1111111111111111,\"#46039f\"],[0.2222222222222222,\"#7201a8\"],[0.3333333333333333,\"#9c179e\"],[0.4444444444444444,\"#bd3786\"],[0.5555555555555556,\"#d8576b\"],[0.6666666666666666,\"#ed7953\"],[0.7777777777777778,\"#fb9f3a\"],[0.8888888888888888,\"#fdca26\"],[1.0,\"#f0f921\"]],\"type\":\"surface\"}],\"table\":[{\"cells\":{\"fill\":{\"color\":\"#EBF0F8\"},\"line\":{\"color\":\"white\"}},\"header\":{\"fill\":{\"color\":\"#C8D4E3\"},\"line\":{\"color\":\"white\"}},\"type\":\"table\"}]},\"layout\":{\"annotationdefaults\":{\"arrowcolor\":\"#2a3f5f\",\"arrowhead\":0,\"arrowwidth\":1},\"autotypenumbers\":\"strict\",\"coloraxis\":{\"colorbar\":{\"outlinewidth\":0,\"ticks\":\"\"}},\"colorscale\":{\"diverging\":[[0,\"#8e0152\"],[0.1,\"#c51b7d\"],[0.2,\"#de77ae\"],[0.3,\"#f1b6da\"],[0.4,\"#fde0ef\"],[0.5,\"#f7f7f7\"],[0.6,\"#e6f5d0\"],[0.7,\"#b8e186\"],[0.8,\"#7fbc41\"],[0.9,\"#4d9221\"],[1,\"#276419\"]],\"sequential\":[[0.0,\"#0d0887\"],[0.1111111111111111,\"#46039f\"],[0.2222222222222222,\"#7201a8\"],[0.3333333333333333,\"#9c179e\"],[0.4444444444444444,\"#bd3786\"],[0.5555555555555556,\"#d8576b\"],[0.6666666666666666,\"#ed7953\"],[0.7777777777777778,\"#fb9f3a\"],[0.8888888888888888,\"#fdca26\"],[1.0,\"#f0f921\"]],\"sequentialminus\":[[0.0,\"#0d0887\"],[0.1111111111111111,\"#46039f\"],[0.2222222222222222,\"#7201a8\"],[0.3333333333333333,\"#9c179e\"],[0.4444444444444444,\"#bd3786\"],[0.5555555555555556,\"#d8576b\"],[0.6666666666666666,\"#ed7953\"],[0.7777777777777778,\"#fb9f3a\"],[0.8888888888888888,\"#fdca26\"],[1.0,\"#f0f921\"]]},\"colorway\":[\"#636efa\",\"#EF553B\",\"#00cc96\",\"#ab63fa\",\"#FFA15A\",\"#19d3f3\",\"#FF6692\",\"#B6E880\",\"#FF97FF\",\"#FECB52\"],\"font\":{\"color\":\"#2a3f5f\"},\"geo\":{\"bgcolor\":\"white\",\"lakecolor\":\"white\",\"landcolor\":\"#E5ECF6\",\"showlakes\":true,\"showland\":true,\"subunitcolor\":\"white\"},\"hoverlabel\":{\"align\":\"left\"},\"hovermode\":\"closest\",\"mapbox\":{\"style\":\"light\"},\"paper_bgcolor\":\"white\",\"plot_bgcolor\":\"#E5ECF6\",\"polar\":{\"angularaxis\":{\"gridcolor\":\"white\",\"linecolor\":\"white\",\"ticks\":\"\"},\"bgcolor\":\"#E5ECF6\",\"radialaxis\":{\"gridcolor\":\"white\",\"linecolor\":\"white\",\"ticks\":\"\"}},\"scene\":{\"xaxis\":{\"backgroundcolor\":\"#E5ECF6\",\"gridcolor\":\"white\",\"gridwidth\":2,\"linecolor\":\"white\",\"showbackground\":true,\"ticks\":\"\",\"zerolinecolor\":\"white\"},\"yaxis\":{\"backgroundcolor\":\"#E5ECF6\",\"gridcolor\":\"white\",\"gridwidth\":2,\"linecolor\":\"white\",\"showbackground\":true,\"ticks\":\"\",\"zerolinecolor\":\"white\"},\"zaxis\":{\"backgroundcolor\":\"#E5ECF6\",\"gridcolor\":\"white\",\"gridwidth\":2,\"linecolor\":\"white\",\"showbackground\":true,\"ticks\":\"\",\"zerolinecolor\":\"white\"}},\"shapedefaults\":{\"line\":{\"color\":\"#2a3f5f\"}},\"ternary\":{\"aaxis\":{\"gridcolor\":\"white\",\"linecolor\":\"white\",\"ticks\":\"\"},\"baxis\":{\"gridcolor\":\"white\",\"linecolor\":\"white\",\"ticks\":\"\"},\"bgcolor\":\"#E5ECF6\",\"caxis\":{\"gridcolor\":\"white\",\"linecolor\":\"white\",\"ticks\":\"\"}},\"title\":{\"x\":0.05},\"xaxis\":{\"automargin\":true,\"gridcolor\":\"white\",\"linecolor\":\"white\",\"ticks\":\"\",\"title\":{\"standoff\":15},\"zerolinecolor\":\"white\",\"zerolinewidth\":2},\"yaxis\":{\"automargin\":true,\"gridcolor\":\"white\",\"linecolor\":\"white\",\"ticks\":\"\",\"title\":{\"standoff\":15},\"zerolinecolor\":\"white\",\"zerolinewidth\":2}}},\"xaxis\":{\"anchor\":\"y\",\"domain\":[0.0,1.0],\"title\":{\"text\":\"RMSf\"}},\"yaxis\":{\"anchor\":\"x\",\"domain\":[0.0,1.0],\"title\":{\"text\":\"Spec\"}}},                        {\"responsive\": true}                    ).then(function(){\n",
       "                            \n",
       "var gd = document.getElementById('30bcdb4f-7ca8-4530-bef9-817ac7368098');\n",
       "var x = new MutationObserver(function (mutations, observer) {{\n",
       "        var display = window.getComputedStyle(gd).display;\n",
       "        if (!display || display === 'none') {{\n",
       "            console.log([gd, 'removed!']);\n",
       "            Plotly.purge(gd);\n",
       "            observer.disconnect();\n",
       "        }}\n",
       "}});\n",
       "\n",
       "// Listen for the removal of the full notebook cells\n",
       "var notebookContainer = gd.closest('#notebook-container');\n",
       "if (notebookContainer) {{\n",
       "    x.observe(notebookContainer, {childList: true});\n",
       "}}\n",
       "\n",
       "// Listen for the clearing of the current output cell\n",
       "var outputEl = gd.closest('.output');\n",
       "if (outputEl) {{\n",
       "    x.observe(outputEl, {childList: true});\n",
       "}}\n",
       "\n",
       "                        })                };                });            </script>        </div>"
      ]
     },
     "metadata": {},
     "output_type": "display_data"
    }
   ],
   "source": [
    "fig = px.scatter(gdf, x=\"RMSf\", y=\"Spec\", color=\"Surface\")\n",
    "fig.show()"
   ]
  },
  {
   "cell_type": "code",
   "execution_count": 199,
   "metadata": {},
   "outputs": [],
   "source": [
    "\n",
    "\n",
    "X = gdf[features]\n",
    "y = gdf[\"Surface\"]\n",
    "\n",
    "x_train, x_test, y_train, y_test = train_test_split(X, y, test_size=0.25, random_state=0, shuffle=True, stratify=None)\n",
    "\n",
    "# KNN\n",
    "\n",
    "knn = KNeighborsClassifier(n_neighbors=3)\n",
    "knn.fit(x_train, y_train)\n",
    "\n",
    "y_pred_knn = knn.predict(x_test)\n",
    "\n",
    "\n",
    "\n",
    "# Extra trees classifier\n",
    "\n",
    "forestclf = ExtraTreesClassifier(n_estimators = 500)\n",
    "\n",
    "forestclf.fit(x_train, y_train)\n",
    "\n",
    "y_pred_forest = forestclf.predict(x_test)\n",
    "\n",
    "\n",
    "# SVC\n",
    "\n",
    "#Create a svm Classifier\n",
    "clf = sklearn.svm.SVC(kernel='linear') \n",
    "\n",
    "#Train the model using the training sets\n",
    "clf.fit(x_train, y_train)\n",
    "\n",
    "#Predict the response for test dataset\n",
    "y_pred_svc = clf.predict(x_test)\n",
    "\n",
    "\n",
    "# Random Forest\n",
    "\n",
    "rforestclf = RandomForestClassifier(n_estimators = 500)\n",
    "\n",
    "rforestclf.fit(x_train, y_train)\n",
    "\n",
    "y_pred_rforest = rforestclf.predict(x_test)\n",
    "\n",
    "\n",
    "# Decision tree\n",
    "\n",
    "treeclf = tree.DecisionTreeClassifier()\n",
    "treeclf = clf.fit(x_train, y_train)\n",
    "y_pred_tree = rforestclf.predict(x_test)\n",
    "\n",
    "# Naive bayes\n",
    "\n",
    "gnb = GaussianNB()\n",
    "nbclf = gnb.fit(x_train, y_train)\n",
    "y_pred_nb = nbclf.predict(x_test)"
   ]
  },
  {
   "cell_type": "code",
   "execution_count": 200,
   "metadata": {
    "scrolled": false
   },
   "outputs": [
    {
     "name": "stdout",
     "output_type": "stream",
     "text": [
      "KNN confusion matrix\n"
     ]
    },
    {
     "data": {
      "image/png": "[encoded data removed]",
      "text/plain": [
       "<Figure size 432x288 with 2 Axes>"
      ]
     },
     "metadata": {
      "needs_background": "light"
     },
     "output_type": "display_data"
    },
    {
     "name": "stdout",
     "output_type": "stream",
     "text": [
      "SVC confusion matrix\n"
     ]
    },
    {
     "data": {
      "image/png": "[encoded data removed]",
      "text/plain": [
       "<Figure size 432x288 with 2 Axes>"
      ]
     },
     "metadata": {
      "needs_background": "light"
     },
     "output_type": "display_data"
    },
    {
     "name": "stdout",
     "output_type": "stream",
     "text": [
      "Decision tree classifier confusion matrix\n"
     ]
    },
    {
     "data": {
      "image/png": "[encoded data removed]",
      "text/plain": [
       "<Figure size 432x288 with 2 Axes>"
      ]
     },
     "metadata": {
      "needs_background": "light"
     },
     "output_type": "display_data"
    },
    {
     "name": "stdout",
     "output_type": "stream",
     "text": [
      "Random forest classifier confusion matrix\n"
     ]
    },
    {
     "data": {
      "image/png": "[encoded data removed]",
      "text/plain": [
       "<Figure size 432x288 with 2 Axes>"
      ]
     },
     "metadata": {
      "needs_background": "light"
     },
     "output_type": "display_data"
    },
    {
     "name": "stdout",
     "output_type": "stream",
     "text": [
      "Extra trees classifier confusion matrix\n"
     ]
    },
    {
     "data": {
      "image/png": "[encoded data removed]",
      "text/plain": [
       "<Figure size 432x288 with 2 Axes>"
      ]
     },
     "metadata": {
      "needs_background": "light"
     },
     "output_type": "display_data"
    },
    {
     "name": "stdout",
     "output_type": "stream",
     "text": [
      "NaiveBayes classifier confusion matrix\n"
     ]
    },
    {
     "data": {
      "image/png": "[encoded data removed]",
      "text/plain": [
       "<Figure size 432x288 with 2 Axes>"
      ]
     },
     "metadata": {
      "needs_background": "light"
     },
     "output_type": "display_data"
    }
   ],
   "source": [
    "#%matplotlib inline\n",
    "\n",
    "print(\"KNN confusion matrix\")\n",
    "plot_confusion_matrix(knn, x_test, y_test)\n",
    "plt.show()\n",
    "\n",
    "\n",
    "print(\"SVC confusion matrix\")\n",
    "plot_confusion_matrix(clf, x_test, y_test)\n",
    "plt.show()\n",
    "\n",
    "print(\"Decision tree classifier confusion matrix\")\n",
    "plot_confusion_matrix(treeclf, x_test, y_test)\n",
    "plt.show()\n",
    "\n",
    "print(\"Random forest classifier confusion matrix\")\n",
    "plot_confusion_matrix(rforestclf, x_test, y_test)\n",
    "plt.show()\n",
    "\n",
    "print(\"Extra trees classifier confusion matrix\")\n",
    "plot_confusion_matrix(forestclf, x_test, y_test)\n",
    "plt.show()\n",
    "\n",
    "print(\"NaiveBayes classifier confusion matrix\")\n",
    "plot_confusion_matrix(nbclf, x_test, y_test)\n",
    "plt.show()"
   ]
  },
  {
   "cell_type": "code",
   "execution_count": null,
   "metadata": {},
   "outputs": [],
   "source": []
  }
 ],
 "metadata": {
  "kernelspec": {
   "display_name": "Python 3",
   "language": "python",
   "name": "python3"
  },
  "language_info": {
   "codemirror_mode": {
    "name": "ipython",
    "version": 3
   },
   "file_extension": ".py",
   "mimetype": "text/x-python",
   "name": "python",
   "nbconvert_exporter": "python",
   "pygments_lexer": "ipython3",
   "version": "3.8.3"
  }
 },
 "nbformat": 4,
 "nbformat_minor": 4
}
