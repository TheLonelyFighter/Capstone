{
 "cells": [
  {
   "cell_type": "code",
   "execution_count": 1,
   "id": "cc683e8d",
   "metadata": {},
   "outputs": [],
   "source": [
    "import numpy as np\n",
    "import pandas as pd\n",
    "import seaborn as sb\n",
    "import matplotlib.pyplot as plt\n",
    "import math as math\n",
    "import sklearn as sklearn\n",
    "import random as random\n",
    "import time\n",
    "from sklearn.preprocessing import StandardScaler\n",
    "from sklearn.model_selection import train_test_split\n",
    "from sklearn.neighbors import KNeighborsClassifier\n",
    "from sklearn import metrics\n",
    "from sklearn.model_selection import LeaveOneOut\n",
    "from scipy import stats\n",
    "from sklearn.decomposition import PCA\n"
   ]
  },
  {
   "cell_type": "code",
   "execution_count": 2,
   "id": "902a9aac",
   "metadata": {},
   "outputs": [],
   "source": [
    "data_path = \"DataFrame_01_12.csv\""
   ]
  },
  {
   "cell_type": "code",
   "execution_count": 3,
   "id": "48b731ec",
   "metadata": {},
   "outputs": [],
   "source": [
    "data = pd.read_csv(data_path)\n",
    "#data.head(15)"
   ]
  },
  {
   "cell_type": "code",
   "execution_count": 4,
   "id": "f1543e68",
   "metadata": {},
   "outputs": [],
   "source": [
    "def getSamplesAndLabels(data,variables,label):\n",
    "    x=[]\n",
    "    y=[]\n",
    "    for row in range(len(data)):\n",
    "        sample=[]\n",
    "        nan=False\n",
    "        for variable in variables:\n",
    "            point = data[variable][row]\n",
    "            sample.append(data[variable][row])\n",
    "            if math.isnan(point):\n",
    "                nan=True\n",
    "        if(not nan):\n",
    "            x.append(sample)\n",
    "            y.append(data[label][row])\n",
    "        \n",
    "    return x,y"
   ]
  },
  {
   "cell_type": "code",
   "execution_count": 5,
   "id": "9ff8cf18",
   "metadata": {},
   "outputs": [],
   "source": [
    "variables = [\"RMS\",\"RMS_filt\",\"Zero-Cross\",\"Zero-Cross_filt\",\"Spectral_centroid\",\"Spectral_centroid_filt\",\"Spectral_slope\",\"Spectral_slope_filt\",\"Spectral_spread\",\"Spectral_spread_filt\",\"STD\",\"STD_filt\"]"
   ]
  },
  {
   "cell_type": "code",
   "execution_count": 6,
   "id": "9e2e4864",
   "metadata": {},
   "outputs": [],
   "source": [
    "X,y=getSamplesAndLabels(data,variables,\"Surface\")"
   ]
  },
  {
   "cell_type": "code",
   "execution_count": 7,
   "id": "5f080e33",
   "metadata": {},
   "outputs": [],
   "source": [
    "X_train, X_test, y_train, y_test = train_test_split( X, y, test_size=0.20, random_state=42, shuffle=True, stratify=y)"
   ]
  },
  {
   "cell_type": "code",
   "execution_count": 8,
   "id": "ba196992",
   "metadata": {},
   "outputs": [],
   "source": [
    "labels=[]\n",
    "for label in y:\n",
    "    if label not in labels:\n",
    "        labels.append(label)"
   ]
  },
  {
   "cell_type": "code",
   "execution_count": 9,
   "id": "fe71d528",
   "metadata": {},
   "outputs": [
    {
     "data": {
      "text/plain": [
       "KNeighborsClassifier(n_neighbors=3)"
      ]
     },
     "execution_count": 9,
     "metadata": {},
     "output_type": "execute_result"
    }
   ],
   "source": [
    "knn=KNeighborsClassifier(n_neighbors=3)\n",
    "knn.fit(X_train,y_train)"
   ]
  },
  {
   "cell_type": "code",
   "execution_count": 10,
   "id": "b8f4b234",
   "metadata": {},
   "outputs": [],
   "source": [
    "predictions = knn.predict(X_test)\n",
    "c_matrix=metrics.confusion_matrix(y_test, predictions,labels=labels)\n",
    "#print\n",
    "#print(c_matrix)"
   ]
  },
  {
   "cell_type": "code",
   "execution_count": 11,
   "id": "2617801b",
   "metadata": {},
   "outputs": [],
   "source": [
    "corrects=0\n",
    "for pred,true in zip(predictions,y_test):\n",
    "    if(pred==true):\n",
    "        corrects=corrects+1\n",
    "#print(\"accuracy: \",corrects/len(y_test))"
   ]
  },
  {
   "cell_type": "code",
   "execution_count": 12,
   "id": "fa0eb6c1",
   "metadata": {},
   "outputs": [
    {
     "data": {
      "text/plain": [
       "\"\\nplt.figure(figsize=(10, 8))\\nsb.heatmap(c_matrix, xticklabels=labels, yticklabels=labels, \\n            annot=True, fmt='g')\\nplt.xlabel('Prediction')\\nplt.ylabel('Label')\\nplt.show()\\n\""
      ]
     },
     "execution_count": 12,
     "metadata": {},
     "output_type": "execute_result"
    }
   ],
   "source": [
    "\"\"\"\n",
    "plt.figure(figsize=(10, 8))\n",
    "sb.heatmap(c_matrix, xticklabels=labels, yticklabels=labels, \n",
    "            annot=True, fmt='g')\n",
    "plt.xlabel('Prediction')\n",
    "plt.ylabel('Label')\n",
    "plt.show()\n",
    "\"\"\""
   ]
  },
  {
   "cell_type": "code",
   "execution_count": 31,
   "id": "271f58f2",
   "metadata": {},
   "outputs": [
    {
     "name": "stdout",
     "output_type": "stream",
     "text": [
      "0.15104293823242188 38267.26404849097\n"
     ]
    }
   ],
   "source": [
    "# results of the classification don't mean anything. This is a computational benchmark \n",
    "def benchmark(classifier,X,iterations=10):\n",
    "    number_of_samples=len(X)*iterations\n",
    "    start_time = time.time()\n",
    "    for i in range(iterations):\n",
    "        predictions = classifier.predict(X)\n",
    "    end_time = time.time()\n",
    "    time_it = end_time-start_time\n",
    "    return time_it, number_of_samples\n",
    "first_time,samples=benchmark(knn,X,10)\n",
    "print(first_time,samples/first_time)"
   ]
  },
  {
   "cell_type": "code",
   "execution_count": 35,
   "id": "1a0e3902",
   "metadata": {},
   "outputs": [],
   "source": [
    "classifiers=[]\n",
    "for i in range(1,31):\n",
    "    knn=KNeighborsClassifier(n_neighbors=i)\n",
    "    knn.fit(X_train,y_train)\n",
    "    classifiers.append(knn)"
   ]
  },
  {
   "cell_type": "code",
   "execution_count": 36,
   "id": "79e34b6f",
   "metadata": {},
   "outputs": [],
   "source": [
    "times=[]\n",
    "iterations = 10\n",
    "x_len=len(X)\n",
    "for classifier in classifiers:\n",
    "    knn_time,samples=benchmark(classifier,X,iterations)\n",
    "    times.append(knn_time)"
   ]
  },
  {
   "cell_type": "code",
   "execution_count": 37,
   "id": "ec6b78b9",
   "metadata": {},
   "outputs": [
    {
     "name": "stdout",
     "output_type": "stream",
     "text": [
      "30 30\n",
      "Speed for k = 1 : 43449.33368222209\n",
      "Speed for k = 2 : 45862.801967461215\n",
      "Speed for k = 3 : 45146.151648724095\n",
      "Speed for k = 4 : 44796.11875377642\n",
      "Speed for k = 5 : 44451.39043316269\n",
      "Speed for k = 6 : 43777.68870863182\n",
      "Speed for k = 7 : 44112.32863152685\n",
      "Speed for k = 8 : 42805.21705352445\n",
      "Speed for k = 9 : 42805.065894484076\n",
      "Speed for k = 10 : 42490.56548745776\n",
      "Speed for k = 11 : 42490.78890682483\n",
      "Speed for k = 12 : 42490.34207044019\n",
      "Speed for k = 13 : 41276.40464130352\n",
      "Speed for k = 14 : 41874.79422809193\n",
      "Speed for k = 15 : 40983.335085836006\n",
      "Speed for k = 16 : 40983.61221981604\n",
      "Speed for k = 17 : 40983.88935754412\n",
      "Speed for k = 18 : 40983.54293596965\n",
      "Speed for k = 19 : 40983.82007276072\n",
      "Speed for k = 20 : 41276.40464130352\n",
      "Speed for k = 21 : 40694.944362098744\n",
      "Speed for k = 22 : 40983.75078821157\n",
      "Speed for k = 23 : 40410.65132234739\n",
      "Speed for k = 24 : 40129.704991408966\n",
      "Speed for k = 25 : 40130.103556956325\n",
      "Speed for k = 26 : 39852.96569364784\n",
      "Speed for k = 27 : 39853.09672190705\n",
      "Speed for k = 28 : 39580.27559003697\n",
      "Speed for k = 29 : 39574.331402751566\n",
      "Speed for k = 30 : 39310.90937099178\n"
     ]
    }
   ],
   "source": [
    "ks=range(1,31)\n",
    "#print(len(ks),len(times))\n",
    "for i in ks:\n",
    "    speed=(iterations*x_len)/times[i-1]\n",
    "    print(\"Speed for k =\",i,\":\",speed)"
   ]
  },
  {
   "cell_type": "code",
   "execution_count": null,
   "id": "d6407518",
   "metadata": {},
   "outputs": [],
   "source": []
  }
 ],
 "metadata": {
  "kernelspec": {
   "display_name": "Python 3",
   "language": "python",
   "name": "python3"
  },
  "language_info": {
   "codemirror_mode": {
    "name": "ipython",
    "version": 3
   },
   "file_extension": ".py",
   "mimetype": "text/x-python",
   "name": "python",
   "nbconvert_exporter": "python",
   "pygments_lexer": "ipython3",
   "version": "3.8.8"
  }
 },
 "nbformat": 4,
 "nbformat_minor": 5
}
