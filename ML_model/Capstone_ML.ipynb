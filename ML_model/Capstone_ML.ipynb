{
 "cells": [
  {
   "cell_type": "code",
   "execution_count": 67,
   "metadata": {},
   "outputs": [],
   "source": [
    "import numpy as np\n",
    "import pandas as pd\n",
    "from scipy import signal\n",
    "import matplotlib.pyplot as plt\n",
    "from scipy.io import wavfile\n",
    "from scipy.integrate import simps\n",
    "from scipy.fft import fftshift\n",
    "from tsfel.feature_extraction import features as tsfelf"
   ]
  },
  {
   "cell_type": "code",
   "execution_count": 7,
   "metadata": {},
   "outputs": [],
   "source": [
    "from os import listdir\n",
    "from os.path import isfile, join\n"
   ]
  },
  {
   "cell_type": "code",
   "execution_count": 91,
   "metadata": {},
   "outputs": [],
   "source": [
    "def bpf(arr, fs, lf, hf, order):\n",
    "    wbut = [lf, hf]\n",
    "    bbut, abut = signal.butter(order, wbut, btype ='bandpass', fs = fs)\n",
    "\n",
    "    return signal.filtfilt(bbut, abut, arr)\n",
    "\n",
    "def hpf(arr, fs, lf, order):\n",
    "    wbut = lf\n",
    "    bbut, abut = signal.butter(order, wbut, btype ='highpass', fs =fs)\n",
    "\n",
    "    return signal.filtfilt(bbut, abut, arr)\n"
   ]
  },
  {
   "cell_type": "code",
   "execution_count": 19,
   "metadata": {},
   "outputs": [
    {
     "data": {
      "text/plain": [
       "['start_10_11_2021_14_49_48_gravel.csv',\n",
       " 'start_10_11_2021_14_51_42_gravel.csv',\n",
       " 'start_10_11_2021_14_54_02_wet_asphalt.csv',\n",
       " 'start_10_11_2021_14_59_48_wet_asphalt.csv',\n",
       " 'start_10_11_2021_15_04_50_gravel.csv',\n",
       " 'start_10_11_2021_15_08_28_wet_asphalt.csv',\n",
       " 'start_10_11_2021_15_13_38_wet_asphalt.csv',\n",
       " 'stop_10_11_2021_14_49_57_gravel.csv',\n",
       " 'stop_10_11_2021_14_53_28_gravel.csv',\n",
       " 'stop_10_11_2021_14_59_34_wet_asphalt.csv',\n",
       " 'stop_10_11_2021_15_04_45_wet_asphalt.csv',\n",
       " 'stop_10_11_2021_15_08_07_gravel.csv',\n",
       " 'stop_10_11_2021_15_11_24_wet_asphalt.csv',\n",
       " 'stop_10_11_2021_15_18_54_wet_asphalt.csv']"
      ]
     },
     "execution_count": 19,
     "metadata": {},
     "output_type": "execute_result"
    }
   ],
   "source": [
    "mypath = 'C:\\\\Users\\\\Owner\\\\Downloads\\\\CapstoneData\\\\10_Nov_2021_timestamps'\n",
    "timestamps = [f for f in listdir(mypath) if isfile(join(mypath, f))]\n",
    "\n",
    "timestamps"
   ]
  },
  {
   "cell_type": "code",
   "execution_count": 27,
   "metadata": {},
   "outputs": [
    {
     "data": {
      "text/plain": [
       "['start_10_11_2021_14_49_48_gravel.csv',\n",
       " 'start_10_11_2021_14_51_42_gravel.csv',\n",
       " 'start_10_11_2021_15_04_50_gravel.csv',\n",
       " 'stop_10_11_2021_14_49_57_gravel.csv',\n",
       " 'stop_10_11_2021_14_53_28_gravel.csv',\n",
       " 'stop_10_11_2021_15_08_07_gravel.csv']"
      ]
     },
     "execution_count": 27,
     "metadata": {},
     "output_type": "execute_result"
    }
   ],
   "source": [
    "\n",
    "word = \"gravel\"\n",
    "word2 =\"wet_asphalt\"\n",
    "\n",
    "gravelstamps = []\n",
    "wetasphaltstamps = []\n",
    "\n",
    "for i in range(len(timestamps)):\n",
    "    sentence = timestamps[i]\n",
    "    if word in sentence.lower():\n",
    "        gravelstamps.append(sentence)\n",
    "    if word2 in sentence.lower():\n",
    "        wetasphaltstamps.append(sentence)\n",
    "        \n",
    "gravelstamps"
   ]
  },
  {
   "cell_type": "code",
   "execution_count": 40,
   "metadata": {},
   "outputs": [
    {
     "ename": "ValueError",
     "evalue": "time data '10_11_2021_14_49_48' does not match format '%d-%m-%Y %H:%M:%S'",
     "output_type": "error",
     "traceback": [
      "\u001b[1;31m---------------------------------------------------------------------------\u001b[0m",
      "\u001b[1;31mValueError\u001b[0m                                Traceback (most recent call last)",
      "\u001b[1;32m<ipython-input-40-969687b862b7>\u001b[0m in \u001b[0;36m<module>\u001b[1;34m\u001b[0m\n\u001b[0;32m      3\u001b[0m \u001b[0mdate_time_str\u001b[0m \u001b[1;33m=\u001b[0m \u001b[1;34m'10_11_2021_14_49_48'\u001b[0m\u001b[1;33m\u001b[0m\u001b[1;33m\u001b[0m\u001b[0m\n\u001b[0;32m      4\u001b[0m \u001b[1;31m#date_time_obj = datetime.datetime.strptime(date_time_str, '%Y-%m-%d %H:%M:%S.%f')\u001b[0m\u001b[1;33m\u001b[0m\u001b[1;33m\u001b[0m\u001b[1;33m\u001b[0m\u001b[0m\n\u001b[1;32m----> 5\u001b[1;33m \u001b[0mdate_time_obj\u001b[0m \u001b[1;33m=\u001b[0m \u001b[0mdatetime\u001b[0m\u001b[1;33m.\u001b[0m\u001b[0mdatetime\u001b[0m\u001b[1;33m.\u001b[0m\u001b[0mstrptime\u001b[0m\u001b[1;33m(\u001b[0m\u001b[0mdate_time_str\u001b[0m\u001b[1;33m,\u001b[0m \u001b[1;34m'%d-%m-%Y %H:%M:%S'\u001b[0m\u001b[1;33m)\u001b[0m\u001b[1;33m\u001b[0m\u001b[1;33m\u001b[0m\u001b[0m\n\u001b[0m\u001b[0;32m      6\u001b[0m \u001b[1;33m\u001b[0m\u001b[0m\n\u001b[0;32m      7\u001b[0m \u001b[0mprint\u001b[0m\u001b[1;33m(\u001b[0m\u001b[1;34m'Date:'\u001b[0m\u001b[1;33m,\u001b[0m \u001b[0mdate_time_obj\u001b[0m\u001b[1;33m.\u001b[0m\u001b[0mdate\u001b[0m\u001b[1;33m(\u001b[0m\u001b[1;33m)\u001b[0m\u001b[1;33m)\u001b[0m\u001b[1;33m\u001b[0m\u001b[1;33m\u001b[0m\u001b[0m\n",
      "\u001b[1;32m~\\anaconda3\\lib\\_strptime.py\u001b[0m in \u001b[0;36m_strptime_datetime\u001b[1;34m(cls, data_string, format)\u001b[0m\n\u001b[0;32m    566\u001b[0m     \"\"\"Return a class cls instance based on the input string and the\n\u001b[0;32m    567\u001b[0m     format string.\"\"\"\n\u001b[1;32m--> 568\u001b[1;33m     \u001b[0mtt\u001b[0m\u001b[1;33m,\u001b[0m \u001b[0mfraction\u001b[0m\u001b[1;33m,\u001b[0m \u001b[0mgmtoff_fraction\u001b[0m \u001b[1;33m=\u001b[0m \u001b[0m_strptime\u001b[0m\u001b[1;33m(\u001b[0m\u001b[0mdata_string\u001b[0m\u001b[1;33m,\u001b[0m \u001b[0mformat\u001b[0m\u001b[1;33m)\u001b[0m\u001b[1;33m\u001b[0m\u001b[1;33m\u001b[0m\u001b[0m\n\u001b[0m\u001b[0;32m    569\u001b[0m     \u001b[0mtzname\u001b[0m\u001b[1;33m,\u001b[0m \u001b[0mgmtoff\u001b[0m \u001b[1;33m=\u001b[0m \u001b[0mtt\u001b[0m\u001b[1;33m[\u001b[0m\u001b[1;33m-\u001b[0m\u001b[1;36m2\u001b[0m\u001b[1;33m:\u001b[0m\u001b[1;33m]\u001b[0m\u001b[1;33m\u001b[0m\u001b[1;33m\u001b[0m\u001b[0m\n\u001b[0;32m    570\u001b[0m     \u001b[0margs\u001b[0m \u001b[1;33m=\u001b[0m \u001b[0mtt\u001b[0m\u001b[1;33m[\u001b[0m\u001b[1;33m:\u001b[0m\u001b[1;36m6\u001b[0m\u001b[1;33m]\u001b[0m \u001b[1;33m+\u001b[0m \u001b[1;33m(\u001b[0m\u001b[0mfraction\u001b[0m\u001b[1;33m,\u001b[0m\u001b[1;33m)\u001b[0m\u001b[1;33m\u001b[0m\u001b[1;33m\u001b[0m\u001b[0m\n",
      "\u001b[1;32m~\\anaconda3\\lib\\_strptime.py\u001b[0m in \u001b[0;36m_strptime\u001b[1;34m(data_string, format)\u001b[0m\n\u001b[0;32m    347\u001b[0m     \u001b[0mfound\u001b[0m \u001b[1;33m=\u001b[0m \u001b[0mformat_regex\u001b[0m\u001b[1;33m.\u001b[0m\u001b[0mmatch\u001b[0m\u001b[1;33m(\u001b[0m\u001b[0mdata_string\u001b[0m\u001b[1;33m)\u001b[0m\u001b[1;33m\u001b[0m\u001b[1;33m\u001b[0m\u001b[0m\n\u001b[0;32m    348\u001b[0m     \u001b[1;32mif\u001b[0m \u001b[1;32mnot\u001b[0m \u001b[0mfound\u001b[0m\u001b[1;33m:\u001b[0m\u001b[1;33m\u001b[0m\u001b[1;33m\u001b[0m\u001b[0m\n\u001b[1;32m--> 349\u001b[1;33m         raise ValueError(\"time data %r does not match format %r\" %\n\u001b[0m\u001b[0;32m    350\u001b[0m                          (data_string, format))\n\u001b[0;32m    351\u001b[0m     \u001b[1;32mif\u001b[0m \u001b[0mlen\u001b[0m\u001b[1;33m(\u001b[0m\u001b[0mdata_string\u001b[0m\u001b[1;33m)\u001b[0m \u001b[1;33m!=\u001b[0m \u001b[0mfound\u001b[0m\u001b[1;33m.\u001b[0m\u001b[0mend\u001b[0m\u001b[1;33m(\u001b[0m\u001b[1;33m)\u001b[0m\u001b[1;33m:\u001b[0m\u001b[1;33m\u001b[0m\u001b[1;33m\u001b[0m\u001b[0m\n",
      "\u001b[1;31mValueError\u001b[0m: time data '10_11_2021_14_49_48' does not match format '%d-%m-%Y %H:%M:%S'"
     ]
    }
   ],
   "source": [
    "import datetime\n",
    "\n",
    "date_time_str = '10_11_2021_14_49_48'\n",
    "#date_time_obj = datetime.datetime.strptime(date_time_str, '%Y-%m-%d %H:%M:%S.%f')\n",
    "\n",
    "\n",
    "date_time_obj = datetime.datetime.strptime(date_time_str, '%d-%m-%Y %H:%M:%S.%f')\n",
    "print('Date:', date_time_obj.date())\n",
    "print('Time:', date_time_obj.time())\n",
    "print('Date-time:', date_time_obj)"
   ]
  },
  {
   "cell_type": "code",
   "execution_count": 32,
   "metadata": {},
   "outputs": [],
   "source": [
    "stamp = gravelstamps[0][17:25]"
   ]
  },
  {
   "cell_type": "code",
   "execution_count": 41,
   "metadata": {},
   "outputs": [
    {
     "data": {
      "text/plain": [
       "['start_10_11_2021_14_49_48_gravel.csv',\n",
       " 'start_10_11_2021_14_51_42_gravel.csv',\n",
       " 'start_10_11_2021_15_04_50_gravel.csv',\n",
       " 'stop_10_11_2021_14_49_57_gravel.csv',\n",
       " 'stop_10_11_2021_14_53_28_gravel.csv',\n",
       " 'stop_10_11_2021_15_08_07_gravel.csv']"
      ]
     },
     "execution_count": 41,
     "metadata": {},
     "output_type": "execute_result"
    }
   ],
   "source": [
    "gravelstamps"
   ]
  },
  {
   "cell_type": "code",
   "execution_count": 43,
   "metadata": {},
   "outputs": [
    {
     "data": {
      "text/plain": [
       "['start_10_11_2021_14_54_02_wet_asphalt.csv',\n",
       " 'start_10_11_2021_14_59_48_wet_asphalt.csv',\n",
       " 'start_10_11_2021_15_08_28_wet_asphalt.csv',\n",
       " 'start_10_11_2021_15_13_38_wet_asphalt.csv',\n",
       " 'stop_10_11_2021_14_59_34_wet_asphalt.csv',\n",
       " 'stop_10_11_2021_15_04_45_wet_asphalt.csv',\n",
       " 'stop_10_11_2021_15_11_24_wet_asphalt.csv',\n",
       " 'stop_10_11_2021_15_18_54_wet_asphalt.csv']"
      ]
     },
     "execution_count": 43,
     "metadata": {},
     "output_type": "execute_result"
    }
   ],
   "source": [
    "wetasphaltstamps"
   ]
  },
  {
   "cell_type": "code",
   "execution_count": 44,
   "metadata": {},
   "outputs": [],
   "source": [
    "# Gravel: 14:49:48-14_49_57\n",
    "# Gravel: 14_51_42-14_53_28\n",
    "# Gravel: 15_04_50-15_08_07\n",
    "\n",
    "# W Asp: 14_54_02-14_59_34\n",
    "# W Asp: 14_59_48-15_04_45\n",
    "# W Asp: 15_08_28-15_11_24\n",
    "# W Asp: 15_13_38-15_18_54"
   ]
  },
  {
   "cell_type": "code",
   "execution_count": 59,
   "metadata": {},
   "outputs": [],
   "source": [
    "# Automatisoi tää\n",
    "gravel1_start = int('14_49_48')\n",
    "gravel1_stop = int('14_49_57')\n",
    "\n",
    "\n",
    "gravel2_start = int('14_51_42')\n",
    "gravel2_stop = int('14_53_28')\n",
    "\n",
    "gravel3_start = int('15_04_50')\n",
    "gravel3_stop = int('15_08_07')\n",
    "\n",
    "\n",
    "wasp1_start = int('14_54_02')\n",
    "wasp1_stop = int('14_59_34')\n",
    "\n",
    "wasp2_start = int('14_59_48')\n",
    "wasp2_stop = int('15_04_45')\n",
    "\n",
    "wasp3_start = int('15_08_28')\n",
    "wasp3_stop = int('15_11_24')\n",
    "\n",
    "wasp4_start = int('15_13_38')\n",
    "wasp4_stop = int('15_18_54')\n"
   ]
  },
  {
   "cell_type": "code",
   "execution_count": 60,
   "metadata": {},
   "outputs": [],
   "source": [
    "test = onlyfiles[4]\n",
    "\n",
    "gravel_files = []\n",
    "wasp_files = []\n",
    "\n",
    "for i in range(len(onlyfiles)):\n",
    "    test = onlyfiles[i]\n",
    "    if gravel2_start < int(test[5:13]) < gravel2_stop:\n",
    "        gravel_files.append(test)\n",
    "    if gravel3_start < int(test[5:13]) < gravel3_stop:\n",
    "        gravel_files.append(test)\n",
    "    \n",
    "    # Add wet asphalt files\n",
    "    if wasp1_start < int(test[5:13]) < wasp1_stop:\n",
    "        wasp_files.append(test)\n",
    "    if wasp2_start < int(test[5:13]) < wasp2_stop:\n",
    "        wasp_files.append(test)\n",
    "    if wasp3_start < int(test[5:13]) < wasp3_stop:\n",
    "        wasp_files.append(test)\n",
    "    if wasp4_start < int(test[5:13]) < wasp4_stop:\n",
    "        wasp_files.append(test)        \n",
    "        "
   ]
  },
  {
   "cell_type": "code",
   "execution_count": 62,
   "metadata": {},
   "outputs": [
    {
     "data": {
      "text/plain": [
       "['2021_14_54_08-Nov-10.wav',\n",
       " '2021_14_54_18-Nov-10.wav',\n",
       " '2021_14_54_28-Nov-10.wav',\n",
       " '2021_14_54_39-Nov-10.wav',\n",
       " '2021_14_54_49-Nov-10.wav',\n",
       " '2021_14_54_59-Nov-10.wav',\n",
       " '2021_14_55_09-Nov-10.wav',\n",
       " '2021_14_55_19-Nov-10.wav',\n",
       " '2021_14_55_30-Nov-10.wav',\n",
       " '2021_14_55_40-Nov-10.wav',\n",
       " '2021_14_55_50-Nov-10.wav',\n",
       " '2021_14_56_00-Nov-10.wav',\n",
       " '2021_14_56_10-Nov-10.wav',\n",
       " '2021_14_56_20-Nov-10.wav',\n",
       " '2021_14_56_31-Nov-10.wav',\n",
       " '2021_14_56_41-Nov-10.wav',\n",
       " '2021_14_56_51-Nov-10.wav',\n",
       " '2021_14_57_01-Nov-10.wav',\n",
       " '2021_14_57_11-Nov-10.wav',\n",
       " '2021_14_57_22-Nov-10.wav',\n",
       " '2021_14_57_32-Nov-10.wav',\n",
       " '2021_14_57_42-Nov-10.wav',\n",
       " '2021_14_57_52-Nov-10.wav',\n",
       " '2021_14_58_02-Nov-10.wav',\n",
       " '2021_14_58_13-Nov-10.wav',\n",
       " '2021_14_58_23-Nov-10.wav',\n",
       " '2021_14_58_33-Nov-10.wav',\n",
       " '2021_14_58_43-Nov-10.wav',\n",
       " '2021_14_58_53-Nov-10.wav',\n",
       " '2021_14_59_04-Nov-10.wav',\n",
       " '2021_14_59_14-Nov-10.wav',\n",
       " '2021_14_59_24-Nov-10.wav',\n",
       " '2021_14_59_55-Nov-10.wav',\n",
       " '2021_15_00_05-Nov-10.wav',\n",
       " '2021_15_00_15-Nov-10.wav',\n",
       " '2021_15_00_25-Nov-10.wav',\n",
       " '2021_15_00_35-Nov-10.wav',\n",
       " '2021_15_00_45-Nov-10.wav',\n",
       " '2021_15_00_56-Nov-10.wav',\n",
       " '2021_15_01_06-Nov-10.wav',\n",
       " '2021_15_01_16-Nov-10.wav',\n",
       " '2021_15_01_26-Nov-10.wav',\n",
       " '2021_15_01_36-Nov-10.wav',\n",
       " '2021_15_01_47-Nov-10.wav',\n",
       " '2021_15_01_57-Nov-10.wav',\n",
       " '2021_15_02_07-Nov-10.wav',\n",
       " '2021_15_02_17-Nov-10.wav',\n",
       " '2021_15_02_27-Nov-10.wav',\n",
       " '2021_15_02_38-Nov-10.wav',\n",
       " '2021_15_02_48-Nov-10.wav',\n",
       " '2021_15_02_58-Nov-10.wav',\n",
       " '2021_15_03_08-Nov-10.wav',\n",
       " '2021_15_03_18-Nov-10.wav',\n",
       " '2021_15_03_29-Nov-10.wav',\n",
       " '2021_15_03_39-Nov-10.wav',\n",
       " '2021_15_03_49-Nov-10.wav',\n",
       " '2021_15_03_59-Nov-10.wav',\n",
       " '2021_15_04_09-Nov-10.wav',\n",
       " '2021_15_04_19-Nov-10.wav',\n",
       " '2021_15_04_30-Nov-10.wav',\n",
       " '2021_15_04_40-Nov-10.wav',\n",
       " '2021_15_08_34-Nov-10.wav',\n",
       " '2021_15_08_44-Nov-10.wav',\n",
       " '2021_15_08_55-Nov-10.wav',\n",
       " '2021_15_09_05-Nov-10.wav',\n",
       " '2021_15_09_15-Nov-10.wav',\n",
       " '2021_15_09_25-Nov-10.wav',\n",
       " '2021_15_09_35-Nov-10.wav',\n",
       " '2021_15_09_46-Nov-10.wav',\n",
       " '2021_15_09_56-Nov-10.wav',\n",
       " '2021_15_10_06-Nov-10.wav',\n",
       " '2021_15_10_16-Nov-10.wav',\n",
       " '2021_15_10_26-Nov-10.wav',\n",
       " '2021_15_10_37-Nov-10.wav',\n",
       " '2021_15_10_47-Nov-10.wav',\n",
       " '2021_15_10_57-Nov-10.wav',\n",
       " '2021_15_11_07-Nov-10.wav',\n",
       " '2021_15_11_17-Nov-10.wav',\n",
       " '2021_15_13_40-Nov-10.wav',\n",
       " '2021_15_13_50-Nov-10.wav',\n",
       " '2021_15_14_00-Nov-10.wav',\n",
       " '2021_15_14_11-Nov-10.wav',\n",
       " '2021_15_14_21-Nov-10.wav',\n",
       " '2021_15_14_31-Nov-10.wav',\n",
       " '2021_15_14_41-Nov-10.wav',\n",
       " '2021_15_14_51-Nov-10.wav',\n",
       " '2021_15_15_02-Nov-10.wav',\n",
       " '2021_15_15_12-Nov-10.wav',\n",
       " '2021_15_15_22-Nov-10.wav',\n",
       " '2021_15_15_32-Nov-10.wav',\n",
       " '2021_15_15_42-Nov-10.wav',\n",
       " '2021_15_15_53-Nov-10.wav',\n",
       " '2021_15_16_03-Nov-10.wav',\n",
       " '2021_15_16_13-Nov-10.wav',\n",
       " '2021_15_16_23-Nov-10.wav',\n",
       " '2021_15_16_33-Nov-10.wav',\n",
       " '2021_15_16_44-Nov-10.wav',\n",
       " '2021_15_16_54-Nov-10.wav',\n",
       " '2021_15_17_04-Nov-10.wav',\n",
       " '2021_15_17_14-Nov-10.wav',\n",
       " '2021_15_17_24-Nov-10.wav',\n",
       " '2021_15_17_34-Nov-10.wav',\n",
       " '2021_15_17_45-Nov-10.wav',\n",
       " '2021_15_17_55-Nov-10.wav',\n",
       " '2021_15_18_05-Nov-10.wav',\n",
       " '2021_15_18_15-Nov-10.wav',\n",
       " '2021_15_18_25-Nov-10.wav',\n",
       " '2021_15_18_36-Nov-10.wav',\n",
       " '2021_15_18_46-Nov-10.wav']"
      ]
     },
     "execution_count": 62,
     "metadata": {},
     "output_type": "execute_result"
    }
   ],
   "source": [
    "wasp_files"
   ]
  },
  {
   "cell_type": "code",
   "execution_count": 21,
   "metadata": {},
   "outputs": [
    {
     "data": {
      "text/html": [
       "<div>\n",
       "<style scoped>\n",
       "    .dataframe tbody tr th:only-of-type {\n",
       "        vertical-align: middle;\n",
       "    }\n",
       "\n",
       "    .dataframe tbody tr th {\n",
       "        vertical-align: top;\n",
       "    }\n",
       "\n",
       "    .dataframe thead th {\n",
       "        text-align: right;\n",
       "    }\n",
       "</style>\n",
       "<table border=\"1\" class=\"dataframe\">\n",
       "  <thead>\n",
       "    <tr style=\"text-align: right;\">\n",
       "      <th></th>\n",
       "      <th>Date</th>\n",
       "      <th>10-11-2021</th>\n",
       "    </tr>\n",
       "  </thead>\n",
       "  <tbody>\n",
       "    <tr>\n",
       "      <th>0</th>\n",
       "      <td>Time</td>\n",
       "      <td>14:54:2</td>\n",
       "    </tr>\n",
       "    <tr>\n",
       "      <th>1</th>\n",
       "      <td>Coordinates</td>\n",
       "      <td>NaN</td>\n",
       "    </tr>\n",
       "    <tr>\n",
       "      <th>2</th>\n",
       "      <td>Type</td>\n",
       "      <td>Wet Asphalt</td>\n",
       "    </tr>\n",
       "  </tbody>\n",
       "</table>\n",
       "</div>"
      ],
      "text/plain": [
       "          Date   10-11-2021\n",
       "0         Time      14:54:2\n",
       "1  Coordinates          NaN\n",
       "2         Type  Wet Asphalt"
      ]
     },
     "execution_count": 21,
     "metadata": {},
     "output_type": "execute_result"
    }
   ],
   "source": [
    "link = 'C:\\\\Users\\\\Owner\\\\Downloads\\\\CapstoneData\\\\10_Nov_2021_timestamps\\\\'+str(timestamps[2])\n",
    "pd.read_csv(link)"
   ]
  },
  {
   "cell_type": "code",
   "execution_count": 22,
   "metadata": {
    "scrolled": true
   },
   "outputs": [
    {
     "data": {
      "text/plain": [
       "['2021_14_46_49-Nov-Wed.wav',\n",
       " '2021_14_46_59-Nov-Wed.wav',\n",
       " '2021_14_47_48-Nov-10.wav',\n",
       " '2021_14_51_45-Nov-10.wav',\n",
       " '2021_14_51_56-Nov-10.wav',\n",
       " '2021_14_52_06-Nov-10.wav',\n",
       " '2021_14_52_16-Nov-10.wav',\n",
       " '2021_14_52_26-Nov-10.wav',\n",
       " '2021_14_52_36-Nov-10.wav',\n",
       " '2021_14_52_47-Nov-10.wav',\n",
       " '2021_14_52_57-Nov-10.wav',\n",
       " '2021_14_53_07-Nov-10.wav',\n",
       " '2021_14_53_17-Nov-10.wav',\n",
       " '2021_14_53_27-Nov-10.wav',\n",
       " '2021_14_53_37-Nov-10.wav',\n",
       " '2021_14_53_48-Nov-10.wav',\n",
       " '2021_14_53_58-Nov-10.wav',\n",
       " '2021_14_54_08-Nov-10.wav',\n",
       " '2021_14_54_18-Nov-10.wav',\n",
       " '2021_14_54_28-Nov-10.wav',\n",
       " '2021_14_54_39-Nov-10.wav',\n",
       " '2021_14_54_49-Nov-10.wav',\n",
       " '2021_14_54_59-Nov-10.wav',\n",
       " '2021_14_55_09-Nov-10.wav',\n",
       " '2021_14_55_19-Nov-10.wav',\n",
       " '2021_14_55_30-Nov-10.wav',\n",
       " '2021_14_55_40-Nov-10.wav',\n",
       " '2021_14_55_50-Nov-10.wav',\n",
       " '2021_14_56_00-Nov-10.wav',\n",
       " '2021_14_56_10-Nov-10.wav',\n",
       " '2021_14_56_20-Nov-10.wav',\n",
       " '2021_14_56_31-Nov-10.wav',\n",
       " '2021_14_56_41-Nov-10.wav',\n",
       " '2021_14_56_51-Nov-10.wav',\n",
       " '2021_14_57_01-Nov-10.wav',\n",
       " '2021_14_57_11-Nov-10.wav',\n",
       " '2021_14_57_22-Nov-10.wav',\n",
       " '2021_14_57_32-Nov-10.wav',\n",
       " '2021_14_57_42-Nov-10.wav',\n",
       " '2021_14_57_52-Nov-10.wav',\n",
       " '2021_14_58_02-Nov-10.wav',\n",
       " '2021_14_58_13-Nov-10.wav',\n",
       " '2021_14_58_23-Nov-10.wav',\n",
       " '2021_14_58_33-Nov-10.wav',\n",
       " '2021_14_58_43-Nov-10.wav',\n",
       " '2021_14_58_53-Nov-10.wav',\n",
       " '2021_14_59_04-Nov-10.wav',\n",
       " '2021_14_59_14-Nov-10.wav',\n",
       " '2021_14_59_24-Nov-10.wav',\n",
       " '2021_14_59_34-Nov-10.wav',\n",
       " '2021_14_59_44-Nov-10.wav',\n",
       " '2021_14_59_55-Nov-10.wav',\n",
       " '2021_15_00_05-Nov-10.wav',\n",
       " '2021_15_00_15-Nov-10.wav',\n",
       " '2021_15_00_25-Nov-10.wav',\n",
       " '2021_15_00_35-Nov-10.wav',\n",
       " '2021_15_00_45-Nov-10.wav',\n",
       " '2021_15_00_56-Nov-10.wav',\n",
       " '2021_15_01_06-Nov-10.wav',\n",
       " '2021_15_01_16-Nov-10.wav',\n",
       " '2021_15_01_26-Nov-10.wav',\n",
       " '2021_15_01_36-Nov-10.wav',\n",
       " '2021_15_01_47-Nov-10.wav',\n",
       " '2021_15_01_57-Nov-10.wav',\n",
       " '2021_15_02_07-Nov-10.wav',\n",
       " '2021_15_02_17-Nov-10.wav',\n",
       " '2021_15_02_27-Nov-10.wav',\n",
       " '2021_15_02_38-Nov-10.wav',\n",
       " '2021_15_02_48-Nov-10.wav',\n",
       " '2021_15_02_58-Nov-10.wav',\n",
       " '2021_15_03_08-Nov-10.wav',\n",
       " '2021_15_03_18-Nov-10.wav',\n",
       " '2021_15_03_29-Nov-10.wav',\n",
       " '2021_15_03_39-Nov-10.wav',\n",
       " '2021_15_03_49-Nov-10.wav',\n",
       " '2021_15_03_59-Nov-10.wav',\n",
       " '2021_15_04_09-Nov-10.wav',\n",
       " '2021_15_04_19-Nov-10.wav',\n",
       " '2021_15_04_30-Nov-10.wav',\n",
       " '2021_15_04_40-Nov-10.wav',\n",
       " '2021_15_04_50-Nov-10.wav',\n",
       " '2021_15_05_00-Nov-10.wav',\n",
       " '2021_15_05_10-Nov-10.wav',\n",
       " '2021_15_05_21-Nov-10.wav',\n",
       " '2021_15_05_31-Nov-10.wav',\n",
       " '2021_15_05_41-Nov-10.wav',\n",
       " '2021_15_05_51-Nov-10.wav',\n",
       " '2021_15_06_01-Nov-10.wav',\n",
       " '2021_15_06_12-Nov-10.wav',\n",
       " '2021_15_06_22-Nov-10.wav',\n",
       " '2021_15_06_32-Nov-10.wav',\n",
       " '2021_15_06_42-Nov-10.wav',\n",
       " '2021_15_06_52-Nov-10.wav',\n",
       " '2021_15_07_03-Nov-10.wav',\n",
       " '2021_15_07_13-Nov-10.wav',\n",
       " '2021_15_07_23-Nov-10.wav',\n",
       " '2021_15_07_33-Nov-10.wav',\n",
       " '2021_15_07_43-Nov-10.wav',\n",
       " '2021_15_07_54-Nov-10.wav',\n",
       " '2021_15_08_04-Nov-10.wav',\n",
       " '2021_15_08_14-Nov-10.wav',\n",
       " '2021_15_08_24-Nov-10.wav',\n",
       " '2021_15_08_34-Nov-10.wav',\n",
       " '2021_15_08_44-Nov-10.wav',\n",
       " '2021_15_08_55-Nov-10.wav',\n",
       " '2021_15_09_05-Nov-10.wav',\n",
       " '2021_15_09_15-Nov-10.wav',\n",
       " '2021_15_09_25-Nov-10.wav',\n",
       " '2021_15_09_35-Nov-10.wav',\n",
       " '2021_15_09_46-Nov-10.wav',\n",
       " '2021_15_09_56-Nov-10.wav',\n",
       " '2021_15_10_06-Nov-10.wav',\n",
       " '2021_15_10_16-Nov-10.wav',\n",
       " '2021_15_10_26-Nov-10.wav',\n",
       " '2021_15_10_37-Nov-10.wav',\n",
       " '2021_15_10_47-Nov-10.wav',\n",
       " '2021_15_10_57-Nov-10.wav',\n",
       " '2021_15_11_07-Nov-10.wav',\n",
       " '2021_15_11_17-Nov-10.wav',\n",
       " '2021_15_11_28-Nov-10.wav',\n",
       " '2021_15_11_38-Nov-10.wav',\n",
       " '2021_15_11_48-Nov-10.wav',\n",
       " '2021_15_11_58-Nov-10.wav',\n",
       " '2021_15_12_08-Nov-10.wav',\n",
       " '2021_15_12_18-Nov-10.wav',\n",
       " '2021_15_12_29-Nov-10.wav',\n",
       " '2021_15_12_39-Nov-10.wav',\n",
       " '2021_15_12_49-Nov-10.wav',\n",
       " '2021_15_12_59-Nov-10.wav',\n",
       " '2021_15_13_09-Nov-10.wav',\n",
       " '2021_15_13_20-Nov-10.wav',\n",
       " '2021_15_13_30-Nov-10.wav',\n",
       " '2021_15_13_40-Nov-10.wav',\n",
       " '2021_15_13_50-Nov-10.wav',\n",
       " '2021_15_14_00-Nov-10.wav',\n",
       " '2021_15_14_11-Nov-10.wav',\n",
       " '2021_15_14_21-Nov-10.wav',\n",
       " '2021_15_14_31-Nov-10.wav',\n",
       " '2021_15_14_41-Nov-10.wav',\n",
       " '2021_15_14_51-Nov-10.wav',\n",
       " '2021_15_15_02-Nov-10.wav',\n",
       " '2021_15_15_12-Nov-10.wav',\n",
       " '2021_15_15_22-Nov-10.wav',\n",
       " '2021_15_15_32-Nov-10.wav',\n",
       " '2021_15_15_42-Nov-10.wav',\n",
       " '2021_15_15_53-Nov-10.wav',\n",
       " '2021_15_16_03-Nov-10.wav',\n",
       " '2021_15_16_13-Nov-10.wav',\n",
       " '2021_15_16_23-Nov-10.wav',\n",
       " '2021_15_16_33-Nov-10.wav',\n",
       " '2021_15_16_44-Nov-10.wav',\n",
       " '2021_15_16_54-Nov-10.wav',\n",
       " '2021_15_17_04-Nov-10.wav',\n",
       " '2021_15_17_14-Nov-10.wav',\n",
       " '2021_15_17_24-Nov-10.wav',\n",
       " '2021_15_17_34-Nov-10.wav',\n",
       " '2021_15_17_45-Nov-10.wav',\n",
       " '2021_15_17_55-Nov-10.wav',\n",
       " '2021_15_18_05-Nov-10.wav',\n",
       " '2021_15_18_15-Nov-10.wav',\n",
       " '2021_15_18_25-Nov-10.wav',\n",
       " '2021_15_18_36-Nov-10.wav',\n",
       " '2021_15_18_46-Nov-10.wav',\n",
       " '2021_15_18_56-Nov-10.wav',\n",
       " '2021_15_19_06-Nov-10.wav',\n",
       " '2021_15_19_16-Nov-10.wav',\n",
       " '2021_15_19_27-Nov-10.wav',\n",
       " '2021_15_19_37-Nov-10.wav']"
      ]
     },
     "execution_count": 22,
     "metadata": {},
     "output_type": "execute_result"
    }
   ],
   "source": [
    "mypath = 'C:\\\\Users\\\\Owner\\\\Downloads\\\\CapstoneData\\\\10_Nov_2021_gravel_and_wet_asphalt'\n",
    "onlyfiles = [f for f in listdir(mypath) if isfile(join(mypath, f))]\n",
    "\n",
    "onlyfiles"
   ]
  },
  {
   "cell_type": "code",
   "execution_count": 16,
   "metadata": {},
   "outputs": [],
   "source": [
    "fs = 44100\n",
    "def read_data(r_id):\n",
    "    link = 'C:\\\\Users\\\\Owner\\\\Downloads\\\\CapstoneData\\\\10_Nov_2021_gravel_and_wet_asphalt\\\\'+ str(r_id)\n",
    "    sr, data = wavfile.read(link)\n",
    "    return data\n",
    "\n",
    "def read_timestamps(r_id):\n",
    "    link = 'C:\\\\Users\\\\Owner\\\\Downloads\\\\CapstoneData\\\\10_Nov_2021_timestamps\\\\'+ str(r_id)\n",
    "    time = pd.read_csv(link)\n",
    "    return time\n"
   ]
  },
  {
   "cell_type": "code",
   "execution_count": 17,
   "metadata": {},
   "outputs": [],
   "source": [
    "r_id = onlyfiles[0]\n",
    "\n",
    "s = read_data(r_id)"
   ]
  },
  {
   "cell_type": "code",
   "execution_count": 18,
   "metadata": {},
   "outputs": [
    {
     "data": {
      "application/javascript": [
       "/* Put everything inside the global mpl namespace */\n",
       "window.mpl = {};\n",
       "\n",
       "\n",
       "mpl.get_websocket_type = function() {\n",
       "    if (typeof(WebSocket) !== 'undefined') {\n",
       "        return WebSocket;\n",
       "    } else if (typeof(MozWebSocket) !== 'undefined') {\n",
       "        return MozWebSocket;\n",
       "    } else {\n",
       "        alert('Your browser does not have WebSocket support. ' +\n",
       "              'Please try Chrome, Safari or Firefox ≥ 6. ' +\n",
       "              'Firefox 4 and 5 are also supported but you ' +\n",
       "              'have to enable WebSockets in about:config.');\n",
       "    };\n",
       "}\n",
       "\n",
       "mpl.figure = function(figure_id, websocket, ondownload, parent_element) {\n",
       "    this.id = figure_id;\n",
       "\n",
       "    this.ws = websocket;\n",
       "\n",
       "    this.supports_binary = (this.ws.binaryType != undefined);\n",
       "\n",
       "    if (!this.supports_binary) {\n",
       "        var warnings = document.getElementById(\"mpl-warnings\");\n",
       "        if (warnings) {\n",
       "            warnings.style.display = 'block';\n",
       "            warnings.textContent = (\n",
       "                \"This browser does not support binary websocket messages. \" +\n",
       "                    \"Performance may be slow.\");\n",
       "        }\n",
       "    }\n",
       "\n",
       "    this.imageObj = new Image();\n",
       "\n",
       "    this.context = undefined;\n",
       "    this.message = undefined;\n",
       "    this.canvas = undefined;\n",
       "    this.rubberband_canvas = undefined;\n",
       "    this.rubberband_context = undefined;\n",
       "    this.format_dropdown = undefined;\n",
       "\n",
       "    this.image_mode = 'full';\n",
       "\n",
       "    this.root = $('<div/>');\n",
       "    this._root_extra_style(this.root)\n",
       "    this.root.attr('style', 'display: inline-block');\n",
       "\n",
       "    $(parent_element).append(this.root);\n",
       "\n",
       "    this._init_header(this);\n",
       "    this._init_canvas(this);\n",
       "    this._init_toolbar(this);\n",
       "\n",
       "    var fig = this;\n",
       "\n",
       "    this.waiting = false;\n",
       "\n",
       "    this.ws.onopen =  function () {\n",
       "            fig.send_message(\"supports_binary\", {value: fig.supports_binary});\n",
       "            fig.send_message(\"send_image_mode\", {});\n",
       "            if (mpl.ratio != 1) {\n",
       "                fig.send_message(\"set_dpi_ratio\", {'dpi_ratio': mpl.ratio});\n",
       "            }\n",
       "            fig.send_message(\"refresh\", {});\n",
       "        }\n",
       "\n",
       "    this.imageObj.onload = function() {\n",
       "            if (fig.image_mode == 'full') {\n",
       "                // Full images could contain transparency (where diff images\n",
       "                // almost always do), so we need to clear the canvas so that\n",
       "                // there is no ghosting.\n",
       "                fig.context.clearRect(0, 0, fig.canvas.width, fig.canvas.height);\n",
       "            }\n",
       "            fig.context.drawImage(fig.imageObj, 0, 0);\n",
       "        };\n",
       "\n",
       "    this.imageObj.onunload = function() {\n",
       "        fig.ws.close();\n",
       "    }\n",
       "\n",
       "    this.ws.onmessage = this._make_on_message_function(this);\n",
       "\n",
       "    this.ondownload = ondownload;\n",
       "}\n",
       "\n",
       "mpl.figure.prototype._init_header = function() {\n",
       "    var titlebar = $(\n",
       "        '<div class=\"ui-dialog-titlebar ui-widget-header ui-corner-all ' +\n",
       "        'ui-helper-clearfix\"/>');\n",
       "    var titletext = $(\n",
       "        '<div class=\"ui-dialog-title\" style=\"width: 100%; ' +\n",
       "        'text-align: center; padding: 3px;\"/>');\n",
       "    titlebar.append(titletext)\n",
       "    this.root.append(titlebar);\n",
       "    this.header = titletext[0];\n",
       "}\n",
       "\n",
       "\n",
       "\n",
       "mpl.figure.prototype._canvas_extra_style = function(canvas_div) {\n",
       "\n",
       "}\n",
       "\n",
       "\n",
       "mpl.figure.prototype._root_extra_style = function(canvas_div) {\n",
       "\n",
       "}\n",
       "\n",
       "mpl.figure.prototype._init_canvas = function() {\n",
       "    var fig = this;\n",
       "\n",
       "    var canvas_div = $('<div/>');\n",
       "\n",
       "    canvas_div.attr('style', 'position: relative; clear: both; outline: 0');\n",
       "\n",
       "    function canvas_keyboard_event(event) {\n",
       "        return fig.key_event(event, event['data']);\n",
       "    }\n",
       "\n",
       "    canvas_div.keydown('key_press', canvas_keyboard_event);\n",
       "    canvas_div.keyup('key_release', canvas_keyboard_event);\n",
       "    this.canvas_div = canvas_div\n",
       "    this._canvas_extra_style(canvas_div)\n",
       "    this.root.append(canvas_div);\n",
       "\n",
       "    var canvas = $('<canvas/>');\n",
       "    canvas.addClass('mpl-canvas');\n",
       "    canvas.attr('style', \"left: 0; top: 0; z-index: 0; outline: 0\")\n",
       "\n",
       "    this.canvas = canvas[0];\n",
       "    this.context = canvas[0].getContext(\"2d\");\n",
       "\n",
       "    var backingStore = this.context.backingStorePixelRatio ||\n",
       "\tthis.context.webkitBackingStorePixelRatio ||\n",
       "\tthis.context.mozBackingStorePixelRatio ||\n",
       "\tthis.context.msBackingStorePixelRatio ||\n",
       "\tthis.context.oBackingStorePixelRatio ||\n",
       "\tthis.context.backingStorePixelRatio || 1;\n",
       "\n",
       "    mpl.ratio = (window.devicePixelRatio || 1) / backingStore;\n",
       "\n",
       "    var rubberband = $('<canvas/>');\n",
       "    rubberband.attr('style', \"position: absolute; left: 0; top: 0; z-index: 1;\")\n",
       "\n",
       "    var pass_mouse_events = true;\n",
       "\n",
       "    canvas_div.resizable({\n",
       "        start: function(event, ui) {\n",
       "            pass_mouse_events = false;\n",
       "        },\n",
       "        resize: function(event, ui) {\n",
       "            fig.request_resize(ui.size.width, ui.size.height);\n",
       "        },\n",
       "        stop: function(event, ui) {\n",
       "            pass_mouse_events = true;\n",
       "            fig.request_resize(ui.size.width, ui.size.height);\n",
       "        },\n",
       "    });\n",
       "\n",
       "    function mouse_event_fn(event) {\n",
       "        if (pass_mouse_events)\n",
       "            return fig.mouse_event(event, event['data']);\n",
       "    }\n",
       "\n",
       "    rubberband.mousedown('button_press', mouse_event_fn);\n",
       "    rubberband.mouseup('button_release', mouse_event_fn);\n",
       "    // Throttle sequential mouse events to 1 every 20ms.\n",
       "    rubberband.mousemove('motion_notify', mouse_event_fn);\n",
       "\n",
       "    rubberband.mouseenter('figure_enter', mouse_event_fn);\n",
       "    rubberband.mouseleave('figure_leave', mouse_event_fn);\n",
       "\n",
       "    canvas_div.on(\"wheel\", function (event) {\n",
       "        event = event.originalEvent;\n",
       "        event['data'] = 'scroll'\n",
       "        if (event.deltaY < 0) {\n",
       "            event.step = 1;\n",
       "        } else {\n",
       "            event.step = -1;\n",
       "        }\n",
       "        mouse_event_fn(event);\n",
       "    });\n",
       "\n",
       "    canvas_div.append(canvas);\n",
       "    canvas_div.append(rubberband);\n",
       "\n",
       "    this.rubberband = rubberband;\n",
       "    this.rubberband_canvas = rubberband[0];\n",
       "    this.rubberband_context = rubberband[0].getContext(\"2d\");\n",
       "    this.rubberband_context.strokeStyle = \"#000000\";\n",
       "\n",
       "    this._resize_canvas = function(width, height) {\n",
       "        // Keep the size of the canvas, canvas container, and rubber band\n",
       "        // canvas in synch.\n",
       "        canvas_div.css('width', width)\n",
       "        canvas_div.css('height', height)\n",
       "\n",
       "        canvas.attr('width', width * mpl.ratio);\n",
       "        canvas.attr('height', height * mpl.ratio);\n",
       "        canvas.attr('style', 'width: ' + width + 'px; height: ' + height + 'px;');\n",
       "\n",
       "        rubberband.attr('width', width);\n",
       "        rubberband.attr('height', height);\n",
       "    }\n",
       "\n",
       "    // Set the figure to an initial 600x600px, this will subsequently be updated\n",
       "    // upon first draw.\n",
       "    this._resize_canvas(600, 600);\n",
       "\n",
       "    // Disable right mouse context menu.\n",
       "    $(this.rubberband_canvas).bind(\"contextmenu\",function(e){\n",
       "        return false;\n",
       "    });\n",
       "\n",
       "    function set_focus () {\n",
       "        canvas.focus();\n",
       "        canvas_div.focus();\n",
       "    }\n",
       "\n",
       "    window.setTimeout(set_focus, 100);\n",
       "}\n",
       "\n",
       "mpl.figure.prototype._init_toolbar = function() {\n",
       "    var fig = this;\n",
       "\n",
       "    var nav_element = $('<div/>');\n",
       "    nav_element.attr('style', 'width: 100%');\n",
       "    this.root.append(nav_element);\n",
       "\n",
       "    // Define a callback function for later on.\n",
       "    function toolbar_event(event) {\n",
       "        return fig.toolbar_button_onclick(event['data']);\n",
       "    }\n",
       "    function toolbar_mouse_event(event) {\n",
       "        return fig.toolbar_button_onmouseover(event['data']);\n",
       "    }\n",
       "\n",
       "    for(var toolbar_ind in mpl.toolbar_items) {\n",
       "        var name = mpl.toolbar_items[toolbar_ind][0];\n",
       "        var tooltip = mpl.toolbar_items[toolbar_ind][1];\n",
       "        var image = mpl.toolbar_items[toolbar_ind][2];\n",
       "        var method_name = mpl.toolbar_items[toolbar_ind][3];\n",
       "\n",
       "        if (!name) {\n",
       "            // put a spacer in here.\n",
       "            continue;\n",
       "        }\n",
       "        var button = $('<button/>');\n",
       "        button.addClass('ui-button ui-widget ui-state-default ui-corner-all ' +\n",
       "                        'ui-button-icon-only');\n",
       "        button.attr('role', 'button');\n",
       "        button.attr('aria-disabled', 'false');\n",
       "        button.click(method_name, toolbar_event);\n",
       "        button.mouseover(tooltip, toolbar_mouse_event);\n",
       "\n",
       "        var icon_img = $('<span/>');\n",
       "        icon_img.addClass('ui-button-icon-primary ui-icon');\n",
       "        icon_img.addClass(image);\n",
       "        icon_img.addClass('ui-corner-all');\n",
       "\n",
       "        var tooltip_span = $('<span/>');\n",
       "        tooltip_span.addClass('ui-button-text');\n",
       "        tooltip_span.html(tooltip);\n",
       "\n",
       "        button.append(icon_img);\n",
       "        button.append(tooltip_span);\n",
       "\n",
       "        nav_element.append(button);\n",
       "    }\n",
       "\n",
       "    var fmt_picker_span = $('<span/>');\n",
       "\n",
       "    var fmt_picker = $('<select/>');\n",
       "    fmt_picker.addClass('mpl-toolbar-option ui-widget ui-widget-content');\n",
       "    fmt_picker_span.append(fmt_picker);\n",
       "    nav_element.append(fmt_picker_span);\n",
       "    this.format_dropdown = fmt_picker[0];\n",
       "\n",
       "    for (var ind in mpl.extensions) {\n",
       "        var fmt = mpl.extensions[ind];\n",
       "        var option = $(\n",
       "            '<option/>', {selected: fmt === mpl.default_extension}).html(fmt);\n",
       "        fmt_picker.append(option);\n",
       "    }\n",
       "\n",
       "    // Add hover states to the ui-buttons\n",
       "    $( \".ui-button\" ).hover(\n",
       "        function() { $(this).addClass(\"ui-state-hover\");},\n",
       "        function() { $(this).removeClass(\"ui-state-hover\");}\n",
       "    );\n",
       "\n",
       "    var status_bar = $('<span class=\"mpl-message\"/>');\n",
       "    nav_element.append(status_bar);\n",
       "    this.message = status_bar[0];\n",
       "}\n",
       "\n",
       "mpl.figure.prototype.request_resize = function(x_pixels, y_pixels) {\n",
       "    // Request matplotlib to resize the figure. Matplotlib will then trigger a resize in the client,\n",
       "    // which will in turn request a refresh of the image.\n",
       "    this.send_message('resize', {'width': x_pixels, 'height': y_pixels});\n",
       "}\n",
       "\n",
       "mpl.figure.prototype.send_message = function(type, properties) {\n",
       "    properties['type'] = type;\n",
       "    properties['figure_id'] = this.id;\n",
       "    this.ws.send(JSON.stringify(properties));\n",
       "}\n",
       "\n",
       "mpl.figure.prototype.send_draw_message = function() {\n",
       "    if (!this.waiting) {\n",
       "        this.waiting = true;\n",
       "        this.ws.send(JSON.stringify({type: \"draw\", figure_id: this.id}));\n",
       "    }\n",
       "}\n",
       "\n",
       "\n",
       "mpl.figure.prototype.handle_save = function(fig, msg) {\n",
       "    var format_dropdown = fig.format_dropdown;\n",
       "    var format = format_dropdown.options[format_dropdown.selectedIndex].value;\n",
       "    fig.ondownload(fig, format);\n",
       "}\n",
       "\n",
       "\n",
       "mpl.figure.prototype.handle_resize = function(fig, msg) {\n",
       "    var size = msg['size'];\n",
       "    if (size[0] != fig.canvas.width || size[1] != fig.canvas.height) {\n",
       "        fig._resize_canvas(size[0], size[1]);\n",
       "        fig.send_message(\"refresh\", {});\n",
       "    };\n",
       "}\n",
       "\n",
       "mpl.figure.prototype.handle_rubberband = function(fig, msg) {\n",
       "    var x0 = msg['x0'] / mpl.ratio;\n",
       "    var y0 = (fig.canvas.height - msg['y0']) / mpl.ratio;\n",
       "    var x1 = msg['x1'] / mpl.ratio;\n",
       "    var y1 = (fig.canvas.height - msg['y1']) / mpl.ratio;\n",
       "    x0 = Math.floor(x0) + 0.5;\n",
       "    y0 = Math.floor(y0) + 0.5;\n",
       "    x1 = Math.floor(x1) + 0.5;\n",
       "    y1 = Math.floor(y1) + 0.5;\n",
       "    var min_x = Math.min(x0, x1);\n",
       "    var min_y = Math.min(y0, y1);\n",
       "    var width = Math.abs(x1 - x0);\n",
       "    var height = Math.abs(y1 - y0);\n",
       "\n",
       "    fig.rubberband_context.clearRect(\n",
       "        0, 0, fig.canvas.width / mpl.ratio, fig.canvas.height / mpl.ratio);\n",
       "\n",
       "    fig.rubberband_context.strokeRect(min_x, min_y, width, height);\n",
       "}\n",
       "\n",
       "mpl.figure.prototype.handle_figure_label = function(fig, msg) {\n",
       "    // Updates the figure title.\n",
       "    fig.header.textContent = msg['label'];\n",
       "}\n",
       "\n",
       "mpl.figure.prototype.handle_cursor = function(fig, msg) {\n",
       "    var cursor = msg['cursor'];\n",
       "    switch(cursor)\n",
       "    {\n",
       "    case 0:\n",
       "        cursor = 'pointer';\n",
       "        break;\n",
       "    case 1:\n",
       "        cursor = 'default';\n",
       "        break;\n",
       "    case 2:\n",
       "        cursor = 'crosshair';\n",
       "        break;\n",
       "    case 3:\n",
       "        cursor = 'move';\n",
       "        break;\n",
       "    }\n",
       "    fig.rubberband_canvas.style.cursor = cursor;\n",
       "}\n",
       "\n",
       "mpl.figure.prototype.handle_message = function(fig, msg) {\n",
       "    fig.message.textContent = msg['message'];\n",
       "}\n",
       "\n",
       "mpl.figure.prototype.handle_draw = function(fig, msg) {\n",
       "    // Request the server to send over a new figure.\n",
       "    fig.send_draw_message();\n",
       "}\n",
       "\n",
       "mpl.figure.prototype.handle_image_mode = function(fig, msg) {\n",
       "    fig.image_mode = msg['mode'];\n",
       "}\n",
       "\n",
       "mpl.figure.prototype.updated_canvas_event = function() {\n",
       "    // Called whenever the canvas gets updated.\n",
       "    this.send_message(\"ack\", {});\n",
       "}\n",
       "\n",
       "// A function to construct a web socket function for onmessage handling.\n",
       "// Called in the figure constructor.\n",
       "mpl.figure.prototype._make_on_message_function = function(fig) {\n",
       "    return function socket_on_message(evt) {\n",
       "        if (evt.data instanceof Blob) {\n",
       "            /* FIXME: We get \"Resource interpreted as Image but\n",
       "             * transferred with MIME type text/plain:\" errors on\n",
       "             * Chrome.  But how to set the MIME type?  It doesn't seem\n",
       "             * to be part of the websocket stream */\n",
       "            evt.data.type = \"image/png\";\n",
       "\n",
       "            /* Free the memory for the previous frames */\n",
       "            if (fig.imageObj.src) {\n",
       "                (window.URL || window.webkitURL).revokeObjectURL(\n",
       "                    fig.imageObj.src);\n",
       "            }\n",
       "\n",
       "            fig.imageObj.src = (window.URL || window.webkitURL).createObjectURL(\n",
       "                evt.data);\n",
       "            fig.updated_canvas_event();\n",
       "            fig.waiting = false;\n",
       "            return;\n",
       "        }\n",
       "        else if (typeof evt.data === 'string' && evt.data.slice(0, 21) == \"data:image/png;base64\") {\n",
       "            fig.imageObj.src = evt.data;\n",
       "            fig.updated_canvas_event();\n",
       "            fig.waiting = false;\n",
       "            return;\n",
       "        }\n",
       "\n",
       "        var msg = JSON.parse(evt.data);\n",
       "        var msg_type = msg['type'];\n",
       "\n",
       "        // Call the  \"handle_{type}\" callback, which takes\n",
       "        // the figure and JSON message as its only arguments.\n",
       "        try {\n",
       "            var callback = fig[\"handle_\" + msg_type];\n",
       "        } catch (e) {\n",
       "            console.log(\"No handler for the '\" + msg_type + \"' message type: \", msg);\n",
       "            return;\n",
       "        }\n",
       "\n",
       "        if (callback) {\n",
       "            try {\n",
       "                // console.log(\"Handling '\" + msg_type + \"' message: \", msg);\n",
       "                callback(fig, msg);\n",
       "            } catch (e) {\n",
       "                console.log(\"Exception inside the 'handler_\" + msg_type + \"' callback:\", e, e.stack, msg);\n",
       "            }\n",
       "        }\n",
       "    };\n",
       "}\n",
       "\n",
       "// from http://stackoverflow.com/questions/1114465/getting-mouse-location-in-canvas\n",
       "mpl.findpos = function(e) {\n",
       "    //this section is from http://www.quirksmode.org/js/events_properties.html\n",
       "    var targ;\n",
       "    if (!e)\n",
       "        e = window.event;\n",
       "    if (e.target)\n",
       "        targ = e.target;\n",
       "    else if (e.srcElement)\n",
       "        targ = e.srcElement;\n",
       "    if (targ.nodeType == 3) // defeat Safari bug\n",
       "        targ = targ.parentNode;\n",
       "\n",
       "    // jQuery normalizes the pageX and pageY\n",
       "    // pageX,Y are the mouse positions relative to the document\n",
       "    // offset() returns the position of the element relative to the document\n",
       "    var x = e.pageX - $(targ).offset().left;\n",
       "    var y = e.pageY - $(targ).offset().top;\n",
       "\n",
       "    return {\"x\": x, \"y\": y};\n",
       "};\n",
       "\n",
       "/*\n",
       " * return a copy of an object with only non-object keys\n",
       " * we need this to avoid circular references\n",
       " * http://stackoverflow.com/a/24161582/3208463\n",
       " */\n",
       "function simpleKeys (original) {\n",
       "  return Object.keys(original).reduce(function (obj, key) {\n",
       "    if (typeof original[key] !== 'object')\n",
       "        obj[key] = original[key]\n",
       "    return obj;\n",
       "  }, {});\n",
       "}\n",
       "\n",
       "mpl.figure.prototype.mouse_event = function(event, name) {\n",
       "    var canvas_pos = mpl.findpos(event)\n",
       "\n",
       "    if (name === 'button_press')\n",
       "    {\n",
       "        this.canvas.focus();\n",
       "        this.canvas_div.focus();\n",
       "    }\n",
       "\n",
       "    var x = canvas_pos.x * mpl.ratio;\n",
       "    var y = canvas_pos.y * mpl.ratio;\n",
       "\n",
       "    this.send_message(name, {x: x, y: y, button: event.button,\n",
       "                             step: event.step,\n",
       "                             guiEvent: simpleKeys(event)});\n",
       "\n",
       "    /* This prevents the web browser from automatically changing to\n",
       "     * the text insertion cursor when the button is pressed.  We want\n",
       "     * to control all of the cursor setting manually through the\n",
       "     * 'cursor' event from matplotlib */\n",
       "    event.preventDefault();\n",
       "    return false;\n",
       "}\n",
       "\n",
       "mpl.figure.prototype._key_event_extra = function(event, name) {\n",
       "    // Handle any extra behaviour associated with a key event\n",
       "}\n",
       "\n",
       "mpl.figure.prototype.key_event = function(event, name) {\n",
       "\n",
       "    // Prevent repeat events\n",
       "    if (name == 'key_press')\n",
       "    {\n",
       "        if (event.which === this._key)\n",
       "            return;\n",
       "        else\n",
       "            this._key = event.which;\n",
       "    }\n",
       "    if (name == 'key_release')\n",
       "        this._key = null;\n",
       "\n",
       "    var value = '';\n",
       "    if (event.ctrlKey && event.which != 17)\n",
       "        value += \"ctrl+\";\n",
       "    if (event.altKey && event.which != 18)\n",
       "        value += \"alt+\";\n",
       "    if (event.shiftKey && event.which != 16)\n",
       "        value += \"shift+\";\n",
       "\n",
       "    value += 'k';\n",
       "    value += event.which.toString();\n",
       "\n",
       "    this._key_event_extra(event, name);\n",
       "\n",
       "    this.send_message(name, {key: value,\n",
       "                             guiEvent: simpleKeys(event)});\n",
       "    return false;\n",
       "}\n",
       "\n",
       "mpl.figure.prototype.toolbar_button_onclick = function(name) {\n",
       "    if (name == 'download') {\n",
       "        this.handle_save(this, null);\n",
       "    } else {\n",
       "        this.send_message(\"toolbar_button\", {name: name});\n",
       "    }\n",
       "};\n",
       "\n",
       "mpl.figure.prototype.toolbar_button_onmouseover = function(tooltip) {\n",
       "    this.message.textContent = tooltip;\n",
       "};\n",
       "mpl.toolbar_items = [[\"Home\", \"Reset original view\", \"fa fa-home icon-home\", \"home\"], [\"Back\", \"Back to previous view\", \"fa fa-arrow-left icon-arrow-left\", \"back\"], [\"Forward\", \"Forward to next view\", \"fa fa-arrow-right icon-arrow-right\", \"forward\"], [\"\", \"\", \"\", \"\"], [\"Pan\", \"Pan axes with left mouse, zoom with right\", \"fa fa-arrows icon-move\", \"pan\"], [\"Zoom\", \"Zoom to rectangle\", \"fa fa-square-o icon-check-empty\", \"zoom\"], [\"\", \"\", \"\", \"\"], [\"Download\", \"Download plot\", \"fa fa-floppy-o icon-save\", \"download\"]];\n",
       "\n",
       "mpl.extensions = [\"eps\", \"jpeg\", \"pdf\", \"png\", \"ps\", \"raw\", \"svg\", \"tif\"];\n",
       "\n",
       "mpl.default_extension = \"png\";var comm_websocket_adapter = function(comm) {\n",
       "    // Create a \"websocket\"-like object which calls the given IPython comm\n",
       "    // object with the appropriate methods. Currently this is a non binary\n",
       "    // socket, so there is still some room for performance tuning.\n",
       "    var ws = {};\n",
       "\n",
       "    ws.close = function() {\n",
       "        comm.close()\n",
       "    };\n",
       "    ws.send = function(m) {\n",
       "        //console.log('sending', m);\n",
       "        comm.send(m);\n",
       "    };\n",
       "    // Register the callback with on_msg.\n",
       "    comm.on_msg(function(msg) {\n",
       "        //console.log('receiving', msg['content']['data'], msg);\n",
       "        // Pass the mpl event to the overridden (by mpl) onmessage function.\n",
       "        ws.onmessage(msg['content']['data'])\n",
       "    });\n",
       "    return ws;\n",
       "}\n",
       "\n",
       "mpl.mpl_figure_comm = function(comm, msg) {\n",
       "    // This is the function which gets called when the mpl process\n",
       "    // starts-up an IPython Comm through the \"matplotlib\" channel.\n",
       "\n",
       "    var id = msg.content.data.id;\n",
       "    // Get hold of the div created by the display call when the Comm\n",
       "    // socket was opened in Python.\n",
       "    var element = $(\"#\" + id);\n",
       "    var ws_proxy = comm_websocket_adapter(comm)\n",
       "\n",
       "    function ondownload(figure, format) {\n",
       "        window.open(figure.imageObj.src);\n",
       "    }\n",
       "\n",
       "    var fig = new mpl.figure(id, ws_proxy,\n",
       "                           ondownload,\n",
       "                           element.get(0));\n",
       "\n",
       "    // Call onopen now - mpl needs it, as it is assuming we've passed it a real\n",
       "    // web socket which is closed, not our websocket->open comm proxy.\n",
       "    ws_proxy.onopen();\n",
       "\n",
       "    fig.parent_element = element.get(0);\n",
       "    fig.cell_info = mpl.find_output_cell(\"<div id='\" + id + \"'></div>\");\n",
       "    if (!fig.cell_info) {\n",
       "        console.error(\"Failed to find cell for figure\", id, fig);\n",
       "        return;\n",
       "    }\n",
       "\n",
       "    var output_index = fig.cell_info[2]\n",
       "    var cell = fig.cell_info[0];\n",
       "\n",
       "};\n",
       "\n",
       "mpl.figure.prototype.handle_close = function(fig, msg) {\n",
       "    var width = fig.canvas.width/mpl.ratio\n",
       "    fig.root.unbind('remove')\n",
       "\n",
       "    // Update the output cell to use the data from the current canvas.\n",
       "    fig.push_to_output();\n",
       "    var dataURL = fig.canvas.toDataURL();\n",
       "    // Re-enable the keyboard manager in IPython - without this line, in FF,\n",
       "    // the notebook keyboard shortcuts fail.\n",
       "    IPython.keyboard_manager.enable()\n",
       "    $(fig.parent_element).html('<img src=\"' + dataURL + '\" width=\"' + width + '\">');\n",
       "    fig.close_ws(fig, msg);\n",
       "}\n",
       "\n",
       "mpl.figure.prototype.close_ws = function(fig, msg){\n",
       "    fig.send_message('closing', msg);\n",
       "    // fig.ws.close()\n",
       "}\n",
       "\n",
       "mpl.figure.prototype.push_to_output = function(remove_interactive) {\n",
       "    // Turn the data on the canvas into data in the output cell.\n",
       "    var width = this.canvas.width/mpl.ratio\n",
       "    var dataURL = this.canvas.toDataURL();\n",
       "    this.cell_info[1]['text/html'] = '<img src=\"' + dataURL + '\" width=\"' + width + '\">';\n",
       "}\n",
       "\n",
       "mpl.figure.prototype.updated_canvas_event = function() {\n",
       "    // Tell IPython that the notebook contents must change.\n",
       "    IPython.notebook.set_dirty(true);\n",
       "    this.send_message(\"ack\", {});\n",
       "    var fig = this;\n",
       "    // Wait a second, then push the new image to the DOM so\n",
       "    // that it is saved nicely (might be nice to debounce this).\n",
       "    setTimeout(function () { fig.push_to_output() }, 1000);\n",
       "}\n",
       "\n",
       "mpl.figure.prototype._init_toolbar = function() {\n",
       "    var fig = this;\n",
       "\n",
       "    var nav_element = $('<div/>');\n",
       "    nav_element.attr('style', 'width: 100%');\n",
       "    this.root.append(nav_element);\n",
       "\n",
       "    // Define a callback function for later on.\n",
       "    function toolbar_event(event) {\n",
       "        return fig.toolbar_button_onclick(event['data']);\n",
       "    }\n",
       "    function toolbar_mouse_event(event) {\n",
       "        return fig.toolbar_button_onmouseover(event['data']);\n",
       "    }\n",
       "\n",
       "    for(var toolbar_ind in mpl.toolbar_items){\n",
       "        var name = mpl.toolbar_items[toolbar_ind][0];\n",
       "        var tooltip = mpl.toolbar_items[toolbar_ind][1];\n",
       "        var image = mpl.toolbar_items[toolbar_ind][2];\n",
       "        var method_name = mpl.toolbar_items[toolbar_ind][3];\n",
       "\n",
       "        if (!name) { continue; };\n",
       "\n",
       "        var button = $('<button class=\"btn btn-default\" href=\"#\" title=\"' + name + '\"><i class=\"fa ' + image + ' fa-lg\"></i></button>');\n",
       "        button.click(method_name, toolbar_event);\n",
       "        button.mouseover(tooltip, toolbar_mouse_event);\n",
       "        nav_element.append(button);\n",
       "    }\n",
       "\n",
       "    // Add the status bar.\n",
       "    var status_bar = $('<span class=\"mpl-message\" style=\"text-align:right; float: right;\"/>');\n",
       "    nav_element.append(status_bar);\n",
       "    this.message = status_bar[0];\n",
       "\n",
       "    // Add the close button to the window.\n",
       "    var buttongrp = $('<div class=\"btn-group inline pull-right\"></div>');\n",
       "    var button = $('<button class=\"btn btn-mini btn-primary\" href=\"#\" title=\"Stop Interaction\"><i class=\"fa fa-power-off icon-remove icon-large\"></i></button>');\n",
       "    button.click(function (evt) { fig.handle_close(fig, {}); } );\n",
       "    button.mouseover('Stop Interaction', toolbar_mouse_event);\n",
       "    buttongrp.append(button);\n",
       "    var titlebar = this.root.find($('.ui-dialog-titlebar'));\n",
       "    titlebar.prepend(buttongrp);\n",
       "}\n",
       "\n",
       "mpl.figure.prototype._root_extra_style = function(el){\n",
       "    var fig = this\n",
       "    el.on(\"remove\", function(){\n",
       "\tfig.close_ws(fig, {});\n",
       "    });\n",
       "}\n",
       "\n",
       "mpl.figure.prototype._canvas_extra_style = function(el){\n",
       "    // this is important to make the div 'focusable\n",
       "    el.attr('tabindex', 0)\n",
       "    // reach out to IPython and tell the keyboard manager to turn it's self\n",
       "    // off when our div gets focus\n",
       "\n",
       "    // location in version 3\n",
       "    if (IPython.notebook.keyboard_manager) {\n",
       "        IPython.notebook.keyboard_manager.register_events(el);\n",
       "    }\n",
       "    else {\n",
       "        // location in version 2\n",
       "        IPython.keyboard_manager.register_events(el);\n",
       "    }\n",
       "\n",
       "}\n",
       "\n",
       "mpl.figure.prototype._key_event_extra = function(event, name) {\n",
       "    var manager = IPython.notebook.keyboard_manager;\n",
       "    if (!manager)\n",
       "        manager = IPython.keyboard_manager;\n",
       "\n",
       "    // Check for shift+enter\n",
       "    if (event.shiftKey && event.which == 13) {\n",
       "        this.canvas_div.blur();\n",
       "        // select the cell after this one\n",
       "        var index = IPython.notebook.find_cell_index(this.cell_info[0]);\n",
       "        IPython.notebook.select(index + 1);\n",
       "    }\n",
       "}\n",
       "\n",
       "mpl.figure.prototype.handle_save = function(fig, msg) {\n",
       "    fig.ondownload(fig, null);\n",
       "}\n",
       "\n",
       "\n",
       "mpl.find_output_cell = function(html_output) {\n",
       "    // Return the cell and output element which can be found *uniquely* in the notebook.\n",
       "    // Note - this is a bit hacky, but it is done because the \"notebook_saving.Notebook\"\n",
       "    // IPython event is triggered only after the cells have been serialised, which for\n",
       "    // our purposes (turning an active figure into a static one), is too late.\n",
       "    var cells = IPython.notebook.get_cells();\n",
       "    var ncells = cells.length;\n",
       "    for (var i=0; i<ncells; i++) {\n",
       "        var cell = cells[i];\n",
       "        if (cell.cell_type === 'code'){\n",
       "            for (var j=0; j<cell.output_area.outputs.length; j++) {\n",
       "                var data = cell.output_area.outputs[j];\n",
       "                if (data.data) {\n",
       "                    // IPython >= 3 moved mimebundle to data attribute of output\n",
       "                    data = data.data;\n",
       "                }\n",
       "                if (data['text/html'] == html_output) {\n",
       "                    return [cell, data, j];\n",
       "                }\n",
       "            }\n",
       "        }\n",
       "    }\n",
       "}\n",
       "\n",
       "// Register the function which deals with the matplotlib target/channel.\n",
       "// The kernel may be null if the page has been refreshed.\n",
       "if (IPython.notebook.kernel != null) {\n",
       "    IPython.notebook.kernel.comm_manager.register_target('matplotlib', mpl.mpl_figure_comm);\n",
       "}\n"
      ],
      "text/plain": [
       "<IPython.core.display.Javascript object>"
      ]
     },
     "metadata": {},
     "output_type": "display_data"
    },
    {
     "data": {
      "text/html": [
       "<img src=\"data:image/png;base64,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\" width=\"640\">"
      ],
      "text/plain": [
       "<IPython.core.display.HTML object>"
      ]
     },
     "metadata": {},
     "output_type": "display_data"
    }
   ],
   "source": [
    "%matplotlib notebook\n",
    "plt.figure()\n",
    "plt.plot(s)\n",
    "plt.title(\"Wet asphalt\")\n",
    "plt.show()"
   ]
  },
  {
   "cell_type": "code",
   "execution_count": 165,
   "metadata": {},
   "outputs": [],
   "source": [
    "def get_features(data, surface):\n",
    "    columns = [\"Surface\"]\n",
    "    features = [\"RMS\", \"RMSf\", \"Spec\", \"Specf\"]\n",
    "\n",
    "    df = pd.DataFrame(columns = columns)\n",
    "    for i in range(len(data)):\n",
    "        df.loc[i, \"Surface\"] = surface\n",
    "        r_id = data[i]\n",
    "        #Read the signals\n",
    "        sig = read_data(r_id)\n",
    "        s_f = hpf(sig, fs, 65, 2)\n",
    "        df.loc[i, \"RMS\"] = tsfelf.rms(sig)\n",
    "        df.loc[i, \"RMSf\"] = tsfelf.rms(s_f)\n",
    "\n",
    "        df.loc[i, \"ZC\"] = tsfelf.zero_cross(sig)\n",
    "        df.loc[i, \"ZCf\"] = tsfelf.zero_cross(s_f)\n",
    "        \n",
    "        df.loc[i, \"Spec\"] = tsfelf.spectral_centroid(sig, fs)\n",
    "        df.loc[i, \"Specf\"] = tsfelf.spectral_centroid(s_f, fs)\n",
    "        \n",
    "        \n",
    "        df.loc[i, \"Specslo\"] = tsfelf.spectral_slope(sig, fs)\n",
    "        df.loc[i, \"Specslof\"] = tsfelf.spectral_slope(s_f, fs) \n",
    "        \n",
    "        \n",
    "        df.loc[i, \"Specspr\"] = tsfelf.spectral_spread(sig, fs)\n",
    "        df.loc[i, \"Specsprf\"] = tsfelf.spectral_spread(s_f, fs) \n",
    "        \n",
    "        print(i, end=',')\n",
    "    return df, features\n",
    "        "
   ]
  },
  {
   "cell_type": "code",
   "execution_count": 166,
   "metadata": {},
   "outputs": [
    {
     "name": "stdout",
     "output_type": "stream",
     "text": [
      "0,1,2,3,4,5,6,7,8,9,10,11,12,13,14,15,16,17,18,19,20,21,22,23,24,25,26,27,28,29,30,31,32,33,34,35,36,37,38,39,40,41,42,43,44,45,46,47,48,49,50,51,52,53,54,55,56,57,58,59,60,61,62,63,64,65,66,67,68,69,70,71,72,73,74,75,76,77,78,79,80,81,82,83,84,85,86,87,88,89,90,91,92,93,94,95,96,97,98,99,100,101,102,103,104,105,106,107,108,"
     ]
    },
    {
     "name": "stderr",
     "output_type": "stream",
     "text": [
      "C:\\Users\\Owner\\anaconda3\\lib\\site-packages\\tsfel\\feature_extraction\\features.py:674: RuntimeWarning:\n",
      "\n",
      "invalid value encountered in sqrt\n",
      "\n"
     ]
    },
    {
     "name": "stdout",
     "output_type": "stream",
     "text": [
      "0,1,2,3,4,5,6,7,8,9,10,11,12,13,14,15,16,17,18,19,20,21,22,23,24,25,26,27,28,29,"
     ]
    }
   ],
   "source": [
    "waspdf, features = get_features(wasp_files, \"Wet Asphalt\")\n",
    "\n",
    "graveldf, _ = get_features(gravel_files, \"Gravel\")"
   ]
  },
  {
   "cell_type": "code",
   "execution_count": 167,
   "metadata": {},
   "outputs": [
    {
     "data": {
      "text/html": [
       "<div>\n",
       "<style scoped>\n",
       "    .dataframe tbody tr th:only-of-type {\n",
       "        vertical-align: middle;\n",
       "    }\n",
       "\n",
       "    .dataframe tbody tr th {\n",
       "        vertical-align: top;\n",
       "    }\n",
       "\n",
       "    .dataframe thead th {\n",
       "        text-align: right;\n",
       "    }\n",
       "</style>\n",
       "<table border=\"1\" class=\"dataframe\">\n",
       "  <thead>\n",
       "    <tr style=\"text-align: right;\">\n",
       "      <th></th>\n",
       "      <th>Surface</th>\n",
       "      <th>RMS</th>\n",
       "      <th>RMSf</th>\n",
       "      <th>ZC</th>\n",
       "      <th>ZCf</th>\n",
       "      <th>Spec</th>\n",
       "      <th>Specf</th>\n",
       "      <th>Specslo</th>\n",
       "      <th>Specslof</th>\n",
       "      <th>Specspr</th>\n",
       "      <th>Specsprf</th>\n",
       "    </tr>\n",
       "  </thead>\n",
       "  <tbody>\n",
       "    <tr>\n",
       "      <th>0</th>\n",
       "      <td>Wet Asphalt</td>\n",
       "      <td>29.546131</td>\n",
       "      <td>1023.227026</td>\n",
       "      <td>7470.0</td>\n",
       "      <td>8387.0</td>\n",
       "      <td>936.116277</td>\n",
       "      <td>1018.407771</td>\n",
       "      <td>-1.136291e-09</td>\n",
       "      <td>-1.127022e-09</td>\n",
       "      <td>1641.800213</td>\n",
       "      <td>1592.380153</td>\n",
       "    </tr>\n",
       "    <tr>\n",
       "      <th>1</th>\n",
       "      <td>Wet Asphalt</td>\n",
       "      <td>23.158067</td>\n",
       "      <td>1283.379764</td>\n",
       "      <td>8372.0</td>\n",
       "      <td>9884.0</td>\n",
       "      <td>869.158982</td>\n",
       "      <td>980.920178</td>\n",
       "      <td>-1.143832e-09</td>\n",
       "      <td>-1.131245e-09</td>\n",
       "      <td>1428.056723</td>\n",
       "      <td>1453.218214</td>\n",
       "    </tr>\n",
       "    <tr>\n",
       "      <th>2</th>\n",
       "      <td>Wet Asphalt</td>\n",
       "      <td>22.356680</td>\n",
       "      <td>1559.749380</td>\n",
       "      <td>9023.0</td>\n",
       "      <td>10466.0</td>\n",
       "      <td>978.265482</td>\n",
       "      <td>1050.050716</td>\n",
       "      <td>-1.131544e-09</td>\n",
       "      <td>-1.123459e-09</td>\n",
       "      <td>1688.413169</td>\n",
       "      <td>1527.067657</td>\n",
       "    </tr>\n",
       "    <tr>\n",
       "      <th>3</th>\n",
       "      <td>Wet Asphalt</td>\n",
       "      <td>18.413845</td>\n",
       "      <td>1917.039422</td>\n",
       "      <td>8206.0</td>\n",
       "      <td>9659.0</td>\n",
       "      <td>868.511381</td>\n",
       "      <td>999.818919</td>\n",
       "      <td>-1.143905e-09</td>\n",
       "      <td>-1.129116e-09</td>\n",
       "      <td>1434.742860</td>\n",
       "      <td>1557.996016</td>\n",
       "    </tr>\n",
       "    <tr>\n",
       "      <th>4</th>\n",
       "      <td>Wet Asphalt</td>\n",
       "      <td>17.320115</td>\n",
       "      <td>1903.750157</td>\n",
       "      <td>7371.0</td>\n",
       "      <td>9141.0</td>\n",
       "      <td>845.770818</td>\n",
       "      <td>980.018609</td>\n",
       "      <td>-1.146466e-09</td>\n",
       "      <td>-1.131346e-09</td>\n",
       "      <td>1441.429068</td>\n",
       "      <td>1511.096731</td>\n",
       "    </tr>\n",
       "    <tr>\n",
       "      <th>...</th>\n",
       "      <td>...</td>\n",
       "      <td>...</td>\n",
       "      <td>...</td>\n",
       "      <td>...</td>\n",
       "      <td>...</td>\n",
       "      <td>...</td>\n",
       "      <td>...</td>\n",
       "      <td>...</td>\n",
       "      <td>...</td>\n",
       "      <td>...</td>\n",
       "      <td>...</td>\n",
       "    </tr>\n",
       "    <tr>\n",
       "      <th>25</th>\n",
       "      <td>Gravel</td>\n",
       "      <td>24.141878</td>\n",
       "      <td>989.295926</td>\n",
       "      <td>11186.0</td>\n",
       "      <td>16171.0</td>\n",
       "      <td>1612.462501</td>\n",
       "      <td>1903.141399</td>\n",
       "      <td>-1.060115e-09</td>\n",
       "      <td>-1.027377e-09</td>\n",
       "      <td>2296.506490</td>\n",
       "      <td>2327.498887</td>\n",
       "    </tr>\n",
       "    <tr>\n",
       "      <th>26</th>\n",
       "      <td>Gravel</td>\n",
       "      <td>20.866727</td>\n",
       "      <td>1058.702097</td>\n",
       "      <td>8201.0</td>\n",
       "      <td>13024.0</td>\n",
       "      <td>1337.977433</td>\n",
       "      <td>1664.874924</td>\n",
       "      <td>-1.091030e-09</td>\n",
       "      <td>-1.054212e-09</td>\n",
       "      <td>2117.993202</td>\n",
       "      <td>2237.872168</td>\n",
       "    </tr>\n",
       "    <tr>\n",
       "      <th>27</th>\n",
       "      <td>Gravel</td>\n",
       "      <td>22.094076</td>\n",
       "      <td>1109.938163</td>\n",
       "      <td>12740.0</td>\n",
       "      <td>18786.0</td>\n",
       "      <td>1637.921696</td>\n",
       "      <td>1927.347734</td>\n",
       "      <td>-1.057248e-09</td>\n",
       "      <td>-1.024650e-09</td>\n",
       "      <td>2254.784988</td>\n",
       "      <td>2299.299363</td>\n",
       "    </tr>\n",
       "    <tr>\n",
       "      <th>28</th>\n",
       "      <td>Gravel</td>\n",
       "      <td>22.777678</td>\n",
       "      <td>1097.721646</td>\n",
       "      <td>10829.0</td>\n",
       "      <td>16163.0</td>\n",
       "      <td>1549.362682</td>\n",
       "      <td>1855.594265</td>\n",
       "      <td>-1.067222e-09</td>\n",
       "      <td>-1.032732e-09</td>\n",
       "      <td>2218.547835</td>\n",
       "      <td>2307.033685</td>\n",
       "    </tr>\n",
       "    <tr>\n",
       "      <th>29</th>\n",
       "      <td>Gravel</td>\n",
       "      <td>20.215075</td>\n",
       "      <td>1116.430389</td>\n",
       "      <td>8286.0</td>\n",
       "      <td>15063.0</td>\n",
       "      <td>1354.129609</td>\n",
       "      <td>1647.491043</td>\n",
       "      <td>-1.089211e-09</td>\n",
       "      <td>-1.056170e-09</td>\n",
       "      <td>2018.097625</td>\n",
       "      <td>2106.846227</td>\n",
       "    </tr>\n",
       "  </tbody>\n",
       "</table>\n",
       "<p>139 rows × 11 columns</p>\n",
       "</div>"
      ],
      "text/plain": [
       "        Surface        RMS         RMSf       ZC      ZCf         Spec  \\\n",
       "0   Wet Asphalt  29.546131  1023.227026   7470.0   8387.0   936.116277   \n",
       "1   Wet Asphalt  23.158067  1283.379764   8372.0   9884.0   869.158982   \n",
       "2   Wet Asphalt  22.356680  1559.749380   9023.0  10466.0   978.265482   \n",
       "3   Wet Asphalt  18.413845  1917.039422   8206.0   9659.0   868.511381   \n",
       "4   Wet Asphalt  17.320115  1903.750157   7371.0   9141.0   845.770818   \n",
       "..          ...        ...          ...      ...      ...          ...   \n",
       "25       Gravel  24.141878   989.295926  11186.0  16171.0  1612.462501   \n",
       "26       Gravel  20.866727  1058.702097   8201.0  13024.0  1337.977433   \n",
       "27       Gravel  22.094076  1109.938163  12740.0  18786.0  1637.921696   \n",
       "28       Gravel  22.777678  1097.721646  10829.0  16163.0  1549.362682   \n",
       "29       Gravel  20.215075  1116.430389   8286.0  15063.0  1354.129609   \n",
       "\n",
       "          Specf       Specslo      Specslof      Specspr     Specsprf  \n",
       "0   1018.407771 -1.136291e-09 -1.127022e-09  1641.800213  1592.380153  \n",
       "1    980.920178 -1.143832e-09 -1.131245e-09  1428.056723  1453.218214  \n",
       "2   1050.050716 -1.131544e-09 -1.123459e-09  1688.413169  1527.067657  \n",
       "3    999.818919 -1.143905e-09 -1.129116e-09  1434.742860  1557.996016  \n",
       "4    980.018609 -1.146466e-09 -1.131346e-09  1441.429068  1511.096731  \n",
       "..          ...           ...           ...          ...          ...  \n",
       "25  1903.141399 -1.060115e-09 -1.027377e-09  2296.506490  2327.498887  \n",
       "26  1664.874924 -1.091030e-09 -1.054212e-09  2117.993202  2237.872168  \n",
       "27  1927.347734 -1.057248e-09 -1.024650e-09  2254.784988  2299.299363  \n",
       "28  1855.594265 -1.067222e-09 -1.032732e-09  2218.547835  2307.033685  \n",
       "29  1647.491043 -1.089211e-09 -1.056170e-09  2018.097625  2106.846227  \n",
       "\n",
       "[139 rows x 11 columns]"
      ]
     },
     "execution_count": 167,
     "metadata": {},
     "output_type": "execute_result"
    }
   ],
   "source": [
    "alldf = pd.concat([waspdf, graveldf])\n",
    "\n",
    "alldf"
   ]
  },
  {
   "cell_type": "code",
   "execution_count": 145,
   "metadata": {},
   "outputs": [
    {
     "data": {
      "application/vnd.plotly.v1+json": {
       "config": {
        "plotlyServerURL": "https://plot.ly"
       },
       "data": [
        {
         "alignmentgroup": "True",
         "boxpoints": "all",
         "hovertemplate": "Surface=%{x}<br>RMS=%{y}<extra></extra>",
         "legendgroup": "",
         "marker": {
          "color": "#636efa"
         },
         "name": "",
         "notched": false,
         "offsetgroup": "",
         "orientation": "v",
         "showlegend": false,
         "type": "box",
         "x": [
          "Wet Asphalt",
          "Wet Asphalt",
          "Wet Asphalt",
          "Wet Asphalt",
          "Wet Asphalt",
          "Wet Asphalt",
          "Wet Asphalt",
          "Wet Asphalt",
          "Wet Asphalt",
          "Wet Asphalt",
          "Wet Asphalt",
          "Wet Asphalt",
          "Wet Asphalt",
          "Wet Asphalt",
          "Wet Asphalt",
          "Wet Asphalt",
          "Wet Asphalt",
          "Wet Asphalt",
          "Wet Asphalt",
          "Wet Asphalt",
          "Wet Asphalt",
          "Wet Asphalt",
          "Wet Asphalt",
          "Wet Asphalt",
          "Wet Asphalt",
          "Wet Asphalt",
          "Wet Asphalt",
          "Wet Asphalt",
          "Wet Asphalt",
          "Wet Asphalt",
          "Wet Asphalt",
          "Wet Asphalt",
          "Wet Asphalt",
          "Wet Asphalt",
          "Wet Asphalt",
          "Wet Asphalt",
          "Wet Asphalt",
          "Wet Asphalt",
          "Wet Asphalt",
          "Wet Asphalt",
          "Wet Asphalt",
          "Wet Asphalt",
          "Wet Asphalt",
          "Wet Asphalt",
          "Wet Asphalt",
          "Wet Asphalt",
          "Wet Asphalt",
          "Wet Asphalt",
          "Wet Asphalt",
          "Wet Asphalt",
          "Wet Asphalt",
          "Wet Asphalt",
          "Wet Asphalt",
          "Wet Asphalt",
          "Wet Asphalt",
          "Wet Asphalt",
          "Wet Asphalt",
          "Wet Asphalt",
          "Wet Asphalt",
          "Wet Asphalt",
          "Wet Asphalt",
          "Wet Asphalt",
          "Wet Asphalt",
          "Wet Asphalt",
          "Wet Asphalt",
          "Wet Asphalt",
          "Wet Asphalt",
          "Wet Asphalt",
          "Wet Asphalt",
          "Wet Asphalt",
          "Wet Asphalt",
          "Wet Asphalt",
          "Wet Asphalt",
          "Wet Asphalt",
          "Wet Asphalt",
          "Wet Asphalt",
          "Wet Asphalt",
          "Wet Asphalt",
          "Wet Asphalt",
          "Wet Asphalt",
          "Wet Asphalt",
          "Wet Asphalt",
          "Wet Asphalt",
          "Wet Asphalt",
          "Wet Asphalt",
          "Wet Asphalt",
          "Wet Asphalt",
          "Wet Asphalt",
          "Wet Asphalt",
          "Wet Asphalt",
          "Wet Asphalt",
          "Wet Asphalt",
          "Wet Asphalt",
          "Wet Asphalt",
          "Wet Asphalt",
          "Wet Asphalt",
          "Wet Asphalt",
          "Wet Asphalt",
          "Wet Asphalt",
          "Wet Asphalt",
          "Wet Asphalt",
          "Wet Asphalt",
          "Wet Asphalt",
          "Wet Asphalt",
          "Wet Asphalt",
          "Wet Asphalt",
          "Wet Asphalt",
          "Wet Asphalt",
          "Wet Asphalt",
          "Gravel",
          "Gravel",
          "Gravel",
          "Gravel",
          "Gravel",
          "Gravel",
          "Gravel",
          "Gravel",
          "Gravel",
          "Gravel",
          "Gravel",
          "Gravel",
          "Gravel",
          "Gravel",
          "Gravel",
          "Gravel",
          "Gravel",
          "Gravel",
          "Gravel",
          "Gravel",
          "Gravel",
          "Gravel",
          "Gravel",
          "Gravel",
          "Gravel",
          "Gravel",
          "Gravel",
          "Gravel",
          "Gravel",
          "Gravel"
         ],
         "x0": " ",
         "xaxis": "x",
         "y": [
          29.546131336490145,
          23.15806675597032,
          22.35668020703268,
          18.413845113958168,
          17.320114649651533,
          23.401502340017824,
          20.7227039980853,
          17.92616003505803,
          25.428027537718418,
          30.208937119664185,
          23.62215232993692,
          25.020781328775968,
          22.840242860469623,
          23.370532442651736,
          24.62293314397941,
          22.83097346847277,
          21.114691923546623,
          17.61022322495403,
          18.337163438120346,
          17.791203554548876,
          14.320318096545348,
          23.61168210127303,
          20.85271183044093,
          20.242134761322273,
          21.04606922853421,
          25.227561759249244,
          18.53852042529272,
          17.2244362038613,
          17.126001648430165,
          17.520390454158832,
          24.72304365445642,
          23.59639552190169,
          17.741343606986547,
          14.67074926570662,
          12.248062274474687,
          13.259175322449524,
          9.741141856203267,
          8.459695327770229,
          16.803849005913836,
          15.384068204581597,
          18.7696711575584,
          18.22465629002651,
          20.453047244663466,
          18.38628074210767,
          16.461115425226815,
          14.286241481205495,
          13.454160385439591,
          14.189058136525269,
          14.674217482176797,
          16.62647517456518,
          16.095950265278496,
          14.35658319371645,
          13.586861857940493,
          16.527681589538663,
          14.83115127228759,
          15.937056326287319,
          14.67616486009646,
          10.471906127326791,
          15.171382316562255,
          22.258919048768433,
          17.09418467482412,
          36.016282626986076,
          19.14124081118855,
          12.228742485591622,
          17.140917918824627,
          19.888775646163268,
          19.096675833541166,
          21.0767408274204,
          22.5106891470734,
          16.920207933002988,
          15.211909582908598,
          14.018015048901,
          28.110470432451024,
          28.215205605782963,
          33.060011908836074,
          29.731476014135556,
          18.01820436960163,
          40.926282339348084,
          60.37272641326883,
          24.078850059510238,
          15.439067948155701,
          13.908206309942699,
          11.303144689746144,
          13.080142194726255,
          8.045862380710242,
          12.4674485807193,
          10.907827846425192,
          12.234245476361677,
          12.245952734314193,
          11.600136180573758,
          12.797654327370166,
          11.662449551351605,
          11.81351490920784,
          16.886939450023377,
          20.10197318192433,
          20.860137941523742,
          17.505749822062803,
          21.177963816927132,
          23.45822389850832,
          24.52172512307868,
          20.598686496625074,
          33.61362614295125,
          44.331191508454715,
          19.329077877334317,
          24.510710975834378,
          23.85276600517015,
          25.981409003917687,
          23.708088230378838,
          28.48366836132167,
          null,
          51.052199069087315,
          33.45789389759164,
          28.178587521428977,
          32.018603648103216,
          32.63643500562839,
          27.001076090262146,
          27.22672156953157,
          28.49400785731334,
          28.618881472767878,
          30.0335591220233,
          28.437978638970307,
          20.41518253449893,
          15.035853125057656,
          15.868601575810535,
          15.619368070868463,
          17.62789915600698,
          16.32231966790914,
          18.621577459676736,
          16.44991095982901,
          27.588329396348474,
          25.133834686822947,
          26.42395061505551,
          29.16524733522258,
          35.01259343488018,
          24.141878398411336,
          20.86672728245343,
          22.094075720675317,
          22.777678192696225,
          20.2150745329449
         ],
         "y0": " ",
         "yaxis": "y"
        }
       ],
       "layout": {
        "boxmode": "group",
        "legend": {
         "tracegroupgap": 0
        },
        "margin": {
         "t": 60
        },
        "template": {
         "data": {
          "bar": [
           {
            "error_x": {
             "color": "#2a3f5f"
            },
            "error_y": {
             "color": "#2a3f5f"
            },
            "marker": {
             "line": {
              "color": "#E5ECF6",
              "width": 0.5
             },
             "pattern": {
              "fillmode": "overlay",
              "size": 10,
              "solidity": 0.2
             }
            },
            "type": "bar"
           }
          ],
          "barpolar": [
           {
            "marker": {
             "line": {
              "color": "#E5ECF6",
              "width": 0.5
             },
             "pattern": {
              "fillmode": "overlay",
              "size": 10,
              "solidity": 0.2
             }
            },
            "type": "barpolar"
           }
          ],
          "carpet": [
           {
            "aaxis": {
             "endlinecolor": "#2a3f5f",
             "gridcolor": "white",
             "linecolor": "white",
             "minorgridcolor": "white",
             "startlinecolor": "#2a3f5f"
            },
            "baxis": {
             "endlinecolor": "#2a3f5f",
             "gridcolor": "white",
             "linecolor": "white",
             "minorgridcolor": "white",
             "startlinecolor": "#2a3f5f"
            },
            "type": "carpet"
           }
          ],
          "choropleth": [
           {
            "colorbar": {
             "outlinewidth": 0,
             "ticks": ""
            },
            "type": "choropleth"
           }
          ],
          "contour": [
           {
            "colorbar": {
             "outlinewidth": 0,
             "ticks": ""
            },
            "colorscale": [
             [
              0,
              "#0d0887"
             ],
             [
              0.1111111111111111,
              "#46039f"
             ],
             [
              0.2222222222222222,
              "#7201a8"
             ],
             [
              0.3333333333333333,
              "#9c179e"
             ],
             [
              0.4444444444444444,
              "#bd3786"
             ],
             [
              0.5555555555555556,
              "#d8576b"
             ],
             [
              0.6666666666666666,
              "#ed7953"
             ],
             [
              0.7777777777777778,
              "#fb9f3a"
             ],
             [
              0.8888888888888888,
              "#fdca26"
             ],
             [
              1,
              "#f0f921"
             ]
            ],
            "type": "contour"
           }
          ],
          "contourcarpet": [
           {
            "colorbar": {
             "outlinewidth": 0,
             "ticks": ""
            },
            "type": "contourcarpet"
           }
          ],
          "heatmap": [
           {
            "colorbar": {
             "outlinewidth": 0,
             "ticks": ""
            },
            "colorscale": [
             [
              0,
              "#0d0887"
             ],
             [
              0.1111111111111111,
              "#46039f"
             ],
             [
              0.2222222222222222,
              "#7201a8"
             ],
             [
              0.3333333333333333,
              "#9c179e"
             ],
             [
              0.4444444444444444,
              "#bd3786"
             ],
             [
              0.5555555555555556,
              "#d8576b"
             ],
             [
              0.6666666666666666,
              "#ed7953"
             ],
             [
              0.7777777777777778,
              "#fb9f3a"
             ],
             [
              0.8888888888888888,
              "#fdca26"
             ],
             [
              1,
              "#f0f921"
             ]
            ],
            "type": "heatmap"
           }
          ],
          "heatmapgl": [
           {
            "colorbar": {
             "outlinewidth": 0,
             "ticks": ""
            },
            "colorscale": [
             [
              0,
              "#0d0887"
             ],
             [
              0.1111111111111111,
              "#46039f"
             ],
             [
              0.2222222222222222,
              "#7201a8"
             ],
             [
              0.3333333333333333,
              "#9c179e"
             ],
             [
              0.4444444444444444,
              "#bd3786"
             ],
             [
              0.5555555555555556,
              "#d8576b"
             ],
             [
              0.6666666666666666,
              "#ed7953"
             ],
             [
              0.7777777777777778,
              "#fb9f3a"
             ],
             [
              0.8888888888888888,
              "#fdca26"
             ],
             [
              1,
              "#f0f921"
             ]
            ],
            "type": "heatmapgl"
           }
          ],
          "histogram": [
           {
            "marker": {
             "pattern": {
              "fillmode": "overlay",
              "size": 10,
              "solidity": 0.2
             }
            },
            "type": "histogram"
           }
          ],
          "histogram2d": [
           {
            "colorbar": {
             "outlinewidth": 0,
             "ticks": ""
            },
            "colorscale": [
             [
              0,
              "#0d0887"
             ],
             [
              0.1111111111111111,
              "#46039f"
             ],
             [
              0.2222222222222222,
              "#7201a8"
             ],
             [
              0.3333333333333333,
              "#9c179e"
             ],
             [
              0.4444444444444444,
              "#bd3786"
             ],
             [
              0.5555555555555556,
              "#d8576b"
             ],
             [
              0.6666666666666666,
              "#ed7953"
             ],
             [
              0.7777777777777778,
              "#fb9f3a"
             ],
             [
              0.8888888888888888,
              "#fdca26"
             ],
             [
              1,
              "#f0f921"
             ]
            ],
            "type": "histogram2d"
           }
          ],
          "histogram2dcontour": [
           {
            "colorbar": {
             "outlinewidth": 0,
             "ticks": ""
            },
            "colorscale": [
             [
              0,
              "#0d0887"
             ],
             [
              0.1111111111111111,
              "#46039f"
             ],
             [
              0.2222222222222222,
              "#7201a8"
             ],
             [
              0.3333333333333333,
              "#9c179e"
             ],
             [
              0.4444444444444444,
              "#bd3786"
             ],
             [
              0.5555555555555556,
              "#d8576b"
             ],
             [
              0.6666666666666666,
              "#ed7953"
             ],
             [
              0.7777777777777778,
              "#fb9f3a"
             ],
             [
              0.8888888888888888,
              "#fdca26"
             ],
             [
              1,
              "#f0f921"
             ]
            ],
            "type": "histogram2dcontour"
           }
          ],
          "mesh3d": [
           {
            "colorbar": {
             "outlinewidth": 0,
             "ticks": ""
            },
            "type": "mesh3d"
           }
          ],
          "parcoords": [
           {
            "line": {
             "colorbar": {
              "outlinewidth": 0,
              "ticks": ""
             }
            },
            "type": "parcoords"
           }
          ],
          "pie": [
           {
            "automargin": true,
            "type": "pie"
           }
          ],
          "scatter": [
           {
            "marker": {
             "colorbar": {
              "outlinewidth": 0,
              "ticks": ""
             }
            },
            "type": "scatter"
           }
          ],
          "scatter3d": [
           {
            "line": {
             "colorbar": {
              "outlinewidth": 0,
              "ticks": ""
             }
            },
            "marker": {
             "colorbar": {
              "outlinewidth": 0,
              "ticks": ""
             }
            },
            "type": "scatter3d"
           }
          ],
          "scattercarpet": [
           {
            "marker": {
             "colorbar": {
              "outlinewidth": 0,
              "ticks": ""
             }
            },
            "type": "scattercarpet"
           }
          ],
          "scattergeo": [
           {
            "marker": {
             "colorbar": {
              "outlinewidth": 0,
              "ticks": ""
             }
            },
            "type": "scattergeo"
           }
          ],
          "scattergl": [
           {
            "marker": {
             "colorbar": {
              "outlinewidth": 0,
              "ticks": ""
             }
            },
            "type": "scattergl"
           }
          ],
          "scattermapbox": [
           {
            "marker": {
             "colorbar": {
              "outlinewidth": 0,
              "ticks": ""
             }
            },
            "type": "scattermapbox"
           }
          ],
          "scatterpolar": [
           {
            "marker": {
             "colorbar": {
              "outlinewidth": 0,
              "ticks": ""
             }
            },
            "type": "scatterpolar"
           }
          ],
          "scatterpolargl": [
           {
            "marker": {
             "colorbar": {
              "outlinewidth": 0,
              "ticks": ""
             }
            },
            "type": "scatterpolargl"
           }
          ],
          "scatterternary": [
           {
            "marker": {
             "colorbar": {
              "outlinewidth": 0,
              "ticks": ""
             }
            },
            "type": "scatterternary"
           }
          ],
          "surface": [
           {
            "colorbar": {
             "outlinewidth": 0,
             "ticks": ""
            },
            "colorscale": [
             [
              0,
              "#0d0887"
             ],
             [
              0.1111111111111111,
              "#46039f"
             ],
             [
              0.2222222222222222,
              "#7201a8"
             ],
             [
              0.3333333333333333,
              "#9c179e"
             ],
             [
              0.4444444444444444,
              "#bd3786"
             ],
             [
              0.5555555555555556,
              "#d8576b"
             ],
             [
              0.6666666666666666,
              "#ed7953"
             ],
             [
              0.7777777777777778,
              "#fb9f3a"
             ],
             [
              0.8888888888888888,
              "#fdca26"
             ],
             [
              1,
              "#f0f921"
             ]
            ],
            "type": "surface"
           }
          ],
          "table": [
           {
            "cells": {
             "fill": {
              "color": "#EBF0F8"
             },
             "line": {
              "color": "white"
             }
            },
            "header": {
             "fill": {
              "color": "#C8D4E3"
             },
             "line": {
              "color": "white"
             }
            },
            "type": "table"
           }
          ]
         },
         "layout": {
          "annotationdefaults": {
           "arrowcolor": "#2a3f5f",
           "arrowhead": 0,
           "arrowwidth": 1
          },
          "autotypenumbers": "strict",
          "coloraxis": {
           "colorbar": {
            "outlinewidth": 0,
            "ticks": ""
           }
          },
          "colorscale": {
           "diverging": [
            [
             0,
             "#8e0152"
            ],
            [
             0.1,
             "#c51b7d"
            ],
            [
             0.2,
             "#de77ae"
            ],
            [
             0.3,
             "#f1b6da"
            ],
            [
             0.4,
             "#fde0ef"
            ],
            [
             0.5,
             "#f7f7f7"
            ],
            [
             0.6,
             "#e6f5d0"
            ],
            [
             0.7,
             "#b8e186"
            ],
            [
             0.8,
             "#7fbc41"
            ],
            [
             0.9,
             "#4d9221"
            ],
            [
             1,
             "#276419"
            ]
           ],
           "sequential": [
            [
             0,
             "#0d0887"
            ],
            [
             0.1111111111111111,
             "#46039f"
            ],
            [
             0.2222222222222222,
             "#7201a8"
            ],
            [
             0.3333333333333333,
             "#9c179e"
            ],
            [
             0.4444444444444444,
             "#bd3786"
            ],
            [
             0.5555555555555556,
             "#d8576b"
            ],
            [
             0.6666666666666666,
             "#ed7953"
            ],
            [
             0.7777777777777778,
             "#fb9f3a"
            ],
            [
             0.8888888888888888,
             "#fdca26"
            ],
            [
             1,
             "#f0f921"
            ]
           ],
           "sequentialminus": [
            [
             0,
             "#0d0887"
            ],
            [
             0.1111111111111111,
             "#46039f"
            ],
            [
             0.2222222222222222,
             "#7201a8"
            ],
            [
             0.3333333333333333,
             "#9c179e"
            ],
            [
             0.4444444444444444,
             "#bd3786"
            ],
            [
             0.5555555555555556,
             "#d8576b"
            ],
            [
             0.6666666666666666,
             "#ed7953"
            ],
            [
             0.7777777777777778,
             "#fb9f3a"
            ],
            [
             0.8888888888888888,
             "#fdca26"
            ],
            [
             1,
             "#f0f921"
            ]
           ]
          },
          "colorway": [
           "#636efa",
           "#EF553B",
           "#00cc96",
           "#ab63fa",
           "#FFA15A",
           "#19d3f3",
           "#FF6692",
           "#B6E880",
           "#FF97FF",
           "#FECB52"
          ],
          "font": {
           "color": "#2a3f5f"
          },
          "geo": {
           "bgcolor": "white",
           "lakecolor": "white",
           "landcolor": "#E5ECF6",
           "showlakes": true,
           "showland": true,
           "subunitcolor": "white"
          },
          "hoverlabel": {
           "align": "left"
          },
          "hovermode": "closest",
          "mapbox": {
           "style": "light"
          },
          "paper_bgcolor": "white",
          "plot_bgcolor": "#E5ECF6",
          "polar": {
           "angularaxis": {
            "gridcolor": "white",
            "linecolor": "white",
            "ticks": ""
           },
           "bgcolor": "#E5ECF6",
           "radialaxis": {
            "gridcolor": "white",
            "linecolor": "white",
            "ticks": ""
           }
          },
          "scene": {
           "xaxis": {
            "backgroundcolor": "#E5ECF6",
            "gridcolor": "white",
            "gridwidth": 2,
            "linecolor": "white",
            "showbackground": true,
            "ticks": "",
            "zerolinecolor": "white"
           },
           "yaxis": {
            "backgroundcolor": "#E5ECF6",
            "gridcolor": "white",
            "gridwidth": 2,
            "linecolor": "white",
            "showbackground": true,
            "ticks": "",
            "zerolinecolor": "white"
           },
           "zaxis": {
            "backgroundcolor": "#E5ECF6",
            "gridcolor": "white",
            "gridwidth": 2,
            "linecolor": "white",
            "showbackground": true,
            "ticks": "",
            "zerolinecolor": "white"
           }
          },
          "shapedefaults": {
           "line": {
            "color": "#2a3f5f"
           }
          },
          "ternary": {
           "aaxis": {
            "gridcolor": "white",
            "linecolor": "white",
            "ticks": ""
           },
           "baxis": {
            "gridcolor": "white",
            "linecolor": "white",
            "ticks": ""
           },
           "bgcolor": "#E5ECF6",
           "caxis": {
            "gridcolor": "white",
            "linecolor": "white",
            "ticks": ""
           }
          },
          "title": {
           "x": 0.05
          },
          "xaxis": {
           "automargin": true,
           "gridcolor": "white",
           "linecolor": "white",
           "ticks": "",
           "title": {
            "standoff": 15
           },
           "zerolinecolor": "white",
           "zerolinewidth": 2
          },
          "yaxis": {
           "automargin": true,
           "gridcolor": "white",
           "linecolor": "white",
           "ticks": "",
           "title": {
            "standoff": 15
           },
           "zerolinecolor": "white",
           "zerolinewidth": 2
          }
         }
        },
        "xaxis": {
         "anchor": "y",
         "domain": [
          0,
          1
         ],
         "title": {
          "text": "Surface"
         }
        },
        "yaxis": {
         "anchor": "x",
         "domain": [
          0,
          1
         ],
         "title": {
          "text": "RMS"
         }
        }
       }
      },
      "text/html": [
       "<div>                            <div id=\"3d711910-445f-4a94-8e89-b38478eb72ac\" class=\"plotly-graph-div\" style=\"height:525px; width:100%;\"></div>            <script type=\"text/javascript\">                require([\"plotly\"], function(Plotly) {                    window.PLOTLYENV=window.PLOTLYENV || {};                                    if (document.getElementById(\"3d711910-445f-4a94-8e89-b38478eb72ac\")) {                    Plotly.newPlot(                        \"3d711910-445f-4a94-8e89-b38478eb72ac\",                        [{\"alignmentgroup\":\"True\",\"boxpoints\":\"all\",\"hovertemplate\":\"Surface=%{x}<br>RMS=%{y}<extra></extra>\",\"legendgroup\":\"\",\"marker\":{\"color\":\"#636efa\"},\"name\":\"\",\"notched\":false,\"offsetgroup\":\"\",\"orientation\":\"v\",\"showlegend\":false,\"type\":\"box\",\"x\":[\"Wet Asphalt\",\"Wet Asphalt\",\"Wet Asphalt\",\"Wet Asphalt\",\"Wet Asphalt\",\"Wet Asphalt\",\"Wet Asphalt\",\"Wet Asphalt\",\"Wet Asphalt\",\"Wet Asphalt\",\"Wet Asphalt\",\"Wet Asphalt\",\"Wet Asphalt\",\"Wet Asphalt\",\"Wet Asphalt\",\"Wet Asphalt\",\"Wet Asphalt\",\"Wet Asphalt\",\"Wet Asphalt\",\"Wet Asphalt\",\"Wet Asphalt\",\"Wet Asphalt\",\"Wet Asphalt\",\"Wet Asphalt\",\"Wet Asphalt\",\"Wet Asphalt\",\"Wet Asphalt\",\"Wet Asphalt\",\"Wet Asphalt\",\"Wet Asphalt\",\"Wet Asphalt\",\"Wet Asphalt\",\"Wet Asphalt\",\"Wet Asphalt\",\"Wet Asphalt\",\"Wet Asphalt\",\"Wet Asphalt\",\"Wet Asphalt\",\"Wet Asphalt\",\"Wet Asphalt\",\"Wet Asphalt\",\"Wet Asphalt\",\"Wet Asphalt\",\"Wet Asphalt\",\"Wet Asphalt\",\"Wet Asphalt\",\"Wet Asphalt\",\"Wet Asphalt\",\"Wet Asphalt\",\"Wet Asphalt\",\"Wet Asphalt\",\"Wet Asphalt\",\"Wet Asphalt\",\"Wet Asphalt\",\"Wet Asphalt\",\"Wet Asphalt\",\"Wet Asphalt\",\"Wet Asphalt\",\"Wet Asphalt\",\"Wet Asphalt\",\"Wet Asphalt\",\"Wet Asphalt\",\"Wet Asphalt\",\"Wet Asphalt\",\"Wet Asphalt\",\"Wet Asphalt\",\"Wet Asphalt\",\"Wet Asphalt\",\"Wet Asphalt\",\"Wet Asphalt\",\"Wet Asphalt\",\"Wet Asphalt\",\"Wet Asphalt\",\"Wet Asphalt\",\"Wet Asphalt\",\"Wet Asphalt\",\"Wet Asphalt\",\"Wet Asphalt\",\"Wet Asphalt\",\"Wet Asphalt\",\"Wet Asphalt\",\"Wet Asphalt\",\"Wet Asphalt\",\"Wet Asphalt\",\"Wet Asphalt\",\"Wet Asphalt\",\"Wet Asphalt\",\"Wet Asphalt\",\"Wet Asphalt\",\"Wet Asphalt\",\"Wet Asphalt\",\"Wet Asphalt\",\"Wet Asphalt\",\"Wet Asphalt\",\"Wet Asphalt\",\"Wet Asphalt\",\"Wet Asphalt\",\"Wet Asphalt\",\"Wet Asphalt\",\"Wet Asphalt\",\"Wet Asphalt\",\"Wet Asphalt\",\"Wet Asphalt\",\"Wet Asphalt\",\"Wet Asphalt\",\"Wet Asphalt\",\"Wet Asphalt\",\"Wet Asphalt\",\"Wet Asphalt\",\"Gravel\",\"Gravel\",\"Gravel\",\"Gravel\",\"Gravel\",\"Gravel\",\"Gravel\",\"Gravel\",\"Gravel\",\"Gravel\",\"Gravel\",\"Gravel\",\"Gravel\",\"Gravel\",\"Gravel\",\"Gravel\",\"Gravel\",\"Gravel\",\"Gravel\",\"Gravel\",\"Gravel\",\"Gravel\",\"Gravel\",\"Gravel\",\"Gravel\",\"Gravel\",\"Gravel\",\"Gravel\",\"Gravel\",\"Gravel\"],\"x0\":\" \",\"xaxis\":\"x\",\"y\":[29.546131336490145,23.15806675597032,22.35668020703268,18.413845113958168,17.320114649651533,23.401502340017824,20.7227039980853,17.92616003505803,25.428027537718418,30.208937119664185,23.62215232993692,25.020781328775968,22.840242860469623,23.370532442651736,24.62293314397941,22.83097346847277,21.114691923546623,17.61022322495403,18.337163438120346,17.791203554548876,14.320318096545348,23.61168210127303,20.85271183044093,20.242134761322273,21.04606922853421,25.227561759249244,18.53852042529272,17.2244362038613,17.126001648430165,17.520390454158832,24.72304365445642,23.59639552190169,17.741343606986547,14.67074926570662,12.248062274474687,13.259175322449524,9.741141856203267,8.459695327770229,16.803849005913836,15.384068204581597,18.7696711575584,18.22465629002651,20.453047244663466,18.38628074210767,16.461115425226815,14.286241481205495,13.454160385439591,14.189058136525269,14.674217482176797,16.62647517456518,16.095950265278496,14.35658319371645,13.586861857940493,16.527681589538663,14.83115127228759,15.937056326287319,14.67616486009646,10.471906127326791,15.171382316562255,22.258919048768433,17.09418467482412,36.016282626986076,19.14124081118855,12.228742485591622,17.140917918824627,19.888775646163268,19.096675833541166,21.0767408274204,22.5106891470734,16.920207933002988,15.211909582908598,14.018015048901,28.110470432451024,28.215205605782963,33.060011908836074,29.731476014135556,18.01820436960163,40.926282339348084,60.37272641326883,24.078850059510238,15.439067948155701,13.908206309942699,11.303144689746144,13.080142194726255,8.045862380710242,12.4674485807193,10.907827846425192,12.234245476361677,12.245952734314193,11.600136180573758,12.797654327370166,11.662449551351605,11.81351490920784,16.886939450023377,20.10197318192433,20.860137941523742,17.505749822062803,21.177963816927132,23.45822389850832,24.52172512307868,20.598686496625074,33.61362614295125,44.331191508454715,19.329077877334317,24.510710975834378,23.85276600517015,25.981409003917687,23.708088230378838,28.48366836132167,null,51.052199069087315,33.45789389759164,28.178587521428977,32.018603648103216,32.63643500562839,27.001076090262146,27.22672156953157,28.49400785731334,28.618881472767878,30.0335591220233,28.437978638970307,20.41518253449893,15.035853125057656,15.868601575810535,15.619368070868463,17.62789915600698,16.32231966790914,18.621577459676736,16.44991095982901,27.588329396348474,25.133834686822947,26.42395061505551,29.16524733522258,35.01259343488018,24.141878398411336,20.86672728245343,22.094075720675317,22.777678192696225,20.2150745329449],\"y0\":\" \",\"yaxis\":\"y\"}],                        {\"boxmode\":\"group\",\"legend\":{\"tracegroupgap\":0},\"margin\":{\"t\":60},\"template\":{\"data\":{\"bar\":[{\"error_x\":{\"color\":\"#2a3f5f\"},\"error_y\":{\"color\":\"#2a3f5f\"},\"marker\":{\"line\":{\"color\":\"#E5ECF6\",\"width\":0.5},\"pattern\":{\"fillmode\":\"overlay\",\"size\":10,\"solidity\":0.2}},\"type\":\"bar\"}],\"barpolar\":[{\"marker\":{\"line\":{\"color\":\"#E5ECF6\",\"width\":0.5},\"pattern\":{\"fillmode\":\"overlay\",\"size\":10,\"solidity\":0.2}},\"type\":\"barpolar\"}],\"carpet\":[{\"aaxis\":{\"endlinecolor\":\"#2a3f5f\",\"gridcolor\":\"white\",\"linecolor\":\"white\",\"minorgridcolor\":\"white\",\"startlinecolor\":\"#2a3f5f\"},\"baxis\":{\"endlinecolor\":\"#2a3f5f\",\"gridcolor\":\"white\",\"linecolor\":\"white\",\"minorgridcolor\":\"white\",\"startlinecolor\":\"#2a3f5f\"},\"type\":\"carpet\"}],\"choropleth\":[{\"colorbar\":{\"outlinewidth\":0,\"ticks\":\"\"},\"type\":\"choropleth\"}],\"contour\":[{\"colorbar\":{\"outlinewidth\":0,\"ticks\":\"\"},\"colorscale\":[[0.0,\"#0d0887\"],[0.1111111111111111,\"#46039f\"],[0.2222222222222222,\"#7201a8\"],[0.3333333333333333,\"#9c179e\"],[0.4444444444444444,\"#bd3786\"],[0.5555555555555556,\"#d8576b\"],[0.6666666666666666,\"#ed7953\"],[0.7777777777777778,\"#fb9f3a\"],[0.8888888888888888,\"#fdca26\"],[1.0,\"#f0f921\"]],\"type\":\"contour\"}],\"contourcarpet\":[{\"colorbar\":{\"outlinewidth\":0,\"ticks\":\"\"},\"type\":\"contourcarpet\"}],\"heatmap\":[{\"colorbar\":{\"outlinewidth\":0,\"ticks\":\"\"},\"colorscale\":[[0.0,\"#0d0887\"],[0.1111111111111111,\"#46039f\"],[0.2222222222222222,\"#7201a8\"],[0.3333333333333333,\"#9c179e\"],[0.4444444444444444,\"#bd3786\"],[0.5555555555555556,\"#d8576b\"],[0.6666666666666666,\"#ed7953\"],[0.7777777777777778,\"#fb9f3a\"],[0.8888888888888888,\"#fdca26\"],[1.0,\"#f0f921\"]],\"type\":\"heatmap\"}],\"heatmapgl\":[{\"colorbar\":{\"outlinewidth\":0,\"ticks\":\"\"},\"colorscale\":[[0.0,\"#0d0887\"],[0.1111111111111111,\"#46039f\"],[0.2222222222222222,\"#7201a8\"],[0.3333333333333333,\"#9c179e\"],[0.4444444444444444,\"#bd3786\"],[0.5555555555555556,\"#d8576b\"],[0.6666666666666666,\"#ed7953\"],[0.7777777777777778,\"#fb9f3a\"],[0.8888888888888888,\"#fdca26\"],[1.0,\"#f0f921\"]],\"type\":\"heatmapgl\"}],\"histogram\":[{\"marker\":{\"pattern\":{\"fillmode\":\"overlay\",\"size\":10,\"solidity\":0.2}},\"type\":\"histogram\"}],\"histogram2d\":[{\"colorbar\":{\"outlinewidth\":0,\"ticks\":\"\"},\"colorscale\":[[0.0,\"#0d0887\"],[0.1111111111111111,\"#46039f\"],[0.2222222222222222,\"#7201a8\"],[0.3333333333333333,\"#9c179e\"],[0.4444444444444444,\"#bd3786\"],[0.5555555555555556,\"#d8576b\"],[0.6666666666666666,\"#ed7953\"],[0.7777777777777778,\"#fb9f3a\"],[0.8888888888888888,\"#fdca26\"],[1.0,\"#f0f921\"]],\"type\":\"histogram2d\"}],\"histogram2dcontour\":[{\"colorbar\":{\"outlinewidth\":0,\"ticks\":\"\"},\"colorscale\":[[0.0,\"#0d0887\"],[0.1111111111111111,\"#46039f\"],[0.2222222222222222,\"#7201a8\"],[0.3333333333333333,\"#9c179e\"],[0.4444444444444444,\"#bd3786\"],[0.5555555555555556,\"#d8576b\"],[0.6666666666666666,\"#ed7953\"],[0.7777777777777778,\"#fb9f3a\"],[0.8888888888888888,\"#fdca26\"],[1.0,\"#f0f921\"]],\"type\":\"histogram2dcontour\"}],\"mesh3d\":[{\"colorbar\":{\"outlinewidth\":0,\"ticks\":\"\"},\"type\":\"mesh3d\"}],\"parcoords\":[{\"line\":{\"colorbar\":{\"outlinewidth\":0,\"ticks\":\"\"}},\"type\":\"parcoords\"}],\"pie\":[{\"automargin\":true,\"type\":\"pie\"}],\"scatter\":[{\"marker\":{\"colorbar\":{\"outlinewidth\":0,\"ticks\":\"\"}},\"type\":\"scatter\"}],\"scatter3d\":[{\"line\":{\"colorbar\":{\"outlinewidth\":0,\"ticks\":\"\"}},\"marker\":{\"colorbar\":{\"outlinewidth\":0,\"ticks\":\"\"}},\"type\":\"scatter3d\"}],\"scattercarpet\":[{\"marker\":{\"colorbar\":{\"outlinewidth\":0,\"ticks\":\"\"}},\"type\":\"scattercarpet\"}],\"scattergeo\":[{\"marker\":{\"colorbar\":{\"outlinewidth\":0,\"ticks\":\"\"}},\"type\":\"scattergeo\"}],\"scattergl\":[{\"marker\":{\"colorbar\":{\"outlinewidth\":0,\"ticks\":\"\"}},\"type\":\"scattergl\"}],\"scattermapbox\":[{\"marker\":{\"colorbar\":{\"outlinewidth\":0,\"ticks\":\"\"}},\"type\":\"scattermapbox\"}],\"scatterpolar\":[{\"marker\":{\"colorbar\":{\"outlinewidth\":0,\"ticks\":\"\"}},\"type\":\"scatterpolar\"}],\"scatterpolargl\":[{\"marker\":{\"colorbar\":{\"outlinewidth\":0,\"ticks\":\"\"}},\"type\":\"scatterpolargl\"}],\"scatterternary\":[{\"marker\":{\"colorbar\":{\"outlinewidth\":0,\"ticks\":\"\"}},\"type\":\"scatterternary\"}],\"surface\":[{\"colorbar\":{\"outlinewidth\":0,\"ticks\":\"\"},\"colorscale\":[[0.0,\"#0d0887\"],[0.1111111111111111,\"#46039f\"],[0.2222222222222222,\"#7201a8\"],[0.3333333333333333,\"#9c179e\"],[0.4444444444444444,\"#bd3786\"],[0.5555555555555556,\"#d8576b\"],[0.6666666666666666,\"#ed7953\"],[0.7777777777777778,\"#fb9f3a\"],[0.8888888888888888,\"#fdca26\"],[1.0,\"#f0f921\"]],\"type\":\"surface\"}],\"table\":[{\"cells\":{\"fill\":{\"color\":\"#EBF0F8\"},\"line\":{\"color\":\"white\"}},\"header\":{\"fill\":{\"color\":\"#C8D4E3\"},\"line\":{\"color\":\"white\"}},\"type\":\"table\"}]},\"layout\":{\"annotationdefaults\":{\"arrowcolor\":\"#2a3f5f\",\"arrowhead\":0,\"arrowwidth\":1},\"autotypenumbers\":\"strict\",\"coloraxis\":{\"colorbar\":{\"outlinewidth\":0,\"ticks\":\"\"}},\"colorscale\":{\"diverging\":[[0,\"#8e0152\"],[0.1,\"#c51b7d\"],[0.2,\"#de77ae\"],[0.3,\"#f1b6da\"],[0.4,\"#fde0ef\"],[0.5,\"#f7f7f7\"],[0.6,\"#e6f5d0\"],[0.7,\"#b8e186\"],[0.8,\"#7fbc41\"],[0.9,\"#4d9221\"],[1,\"#276419\"]],\"sequential\":[[0.0,\"#0d0887\"],[0.1111111111111111,\"#46039f\"],[0.2222222222222222,\"#7201a8\"],[0.3333333333333333,\"#9c179e\"],[0.4444444444444444,\"#bd3786\"],[0.5555555555555556,\"#d8576b\"],[0.6666666666666666,\"#ed7953\"],[0.7777777777777778,\"#fb9f3a\"],[0.8888888888888888,\"#fdca26\"],[1.0,\"#f0f921\"]],\"sequentialminus\":[[0.0,\"#0d0887\"],[0.1111111111111111,\"#46039f\"],[0.2222222222222222,\"#7201a8\"],[0.3333333333333333,\"#9c179e\"],[0.4444444444444444,\"#bd3786\"],[0.5555555555555556,\"#d8576b\"],[0.6666666666666666,\"#ed7953\"],[0.7777777777777778,\"#fb9f3a\"],[0.8888888888888888,\"#fdca26\"],[1.0,\"#f0f921\"]]},\"colorway\":[\"#636efa\",\"#EF553B\",\"#00cc96\",\"#ab63fa\",\"#FFA15A\",\"#19d3f3\",\"#FF6692\",\"#B6E880\",\"#FF97FF\",\"#FECB52\"],\"font\":{\"color\":\"#2a3f5f\"},\"geo\":{\"bgcolor\":\"white\",\"lakecolor\":\"white\",\"landcolor\":\"#E5ECF6\",\"showlakes\":true,\"showland\":true,\"subunitcolor\":\"white\"},\"hoverlabel\":{\"align\":\"left\"},\"hovermode\":\"closest\",\"mapbox\":{\"style\":\"light\"},\"paper_bgcolor\":\"white\",\"plot_bgcolor\":\"#E5ECF6\",\"polar\":{\"angularaxis\":{\"gridcolor\":\"white\",\"linecolor\":\"white\",\"ticks\":\"\"},\"bgcolor\":\"#E5ECF6\",\"radialaxis\":{\"gridcolor\":\"white\",\"linecolor\":\"white\",\"ticks\":\"\"}},\"scene\":{\"xaxis\":{\"backgroundcolor\":\"#E5ECF6\",\"gridcolor\":\"white\",\"gridwidth\":2,\"linecolor\":\"white\",\"showbackground\":true,\"ticks\":\"\",\"zerolinecolor\":\"white\"},\"yaxis\":{\"backgroundcolor\":\"#E5ECF6\",\"gridcolor\":\"white\",\"gridwidth\":2,\"linecolor\":\"white\",\"showbackground\":true,\"ticks\":\"\",\"zerolinecolor\":\"white\"},\"zaxis\":{\"backgroundcolor\":\"#E5ECF6\",\"gridcolor\":\"white\",\"gridwidth\":2,\"linecolor\":\"white\",\"showbackground\":true,\"ticks\":\"\",\"zerolinecolor\":\"white\"}},\"shapedefaults\":{\"line\":{\"color\":\"#2a3f5f\"}},\"ternary\":{\"aaxis\":{\"gridcolor\":\"white\",\"linecolor\":\"white\",\"ticks\":\"\"},\"baxis\":{\"gridcolor\":\"white\",\"linecolor\":\"white\",\"ticks\":\"\"},\"bgcolor\":\"#E5ECF6\",\"caxis\":{\"gridcolor\":\"white\",\"linecolor\":\"white\",\"ticks\":\"\"}},\"title\":{\"x\":0.05},\"xaxis\":{\"automargin\":true,\"gridcolor\":\"white\",\"linecolor\":\"white\",\"ticks\":\"\",\"title\":{\"standoff\":15},\"zerolinecolor\":\"white\",\"zerolinewidth\":2},\"yaxis\":{\"automargin\":true,\"gridcolor\":\"white\",\"linecolor\":\"white\",\"ticks\":\"\",\"title\":{\"standoff\":15},\"zerolinecolor\":\"white\",\"zerolinewidth\":2}}},\"xaxis\":{\"anchor\":\"y\",\"domain\":[0.0,1.0],\"title\":{\"text\":\"Surface\"}},\"yaxis\":{\"anchor\":\"x\",\"domain\":[0.0,1.0],\"title\":{\"text\":\"RMS\"}}},                        {\"responsive\": true}                    ).then(function(){\n",
       "                            \n",
       "var gd = document.getElementById('3d711910-445f-4a94-8e89-b38478eb72ac');\n",
       "var x = new MutationObserver(function (mutations, observer) {{\n",
       "        var display = window.getComputedStyle(gd).display;\n",
       "        if (!display || display === 'none') {{\n",
       "            console.log([gd, 'removed!']);\n",
       "            Plotly.purge(gd);\n",
       "            observer.disconnect();\n",
       "        }}\n",
       "}});\n",
       "\n",
       "// Listen for the removal of the full notebook cells\n",
       "var notebookContainer = gd.closest('#notebook-container');\n",
       "if (notebookContainer) {{\n",
       "    x.observe(notebookContainer, {childList: true});\n",
       "}}\n",
       "\n",
       "// Listen for the clearing of the current output cell\n",
       "var outputEl = gd.closest('.output');\n",
       "if (outputEl) {{\n",
       "    x.observe(outputEl, {childList: true});\n",
       "}}\n",
       "\n",
       "                        })                };                });            </script>        </div>"
      ]
     },
     "metadata": {},
     "output_type": "display_data"
    }
   ],
   "source": [
    "import plotly.express as px\n",
    "fig = px.box(alldf, x=\"Surface\", y=\"RMS\", points = 'all')\n",
    "fig.show()"
   ]
  },
  {
   "cell_type": "code",
   "execution_count": 146,
   "metadata": {},
   "outputs": [
    {
     "data": {
      "application/vnd.plotly.v1+json": {
       "config": {
        "plotlyServerURL": "https://plot.ly"
       },
       "data": [
        {
         "alignmentgroup": "True",
         "boxpoints": "all",
         "hovertemplate": "Surface=%{x}<br>RMSf=%{y}<extra></extra>",
         "legendgroup": "",
         "marker": {
          "color": "#636efa"
         },
         "name": "",
         "notched": false,
         "offsetgroup": "",
         "orientation": "v",
         "showlegend": false,
         "type": "box",
         "x": [
          "Wet Asphalt",
          "Wet Asphalt",
          "Wet Asphalt",
          "Wet Asphalt",
          "Wet Asphalt",
          "Wet Asphalt",
          "Wet Asphalt",
          "Wet Asphalt",
          "Wet Asphalt",
          "Wet Asphalt",
          "Wet Asphalt",
          "Wet Asphalt",
          "Wet Asphalt",
          "Wet Asphalt",
          "Wet Asphalt",
          "Wet Asphalt",
          "Wet Asphalt",
          "Wet Asphalt",
          "Wet Asphalt",
          "Wet Asphalt",
          "Wet Asphalt",
          "Wet Asphalt",
          "Wet Asphalt",
          "Wet Asphalt",
          "Wet Asphalt",
          "Wet Asphalt",
          "Wet Asphalt",
          "Wet Asphalt",
          "Wet Asphalt",
          "Wet Asphalt",
          "Wet Asphalt",
          "Wet Asphalt",
          "Wet Asphalt",
          "Wet Asphalt",
          "Wet Asphalt",
          "Wet Asphalt",
          "Wet Asphalt",
          "Wet Asphalt",
          "Wet Asphalt",
          "Wet Asphalt",
          "Wet Asphalt",
          "Wet Asphalt",
          "Wet Asphalt",
          "Wet Asphalt",
          "Wet Asphalt",
          "Wet Asphalt",
          "Wet Asphalt",
          "Wet Asphalt",
          "Wet Asphalt",
          "Wet Asphalt",
          "Wet Asphalt",
          "Wet Asphalt",
          "Wet Asphalt",
          "Wet Asphalt",
          "Wet Asphalt",
          "Wet Asphalt",
          "Wet Asphalt",
          "Wet Asphalt",
          "Wet Asphalt",
          "Wet Asphalt",
          "Wet Asphalt",
          "Wet Asphalt",
          "Wet Asphalt",
          "Wet Asphalt",
          "Wet Asphalt",
          "Wet Asphalt",
          "Wet Asphalt",
          "Wet Asphalt",
          "Wet Asphalt",
          "Wet Asphalt",
          "Wet Asphalt",
          "Wet Asphalt",
          "Wet Asphalt",
          "Wet Asphalt",
          "Wet Asphalt",
          "Wet Asphalt",
          "Wet Asphalt",
          "Wet Asphalt",
          "Wet Asphalt",
          "Wet Asphalt",
          "Wet Asphalt",
          "Wet Asphalt",
          "Wet Asphalt",
          "Wet Asphalt",
          "Wet Asphalt",
          "Wet Asphalt",
          "Wet Asphalt",
          "Wet Asphalt",
          "Wet Asphalt",
          "Wet Asphalt",
          "Wet Asphalt",
          "Wet Asphalt",
          "Wet Asphalt",
          "Wet Asphalt",
          "Wet Asphalt",
          "Wet Asphalt",
          "Wet Asphalt",
          "Wet Asphalt",
          "Wet Asphalt",
          "Wet Asphalt",
          "Wet Asphalt",
          "Wet Asphalt",
          "Wet Asphalt",
          "Wet Asphalt",
          "Wet Asphalt",
          "Wet Asphalt",
          "Wet Asphalt",
          "Wet Asphalt",
          "Wet Asphalt",
          "Gravel",
          "Gravel",
          "Gravel",
          "Gravel",
          "Gravel",
          "Gravel",
          "Gravel",
          "Gravel",
          "Gravel",
          "Gravel",
          "Gravel",
          "Gravel",
          "Gravel",
          "Gravel",
          "Gravel",
          "Gravel",
          "Gravel",
          "Gravel",
          "Gravel",
          "Gravel",
          "Gravel",
          "Gravel",
          "Gravel",
          "Gravel",
          "Gravel",
          "Gravel",
          "Gravel",
          "Gravel",
          "Gravel",
          "Gravel"
         ],
         "x0": " ",
         "xaxis": "x",
         "y": [
          1023.2270261771928,
          1283.3797635967028,
          1559.7493804458236,
          1917.0394219963503,
          1903.750157204486,
          1529.2237878907065,
          1788.0271750405598,
          2028.601993456366,
          1417.8163048418264,
          942.277433390313,
          1421.653796879647,
          1162.7192196037163,
          1349.4235712218465,
          1309.0007895077847,
          1183.627366367137,
          1424.9312542781172,
          1475.2538294706558,
          2032.3367460220834,
          1876.7778027704621,
          1836.7938698875805,
          2469.918038963686,
          1677.166277951219,
          1562.939456676158,
          1622.489599153465,
          1533.3138138045974,
          1271.278271317578,
          2028.059405228655,
          1988.3386891579182,
          2066.533503715079,
          2028.4243112621982,
          1553.8997506615237,
          1517.0237512350277,
          1999.4194597246942,
          2536.747064373764,
          3323.820725225971,
          3169.8986605387595,
          3992.6039923931125,
          4009.7433928934624,
          2431.630517615144,
          2202.043376345001,
          1772.9687491603731,
          1768.4906856515768,
          1669.7906364812115,
          1987.637006207836,
          1959.3491993131738,
          2600.2300471874782,
          2802.739363248258,
          2574.3880499098746,
          2270.700834761632,
          1909.397056282871,
          2389.765453497425,
          2689.607043144439,
          2629.4146076129905,
          2008.0935002007218,
          2239.53125104323,
          2462.7716307779006,
          2723.5616087792437,
          3360.630989020669,
          2835.0298476635908,
          1509.0736149132333,
          2117.4780965799687,
          448.10910469228725,
          1892.1522453894659,
          2958.287777093132,
          1974.6669739931701,
          1713.401253751741,
          1769.4239073691267,
          2044.3037808097322,
          1514.9141436301827,
          2408.511409211864,
          2512.7330487370427,
          2530.660669376481,
          1197.9432225152173,
          892.2982903586259,
          733.6943703330869,
          917.1161234168001,
          1992.0977950090848,
          565.1804931025542,
          219.02800891839246,
          1529.70312257045,
          2252.3453644515275,
          3501.2226651029887,
          3745.9853270378994,
          3434.722686941707,
          3786.1892101520266,
          3676.8168449983386,
          3247.8548586843553,
          3078.326597383521,
          3277.633879460549,
          3407.0772517055893,
          3860.5783657683346,
          4188.691283360371,
          3536.0023663586067,
          2354.216542721506,
          1591.340659634007,
          1580.7722575186299,
          1905.0691101841019,
          1804.2939324424722,
          1268.4763088180969,
          1142.200276558139,
          1541.42233282331,
          1057.4612158981838,
          738.2290229009878,
          1819.0922474569,
          1175.7622302955672,
          1369.4608519857222,
          1336.7115813219996,
          1274.5120900939175,
          978.8158082707419,
          93.95995909808448,
          370.8213073726083,
          634.6123361674099,
          889.3577398144887,
          807.8052730760018,
          722.6255230538037,
          923.7667302804617,
          969.0234493069495,
          845.4378663739241,
          826.2358289274331,
          874.7109933016714,
          793.0637127590368,
          1365.1019695510984,
          2260.9740591815153,
          2121.5209113203055,
          2028.0936985033704,
          1782.0497021636895,
          1785.1450529392027,
          1705.191130139102,
          2022.9119453152648,
          1067.1742163936844,
          979.2362856743298,
          787.5766463126334,
          632.9702582807984,
          654.7251023081606,
          989.2959256131898,
          1058.7020969280277,
          1109.938163361988,
          1097.7216456572705,
          1116.430388688007
         ],
         "y0": " ",
         "yaxis": "y"
        }
       ],
       "layout": {
        "boxmode": "group",
        "legend": {
         "tracegroupgap": 0
        },
        "margin": {
         "t": 60
        },
        "template": {
         "data": {
          "bar": [
           {
            "error_x": {
             "color": "#2a3f5f"
            },
            "error_y": {
             "color": "#2a3f5f"
            },
            "marker": {
             "line": {
              "color": "#E5ECF6",
              "width": 0.5
             },
             "pattern": {
              "fillmode": "overlay",
              "size": 10,
              "solidity": 0.2
             }
            },
            "type": "bar"
           }
          ],
          "barpolar": [
           {
            "marker": {
             "line": {
              "color": "#E5ECF6",
              "width": 0.5
             },
             "pattern": {
              "fillmode": "overlay",
              "size": 10,
              "solidity": 0.2
             }
            },
            "type": "barpolar"
           }
          ],
          "carpet": [
           {
            "aaxis": {
             "endlinecolor": "#2a3f5f",
             "gridcolor": "white",
             "linecolor": "white",
             "minorgridcolor": "white",
             "startlinecolor": "#2a3f5f"
            },
            "baxis": {
             "endlinecolor": "#2a3f5f",
             "gridcolor": "white",
             "linecolor": "white",
             "minorgridcolor": "white",
             "startlinecolor": "#2a3f5f"
            },
            "type": "carpet"
           }
          ],
          "choropleth": [
           {
            "colorbar": {
             "outlinewidth": 0,
             "ticks": ""
            },
            "type": "choropleth"
           }
          ],
          "contour": [
           {
            "colorbar": {
             "outlinewidth": 0,
             "ticks": ""
            },
            "colorscale": [
             [
              0,
              "#0d0887"
             ],
             [
              0.1111111111111111,
              "#46039f"
             ],
             [
              0.2222222222222222,
              "#7201a8"
             ],
             [
              0.3333333333333333,
              "#9c179e"
             ],
             [
              0.4444444444444444,
              "#bd3786"
             ],
             [
              0.5555555555555556,
              "#d8576b"
             ],
             [
              0.6666666666666666,
              "#ed7953"
             ],
             [
              0.7777777777777778,
              "#fb9f3a"
             ],
             [
              0.8888888888888888,
              "#fdca26"
             ],
             [
              1,
              "#f0f921"
             ]
            ],
            "type": "contour"
           }
          ],
          "contourcarpet": [
           {
            "colorbar": {
             "outlinewidth": 0,
             "ticks": ""
            },
            "type": "contourcarpet"
           }
          ],
          "heatmap": [
           {
            "colorbar": {
             "outlinewidth": 0,
             "ticks": ""
            },
            "colorscale": [
             [
              0,
              "#0d0887"
             ],
             [
              0.1111111111111111,
              "#46039f"
             ],
             [
              0.2222222222222222,
              "#7201a8"
             ],
             [
              0.3333333333333333,
              "#9c179e"
             ],
             [
              0.4444444444444444,
              "#bd3786"
             ],
             [
              0.5555555555555556,
              "#d8576b"
             ],
             [
              0.6666666666666666,
              "#ed7953"
             ],
             [
              0.7777777777777778,
              "#fb9f3a"
             ],
             [
              0.8888888888888888,
              "#fdca26"
             ],
             [
              1,
              "#f0f921"
             ]
            ],
            "type": "heatmap"
           }
          ],
          "heatmapgl": [
           {
            "colorbar": {
             "outlinewidth": 0,
             "ticks": ""
            },
            "colorscale": [
             [
              0,
              "#0d0887"
             ],
             [
              0.1111111111111111,
              "#46039f"
             ],
             [
              0.2222222222222222,
              "#7201a8"
             ],
             [
              0.3333333333333333,
              "#9c179e"
             ],
             [
              0.4444444444444444,
              "#bd3786"
             ],
             [
              0.5555555555555556,
              "#d8576b"
             ],
             [
              0.6666666666666666,
              "#ed7953"
             ],
             [
              0.7777777777777778,
              "#fb9f3a"
             ],
             [
              0.8888888888888888,
              "#fdca26"
             ],
             [
              1,
              "#f0f921"
             ]
            ],
            "type": "heatmapgl"
           }
          ],
          "histogram": [
           {
            "marker": {
             "pattern": {
              "fillmode": "overlay",
              "size": 10,
              "solidity": 0.2
             }
            },
            "type": "histogram"
           }
          ],
          "histogram2d": [
           {
            "colorbar": {
             "outlinewidth": 0,
             "ticks": ""
            },
            "colorscale": [
             [
              0,
              "#0d0887"
             ],
             [
              0.1111111111111111,
              "#46039f"
             ],
             [
              0.2222222222222222,
              "#7201a8"
             ],
             [
              0.3333333333333333,
              "#9c179e"
             ],
             [
              0.4444444444444444,
              "#bd3786"
             ],
             [
              0.5555555555555556,
              "#d8576b"
             ],
             [
              0.6666666666666666,
              "#ed7953"
             ],
             [
              0.7777777777777778,
              "#fb9f3a"
             ],
             [
              0.8888888888888888,
              "#fdca26"
             ],
             [
              1,
              "#f0f921"
             ]
            ],
            "type": "histogram2d"
           }
          ],
          "histogram2dcontour": [
           {
            "colorbar": {
             "outlinewidth": 0,
             "ticks": ""
            },
            "colorscale": [
             [
              0,
              "#0d0887"
             ],
             [
              0.1111111111111111,
              "#46039f"
             ],
             [
              0.2222222222222222,
              "#7201a8"
             ],
             [
              0.3333333333333333,
              "#9c179e"
             ],
             [
              0.4444444444444444,
              "#bd3786"
             ],
             [
              0.5555555555555556,
              "#d8576b"
             ],
             [
              0.6666666666666666,
              "#ed7953"
             ],
             [
              0.7777777777777778,
              "#fb9f3a"
             ],
             [
              0.8888888888888888,
              "#fdca26"
             ],
             [
              1,
              "#f0f921"
             ]
            ],
            "type": "histogram2dcontour"
           }
          ],
          "mesh3d": [
           {
            "colorbar": {
             "outlinewidth": 0,
             "ticks": ""
            },
            "type": "mesh3d"
           }
          ],
          "parcoords": [
           {
            "line": {
             "colorbar": {
              "outlinewidth": 0,
              "ticks": ""
             }
            },
            "type": "parcoords"
           }
          ],
          "pie": [
           {
            "automargin": true,
            "type": "pie"
           }
          ],
          "scatter": [
           {
            "marker": {
             "colorbar": {
              "outlinewidth": 0,
              "ticks": ""
             }
            },
            "type": "scatter"
           }
          ],
          "scatter3d": [
           {
            "line": {
             "colorbar": {
              "outlinewidth": 0,
              "ticks": ""
             }
            },
            "marker": {
             "colorbar": {
              "outlinewidth": 0,
              "ticks": ""
             }
            },
            "type": "scatter3d"
           }
          ],
          "scattercarpet": [
           {
            "marker": {
             "colorbar": {
              "outlinewidth": 0,
              "ticks": ""
             }
            },
            "type": "scattercarpet"
           }
          ],
          "scattergeo": [
           {
            "marker": {
             "colorbar": {
              "outlinewidth": 0,
              "ticks": ""
             }
            },
            "type": "scattergeo"
           }
          ],
          "scattergl": [
           {
            "marker": {
             "colorbar": {
              "outlinewidth": 0,
              "ticks": ""
             }
            },
            "type": "scattergl"
           }
          ],
          "scattermapbox": [
           {
            "marker": {
             "colorbar": {
              "outlinewidth": 0,
              "ticks": ""
             }
            },
            "type": "scattermapbox"
           }
          ],
          "scatterpolar": [
           {
            "marker": {
             "colorbar": {
              "outlinewidth": 0,
              "ticks": ""
             }
            },
            "type": "scatterpolar"
           }
          ],
          "scatterpolargl": [
           {
            "marker": {
             "colorbar": {
              "outlinewidth": 0,
              "ticks": ""
             }
            },
            "type": "scatterpolargl"
           }
          ],
          "scatterternary": [
           {
            "marker": {
             "colorbar": {
              "outlinewidth": 0,
              "ticks": ""
             }
            },
            "type": "scatterternary"
           }
          ],
          "surface": [
           {
            "colorbar": {
             "outlinewidth": 0,
             "ticks": ""
            },
            "colorscale": [
             [
              0,
              "#0d0887"
             ],
             [
              0.1111111111111111,
              "#46039f"
             ],
             [
              0.2222222222222222,
              "#7201a8"
             ],
             [
              0.3333333333333333,
              "#9c179e"
             ],
             [
              0.4444444444444444,
              "#bd3786"
             ],
             [
              0.5555555555555556,
              "#d8576b"
             ],
             [
              0.6666666666666666,
              "#ed7953"
             ],
             [
              0.7777777777777778,
              "#fb9f3a"
             ],
             [
              0.8888888888888888,
              "#fdca26"
             ],
             [
              1,
              "#f0f921"
             ]
            ],
            "type": "surface"
           }
          ],
          "table": [
           {
            "cells": {
             "fill": {
              "color": "#EBF0F8"
             },
             "line": {
              "color": "white"
             }
            },
            "header": {
             "fill": {
              "color": "#C8D4E3"
             },
             "line": {
              "color": "white"
             }
            },
            "type": "table"
           }
          ]
         },
         "layout": {
          "annotationdefaults": {
           "arrowcolor": "#2a3f5f",
           "arrowhead": 0,
           "arrowwidth": 1
          },
          "autotypenumbers": "strict",
          "coloraxis": {
           "colorbar": {
            "outlinewidth": 0,
            "ticks": ""
           }
          },
          "colorscale": {
           "diverging": [
            [
             0,
             "#8e0152"
            ],
            [
             0.1,
             "#c51b7d"
            ],
            [
             0.2,
             "#de77ae"
            ],
            [
             0.3,
             "#f1b6da"
            ],
            [
             0.4,
             "#fde0ef"
            ],
            [
             0.5,
             "#f7f7f7"
            ],
            [
             0.6,
             "#e6f5d0"
            ],
            [
             0.7,
             "#b8e186"
            ],
            [
             0.8,
             "#7fbc41"
            ],
            [
             0.9,
             "#4d9221"
            ],
            [
             1,
             "#276419"
            ]
           ],
           "sequential": [
            [
             0,
             "#0d0887"
            ],
            [
             0.1111111111111111,
             "#46039f"
            ],
            [
             0.2222222222222222,
             "#7201a8"
            ],
            [
             0.3333333333333333,
             "#9c179e"
            ],
            [
             0.4444444444444444,
             "#bd3786"
            ],
            [
             0.5555555555555556,
             "#d8576b"
            ],
            [
             0.6666666666666666,
             "#ed7953"
            ],
            [
             0.7777777777777778,
             "#fb9f3a"
            ],
            [
             0.8888888888888888,
             "#fdca26"
            ],
            [
             1,
             "#f0f921"
            ]
           ],
           "sequentialminus": [
            [
             0,
             "#0d0887"
            ],
            [
             0.1111111111111111,
             "#46039f"
            ],
            [
             0.2222222222222222,
             "#7201a8"
            ],
            [
             0.3333333333333333,
             "#9c179e"
            ],
            [
             0.4444444444444444,
             "#bd3786"
            ],
            [
             0.5555555555555556,
             "#d8576b"
            ],
            [
             0.6666666666666666,
             "#ed7953"
            ],
            [
             0.7777777777777778,
             "#fb9f3a"
            ],
            [
             0.8888888888888888,
             "#fdca26"
            ],
            [
             1,
             "#f0f921"
            ]
           ]
          },
          "colorway": [
           "#636efa",
           "#EF553B",
           "#00cc96",
           "#ab63fa",
           "#FFA15A",
           "#19d3f3",
           "#FF6692",
           "#B6E880",
           "#FF97FF",
           "#FECB52"
          ],
          "font": {
           "color": "#2a3f5f"
          },
          "geo": {
           "bgcolor": "white",
           "lakecolor": "white",
           "landcolor": "#E5ECF6",
           "showlakes": true,
           "showland": true,
           "subunitcolor": "white"
          },
          "hoverlabel": {
           "align": "left"
          },
          "hovermode": "closest",
          "mapbox": {
           "style": "light"
          },
          "paper_bgcolor": "white",
          "plot_bgcolor": "#E5ECF6",
          "polar": {
           "angularaxis": {
            "gridcolor": "white",
            "linecolor": "white",
            "ticks": ""
           },
           "bgcolor": "#E5ECF6",
           "radialaxis": {
            "gridcolor": "white",
            "linecolor": "white",
            "ticks": ""
           }
          },
          "scene": {
           "xaxis": {
            "backgroundcolor": "#E5ECF6",
            "gridcolor": "white",
            "gridwidth": 2,
            "linecolor": "white",
            "showbackground": true,
            "ticks": "",
            "zerolinecolor": "white"
           },
           "yaxis": {
            "backgroundcolor": "#E5ECF6",
            "gridcolor": "white",
            "gridwidth": 2,
            "linecolor": "white",
            "showbackground": true,
            "ticks": "",
            "zerolinecolor": "white"
           },
           "zaxis": {
            "backgroundcolor": "#E5ECF6",
            "gridcolor": "white",
            "gridwidth": 2,
            "linecolor": "white",
            "showbackground": true,
            "ticks": "",
            "zerolinecolor": "white"
           }
          },
          "shapedefaults": {
           "line": {
            "color": "#2a3f5f"
           }
          },
          "ternary": {
           "aaxis": {
            "gridcolor": "white",
            "linecolor": "white",
            "ticks": ""
           },
           "baxis": {
            "gridcolor": "white",
            "linecolor": "white",
            "ticks": ""
           },
           "bgcolor": "#E5ECF6",
           "caxis": {
            "gridcolor": "white",
            "linecolor": "white",
            "ticks": ""
           }
          },
          "title": {
           "x": 0.05
          },
          "xaxis": {
           "automargin": true,
           "gridcolor": "white",
           "linecolor": "white",
           "ticks": "",
           "title": {
            "standoff": 15
           },
           "zerolinecolor": "white",
           "zerolinewidth": 2
          },
          "yaxis": {
           "automargin": true,
           "gridcolor": "white",
           "linecolor": "white",
           "ticks": "",
           "title": {
            "standoff": 15
           },
           "zerolinecolor": "white",
           "zerolinewidth": 2
          }
         }
        },
        "xaxis": {
         "anchor": "y",
         "domain": [
          0,
          1
         ],
         "title": {
          "text": "Surface"
         }
        },
        "yaxis": {
         "anchor": "x",
         "domain": [
          0,
          1
         ],
         "title": {
          "text": "RMSf"
         }
        }
       }
      },
      "text/html": [
       "<div>                            <div id=\"776cfb93-a96c-41db-b20b-951f96dc59b2\" class=\"plotly-graph-div\" style=\"height:525px; width:100%;\"></div>            <script type=\"text/javascript\">                require([\"plotly\"], function(Plotly) {                    window.PLOTLYENV=window.PLOTLYENV || {};                                    if (document.getElementById(\"776cfb93-a96c-41db-b20b-951f96dc59b2\")) {                    Plotly.newPlot(                        \"776cfb93-a96c-41db-b20b-951f96dc59b2\",                        [{\"alignmentgroup\":\"True\",\"boxpoints\":\"all\",\"hovertemplate\":\"Surface=%{x}<br>RMSf=%{y}<extra></extra>\",\"legendgroup\":\"\",\"marker\":{\"color\":\"#636efa\"},\"name\":\"\",\"notched\":false,\"offsetgroup\":\"\",\"orientation\":\"v\",\"showlegend\":false,\"type\":\"box\",\"x\":[\"Wet Asphalt\",\"Wet Asphalt\",\"Wet Asphalt\",\"Wet Asphalt\",\"Wet Asphalt\",\"Wet Asphalt\",\"Wet Asphalt\",\"Wet Asphalt\",\"Wet Asphalt\",\"Wet Asphalt\",\"Wet Asphalt\",\"Wet Asphalt\",\"Wet Asphalt\",\"Wet Asphalt\",\"Wet Asphalt\",\"Wet Asphalt\",\"Wet Asphalt\",\"Wet Asphalt\",\"Wet Asphalt\",\"Wet Asphalt\",\"Wet Asphalt\",\"Wet Asphalt\",\"Wet Asphalt\",\"Wet Asphalt\",\"Wet Asphalt\",\"Wet Asphalt\",\"Wet Asphalt\",\"Wet Asphalt\",\"Wet Asphalt\",\"Wet Asphalt\",\"Wet Asphalt\",\"Wet Asphalt\",\"Wet Asphalt\",\"Wet Asphalt\",\"Wet Asphalt\",\"Wet Asphalt\",\"Wet Asphalt\",\"Wet Asphalt\",\"Wet Asphalt\",\"Wet Asphalt\",\"Wet Asphalt\",\"Wet Asphalt\",\"Wet Asphalt\",\"Wet Asphalt\",\"Wet Asphalt\",\"Wet Asphalt\",\"Wet Asphalt\",\"Wet Asphalt\",\"Wet Asphalt\",\"Wet Asphalt\",\"Wet Asphalt\",\"Wet Asphalt\",\"Wet Asphalt\",\"Wet Asphalt\",\"Wet Asphalt\",\"Wet Asphalt\",\"Wet Asphalt\",\"Wet Asphalt\",\"Wet Asphalt\",\"Wet Asphalt\",\"Wet Asphalt\",\"Wet Asphalt\",\"Wet Asphalt\",\"Wet Asphalt\",\"Wet Asphalt\",\"Wet Asphalt\",\"Wet Asphalt\",\"Wet Asphalt\",\"Wet Asphalt\",\"Wet Asphalt\",\"Wet Asphalt\",\"Wet Asphalt\",\"Wet Asphalt\",\"Wet Asphalt\",\"Wet Asphalt\",\"Wet Asphalt\",\"Wet Asphalt\",\"Wet Asphalt\",\"Wet Asphalt\",\"Wet Asphalt\",\"Wet Asphalt\",\"Wet Asphalt\",\"Wet Asphalt\",\"Wet Asphalt\",\"Wet Asphalt\",\"Wet Asphalt\",\"Wet Asphalt\",\"Wet Asphalt\",\"Wet Asphalt\",\"Wet Asphalt\",\"Wet Asphalt\",\"Wet Asphalt\",\"Wet Asphalt\",\"Wet Asphalt\",\"Wet Asphalt\",\"Wet Asphalt\",\"Wet Asphalt\",\"Wet Asphalt\",\"Wet Asphalt\",\"Wet Asphalt\",\"Wet Asphalt\",\"Wet Asphalt\",\"Wet Asphalt\",\"Wet Asphalt\",\"Wet Asphalt\",\"Wet Asphalt\",\"Wet Asphalt\",\"Wet Asphalt\",\"Wet Asphalt\",\"Gravel\",\"Gravel\",\"Gravel\",\"Gravel\",\"Gravel\",\"Gravel\",\"Gravel\",\"Gravel\",\"Gravel\",\"Gravel\",\"Gravel\",\"Gravel\",\"Gravel\",\"Gravel\",\"Gravel\",\"Gravel\",\"Gravel\",\"Gravel\",\"Gravel\",\"Gravel\",\"Gravel\",\"Gravel\",\"Gravel\",\"Gravel\",\"Gravel\",\"Gravel\",\"Gravel\",\"Gravel\",\"Gravel\",\"Gravel\"],\"x0\":\" \",\"xaxis\":\"x\",\"y\":[1023.2270261771928,1283.3797635967028,1559.7493804458236,1917.0394219963503,1903.750157204486,1529.2237878907065,1788.0271750405598,2028.601993456366,1417.8163048418264,942.277433390313,1421.653796879647,1162.7192196037163,1349.4235712218465,1309.0007895077847,1183.627366367137,1424.9312542781172,1475.2538294706558,2032.3367460220834,1876.7778027704621,1836.7938698875805,2469.918038963686,1677.166277951219,1562.939456676158,1622.489599153465,1533.3138138045974,1271.278271317578,2028.059405228655,1988.3386891579182,2066.533503715079,2028.4243112621982,1553.8997506615237,1517.0237512350277,1999.4194597246942,2536.747064373764,3323.820725225971,3169.8986605387595,3992.6039923931125,4009.7433928934624,2431.630517615144,2202.043376345001,1772.9687491603731,1768.4906856515768,1669.7906364812115,1987.637006207836,1959.3491993131738,2600.2300471874782,2802.739363248258,2574.3880499098746,2270.700834761632,1909.397056282871,2389.765453497425,2689.607043144439,2629.4146076129905,2008.0935002007218,2239.53125104323,2462.7716307779006,2723.5616087792437,3360.630989020669,2835.0298476635908,1509.0736149132333,2117.4780965799687,448.10910469228725,1892.1522453894659,2958.287777093132,1974.6669739931701,1713.401253751741,1769.4239073691267,2044.3037808097322,1514.9141436301827,2408.511409211864,2512.7330487370427,2530.660669376481,1197.9432225152173,892.2982903586259,733.6943703330869,917.1161234168001,1992.0977950090848,565.1804931025542,219.02800891839246,1529.70312257045,2252.3453644515275,3501.2226651029887,3745.9853270378994,3434.722686941707,3786.1892101520266,3676.8168449983386,3247.8548586843553,3078.326597383521,3277.633879460549,3407.0772517055893,3860.5783657683346,4188.691283360371,3536.0023663586067,2354.216542721506,1591.340659634007,1580.7722575186299,1905.0691101841019,1804.2939324424722,1268.4763088180969,1142.200276558139,1541.42233282331,1057.4612158981838,738.2290229009878,1819.0922474569,1175.7622302955672,1369.4608519857222,1336.7115813219996,1274.5120900939175,978.8158082707419,93.95995909808448,370.8213073726083,634.6123361674099,889.3577398144887,807.8052730760018,722.6255230538037,923.7667302804617,969.0234493069495,845.4378663739241,826.2358289274331,874.7109933016714,793.0637127590368,1365.1019695510984,2260.9740591815153,2121.5209113203055,2028.0936985033704,1782.0497021636895,1785.1450529392027,1705.191130139102,2022.9119453152648,1067.1742163936844,979.2362856743298,787.5766463126334,632.9702582807984,654.7251023081606,989.2959256131898,1058.7020969280277,1109.938163361988,1097.7216456572705,1116.430388688007],\"y0\":\" \",\"yaxis\":\"y\"}],                        {\"boxmode\":\"group\",\"legend\":{\"tracegroupgap\":0},\"margin\":{\"t\":60},\"template\":{\"data\":{\"bar\":[{\"error_x\":{\"color\":\"#2a3f5f\"},\"error_y\":{\"color\":\"#2a3f5f\"},\"marker\":{\"line\":{\"color\":\"#E5ECF6\",\"width\":0.5},\"pattern\":{\"fillmode\":\"overlay\",\"size\":10,\"solidity\":0.2}},\"type\":\"bar\"}],\"barpolar\":[{\"marker\":{\"line\":{\"color\":\"#E5ECF6\",\"width\":0.5},\"pattern\":{\"fillmode\":\"overlay\",\"size\":10,\"solidity\":0.2}},\"type\":\"barpolar\"}],\"carpet\":[{\"aaxis\":{\"endlinecolor\":\"#2a3f5f\",\"gridcolor\":\"white\",\"linecolor\":\"white\",\"minorgridcolor\":\"white\",\"startlinecolor\":\"#2a3f5f\"},\"baxis\":{\"endlinecolor\":\"#2a3f5f\",\"gridcolor\":\"white\",\"linecolor\":\"white\",\"minorgridcolor\":\"white\",\"startlinecolor\":\"#2a3f5f\"},\"type\":\"carpet\"}],\"choropleth\":[{\"colorbar\":{\"outlinewidth\":0,\"ticks\":\"\"},\"type\":\"choropleth\"}],\"contour\":[{\"colorbar\":{\"outlinewidth\":0,\"ticks\":\"\"},\"colorscale\":[[0.0,\"#0d0887\"],[0.1111111111111111,\"#46039f\"],[0.2222222222222222,\"#7201a8\"],[0.3333333333333333,\"#9c179e\"],[0.4444444444444444,\"#bd3786\"],[0.5555555555555556,\"#d8576b\"],[0.6666666666666666,\"#ed7953\"],[0.7777777777777778,\"#fb9f3a\"],[0.8888888888888888,\"#fdca26\"],[1.0,\"#f0f921\"]],\"type\":\"contour\"}],\"contourcarpet\":[{\"colorbar\":{\"outlinewidth\":0,\"ticks\":\"\"},\"type\":\"contourcarpet\"}],\"heatmap\":[{\"colorbar\":{\"outlinewidth\":0,\"ticks\":\"\"},\"colorscale\":[[0.0,\"#0d0887\"],[0.1111111111111111,\"#46039f\"],[0.2222222222222222,\"#7201a8\"],[0.3333333333333333,\"#9c179e\"],[0.4444444444444444,\"#bd3786\"],[0.5555555555555556,\"#d8576b\"],[0.6666666666666666,\"#ed7953\"],[0.7777777777777778,\"#fb9f3a\"],[0.8888888888888888,\"#fdca26\"],[1.0,\"#f0f921\"]],\"type\":\"heatmap\"}],\"heatmapgl\":[{\"colorbar\":{\"outlinewidth\":0,\"ticks\":\"\"},\"colorscale\":[[0.0,\"#0d0887\"],[0.1111111111111111,\"#46039f\"],[0.2222222222222222,\"#7201a8\"],[0.3333333333333333,\"#9c179e\"],[0.4444444444444444,\"#bd3786\"],[0.5555555555555556,\"#d8576b\"],[0.6666666666666666,\"#ed7953\"],[0.7777777777777778,\"#fb9f3a\"],[0.8888888888888888,\"#fdca26\"],[1.0,\"#f0f921\"]],\"type\":\"heatmapgl\"}],\"histogram\":[{\"marker\":{\"pattern\":{\"fillmode\":\"overlay\",\"size\":10,\"solidity\":0.2}},\"type\":\"histogram\"}],\"histogram2d\":[{\"colorbar\":{\"outlinewidth\":0,\"ticks\":\"\"},\"colorscale\":[[0.0,\"#0d0887\"],[0.1111111111111111,\"#46039f\"],[0.2222222222222222,\"#7201a8\"],[0.3333333333333333,\"#9c179e\"],[0.4444444444444444,\"#bd3786\"],[0.5555555555555556,\"#d8576b\"],[0.6666666666666666,\"#ed7953\"],[0.7777777777777778,\"#fb9f3a\"],[0.8888888888888888,\"#fdca26\"],[1.0,\"#f0f921\"]],\"type\":\"histogram2d\"}],\"histogram2dcontour\":[{\"colorbar\":{\"outlinewidth\":0,\"ticks\":\"\"},\"colorscale\":[[0.0,\"#0d0887\"],[0.1111111111111111,\"#46039f\"],[0.2222222222222222,\"#7201a8\"],[0.3333333333333333,\"#9c179e\"],[0.4444444444444444,\"#bd3786\"],[0.5555555555555556,\"#d8576b\"],[0.6666666666666666,\"#ed7953\"],[0.7777777777777778,\"#fb9f3a\"],[0.8888888888888888,\"#fdca26\"],[1.0,\"#f0f921\"]],\"type\":\"histogram2dcontour\"}],\"mesh3d\":[{\"colorbar\":{\"outlinewidth\":0,\"ticks\":\"\"},\"type\":\"mesh3d\"}],\"parcoords\":[{\"line\":{\"colorbar\":{\"outlinewidth\":0,\"ticks\":\"\"}},\"type\":\"parcoords\"}],\"pie\":[{\"automargin\":true,\"type\":\"pie\"}],\"scatter\":[{\"marker\":{\"colorbar\":{\"outlinewidth\":0,\"ticks\":\"\"}},\"type\":\"scatter\"}],\"scatter3d\":[{\"line\":{\"colorbar\":{\"outlinewidth\":0,\"ticks\":\"\"}},\"marker\":{\"colorbar\":{\"outlinewidth\":0,\"ticks\":\"\"}},\"type\":\"scatter3d\"}],\"scattercarpet\":[{\"marker\":{\"colorbar\":{\"outlinewidth\":0,\"ticks\":\"\"}},\"type\":\"scattercarpet\"}],\"scattergeo\":[{\"marker\":{\"colorbar\":{\"outlinewidth\":0,\"ticks\":\"\"}},\"type\":\"scattergeo\"}],\"scattergl\":[{\"marker\":{\"colorbar\":{\"outlinewidth\":0,\"ticks\":\"\"}},\"type\":\"scattergl\"}],\"scattermapbox\":[{\"marker\":{\"colorbar\":{\"outlinewidth\":0,\"ticks\":\"\"}},\"type\":\"scattermapbox\"}],\"scatterpolar\":[{\"marker\":{\"colorbar\":{\"outlinewidth\":0,\"ticks\":\"\"}},\"type\":\"scatterpolar\"}],\"scatterpolargl\":[{\"marker\":{\"colorbar\":{\"outlinewidth\":0,\"ticks\":\"\"}},\"type\":\"scatterpolargl\"}],\"scatterternary\":[{\"marker\":{\"colorbar\":{\"outlinewidth\":0,\"ticks\":\"\"}},\"type\":\"scatterternary\"}],\"surface\":[{\"colorbar\":{\"outlinewidth\":0,\"ticks\":\"\"},\"colorscale\":[[0.0,\"#0d0887\"],[0.1111111111111111,\"#46039f\"],[0.2222222222222222,\"#7201a8\"],[0.3333333333333333,\"#9c179e\"],[0.4444444444444444,\"#bd3786\"],[0.5555555555555556,\"#d8576b\"],[0.6666666666666666,\"#ed7953\"],[0.7777777777777778,\"#fb9f3a\"],[0.8888888888888888,\"#fdca26\"],[1.0,\"#f0f921\"]],\"type\":\"surface\"}],\"table\":[{\"cells\":{\"fill\":{\"color\":\"#EBF0F8\"},\"line\":{\"color\":\"white\"}},\"header\":{\"fill\":{\"color\":\"#C8D4E3\"},\"line\":{\"color\":\"white\"}},\"type\":\"table\"}]},\"layout\":{\"annotationdefaults\":{\"arrowcolor\":\"#2a3f5f\",\"arrowhead\":0,\"arrowwidth\":1},\"autotypenumbers\":\"strict\",\"coloraxis\":{\"colorbar\":{\"outlinewidth\":0,\"ticks\":\"\"}},\"colorscale\":{\"diverging\":[[0,\"#8e0152\"],[0.1,\"#c51b7d\"],[0.2,\"#de77ae\"],[0.3,\"#f1b6da\"],[0.4,\"#fde0ef\"],[0.5,\"#f7f7f7\"],[0.6,\"#e6f5d0\"],[0.7,\"#b8e186\"],[0.8,\"#7fbc41\"],[0.9,\"#4d9221\"],[1,\"#276419\"]],\"sequential\":[[0.0,\"#0d0887\"],[0.1111111111111111,\"#46039f\"],[0.2222222222222222,\"#7201a8\"],[0.3333333333333333,\"#9c179e\"],[0.4444444444444444,\"#bd3786\"],[0.5555555555555556,\"#d8576b\"],[0.6666666666666666,\"#ed7953\"],[0.7777777777777778,\"#fb9f3a\"],[0.8888888888888888,\"#fdca26\"],[1.0,\"#f0f921\"]],\"sequentialminus\":[[0.0,\"#0d0887\"],[0.1111111111111111,\"#46039f\"],[0.2222222222222222,\"#7201a8\"],[0.3333333333333333,\"#9c179e\"],[0.4444444444444444,\"#bd3786\"],[0.5555555555555556,\"#d8576b\"],[0.6666666666666666,\"#ed7953\"],[0.7777777777777778,\"#fb9f3a\"],[0.8888888888888888,\"#fdca26\"],[1.0,\"#f0f921\"]]},\"colorway\":[\"#636efa\",\"#EF553B\",\"#00cc96\",\"#ab63fa\",\"#FFA15A\",\"#19d3f3\",\"#FF6692\",\"#B6E880\",\"#FF97FF\",\"#FECB52\"],\"font\":{\"color\":\"#2a3f5f\"},\"geo\":{\"bgcolor\":\"white\",\"lakecolor\":\"white\",\"landcolor\":\"#E5ECF6\",\"showlakes\":true,\"showland\":true,\"subunitcolor\":\"white\"},\"hoverlabel\":{\"align\":\"left\"},\"hovermode\":\"closest\",\"mapbox\":{\"style\":\"light\"},\"paper_bgcolor\":\"white\",\"plot_bgcolor\":\"#E5ECF6\",\"polar\":{\"angularaxis\":{\"gridcolor\":\"white\",\"linecolor\":\"white\",\"ticks\":\"\"},\"bgcolor\":\"#E5ECF6\",\"radialaxis\":{\"gridcolor\":\"white\",\"linecolor\":\"white\",\"ticks\":\"\"}},\"scene\":{\"xaxis\":{\"backgroundcolor\":\"#E5ECF6\",\"gridcolor\":\"white\",\"gridwidth\":2,\"linecolor\":\"white\",\"showbackground\":true,\"ticks\":\"\",\"zerolinecolor\":\"white\"},\"yaxis\":{\"backgroundcolor\":\"#E5ECF6\",\"gridcolor\":\"white\",\"gridwidth\":2,\"linecolor\":\"white\",\"showbackground\":true,\"ticks\":\"\",\"zerolinecolor\":\"white\"},\"zaxis\":{\"backgroundcolor\":\"#E5ECF6\",\"gridcolor\":\"white\",\"gridwidth\":2,\"linecolor\":\"white\",\"showbackground\":true,\"ticks\":\"\",\"zerolinecolor\":\"white\"}},\"shapedefaults\":{\"line\":{\"color\":\"#2a3f5f\"}},\"ternary\":{\"aaxis\":{\"gridcolor\":\"white\",\"linecolor\":\"white\",\"ticks\":\"\"},\"baxis\":{\"gridcolor\":\"white\",\"linecolor\":\"white\",\"ticks\":\"\"},\"bgcolor\":\"#E5ECF6\",\"caxis\":{\"gridcolor\":\"white\",\"linecolor\":\"white\",\"ticks\":\"\"}},\"title\":{\"x\":0.05},\"xaxis\":{\"automargin\":true,\"gridcolor\":\"white\",\"linecolor\":\"white\",\"ticks\":\"\",\"title\":{\"standoff\":15},\"zerolinecolor\":\"white\",\"zerolinewidth\":2},\"yaxis\":{\"automargin\":true,\"gridcolor\":\"white\",\"linecolor\":\"white\",\"ticks\":\"\",\"title\":{\"standoff\":15},\"zerolinecolor\":\"white\",\"zerolinewidth\":2}}},\"xaxis\":{\"anchor\":\"y\",\"domain\":[0.0,1.0],\"title\":{\"text\":\"Surface\"}},\"yaxis\":{\"anchor\":\"x\",\"domain\":[0.0,1.0],\"title\":{\"text\":\"RMSf\"}}},                        {\"responsive\": true}                    ).then(function(){\n",
       "                            \n",
       "var gd = document.getElementById('776cfb93-a96c-41db-b20b-951f96dc59b2');\n",
       "var x = new MutationObserver(function (mutations, observer) {{\n",
       "        var display = window.getComputedStyle(gd).display;\n",
       "        if (!display || display === 'none') {{\n",
       "            console.log([gd, 'removed!']);\n",
       "            Plotly.purge(gd);\n",
       "            observer.disconnect();\n",
       "        }}\n",
       "}});\n",
       "\n",
       "// Listen for the removal of the full notebook cells\n",
       "var notebookContainer = gd.closest('#notebook-container');\n",
       "if (notebookContainer) {{\n",
       "    x.observe(notebookContainer, {childList: true});\n",
       "}}\n",
       "\n",
       "// Listen for the clearing of the current output cell\n",
       "var outputEl = gd.closest('.output');\n",
       "if (outputEl) {{\n",
       "    x.observe(outputEl, {childList: true});\n",
       "}}\n",
       "\n",
       "                        })                };                });            </script>        </div>"
      ]
     },
     "metadata": {},
     "output_type": "display_data"
    }
   ],
   "source": [
    "fig = px.box(alldf, x=\"Surface\", y=\"RMSf\", points = 'all')\n",
    "fig.show()"
   ]
  },
  {
   "cell_type": "code",
   "execution_count": 147,
   "metadata": {},
   "outputs": [
    {
     "data": {
      "application/vnd.plotly.v1+json": {
       "config": {
        "plotlyServerURL": "https://plot.ly"
       },
       "data": [
        {
         "alignmentgroup": "True",
         "boxpoints": "all",
         "hovertemplate": "Surface=%{x}<br>Spec=%{y}<extra></extra>",
         "legendgroup": "",
         "marker": {
          "color": "#636efa"
         },
         "name": "",
         "notched": false,
         "offsetgroup": "",
         "orientation": "v",
         "showlegend": false,
         "type": "box",
         "x": [
          "Wet Asphalt",
          "Wet Asphalt",
          "Wet Asphalt",
          "Wet Asphalt",
          "Wet Asphalt",
          "Wet Asphalt",
          "Wet Asphalt",
          "Wet Asphalt",
          "Wet Asphalt",
          "Wet Asphalt",
          "Wet Asphalt",
          "Wet Asphalt",
          "Wet Asphalt",
          "Wet Asphalt",
          "Wet Asphalt",
          "Wet Asphalt",
          "Wet Asphalt",
          "Wet Asphalt",
          "Wet Asphalt",
          "Wet Asphalt",
          "Wet Asphalt",
          "Wet Asphalt",
          "Wet Asphalt",
          "Wet Asphalt",
          "Wet Asphalt",
          "Wet Asphalt",
          "Wet Asphalt",
          "Wet Asphalt",
          "Wet Asphalt",
          "Wet Asphalt",
          "Wet Asphalt",
          "Wet Asphalt",
          "Wet Asphalt",
          "Wet Asphalt",
          "Wet Asphalt",
          "Wet Asphalt",
          "Wet Asphalt",
          "Wet Asphalt",
          "Wet Asphalt",
          "Wet Asphalt",
          "Wet Asphalt",
          "Wet Asphalt",
          "Wet Asphalt",
          "Wet Asphalt",
          "Wet Asphalt",
          "Wet Asphalt",
          "Wet Asphalt",
          "Wet Asphalt",
          "Wet Asphalt",
          "Wet Asphalt",
          "Wet Asphalt",
          "Wet Asphalt",
          "Wet Asphalt",
          "Wet Asphalt",
          "Wet Asphalt",
          "Wet Asphalt",
          "Wet Asphalt",
          "Wet Asphalt",
          "Wet Asphalt",
          "Wet Asphalt",
          "Wet Asphalt",
          "Wet Asphalt",
          "Wet Asphalt",
          "Wet Asphalt",
          "Wet Asphalt",
          "Wet Asphalt",
          "Wet Asphalt",
          "Wet Asphalt",
          "Wet Asphalt",
          "Wet Asphalt",
          "Wet Asphalt",
          "Wet Asphalt",
          "Wet Asphalt",
          "Wet Asphalt",
          "Wet Asphalt",
          "Wet Asphalt",
          "Wet Asphalt",
          "Wet Asphalt",
          "Wet Asphalt",
          "Wet Asphalt",
          "Wet Asphalt",
          "Wet Asphalt",
          "Wet Asphalt",
          "Wet Asphalt",
          "Wet Asphalt",
          "Wet Asphalt",
          "Wet Asphalt",
          "Wet Asphalt",
          "Wet Asphalt",
          "Wet Asphalt",
          "Wet Asphalt",
          "Wet Asphalt",
          "Wet Asphalt",
          "Wet Asphalt",
          "Wet Asphalt",
          "Wet Asphalt",
          "Wet Asphalt",
          "Wet Asphalt",
          "Wet Asphalt",
          "Wet Asphalt",
          "Wet Asphalt",
          "Wet Asphalt",
          "Wet Asphalt",
          "Wet Asphalt",
          "Wet Asphalt",
          "Wet Asphalt",
          "Wet Asphalt",
          "Wet Asphalt",
          "Wet Asphalt",
          "Gravel",
          "Gravel",
          "Gravel",
          "Gravel",
          "Gravel",
          "Gravel",
          "Gravel",
          "Gravel",
          "Gravel",
          "Gravel",
          "Gravel",
          "Gravel",
          "Gravel",
          "Gravel",
          "Gravel",
          "Gravel",
          "Gravel",
          "Gravel",
          "Gravel",
          "Gravel",
          "Gravel",
          "Gravel",
          "Gravel",
          "Gravel",
          "Gravel",
          "Gravel",
          "Gravel",
          "Gravel",
          "Gravel",
          "Gravel"
         ],
         "x0": " ",
         "xaxis": "x",
         "y": [
          936.1162765399653,
          869.1589820451281,
          978.2654819774413,
          868.5113810080219,
          845.7708176252468,
          721.5411591337694,
          864.7586451354639,
          910.5094292394741,
          992.1898396941965,
          745.7486271406032,
          1020.5213730934578,
          1195.3681650502876,
          1075.3586465872543,
          1111.6946043163748,
          1213.4181831310882,
          1270.7157597399585,
          1152.0953376165232,
          971.6538159038182,
          907.8287098275838,
          880.3985727628603,
          771.2922836408242,
          785.1900683289539,
          900.6544275049756,
          867.8600843360255,
          865.9327326627351,
          792.9043076447006,
          841.8954802682149,
          876.1927925010543,
          805.5716022237268,
          800.5593852118255,
          804.4277887225584,
          885.618105679985,
          1040.4088522073719,
          968.2038337816383,
          803.9315489347739,
          797.5345880346396,
          756.5737123276512,
          781.8528786571472,
          852.2121346364795,
          862.1518003012475,
          798.4181972059584,
          950.4816530239275,
          1031.939983673328,
          1037.1246952928052,
          1150.7329606298188,
          728.9213148859611,
          717.6706905746431,
          920.2395026108366,
          966.9061448022943,
          980.3563544095618,
          947.5094660355718,
          1074.6248167228923,
          932.3515646216625,
          1076.2648940581116,
          938.6214724710808,
          849.9274196584753,
          898.0736675600428,
          1030.9725396197593,
          1037.3683826612814,
          1161.8001291393189,
          810.0431785650914,
          695.7731490213629,
          759.4898798027936,
          803.0465348123117,
          918.7806180245309,
          1049.473944391368,
          1025.6423566828319,
          969.6482378466245,
          879.9778643214853,
          869.8608862482063,
          795.1208235772989,
          822.1288613670946,
          783.3851454645445,
          687.4879421030307,
          694.8346775457392,
          1082.5600324231148,
          917.0215649187418,
          1043.2215985877663,
          994.2479827171335,
          855.5669298216686,
          926.0127972060092,
          1034.1513837128496,
          862.498177759535,
          871.0762307852733,
          784.710748297188,
          876.9438340862736,
          976.3223925466377,
          883.5923993522619,
          1031.9520148942715,
          846.0386239378859,
          1146.7986465837823,
          1217.4928866464913,
          929.6892318346155,
          858.1986361210113,
          1207.3180690145468,
          1117.8275193455768,
          1025.4917390762319,
          1112.8417583633327,
          1222.2536715335557,
          1185.830086109346,
          1127.0630929791241,
          1129.2818447952843,
          1065.2326379547098,
          1101.7954399533123,
          1166.5508262788271,
          1381.3718678910288,
          1444.52332752792,
          1025.9256760236228,
          975.3336212859057,
          1929.3535419894447,
          1776.5627131441033,
          1328.0071675425027,
          1467.927173998685,
          1304.3568982359675,
          1432.873918560046,
          1292.104351055983,
          2226.6217363995984,
          1262.0687187543897,
          1406.2976112482954,
          1402.7437669040703,
          1101.8288448783323,
          1202.0531348001714,
          1372.506234645359,
          1130.605343681894,
          1536.1722089622967,
          1322.2414827646664,
          1145.4588219376953,
          1074.8582710140781,
          1168.6831126235052,
          1169.3151480281147,
          1158.3541132618464,
          1328.81529768993,
          1486.9562035770196,
          1985.4264610580299,
          1612.4625005712608,
          1337.9774333354296,
          1637.9216964095642,
          1549.3626822569136,
          1354.1296093512333
         ],
         "y0": " ",
         "yaxis": "y"
        }
       ],
       "layout": {
        "boxmode": "group",
        "legend": {
         "tracegroupgap": 0
        },
        "margin": {
         "t": 60
        },
        "template": {
         "data": {
          "bar": [
           {
            "error_x": {
             "color": "#2a3f5f"
            },
            "error_y": {
             "color": "#2a3f5f"
            },
            "marker": {
             "line": {
              "color": "#E5ECF6",
              "width": 0.5
             },
             "pattern": {
              "fillmode": "overlay",
              "size": 10,
              "solidity": 0.2
             }
            },
            "type": "bar"
           }
          ],
          "barpolar": [
           {
            "marker": {
             "line": {
              "color": "#E5ECF6",
              "width": 0.5
             },
             "pattern": {
              "fillmode": "overlay",
              "size": 10,
              "solidity": 0.2
             }
            },
            "type": "barpolar"
           }
          ],
          "carpet": [
           {
            "aaxis": {
             "endlinecolor": "#2a3f5f",
             "gridcolor": "white",
             "linecolor": "white",
             "minorgridcolor": "white",
             "startlinecolor": "#2a3f5f"
            },
            "baxis": {
             "endlinecolor": "#2a3f5f",
             "gridcolor": "white",
             "linecolor": "white",
             "minorgridcolor": "white",
             "startlinecolor": "#2a3f5f"
            },
            "type": "carpet"
           }
          ],
          "choropleth": [
           {
            "colorbar": {
             "outlinewidth": 0,
             "ticks": ""
            },
            "type": "choropleth"
           }
          ],
          "contour": [
           {
            "colorbar": {
             "outlinewidth": 0,
             "ticks": ""
            },
            "colorscale": [
             [
              0,
              "#0d0887"
             ],
             [
              0.1111111111111111,
              "#46039f"
             ],
             [
              0.2222222222222222,
              "#7201a8"
             ],
             [
              0.3333333333333333,
              "#9c179e"
             ],
             [
              0.4444444444444444,
              "#bd3786"
             ],
             [
              0.5555555555555556,
              "#d8576b"
             ],
             [
              0.6666666666666666,
              "#ed7953"
             ],
             [
              0.7777777777777778,
              "#fb9f3a"
             ],
             [
              0.8888888888888888,
              "#fdca26"
             ],
             [
              1,
              "#f0f921"
             ]
            ],
            "type": "contour"
           }
          ],
          "contourcarpet": [
           {
            "colorbar": {
             "outlinewidth": 0,
             "ticks": ""
            },
            "type": "contourcarpet"
           }
          ],
          "heatmap": [
           {
            "colorbar": {
             "outlinewidth": 0,
             "ticks": ""
            },
            "colorscale": [
             [
              0,
              "#0d0887"
             ],
             [
              0.1111111111111111,
              "#46039f"
             ],
             [
              0.2222222222222222,
              "#7201a8"
             ],
             [
              0.3333333333333333,
              "#9c179e"
             ],
             [
              0.4444444444444444,
              "#bd3786"
             ],
             [
              0.5555555555555556,
              "#d8576b"
             ],
             [
              0.6666666666666666,
              "#ed7953"
             ],
             [
              0.7777777777777778,
              "#fb9f3a"
             ],
             [
              0.8888888888888888,
              "#fdca26"
             ],
             [
              1,
              "#f0f921"
             ]
            ],
            "type": "heatmap"
           }
          ],
          "heatmapgl": [
           {
            "colorbar": {
             "outlinewidth": 0,
             "ticks": ""
            },
            "colorscale": [
             [
              0,
              "#0d0887"
             ],
             [
              0.1111111111111111,
              "#46039f"
             ],
             [
              0.2222222222222222,
              "#7201a8"
             ],
             [
              0.3333333333333333,
              "#9c179e"
             ],
             [
              0.4444444444444444,
              "#bd3786"
             ],
             [
              0.5555555555555556,
              "#d8576b"
             ],
             [
              0.6666666666666666,
              "#ed7953"
             ],
             [
              0.7777777777777778,
              "#fb9f3a"
             ],
             [
              0.8888888888888888,
              "#fdca26"
             ],
             [
              1,
              "#f0f921"
             ]
            ],
            "type": "heatmapgl"
           }
          ],
          "histogram": [
           {
            "marker": {
             "pattern": {
              "fillmode": "overlay",
              "size": 10,
              "solidity": 0.2
             }
            },
            "type": "histogram"
           }
          ],
          "histogram2d": [
           {
            "colorbar": {
             "outlinewidth": 0,
             "ticks": ""
            },
            "colorscale": [
             [
              0,
              "#0d0887"
             ],
             [
              0.1111111111111111,
              "#46039f"
             ],
             [
              0.2222222222222222,
              "#7201a8"
             ],
             [
              0.3333333333333333,
              "#9c179e"
             ],
             [
              0.4444444444444444,
              "#bd3786"
             ],
             [
              0.5555555555555556,
              "#d8576b"
             ],
             [
              0.6666666666666666,
              "#ed7953"
             ],
             [
              0.7777777777777778,
              "#fb9f3a"
             ],
             [
              0.8888888888888888,
              "#fdca26"
             ],
             [
              1,
              "#f0f921"
             ]
            ],
            "type": "histogram2d"
           }
          ],
          "histogram2dcontour": [
           {
            "colorbar": {
             "outlinewidth": 0,
             "ticks": ""
            },
            "colorscale": [
             [
              0,
              "#0d0887"
             ],
             [
              0.1111111111111111,
              "#46039f"
             ],
             [
              0.2222222222222222,
              "#7201a8"
             ],
             [
              0.3333333333333333,
              "#9c179e"
             ],
             [
              0.4444444444444444,
              "#bd3786"
             ],
             [
              0.5555555555555556,
              "#d8576b"
             ],
             [
              0.6666666666666666,
              "#ed7953"
             ],
             [
              0.7777777777777778,
              "#fb9f3a"
             ],
             [
              0.8888888888888888,
              "#fdca26"
             ],
             [
              1,
              "#f0f921"
             ]
            ],
            "type": "histogram2dcontour"
           }
          ],
          "mesh3d": [
           {
            "colorbar": {
             "outlinewidth": 0,
             "ticks": ""
            },
            "type": "mesh3d"
           }
          ],
          "parcoords": [
           {
            "line": {
             "colorbar": {
              "outlinewidth": 0,
              "ticks": ""
             }
            },
            "type": "parcoords"
           }
          ],
          "pie": [
           {
            "automargin": true,
            "type": "pie"
           }
          ],
          "scatter": [
           {
            "marker": {
             "colorbar": {
              "outlinewidth": 0,
              "ticks": ""
             }
            },
            "type": "scatter"
           }
          ],
          "scatter3d": [
           {
            "line": {
             "colorbar": {
              "outlinewidth": 0,
              "ticks": ""
             }
            },
            "marker": {
             "colorbar": {
              "outlinewidth": 0,
              "ticks": ""
             }
            },
            "type": "scatter3d"
           }
          ],
          "scattercarpet": [
           {
            "marker": {
             "colorbar": {
              "outlinewidth": 0,
              "ticks": ""
             }
            },
            "type": "scattercarpet"
           }
          ],
          "scattergeo": [
           {
            "marker": {
             "colorbar": {
              "outlinewidth": 0,
              "ticks": ""
             }
            },
            "type": "scattergeo"
           }
          ],
          "scattergl": [
           {
            "marker": {
             "colorbar": {
              "outlinewidth": 0,
              "ticks": ""
             }
            },
            "type": "scattergl"
           }
          ],
          "scattermapbox": [
           {
            "marker": {
             "colorbar": {
              "outlinewidth": 0,
              "ticks": ""
             }
            },
            "type": "scattermapbox"
           }
          ],
          "scatterpolar": [
           {
            "marker": {
             "colorbar": {
              "outlinewidth": 0,
              "ticks": ""
             }
            },
            "type": "scatterpolar"
           }
          ],
          "scatterpolargl": [
           {
            "marker": {
             "colorbar": {
              "outlinewidth": 0,
              "ticks": ""
             }
            },
            "type": "scatterpolargl"
           }
          ],
          "scatterternary": [
           {
            "marker": {
             "colorbar": {
              "outlinewidth": 0,
              "ticks": ""
             }
            },
            "type": "scatterternary"
           }
          ],
          "surface": [
           {
            "colorbar": {
             "outlinewidth": 0,
             "ticks": ""
            },
            "colorscale": [
             [
              0,
              "#0d0887"
             ],
             [
              0.1111111111111111,
              "#46039f"
             ],
             [
              0.2222222222222222,
              "#7201a8"
             ],
             [
              0.3333333333333333,
              "#9c179e"
             ],
             [
              0.4444444444444444,
              "#bd3786"
             ],
             [
              0.5555555555555556,
              "#d8576b"
             ],
             [
              0.6666666666666666,
              "#ed7953"
             ],
             [
              0.7777777777777778,
              "#fb9f3a"
             ],
             [
              0.8888888888888888,
              "#fdca26"
             ],
             [
              1,
              "#f0f921"
             ]
            ],
            "type": "surface"
           }
          ],
          "table": [
           {
            "cells": {
             "fill": {
              "color": "#EBF0F8"
             },
             "line": {
              "color": "white"
             }
            },
            "header": {
             "fill": {
              "color": "#C8D4E3"
             },
             "line": {
              "color": "white"
             }
            },
            "type": "table"
           }
          ]
         },
         "layout": {
          "annotationdefaults": {
           "arrowcolor": "#2a3f5f",
           "arrowhead": 0,
           "arrowwidth": 1
          },
          "autotypenumbers": "strict",
          "coloraxis": {
           "colorbar": {
            "outlinewidth": 0,
            "ticks": ""
           }
          },
          "colorscale": {
           "diverging": [
            [
             0,
             "#8e0152"
            ],
            [
             0.1,
             "#c51b7d"
            ],
            [
             0.2,
             "#de77ae"
            ],
            [
             0.3,
             "#f1b6da"
            ],
            [
             0.4,
             "#fde0ef"
            ],
            [
             0.5,
             "#f7f7f7"
            ],
            [
             0.6,
             "#e6f5d0"
            ],
            [
             0.7,
             "#b8e186"
            ],
            [
             0.8,
             "#7fbc41"
            ],
            [
             0.9,
             "#4d9221"
            ],
            [
             1,
             "#276419"
            ]
           ],
           "sequential": [
            [
             0,
             "#0d0887"
            ],
            [
             0.1111111111111111,
             "#46039f"
            ],
            [
             0.2222222222222222,
             "#7201a8"
            ],
            [
             0.3333333333333333,
             "#9c179e"
            ],
            [
             0.4444444444444444,
             "#bd3786"
            ],
            [
             0.5555555555555556,
             "#d8576b"
            ],
            [
             0.6666666666666666,
             "#ed7953"
            ],
            [
             0.7777777777777778,
             "#fb9f3a"
            ],
            [
             0.8888888888888888,
             "#fdca26"
            ],
            [
             1,
             "#f0f921"
            ]
           ],
           "sequentialminus": [
            [
             0,
             "#0d0887"
            ],
            [
             0.1111111111111111,
             "#46039f"
            ],
            [
             0.2222222222222222,
             "#7201a8"
            ],
            [
             0.3333333333333333,
             "#9c179e"
            ],
            [
             0.4444444444444444,
             "#bd3786"
            ],
            [
             0.5555555555555556,
             "#d8576b"
            ],
            [
             0.6666666666666666,
             "#ed7953"
            ],
            [
             0.7777777777777778,
             "#fb9f3a"
            ],
            [
             0.8888888888888888,
             "#fdca26"
            ],
            [
             1,
             "#f0f921"
            ]
           ]
          },
          "colorway": [
           "#636efa",
           "#EF553B",
           "#00cc96",
           "#ab63fa",
           "#FFA15A",
           "#19d3f3",
           "#FF6692",
           "#B6E880",
           "#FF97FF",
           "#FECB52"
          ],
          "font": {
           "color": "#2a3f5f"
          },
          "geo": {
           "bgcolor": "white",
           "lakecolor": "white",
           "landcolor": "#E5ECF6",
           "showlakes": true,
           "showland": true,
           "subunitcolor": "white"
          },
          "hoverlabel": {
           "align": "left"
          },
          "hovermode": "closest",
          "mapbox": {
           "style": "light"
          },
          "paper_bgcolor": "white",
          "plot_bgcolor": "#E5ECF6",
          "polar": {
           "angularaxis": {
            "gridcolor": "white",
            "linecolor": "white",
            "ticks": ""
           },
           "bgcolor": "#E5ECF6",
           "radialaxis": {
            "gridcolor": "white",
            "linecolor": "white",
            "ticks": ""
           }
          },
          "scene": {
           "xaxis": {
            "backgroundcolor": "#E5ECF6",
            "gridcolor": "white",
            "gridwidth": 2,
            "linecolor": "white",
            "showbackground": true,
            "ticks": "",
            "zerolinecolor": "white"
           },
           "yaxis": {
            "backgroundcolor": "#E5ECF6",
            "gridcolor": "white",
            "gridwidth": 2,
            "linecolor": "white",
            "showbackground": true,
            "ticks": "",
            "zerolinecolor": "white"
           },
           "zaxis": {
            "backgroundcolor": "#E5ECF6",
            "gridcolor": "white",
            "gridwidth": 2,
            "linecolor": "white",
            "showbackground": true,
            "ticks": "",
            "zerolinecolor": "white"
           }
          },
          "shapedefaults": {
           "line": {
            "color": "#2a3f5f"
           }
          },
          "ternary": {
           "aaxis": {
            "gridcolor": "white",
            "linecolor": "white",
            "ticks": ""
           },
           "baxis": {
            "gridcolor": "white",
            "linecolor": "white",
            "ticks": ""
           },
           "bgcolor": "#E5ECF6",
           "caxis": {
            "gridcolor": "white",
            "linecolor": "white",
            "ticks": ""
           }
          },
          "title": {
           "x": 0.05
          },
          "xaxis": {
           "automargin": true,
           "gridcolor": "white",
           "linecolor": "white",
           "ticks": "",
           "title": {
            "standoff": 15
           },
           "zerolinecolor": "white",
           "zerolinewidth": 2
          },
          "yaxis": {
           "automargin": true,
           "gridcolor": "white",
           "linecolor": "white",
           "ticks": "",
           "title": {
            "standoff": 15
           },
           "zerolinecolor": "white",
           "zerolinewidth": 2
          }
         }
        },
        "xaxis": {
         "anchor": "y",
         "domain": [
          0,
          1
         ],
         "title": {
          "text": "Surface"
         }
        },
        "yaxis": {
         "anchor": "x",
         "domain": [
          0,
          1
         ],
         "title": {
          "text": "Spec"
         }
        }
       }
      },
      "text/html": [
       "<div>                            <div id=\"c8042eb8-31a7-44a3-8a2c-9f29d07d701c\" class=\"plotly-graph-div\" style=\"height:525px; width:100%;\"></div>            <script type=\"text/javascript\">                require([\"plotly\"], function(Plotly) {                    window.PLOTLYENV=window.PLOTLYENV || {};                                    if (document.getElementById(\"c8042eb8-31a7-44a3-8a2c-9f29d07d701c\")) {                    Plotly.newPlot(                        \"c8042eb8-31a7-44a3-8a2c-9f29d07d701c\",                        [{\"alignmentgroup\":\"True\",\"boxpoints\":\"all\",\"hovertemplate\":\"Surface=%{x}<br>Spec=%{y}<extra></extra>\",\"legendgroup\":\"\",\"marker\":{\"color\":\"#636efa\"},\"name\":\"\",\"notched\":false,\"offsetgroup\":\"\",\"orientation\":\"v\",\"showlegend\":false,\"type\":\"box\",\"x\":[\"Wet Asphalt\",\"Wet Asphalt\",\"Wet Asphalt\",\"Wet Asphalt\",\"Wet Asphalt\",\"Wet Asphalt\",\"Wet Asphalt\",\"Wet Asphalt\",\"Wet Asphalt\",\"Wet Asphalt\",\"Wet Asphalt\",\"Wet Asphalt\",\"Wet Asphalt\",\"Wet Asphalt\",\"Wet Asphalt\",\"Wet Asphalt\",\"Wet Asphalt\",\"Wet Asphalt\",\"Wet Asphalt\",\"Wet Asphalt\",\"Wet Asphalt\",\"Wet Asphalt\",\"Wet Asphalt\",\"Wet Asphalt\",\"Wet Asphalt\",\"Wet Asphalt\",\"Wet Asphalt\",\"Wet Asphalt\",\"Wet Asphalt\",\"Wet Asphalt\",\"Wet Asphalt\",\"Wet Asphalt\",\"Wet Asphalt\",\"Wet Asphalt\",\"Wet Asphalt\",\"Wet Asphalt\",\"Wet Asphalt\",\"Wet Asphalt\",\"Wet Asphalt\",\"Wet Asphalt\",\"Wet Asphalt\",\"Wet Asphalt\",\"Wet Asphalt\",\"Wet Asphalt\",\"Wet Asphalt\",\"Wet Asphalt\",\"Wet Asphalt\",\"Wet Asphalt\",\"Wet Asphalt\",\"Wet Asphalt\",\"Wet Asphalt\",\"Wet Asphalt\",\"Wet Asphalt\",\"Wet Asphalt\",\"Wet Asphalt\",\"Wet Asphalt\",\"Wet Asphalt\",\"Wet Asphalt\",\"Wet Asphalt\",\"Wet Asphalt\",\"Wet Asphalt\",\"Wet Asphalt\",\"Wet Asphalt\",\"Wet Asphalt\",\"Wet Asphalt\",\"Wet Asphalt\",\"Wet Asphalt\",\"Wet Asphalt\",\"Wet Asphalt\",\"Wet Asphalt\",\"Wet Asphalt\",\"Wet Asphalt\",\"Wet Asphalt\",\"Wet Asphalt\",\"Wet Asphalt\",\"Wet Asphalt\",\"Wet Asphalt\",\"Wet Asphalt\",\"Wet Asphalt\",\"Wet Asphalt\",\"Wet Asphalt\",\"Wet Asphalt\",\"Wet Asphalt\",\"Wet Asphalt\",\"Wet Asphalt\",\"Wet Asphalt\",\"Wet Asphalt\",\"Wet Asphalt\",\"Wet Asphalt\",\"Wet Asphalt\",\"Wet Asphalt\",\"Wet Asphalt\",\"Wet Asphalt\",\"Wet Asphalt\",\"Wet Asphalt\",\"Wet Asphalt\",\"Wet Asphalt\",\"Wet Asphalt\",\"Wet Asphalt\",\"Wet Asphalt\",\"Wet Asphalt\",\"Wet Asphalt\",\"Wet Asphalt\",\"Wet Asphalt\",\"Wet Asphalt\",\"Wet Asphalt\",\"Wet Asphalt\",\"Wet Asphalt\",\"Wet Asphalt\",\"Gravel\",\"Gravel\",\"Gravel\",\"Gravel\",\"Gravel\",\"Gravel\",\"Gravel\",\"Gravel\",\"Gravel\",\"Gravel\",\"Gravel\",\"Gravel\",\"Gravel\",\"Gravel\",\"Gravel\",\"Gravel\",\"Gravel\",\"Gravel\",\"Gravel\",\"Gravel\",\"Gravel\",\"Gravel\",\"Gravel\",\"Gravel\",\"Gravel\",\"Gravel\",\"Gravel\",\"Gravel\",\"Gravel\",\"Gravel\"],\"x0\":\" \",\"xaxis\":\"x\",\"y\":[936.1162765399653,869.1589820451281,978.2654819774413,868.5113810080219,845.7708176252468,721.5411591337694,864.7586451354639,910.5094292394741,992.1898396941965,745.7486271406032,1020.5213730934578,1195.3681650502876,1075.3586465872543,1111.6946043163748,1213.4181831310882,1270.7157597399585,1152.0953376165232,971.6538159038182,907.8287098275838,880.3985727628603,771.2922836408242,785.1900683289539,900.6544275049756,867.8600843360255,865.9327326627351,792.9043076447006,841.8954802682149,876.1927925010543,805.5716022237268,800.5593852118255,804.4277887225584,885.618105679985,1040.4088522073719,968.2038337816383,803.9315489347739,797.5345880346396,756.5737123276512,781.8528786571472,852.2121346364795,862.1518003012475,798.4181972059584,950.4816530239275,1031.939983673328,1037.1246952928052,1150.7329606298188,728.9213148859611,717.6706905746431,920.2395026108366,966.9061448022943,980.3563544095618,947.5094660355718,1074.6248167228923,932.3515646216625,1076.2648940581116,938.6214724710808,849.9274196584753,898.0736675600428,1030.9725396197593,1037.3683826612814,1161.8001291393189,810.0431785650914,695.7731490213629,759.4898798027936,803.0465348123117,918.7806180245309,1049.473944391368,1025.6423566828319,969.6482378466245,879.9778643214853,869.8608862482063,795.1208235772989,822.1288613670946,783.3851454645445,687.4879421030307,694.8346775457392,1082.5600324231148,917.0215649187418,1043.2215985877663,994.2479827171335,855.5669298216686,926.0127972060092,1034.1513837128496,862.498177759535,871.0762307852733,784.710748297188,876.9438340862736,976.3223925466377,883.5923993522619,1031.9520148942715,846.0386239378859,1146.7986465837823,1217.4928866464913,929.6892318346155,858.1986361210113,1207.3180690145468,1117.8275193455768,1025.4917390762319,1112.8417583633327,1222.2536715335557,1185.830086109346,1127.0630929791241,1129.2818447952843,1065.2326379547098,1101.7954399533123,1166.5508262788271,1381.3718678910288,1444.52332752792,1025.9256760236228,975.3336212859057,1929.3535419894447,1776.5627131441033,1328.0071675425027,1467.927173998685,1304.3568982359675,1432.873918560046,1292.104351055983,2226.6217363995984,1262.0687187543897,1406.2976112482954,1402.7437669040703,1101.8288448783323,1202.0531348001714,1372.506234645359,1130.605343681894,1536.1722089622967,1322.2414827646664,1145.4588219376953,1074.8582710140781,1168.6831126235052,1169.3151480281147,1158.3541132618464,1328.81529768993,1486.9562035770196,1985.4264610580299,1612.4625005712608,1337.9774333354296,1637.9216964095642,1549.3626822569136,1354.1296093512333],\"y0\":\" \",\"yaxis\":\"y\"}],                        {\"boxmode\":\"group\",\"legend\":{\"tracegroupgap\":0},\"margin\":{\"t\":60},\"template\":{\"data\":{\"bar\":[{\"error_x\":{\"color\":\"#2a3f5f\"},\"error_y\":{\"color\":\"#2a3f5f\"},\"marker\":{\"line\":{\"color\":\"#E5ECF6\",\"width\":0.5},\"pattern\":{\"fillmode\":\"overlay\",\"size\":10,\"solidity\":0.2}},\"type\":\"bar\"}],\"barpolar\":[{\"marker\":{\"line\":{\"color\":\"#E5ECF6\",\"width\":0.5},\"pattern\":{\"fillmode\":\"overlay\",\"size\":10,\"solidity\":0.2}},\"type\":\"barpolar\"}],\"carpet\":[{\"aaxis\":{\"endlinecolor\":\"#2a3f5f\",\"gridcolor\":\"white\",\"linecolor\":\"white\",\"minorgridcolor\":\"white\",\"startlinecolor\":\"#2a3f5f\"},\"baxis\":{\"endlinecolor\":\"#2a3f5f\",\"gridcolor\":\"white\",\"linecolor\":\"white\",\"minorgridcolor\":\"white\",\"startlinecolor\":\"#2a3f5f\"},\"type\":\"carpet\"}],\"choropleth\":[{\"colorbar\":{\"outlinewidth\":0,\"ticks\":\"\"},\"type\":\"choropleth\"}],\"contour\":[{\"colorbar\":{\"outlinewidth\":0,\"ticks\":\"\"},\"colorscale\":[[0.0,\"#0d0887\"],[0.1111111111111111,\"#46039f\"],[0.2222222222222222,\"#7201a8\"],[0.3333333333333333,\"#9c179e\"],[0.4444444444444444,\"#bd3786\"],[0.5555555555555556,\"#d8576b\"],[0.6666666666666666,\"#ed7953\"],[0.7777777777777778,\"#fb9f3a\"],[0.8888888888888888,\"#fdca26\"],[1.0,\"#f0f921\"]],\"type\":\"contour\"}],\"contourcarpet\":[{\"colorbar\":{\"outlinewidth\":0,\"ticks\":\"\"},\"type\":\"contourcarpet\"}],\"heatmap\":[{\"colorbar\":{\"outlinewidth\":0,\"ticks\":\"\"},\"colorscale\":[[0.0,\"#0d0887\"],[0.1111111111111111,\"#46039f\"],[0.2222222222222222,\"#7201a8\"],[0.3333333333333333,\"#9c179e\"],[0.4444444444444444,\"#bd3786\"],[0.5555555555555556,\"#d8576b\"],[0.6666666666666666,\"#ed7953\"],[0.7777777777777778,\"#fb9f3a\"],[0.8888888888888888,\"#fdca26\"],[1.0,\"#f0f921\"]],\"type\":\"heatmap\"}],\"heatmapgl\":[{\"colorbar\":{\"outlinewidth\":0,\"ticks\":\"\"},\"colorscale\":[[0.0,\"#0d0887\"],[0.1111111111111111,\"#46039f\"],[0.2222222222222222,\"#7201a8\"],[0.3333333333333333,\"#9c179e\"],[0.4444444444444444,\"#bd3786\"],[0.5555555555555556,\"#d8576b\"],[0.6666666666666666,\"#ed7953\"],[0.7777777777777778,\"#fb9f3a\"],[0.8888888888888888,\"#fdca26\"],[1.0,\"#f0f921\"]],\"type\":\"heatmapgl\"}],\"histogram\":[{\"marker\":{\"pattern\":{\"fillmode\":\"overlay\",\"size\":10,\"solidity\":0.2}},\"type\":\"histogram\"}],\"histogram2d\":[{\"colorbar\":{\"outlinewidth\":0,\"ticks\":\"\"},\"colorscale\":[[0.0,\"#0d0887\"],[0.1111111111111111,\"#46039f\"],[0.2222222222222222,\"#7201a8\"],[0.3333333333333333,\"#9c179e\"],[0.4444444444444444,\"#bd3786\"],[0.5555555555555556,\"#d8576b\"],[0.6666666666666666,\"#ed7953\"],[0.7777777777777778,\"#fb9f3a\"],[0.8888888888888888,\"#fdca26\"],[1.0,\"#f0f921\"]],\"type\":\"histogram2d\"}],\"histogram2dcontour\":[{\"colorbar\":{\"outlinewidth\":0,\"ticks\":\"\"},\"colorscale\":[[0.0,\"#0d0887\"],[0.1111111111111111,\"#46039f\"],[0.2222222222222222,\"#7201a8\"],[0.3333333333333333,\"#9c179e\"],[0.4444444444444444,\"#bd3786\"],[0.5555555555555556,\"#d8576b\"],[0.6666666666666666,\"#ed7953\"],[0.7777777777777778,\"#fb9f3a\"],[0.8888888888888888,\"#fdca26\"],[1.0,\"#f0f921\"]],\"type\":\"histogram2dcontour\"}],\"mesh3d\":[{\"colorbar\":{\"outlinewidth\":0,\"ticks\":\"\"},\"type\":\"mesh3d\"}],\"parcoords\":[{\"line\":{\"colorbar\":{\"outlinewidth\":0,\"ticks\":\"\"}},\"type\":\"parcoords\"}],\"pie\":[{\"automargin\":true,\"type\":\"pie\"}],\"scatter\":[{\"marker\":{\"colorbar\":{\"outlinewidth\":0,\"ticks\":\"\"}},\"type\":\"scatter\"}],\"scatter3d\":[{\"line\":{\"colorbar\":{\"outlinewidth\":0,\"ticks\":\"\"}},\"marker\":{\"colorbar\":{\"outlinewidth\":0,\"ticks\":\"\"}},\"type\":\"scatter3d\"}],\"scattercarpet\":[{\"marker\":{\"colorbar\":{\"outlinewidth\":0,\"ticks\":\"\"}},\"type\":\"scattercarpet\"}],\"scattergeo\":[{\"marker\":{\"colorbar\":{\"outlinewidth\":0,\"ticks\":\"\"}},\"type\":\"scattergeo\"}],\"scattergl\":[{\"marker\":{\"colorbar\":{\"outlinewidth\":0,\"ticks\":\"\"}},\"type\":\"scattergl\"}],\"scattermapbox\":[{\"marker\":{\"colorbar\":{\"outlinewidth\":0,\"ticks\":\"\"}},\"type\":\"scattermapbox\"}],\"scatterpolar\":[{\"marker\":{\"colorbar\":{\"outlinewidth\":0,\"ticks\":\"\"}},\"type\":\"scatterpolar\"}],\"scatterpolargl\":[{\"marker\":{\"colorbar\":{\"outlinewidth\":0,\"ticks\":\"\"}},\"type\":\"scatterpolargl\"}],\"scatterternary\":[{\"marker\":{\"colorbar\":{\"outlinewidth\":0,\"ticks\":\"\"}},\"type\":\"scatterternary\"}],\"surface\":[{\"colorbar\":{\"outlinewidth\":0,\"ticks\":\"\"},\"colorscale\":[[0.0,\"#0d0887\"],[0.1111111111111111,\"#46039f\"],[0.2222222222222222,\"#7201a8\"],[0.3333333333333333,\"#9c179e\"],[0.4444444444444444,\"#bd3786\"],[0.5555555555555556,\"#d8576b\"],[0.6666666666666666,\"#ed7953\"],[0.7777777777777778,\"#fb9f3a\"],[0.8888888888888888,\"#fdca26\"],[1.0,\"#f0f921\"]],\"type\":\"surface\"}],\"table\":[{\"cells\":{\"fill\":{\"color\":\"#EBF0F8\"},\"line\":{\"color\":\"white\"}},\"header\":{\"fill\":{\"color\":\"#C8D4E3\"},\"line\":{\"color\":\"white\"}},\"type\":\"table\"}]},\"layout\":{\"annotationdefaults\":{\"arrowcolor\":\"#2a3f5f\",\"arrowhead\":0,\"arrowwidth\":1},\"autotypenumbers\":\"strict\",\"coloraxis\":{\"colorbar\":{\"outlinewidth\":0,\"ticks\":\"\"}},\"colorscale\":{\"diverging\":[[0,\"#8e0152\"],[0.1,\"#c51b7d\"],[0.2,\"#de77ae\"],[0.3,\"#f1b6da\"],[0.4,\"#fde0ef\"],[0.5,\"#f7f7f7\"],[0.6,\"#e6f5d0\"],[0.7,\"#b8e186\"],[0.8,\"#7fbc41\"],[0.9,\"#4d9221\"],[1,\"#276419\"]],\"sequential\":[[0.0,\"#0d0887\"],[0.1111111111111111,\"#46039f\"],[0.2222222222222222,\"#7201a8\"],[0.3333333333333333,\"#9c179e\"],[0.4444444444444444,\"#bd3786\"],[0.5555555555555556,\"#d8576b\"],[0.6666666666666666,\"#ed7953\"],[0.7777777777777778,\"#fb9f3a\"],[0.8888888888888888,\"#fdca26\"],[1.0,\"#f0f921\"]],\"sequentialminus\":[[0.0,\"#0d0887\"],[0.1111111111111111,\"#46039f\"],[0.2222222222222222,\"#7201a8\"],[0.3333333333333333,\"#9c179e\"],[0.4444444444444444,\"#bd3786\"],[0.5555555555555556,\"#d8576b\"],[0.6666666666666666,\"#ed7953\"],[0.7777777777777778,\"#fb9f3a\"],[0.8888888888888888,\"#fdca26\"],[1.0,\"#f0f921\"]]},\"colorway\":[\"#636efa\",\"#EF553B\",\"#00cc96\",\"#ab63fa\",\"#FFA15A\",\"#19d3f3\",\"#FF6692\",\"#B6E880\",\"#FF97FF\",\"#FECB52\"],\"font\":{\"color\":\"#2a3f5f\"},\"geo\":{\"bgcolor\":\"white\",\"lakecolor\":\"white\",\"landcolor\":\"#E5ECF6\",\"showlakes\":true,\"showland\":true,\"subunitcolor\":\"white\"},\"hoverlabel\":{\"align\":\"left\"},\"hovermode\":\"closest\",\"mapbox\":{\"style\":\"light\"},\"paper_bgcolor\":\"white\",\"plot_bgcolor\":\"#E5ECF6\",\"polar\":{\"angularaxis\":{\"gridcolor\":\"white\",\"linecolor\":\"white\",\"ticks\":\"\"},\"bgcolor\":\"#E5ECF6\",\"radialaxis\":{\"gridcolor\":\"white\",\"linecolor\":\"white\",\"ticks\":\"\"}},\"scene\":{\"xaxis\":{\"backgroundcolor\":\"#E5ECF6\",\"gridcolor\":\"white\",\"gridwidth\":2,\"linecolor\":\"white\",\"showbackground\":true,\"ticks\":\"\",\"zerolinecolor\":\"white\"},\"yaxis\":{\"backgroundcolor\":\"#E5ECF6\",\"gridcolor\":\"white\",\"gridwidth\":2,\"linecolor\":\"white\",\"showbackground\":true,\"ticks\":\"\",\"zerolinecolor\":\"white\"},\"zaxis\":{\"backgroundcolor\":\"#E5ECF6\",\"gridcolor\":\"white\",\"gridwidth\":2,\"linecolor\":\"white\",\"showbackground\":true,\"ticks\":\"\",\"zerolinecolor\":\"white\"}},\"shapedefaults\":{\"line\":{\"color\":\"#2a3f5f\"}},\"ternary\":{\"aaxis\":{\"gridcolor\":\"white\",\"linecolor\":\"white\",\"ticks\":\"\"},\"baxis\":{\"gridcolor\":\"white\",\"linecolor\":\"white\",\"ticks\":\"\"},\"bgcolor\":\"#E5ECF6\",\"caxis\":{\"gridcolor\":\"white\",\"linecolor\":\"white\",\"ticks\":\"\"}},\"title\":{\"x\":0.05},\"xaxis\":{\"automargin\":true,\"gridcolor\":\"white\",\"linecolor\":\"white\",\"ticks\":\"\",\"title\":{\"standoff\":15},\"zerolinecolor\":\"white\",\"zerolinewidth\":2},\"yaxis\":{\"automargin\":true,\"gridcolor\":\"white\",\"linecolor\":\"white\",\"ticks\":\"\",\"title\":{\"standoff\":15},\"zerolinecolor\":\"white\",\"zerolinewidth\":2}}},\"xaxis\":{\"anchor\":\"y\",\"domain\":[0.0,1.0],\"title\":{\"text\":\"Surface\"}},\"yaxis\":{\"anchor\":\"x\",\"domain\":[0.0,1.0],\"title\":{\"text\":\"Spec\"}}},                        {\"responsive\": true}                    ).then(function(){\n",
       "                            \n",
       "var gd = document.getElementById('c8042eb8-31a7-44a3-8a2c-9f29d07d701c');\n",
       "var x = new MutationObserver(function (mutations, observer) {{\n",
       "        var display = window.getComputedStyle(gd).display;\n",
       "        if (!display || display === 'none') {{\n",
       "            console.log([gd, 'removed!']);\n",
       "            Plotly.purge(gd);\n",
       "            observer.disconnect();\n",
       "        }}\n",
       "}});\n",
       "\n",
       "// Listen for the removal of the full notebook cells\n",
       "var notebookContainer = gd.closest('#notebook-container');\n",
       "if (notebookContainer) {{\n",
       "    x.observe(notebookContainer, {childList: true});\n",
       "}}\n",
       "\n",
       "// Listen for the clearing of the current output cell\n",
       "var outputEl = gd.closest('.output');\n",
       "if (outputEl) {{\n",
       "    x.observe(outputEl, {childList: true});\n",
       "}}\n",
       "\n",
       "                        })                };                });            </script>        </div>"
      ]
     },
     "metadata": {},
     "output_type": "display_data"
    }
   ],
   "source": [
    "fig = px.box(alldf, x=\"Surface\", y=\"Spec\", points = 'all')\n",
    "fig.show()"
   ]
  },
  {
   "cell_type": "code",
   "execution_count": 148,
   "metadata": {},
   "outputs": [
    {
     "data": {
      "application/vnd.plotly.v1+json": {
       "config": {
        "plotlyServerURL": "https://plot.ly"
       },
       "data": [
        {
         "alignmentgroup": "True",
         "boxpoints": "all",
         "hovertemplate": "Surface=%{x}<br>Specf=%{y}<extra></extra>",
         "legendgroup": "",
         "marker": {
          "color": "#636efa"
         },
         "name": "",
         "notched": false,
         "offsetgroup": "",
         "orientation": "v",
         "showlegend": false,
         "type": "box",
         "x": [
          "Wet Asphalt",
          "Wet Asphalt",
          "Wet Asphalt",
          "Wet Asphalt",
          "Wet Asphalt",
          "Wet Asphalt",
          "Wet Asphalt",
          "Wet Asphalt",
          "Wet Asphalt",
          "Wet Asphalt",
          "Wet Asphalt",
          "Wet Asphalt",
          "Wet Asphalt",
          "Wet Asphalt",
          "Wet Asphalt",
          "Wet Asphalt",
          "Wet Asphalt",
          "Wet Asphalt",
          "Wet Asphalt",
          "Wet Asphalt",
          "Wet Asphalt",
          "Wet Asphalt",
          "Wet Asphalt",
          "Wet Asphalt",
          "Wet Asphalt",
          "Wet Asphalt",
          "Wet Asphalt",
          "Wet Asphalt",
          "Wet Asphalt",
          "Wet Asphalt",
          "Wet Asphalt",
          "Wet Asphalt",
          "Wet Asphalt",
          "Wet Asphalt",
          "Wet Asphalt",
          "Wet Asphalt",
          "Wet Asphalt",
          "Wet Asphalt",
          "Wet Asphalt",
          "Wet Asphalt",
          "Wet Asphalt",
          "Wet Asphalt",
          "Wet Asphalt",
          "Wet Asphalt",
          "Wet Asphalt",
          "Wet Asphalt",
          "Wet Asphalt",
          "Wet Asphalt",
          "Wet Asphalt",
          "Wet Asphalt",
          "Wet Asphalt",
          "Wet Asphalt",
          "Wet Asphalt",
          "Wet Asphalt",
          "Wet Asphalt",
          "Wet Asphalt",
          "Wet Asphalt",
          "Wet Asphalt",
          "Wet Asphalt",
          "Wet Asphalt",
          "Wet Asphalt",
          "Wet Asphalt",
          "Wet Asphalt",
          "Wet Asphalt",
          "Wet Asphalt",
          "Wet Asphalt",
          "Wet Asphalt",
          "Wet Asphalt",
          "Wet Asphalt",
          "Wet Asphalt",
          "Wet Asphalt",
          "Wet Asphalt",
          "Wet Asphalt",
          "Wet Asphalt",
          "Wet Asphalt",
          "Wet Asphalt",
          "Wet Asphalt",
          "Wet Asphalt",
          "Wet Asphalt",
          "Wet Asphalt",
          "Wet Asphalt",
          "Wet Asphalt",
          "Wet Asphalt",
          "Wet Asphalt",
          "Wet Asphalt",
          "Wet Asphalt",
          "Wet Asphalt",
          "Wet Asphalt",
          "Wet Asphalt",
          "Wet Asphalt",
          "Wet Asphalt",
          "Wet Asphalt",
          "Wet Asphalt",
          "Wet Asphalt",
          "Wet Asphalt",
          "Wet Asphalt",
          "Wet Asphalt",
          "Wet Asphalt",
          "Wet Asphalt",
          "Wet Asphalt",
          "Wet Asphalt",
          "Wet Asphalt",
          "Wet Asphalt",
          "Wet Asphalt",
          "Wet Asphalt",
          "Wet Asphalt",
          "Wet Asphalt",
          "Wet Asphalt",
          "Wet Asphalt",
          "Gravel",
          "Gravel",
          "Gravel",
          "Gravel",
          "Gravel",
          "Gravel",
          "Gravel",
          "Gravel",
          "Gravel",
          "Gravel",
          "Gravel",
          "Gravel",
          "Gravel",
          "Gravel",
          "Gravel",
          "Gravel",
          "Gravel",
          "Gravel",
          "Gravel",
          "Gravel",
          "Gravel",
          "Gravel",
          "Gravel",
          "Gravel",
          "Gravel",
          "Gravel",
          "Gravel",
          "Gravel",
          "Gravel",
          "Gravel"
         ],
         "x0": " ",
         "xaxis": "x",
         "y": [
          1018.4077705414255,
          980.9201782040631,
          1050.050716002698,
          999.8189193269749,
          980.018608841144,
          813.8909637814346,
          944.8377641853526,
          1007.277075743899,
          1081.5079013936402,
          833.5996394768702,
          1127.121261848159,
          1318.552580988217,
          1204.1648368603537,
          1232.87829819085,
          1337.106007350248,
          1405.3334964773242,
          1280.2330506895557,
          1130.8711709833178,
          1062.3441180515808,
          1005.1968536305403,
          818.0137524305208,
          805.9478676061591,
          1002.4396165788849,
          974.9144229401188,
          974.1431039053972,
          916.7790749417522,
          963.4317302695297,
          908.2033999528297,
          882.8381484685262,
          915.0643183485336,
          901.8983491296189,
          983.6588337246449,
          1161.723710410414,
          1099.135308675848,
          890.9200460415567,
          882.9575177942091,
          861.9019922960784,
          884.9801913014276,
          871.8744191501504,
          936.6158977580202,
          887.5654558589316,
          1083.3849635304532,
          1097.209008280136,
          1178.5019392236607,
          1308.4597620386487,
          882.2086845882075,
          823.0992951331283,
          1056.9941058240497,
          1114.0015751896,
          1148.7824921913705,
          1056.4694863075056,
          1199.982366632094,
          1062.7261537514244,
          1233.1012450279843,
          1075.6639912110456,
          947.3375132077506,
          1015.506274450666,
          1137.0786703134638,
          1155.8387980813864,
          1300.3745478345372,
          935.256751465041,
          863.453518796038,
          872.4490921237136,
          875.3068649181847,
          1059.3606733865363,
          1235.6616730885125,
          1133.991636706813,
          1083.1751184467598,
          890.7132876362889,
          1014.0010039887358,
          941.759789864014,
          956.4778850523937,
          912.2658910091635,
          750.3935230581703,
          807.4413134233799,
          1226.1476477417427,
          1021.081838281734,
          1128.4065303862335,
          1163.7221456711072,
          960.417036540942,
          1039.375103698349,
          1107.3206242568467,
          943.1360512205595,
          1011.028235971742,
          906.9202072386875,
          1020.6739364010599,
          1121.370608175218,
          1027.2719322299483,
          1128.654508725911,
          965.4303290567123,
          1258.0638763832044,
          1318.0584976338557,
          1009.2392221183713,
          1006.6759501187007,
          1353.437377963394,
          1207.6229883869537,
          1117.9734730554676,
          1185.9966239110468,
          1300.1202722979656,
          1277.930944702748,
          1251.6137782814378,
          1261.02206780337,
          1201.2821274956946,
          1198.5802482311467,
          1294.625559995293,
          1506.1546704645166,
          1563.0354158183948,
          1103.3970129298332,
          1051.9736855323051,
          2139.3036100443214,
          1948.456805511865,
          1514.384963574353,
          1612.248921519532,
          1441.542442494927,
          1613.936792937482,
          1459.3813802881568,
          2470.393214040242,
          1402.8421909051435,
          1486.685255941192,
          1581.8280050612877,
          1345.2083459592561,
          1372.938521031386,
          1561.1967628961668,
          1338.5025920348676,
          1744.989785766146,
          1544.8060144133467,
          1379.5165179020166,
          1302.107503182702,
          1395.7231446421763,
          1404.3438752916466,
          1423.4433476306272,
          1606.7543394796583,
          1851.2813296847305,
          2234.1651329331144,
          1903.141398864126,
          1664.8749238962523,
          1927.3477339064336,
          1855.594265330401,
          1647.4910428930552
         ],
         "y0": " ",
         "yaxis": "y"
        }
       ],
       "layout": {
        "boxmode": "group",
        "legend": {
         "tracegroupgap": 0
        },
        "margin": {
         "t": 60
        },
        "template": {
         "data": {
          "bar": [
           {
            "error_x": {
             "color": "#2a3f5f"
            },
            "error_y": {
             "color": "#2a3f5f"
            },
            "marker": {
             "line": {
              "color": "#E5ECF6",
              "width": 0.5
             },
             "pattern": {
              "fillmode": "overlay",
              "size": 10,
              "solidity": 0.2
             }
            },
            "type": "bar"
           }
          ],
          "barpolar": [
           {
            "marker": {
             "line": {
              "color": "#E5ECF6",
              "width": 0.5
             },
             "pattern": {
              "fillmode": "overlay",
              "size": 10,
              "solidity": 0.2
             }
            },
            "type": "barpolar"
           }
          ],
          "carpet": [
           {
            "aaxis": {
             "endlinecolor": "#2a3f5f",
             "gridcolor": "white",
             "linecolor": "white",
             "minorgridcolor": "white",
             "startlinecolor": "#2a3f5f"
            },
            "baxis": {
             "endlinecolor": "#2a3f5f",
             "gridcolor": "white",
             "linecolor": "white",
             "minorgridcolor": "white",
             "startlinecolor": "#2a3f5f"
            },
            "type": "carpet"
           }
          ],
          "choropleth": [
           {
            "colorbar": {
             "outlinewidth": 0,
             "ticks": ""
            },
            "type": "choropleth"
           }
          ],
          "contour": [
           {
            "colorbar": {
             "outlinewidth": 0,
             "ticks": ""
            },
            "colorscale": [
             [
              0,
              "#0d0887"
             ],
             [
              0.1111111111111111,
              "#46039f"
             ],
             [
              0.2222222222222222,
              "#7201a8"
             ],
             [
              0.3333333333333333,
              "#9c179e"
             ],
             [
              0.4444444444444444,
              "#bd3786"
             ],
             [
              0.5555555555555556,
              "#d8576b"
             ],
             [
              0.6666666666666666,
              "#ed7953"
             ],
             [
              0.7777777777777778,
              "#fb9f3a"
             ],
             [
              0.8888888888888888,
              "#fdca26"
             ],
             [
              1,
              "#f0f921"
             ]
            ],
            "type": "contour"
           }
          ],
          "contourcarpet": [
           {
            "colorbar": {
             "outlinewidth": 0,
             "ticks": ""
            },
            "type": "contourcarpet"
           }
          ],
          "heatmap": [
           {
            "colorbar": {
             "outlinewidth": 0,
             "ticks": ""
            },
            "colorscale": [
             [
              0,
              "#0d0887"
             ],
             [
              0.1111111111111111,
              "#46039f"
             ],
             [
              0.2222222222222222,
              "#7201a8"
             ],
             [
              0.3333333333333333,
              "#9c179e"
             ],
             [
              0.4444444444444444,
              "#bd3786"
             ],
             [
              0.5555555555555556,
              "#d8576b"
             ],
             [
              0.6666666666666666,
              "#ed7953"
             ],
             [
              0.7777777777777778,
              "#fb9f3a"
             ],
             [
              0.8888888888888888,
              "#fdca26"
             ],
             [
              1,
              "#f0f921"
             ]
            ],
            "type": "heatmap"
           }
          ],
          "heatmapgl": [
           {
            "colorbar": {
             "outlinewidth": 0,
             "ticks": ""
            },
            "colorscale": [
             [
              0,
              "#0d0887"
             ],
             [
              0.1111111111111111,
              "#46039f"
             ],
             [
              0.2222222222222222,
              "#7201a8"
             ],
             [
              0.3333333333333333,
              "#9c179e"
             ],
             [
              0.4444444444444444,
              "#bd3786"
             ],
             [
              0.5555555555555556,
              "#d8576b"
             ],
             [
              0.6666666666666666,
              "#ed7953"
             ],
             [
              0.7777777777777778,
              "#fb9f3a"
             ],
             [
              0.8888888888888888,
              "#fdca26"
             ],
             [
              1,
              "#f0f921"
             ]
            ],
            "type": "heatmapgl"
           }
          ],
          "histogram": [
           {
            "marker": {
             "pattern": {
              "fillmode": "overlay",
              "size": 10,
              "solidity": 0.2
             }
            },
            "type": "histogram"
           }
          ],
          "histogram2d": [
           {
            "colorbar": {
             "outlinewidth": 0,
             "ticks": ""
            },
            "colorscale": [
             [
              0,
              "#0d0887"
             ],
             [
              0.1111111111111111,
              "#46039f"
             ],
             [
              0.2222222222222222,
              "#7201a8"
             ],
             [
              0.3333333333333333,
              "#9c179e"
             ],
             [
              0.4444444444444444,
              "#bd3786"
             ],
             [
              0.5555555555555556,
              "#d8576b"
             ],
             [
              0.6666666666666666,
              "#ed7953"
             ],
             [
              0.7777777777777778,
              "#fb9f3a"
             ],
             [
              0.8888888888888888,
              "#fdca26"
             ],
             [
              1,
              "#f0f921"
             ]
            ],
            "type": "histogram2d"
           }
          ],
          "histogram2dcontour": [
           {
            "colorbar": {
             "outlinewidth": 0,
             "ticks": ""
            },
            "colorscale": [
             [
              0,
              "#0d0887"
             ],
             [
              0.1111111111111111,
              "#46039f"
             ],
             [
              0.2222222222222222,
              "#7201a8"
             ],
             [
              0.3333333333333333,
              "#9c179e"
             ],
             [
              0.4444444444444444,
              "#bd3786"
             ],
             [
              0.5555555555555556,
              "#d8576b"
             ],
             [
              0.6666666666666666,
              "#ed7953"
             ],
             [
              0.7777777777777778,
              "#fb9f3a"
             ],
             [
              0.8888888888888888,
              "#fdca26"
             ],
             [
              1,
              "#f0f921"
             ]
            ],
            "type": "histogram2dcontour"
           }
          ],
          "mesh3d": [
           {
            "colorbar": {
             "outlinewidth": 0,
             "ticks": ""
            },
            "type": "mesh3d"
           }
          ],
          "parcoords": [
           {
            "line": {
             "colorbar": {
              "outlinewidth": 0,
              "ticks": ""
             }
            },
            "type": "parcoords"
           }
          ],
          "pie": [
           {
            "automargin": true,
            "type": "pie"
           }
          ],
          "scatter": [
           {
            "marker": {
             "colorbar": {
              "outlinewidth": 0,
              "ticks": ""
             }
            },
            "type": "scatter"
           }
          ],
          "scatter3d": [
           {
            "line": {
             "colorbar": {
              "outlinewidth": 0,
              "ticks": ""
             }
            },
            "marker": {
             "colorbar": {
              "outlinewidth": 0,
              "ticks": ""
             }
            },
            "type": "scatter3d"
           }
          ],
          "scattercarpet": [
           {
            "marker": {
             "colorbar": {
              "outlinewidth": 0,
              "ticks": ""
             }
            },
            "type": "scattercarpet"
           }
          ],
          "scattergeo": [
           {
            "marker": {
             "colorbar": {
              "outlinewidth": 0,
              "ticks": ""
             }
            },
            "type": "scattergeo"
           }
          ],
          "scattergl": [
           {
            "marker": {
             "colorbar": {
              "outlinewidth": 0,
              "ticks": ""
             }
            },
            "type": "scattergl"
           }
          ],
          "scattermapbox": [
           {
            "marker": {
             "colorbar": {
              "outlinewidth": 0,
              "ticks": ""
             }
            },
            "type": "scattermapbox"
           }
          ],
          "scatterpolar": [
           {
            "marker": {
             "colorbar": {
              "outlinewidth": 0,
              "ticks": ""
             }
            },
            "type": "scatterpolar"
           }
          ],
          "scatterpolargl": [
           {
            "marker": {
             "colorbar": {
              "outlinewidth": 0,
              "ticks": ""
             }
            },
            "type": "scatterpolargl"
           }
          ],
          "scatterternary": [
           {
            "marker": {
             "colorbar": {
              "outlinewidth": 0,
              "ticks": ""
             }
            },
            "type": "scatterternary"
           }
          ],
          "surface": [
           {
            "colorbar": {
             "outlinewidth": 0,
             "ticks": ""
            },
            "colorscale": [
             [
              0,
              "#0d0887"
             ],
             [
              0.1111111111111111,
              "#46039f"
             ],
             [
              0.2222222222222222,
              "#7201a8"
             ],
             [
              0.3333333333333333,
              "#9c179e"
             ],
             [
              0.4444444444444444,
              "#bd3786"
             ],
             [
              0.5555555555555556,
              "#d8576b"
             ],
             [
              0.6666666666666666,
              "#ed7953"
             ],
             [
              0.7777777777777778,
              "#fb9f3a"
             ],
             [
              0.8888888888888888,
              "#fdca26"
             ],
             [
              1,
              "#f0f921"
             ]
            ],
            "type": "surface"
           }
          ],
          "table": [
           {
            "cells": {
             "fill": {
              "color": "#EBF0F8"
             },
             "line": {
              "color": "white"
             }
            },
            "header": {
             "fill": {
              "color": "#C8D4E3"
             },
             "line": {
              "color": "white"
             }
            },
            "type": "table"
           }
          ]
         },
         "layout": {
          "annotationdefaults": {
           "arrowcolor": "#2a3f5f",
           "arrowhead": 0,
           "arrowwidth": 1
          },
          "autotypenumbers": "strict",
          "coloraxis": {
           "colorbar": {
            "outlinewidth": 0,
            "ticks": ""
           }
          },
          "colorscale": {
           "diverging": [
            [
             0,
             "#8e0152"
            ],
            [
             0.1,
             "#c51b7d"
            ],
            [
             0.2,
             "#de77ae"
            ],
            [
             0.3,
             "#f1b6da"
            ],
            [
             0.4,
             "#fde0ef"
            ],
            [
             0.5,
             "#f7f7f7"
            ],
            [
             0.6,
             "#e6f5d0"
            ],
            [
             0.7,
             "#b8e186"
            ],
            [
             0.8,
             "#7fbc41"
            ],
            [
             0.9,
             "#4d9221"
            ],
            [
             1,
             "#276419"
            ]
           ],
           "sequential": [
            [
             0,
             "#0d0887"
            ],
            [
             0.1111111111111111,
             "#46039f"
            ],
            [
             0.2222222222222222,
             "#7201a8"
            ],
            [
             0.3333333333333333,
             "#9c179e"
            ],
            [
             0.4444444444444444,
             "#bd3786"
            ],
            [
             0.5555555555555556,
             "#d8576b"
            ],
            [
             0.6666666666666666,
             "#ed7953"
            ],
            [
             0.7777777777777778,
             "#fb9f3a"
            ],
            [
             0.8888888888888888,
             "#fdca26"
            ],
            [
             1,
             "#f0f921"
            ]
           ],
           "sequentialminus": [
            [
             0,
             "#0d0887"
            ],
            [
             0.1111111111111111,
             "#46039f"
            ],
            [
             0.2222222222222222,
             "#7201a8"
            ],
            [
             0.3333333333333333,
             "#9c179e"
            ],
            [
             0.4444444444444444,
             "#bd3786"
            ],
            [
             0.5555555555555556,
             "#d8576b"
            ],
            [
             0.6666666666666666,
             "#ed7953"
            ],
            [
             0.7777777777777778,
             "#fb9f3a"
            ],
            [
             0.8888888888888888,
             "#fdca26"
            ],
            [
             1,
             "#f0f921"
            ]
           ]
          },
          "colorway": [
           "#636efa",
           "#EF553B",
           "#00cc96",
           "#ab63fa",
           "#FFA15A",
           "#19d3f3",
           "#FF6692",
           "#B6E880",
           "#FF97FF",
           "#FECB52"
          ],
          "font": {
           "color": "#2a3f5f"
          },
          "geo": {
           "bgcolor": "white",
           "lakecolor": "white",
           "landcolor": "#E5ECF6",
           "showlakes": true,
           "showland": true,
           "subunitcolor": "white"
          },
          "hoverlabel": {
           "align": "left"
          },
          "hovermode": "closest",
          "mapbox": {
           "style": "light"
          },
          "paper_bgcolor": "white",
          "plot_bgcolor": "#E5ECF6",
          "polar": {
           "angularaxis": {
            "gridcolor": "white",
            "linecolor": "white",
            "ticks": ""
           },
           "bgcolor": "#E5ECF6",
           "radialaxis": {
            "gridcolor": "white",
            "linecolor": "white",
            "ticks": ""
           }
          },
          "scene": {
           "xaxis": {
            "backgroundcolor": "#E5ECF6",
            "gridcolor": "white",
            "gridwidth": 2,
            "linecolor": "white",
            "showbackground": true,
            "ticks": "",
            "zerolinecolor": "white"
           },
           "yaxis": {
            "backgroundcolor": "#E5ECF6",
            "gridcolor": "white",
            "gridwidth": 2,
            "linecolor": "white",
            "showbackground": true,
            "ticks": "",
            "zerolinecolor": "white"
           },
           "zaxis": {
            "backgroundcolor": "#E5ECF6",
            "gridcolor": "white",
            "gridwidth": 2,
            "linecolor": "white",
            "showbackground": true,
            "ticks": "",
            "zerolinecolor": "white"
           }
          },
          "shapedefaults": {
           "line": {
            "color": "#2a3f5f"
           }
          },
          "ternary": {
           "aaxis": {
            "gridcolor": "white",
            "linecolor": "white",
            "ticks": ""
           },
           "baxis": {
            "gridcolor": "white",
            "linecolor": "white",
            "ticks": ""
           },
           "bgcolor": "#E5ECF6",
           "caxis": {
            "gridcolor": "white",
            "linecolor": "white",
            "ticks": ""
           }
          },
          "title": {
           "x": 0.05
          },
          "xaxis": {
           "automargin": true,
           "gridcolor": "white",
           "linecolor": "white",
           "ticks": "",
           "title": {
            "standoff": 15
           },
           "zerolinecolor": "white",
           "zerolinewidth": 2
          },
          "yaxis": {
           "automargin": true,
           "gridcolor": "white",
           "linecolor": "white",
           "ticks": "",
           "title": {
            "standoff": 15
           },
           "zerolinecolor": "white",
           "zerolinewidth": 2
          }
         }
        },
        "xaxis": {
         "anchor": "y",
         "domain": [
          0,
          1
         ],
         "title": {
          "text": "Surface"
         }
        },
        "yaxis": {
         "anchor": "x",
         "domain": [
          0,
          1
         ],
         "title": {
          "text": "Specf"
         }
        }
       }
      },
      "text/html": [
       "<div>                            <div id=\"d52bace4-9d18-4ec7-bc60-46c44a7e218d\" class=\"plotly-graph-div\" style=\"height:525px; width:100%;\"></div>            <script type=\"text/javascript\">                require([\"plotly\"], function(Plotly) {                    window.PLOTLYENV=window.PLOTLYENV || {};                                    if (document.getElementById(\"d52bace4-9d18-4ec7-bc60-46c44a7e218d\")) {                    Plotly.newPlot(                        \"d52bace4-9d18-4ec7-bc60-46c44a7e218d\",                        [{\"alignmentgroup\":\"True\",\"boxpoints\":\"all\",\"hovertemplate\":\"Surface=%{x}<br>Specf=%{y}<extra></extra>\",\"legendgroup\":\"\",\"marker\":{\"color\":\"#636efa\"},\"name\":\"\",\"notched\":false,\"offsetgroup\":\"\",\"orientation\":\"v\",\"showlegend\":false,\"type\":\"box\",\"x\":[\"Wet Asphalt\",\"Wet Asphalt\",\"Wet Asphalt\",\"Wet Asphalt\",\"Wet Asphalt\",\"Wet Asphalt\",\"Wet Asphalt\",\"Wet Asphalt\",\"Wet Asphalt\",\"Wet Asphalt\",\"Wet Asphalt\",\"Wet Asphalt\",\"Wet Asphalt\",\"Wet Asphalt\",\"Wet Asphalt\",\"Wet Asphalt\",\"Wet Asphalt\",\"Wet Asphalt\",\"Wet Asphalt\",\"Wet Asphalt\",\"Wet Asphalt\",\"Wet Asphalt\",\"Wet Asphalt\",\"Wet Asphalt\",\"Wet Asphalt\",\"Wet Asphalt\",\"Wet Asphalt\",\"Wet Asphalt\",\"Wet Asphalt\",\"Wet Asphalt\",\"Wet Asphalt\",\"Wet Asphalt\",\"Wet Asphalt\",\"Wet Asphalt\",\"Wet Asphalt\",\"Wet Asphalt\",\"Wet Asphalt\",\"Wet Asphalt\",\"Wet Asphalt\",\"Wet Asphalt\",\"Wet Asphalt\",\"Wet Asphalt\",\"Wet Asphalt\",\"Wet Asphalt\",\"Wet Asphalt\",\"Wet Asphalt\",\"Wet Asphalt\",\"Wet Asphalt\",\"Wet Asphalt\",\"Wet Asphalt\",\"Wet Asphalt\",\"Wet Asphalt\",\"Wet Asphalt\",\"Wet Asphalt\",\"Wet Asphalt\",\"Wet Asphalt\",\"Wet Asphalt\",\"Wet Asphalt\",\"Wet Asphalt\",\"Wet Asphalt\",\"Wet Asphalt\",\"Wet Asphalt\",\"Wet Asphalt\",\"Wet Asphalt\",\"Wet Asphalt\",\"Wet Asphalt\",\"Wet Asphalt\",\"Wet Asphalt\",\"Wet Asphalt\",\"Wet Asphalt\",\"Wet Asphalt\",\"Wet Asphalt\",\"Wet Asphalt\",\"Wet Asphalt\",\"Wet Asphalt\",\"Wet Asphalt\",\"Wet Asphalt\",\"Wet Asphalt\",\"Wet Asphalt\",\"Wet Asphalt\",\"Wet Asphalt\",\"Wet Asphalt\",\"Wet Asphalt\",\"Wet Asphalt\",\"Wet Asphalt\",\"Wet Asphalt\",\"Wet Asphalt\",\"Wet Asphalt\",\"Wet Asphalt\",\"Wet Asphalt\",\"Wet Asphalt\",\"Wet Asphalt\",\"Wet Asphalt\",\"Wet Asphalt\",\"Wet Asphalt\",\"Wet Asphalt\",\"Wet Asphalt\",\"Wet Asphalt\",\"Wet Asphalt\",\"Wet Asphalt\",\"Wet Asphalt\",\"Wet Asphalt\",\"Wet Asphalt\",\"Wet Asphalt\",\"Wet Asphalt\",\"Wet Asphalt\",\"Wet Asphalt\",\"Wet Asphalt\",\"Wet Asphalt\",\"Gravel\",\"Gravel\",\"Gravel\",\"Gravel\",\"Gravel\",\"Gravel\",\"Gravel\",\"Gravel\",\"Gravel\",\"Gravel\",\"Gravel\",\"Gravel\",\"Gravel\",\"Gravel\",\"Gravel\",\"Gravel\",\"Gravel\",\"Gravel\",\"Gravel\",\"Gravel\",\"Gravel\",\"Gravel\",\"Gravel\",\"Gravel\",\"Gravel\",\"Gravel\",\"Gravel\",\"Gravel\",\"Gravel\",\"Gravel\"],\"x0\":\" \",\"xaxis\":\"x\",\"y\":[1018.4077705414255,980.9201782040631,1050.050716002698,999.8189193269749,980.018608841144,813.8909637814346,944.8377641853526,1007.277075743899,1081.5079013936402,833.5996394768702,1127.121261848159,1318.552580988217,1204.1648368603537,1232.87829819085,1337.106007350248,1405.3334964773242,1280.2330506895557,1130.8711709833178,1062.3441180515808,1005.1968536305403,818.0137524305208,805.9478676061591,1002.4396165788849,974.9144229401188,974.1431039053972,916.7790749417522,963.4317302695297,908.2033999528297,882.8381484685262,915.0643183485336,901.8983491296189,983.6588337246449,1161.723710410414,1099.135308675848,890.9200460415567,882.9575177942091,861.9019922960784,884.9801913014276,871.8744191501504,936.6158977580202,887.5654558589316,1083.3849635304532,1097.209008280136,1178.5019392236607,1308.4597620386487,882.2086845882075,823.0992951331283,1056.9941058240497,1114.0015751896,1148.7824921913705,1056.4694863075056,1199.982366632094,1062.7261537514244,1233.1012450279843,1075.6639912110456,947.3375132077506,1015.506274450666,1137.0786703134638,1155.8387980813864,1300.3745478345372,935.256751465041,863.453518796038,872.4490921237136,875.3068649181847,1059.3606733865363,1235.6616730885125,1133.991636706813,1083.1751184467598,890.7132876362889,1014.0010039887358,941.759789864014,956.4778850523937,912.2658910091635,750.3935230581703,807.4413134233799,1226.1476477417427,1021.081838281734,1128.4065303862335,1163.7221456711072,960.417036540942,1039.375103698349,1107.3206242568467,943.1360512205595,1011.028235971742,906.9202072386875,1020.6739364010599,1121.370608175218,1027.2719322299483,1128.654508725911,965.4303290567123,1258.0638763832044,1318.0584976338557,1009.2392221183713,1006.6759501187007,1353.437377963394,1207.6229883869537,1117.9734730554676,1185.9966239110468,1300.1202722979656,1277.930944702748,1251.6137782814378,1261.02206780337,1201.2821274956946,1198.5802482311467,1294.625559995293,1506.1546704645166,1563.0354158183948,1103.3970129298332,1051.9736855323051,2139.3036100443214,1948.456805511865,1514.384963574353,1612.248921519532,1441.542442494927,1613.936792937482,1459.3813802881568,2470.393214040242,1402.8421909051435,1486.685255941192,1581.8280050612877,1345.2083459592561,1372.938521031386,1561.1967628961668,1338.5025920348676,1744.989785766146,1544.8060144133467,1379.5165179020166,1302.107503182702,1395.7231446421763,1404.3438752916466,1423.4433476306272,1606.7543394796583,1851.2813296847305,2234.1651329331144,1903.141398864126,1664.8749238962523,1927.3477339064336,1855.594265330401,1647.4910428930552],\"y0\":\" \",\"yaxis\":\"y\"}],                        {\"boxmode\":\"group\",\"legend\":{\"tracegroupgap\":0},\"margin\":{\"t\":60},\"template\":{\"data\":{\"bar\":[{\"error_x\":{\"color\":\"#2a3f5f\"},\"error_y\":{\"color\":\"#2a3f5f\"},\"marker\":{\"line\":{\"color\":\"#E5ECF6\",\"width\":0.5},\"pattern\":{\"fillmode\":\"overlay\",\"size\":10,\"solidity\":0.2}},\"type\":\"bar\"}],\"barpolar\":[{\"marker\":{\"line\":{\"color\":\"#E5ECF6\",\"width\":0.5},\"pattern\":{\"fillmode\":\"overlay\",\"size\":10,\"solidity\":0.2}},\"type\":\"barpolar\"}],\"carpet\":[{\"aaxis\":{\"endlinecolor\":\"#2a3f5f\",\"gridcolor\":\"white\",\"linecolor\":\"white\",\"minorgridcolor\":\"white\",\"startlinecolor\":\"#2a3f5f\"},\"baxis\":{\"endlinecolor\":\"#2a3f5f\",\"gridcolor\":\"white\",\"linecolor\":\"white\",\"minorgridcolor\":\"white\",\"startlinecolor\":\"#2a3f5f\"},\"type\":\"carpet\"}],\"choropleth\":[{\"colorbar\":{\"outlinewidth\":0,\"ticks\":\"\"},\"type\":\"choropleth\"}],\"contour\":[{\"colorbar\":{\"outlinewidth\":0,\"ticks\":\"\"},\"colorscale\":[[0.0,\"#0d0887\"],[0.1111111111111111,\"#46039f\"],[0.2222222222222222,\"#7201a8\"],[0.3333333333333333,\"#9c179e\"],[0.4444444444444444,\"#bd3786\"],[0.5555555555555556,\"#d8576b\"],[0.6666666666666666,\"#ed7953\"],[0.7777777777777778,\"#fb9f3a\"],[0.8888888888888888,\"#fdca26\"],[1.0,\"#f0f921\"]],\"type\":\"contour\"}],\"contourcarpet\":[{\"colorbar\":{\"outlinewidth\":0,\"ticks\":\"\"},\"type\":\"contourcarpet\"}],\"heatmap\":[{\"colorbar\":{\"outlinewidth\":0,\"ticks\":\"\"},\"colorscale\":[[0.0,\"#0d0887\"],[0.1111111111111111,\"#46039f\"],[0.2222222222222222,\"#7201a8\"],[0.3333333333333333,\"#9c179e\"],[0.4444444444444444,\"#bd3786\"],[0.5555555555555556,\"#d8576b\"],[0.6666666666666666,\"#ed7953\"],[0.7777777777777778,\"#fb9f3a\"],[0.8888888888888888,\"#fdca26\"],[1.0,\"#f0f921\"]],\"type\":\"heatmap\"}],\"heatmapgl\":[{\"colorbar\":{\"outlinewidth\":0,\"ticks\":\"\"},\"colorscale\":[[0.0,\"#0d0887\"],[0.1111111111111111,\"#46039f\"],[0.2222222222222222,\"#7201a8\"],[0.3333333333333333,\"#9c179e\"],[0.4444444444444444,\"#bd3786\"],[0.5555555555555556,\"#d8576b\"],[0.6666666666666666,\"#ed7953\"],[0.7777777777777778,\"#fb9f3a\"],[0.8888888888888888,\"#fdca26\"],[1.0,\"#f0f921\"]],\"type\":\"heatmapgl\"}],\"histogram\":[{\"marker\":{\"pattern\":{\"fillmode\":\"overlay\",\"size\":10,\"solidity\":0.2}},\"type\":\"histogram\"}],\"histogram2d\":[{\"colorbar\":{\"outlinewidth\":0,\"ticks\":\"\"},\"colorscale\":[[0.0,\"#0d0887\"],[0.1111111111111111,\"#46039f\"],[0.2222222222222222,\"#7201a8\"],[0.3333333333333333,\"#9c179e\"],[0.4444444444444444,\"#bd3786\"],[0.5555555555555556,\"#d8576b\"],[0.6666666666666666,\"#ed7953\"],[0.7777777777777778,\"#fb9f3a\"],[0.8888888888888888,\"#fdca26\"],[1.0,\"#f0f921\"]],\"type\":\"histogram2d\"}],\"histogram2dcontour\":[{\"colorbar\":{\"outlinewidth\":0,\"ticks\":\"\"},\"colorscale\":[[0.0,\"#0d0887\"],[0.1111111111111111,\"#46039f\"],[0.2222222222222222,\"#7201a8\"],[0.3333333333333333,\"#9c179e\"],[0.4444444444444444,\"#bd3786\"],[0.5555555555555556,\"#d8576b\"],[0.6666666666666666,\"#ed7953\"],[0.7777777777777778,\"#fb9f3a\"],[0.8888888888888888,\"#fdca26\"],[1.0,\"#f0f921\"]],\"type\":\"histogram2dcontour\"}],\"mesh3d\":[{\"colorbar\":{\"outlinewidth\":0,\"ticks\":\"\"},\"type\":\"mesh3d\"}],\"parcoords\":[{\"line\":{\"colorbar\":{\"outlinewidth\":0,\"ticks\":\"\"}},\"type\":\"parcoords\"}],\"pie\":[{\"automargin\":true,\"type\":\"pie\"}],\"scatter\":[{\"marker\":{\"colorbar\":{\"outlinewidth\":0,\"ticks\":\"\"}},\"type\":\"scatter\"}],\"scatter3d\":[{\"line\":{\"colorbar\":{\"outlinewidth\":0,\"ticks\":\"\"}},\"marker\":{\"colorbar\":{\"outlinewidth\":0,\"ticks\":\"\"}},\"type\":\"scatter3d\"}],\"scattercarpet\":[{\"marker\":{\"colorbar\":{\"outlinewidth\":0,\"ticks\":\"\"}},\"type\":\"scattercarpet\"}],\"scattergeo\":[{\"marker\":{\"colorbar\":{\"outlinewidth\":0,\"ticks\":\"\"}},\"type\":\"scattergeo\"}],\"scattergl\":[{\"marker\":{\"colorbar\":{\"outlinewidth\":0,\"ticks\":\"\"}},\"type\":\"scattergl\"}],\"scattermapbox\":[{\"marker\":{\"colorbar\":{\"outlinewidth\":0,\"ticks\":\"\"}},\"type\":\"scattermapbox\"}],\"scatterpolar\":[{\"marker\":{\"colorbar\":{\"outlinewidth\":0,\"ticks\":\"\"}},\"type\":\"scatterpolar\"}],\"scatterpolargl\":[{\"marker\":{\"colorbar\":{\"outlinewidth\":0,\"ticks\":\"\"}},\"type\":\"scatterpolargl\"}],\"scatterternary\":[{\"marker\":{\"colorbar\":{\"outlinewidth\":0,\"ticks\":\"\"}},\"type\":\"scatterternary\"}],\"surface\":[{\"colorbar\":{\"outlinewidth\":0,\"ticks\":\"\"},\"colorscale\":[[0.0,\"#0d0887\"],[0.1111111111111111,\"#46039f\"],[0.2222222222222222,\"#7201a8\"],[0.3333333333333333,\"#9c179e\"],[0.4444444444444444,\"#bd3786\"],[0.5555555555555556,\"#d8576b\"],[0.6666666666666666,\"#ed7953\"],[0.7777777777777778,\"#fb9f3a\"],[0.8888888888888888,\"#fdca26\"],[1.0,\"#f0f921\"]],\"type\":\"surface\"}],\"table\":[{\"cells\":{\"fill\":{\"color\":\"#EBF0F8\"},\"line\":{\"color\":\"white\"}},\"header\":{\"fill\":{\"color\":\"#C8D4E3\"},\"line\":{\"color\":\"white\"}},\"type\":\"table\"}]},\"layout\":{\"annotationdefaults\":{\"arrowcolor\":\"#2a3f5f\",\"arrowhead\":0,\"arrowwidth\":1},\"autotypenumbers\":\"strict\",\"coloraxis\":{\"colorbar\":{\"outlinewidth\":0,\"ticks\":\"\"}},\"colorscale\":{\"diverging\":[[0,\"#8e0152\"],[0.1,\"#c51b7d\"],[0.2,\"#de77ae\"],[0.3,\"#f1b6da\"],[0.4,\"#fde0ef\"],[0.5,\"#f7f7f7\"],[0.6,\"#e6f5d0\"],[0.7,\"#b8e186\"],[0.8,\"#7fbc41\"],[0.9,\"#4d9221\"],[1,\"#276419\"]],\"sequential\":[[0.0,\"#0d0887\"],[0.1111111111111111,\"#46039f\"],[0.2222222222222222,\"#7201a8\"],[0.3333333333333333,\"#9c179e\"],[0.4444444444444444,\"#bd3786\"],[0.5555555555555556,\"#d8576b\"],[0.6666666666666666,\"#ed7953\"],[0.7777777777777778,\"#fb9f3a\"],[0.8888888888888888,\"#fdca26\"],[1.0,\"#f0f921\"]],\"sequentialminus\":[[0.0,\"#0d0887\"],[0.1111111111111111,\"#46039f\"],[0.2222222222222222,\"#7201a8\"],[0.3333333333333333,\"#9c179e\"],[0.4444444444444444,\"#bd3786\"],[0.5555555555555556,\"#d8576b\"],[0.6666666666666666,\"#ed7953\"],[0.7777777777777778,\"#fb9f3a\"],[0.8888888888888888,\"#fdca26\"],[1.0,\"#f0f921\"]]},\"colorway\":[\"#636efa\",\"#EF553B\",\"#00cc96\",\"#ab63fa\",\"#FFA15A\",\"#19d3f3\",\"#FF6692\",\"#B6E880\",\"#FF97FF\",\"#FECB52\"],\"font\":{\"color\":\"#2a3f5f\"},\"geo\":{\"bgcolor\":\"white\",\"lakecolor\":\"white\",\"landcolor\":\"#E5ECF6\",\"showlakes\":true,\"showland\":true,\"subunitcolor\":\"white\"},\"hoverlabel\":{\"align\":\"left\"},\"hovermode\":\"closest\",\"mapbox\":{\"style\":\"light\"},\"paper_bgcolor\":\"white\",\"plot_bgcolor\":\"#E5ECF6\",\"polar\":{\"angularaxis\":{\"gridcolor\":\"white\",\"linecolor\":\"white\",\"ticks\":\"\"},\"bgcolor\":\"#E5ECF6\",\"radialaxis\":{\"gridcolor\":\"white\",\"linecolor\":\"white\",\"ticks\":\"\"}},\"scene\":{\"xaxis\":{\"backgroundcolor\":\"#E5ECF6\",\"gridcolor\":\"white\",\"gridwidth\":2,\"linecolor\":\"white\",\"showbackground\":true,\"ticks\":\"\",\"zerolinecolor\":\"white\"},\"yaxis\":{\"backgroundcolor\":\"#E5ECF6\",\"gridcolor\":\"white\",\"gridwidth\":2,\"linecolor\":\"white\",\"showbackground\":true,\"ticks\":\"\",\"zerolinecolor\":\"white\"},\"zaxis\":{\"backgroundcolor\":\"#E5ECF6\",\"gridcolor\":\"white\",\"gridwidth\":2,\"linecolor\":\"white\",\"showbackground\":true,\"ticks\":\"\",\"zerolinecolor\":\"white\"}},\"shapedefaults\":{\"line\":{\"color\":\"#2a3f5f\"}},\"ternary\":{\"aaxis\":{\"gridcolor\":\"white\",\"linecolor\":\"white\",\"ticks\":\"\"},\"baxis\":{\"gridcolor\":\"white\",\"linecolor\":\"white\",\"ticks\":\"\"},\"bgcolor\":\"#E5ECF6\",\"caxis\":{\"gridcolor\":\"white\",\"linecolor\":\"white\",\"ticks\":\"\"}},\"title\":{\"x\":0.05},\"xaxis\":{\"automargin\":true,\"gridcolor\":\"white\",\"linecolor\":\"white\",\"ticks\":\"\",\"title\":{\"standoff\":15},\"zerolinecolor\":\"white\",\"zerolinewidth\":2},\"yaxis\":{\"automargin\":true,\"gridcolor\":\"white\",\"linecolor\":\"white\",\"ticks\":\"\",\"title\":{\"standoff\":15},\"zerolinecolor\":\"white\",\"zerolinewidth\":2}}},\"xaxis\":{\"anchor\":\"y\",\"domain\":[0.0,1.0],\"title\":{\"text\":\"Surface\"}},\"yaxis\":{\"anchor\":\"x\",\"domain\":[0.0,1.0],\"title\":{\"text\":\"Specf\"}}},                        {\"responsive\": true}                    ).then(function(){\n",
       "                            \n",
       "var gd = document.getElementById('d52bace4-9d18-4ec7-bc60-46c44a7e218d');\n",
       "var x = new MutationObserver(function (mutations, observer) {{\n",
       "        var display = window.getComputedStyle(gd).display;\n",
       "        if (!display || display === 'none') {{\n",
       "            console.log([gd, 'removed!']);\n",
       "            Plotly.purge(gd);\n",
       "            observer.disconnect();\n",
       "        }}\n",
       "}});\n",
       "\n",
       "// Listen for the removal of the full notebook cells\n",
       "var notebookContainer = gd.closest('#notebook-container');\n",
       "if (notebookContainer) {{\n",
       "    x.observe(notebookContainer, {childList: true});\n",
       "}}\n",
       "\n",
       "// Listen for the clearing of the current output cell\n",
       "var outputEl = gd.closest('.output');\n",
       "if (outputEl) {{\n",
       "    x.observe(outputEl, {childList: true});\n",
       "}}\n",
       "\n",
       "                        })                };                });            </script>        </div>"
      ]
     },
     "metadata": {},
     "output_type": "display_data"
    }
   ],
   "source": [
    "fig = px.box(alldf, x=\"Surface\", y=\"Specf\", points = 'all')\n",
    "fig.show()"
   ]
  },
  {
   "cell_type": "code",
   "execution_count": 152,
   "metadata": {},
   "outputs": [
    {
     "data": {
      "application/vnd.plotly.v1+json": {
       "config": {
        "plotlyServerURL": "https://plot.ly"
       },
       "data": [
        {
         "alignmentgroup": "True",
         "boxpoints": "all",
         "hovertemplate": "Surface=%{x}<br>Specslo=%{y}<extra></extra>",
         "legendgroup": "",
         "marker": {
          "color": "#636efa"
         },
         "name": "",
         "notched": false,
         "offsetgroup": "",
         "orientation": "v",
         "showlegend": false,
         "type": "box",
         "x": [
          "Wet Asphalt",
          "Wet Asphalt",
          "Wet Asphalt",
          "Wet Asphalt",
          "Wet Asphalt",
          "Wet Asphalt",
          "Wet Asphalt",
          "Wet Asphalt",
          "Wet Asphalt",
          "Wet Asphalt",
          "Wet Asphalt",
          "Wet Asphalt",
          "Wet Asphalt",
          "Wet Asphalt",
          "Wet Asphalt",
          "Wet Asphalt",
          "Wet Asphalt",
          "Wet Asphalt",
          "Wet Asphalt",
          "Wet Asphalt",
          "Wet Asphalt",
          "Wet Asphalt",
          "Wet Asphalt",
          "Wet Asphalt",
          "Wet Asphalt",
          "Wet Asphalt",
          "Wet Asphalt",
          "Wet Asphalt",
          "Wet Asphalt",
          "Wet Asphalt",
          "Wet Asphalt",
          "Wet Asphalt",
          "Wet Asphalt",
          "Wet Asphalt",
          "Wet Asphalt",
          "Wet Asphalt",
          "Wet Asphalt",
          "Wet Asphalt",
          "Wet Asphalt",
          "Wet Asphalt",
          "Wet Asphalt",
          "Wet Asphalt",
          "Wet Asphalt",
          "Wet Asphalt",
          "Wet Asphalt",
          "Wet Asphalt",
          "Wet Asphalt",
          "Wet Asphalt",
          "Wet Asphalt",
          "Wet Asphalt",
          "Wet Asphalt",
          "Wet Asphalt",
          "Wet Asphalt",
          "Wet Asphalt",
          "Wet Asphalt",
          "Wet Asphalt",
          "Wet Asphalt",
          "Wet Asphalt",
          "Wet Asphalt",
          "Wet Asphalt",
          "Wet Asphalt",
          "Wet Asphalt",
          "Wet Asphalt",
          "Wet Asphalt",
          "Wet Asphalt",
          "Wet Asphalt",
          "Wet Asphalt",
          "Wet Asphalt",
          "Wet Asphalt",
          "Wet Asphalt",
          "Wet Asphalt",
          "Wet Asphalt",
          "Wet Asphalt",
          "Wet Asphalt",
          "Wet Asphalt",
          "Wet Asphalt",
          "Wet Asphalt",
          "Wet Asphalt",
          "Wet Asphalt",
          "Wet Asphalt",
          "Wet Asphalt",
          "Wet Asphalt",
          "Wet Asphalt",
          "Wet Asphalt",
          "Wet Asphalt",
          "Wet Asphalt",
          "Wet Asphalt",
          "Wet Asphalt",
          "Wet Asphalt",
          "Wet Asphalt",
          "Wet Asphalt",
          "Wet Asphalt",
          "Wet Asphalt",
          "Wet Asphalt",
          "Wet Asphalt",
          "Wet Asphalt",
          "Wet Asphalt",
          "Wet Asphalt",
          "Wet Asphalt",
          "Wet Asphalt",
          "Wet Asphalt",
          "Wet Asphalt",
          "Wet Asphalt",
          "Wet Asphalt",
          "Wet Asphalt",
          "Wet Asphalt",
          "Wet Asphalt",
          "Wet Asphalt",
          "Wet Asphalt",
          "Gravel",
          "Gravel",
          "Gravel",
          "Gravel",
          "Gravel",
          "Gravel",
          "Gravel",
          "Gravel",
          "Gravel",
          "Gravel",
          "Gravel",
          "Gravel",
          "Gravel",
          "Gravel",
          "Gravel",
          "Gravel",
          "Gravel",
          "Gravel",
          "Gravel",
          "Gravel",
          "Gravel",
          "Gravel",
          "Gravel",
          "Gravel",
          "Gravel",
          "Gravel",
          "Gravel",
          "Gravel",
          "Gravel",
          "Gravel"
         ],
         "x0": " ",
         "xaxis": "x",
         "y": [
          -1.1362907766109597e-09,
          -1.1438320426466055e-09,
          -1.1315435959819757e-09,
          -1.143904980654968e-09,
          -1.1464662047839264e-09,
          -1.1604579425216852e-09,
          -1.144327643783608e-09,
          -1.1391748245594928e-09,
          -1.129975323447821e-09,
          -1.1577315038615479e-09,
          -1.1267843995585937e-09,
          -1.1070917554102055e-09,
          -1.1206081872249537e-09,
          -1.1165157410476909e-09,
          -1.1050588180085007e-09,
          -1.098605506660346e-09,
          -1.111965487335228e-09,
          -1.1322882546958056e-09,
          -1.1394767486202622e-09,
          -1.1425661500448559e-09,
          -1.1548545729663463e-09,
          -1.1532892932992088e-09,
          -1.140284773675901e-09,
          -1.1439783348952894e-09,
          -1.1441954086558436e-09,
          -1.152420453968385e-09,
          -1.1469026762723244e-09,
          -1.1430398386560972e-09,
          -1.1509937619388898e-09,
          -1.151558277906871e-09,
          -1.1511225873637003e-09,
          -1.1419782845015002e-09,
          -1.1245445125991834e-09,
          -1.13267681927563e-09,
          -1.1511784778575648e-09,
          -1.1518989547575278e-09,
          -1.1565122961879113e-09,
          -1.1536651542911495e-09,
          -1.1457407321439684e-09,
          -1.1446212474985846e-09,
          -1.1517994356254792e-09,
          -1.13467283301594e-09,
          -1.125498344308155e-09,
          -1.124914400617844e-09,
          -1.1121189291278676e-09,
          -1.1596267303538149e-09,
          -1.1608938656471217e-09,
          -1.1380789458745282e-09,
          -1.132822975387501e-09,
          -1.1313081052057103e-09,
          -1.1350075844863511e-09,
          -1.1206908370135062e-09,
          -1.1367147885776573e-09,
          -1.1205061183865482e-09,
          -1.1360086214084462e-09,
          -1.1459980550181189e-09,
          -1.1405754395020174e-09,
          -1.1256073055951609e-09,
          -1.1248869545973756e-09,
          -1.110872456094255e-09,
          -1.1504901372473109e-09,
          -1.1633601419150886e-09,
          -1.1561838540831269e-09,
          -1.1512781552264485e-09,
          -1.13824325712491e-09,
          -1.1235235294141111e-09,
          -1.1262076334287343e-09,
          -1.1325141389373753e-09,
          -1.1426135335943823e-09,
          -1.1437529885813706e-09,
          -1.152170812216189e-09,
          -1.1491289509879204e-09,
          -1.1534925781481118e-09,
          -1.1642932881839592e-09,
          -1.1634658400786413e-09,
          -1.1197971095548763e-09,
          -1.1384413757547273e-09,
          -1.1242277186052599e-09,
          -1.1297435189193903e-09,
          -1.1453628882783e-09,
          -1.1374287112619617e-09,
          -1.125249278748755e-09,
          -1.1445822356988786e-09,
          -1.1436161067591863e-09,
          -1.153343278154825e-09,
          -1.142955250345881e-09,
          -1.1317624422546528e-09,
          -1.1422064357498846e-09,
          -1.125496989255826e-09,
          -1.1464360422950612e-09,
          -1.1125620430426812e-09,
          -1.1045998923088011e-09,
          -1.1370146417896786e-09,
          -1.1450664844662766e-09,
          -1.1057458616494918e-09,
          -1.1158250031055716e-09,
          -1.126224597188241e-09,
          -1.116386539383895e-09,
          -1.104063694637693e-09,
          -1.10816601014683e-09,
          -1.114784818936127e-09,
          -1.1145349253608416e-09,
          -1.1217486593057537e-09,
          -1.1176306641125437e-09,
          -1.110337394585959e-09,
          -1.0861425307242329e-09,
          -1.0790299082496515e-09,
          -1.1261757237385643e-09,
          -1.1318738055823058e-09,
          -1.0244244517873177e-09,
          -1.0416329769647855e-09,
          -1.0921528900924983e-09,
          -1.0763939798743339e-09,
          -1.094816572578489e-09,
          -1.0803419578604904e-09,
          -1.0961965524387221e-09,
          -9.909437301587601e-10,
          -1.0995794055758455e-09,
          -1.0833351941493081e-09,
          -1.0837354565232776e-09,
          -1.1176269017827128e-09,
          -1.1063388406500673e-09,
          -1.087141049248383e-09,
          -1.1143858623307852e-09,
          -1.0687076782076468e-09,
          -1.092802267626572e-09,
          -1.1127129448103448e-09,
          -1.1206645435240474e-09,
          -1.11009723944363e-09,
          -1.1100260545612947e-09,
          -1.1112605739638784e-09,
          -1.0920618720118074e-09,
          -1.0742507783675668e-09,
          -1.018109071166256e-09,
          -1.0601152553909728e-09,
          -1.0910299590159391e-09,
          -1.0572478371310394e-09,
          -1.0672220616067781e-09,
          -1.0892107717666823e-09
         ],
         "y0": " ",
         "yaxis": "y"
        }
       ],
       "layout": {
        "boxmode": "group",
        "legend": {
         "tracegroupgap": 0
        },
        "margin": {
         "t": 60
        },
        "template": {
         "data": {
          "bar": [
           {
            "error_x": {
             "color": "#2a3f5f"
            },
            "error_y": {
             "color": "#2a3f5f"
            },
            "marker": {
             "line": {
              "color": "#E5ECF6",
              "width": 0.5
             },
             "pattern": {
              "fillmode": "overlay",
              "size": 10,
              "solidity": 0.2
             }
            },
            "type": "bar"
           }
          ],
          "barpolar": [
           {
            "marker": {
             "line": {
              "color": "#E5ECF6",
              "width": 0.5
             },
             "pattern": {
              "fillmode": "overlay",
              "size": 10,
              "solidity": 0.2
             }
            },
            "type": "barpolar"
           }
          ],
          "carpet": [
           {
            "aaxis": {
             "endlinecolor": "#2a3f5f",
             "gridcolor": "white",
             "linecolor": "white",
             "minorgridcolor": "white",
             "startlinecolor": "#2a3f5f"
            },
            "baxis": {
             "endlinecolor": "#2a3f5f",
             "gridcolor": "white",
             "linecolor": "white",
             "minorgridcolor": "white",
             "startlinecolor": "#2a3f5f"
            },
            "type": "carpet"
           }
          ],
          "choropleth": [
           {
            "colorbar": {
             "outlinewidth": 0,
             "ticks": ""
            },
            "type": "choropleth"
           }
          ],
          "contour": [
           {
            "colorbar": {
             "outlinewidth": 0,
             "ticks": ""
            },
            "colorscale": [
             [
              0,
              "#0d0887"
             ],
             [
              0.1111111111111111,
              "#46039f"
             ],
             [
              0.2222222222222222,
              "#7201a8"
             ],
             [
              0.3333333333333333,
              "#9c179e"
             ],
             [
              0.4444444444444444,
              "#bd3786"
             ],
             [
              0.5555555555555556,
              "#d8576b"
             ],
             [
              0.6666666666666666,
              "#ed7953"
             ],
             [
              0.7777777777777778,
              "#fb9f3a"
             ],
             [
              0.8888888888888888,
              "#fdca26"
             ],
             [
              1,
              "#f0f921"
             ]
            ],
            "type": "contour"
           }
          ],
          "contourcarpet": [
           {
            "colorbar": {
             "outlinewidth": 0,
             "ticks": ""
            },
            "type": "contourcarpet"
           }
          ],
          "heatmap": [
           {
            "colorbar": {
             "outlinewidth": 0,
             "ticks": ""
            },
            "colorscale": [
             [
              0,
              "#0d0887"
             ],
             [
              0.1111111111111111,
              "#46039f"
             ],
             [
              0.2222222222222222,
              "#7201a8"
             ],
             [
              0.3333333333333333,
              "#9c179e"
             ],
             [
              0.4444444444444444,
              "#bd3786"
             ],
             [
              0.5555555555555556,
              "#d8576b"
             ],
             [
              0.6666666666666666,
              "#ed7953"
             ],
             [
              0.7777777777777778,
              "#fb9f3a"
             ],
             [
              0.8888888888888888,
              "#fdca26"
             ],
             [
              1,
              "#f0f921"
             ]
            ],
            "type": "heatmap"
           }
          ],
          "heatmapgl": [
           {
            "colorbar": {
             "outlinewidth": 0,
             "ticks": ""
            },
            "colorscale": [
             [
              0,
              "#0d0887"
             ],
             [
              0.1111111111111111,
              "#46039f"
             ],
             [
              0.2222222222222222,
              "#7201a8"
             ],
             [
              0.3333333333333333,
              "#9c179e"
             ],
             [
              0.4444444444444444,
              "#bd3786"
             ],
             [
              0.5555555555555556,
              "#d8576b"
             ],
             [
              0.6666666666666666,
              "#ed7953"
             ],
             [
              0.7777777777777778,
              "#fb9f3a"
             ],
             [
              0.8888888888888888,
              "#fdca26"
             ],
             [
              1,
              "#f0f921"
             ]
            ],
            "type": "heatmapgl"
           }
          ],
          "histogram": [
           {
            "marker": {
             "pattern": {
              "fillmode": "overlay",
              "size": 10,
              "solidity": 0.2
             }
            },
            "type": "histogram"
           }
          ],
          "histogram2d": [
           {
            "colorbar": {
             "outlinewidth": 0,
             "ticks": ""
            },
            "colorscale": [
             [
              0,
              "#0d0887"
             ],
             [
              0.1111111111111111,
              "#46039f"
             ],
             [
              0.2222222222222222,
              "#7201a8"
             ],
             [
              0.3333333333333333,
              "#9c179e"
             ],
             [
              0.4444444444444444,
              "#bd3786"
             ],
             [
              0.5555555555555556,
              "#d8576b"
             ],
             [
              0.6666666666666666,
              "#ed7953"
             ],
             [
              0.7777777777777778,
              "#fb9f3a"
             ],
             [
              0.8888888888888888,
              "#fdca26"
             ],
             [
              1,
              "#f0f921"
             ]
            ],
            "type": "histogram2d"
           }
          ],
          "histogram2dcontour": [
           {
            "colorbar": {
             "outlinewidth": 0,
             "ticks": ""
            },
            "colorscale": [
             [
              0,
              "#0d0887"
             ],
             [
              0.1111111111111111,
              "#46039f"
             ],
             [
              0.2222222222222222,
              "#7201a8"
             ],
             [
              0.3333333333333333,
              "#9c179e"
             ],
             [
              0.4444444444444444,
              "#bd3786"
             ],
             [
              0.5555555555555556,
              "#d8576b"
             ],
             [
              0.6666666666666666,
              "#ed7953"
             ],
             [
              0.7777777777777778,
              "#fb9f3a"
             ],
             [
              0.8888888888888888,
              "#fdca26"
             ],
             [
              1,
              "#f0f921"
             ]
            ],
            "type": "histogram2dcontour"
           }
          ],
          "mesh3d": [
           {
            "colorbar": {
             "outlinewidth": 0,
             "ticks": ""
            },
            "type": "mesh3d"
           }
          ],
          "parcoords": [
           {
            "line": {
             "colorbar": {
              "outlinewidth": 0,
              "ticks": ""
             }
            },
            "type": "parcoords"
           }
          ],
          "pie": [
           {
            "automargin": true,
            "type": "pie"
           }
          ],
          "scatter": [
           {
            "marker": {
             "colorbar": {
              "outlinewidth": 0,
              "ticks": ""
             }
            },
            "type": "scatter"
           }
          ],
          "scatter3d": [
           {
            "line": {
             "colorbar": {
              "outlinewidth": 0,
              "ticks": ""
             }
            },
            "marker": {
             "colorbar": {
              "outlinewidth": 0,
              "ticks": ""
             }
            },
            "type": "scatter3d"
           }
          ],
          "scattercarpet": [
           {
            "marker": {
             "colorbar": {
              "outlinewidth": 0,
              "ticks": ""
             }
            },
            "type": "scattercarpet"
           }
          ],
          "scattergeo": [
           {
            "marker": {
             "colorbar": {
              "outlinewidth": 0,
              "ticks": ""
             }
            },
            "type": "scattergeo"
           }
          ],
          "scattergl": [
           {
            "marker": {
             "colorbar": {
              "outlinewidth": 0,
              "ticks": ""
             }
            },
            "type": "scattergl"
           }
          ],
          "scattermapbox": [
           {
            "marker": {
             "colorbar": {
              "outlinewidth": 0,
              "ticks": ""
             }
            },
            "type": "scattermapbox"
           }
          ],
          "scatterpolar": [
           {
            "marker": {
             "colorbar": {
              "outlinewidth": 0,
              "ticks": ""
             }
            },
            "type": "scatterpolar"
           }
          ],
          "scatterpolargl": [
           {
            "marker": {
             "colorbar": {
              "outlinewidth": 0,
              "ticks": ""
             }
            },
            "type": "scatterpolargl"
           }
          ],
          "scatterternary": [
           {
            "marker": {
             "colorbar": {
              "outlinewidth": 0,
              "ticks": ""
             }
            },
            "type": "scatterternary"
           }
          ],
          "surface": [
           {
            "colorbar": {
             "outlinewidth": 0,
             "ticks": ""
            },
            "colorscale": [
             [
              0,
              "#0d0887"
             ],
             [
              0.1111111111111111,
              "#46039f"
             ],
             [
              0.2222222222222222,
              "#7201a8"
             ],
             [
              0.3333333333333333,
              "#9c179e"
             ],
             [
              0.4444444444444444,
              "#bd3786"
             ],
             [
              0.5555555555555556,
              "#d8576b"
             ],
             [
              0.6666666666666666,
              "#ed7953"
             ],
             [
              0.7777777777777778,
              "#fb9f3a"
             ],
             [
              0.8888888888888888,
              "#fdca26"
             ],
             [
              1,
              "#f0f921"
             ]
            ],
            "type": "surface"
           }
          ],
          "table": [
           {
            "cells": {
             "fill": {
              "color": "#EBF0F8"
             },
             "line": {
              "color": "white"
             }
            },
            "header": {
             "fill": {
              "color": "#C8D4E3"
             },
             "line": {
              "color": "white"
             }
            },
            "type": "table"
           }
          ]
         },
         "layout": {
          "annotationdefaults": {
           "arrowcolor": "#2a3f5f",
           "arrowhead": 0,
           "arrowwidth": 1
          },
          "autotypenumbers": "strict",
          "coloraxis": {
           "colorbar": {
            "outlinewidth": 0,
            "ticks": ""
           }
          },
          "colorscale": {
           "diverging": [
            [
             0,
             "#8e0152"
            ],
            [
             0.1,
             "#c51b7d"
            ],
            [
             0.2,
             "#de77ae"
            ],
            [
             0.3,
             "#f1b6da"
            ],
            [
             0.4,
             "#fde0ef"
            ],
            [
             0.5,
             "#f7f7f7"
            ],
            [
             0.6,
             "#e6f5d0"
            ],
            [
             0.7,
             "#b8e186"
            ],
            [
             0.8,
             "#7fbc41"
            ],
            [
             0.9,
             "#4d9221"
            ],
            [
             1,
             "#276419"
            ]
           ],
           "sequential": [
            [
             0,
             "#0d0887"
            ],
            [
             0.1111111111111111,
             "#46039f"
            ],
            [
             0.2222222222222222,
             "#7201a8"
            ],
            [
             0.3333333333333333,
             "#9c179e"
            ],
            [
             0.4444444444444444,
             "#bd3786"
            ],
            [
             0.5555555555555556,
             "#d8576b"
            ],
            [
             0.6666666666666666,
             "#ed7953"
            ],
            [
             0.7777777777777778,
             "#fb9f3a"
            ],
            [
             0.8888888888888888,
             "#fdca26"
            ],
            [
             1,
             "#f0f921"
            ]
           ],
           "sequentialminus": [
            [
             0,
             "#0d0887"
            ],
            [
             0.1111111111111111,
             "#46039f"
            ],
            [
             0.2222222222222222,
             "#7201a8"
            ],
            [
             0.3333333333333333,
             "#9c179e"
            ],
            [
             0.4444444444444444,
             "#bd3786"
            ],
            [
             0.5555555555555556,
             "#d8576b"
            ],
            [
             0.6666666666666666,
             "#ed7953"
            ],
            [
             0.7777777777777778,
             "#fb9f3a"
            ],
            [
             0.8888888888888888,
             "#fdca26"
            ],
            [
             1,
             "#f0f921"
            ]
           ]
          },
          "colorway": [
           "#636efa",
           "#EF553B",
           "#00cc96",
           "#ab63fa",
           "#FFA15A",
           "#19d3f3",
           "#FF6692",
           "#B6E880",
           "#FF97FF",
           "#FECB52"
          ],
          "font": {
           "color": "#2a3f5f"
          },
          "geo": {
           "bgcolor": "white",
           "lakecolor": "white",
           "landcolor": "#E5ECF6",
           "showlakes": true,
           "showland": true,
           "subunitcolor": "white"
          },
          "hoverlabel": {
           "align": "left"
          },
          "hovermode": "closest",
          "mapbox": {
           "style": "light"
          },
          "paper_bgcolor": "white",
          "plot_bgcolor": "#E5ECF6",
          "polar": {
           "angularaxis": {
            "gridcolor": "white",
            "linecolor": "white",
            "ticks": ""
           },
           "bgcolor": "#E5ECF6",
           "radialaxis": {
            "gridcolor": "white",
            "linecolor": "white",
            "ticks": ""
           }
          },
          "scene": {
           "xaxis": {
            "backgroundcolor": "#E5ECF6",
            "gridcolor": "white",
            "gridwidth": 2,
            "linecolor": "white",
            "showbackground": true,
            "ticks": "",
            "zerolinecolor": "white"
           },
           "yaxis": {
            "backgroundcolor": "#E5ECF6",
            "gridcolor": "white",
            "gridwidth": 2,
            "linecolor": "white",
            "showbackground": true,
            "ticks": "",
            "zerolinecolor": "white"
           },
           "zaxis": {
            "backgroundcolor": "#E5ECF6",
            "gridcolor": "white",
            "gridwidth": 2,
            "linecolor": "white",
            "showbackground": true,
            "ticks": "",
            "zerolinecolor": "white"
           }
          },
          "shapedefaults": {
           "line": {
            "color": "#2a3f5f"
           }
          },
          "ternary": {
           "aaxis": {
            "gridcolor": "white",
            "linecolor": "white",
            "ticks": ""
           },
           "baxis": {
            "gridcolor": "white",
            "linecolor": "white",
            "ticks": ""
           },
           "bgcolor": "#E5ECF6",
           "caxis": {
            "gridcolor": "white",
            "linecolor": "white",
            "ticks": ""
           }
          },
          "title": {
           "x": 0.05
          },
          "xaxis": {
           "automargin": true,
           "gridcolor": "white",
           "linecolor": "white",
           "ticks": "",
           "title": {
            "standoff": 15
           },
           "zerolinecolor": "white",
           "zerolinewidth": 2
          },
          "yaxis": {
           "automargin": true,
           "gridcolor": "white",
           "linecolor": "white",
           "ticks": "",
           "title": {
            "standoff": 15
           },
           "zerolinecolor": "white",
           "zerolinewidth": 2
          }
         }
        },
        "xaxis": {
         "anchor": "y",
         "domain": [
          0,
          1
         ],
         "title": {
          "text": "Surface"
         }
        },
        "yaxis": {
         "anchor": "x",
         "domain": [
          0,
          1
         ],
         "title": {
          "text": "Specslo"
         }
        }
       }
      },
      "text/html": [
       "<div>                            <div id=\"ee2670f5-06ca-4c21-9a5c-60cc9abf5991\" class=\"plotly-graph-div\" style=\"height:525px; width:100%;\"></div>            <script type=\"text/javascript\">                require([\"plotly\"], function(Plotly) {                    window.PLOTLYENV=window.PLOTLYENV || {};                                    if (document.getElementById(\"ee2670f5-06ca-4c21-9a5c-60cc9abf5991\")) {                    Plotly.newPlot(                        \"ee2670f5-06ca-4c21-9a5c-60cc9abf5991\",                        [{\"alignmentgroup\":\"True\",\"boxpoints\":\"all\",\"hovertemplate\":\"Surface=%{x}<br>Specslo=%{y}<extra></extra>\",\"legendgroup\":\"\",\"marker\":{\"color\":\"#636efa\"},\"name\":\"\",\"notched\":false,\"offsetgroup\":\"\",\"orientation\":\"v\",\"showlegend\":false,\"type\":\"box\",\"x\":[\"Wet Asphalt\",\"Wet Asphalt\",\"Wet Asphalt\",\"Wet Asphalt\",\"Wet Asphalt\",\"Wet Asphalt\",\"Wet Asphalt\",\"Wet Asphalt\",\"Wet Asphalt\",\"Wet Asphalt\",\"Wet Asphalt\",\"Wet Asphalt\",\"Wet Asphalt\",\"Wet Asphalt\",\"Wet Asphalt\",\"Wet Asphalt\",\"Wet Asphalt\",\"Wet Asphalt\",\"Wet Asphalt\",\"Wet Asphalt\",\"Wet Asphalt\",\"Wet Asphalt\",\"Wet Asphalt\",\"Wet Asphalt\",\"Wet Asphalt\",\"Wet Asphalt\",\"Wet Asphalt\",\"Wet Asphalt\",\"Wet Asphalt\",\"Wet Asphalt\",\"Wet Asphalt\",\"Wet Asphalt\",\"Wet Asphalt\",\"Wet Asphalt\",\"Wet Asphalt\",\"Wet Asphalt\",\"Wet Asphalt\",\"Wet Asphalt\",\"Wet Asphalt\",\"Wet Asphalt\",\"Wet Asphalt\",\"Wet Asphalt\",\"Wet Asphalt\",\"Wet Asphalt\",\"Wet Asphalt\",\"Wet Asphalt\",\"Wet Asphalt\",\"Wet Asphalt\",\"Wet Asphalt\",\"Wet Asphalt\",\"Wet Asphalt\",\"Wet Asphalt\",\"Wet Asphalt\",\"Wet Asphalt\",\"Wet Asphalt\",\"Wet Asphalt\",\"Wet Asphalt\",\"Wet Asphalt\",\"Wet Asphalt\",\"Wet Asphalt\",\"Wet Asphalt\",\"Wet Asphalt\",\"Wet Asphalt\",\"Wet Asphalt\",\"Wet Asphalt\",\"Wet Asphalt\",\"Wet Asphalt\",\"Wet Asphalt\",\"Wet Asphalt\",\"Wet Asphalt\",\"Wet Asphalt\",\"Wet Asphalt\",\"Wet Asphalt\",\"Wet Asphalt\",\"Wet Asphalt\",\"Wet Asphalt\",\"Wet Asphalt\",\"Wet Asphalt\",\"Wet Asphalt\",\"Wet Asphalt\",\"Wet Asphalt\",\"Wet Asphalt\",\"Wet Asphalt\",\"Wet Asphalt\",\"Wet Asphalt\",\"Wet Asphalt\",\"Wet Asphalt\",\"Wet Asphalt\",\"Wet Asphalt\",\"Wet Asphalt\",\"Wet Asphalt\",\"Wet Asphalt\",\"Wet Asphalt\",\"Wet Asphalt\",\"Wet Asphalt\",\"Wet Asphalt\",\"Wet Asphalt\",\"Wet Asphalt\",\"Wet Asphalt\",\"Wet Asphalt\",\"Wet Asphalt\",\"Wet Asphalt\",\"Wet Asphalt\",\"Wet Asphalt\",\"Wet Asphalt\",\"Wet Asphalt\",\"Wet Asphalt\",\"Wet Asphalt\",\"Wet Asphalt\",\"Gravel\",\"Gravel\",\"Gravel\",\"Gravel\",\"Gravel\",\"Gravel\",\"Gravel\",\"Gravel\",\"Gravel\",\"Gravel\",\"Gravel\",\"Gravel\",\"Gravel\",\"Gravel\",\"Gravel\",\"Gravel\",\"Gravel\",\"Gravel\",\"Gravel\",\"Gravel\",\"Gravel\",\"Gravel\",\"Gravel\",\"Gravel\",\"Gravel\",\"Gravel\",\"Gravel\",\"Gravel\",\"Gravel\",\"Gravel\"],\"x0\":\" \",\"xaxis\":\"x\",\"y\":[-1.1362907766109597e-09,-1.1438320426466055e-09,-1.1315435959819757e-09,-1.143904980654968e-09,-1.1464662047839264e-09,-1.1604579425216852e-09,-1.144327643783608e-09,-1.1391748245594928e-09,-1.129975323447821e-09,-1.1577315038615479e-09,-1.1267843995585937e-09,-1.1070917554102055e-09,-1.1206081872249537e-09,-1.1165157410476909e-09,-1.1050588180085007e-09,-1.098605506660346e-09,-1.111965487335228e-09,-1.1322882546958056e-09,-1.1394767486202622e-09,-1.1425661500448559e-09,-1.1548545729663463e-09,-1.1532892932992088e-09,-1.140284773675901e-09,-1.1439783348952894e-09,-1.1441954086558436e-09,-1.152420453968385e-09,-1.1469026762723244e-09,-1.1430398386560972e-09,-1.1509937619388898e-09,-1.151558277906871e-09,-1.1511225873637003e-09,-1.1419782845015002e-09,-1.1245445125991834e-09,-1.13267681927563e-09,-1.1511784778575648e-09,-1.1518989547575278e-09,-1.1565122961879113e-09,-1.1536651542911495e-09,-1.1457407321439684e-09,-1.1446212474985846e-09,-1.1517994356254792e-09,-1.13467283301594e-09,-1.125498344308155e-09,-1.124914400617844e-09,-1.1121189291278676e-09,-1.1596267303538149e-09,-1.1608938656471217e-09,-1.1380789458745282e-09,-1.132822975387501e-09,-1.1313081052057103e-09,-1.1350075844863511e-09,-1.1206908370135062e-09,-1.1367147885776573e-09,-1.1205061183865482e-09,-1.1360086214084462e-09,-1.1459980550181189e-09,-1.1405754395020174e-09,-1.1256073055951609e-09,-1.1248869545973756e-09,-1.110872456094255e-09,-1.1504901372473109e-09,-1.1633601419150886e-09,-1.1561838540831269e-09,-1.1512781552264485e-09,-1.13824325712491e-09,-1.1235235294141111e-09,-1.1262076334287343e-09,-1.1325141389373753e-09,-1.1426135335943823e-09,-1.1437529885813706e-09,-1.152170812216189e-09,-1.1491289509879204e-09,-1.1534925781481118e-09,-1.1642932881839592e-09,-1.1634658400786413e-09,-1.1197971095548763e-09,-1.1384413757547273e-09,-1.1242277186052599e-09,-1.1297435189193903e-09,-1.1453628882783e-09,-1.1374287112619617e-09,-1.125249278748755e-09,-1.1445822356988786e-09,-1.1436161067591863e-09,-1.153343278154825e-09,-1.142955250345881e-09,-1.1317624422546528e-09,-1.1422064357498846e-09,-1.125496989255826e-09,-1.1464360422950612e-09,-1.1125620430426812e-09,-1.1045998923088011e-09,-1.1370146417896786e-09,-1.1450664844662766e-09,-1.1057458616494918e-09,-1.1158250031055716e-09,-1.126224597188241e-09,-1.116386539383895e-09,-1.104063694637693e-09,-1.10816601014683e-09,-1.114784818936127e-09,-1.1145349253608416e-09,-1.1217486593057537e-09,-1.1176306641125437e-09,-1.110337394585959e-09,-1.0861425307242329e-09,-1.0790299082496515e-09,-1.1261757237385643e-09,-1.1318738055823058e-09,-1.0244244517873177e-09,-1.0416329769647855e-09,-1.0921528900924983e-09,-1.0763939798743339e-09,-1.094816572578489e-09,-1.0803419578604904e-09,-1.0961965524387221e-09,-9.909437301587601e-10,-1.0995794055758455e-09,-1.0833351941493081e-09,-1.0837354565232776e-09,-1.1176269017827128e-09,-1.1063388406500673e-09,-1.087141049248383e-09,-1.1143858623307852e-09,-1.0687076782076468e-09,-1.092802267626572e-09,-1.1127129448103448e-09,-1.1206645435240474e-09,-1.11009723944363e-09,-1.1100260545612947e-09,-1.1112605739638784e-09,-1.0920618720118074e-09,-1.0742507783675668e-09,-1.018109071166256e-09,-1.0601152553909728e-09,-1.0910299590159391e-09,-1.0572478371310394e-09,-1.0672220616067781e-09,-1.0892107717666823e-09],\"y0\":\" \",\"yaxis\":\"y\"}],                        {\"boxmode\":\"group\",\"legend\":{\"tracegroupgap\":0},\"margin\":{\"t\":60},\"template\":{\"data\":{\"bar\":[{\"error_x\":{\"color\":\"#2a3f5f\"},\"error_y\":{\"color\":\"#2a3f5f\"},\"marker\":{\"line\":{\"color\":\"#E5ECF6\",\"width\":0.5},\"pattern\":{\"fillmode\":\"overlay\",\"size\":10,\"solidity\":0.2}},\"type\":\"bar\"}],\"barpolar\":[{\"marker\":{\"line\":{\"color\":\"#E5ECF6\",\"width\":0.5},\"pattern\":{\"fillmode\":\"overlay\",\"size\":10,\"solidity\":0.2}},\"type\":\"barpolar\"}],\"carpet\":[{\"aaxis\":{\"endlinecolor\":\"#2a3f5f\",\"gridcolor\":\"white\",\"linecolor\":\"white\",\"minorgridcolor\":\"white\",\"startlinecolor\":\"#2a3f5f\"},\"baxis\":{\"endlinecolor\":\"#2a3f5f\",\"gridcolor\":\"white\",\"linecolor\":\"white\",\"minorgridcolor\":\"white\",\"startlinecolor\":\"#2a3f5f\"},\"type\":\"carpet\"}],\"choropleth\":[{\"colorbar\":{\"outlinewidth\":0,\"ticks\":\"\"},\"type\":\"choropleth\"}],\"contour\":[{\"colorbar\":{\"outlinewidth\":0,\"ticks\":\"\"},\"colorscale\":[[0.0,\"#0d0887\"],[0.1111111111111111,\"#46039f\"],[0.2222222222222222,\"#7201a8\"],[0.3333333333333333,\"#9c179e\"],[0.4444444444444444,\"#bd3786\"],[0.5555555555555556,\"#d8576b\"],[0.6666666666666666,\"#ed7953\"],[0.7777777777777778,\"#fb9f3a\"],[0.8888888888888888,\"#fdca26\"],[1.0,\"#f0f921\"]],\"type\":\"contour\"}],\"contourcarpet\":[{\"colorbar\":{\"outlinewidth\":0,\"ticks\":\"\"},\"type\":\"contourcarpet\"}],\"heatmap\":[{\"colorbar\":{\"outlinewidth\":0,\"ticks\":\"\"},\"colorscale\":[[0.0,\"#0d0887\"],[0.1111111111111111,\"#46039f\"],[0.2222222222222222,\"#7201a8\"],[0.3333333333333333,\"#9c179e\"],[0.4444444444444444,\"#bd3786\"],[0.5555555555555556,\"#d8576b\"],[0.6666666666666666,\"#ed7953\"],[0.7777777777777778,\"#fb9f3a\"],[0.8888888888888888,\"#fdca26\"],[1.0,\"#f0f921\"]],\"type\":\"heatmap\"}],\"heatmapgl\":[{\"colorbar\":{\"outlinewidth\":0,\"ticks\":\"\"},\"colorscale\":[[0.0,\"#0d0887\"],[0.1111111111111111,\"#46039f\"],[0.2222222222222222,\"#7201a8\"],[0.3333333333333333,\"#9c179e\"],[0.4444444444444444,\"#bd3786\"],[0.5555555555555556,\"#d8576b\"],[0.6666666666666666,\"#ed7953\"],[0.7777777777777778,\"#fb9f3a\"],[0.8888888888888888,\"#fdca26\"],[1.0,\"#f0f921\"]],\"type\":\"heatmapgl\"}],\"histogram\":[{\"marker\":{\"pattern\":{\"fillmode\":\"overlay\",\"size\":10,\"solidity\":0.2}},\"type\":\"histogram\"}],\"histogram2d\":[{\"colorbar\":{\"outlinewidth\":0,\"ticks\":\"\"},\"colorscale\":[[0.0,\"#0d0887\"],[0.1111111111111111,\"#46039f\"],[0.2222222222222222,\"#7201a8\"],[0.3333333333333333,\"#9c179e\"],[0.4444444444444444,\"#bd3786\"],[0.5555555555555556,\"#d8576b\"],[0.6666666666666666,\"#ed7953\"],[0.7777777777777778,\"#fb9f3a\"],[0.8888888888888888,\"#fdca26\"],[1.0,\"#f0f921\"]],\"type\":\"histogram2d\"}],\"histogram2dcontour\":[{\"colorbar\":{\"outlinewidth\":0,\"ticks\":\"\"},\"colorscale\":[[0.0,\"#0d0887\"],[0.1111111111111111,\"#46039f\"],[0.2222222222222222,\"#7201a8\"],[0.3333333333333333,\"#9c179e\"],[0.4444444444444444,\"#bd3786\"],[0.5555555555555556,\"#d8576b\"],[0.6666666666666666,\"#ed7953\"],[0.7777777777777778,\"#fb9f3a\"],[0.8888888888888888,\"#fdca26\"],[1.0,\"#f0f921\"]],\"type\":\"histogram2dcontour\"}],\"mesh3d\":[{\"colorbar\":{\"outlinewidth\":0,\"ticks\":\"\"},\"type\":\"mesh3d\"}],\"parcoords\":[{\"line\":{\"colorbar\":{\"outlinewidth\":0,\"ticks\":\"\"}},\"type\":\"parcoords\"}],\"pie\":[{\"automargin\":true,\"type\":\"pie\"}],\"scatter\":[{\"marker\":{\"colorbar\":{\"outlinewidth\":0,\"ticks\":\"\"}},\"type\":\"scatter\"}],\"scatter3d\":[{\"line\":{\"colorbar\":{\"outlinewidth\":0,\"ticks\":\"\"}},\"marker\":{\"colorbar\":{\"outlinewidth\":0,\"ticks\":\"\"}},\"type\":\"scatter3d\"}],\"scattercarpet\":[{\"marker\":{\"colorbar\":{\"outlinewidth\":0,\"ticks\":\"\"}},\"type\":\"scattercarpet\"}],\"scattergeo\":[{\"marker\":{\"colorbar\":{\"outlinewidth\":0,\"ticks\":\"\"}},\"type\":\"scattergeo\"}],\"scattergl\":[{\"marker\":{\"colorbar\":{\"outlinewidth\":0,\"ticks\":\"\"}},\"type\":\"scattergl\"}],\"scattermapbox\":[{\"marker\":{\"colorbar\":{\"outlinewidth\":0,\"ticks\":\"\"}},\"type\":\"scattermapbox\"}],\"scatterpolar\":[{\"marker\":{\"colorbar\":{\"outlinewidth\":0,\"ticks\":\"\"}},\"type\":\"scatterpolar\"}],\"scatterpolargl\":[{\"marker\":{\"colorbar\":{\"outlinewidth\":0,\"ticks\":\"\"}},\"type\":\"scatterpolargl\"}],\"scatterternary\":[{\"marker\":{\"colorbar\":{\"outlinewidth\":0,\"ticks\":\"\"}},\"type\":\"scatterternary\"}],\"surface\":[{\"colorbar\":{\"outlinewidth\":0,\"ticks\":\"\"},\"colorscale\":[[0.0,\"#0d0887\"],[0.1111111111111111,\"#46039f\"],[0.2222222222222222,\"#7201a8\"],[0.3333333333333333,\"#9c179e\"],[0.4444444444444444,\"#bd3786\"],[0.5555555555555556,\"#d8576b\"],[0.6666666666666666,\"#ed7953\"],[0.7777777777777778,\"#fb9f3a\"],[0.8888888888888888,\"#fdca26\"],[1.0,\"#f0f921\"]],\"type\":\"surface\"}],\"table\":[{\"cells\":{\"fill\":{\"color\":\"#EBF0F8\"},\"line\":{\"color\":\"white\"}},\"header\":{\"fill\":{\"color\":\"#C8D4E3\"},\"line\":{\"color\":\"white\"}},\"type\":\"table\"}]},\"layout\":{\"annotationdefaults\":{\"arrowcolor\":\"#2a3f5f\",\"arrowhead\":0,\"arrowwidth\":1},\"autotypenumbers\":\"strict\",\"coloraxis\":{\"colorbar\":{\"outlinewidth\":0,\"ticks\":\"\"}},\"colorscale\":{\"diverging\":[[0,\"#8e0152\"],[0.1,\"#c51b7d\"],[0.2,\"#de77ae\"],[0.3,\"#f1b6da\"],[0.4,\"#fde0ef\"],[0.5,\"#f7f7f7\"],[0.6,\"#e6f5d0\"],[0.7,\"#b8e186\"],[0.8,\"#7fbc41\"],[0.9,\"#4d9221\"],[1,\"#276419\"]],\"sequential\":[[0.0,\"#0d0887\"],[0.1111111111111111,\"#46039f\"],[0.2222222222222222,\"#7201a8\"],[0.3333333333333333,\"#9c179e\"],[0.4444444444444444,\"#bd3786\"],[0.5555555555555556,\"#d8576b\"],[0.6666666666666666,\"#ed7953\"],[0.7777777777777778,\"#fb9f3a\"],[0.8888888888888888,\"#fdca26\"],[1.0,\"#f0f921\"]],\"sequentialminus\":[[0.0,\"#0d0887\"],[0.1111111111111111,\"#46039f\"],[0.2222222222222222,\"#7201a8\"],[0.3333333333333333,\"#9c179e\"],[0.4444444444444444,\"#bd3786\"],[0.5555555555555556,\"#d8576b\"],[0.6666666666666666,\"#ed7953\"],[0.7777777777777778,\"#fb9f3a\"],[0.8888888888888888,\"#fdca26\"],[1.0,\"#f0f921\"]]},\"colorway\":[\"#636efa\",\"#EF553B\",\"#00cc96\",\"#ab63fa\",\"#FFA15A\",\"#19d3f3\",\"#FF6692\",\"#B6E880\",\"#FF97FF\",\"#FECB52\"],\"font\":{\"color\":\"#2a3f5f\"},\"geo\":{\"bgcolor\":\"white\",\"lakecolor\":\"white\",\"landcolor\":\"#E5ECF6\",\"showlakes\":true,\"showland\":true,\"subunitcolor\":\"white\"},\"hoverlabel\":{\"align\":\"left\"},\"hovermode\":\"closest\",\"mapbox\":{\"style\":\"light\"},\"paper_bgcolor\":\"white\",\"plot_bgcolor\":\"#E5ECF6\",\"polar\":{\"angularaxis\":{\"gridcolor\":\"white\",\"linecolor\":\"white\",\"ticks\":\"\"},\"bgcolor\":\"#E5ECF6\",\"radialaxis\":{\"gridcolor\":\"white\",\"linecolor\":\"white\",\"ticks\":\"\"}},\"scene\":{\"xaxis\":{\"backgroundcolor\":\"#E5ECF6\",\"gridcolor\":\"white\",\"gridwidth\":2,\"linecolor\":\"white\",\"showbackground\":true,\"ticks\":\"\",\"zerolinecolor\":\"white\"},\"yaxis\":{\"backgroundcolor\":\"#E5ECF6\",\"gridcolor\":\"white\",\"gridwidth\":2,\"linecolor\":\"white\",\"showbackground\":true,\"ticks\":\"\",\"zerolinecolor\":\"white\"},\"zaxis\":{\"backgroundcolor\":\"#E5ECF6\",\"gridcolor\":\"white\",\"gridwidth\":2,\"linecolor\":\"white\",\"showbackground\":true,\"ticks\":\"\",\"zerolinecolor\":\"white\"}},\"shapedefaults\":{\"line\":{\"color\":\"#2a3f5f\"}},\"ternary\":{\"aaxis\":{\"gridcolor\":\"white\",\"linecolor\":\"white\",\"ticks\":\"\"},\"baxis\":{\"gridcolor\":\"white\",\"linecolor\":\"white\",\"ticks\":\"\"},\"bgcolor\":\"#E5ECF6\",\"caxis\":{\"gridcolor\":\"white\",\"linecolor\":\"white\",\"ticks\":\"\"}},\"title\":{\"x\":0.05},\"xaxis\":{\"automargin\":true,\"gridcolor\":\"white\",\"linecolor\":\"white\",\"ticks\":\"\",\"title\":{\"standoff\":15},\"zerolinecolor\":\"white\",\"zerolinewidth\":2},\"yaxis\":{\"automargin\":true,\"gridcolor\":\"white\",\"linecolor\":\"white\",\"ticks\":\"\",\"title\":{\"standoff\":15},\"zerolinecolor\":\"white\",\"zerolinewidth\":2}}},\"xaxis\":{\"anchor\":\"y\",\"domain\":[0.0,1.0],\"title\":{\"text\":\"Surface\"}},\"yaxis\":{\"anchor\":\"x\",\"domain\":[0.0,1.0],\"title\":{\"text\":\"Specslo\"}}},                        {\"responsive\": true}                    ).then(function(){\n",
       "                            \n",
       "var gd = document.getElementById('ee2670f5-06ca-4c21-9a5c-60cc9abf5991');\n",
       "var x = new MutationObserver(function (mutations, observer) {{\n",
       "        var display = window.getComputedStyle(gd).display;\n",
       "        if (!display || display === 'none') {{\n",
       "            console.log([gd, 'removed!']);\n",
       "            Plotly.purge(gd);\n",
       "            observer.disconnect();\n",
       "        }}\n",
       "}});\n",
       "\n",
       "// Listen for the removal of the full notebook cells\n",
       "var notebookContainer = gd.closest('#notebook-container');\n",
       "if (notebookContainer) {{\n",
       "    x.observe(notebookContainer, {childList: true});\n",
       "}}\n",
       "\n",
       "// Listen for the clearing of the current output cell\n",
       "var outputEl = gd.closest('.output');\n",
       "if (outputEl) {{\n",
       "    x.observe(outputEl, {childList: true});\n",
       "}}\n",
       "\n",
       "                        })                };                });            </script>        </div>"
      ]
     },
     "metadata": {},
     "output_type": "display_data"
    }
   ],
   "source": [
    "fig = px.box(alldf, x=\"Surface\", y=\"Specslo\", points = 'all')\n",
    "fig.show()"
   ]
  },
  {
   "cell_type": "code",
   "execution_count": 151,
   "metadata": {},
   "outputs": [
    {
     "data": {
      "application/vnd.plotly.v1+json": {
       "config": {
        "plotlyServerURL": "https://plot.ly"
       },
       "data": [
        {
         "alignmentgroup": "True",
         "boxpoints": "all",
         "hovertemplate": "Surface=%{x}<br>Specslof=%{y}<extra></extra>",
         "legendgroup": "",
         "marker": {
          "color": "#636efa"
         },
         "name": "",
         "notched": false,
         "offsetgroup": "",
         "orientation": "v",
         "showlegend": false,
         "type": "box",
         "x": [
          "Wet Asphalt",
          "Wet Asphalt",
          "Wet Asphalt",
          "Wet Asphalt",
          "Wet Asphalt",
          "Wet Asphalt",
          "Wet Asphalt",
          "Wet Asphalt",
          "Wet Asphalt",
          "Wet Asphalt",
          "Wet Asphalt",
          "Wet Asphalt",
          "Wet Asphalt",
          "Wet Asphalt",
          "Wet Asphalt",
          "Wet Asphalt",
          "Wet Asphalt",
          "Wet Asphalt",
          "Wet Asphalt",
          "Wet Asphalt",
          "Wet Asphalt",
          "Wet Asphalt",
          "Wet Asphalt",
          "Wet Asphalt",
          "Wet Asphalt",
          "Wet Asphalt",
          "Wet Asphalt",
          "Wet Asphalt",
          "Wet Asphalt",
          "Wet Asphalt",
          "Wet Asphalt",
          "Wet Asphalt",
          "Wet Asphalt",
          "Wet Asphalt",
          "Wet Asphalt",
          "Wet Asphalt",
          "Wet Asphalt",
          "Wet Asphalt",
          "Wet Asphalt",
          "Wet Asphalt",
          "Wet Asphalt",
          "Wet Asphalt",
          "Wet Asphalt",
          "Wet Asphalt",
          "Wet Asphalt",
          "Wet Asphalt",
          "Wet Asphalt",
          "Wet Asphalt",
          "Wet Asphalt",
          "Wet Asphalt",
          "Wet Asphalt",
          "Wet Asphalt",
          "Wet Asphalt",
          "Wet Asphalt",
          "Wet Asphalt",
          "Wet Asphalt",
          "Wet Asphalt",
          "Wet Asphalt",
          "Wet Asphalt",
          "Wet Asphalt",
          "Wet Asphalt",
          "Wet Asphalt",
          "Wet Asphalt",
          "Wet Asphalt",
          "Wet Asphalt",
          "Wet Asphalt",
          "Wet Asphalt",
          "Wet Asphalt",
          "Wet Asphalt",
          "Wet Asphalt",
          "Wet Asphalt",
          "Wet Asphalt",
          "Wet Asphalt",
          "Wet Asphalt",
          "Wet Asphalt",
          "Wet Asphalt",
          "Wet Asphalt",
          "Wet Asphalt",
          "Wet Asphalt",
          "Wet Asphalt",
          "Wet Asphalt",
          "Wet Asphalt",
          "Wet Asphalt",
          "Wet Asphalt",
          "Wet Asphalt",
          "Wet Asphalt",
          "Wet Asphalt",
          "Wet Asphalt",
          "Wet Asphalt",
          "Wet Asphalt",
          "Wet Asphalt",
          "Wet Asphalt",
          "Wet Asphalt",
          "Wet Asphalt",
          "Wet Asphalt",
          "Wet Asphalt",
          "Wet Asphalt",
          "Wet Asphalt",
          "Wet Asphalt",
          "Wet Asphalt",
          "Wet Asphalt",
          "Wet Asphalt",
          "Wet Asphalt",
          "Wet Asphalt",
          "Wet Asphalt",
          "Wet Asphalt",
          "Wet Asphalt",
          "Wet Asphalt",
          "Wet Asphalt",
          "Gravel",
          "Gravel",
          "Gravel",
          "Gravel",
          "Gravel",
          "Gravel",
          "Gravel",
          "Gravel",
          "Gravel",
          "Gravel",
          "Gravel",
          "Gravel",
          "Gravel",
          "Gravel",
          "Gravel",
          "Gravel",
          "Gravel",
          "Gravel",
          "Gravel",
          "Gravel",
          "Gravel",
          "Gravel",
          "Gravel",
          "Gravel",
          "Gravel",
          "Gravel",
          "Gravel",
          "Gravel",
          "Gravel",
          "Gravel"
         ],
         "x0": " ",
         "xaxis": "x",
         "y": [
          -1.127022450382761e-09,
          -1.1312446028604668e-09,
          -1.123458568782179e-09,
          -1.1291160754816066e-09,
          -1.1313461448129407e-09,
          -1.1500567689013616e-09,
          -1.1353084929172013e-09,
          -1.128276078255019e-09,
          -1.1199156089664414e-09,
          -1.1478370202130238e-09,
          -1.1147782674928572e-09,
          -1.0932177412487585e-09,
          -1.1061010038744925e-09,
          -1.10286706420696e-09,
          -1.091128105980123e-09,
          -1.0834437804658793e-09,
          -1.097533593233571e-09,
          -1.114355922733991e-09,
          -1.1220739875198503e-09,
          -1.128510369507203e-09,
          -1.1495924274693179e-09,
          -1.1509513839221205e-09,
          -1.1288209115965568e-09,
          -1.131921019052789e-09,
          -1.132007891171549e-09,
          -1.1384686869153894e-09,
          -1.1332142917408179e-09,
          -1.1394345480215557e-09,
          -1.1422913855169679e-09,
          -1.138661816517674e-09,
          -1.1401446732735516e-09,
          -1.1309361535717597e-09,
          -1.1108810629827072e-09,
          -1.1179302693729477e-09,
          -1.1413811375726494e-09,
          -1.1422779411887843e-09,
          -1.1446493828741107e-09,
          -1.1420501315209016e-09,
          -1.143526208401561e-09,
          -1.1362345052733733e-09,
          -1.1417589583492892e-09,
          -1.1197041992157048e-09,
          -1.118147224730213e-09,
          -1.1089913646601835e-09,
          -1.094354475242008e-09,
          -1.1423622807736703e-09,
          -1.1490196529755849e-09,
          -1.122676548686728e-09,
          -1.116255911536616e-09,
          -1.1123386064834037e-09,
          -1.1227356355326287e-09,
          -1.1065720671233206e-09,
          -1.122030959603783e-09,
          -1.102841954151016e-09,
          -1.1205737968712524e-09,
          -1.1350269511891125e-09,
          -1.127349240078893e-09,
          -1.1136567845113688e-09,
          -1.1115438688771879e-09,
          -1.095265096731846e-09,
          -1.1363875831994461e-09,
          -1.1444746375504559e-09,
          -1.1434614841349994e-09,
          -1.1431396189061978e-09,
          -1.1224100069198496e-09,
          -1.1025535782643372e-09,
          -1.1140044709264842e-09,
          -1.119727833647388e-09,
          -1.1414044243579203e-09,
          -1.127518775677586e-09,
          -1.1356551590031478e-09,
          -1.1339974894065653e-09,
          -1.1389769977866731e-09,
          -1.1572083585330735e-09,
          -1.1507831801094893e-09,
          -1.1036251238928034e-09,
          -1.126721275486446e-09,
          -1.1146335102704215e-09,
          -1.110655983220008e-09,
          -1.1335538306602857e-09,
          -1.1246609416242704e-09,
          -1.1170083736654267e-09,
          -1.1355001534417289e-09,
          -1.1278535925880888e-09,
          -1.1395790714480974e-09,
          -1.1267672166586782e-09,
          -1.115425952103678e-09,
          -1.1260240975971463e-09,
          -1.1146055809664572e-09,
          -1.132989193560457e-09,
          -1.1000304629547286e-09,
          -1.093273388867844e-09,
          -1.1280550856369269e-09,
          -1.1283437818307781e-09,
          -1.0892887364021012e-09,
          -1.1057115191910023e-09,
          -1.1158085646314147e-09,
          -1.1081472533276203e-09,
          -1.09529373527649e-09,
          -1.0977928748222276e-09,
          -1.1007569245913346e-09,
          -1.0996972877771448e-09,
          -1.1064256776592733e-09,
          -1.1067299849118873e-09,
          -1.0959125937231523e-09,
          -1.0720884934758688e-09,
          -1.0656821289974999e-09,
          -1.1174502821544228e-09,
          -1.123241988573695e-09,
          -1.0007781959260418e-09,
          -1.0222728894600391e-09,
          -1.0711615320393162e-09,
          -1.0601393103720001e-09,
          -1.079365639363417e-09,
          -1.0599492087931845e-09,
          -1.0773564755119348e-09,
          -9.634882366436768e-10,
          -1.0837243712250736e-09,
          -1.0742812946573737e-09,
          -1.0635655572923785e-09,
          -1.0902155558028437e-09,
          -1.0870923616981286e-09,
          -1.0658892127952901e-09,
          -1.0909708114429486e-09,
          -1.0451889725688143e-09,
          -1.0677352699839034e-09,
          -1.0863514950792284e-09,
          -1.0950699174402243e-09,
          -1.0845261751538936e-09,
          -1.0835552395188775e-09,
          -1.0814041041849994e-09,
          -1.0607581541474246e-09,
          -1.0332175687646868e-09,
          -9.900941325084848e-10,
          -1.0273766729928458e-09,
          -1.0542121490774834e-09,
          -1.0246503619362351e-09,
          -1.0327318114570774e-09,
          -1.0561700607936928e-09
         ],
         "y0": " ",
         "yaxis": "y"
        }
       ],
       "layout": {
        "boxmode": "group",
        "legend": {
         "tracegroupgap": 0
        },
        "margin": {
         "t": 60
        },
        "template": {
         "data": {
          "bar": [
           {
            "error_x": {
             "color": "#2a3f5f"
            },
            "error_y": {
             "color": "#2a3f5f"
            },
            "marker": {
             "line": {
              "color": "#E5ECF6",
              "width": 0.5
             },
             "pattern": {
              "fillmode": "overlay",
              "size": 10,
              "solidity": 0.2
             }
            },
            "type": "bar"
           }
          ],
          "barpolar": [
           {
            "marker": {
             "line": {
              "color": "#E5ECF6",
              "width": 0.5
             },
             "pattern": {
              "fillmode": "overlay",
              "size": 10,
              "solidity": 0.2
             }
            },
            "type": "barpolar"
           }
          ],
          "carpet": [
           {
            "aaxis": {
             "endlinecolor": "#2a3f5f",
             "gridcolor": "white",
             "linecolor": "white",
             "minorgridcolor": "white",
             "startlinecolor": "#2a3f5f"
            },
            "baxis": {
             "endlinecolor": "#2a3f5f",
             "gridcolor": "white",
             "linecolor": "white",
             "minorgridcolor": "white",
             "startlinecolor": "#2a3f5f"
            },
            "type": "carpet"
           }
          ],
          "choropleth": [
           {
            "colorbar": {
             "outlinewidth": 0,
             "ticks": ""
            },
            "type": "choropleth"
           }
          ],
          "contour": [
           {
            "colorbar": {
             "outlinewidth": 0,
             "ticks": ""
            },
            "colorscale": [
             [
              0,
              "#0d0887"
             ],
             [
              0.1111111111111111,
              "#46039f"
             ],
             [
              0.2222222222222222,
              "#7201a8"
             ],
             [
              0.3333333333333333,
              "#9c179e"
             ],
             [
              0.4444444444444444,
              "#bd3786"
             ],
             [
              0.5555555555555556,
              "#d8576b"
             ],
             [
              0.6666666666666666,
              "#ed7953"
             ],
             [
              0.7777777777777778,
              "#fb9f3a"
             ],
             [
              0.8888888888888888,
              "#fdca26"
             ],
             [
              1,
              "#f0f921"
             ]
            ],
            "type": "contour"
           }
          ],
          "contourcarpet": [
           {
            "colorbar": {
             "outlinewidth": 0,
             "ticks": ""
            },
            "type": "contourcarpet"
           }
          ],
          "heatmap": [
           {
            "colorbar": {
             "outlinewidth": 0,
             "ticks": ""
            },
            "colorscale": [
             [
              0,
              "#0d0887"
             ],
             [
              0.1111111111111111,
              "#46039f"
             ],
             [
              0.2222222222222222,
              "#7201a8"
             ],
             [
              0.3333333333333333,
              "#9c179e"
             ],
             [
              0.4444444444444444,
              "#bd3786"
             ],
             [
              0.5555555555555556,
              "#d8576b"
             ],
             [
              0.6666666666666666,
              "#ed7953"
             ],
             [
              0.7777777777777778,
              "#fb9f3a"
             ],
             [
              0.8888888888888888,
              "#fdca26"
             ],
             [
              1,
              "#f0f921"
             ]
            ],
            "type": "heatmap"
           }
          ],
          "heatmapgl": [
           {
            "colorbar": {
             "outlinewidth": 0,
             "ticks": ""
            },
            "colorscale": [
             [
              0,
              "#0d0887"
             ],
             [
              0.1111111111111111,
              "#46039f"
             ],
             [
              0.2222222222222222,
              "#7201a8"
             ],
             [
              0.3333333333333333,
              "#9c179e"
             ],
             [
              0.4444444444444444,
              "#bd3786"
             ],
             [
              0.5555555555555556,
              "#d8576b"
             ],
             [
              0.6666666666666666,
              "#ed7953"
             ],
             [
              0.7777777777777778,
              "#fb9f3a"
             ],
             [
              0.8888888888888888,
              "#fdca26"
             ],
             [
              1,
              "#f0f921"
             ]
            ],
            "type": "heatmapgl"
           }
          ],
          "histogram": [
           {
            "marker": {
             "pattern": {
              "fillmode": "overlay",
              "size": 10,
              "solidity": 0.2
             }
            },
            "type": "histogram"
           }
          ],
          "histogram2d": [
           {
            "colorbar": {
             "outlinewidth": 0,
             "ticks": ""
            },
            "colorscale": [
             [
              0,
              "#0d0887"
             ],
             [
              0.1111111111111111,
              "#46039f"
             ],
             [
              0.2222222222222222,
              "#7201a8"
             ],
             [
              0.3333333333333333,
              "#9c179e"
             ],
             [
              0.4444444444444444,
              "#bd3786"
             ],
             [
              0.5555555555555556,
              "#d8576b"
             ],
             [
              0.6666666666666666,
              "#ed7953"
             ],
             [
              0.7777777777777778,
              "#fb9f3a"
             ],
             [
              0.8888888888888888,
              "#fdca26"
             ],
             [
              1,
              "#f0f921"
             ]
            ],
            "type": "histogram2d"
           }
          ],
          "histogram2dcontour": [
           {
            "colorbar": {
             "outlinewidth": 0,
             "ticks": ""
            },
            "colorscale": [
             [
              0,
              "#0d0887"
             ],
             [
              0.1111111111111111,
              "#46039f"
             ],
             [
              0.2222222222222222,
              "#7201a8"
             ],
             [
              0.3333333333333333,
              "#9c179e"
             ],
             [
              0.4444444444444444,
              "#bd3786"
             ],
             [
              0.5555555555555556,
              "#d8576b"
             ],
             [
              0.6666666666666666,
              "#ed7953"
             ],
             [
              0.7777777777777778,
              "#fb9f3a"
             ],
             [
              0.8888888888888888,
              "#fdca26"
             ],
             [
              1,
              "#f0f921"
             ]
            ],
            "type": "histogram2dcontour"
           }
          ],
          "mesh3d": [
           {
            "colorbar": {
             "outlinewidth": 0,
             "ticks": ""
            },
            "type": "mesh3d"
           }
          ],
          "parcoords": [
           {
            "line": {
             "colorbar": {
              "outlinewidth": 0,
              "ticks": ""
             }
            },
            "type": "parcoords"
           }
          ],
          "pie": [
           {
            "automargin": true,
            "type": "pie"
           }
          ],
          "scatter": [
           {
            "marker": {
             "colorbar": {
              "outlinewidth": 0,
              "ticks": ""
             }
            },
            "type": "scatter"
           }
          ],
          "scatter3d": [
           {
            "line": {
             "colorbar": {
              "outlinewidth": 0,
              "ticks": ""
             }
            },
            "marker": {
             "colorbar": {
              "outlinewidth": 0,
              "ticks": ""
             }
            },
            "type": "scatter3d"
           }
          ],
          "scattercarpet": [
           {
            "marker": {
             "colorbar": {
              "outlinewidth": 0,
              "ticks": ""
             }
            },
            "type": "scattercarpet"
           }
          ],
          "scattergeo": [
           {
            "marker": {
             "colorbar": {
              "outlinewidth": 0,
              "ticks": ""
             }
            },
            "type": "scattergeo"
           }
          ],
          "scattergl": [
           {
            "marker": {
             "colorbar": {
              "outlinewidth": 0,
              "ticks": ""
             }
            },
            "type": "scattergl"
           }
          ],
          "scattermapbox": [
           {
            "marker": {
             "colorbar": {
              "outlinewidth": 0,
              "ticks": ""
             }
            },
            "type": "scattermapbox"
           }
          ],
          "scatterpolar": [
           {
            "marker": {
             "colorbar": {
              "outlinewidth": 0,
              "ticks": ""
             }
            },
            "type": "scatterpolar"
           }
          ],
          "scatterpolargl": [
           {
            "marker": {
             "colorbar": {
              "outlinewidth": 0,
              "ticks": ""
             }
            },
            "type": "scatterpolargl"
           }
          ],
          "scatterternary": [
           {
            "marker": {
             "colorbar": {
              "outlinewidth": 0,
              "ticks": ""
             }
            },
            "type": "scatterternary"
           }
          ],
          "surface": [
           {
            "colorbar": {
             "outlinewidth": 0,
             "ticks": ""
            },
            "colorscale": [
             [
              0,
              "#0d0887"
             ],
             [
              0.1111111111111111,
              "#46039f"
             ],
             [
              0.2222222222222222,
              "#7201a8"
             ],
             [
              0.3333333333333333,
              "#9c179e"
             ],
             [
              0.4444444444444444,
              "#bd3786"
             ],
             [
              0.5555555555555556,
              "#d8576b"
             ],
             [
              0.6666666666666666,
              "#ed7953"
             ],
             [
              0.7777777777777778,
              "#fb9f3a"
             ],
             [
              0.8888888888888888,
              "#fdca26"
             ],
             [
              1,
              "#f0f921"
             ]
            ],
            "type": "surface"
           }
          ],
          "table": [
           {
            "cells": {
             "fill": {
              "color": "#EBF0F8"
             },
             "line": {
              "color": "white"
             }
            },
            "header": {
             "fill": {
              "color": "#C8D4E3"
             },
             "line": {
              "color": "white"
             }
            },
            "type": "table"
           }
          ]
         },
         "layout": {
          "annotationdefaults": {
           "arrowcolor": "#2a3f5f",
           "arrowhead": 0,
           "arrowwidth": 1
          },
          "autotypenumbers": "strict",
          "coloraxis": {
           "colorbar": {
            "outlinewidth": 0,
            "ticks": ""
           }
          },
          "colorscale": {
           "diverging": [
            [
             0,
             "#8e0152"
            ],
            [
             0.1,
             "#c51b7d"
            ],
            [
             0.2,
             "#de77ae"
            ],
            [
             0.3,
             "#f1b6da"
            ],
            [
             0.4,
             "#fde0ef"
            ],
            [
             0.5,
             "#f7f7f7"
            ],
            [
             0.6,
             "#e6f5d0"
            ],
            [
             0.7,
             "#b8e186"
            ],
            [
             0.8,
             "#7fbc41"
            ],
            [
             0.9,
             "#4d9221"
            ],
            [
             1,
             "#276419"
            ]
           ],
           "sequential": [
            [
             0,
             "#0d0887"
            ],
            [
             0.1111111111111111,
             "#46039f"
            ],
            [
             0.2222222222222222,
             "#7201a8"
            ],
            [
             0.3333333333333333,
             "#9c179e"
            ],
            [
             0.4444444444444444,
             "#bd3786"
            ],
            [
             0.5555555555555556,
             "#d8576b"
            ],
            [
             0.6666666666666666,
             "#ed7953"
            ],
            [
             0.7777777777777778,
             "#fb9f3a"
            ],
            [
             0.8888888888888888,
             "#fdca26"
            ],
            [
             1,
             "#f0f921"
            ]
           ],
           "sequentialminus": [
            [
             0,
             "#0d0887"
            ],
            [
             0.1111111111111111,
             "#46039f"
            ],
            [
             0.2222222222222222,
             "#7201a8"
            ],
            [
             0.3333333333333333,
             "#9c179e"
            ],
            [
             0.4444444444444444,
             "#bd3786"
            ],
            [
             0.5555555555555556,
             "#d8576b"
            ],
            [
             0.6666666666666666,
             "#ed7953"
            ],
            [
             0.7777777777777778,
             "#fb9f3a"
            ],
            [
             0.8888888888888888,
             "#fdca26"
            ],
            [
             1,
             "#f0f921"
            ]
           ]
          },
          "colorway": [
           "#636efa",
           "#EF553B",
           "#00cc96",
           "#ab63fa",
           "#FFA15A",
           "#19d3f3",
           "#FF6692",
           "#B6E880",
           "#FF97FF",
           "#FECB52"
          ],
          "font": {
           "color": "#2a3f5f"
          },
          "geo": {
           "bgcolor": "white",
           "lakecolor": "white",
           "landcolor": "#E5ECF6",
           "showlakes": true,
           "showland": true,
           "subunitcolor": "white"
          },
          "hoverlabel": {
           "align": "left"
          },
          "hovermode": "closest",
          "mapbox": {
           "style": "light"
          },
          "paper_bgcolor": "white",
          "plot_bgcolor": "#E5ECF6",
          "polar": {
           "angularaxis": {
            "gridcolor": "white",
            "linecolor": "white",
            "ticks": ""
           },
           "bgcolor": "#E5ECF6",
           "radialaxis": {
            "gridcolor": "white",
            "linecolor": "white",
            "ticks": ""
           }
          },
          "scene": {
           "xaxis": {
            "backgroundcolor": "#E5ECF6",
            "gridcolor": "white",
            "gridwidth": 2,
            "linecolor": "white",
            "showbackground": true,
            "ticks": "",
            "zerolinecolor": "white"
           },
           "yaxis": {
            "backgroundcolor": "#E5ECF6",
            "gridcolor": "white",
            "gridwidth": 2,
            "linecolor": "white",
            "showbackground": true,
            "ticks": "",
            "zerolinecolor": "white"
           },
           "zaxis": {
            "backgroundcolor": "#E5ECF6",
            "gridcolor": "white",
            "gridwidth": 2,
            "linecolor": "white",
            "showbackground": true,
            "ticks": "",
            "zerolinecolor": "white"
           }
          },
          "shapedefaults": {
           "line": {
            "color": "#2a3f5f"
           }
          },
          "ternary": {
           "aaxis": {
            "gridcolor": "white",
            "linecolor": "white",
            "ticks": ""
           },
           "baxis": {
            "gridcolor": "white",
            "linecolor": "white",
            "ticks": ""
           },
           "bgcolor": "#E5ECF6",
           "caxis": {
            "gridcolor": "white",
            "linecolor": "white",
            "ticks": ""
           }
          },
          "title": {
           "x": 0.05
          },
          "xaxis": {
           "automargin": true,
           "gridcolor": "white",
           "linecolor": "white",
           "ticks": "",
           "title": {
            "standoff": 15
           },
           "zerolinecolor": "white",
           "zerolinewidth": 2
          },
          "yaxis": {
           "automargin": true,
           "gridcolor": "white",
           "linecolor": "white",
           "ticks": "",
           "title": {
            "standoff": 15
           },
           "zerolinecolor": "white",
           "zerolinewidth": 2
          }
         }
        },
        "xaxis": {
         "anchor": "y",
         "domain": [
          0,
          1
         ],
         "title": {
          "text": "Surface"
         }
        },
        "yaxis": {
         "anchor": "x",
         "domain": [
          0,
          1
         ],
         "title": {
          "text": "Specslof"
         }
        }
       }
      },
      "text/html": [
       "<div>                            <div id=\"c69adc4e-4ac1-4824-b565-1794d0253216\" class=\"plotly-graph-div\" style=\"height:525px; width:100%;\"></div>            <script type=\"text/javascript\">                require([\"plotly\"], function(Plotly) {                    window.PLOTLYENV=window.PLOTLYENV || {};                                    if (document.getElementById(\"c69adc4e-4ac1-4824-b565-1794d0253216\")) {                    Plotly.newPlot(                        \"c69adc4e-4ac1-4824-b565-1794d0253216\",                        [{\"alignmentgroup\":\"True\",\"boxpoints\":\"all\",\"hovertemplate\":\"Surface=%{x}<br>Specslof=%{y}<extra></extra>\",\"legendgroup\":\"\",\"marker\":{\"color\":\"#636efa\"},\"name\":\"\",\"notched\":false,\"offsetgroup\":\"\",\"orientation\":\"v\",\"showlegend\":false,\"type\":\"box\",\"x\":[\"Wet Asphalt\",\"Wet Asphalt\",\"Wet Asphalt\",\"Wet Asphalt\",\"Wet Asphalt\",\"Wet Asphalt\",\"Wet Asphalt\",\"Wet Asphalt\",\"Wet Asphalt\",\"Wet Asphalt\",\"Wet Asphalt\",\"Wet Asphalt\",\"Wet Asphalt\",\"Wet Asphalt\",\"Wet Asphalt\",\"Wet Asphalt\",\"Wet Asphalt\",\"Wet Asphalt\",\"Wet Asphalt\",\"Wet Asphalt\",\"Wet Asphalt\",\"Wet Asphalt\",\"Wet Asphalt\",\"Wet Asphalt\",\"Wet Asphalt\",\"Wet Asphalt\",\"Wet Asphalt\",\"Wet Asphalt\",\"Wet Asphalt\",\"Wet Asphalt\",\"Wet Asphalt\",\"Wet Asphalt\",\"Wet Asphalt\",\"Wet Asphalt\",\"Wet Asphalt\",\"Wet Asphalt\",\"Wet Asphalt\",\"Wet Asphalt\",\"Wet Asphalt\",\"Wet Asphalt\",\"Wet Asphalt\",\"Wet Asphalt\",\"Wet Asphalt\",\"Wet Asphalt\",\"Wet Asphalt\",\"Wet Asphalt\",\"Wet Asphalt\",\"Wet Asphalt\",\"Wet Asphalt\",\"Wet Asphalt\",\"Wet Asphalt\",\"Wet Asphalt\",\"Wet Asphalt\",\"Wet Asphalt\",\"Wet Asphalt\",\"Wet Asphalt\",\"Wet Asphalt\",\"Wet Asphalt\",\"Wet Asphalt\",\"Wet Asphalt\",\"Wet Asphalt\",\"Wet Asphalt\",\"Wet Asphalt\",\"Wet Asphalt\",\"Wet Asphalt\",\"Wet Asphalt\",\"Wet Asphalt\",\"Wet Asphalt\",\"Wet Asphalt\",\"Wet Asphalt\",\"Wet Asphalt\",\"Wet Asphalt\",\"Wet Asphalt\",\"Wet Asphalt\",\"Wet Asphalt\",\"Wet Asphalt\",\"Wet Asphalt\",\"Wet Asphalt\",\"Wet Asphalt\",\"Wet Asphalt\",\"Wet Asphalt\",\"Wet Asphalt\",\"Wet Asphalt\",\"Wet Asphalt\",\"Wet Asphalt\",\"Wet Asphalt\",\"Wet Asphalt\",\"Wet Asphalt\",\"Wet Asphalt\",\"Wet Asphalt\",\"Wet Asphalt\",\"Wet Asphalt\",\"Wet Asphalt\",\"Wet Asphalt\",\"Wet Asphalt\",\"Wet Asphalt\",\"Wet Asphalt\",\"Wet Asphalt\",\"Wet Asphalt\",\"Wet Asphalt\",\"Wet Asphalt\",\"Wet Asphalt\",\"Wet Asphalt\",\"Wet Asphalt\",\"Wet Asphalt\",\"Wet Asphalt\",\"Wet Asphalt\",\"Wet Asphalt\",\"Wet Asphalt\",\"Gravel\",\"Gravel\",\"Gravel\",\"Gravel\",\"Gravel\",\"Gravel\",\"Gravel\",\"Gravel\",\"Gravel\",\"Gravel\",\"Gravel\",\"Gravel\",\"Gravel\",\"Gravel\",\"Gravel\",\"Gravel\",\"Gravel\",\"Gravel\",\"Gravel\",\"Gravel\",\"Gravel\",\"Gravel\",\"Gravel\",\"Gravel\",\"Gravel\",\"Gravel\",\"Gravel\",\"Gravel\",\"Gravel\",\"Gravel\"],\"x0\":\" \",\"xaxis\":\"x\",\"y\":[-1.127022450382761e-09,-1.1312446028604668e-09,-1.123458568782179e-09,-1.1291160754816066e-09,-1.1313461448129407e-09,-1.1500567689013616e-09,-1.1353084929172013e-09,-1.128276078255019e-09,-1.1199156089664414e-09,-1.1478370202130238e-09,-1.1147782674928572e-09,-1.0932177412487585e-09,-1.1061010038744925e-09,-1.10286706420696e-09,-1.091128105980123e-09,-1.0834437804658793e-09,-1.097533593233571e-09,-1.114355922733991e-09,-1.1220739875198503e-09,-1.128510369507203e-09,-1.1495924274693179e-09,-1.1509513839221205e-09,-1.1288209115965568e-09,-1.131921019052789e-09,-1.132007891171549e-09,-1.1384686869153894e-09,-1.1332142917408179e-09,-1.1394345480215557e-09,-1.1422913855169679e-09,-1.138661816517674e-09,-1.1401446732735516e-09,-1.1309361535717597e-09,-1.1108810629827072e-09,-1.1179302693729477e-09,-1.1413811375726494e-09,-1.1422779411887843e-09,-1.1446493828741107e-09,-1.1420501315209016e-09,-1.143526208401561e-09,-1.1362345052733733e-09,-1.1417589583492892e-09,-1.1197041992157048e-09,-1.118147224730213e-09,-1.1089913646601835e-09,-1.094354475242008e-09,-1.1423622807736703e-09,-1.1490196529755849e-09,-1.122676548686728e-09,-1.116255911536616e-09,-1.1123386064834037e-09,-1.1227356355326287e-09,-1.1065720671233206e-09,-1.122030959603783e-09,-1.102841954151016e-09,-1.1205737968712524e-09,-1.1350269511891125e-09,-1.127349240078893e-09,-1.1136567845113688e-09,-1.1115438688771879e-09,-1.095265096731846e-09,-1.1363875831994461e-09,-1.1444746375504559e-09,-1.1434614841349994e-09,-1.1431396189061978e-09,-1.1224100069198496e-09,-1.1025535782643372e-09,-1.1140044709264842e-09,-1.119727833647388e-09,-1.1414044243579203e-09,-1.127518775677586e-09,-1.1356551590031478e-09,-1.1339974894065653e-09,-1.1389769977866731e-09,-1.1572083585330735e-09,-1.1507831801094893e-09,-1.1036251238928034e-09,-1.126721275486446e-09,-1.1146335102704215e-09,-1.110655983220008e-09,-1.1335538306602857e-09,-1.1246609416242704e-09,-1.1170083736654267e-09,-1.1355001534417289e-09,-1.1278535925880888e-09,-1.1395790714480974e-09,-1.1267672166586782e-09,-1.115425952103678e-09,-1.1260240975971463e-09,-1.1146055809664572e-09,-1.132989193560457e-09,-1.1000304629547286e-09,-1.093273388867844e-09,-1.1280550856369269e-09,-1.1283437818307781e-09,-1.0892887364021012e-09,-1.1057115191910023e-09,-1.1158085646314147e-09,-1.1081472533276203e-09,-1.09529373527649e-09,-1.0977928748222276e-09,-1.1007569245913346e-09,-1.0996972877771448e-09,-1.1064256776592733e-09,-1.1067299849118873e-09,-1.0959125937231523e-09,-1.0720884934758688e-09,-1.0656821289974999e-09,-1.1174502821544228e-09,-1.123241988573695e-09,-1.0007781959260418e-09,-1.0222728894600391e-09,-1.0711615320393162e-09,-1.0601393103720001e-09,-1.079365639363417e-09,-1.0599492087931845e-09,-1.0773564755119348e-09,-9.634882366436768e-10,-1.0837243712250736e-09,-1.0742812946573737e-09,-1.0635655572923785e-09,-1.0902155558028437e-09,-1.0870923616981286e-09,-1.0658892127952901e-09,-1.0909708114429486e-09,-1.0451889725688143e-09,-1.0677352699839034e-09,-1.0863514950792284e-09,-1.0950699174402243e-09,-1.0845261751538936e-09,-1.0835552395188775e-09,-1.0814041041849994e-09,-1.0607581541474246e-09,-1.0332175687646868e-09,-9.900941325084848e-10,-1.0273766729928458e-09,-1.0542121490774834e-09,-1.0246503619362351e-09,-1.0327318114570774e-09,-1.0561700607936928e-09],\"y0\":\" \",\"yaxis\":\"y\"}],                        {\"boxmode\":\"group\",\"legend\":{\"tracegroupgap\":0},\"margin\":{\"t\":60},\"template\":{\"data\":{\"bar\":[{\"error_x\":{\"color\":\"#2a3f5f\"},\"error_y\":{\"color\":\"#2a3f5f\"},\"marker\":{\"line\":{\"color\":\"#E5ECF6\",\"width\":0.5},\"pattern\":{\"fillmode\":\"overlay\",\"size\":10,\"solidity\":0.2}},\"type\":\"bar\"}],\"barpolar\":[{\"marker\":{\"line\":{\"color\":\"#E5ECF6\",\"width\":0.5},\"pattern\":{\"fillmode\":\"overlay\",\"size\":10,\"solidity\":0.2}},\"type\":\"barpolar\"}],\"carpet\":[{\"aaxis\":{\"endlinecolor\":\"#2a3f5f\",\"gridcolor\":\"white\",\"linecolor\":\"white\",\"minorgridcolor\":\"white\",\"startlinecolor\":\"#2a3f5f\"},\"baxis\":{\"endlinecolor\":\"#2a3f5f\",\"gridcolor\":\"white\",\"linecolor\":\"white\",\"minorgridcolor\":\"white\",\"startlinecolor\":\"#2a3f5f\"},\"type\":\"carpet\"}],\"choropleth\":[{\"colorbar\":{\"outlinewidth\":0,\"ticks\":\"\"},\"type\":\"choropleth\"}],\"contour\":[{\"colorbar\":{\"outlinewidth\":0,\"ticks\":\"\"},\"colorscale\":[[0.0,\"#0d0887\"],[0.1111111111111111,\"#46039f\"],[0.2222222222222222,\"#7201a8\"],[0.3333333333333333,\"#9c179e\"],[0.4444444444444444,\"#bd3786\"],[0.5555555555555556,\"#d8576b\"],[0.6666666666666666,\"#ed7953\"],[0.7777777777777778,\"#fb9f3a\"],[0.8888888888888888,\"#fdca26\"],[1.0,\"#f0f921\"]],\"type\":\"contour\"}],\"contourcarpet\":[{\"colorbar\":{\"outlinewidth\":0,\"ticks\":\"\"},\"type\":\"contourcarpet\"}],\"heatmap\":[{\"colorbar\":{\"outlinewidth\":0,\"ticks\":\"\"},\"colorscale\":[[0.0,\"#0d0887\"],[0.1111111111111111,\"#46039f\"],[0.2222222222222222,\"#7201a8\"],[0.3333333333333333,\"#9c179e\"],[0.4444444444444444,\"#bd3786\"],[0.5555555555555556,\"#d8576b\"],[0.6666666666666666,\"#ed7953\"],[0.7777777777777778,\"#fb9f3a\"],[0.8888888888888888,\"#fdca26\"],[1.0,\"#f0f921\"]],\"type\":\"heatmap\"}],\"heatmapgl\":[{\"colorbar\":{\"outlinewidth\":0,\"ticks\":\"\"},\"colorscale\":[[0.0,\"#0d0887\"],[0.1111111111111111,\"#46039f\"],[0.2222222222222222,\"#7201a8\"],[0.3333333333333333,\"#9c179e\"],[0.4444444444444444,\"#bd3786\"],[0.5555555555555556,\"#d8576b\"],[0.6666666666666666,\"#ed7953\"],[0.7777777777777778,\"#fb9f3a\"],[0.8888888888888888,\"#fdca26\"],[1.0,\"#f0f921\"]],\"type\":\"heatmapgl\"}],\"histogram\":[{\"marker\":{\"pattern\":{\"fillmode\":\"overlay\",\"size\":10,\"solidity\":0.2}},\"type\":\"histogram\"}],\"histogram2d\":[{\"colorbar\":{\"outlinewidth\":0,\"ticks\":\"\"},\"colorscale\":[[0.0,\"#0d0887\"],[0.1111111111111111,\"#46039f\"],[0.2222222222222222,\"#7201a8\"],[0.3333333333333333,\"#9c179e\"],[0.4444444444444444,\"#bd3786\"],[0.5555555555555556,\"#d8576b\"],[0.6666666666666666,\"#ed7953\"],[0.7777777777777778,\"#fb9f3a\"],[0.8888888888888888,\"#fdca26\"],[1.0,\"#f0f921\"]],\"type\":\"histogram2d\"}],\"histogram2dcontour\":[{\"colorbar\":{\"outlinewidth\":0,\"ticks\":\"\"},\"colorscale\":[[0.0,\"#0d0887\"],[0.1111111111111111,\"#46039f\"],[0.2222222222222222,\"#7201a8\"],[0.3333333333333333,\"#9c179e\"],[0.4444444444444444,\"#bd3786\"],[0.5555555555555556,\"#d8576b\"],[0.6666666666666666,\"#ed7953\"],[0.7777777777777778,\"#fb9f3a\"],[0.8888888888888888,\"#fdca26\"],[1.0,\"#f0f921\"]],\"type\":\"histogram2dcontour\"}],\"mesh3d\":[{\"colorbar\":{\"outlinewidth\":0,\"ticks\":\"\"},\"type\":\"mesh3d\"}],\"parcoords\":[{\"line\":{\"colorbar\":{\"outlinewidth\":0,\"ticks\":\"\"}},\"type\":\"parcoords\"}],\"pie\":[{\"automargin\":true,\"type\":\"pie\"}],\"scatter\":[{\"marker\":{\"colorbar\":{\"outlinewidth\":0,\"ticks\":\"\"}},\"type\":\"scatter\"}],\"scatter3d\":[{\"line\":{\"colorbar\":{\"outlinewidth\":0,\"ticks\":\"\"}},\"marker\":{\"colorbar\":{\"outlinewidth\":0,\"ticks\":\"\"}},\"type\":\"scatter3d\"}],\"scattercarpet\":[{\"marker\":{\"colorbar\":{\"outlinewidth\":0,\"ticks\":\"\"}},\"type\":\"scattercarpet\"}],\"scattergeo\":[{\"marker\":{\"colorbar\":{\"outlinewidth\":0,\"ticks\":\"\"}},\"type\":\"scattergeo\"}],\"scattergl\":[{\"marker\":{\"colorbar\":{\"outlinewidth\":0,\"ticks\":\"\"}},\"type\":\"scattergl\"}],\"scattermapbox\":[{\"marker\":{\"colorbar\":{\"outlinewidth\":0,\"ticks\":\"\"}},\"type\":\"scattermapbox\"}],\"scatterpolar\":[{\"marker\":{\"colorbar\":{\"outlinewidth\":0,\"ticks\":\"\"}},\"type\":\"scatterpolar\"}],\"scatterpolargl\":[{\"marker\":{\"colorbar\":{\"outlinewidth\":0,\"ticks\":\"\"}},\"type\":\"scatterpolargl\"}],\"scatterternary\":[{\"marker\":{\"colorbar\":{\"outlinewidth\":0,\"ticks\":\"\"}},\"type\":\"scatterternary\"}],\"surface\":[{\"colorbar\":{\"outlinewidth\":0,\"ticks\":\"\"},\"colorscale\":[[0.0,\"#0d0887\"],[0.1111111111111111,\"#46039f\"],[0.2222222222222222,\"#7201a8\"],[0.3333333333333333,\"#9c179e\"],[0.4444444444444444,\"#bd3786\"],[0.5555555555555556,\"#d8576b\"],[0.6666666666666666,\"#ed7953\"],[0.7777777777777778,\"#fb9f3a\"],[0.8888888888888888,\"#fdca26\"],[1.0,\"#f0f921\"]],\"type\":\"surface\"}],\"table\":[{\"cells\":{\"fill\":{\"color\":\"#EBF0F8\"},\"line\":{\"color\":\"white\"}},\"header\":{\"fill\":{\"color\":\"#C8D4E3\"},\"line\":{\"color\":\"white\"}},\"type\":\"table\"}]},\"layout\":{\"annotationdefaults\":{\"arrowcolor\":\"#2a3f5f\",\"arrowhead\":0,\"arrowwidth\":1},\"autotypenumbers\":\"strict\",\"coloraxis\":{\"colorbar\":{\"outlinewidth\":0,\"ticks\":\"\"}},\"colorscale\":{\"diverging\":[[0,\"#8e0152\"],[0.1,\"#c51b7d\"],[0.2,\"#de77ae\"],[0.3,\"#f1b6da\"],[0.4,\"#fde0ef\"],[0.5,\"#f7f7f7\"],[0.6,\"#e6f5d0\"],[0.7,\"#b8e186\"],[0.8,\"#7fbc41\"],[0.9,\"#4d9221\"],[1,\"#276419\"]],\"sequential\":[[0.0,\"#0d0887\"],[0.1111111111111111,\"#46039f\"],[0.2222222222222222,\"#7201a8\"],[0.3333333333333333,\"#9c179e\"],[0.4444444444444444,\"#bd3786\"],[0.5555555555555556,\"#d8576b\"],[0.6666666666666666,\"#ed7953\"],[0.7777777777777778,\"#fb9f3a\"],[0.8888888888888888,\"#fdca26\"],[1.0,\"#f0f921\"]],\"sequentialminus\":[[0.0,\"#0d0887\"],[0.1111111111111111,\"#46039f\"],[0.2222222222222222,\"#7201a8\"],[0.3333333333333333,\"#9c179e\"],[0.4444444444444444,\"#bd3786\"],[0.5555555555555556,\"#d8576b\"],[0.6666666666666666,\"#ed7953\"],[0.7777777777777778,\"#fb9f3a\"],[0.8888888888888888,\"#fdca26\"],[1.0,\"#f0f921\"]]},\"colorway\":[\"#636efa\",\"#EF553B\",\"#00cc96\",\"#ab63fa\",\"#FFA15A\",\"#19d3f3\",\"#FF6692\",\"#B6E880\",\"#FF97FF\",\"#FECB52\"],\"font\":{\"color\":\"#2a3f5f\"},\"geo\":{\"bgcolor\":\"white\",\"lakecolor\":\"white\",\"landcolor\":\"#E5ECF6\",\"showlakes\":true,\"showland\":true,\"subunitcolor\":\"white\"},\"hoverlabel\":{\"align\":\"left\"},\"hovermode\":\"closest\",\"mapbox\":{\"style\":\"light\"},\"paper_bgcolor\":\"white\",\"plot_bgcolor\":\"#E5ECF6\",\"polar\":{\"angularaxis\":{\"gridcolor\":\"white\",\"linecolor\":\"white\",\"ticks\":\"\"},\"bgcolor\":\"#E5ECF6\",\"radialaxis\":{\"gridcolor\":\"white\",\"linecolor\":\"white\",\"ticks\":\"\"}},\"scene\":{\"xaxis\":{\"backgroundcolor\":\"#E5ECF6\",\"gridcolor\":\"white\",\"gridwidth\":2,\"linecolor\":\"white\",\"showbackground\":true,\"ticks\":\"\",\"zerolinecolor\":\"white\"},\"yaxis\":{\"backgroundcolor\":\"#E5ECF6\",\"gridcolor\":\"white\",\"gridwidth\":2,\"linecolor\":\"white\",\"showbackground\":true,\"ticks\":\"\",\"zerolinecolor\":\"white\"},\"zaxis\":{\"backgroundcolor\":\"#E5ECF6\",\"gridcolor\":\"white\",\"gridwidth\":2,\"linecolor\":\"white\",\"showbackground\":true,\"ticks\":\"\",\"zerolinecolor\":\"white\"}},\"shapedefaults\":{\"line\":{\"color\":\"#2a3f5f\"}},\"ternary\":{\"aaxis\":{\"gridcolor\":\"white\",\"linecolor\":\"white\",\"ticks\":\"\"},\"baxis\":{\"gridcolor\":\"white\",\"linecolor\":\"white\",\"ticks\":\"\"},\"bgcolor\":\"#E5ECF6\",\"caxis\":{\"gridcolor\":\"white\",\"linecolor\":\"white\",\"ticks\":\"\"}},\"title\":{\"x\":0.05},\"xaxis\":{\"automargin\":true,\"gridcolor\":\"white\",\"linecolor\":\"white\",\"ticks\":\"\",\"title\":{\"standoff\":15},\"zerolinecolor\":\"white\",\"zerolinewidth\":2},\"yaxis\":{\"automargin\":true,\"gridcolor\":\"white\",\"linecolor\":\"white\",\"ticks\":\"\",\"title\":{\"standoff\":15},\"zerolinecolor\":\"white\",\"zerolinewidth\":2}}},\"xaxis\":{\"anchor\":\"y\",\"domain\":[0.0,1.0],\"title\":{\"text\":\"Surface\"}},\"yaxis\":{\"anchor\":\"x\",\"domain\":[0.0,1.0],\"title\":{\"text\":\"Specslof\"}}},                        {\"responsive\": true}                    ).then(function(){\n",
       "                            \n",
       "var gd = document.getElementById('c69adc4e-4ac1-4824-b565-1794d0253216');\n",
       "var x = new MutationObserver(function (mutations, observer) {{\n",
       "        var display = window.getComputedStyle(gd).display;\n",
       "        if (!display || display === 'none') {{\n",
       "            console.log([gd, 'removed!']);\n",
       "            Plotly.purge(gd);\n",
       "            observer.disconnect();\n",
       "        }}\n",
       "}});\n",
       "\n",
       "// Listen for the removal of the full notebook cells\n",
       "var notebookContainer = gd.closest('#notebook-container');\n",
       "if (notebookContainer) {{\n",
       "    x.observe(notebookContainer, {childList: true});\n",
       "}}\n",
       "\n",
       "// Listen for the clearing of the current output cell\n",
       "var outputEl = gd.closest('.output');\n",
       "if (outputEl) {{\n",
       "    x.observe(outputEl, {childList: true});\n",
       "}}\n",
       "\n",
       "                        })                };                });            </script>        </div>"
      ]
     },
     "metadata": {},
     "output_type": "display_data"
    }
   ],
   "source": [
    "fig = px.box(alldf, x=\"Surface\", y=\"Specslof\", points = 'all')\n",
    "fig.show()"
   ]
  },
  {
   "cell_type": "code",
   "execution_count": 155,
   "metadata": {},
   "outputs": [
    {
     "data": {
      "application/vnd.plotly.v1+json": {
       "config": {
        "plotlyServerURL": "https://plot.ly"
       },
       "data": [
        {
         "alignmentgroup": "True",
         "boxpoints": "all",
         "hovertemplate": "Surface=%{x}<br>ZC=%{y}<extra></extra>",
         "legendgroup": "",
         "marker": {
          "color": "#636efa"
         },
         "name": "",
         "notched": false,
         "offsetgroup": "",
         "orientation": "v",
         "showlegend": false,
         "type": "box",
         "x": [
          "Wet Asphalt",
          "Wet Asphalt",
          "Wet Asphalt",
          "Wet Asphalt",
          "Wet Asphalt",
          "Wet Asphalt",
          "Wet Asphalt",
          "Wet Asphalt",
          "Wet Asphalt",
          "Wet Asphalt",
          "Wet Asphalt",
          "Wet Asphalt",
          "Wet Asphalt",
          "Wet Asphalt",
          "Wet Asphalt",
          "Wet Asphalt",
          "Wet Asphalt",
          "Wet Asphalt",
          "Wet Asphalt",
          "Wet Asphalt",
          "Wet Asphalt",
          "Wet Asphalt",
          "Wet Asphalt",
          "Wet Asphalt",
          "Wet Asphalt",
          "Wet Asphalt",
          "Wet Asphalt",
          "Wet Asphalt",
          "Wet Asphalt",
          "Wet Asphalt",
          "Wet Asphalt",
          "Wet Asphalt",
          "Wet Asphalt",
          "Wet Asphalt",
          "Wet Asphalt",
          "Wet Asphalt",
          "Wet Asphalt",
          "Wet Asphalt",
          "Wet Asphalt",
          "Wet Asphalt",
          "Wet Asphalt",
          "Wet Asphalt",
          "Wet Asphalt",
          "Wet Asphalt",
          "Wet Asphalt",
          "Wet Asphalt",
          "Wet Asphalt",
          "Wet Asphalt",
          "Wet Asphalt",
          "Wet Asphalt",
          "Wet Asphalt",
          "Wet Asphalt",
          "Wet Asphalt",
          "Wet Asphalt",
          "Wet Asphalt",
          "Wet Asphalt",
          "Wet Asphalt",
          "Wet Asphalt",
          "Wet Asphalt",
          "Wet Asphalt",
          "Wet Asphalt",
          "Wet Asphalt",
          "Wet Asphalt",
          "Wet Asphalt",
          "Wet Asphalt",
          "Wet Asphalt",
          "Wet Asphalt",
          "Wet Asphalt",
          "Wet Asphalt",
          "Wet Asphalt",
          "Wet Asphalt",
          "Wet Asphalt",
          "Wet Asphalt",
          "Wet Asphalt",
          "Wet Asphalt",
          "Wet Asphalt",
          "Wet Asphalt",
          "Wet Asphalt",
          "Wet Asphalt",
          "Wet Asphalt",
          "Wet Asphalt",
          "Wet Asphalt",
          "Wet Asphalt",
          "Wet Asphalt",
          "Wet Asphalt",
          "Wet Asphalt",
          "Wet Asphalt",
          "Wet Asphalt",
          "Wet Asphalt",
          "Wet Asphalt",
          "Wet Asphalt",
          "Wet Asphalt",
          "Wet Asphalt",
          "Wet Asphalt",
          "Wet Asphalt",
          "Wet Asphalt",
          "Wet Asphalt",
          "Wet Asphalt",
          "Wet Asphalt",
          "Wet Asphalt",
          "Wet Asphalt",
          "Wet Asphalt",
          "Wet Asphalt",
          "Wet Asphalt",
          "Wet Asphalt",
          "Wet Asphalt",
          "Wet Asphalt",
          "Wet Asphalt",
          "Wet Asphalt",
          "Gravel",
          "Gravel",
          "Gravel",
          "Gravel",
          "Gravel",
          "Gravel",
          "Gravel",
          "Gravel",
          "Gravel",
          "Gravel",
          "Gravel",
          "Gravel",
          "Gravel",
          "Gravel",
          "Gravel",
          "Gravel",
          "Gravel",
          "Gravel",
          "Gravel",
          "Gravel",
          "Gravel",
          "Gravel",
          "Gravel",
          "Gravel",
          "Gravel",
          "Gravel",
          "Gravel",
          "Gravel",
          "Gravel",
          "Gravel"
         ],
         "x0": " ",
         "xaxis": "x",
         "y": [
          7470,
          8372,
          9023,
          8206,
          7371,
          5851,
          7106,
          7819,
          7480,
          6027,
          8390,
          10765,
          10660,
          10513,
          10505,
          11312,
          9588,
          7850,
          7036,
          7372,
          7202,
          6432,
          9281,
          9660,
          9168,
          7305,
          8463,
          8735,
          8764,
          8351,
          7503,
          8761,
          9181,
          9074,
          9331,
          9798,
          8940,
          8336,
          8092,
          7564,
          7499,
          8101,
          8145,
          8209,
          9400,
          7274,
          6670,
          7373,
          7365,
          7683,
          7565,
          8722,
          8180,
          7775,
          7857,
          7651,
          7972,
          7731,
          7853,
          8975,
          7010,
          3886,
          6713,
          6718,
          7154,
          7551,
          7689,
          6857,
          6022,
          6997,
          6513,
          6442,
          4962,
          4811,
          4086,
          6907,
          7151,
          6600,
          6469,
          7193,
          8117,
          6576,
          6125,
          7906,
          7441,
          8017,
          7726,
          7517,
          8503,
          8024,
          9631,
          11279,
          7313,
          7783,
          9684,
          8761,
          8354,
          9061,
          9184,
          9026,
          9194,
          8151,
          7176,
          9948,
          10261,
          12963,
          12965,
          8028,
          7200,
          10593,
          16049,
          10548,
          11494,
          11281,
          11877,
          9868,
          9221,
          8270,
          8810,
          10957,
          5763,
          6402,
          7252,
          6152,
          9012,
          7182,
          5830,
          6246,
          6762,
          7489,
          7347,
          8308,
          10186,
          16010,
          11186,
          8201,
          12740,
          10829,
          8286
         ],
         "y0": " ",
         "yaxis": "y"
        }
       ],
       "layout": {
        "boxmode": "group",
        "legend": {
         "tracegroupgap": 0
        },
        "margin": {
         "t": 60
        },
        "template": {
         "data": {
          "bar": [
           {
            "error_x": {
             "color": "#2a3f5f"
            },
            "error_y": {
             "color": "#2a3f5f"
            },
            "marker": {
             "line": {
              "color": "#E5ECF6",
              "width": 0.5
             },
             "pattern": {
              "fillmode": "overlay",
              "size": 10,
              "solidity": 0.2
             }
            },
            "type": "bar"
           }
          ],
          "barpolar": [
           {
            "marker": {
             "line": {
              "color": "#E5ECF6",
              "width": 0.5
             },
             "pattern": {
              "fillmode": "overlay",
              "size": 10,
              "solidity": 0.2
             }
            },
            "type": "barpolar"
           }
          ],
          "carpet": [
           {
            "aaxis": {
             "endlinecolor": "#2a3f5f",
             "gridcolor": "white",
             "linecolor": "white",
             "minorgridcolor": "white",
             "startlinecolor": "#2a3f5f"
            },
            "baxis": {
             "endlinecolor": "#2a3f5f",
             "gridcolor": "white",
             "linecolor": "white",
             "minorgridcolor": "white",
             "startlinecolor": "#2a3f5f"
            },
            "type": "carpet"
           }
          ],
          "choropleth": [
           {
            "colorbar": {
             "outlinewidth": 0,
             "ticks": ""
            },
            "type": "choropleth"
           }
          ],
          "contour": [
           {
            "colorbar": {
             "outlinewidth": 0,
             "ticks": ""
            },
            "colorscale": [
             [
              0,
              "#0d0887"
             ],
             [
              0.1111111111111111,
              "#46039f"
             ],
             [
              0.2222222222222222,
              "#7201a8"
             ],
             [
              0.3333333333333333,
              "#9c179e"
             ],
             [
              0.4444444444444444,
              "#bd3786"
             ],
             [
              0.5555555555555556,
              "#d8576b"
             ],
             [
              0.6666666666666666,
              "#ed7953"
             ],
             [
              0.7777777777777778,
              "#fb9f3a"
             ],
             [
              0.8888888888888888,
              "#fdca26"
             ],
             [
              1,
              "#f0f921"
             ]
            ],
            "type": "contour"
           }
          ],
          "contourcarpet": [
           {
            "colorbar": {
             "outlinewidth": 0,
             "ticks": ""
            },
            "type": "contourcarpet"
           }
          ],
          "heatmap": [
           {
            "colorbar": {
             "outlinewidth": 0,
             "ticks": ""
            },
            "colorscale": [
             [
              0,
              "#0d0887"
             ],
             [
              0.1111111111111111,
              "#46039f"
             ],
             [
              0.2222222222222222,
              "#7201a8"
             ],
             [
              0.3333333333333333,
              "#9c179e"
             ],
             [
              0.4444444444444444,
              "#bd3786"
             ],
             [
              0.5555555555555556,
              "#d8576b"
             ],
             [
              0.6666666666666666,
              "#ed7953"
             ],
             [
              0.7777777777777778,
              "#fb9f3a"
             ],
             [
              0.8888888888888888,
              "#fdca26"
             ],
             [
              1,
              "#f0f921"
             ]
            ],
            "type": "heatmap"
           }
          ],
          "heatmapgl": [
           {
            "colorbar": {
             "outlinewidth": 0,
             "ticks": ""
            },
            "colorscale": [
             [
              0,
              "#0d0887"
             ],
             [
              0.1111111111111111,
              "#46039f"
             ],
             [
              0.2222222222222222,
              "#7201a8"
             ],
             [
              0.3333333333333333,
              "#9c179e"
             ],
             [
              0.4444444444444444,
              "#bd3786"
             ],
             [
              0.5555555555555556,
              "#d8576b"
             ],
             [
              0.6666666666666666,
              "#ed7953"
             ],
             [
              0.7777777777777778,
              "#fb9f3a"
             ],
             [
              0.8888888888888888,
              "#fdca26"
             ],
             [
              1,
              "#f0f921"
             ]
            ],
            "type": "heatmapgl"
           }
          ],
          "histogram": [
           {
            "marker": {
             "pattern": {
              "fillmode": "overlay",
              "size": 10,
              "solidity": 0.2
             }
            },
            "type": "histogram"
           }
          ],
          "histogram2d": [
           {
            "colorbar": {
             "outlinewidth": 0,
             "ticks": ""
            },
            "colorscale": [
             [
              0,
              "#0d0887"
             ],
             [
              0.1111111111111111,
              "#46039f"
             ],
             [
              0.2222222222222222,
              "#7201a8"
             ],
             [
              0.3333333333333333,
              "#9c179e"
             ],
             [
              0.4444444444444444,
              "#bd3786"
             ],
             [
              0.5555555555555556,
              "#d8576b"
             ],
             [
              0.6666666666666666,
              "#ed7953"
             ],
             [
              0.7777777777777778,
              "#fb9f3a"
             ],
             [
              0.8888888888888888,
              "#fdca26"
             ],
             [
              1,
              "#f0f921"
             ]
            ],
            "type": "histogram2d"
           }
          ],
          "histogram2dcontour": [
           {
            "colorbar": {
             "outlinewidth": 0,
             "ticks": ""
            },
            "colorscale": [
             [
              0,
              "#0d0887"
             ],
             [
              0.1111111111111111,
              "#46039f"
             ],
             [
              0.2222222222222222,
              "#7201a8"
             ],
             [
              0.3333333333333333,
              "#9c179e"
             ],
             [
              0.4444444444444444,
              "#bd3786"
             ],
             [
              0.5555555555555556,
              "#d8576b"
             ],
             [
              0.6666666666666666,
              "#ed7953"
             ],
             [
              0.7777777777777778,
              "#fb9f3a"
             ],
             [
              0.8888888888888888,
              "#fdca26"
             ],
             [
              1,
              "#f0f921"
             ]
            ],
            "type": "histogram2dcontour"
           }
          ],
          "mesh3d": [
           {
            "colorbar": {
             "outlinewidth": 0,
             "ticks": ""
            },
            "type": "mesh3d"
           }
          ],
          "parcoords": [
           {
            "line": {
             "colorbar": {
              "outlinewidth": 0,
              "ticks": ""
             }
            },
            "type": "parcoords"
           }
          ],
          "pie": [
           {
            "automargin": true,
            "type": "pie"
           }
          ],
          "scatter": [
           {
            "marker": {
             "colorbar": {
              "outlinewidth": 0,
              "ticks": ""
             }
            },
            "type": "scatter"
           }
          ],
          "scatter3d": [
           {
            "line": {
             "colorbar": {
              "outlinewidth": 0,
              "ticks": ""
             }
            },
            "marker": {
             "colorbar": {
              "outlinewidth": 0,
              "ticks": ""
             }
            },
            "type": "scatter3d"
           }
          ],
          "scattercarpet": [
           {
            "marker": {
             "colorbar": {
              "outlinewidth": 0,
              "ticks": ""
             }
            },
            "type": "scattercarpet"
           }
          ],
          "scattergeo": [
           {
            "marker": {
             "colorbar": {
              "outlinewidth": 0,
              "ticks": ""
             }
            },
            "type": "scattergeo"
           }
          ],
          "scattergl": [
           {
            "marker": {
             "colorbar": {
              "outlinewidth": 0,
              "ticks": ""
             }
            },
            "type": "scattergl"
           }
          ],
          "scattermapbox": [
           {
            "marker": {
             "colorbar": {
              "outlinewidth": 0,
              "ticks": ""
             }
            },
            "type": "scattermapbox"
           }
          ],
          "scatterpolar": [
           {
            "marker": {
             "colorbar": {
              "outlinewidth": 0,
              "ticks": ""
             }
            },
            "type": "scatterpolar"
           }
          ],
          "scatterpolargl": [
           {
            "marker": {
             "colorbar": {
              "outlinewidth": 0,
              "ticks": ""
             }
            },
            "type": "scatterpolargl"
           }
          ],
          "scatterternary": [
           {
            "marker": {
             "colorbar": {
              "outlinewidth": 0,
              "ticks": ""
             }
            },
            "type": "scatterternary"
           }
          ],
          "surface": [
           {
            "colorbar": {
             "outlinewidth": 0,
             "ticks": ""
            },
            "colorscale": [
             [
              0,
              "#0d0887"
             ],
             [
              0.1111111111111111,
              "#46039f"
             ],
             [
              0.2222222222222222,
              "#7201a8"
             ],
             [
              0.3333333333333333,
              "#9c179e"
             ],
             [
              0.4444444444444444,
              "#bd3786"
             ],
             [
              0.5555555555555556,
              "#d8576b"
             ],
             [
              0.6666666666666666,
              "#ed7953"
             ],
             [
              0.7777777777777778,
              "#fb9f3a"
             ],
             [
              0.8888888888888888,
              "#fdca26"
             ],
             [
              1,
              "#f0f921"
             ]
            ],
            "type": "surface"
           }
          ],
          "table": [
           {
            "cells": {
             "fill": {
              "color": "#EBF0F8"
             },
             "line": {
              "color": "white"
             }
            },
            "header": {
             "fill": {
              "color": "#C8D4E3"
             },
             "line": {
              "color": "white"
             }
            },
            "type": "table"
           }
          ]
         },
         "layout": {
          "annotationdefaults": {
           "arrowcolor": "#2a3f5f",
           "arrowhead": 0,
           "arrowwidth": 1
          },
          "autotypenumbers": "strict",
          "coloraxis": {
           "colorbar": {
            "outlinewidth": 0,
            "ticks": ""
           }
          },
          "colorscale": {
           "diverging": [
            [
             0,
             "#8e0152"
            ],
            [
             0.1,
             "#c51b7d"
            ],
            [
             0.2,
             "#de77ae"
            ],
            [
             0.3,
             "#f1b6da"
            ],
            [
             0.4,
             "#fde0ef"
            ],
            [
             0.5,
             "#f7f7f7"
            ],
            [
             0.6,
             "#e6f5d0"
            ],
            [
             0.7,
             "#b8e186"
            ],
            [
             0.8,
             "#7fbc41"
            ],
            [
             0.9,
             "#4d9221"
            ],
            [
             1,
             "#276419"
            ]
           ],
           "sequential": [
            [
             0,
             "#0d0887"
            ],
            [
             0.1111111111111111,
             "#46039f"
            ],
            [
             0.2222222222222222,
             "#7201a8"
            ],
            [
             0.3333333333333333,
             "#9c179e"
            ],
            [
             0.4444444444444444,
             "#bd3786"
            ],
            [
             0.5555555555555556,
             "#d8576b"
            ],
            [
             0.6666666666666666,
             "#ed7953"
            ],
            [
             0.7777777777777778,
             "#fb9f3a"
            ],
            [
             0.8888888888888888,
             "#fdca26"
            ],
            [
             1,
             "#f0f921"
            ]
           ],
           "sequentialminus": [
            [
             0,
             "#0d0887"
            ],
            [
             0.1111111111111111,
             "#46039f"
            ],
            [
             0.2222222222222222,
             "#7201a8"
            ],
            [
             0.3333333333333333,
             "#9c179e"
            ],
            [
             0.4444444444444444,
             "#bd3786"
            ],
            [
             0.5555555555555556,
             "#d8576b"
            ],
            [
             0.6666666666666666,
             "#ed7953"
            ],
            [
             0.7777777777777778,
             "#fb9f3a"
            ],
            [
             0.8888888888888888,
             "#fdca26"
            ],
            [
             1,
             "#f0f921"
            ]
           ]
          },
          "colorway": [
           "#636efa",
           "#EF553B",
           "#00cc96",
           "#ab63fa",
           "#FFA15A",
           "#19d3f3",
           "#FF6692",
           "#B6E880",
           "#FF97FF",
           "#FECB52"
          ],
          "font": {
           "color": "#2a3f5f"
          },
          "geo": {
           "bgcolor": "white",
           "lakecolor": "white",
           "landcolor": "#E5ECF6",
           "showlakes": true,
           "showland": true,
           "subunitcolor": "white"
          },
          "hoverlabel": {
           "align": "left"
          },
          "hovermode": "closest",
          "mapbox": {
           "style": "light"
          },
          "paper_bgcolor": "white",
          "plot_bgcolor": "#E5ECF6",
          "polar": {
           "angularaxis": {
            "gridcolor": "white",
            "linecolor": "white",
            "ticks": ""
           },
           "bgcolor": "#E5ECF6",
           "radialaxis": {
            "gridcolor": "white",
            "linecolor": "white",
            "ticks": ""
           }
          },
          "scene": {
           "xaxis": {
            "backgroundcolor": "#E5ECF6",
            "gridcolor": "white",
            "gridwidth": 2,
            "linecolor": "white",
            "showbackground": true,
            "ticks": "",
            "zerolinecolor": "white"
           },
           "yaxis": {
            "backgroundcolor": "#E5ECF6",
            "gridcolor": "white",
            "gridwidth": 2,
            "linecolor": "white",
            "showbackground": true,
            "ticks": "",
            "zerolinecolor": "white"
           },
           "zaxis": {
            "backgroundcolor": "#E5ECF6",
            "gridcolor": "white",
            "gridwidth": 2,
            "linecolor": "white",
            "showbackground": true,
            "ticks": "",
            "zerolinecolor": "white"
           }
          },
          "shapedefaults": {
           "line": {
            "color": "#2a3f5f"
           }
          },
          "ternary": {
           "aaxis": {
            "gridcolor": "white",
            "linecolor": "white",
            "ticks": ""
           },
           "baxis": {
            "gridcolor": "white",
            "linecolor": "white",
            "ticks": ""
           },
           "bgcolor": "#E5ECF6",
           "caxis": {
            "gridcolor": "white",
            "linecolor": "white",
            "ticks": ""
           }
          },
          "title": {
           "x": 0.05
          },
          "xaxis": {
           "automargin": true,
           "gridcolor": "white",
           "linecolor": "white",
           "ticks": "",
           "title": {
            "standoff": 15
           },
           "zerolinecolor": "white",
           "zerolinewidth": 2
          },
          "yaxis": {
           "automargin": true,
           "gridcolor": "white",
           "linecolor": "white",
           "ticks": "",
           "title": {
            "standoff": 15
           },
           "zerolinecolor": "white",
           "zerolinewidth": 2
          }
         }
        },
        "xaxis": {
         "anchor": "y",
         "domain": [
          0,
          1
         ],
         "title": {
          "text": "Surface"
         }
        },
        "yaxis": {
         "anchor": "x",
         "domain": [
          0,
          1
         ],
         "title": {
          "text": "ZC"
         }
        }
       }
      },
      "text/html": [
       "<div>                            <div id=\"c511f0e3-10de-461e-8b5f-acf41171f3b3\" class=\"plotly-graph-div\" style=\"height:525px; width:100%;\"></div>            <script type=\"text/javascript\">                require([\"plotly\"], function(Plotly) {                    window.PLOTLYENV=window.PLOTLYENV || {};                                    if (document.getElementById(\"c511f0e3-10de-461e-8b5f-acf41171f3b3\")) {                    Plotly.newPlot(                        \"c511f0e3-10de-461e-8b5f-acf41171f3b3\",                        [{\"alignmentgroup\":\"True\",\"boxpoints\":\"all\",\"hovertemplate\":\"Surface=%{x}<br>ZC=%{y}<extra></extra>\",\"legendgroup\":\"\",\"marker\":{\"color\":\"#636efa\"},\"name\":\"\",\"notched\":false,\"offsetgroup\":\"\",\"orientation\":\"v\",\"showlegend\":false,\"type\":\"box\",\"x\":[\"Wet Asphalt\",\"Wet Asphalt\",\"Wet Asphalt\",\"Wet Asphalt\",\"Wet Asphalt\",\"Wet Asphalt\",\"Wet Asphalt\",\"Wet Asphalt\",\"Wet Asphalt\",\"Wet Asphalt\",\"Wet Asphalt\",\"Wet Asphalt\",\"Wet Asphalt\",\"Wet Asphalt\",\"Wet Asphalt\",\"Wet Asphalt\",\"Wet Asphalt\",\"Wet Asphalt\",\"Wet Asphalt\",\"Wet Asphalt\",\"Wet Asphalt\",\"Wet Asphalt\",\"Wet Asphalt\",\"Wet Asphalt\",\"Wet Asphalt\",\"Wet Asphalt\",\"Wet Asphalt\",\"Wet Asphalt\",\"Wet Asphalt\",\"Wet Asphalt\",\"Wet Asphalt\",\"Wet Asphalt\",\"Wet Asphalt\",\"Wet Asphalt\",\"Wet Asphalt\",\"Wet Asphalt\",\"Wet Asphalt\",\"Wet Asphalt\",\"Wet Asphalt\",\"Wet Asphalt\",\"Wet Asphalt\",\"Wet Asphalt\",\"Wet Asphalt\",\"Wet Asphalt\",\"Wet Asphalt\",\"Wet Asphalt\",\"Wet Asphalt\",\"Wet Asphalt\",\"Wet Asphalt\",\"Wet Asphalt\",\"Wet Asphalt\",\"Wet Asphalt\",\"Wet Asphalt\",\"Wet Asphalt\",\"Wet Asphalt\",\"Wet Asphalt\",\"Wet Asphalt\",\"Wet Asphalt\",\"Wet Asphalt\",\"Wet Asphalt\",\"Wet Asphalt\",\"Wet Asphalt\",\"Wet Asphalt\",\"Wet Asphalt\",\"Wet Asphalt\",\"Wet Asphalt\",\"Wet Asphalt\",\"Wet Asphalt\",\"Wet Asphalt\",\"Wet Asphalt\",\"Wet Asphalt\",\"Wet Asphalt\",\"Wet Asphalt\",\"Wet Asphalt\",\"Wet Asphalt\",\"Wet Asphalt\",\"Wet Asphalt\",\"Wet Asphalt\",\"Wet Asphalt\",\"Wet Asphalt\",\"Wet Asphalt\",\"Wet Asphalt\",\"Wet Asphalt\",\"Wet Asphalt\",\"Wet Asphalt\",\"Wet Asphalt\",\"Wet Asphalt\",\"Wet Asphalt\",\"Wet Asphalt\",\"Wet Asphalt\",\"Wet Asphalt\",\"Wet Asphalt\",\"Wet Asphalt\",\"Wet Asphalt\",\"Wet Asphalt\",\"Wet Asphalt\",\"Wet Asphalt\",\"Wet Asphalt\",\"Wet Asphalt\",\"Wet Asphalt\",\"Wet Asphalt\",\"Wet Asphalt\",\"Wet Asphalt\",\"Wet Asphalt\",\"Wet Asphalt\",\"Wet Asphalt\",\"Wet Asphalt\",\"Wet Asphalt\",\"Wet Asphalt\",\"Gravel\",\"Gravel\",\"Gravel\",\"Gravel\",\"Gravel\",\"Gravel\",\"Gravel\",\"Gravel\",\"Gravel\",\"Gravel\",\"Gravel\",\"Gravel\",\"Gravel\",\"Gravel\",\"Gravel\",\"Gravel\",\"Gravel\",\"Gravel\",\"Gravel\",\"Gravel\",\"Gravel\",\"Gravel\",\"Gravel\",\"Gravel\",\"Gravel\",\"Gravel\",\"Gravel\",\"Gravel\",\"Gravel\",\"Gravel\"],\"x0\":\" \",\"xaxis\":\"x\",\"y\":[7470.0,8372.0,9023.0,8206.0,7371.0,5851.0,7106.0,7819.0,7480.0,6027.0,8390.0,10765.0,10660.0,10513.0,10505.0,11312.0,9588.0,7850.0,7036.0,7372.0,7202.0,6432.0,9281.0,9660.0,9168.0,7305.0,8463.0,8735.0,8764.0,8351.0,7503.0,8761.0,9181.0,9074.0,9331.0,9798.0,8940.0,8336.0,8092.0,7564.0,7499.0,8101.0,8145.0,8209.0,9400.0,7274.0,6670.0,7373.0,7365.0,7683.0,7565.0,8722.0,8180.0,7775.0,7857.0,7651.0,7972.0,7731.0,7853.0,8975.0,7010.0,3886.0,6713.0,6718.0,7154.0,7551.0,7689.0,6857.0,6022.0,6997.0,6513.0,6442.0,4962.0,4811.0,4086.0,6907.0,7151.0,6600.0,6469.0,7193.0,8117.0,6576.0,6125.0,7906.0,7441.0,8017.0,7726.0,7517.0,8503.0,8024.0,9631.0,11279.0,7313.0,7783.0,9684.0,8761.0,8354.0,9061.0,9184.0,9026.0,9194.0,8151.0,7176.0,9948.0,10261.0,12963.0,12965.0,8028.0,7200.0,10593.0,16049.0,10548.0,11494.0,11281.0,11877.0,9868.0,9221.0,8270.0,8810.0,10957.0,5763.0,6402.0,7252.0,6152.0,9012.0,7182.0,5830.0,6246.0,6762.0,7489.0,7347.0,8308.0,10186.0,16010.0,11186.0,8201.0,12740.0,10829.0,8286.0],\"y0\":\" \",\"yaxis\":\"y\"}],                        {\"boxmode\":\"group\",\"legend\":{\"tracegroupgap\":0},\"margin\":{\"t\":60},\"template\":{\"data\":{\"bar\":[{\"error_x\":{\"color\":\"#2a3f5f\"},\"error_y\":{\"color\":\"#2a3f5f\"},\"marker\":{\"line\":{\"color\":\"#E5ECF6\",\"width\":0.5},\"pattern\":{\"fillmode\":\"overlay\",\"size\":10,\"solidity\":0.2}},\"type\":\"bar\"}],\"barpolar\":[{\"marker\":{\"line\":{\"color\":\"#E5ECF6\",\"width\":0.5},\"pattern\":{\"fillmode\":\"overlay\",\"size\":10,\"solidity\":0.2}},\"type\":\"barpolar\"}],\"carpet\":[{\"aaxis\":{\"endlinecolor\":\"#2a3f5f\",\"gridcolor\":\"white\",\"linecolor\":\"white\",\"minorgridcolor\":\"white\",\"startlinecolor\":\"#2a3f5f\"},\"baxis\":{\"endlinecolor\":\"#2a3f5f\",\"gridcolor\":\"white\",\"linecolor\":\"white\",\"minorgridcolor\":\"white\",\"startlinecolor\":\"#2a3f5f\"},\"type\":\"carpet\"}],\"choropleth\":[{\"colorbar\":{\"outlinewidth\":0,\"ticks\":\"\"},\"type\":\"choropleth\"}],\"contour\":[{\"colorbar\":{\"outlinewidth\":0,\"ticks\":\"\"},\"colorscale\":[[0.0,\"#0d0887\"],[0.1111111111111111,\"#46039f\"],[0.2222222222222222,\"#7201a8\"],[0.3333333333333333,\"#9c179e\"],[0.4444444444444444,\"#bd3786\"],[0.5555555555555556,\"#d8576b\"],[0.6666666666666666,\"#ed7953\"],[0.7777777777777778,\"#fb9f3a\"],[0.8888888888888888,\"#fdca26\"],[1.0,\"#f0f921\"]],\"type\":\"contour\"}],\"contourcarpet\":[{\"colorbar\":{\"outlinewidth\":0,\"ticks\":\"\"},\"type\":\"contourcarpet\"}],\"heatmap\":[{\"colorbar\":{\"outlinewidth\":0,\"ticks\":\"\"},\"colorscale\":[[0.0,\"#0d0887\"],[0.1111111111111111,\"#46039f\"],[0.2222222222222222,\"#7201a8\"],[0.3333333333333333,\"#9c179e\"],[0.4444444444444444,\"#bd3786\"],[0.5555555555555556,\"#d8576b\"],[0.6666666666666666,\"#ed7953\"],[0.7777777777777778,\"#fb9f3a\"],[0.8888888888888888,\"#fdca26\"],[1.0,\"#f0f921\"]],\"type\":\"heatmap\"}],\"heatmapgl\":[{\"colorbar\":{\"outlinewidth\":0,\"ticks\":\"\"},\"colorscale\":[[0.0,\"#0d0887\"],[0.1111111111111111,\"#46039f\"],[0.2222222222222222,\"#7201a8\"],[0.3333333333333333,\"#9c179e\"],[0.4444444444444444,\"#bd3786\"],[0.5555555555555556,\"#d8576b\"],[0.6666666666666666,\"#ed7953\"],[0.7777777777777778,\"#fb9f3a\"],[0.8888888888888888,\"#fdca26\"],[1.0,\"#f0f921\"]],\"type\":\"heatmapgl\"}],\"histogram\":[{\"marker\":{\"pattern\":{\"fillmode\":\"overlay\",\"size\":10,\"solidity\":0.2}},\"type\":\"histogram\"}],\"histogram2d\":[{\"colorbar\":{\"outlinewidth\":0,\"ticks\":\"\"},\"colorscale\":[[0.0,\"#0d0887\"],[0.1111111111111111,\"#46039f\"],[0.2222222222222222,\"#7201a8\"],[0.3333333333333333,\"#9c179e\"],[0.4444444444444444,\"#bd3786\"],[0.5555555555555556,\"#d8576b\"],[0.6666666666666666,\"#ed7953\"],[0.7777777777777778,\"#fb9f3a\"],[0.8888888888888888,\"#fdca26\"],[1.0,\"#f0f921\"]],\"type\":\"histogram2d\"}],\"histogram2dcontour\":[{\"colorbar\":{\"outlinewidth\":0,\"ticks\":\"\"},\"colorscale\":[[0.0,\"#0d0887\"],[0.1111111111111111,\"#46039f\"],[0.2222222222222222,\"#7201a8\"],[0.3333333333333333,\"#9c179e\"],[0.4444444444444444,\"#bd3786\"],[0.5555555555555556,\"#d8576b\"],[0.6666666666666666,\"#ed7953\"],[0.7777777777777778,\"#fb9f3a\"],[0.8888888888888888,\"#fdca26\"],[1.0,\"#f0f921\"]],\"type\":\"histogram2dcontour\"}],\"mesh3d\":[{\"colorbar\":{\"outlinewidth\":0,\"ticks\":\"\"},\"type\":\"mesh3d\"}],\"parcoords\":[{\"line\":{\"colorbar\":{\"outlinewidth\":0,\"ticks\":\"\"}},\"type\":\"parcoords\"}],\"pie\":[{\"automargin\":true,\"type\":\"pie\"}],\"scatter\":[{\"marker\":{\"colorbar\":{\"outlinewidth\":0,\"ticks\":\"\"}},\"type\":\"scatter\"}],\"scatter3d\":[{\"line\":{\"colorbar\":{\"outlinewidth\":0,\"ticks\":\"\"}},\"marker\":{\"colorbar\":{\"outlinewidth\":0,\"ticks\":\"\"}},\"type\":\"scatter3d\"}],\"scattercarpet\":[{\"marker\":{\"colorbar\":{\"outlinewidth\":0,\"ticks\":\"\"}},\"type\":\"scattercarpet\"}],\"scattergeo\":[{\"marker\":{\"colorbar\":{\"outlinewidth\":0,\"ticks\":\"\"}},\"type\":\"scattergeo\"}],\"scattergl\":[{\"marker\":{\"colorbar\":{\"outlinewidth\":0,\"ticks\":\"\"}},\"type\":\"scattergl\"}],\"scattermapbox\":[{\"marker\":{\"colorbar\":{\"outlinewidth\":0,\"ticks\":\"\"}},\"type\":\"scattermapbox\"}],\"scatterpolar\":[{\"marker\":{\"colorbar\":{\"outlinewidth\":0,\"ticks\":\"\"}},\"type\":\"scatterpolar\"}],\"scatterpolargl\":[{\"marker\":{\"colorbar\":{\"outlinewidth\":0,\"ticks\":\"\"}},\"type\":\"scatterpolargl\"}],\"scatterternary\":[{\"marker\":{\"colorbar\":{\"outlinewidth\":0,\"ticks\":\"\"}},\"type\":\"scatterternary\"}],\"surface\":[{\"colorbar\":{\"outlinewidth\":0,\"ticks\":\"\"},\"colorscale\":[[0.0,\"#0d0887\"],[0.1111111111111111,\"#46039f\"],[0.2222222222222222,\"#7201a8\"],[0.3333333333333333,\"#9c179e\"],[0.4444444444444444,\"#bd3786\"],[0.5555555555555556,\"#d8576b\"],[0.6666666666666666,\"#ed7953\"],[0.7777777777777778,\"#fb9f3a\"],[0.8888888888888888,\"#fdca26\"],[1.0,\"#f0f921\"]],\"type\":\"surface\"}],\"table\":[{\"cells\":{\"fill\":{\"color\":\"#EBF0F8\"},\"line\":{\"color\":\"white\"}},\"header\":{\"fill\":{\"color\":\"#C8D4E3\"},\"line\":{\"color\":\"white\"}},\"type\":\"table\"}]},\"layout\":{\"annotationdefaults\":{\"arrowcolor\":\"#2a3f5f\",\"arrowhead\":0,\"arrowwidth\":1},\"autotypenumbers\":\"strict\",\"coloraxis\":{\"colorbar\":{\"outlinewidth\":0,\"ticks\":\"\"}},\"colorscale\":{\"diverging\":[[0,\"#8e0152\"],[0.1,\"#c51b7d\"],[0.2,\"#de77ae\"],[0.3,\"#f1b6da\"],[0.4,\"#fde0ef\"],[0.5,\"#f7f7f7\"],[0.6,\"#e6f5d0\"],[0.7,\"#b8e186\"],[0.8,\"#7fbc41\"],[0.9,\"#4d9221\"],[1,\"#276419\"]],\"sequential\":[[0.0,\"#0d0887\"],[0.1111111111111111,\"#46039f\"],[0.2222222222222222,\"#7201a8\"],[0.3333333333333333,\"#9c179e\"],[0.4444444444444444,\"#bd3786\"],[0.5555555555555556,\"#d8576b\"],[0.6666666666666666,\"#ed7953\"],[0.7777777777777778,\"#fb9f3a\"],[0.8888888888888888,\"#fdca26\"],[1.0,\"#f0f921\"]],\"sequentialminus\":[[0.0,\"#0d0887\"],[0.1111111111111111,\"#46039f\"],[0.2222222222222222,\"#7201a8\"],[0.3333333333333333,\"#9c179e\"],[0.4444444444444444,\"#bd3786\"],[0.5555555555555556,\"#d8576b\"],[0.6666666666666666,\"#ed7953\"],[0.7777777777777778,\"#fb9f3a\"],[0.8888888888888888,\"#fdca26\"],[1.0,\"#f0f921\"]]},\"colorway\":[\"#636efa\",\"#EF553B\",\"#00cc96\",\"#ab63fa\",\"#FFA15A\",\"#19d3f3\",\"#FF6692\",\"#B6E880\",\"#FF97FF\",\"#FECB52\"],\"font\":{\"color\":\"#2a3f5f\"},\"geo\":{\"bgcolor\":\"white\",\"lakecolor\":\"white\",\"landcolor\":\"#E5ECF6\",\"showlakes\":true,\"showland\":true,\"subunitcolor\":\"white\"},\"hoverlabel\":{\"align\":\"left\"},\"hovermode\":\"closest\",\"mapbox\":{\"style\":\"light\"},\"paper_bgcolor\":\"white\",\"plot_bgcolor\":\"#E5ECF6\",\"polar\":{\"angularaxis\":{\"gridcolor\":\"white\",\"linecolor\":\"white\",\"ticks\":\"\"},\"bgcolor\":\"#E5ECF6\",\"radialaxis\":{\"gridcolor\":\"white\",\"linecolor\":\"white\",\"ticks\":\"\"}},\"scene\":{\"xaxis\":{\"backgroundcolor\":\"#E5ECF6\",\"gridcolor\":\"white\",\"gridwidth\":2,\"linecolor\":\"white\",\"showbackground\":true,\"ticks\":\"\",\"zerolinecolor\":\"white\"},\"yaxis\":{\"backgroundcolor\":\"#E5ECF6\",\"gridcolor\":\"white\",\"gridwidth\":2,\"linecolor\":\"white\",\"showbackground\":true,\"ticks\":\"\",\"zerolinecolor\":\"white\"},\"zaxis\":{\"backgroundcolor\":\"#E5ECF6\",\"gridcolor\":\"white\",\"gridwidth\":2,\"linecolor\":\"white\",\"showbackground\":true,\"ticks\":\"\",\"zerolinecolor\":\"white\"}},\"shapedefaults\":{\"line\":{\"color\":\"#2a3f5f\"}},\"ternary\":{\"aaxis\":{\"gridcolor\":\"white\",\"linecolor\":\"white\",\"ticks\":\"\"},\"baxis\":{\"gridcolor\":\"white\",\"linecolor\":\"white\",\"ticks\":\"\"},\"bgcolor\":\"#E5ECF6\",\"caxis\":{\"gridcolor\":\"white\",\"linecolor\":\"white\",\"ticks\":\"\"}},\"title\":{\"x\":0.05},\"xaxis\":{\"automargin\":true,\"gridcolor\":\"white\",\"linecolor\":\"white\",\"ticks\":\"\",\"title\":{\"standoff\":15},\"zerolinecolor\":\"white\",\"zerolinewidth\":2},\"yaxis\":{\"automargin\":true,\"gridcolor\":\"white\",\"linecolor\":\"white\",\"ticks\":\"\",\"title\":{\"standoff\":15},\"zerolinecolor\":\"white\",\"zerolinewidth\":2}}},\"xaxis\":{\"anchor\":\"y\",\"domain\":[0.0,1.0],\"title\":{\"text\":\"Surface\"}},\"yaxis\":{\"anchor\":\"x\",\"domain\":[0.0,1.0],\"title\":{\"text\":\"ZC\"}}},                        {\"responsive\": true}                    ).then(function(){\n",
       "                            \n",
       "var gd = document.getElementById('c511f0e3-10de-461e-8b5f-acf41171f3b3');\n",
       "var x = new MutationObserver(function (mutations, observer) {{\n",
       "        var display = window.getComputedStyle(gd).display;\n",
       "        if (!display || display === 'none') {{\n",
       "            console.log([gd, 'removed!']);\n",
       "            Plotly.purge(gd);\n",
       "            observer.disconnect();\n",
       "        }}\n",
       "}});\n",
       "\n",
       "// Listen for the removal of the full notebook cells\n",
       "var notebookContainer = gd.closest('#notebook-container');\n",
       "if (notebookContainer) {{\n",
       "    x.observe(notebookContainer, {childList: true});\n",
       "}}\n",
       "\n",
       "// Listen for the clearing of the current output cell\n",
       "var outputEl = gd.closest('.output');\n",
       "if (outputEl) {{\n",
       "    x.observe(outputEl, {childList: true});\n",
       "}}\n",
       "\n",
       "                        })                };                });            </script>        </div>"
      ]
     },
     "metadata": {},
     "output_type": "display_data"
    }
   ],
   "source": [
    "fig = px.box(alldf, x=\"Surface\", y=\"ZC\", points = 'all')\n",
    "fig.show()"
   ]
  },
  {
   "cell_type": "code",
   "execution_count": 154,
   "metadata": {},
   "outputs": [
    {
     "data": {
      "application/vnd.plotly.v1+json": {
       "config": {
        "plotlyServerURL": "https://plot.ly"
       },
       "data": [
        {
         "alignmentgroup": "True",
         "boxpoints": "all",
         "hovertemplate": "Surface=%{x}<br>ZCf=%{y}<extra></extra>",
         "legendgroup": "",
         "marker": {
          "color": "#636efa"
         },
         "name": "",
         "notched": false,
         "offsetgroup": "",
         "orientation": "v",
         "showlegend": false,
         "type": "box",
         "x": [
          "Wet Asphalt",
          "Wet Asphalt",
          "Wet Asphalt",
          "Wet Asphalt",
          "Wet Asphalt",
          "Wet Asphalt",
          "Wet Asphalt",
          "Wet Asphalt",
          "Wet Asphalt",
          "Wet Asphalt",
          "Wet Asphalt",
          "Wet Asphalt",
          "Wet Asphalt",
          "Wet Asphalt",
          "Wet Asphalt",
          "Wet Asphalt",
          "Wet Asphalt",
          "Wet Asphalt",
          "Wet Asphalt",
          "Wet Asphalt",
          "Wet Asphalt",
          "Wet Asphalt",
          "Wet Asphalt",
          "Wet Asphalt",
          "Wet Asphalt",
          "Wet Asphalt",
          "Wet Asphalt",
          "Wet Asphalt",
          "Wet Asphalt",
          "Wet Asphalt",
          "Wet Asphalt",
          "Wet Asphalt",
          "Wet Asphalt",
          "Wet Asphalt",
          "Wet Asphalt",
          "Wet Asphalt",
          "Wet Asphalt",
          "Wet Asphalt",
          "Wet Asphalt",
          "Wet Asphalt",
          "Wet Asphalt",
          "Wet Asphalt",
          "Wet Asphalt",
          "Wet Asphalt",
          "Wet Asphalt",
          "Wet Asphalt",
          "Wet Asphalt",
          "Wet Asphalt",
          "Wet Asphalt",
          "Wet Asphalt",
          "Wet Asphalt",
          "Wet Asphalt",
          "Wet Asphalt",
          "Wet Asphalt",
          "Wet Asphalt",
          "Wet Asphalt",
          "Wet Asphalt",
          "Wet Asphalt",
          "Wet Asphalt",
          "Wet Asphalt",
          "Wet Asphalt",
          "Wet Asphalt",
          "Wet Asphalt",
          "Wet Asphalt",
          "Wet Asphalt",
          "Wet Asphalt",
          "Wet Asphalt",
          "Wet Asphalt",
          "Wet Asphalt",
          "Wet Asphalt",
          "Wet Asphalt",
          "Wet Asphalt",
          "Wet Asphalt",
          "Wet Asphalt",
          "Wet Asphalt",
          "Wet Asphalt",
          "Wet Asphalt",
          "Wet Asphalt",
          "Wet Asphalt",
          "Wet Asphalt",
          "Wet Asphalt",
          "Wet Asphalt",
          "Wet Asphalt",
          "Wet Asphalt",
          "Wet Asphalt",
          "Wet Asphalt",
          "Wet Asphalt",
          "Wet Asphalt",
          "Wet Asphalt",
          "Wet Asphalt",
          "Wet Asphalt",
          "Wet Asphalt",
          "Wet Asphalt",
          "Wet Asphalt",
          "Wet Asphalt",
          "Wet Asphalt",
          "Wet Asphalt",
          "Wet Asphalt",
          "Wet Asphalt",
          "Wet Asphalt",
          "Wet Asphalt",
          "Wet Asphalt",
          "Wet Asphalt",
          "Wet Asphalt",
          "Wet Asphalt",
          "Wet Asphalt",
          "Wet Asphalt",
          "Wet Asphalt",
          "Wet Asphalt",
          "Gravel",
          "Gravel",
          "Gravel",
          "Gravel",
          "Gravel",
          "Gravel",
          "Gravel",
          "Gravel",
          "Gravel",
          "Gravel",
          "Gravel",
          "Gravel",
          "Gravel",
          "Gravel",
          "Gravel",
          "Gravel",
          "Gravel",
          "Gravel",
          "Gravel",
          "Gravel",
          "Gravel",
          "Gravel",
          "Gravel",
          "Gravel",
          "Gravel",
          "Gravel",
          "Gravel",
          "Gravel",
          "Gravel",
          "Gravel"
         ],
         "x0": " ",
         "xaxis": "x",
         "y": [
          8387,
          9884,
          10466,
          9659,
          9141,
          6894,
          7752,
          8539,
          8204,
          6707,
          9185,
          12123,
          12527,
          11875,
          11924,
          13849,
          11819,
          10601,
          9557,
          9135,
          8225,
          7120,
          10701,
          11082,
          10554,
          7781,
          9765,
          10141,
          10200,
          9916,
          8617,
          9614,
          10807,
          10963,
          11211,
          11338,
          10657,
          9837,
          9288,
          9063,
          8707,
          9684,
          10132,
          10162,
          11808,
          9281,
          8329,
          9516,
          9445,
          9869,
          9369,
          10506,
          9706,
          10584,
          10045,
          9442,
          10042,
          9397,
          9788,
          10232,
          8534,
          5375,
          8015,
          7984,
          9509,
          9871,
          10000,
          7600,
          7236,
          8666,
          8119,
          7800,
          6117,
          5590,
          5479,
          7867,
          8700,
          8314,
          8084,
          8110,
          10240,
          7370,
          6870,
          10085,
          9748,
          10369,
          10237,
          9898,
          10245,
          9614,
          11459,
          12826,
          8898,
          8899,
          11993,
          10110,
          9437,
          9846,
          10650,
          10074,
          10596,
          9646,
          9905,
          11550,
          11269,
          14343,
          14007,
          8983,
          8304,
          13156,
          20817,
          13514,
          14074,
          13145,
          14399,
          12347,
          11757,
          10315,
          11178,
          13602,
          8931,
          9367,
          9473,
          8742,
          12502,
          10462,
          8666,
          8880,
          9652,
          11700,
          10189,
          13080,
          17086,
          22799,
          16171,
          13024,
          18786,
          16163,
          15063
         ],
         "y0": " ",
         "yaxis": "y"
        }
       ],
       "layout": {
        "boxmode": "group",
        "legend": {
         "tracegroupgap": 0
        },
        "margin": {
         "t": 60
        },
        "template": {
         "data": {
          "bar": [
           {
            "error_x": {
             "color": "#2a3f5f"
            },
            "error_y": {
             "color": "#2a3f5f"
            },
            "marker": {
             "line": {
              "color": "#E5ECF6",
              "width": 0.5
             },
             "pattern": {
              "fillmode": "overlay",
              "size": 10,
              "solidity": 0.2
             }
            },
            "type": "bar"
           }
          ],
          "barpolar": [
           {
            "marker": {
             "line": {
              "color": "#E5ECF6",
              "width": 0.5
             },
             "pattern": {
              "fillmode": "overlay",
              "size": 10,
              "solidity": 0.2
             }
            },
            "type": "barpolar"
           }
          ],
          "carpet": [
           {
            "aaxis": {
             "endlinecolor": "#2a3f5f",
             "gridcolor": "white",
             "linecolor": "white",
             "minorgridcolor": "white",
             "startlinecolor": "#2a3f5f"
            },
            "baxis": {
             "endlinecolor": "#2a3f5f",
             "gridcolor": "white",
             "linecolor": "white",
             "minorgridcolor": "white",
             "startlinecolor": "#2a3f5f"
            },
            "type": "carpet"
           }
          ],
          "choropleth": [
           {
            "colorbar": {
             "outlinewidth": 0,
             "ticks": ""
            },
            "type": "choropleth"
           }
          ],
          "contour": [
           {
            "colorbar": {
             "outlinewidth": 0,
             "ticks": ""
            },
            "colorscale": [
             [
              0,
              "#0d0887"
             ],
             [
              0.1111111111111111,
              "#46039f"
             ],
             [
              0.2222222222222222,
              "#7201a8"
             ],
             [
              0.3333333333333333,
              "#9c179e"
             ],
             [
              0.4444444444444444,
              "#bd3786"
             ],
             [
              0.5555555555555556,
              "#d8576b"
             ],
             [
              0.6666666666666666,
              "#ed7953"
             ],
             [
              0.7777777777777778,
              "#fb9f3a"
             ],
             [
              0.8888888888888888,
              "#fdca26"
             ],
             [
              1,
              "#f0f921"
             ]
            ],
            "type": "contour"
           }
          ],
          "contourcarpet": [
           {
            "colorbar": {
             "outlinewidth": 0,
             "ticks": ""
            },
            "type": "contourcarpet"
           }
          ],
          "heatmap": [
           {
            "colorbar": {
             "outlinewidth": 0,
             "ticks": ""
            },
            "colorscale": [
             [
              0,
              "#0d0887"
             ],
             [
              0.1111111111111111,
              "#46039f"
             ],
             [
              0.2222222222222222,
              "#7201a8"
             ],
             [
              0.3333333333333333,
              "#9c179e"
             ],
             [
              0.4444444444444444,
              "#bd3786"
             ],
             [
              0.5555555555555556,
              "#d8576b"
             ],
             [
              0.6666666666666666,
              "#ed7953"
             ],
             [
              0.7777777777777778,
              "#fb9f3a"
             ],
             [
              0.8888888888888888,
              "#fdca26"
             ],
             [
              1,
              "#f0f921"
             ]
            ],
            "type": "heatmap"
           }
          ],
          "heatmapgl": [
           {
            "colorbar": {
             "outlinewidth": 0,
             "ticks": ""
            },
            "colorscale": [
             [
              0,
              "#0d0887"
             ],
             [
              0.1111111111111111,
              "#46039f"
             ],
             [
              0.2222222222222222,
              "#7201a8"
             ],
             [
              0.3333333333333333,
              "#9c179e"
             ],
             [
              0.4444444444444444,
              "#bd3786"
             ],
             [
              0.5555555555555556,
              "#d8576b"
             ],
             [
              0.6666666666666666,
              "#ed7953"
             ],
             [
              0.7777777777777778,
              "#fb9f3a"
             ],
             [
              0.8888888888888888,
              "#fdca26"
             ],
             [
              1,
              "#f0f921"
             ]
            ],
            "type": "heatmapgl"
           }
          ],
          "histogram": [
           {
            "marker": {
             "pattern": {
              "fillmode": "overlay",
              "size": 10,
              "solidity": 0.2
             }
            },
            "type": "histogram"
           }
          ],
          "histogram2d": [
           {
            "colorbar": {
             "outlinewidth": 0,
             "ticks": ""
            },
            "colorscale": [
             [
              0,
              "#0d0887"
             ],
             [
              0.1111111111111111,
              "#46039f"
             ],
             [
              0.2222222222222222,
              "#7201a8"
             ],
             [
              0.3333333333333333,
              "#9c179e"
             ],
             [
              0.4444444444444444,
              "#bd3786"
             ],
             [
              0.5555555555555556,
              "#d8576b"
             ],
             [
              0.6666666666666666,
              "#ed7953"
             ],
             [
              0.7777777777777778,
              "#fb9f3a"
             ],
             [
              0.8888888888888888,
              "#fdca26"
             ],
             [
              1,
              "#f0f921"
             ]
            ],
            "type": "histogram2d"
           }
          ],
          "histogram2dcontour": [
           {
            "colorbar": {
             "outlinewidth": 0,
             "ticks": ""
            },
            "colorscale": [
             [
              0,
              "#0d0887"
             ],
             [
              0.1111111111111111,
              "#46039f"
             ],
             [
              0.2222222222222222,
              "#7201a8"
             ],
             [
              0.3333333333333333,
              "#9c179e"
             ],
             [
              0.4444444444444444,
              "#bd3786"
             ],
             [
              0.5555555555555556,
              "#d8576b"
             ],
             [
              0.6666666666666666,
              "#ed7953"
             ],
             [
              0.7777777777777778,
              "#fb9f3a"
             ],
             [
              0.8888888888888888,
              "#fdca26"
             ],
             [
              1,
              "#f0f921"
             ]
            ],
            "type": "histogram2dcontour"
           }
          ],
          "mesh3d": [
           {
            "colorbar": {
             "outlinewidth": 0,
             "ticks": ""
            },
            "type": "mesh3d"
           }
          ],
          "parcoords": [
           {
            "line": {
             "colorbar": {
              "outlinewidth": 0,
              "ticks": ""
             }
            },
            "type": "parcoords"
           }
          ],
          "pie": [
           {
            "automargin": true,
            "type": "pie"
           }
          ],
          "scatter": [
           {
            "marker": {
             "colorbar": {
              "outlinewidth": 0,
              "ticks": ""
             }
            },
            "type": "scatter"
           }
          ],
          "scatter3d": [
           {
            "line": {
             "colorbar": {
              "outlinewidth": 0,
              "ticks": ""
             }
            },
            "marker": {
             "colorbar": {
              "outlinewidth": 0,
              "ticks": ""
             }
            },
            "type": "scatter3d"
           }
          ],
          "scattercarpet": [
           {
            "marker": {
             "colorbar": {
              "outlinewidth": 0,
              "ticks": ""
             }
            },
            "type": "scattercarpet"
           }
          ],
          "scattergeo": [
           {
            "marker": {
             "colorbar": {
              "outlinewidth": 0,
              "ticks": ""
             }
            },
            "type": "scattergeo"
           }
          ],
          "scattergl": [
           {
            "marker": {
             "colorbar": {
              "outlinewidth": 0,
              "ticks": ""
             }
            },
            "type": "scattergl"
           }
          ],
          "scattermapbox": [
           {
            "marker": {
             "colorbar": {
              "outlinewidth": 0,
              "ticks": ""
             }
            },
            "type": "scattermapbox"
           }
          ],
          "scatterpolar": [
           {
            "marker": {
             "colorbar": {
              "outlinewidth": 0,
              "ticks": ""
             }
            },
            "type": "scatterpolar"
           }
          ],
          "scatterpolargl": [
           {
            "marker": {
             "colorbar": {
              "outlinewidth": 0,
              "ticks": ""
             }
            },
            "type": "scatterpolargl"
           }
          ],
          "scatterternary": [
           {
            "marker": {
             "colorbar": {
              "outlinewidth": 0,
              "ticks": ""
             }
            },
            "type": "scatterternary"
           }
          ],
          "surface": [
           {
            "colorbar": {
             "outlinewidth": 0,
             "ticks": ""
            },
            "colorscale": [
             [
              0,
              "#0d0887"
             ],
             [
              0.1111111111111111,
              "#46039f"
             ],
             [
              0.2222222222222222,
              "#7201a8"
             ],
             [
              0.3333333333333333,
              "#9c179e"
             ],
             [
              0.4444444444444444,
              "#bd3786"
             ],
             [
              0.5555555555555556,
              "#d8576b"
             ],
             [
              0.6666666666666666,
              "#ed7953"
             ],
             [
              0.7777777777777778,
              "#fb9f3a"
             ],
             [
              0.8888888888888888,
              "#fdca26"
             ],
             [
              1,
              "#f0f921"
             ]
            ],
            "type": "surface"
           }
          ],
          "table": [
           {
            "cells": {
             "fill": {
              "color": "#EBF0F8"
             },
             "line": {
              "color": "white"
             }
            },
            "header": {
             "fill": {
              "color": "#C8D4E3"
             },
             "line": {
              "color": "white"
             }
            },
            "type": "table"
           }
          ]
         },
         "layout": {
          "annotationdefaults": {
           "arrowcolor": "#2a3f5f",
           "arrowhead": 0,
           "arrowwidth": 1
          },
          "autotypenumbers": "strict",
          "coloraxis": {
           "colorbar": {
            "outlinewidth": 0,
            "ticks": ""
           }
          },
          "colorscale": {
           "diverging": [
            [
             0,
             "#8e0152"
            ],
            [
             0.1,
             "#c51b7d"
            ],
            [
             0.2,
             "#de77ae"
            ],
            [
             0.3,
             "#f1b6da"
            ],
            [
             0.4,
             "#fde0ef"
            ],
            [
             0.5,
             "#f7f7f7"
            ],
            [
             0.6,
             "#e6f5d0"
            ],
            [
             0.7,
             "#b8e186"
            ],
            [
             0.8,
             "#7fbc41"
            ],
            [
             0.9,
             "#4d9221"
            ],
            [
             1,
             "#276419"
            ]
           ],
           "sequential": [
            [
             0,
             "#0d0887"
            ],
            [
             0.1111111111111111,
             "#46039f"
            ],
            [
             0.2222222222222222,
             "#7201a8"
            ],
            [
             0.3333333333333333,
             "#9c179e"
            ],
            [
             0.4444444444444444,
             "#bd3786"
            ],
            [
             0.5555555555555556,
             "#d8576b"
            ],
            [
             0.6666666666666666,
             "#ed7953"
            ],
            [
             0.7777777777777778,
             "#fb9f3a"
            ],
            [
             0.8888888888888888,
             "#fdca26"
            ],
            [
             1,
             "#f0f921"
            ]
           ],
           "sequentialminus": [
            [
             0,
             "#0d0887"
            ],
            [
             0.1111111111111111,
             "#46039f"
            ],
            [
             0.2222222222222222,
             "#7201a8"
            ],
            [
             0.3333333333333333,
             "#9c179e"
            ],
            [
             0.4444444444444444,
             "#bd3786"
            ],
            [
             0.5555555555555556,
             "#d8576b"
            ],
            [
             0.6666666666666666,
             "#ed7953"
            ],
            [
             0.7777777777777778,
             "#fb9f3a"
            ],
            [
             0.8888888888888888,
             "#fdca26"
            ],
            [
             1,
             "#f0f921"
            ]
           ]
          },
          "colorway": [
           "#636efa",
           "#EF553B",
           "#00cc96",
           "#ab63fa",
           "#FFA15A",
           "#19d3f3",
           "#FF6692",
           "#B6E880",
           "#FF97FF",
           "#FECB52"
          ],
          "font": {
           "color": "#2a3f5f"
          },
          "geo": {
           "bgcolor": "white",
           "lakecolor": "white",
           "landcolor": "#E5ECF6",
           "showlakes": true,
           "showland": true,
           "subunitcolor": "white"
          },
          "hoverlabel": {
           "align": "left"
          },
          "hovermode": "closest",
          "mapbox": {
           "style": "light"
          },
          "paper_bgcolor": "white",
          "plot_bgcolor": "#E5ECF6",
          "polar": {
           "angularaxis": {
            "gridcolor": "white",
            "linecolor": "white",
            "ticks": ""
           },
           "bgcolor": "#E5ECF6",
           "radialaxis": {
            "gridcolor": "white",
            "linecolor": "white",
            "ticks": ""
           }
          },
          "scene": {
           "xaxis": {
            "backgroundcolor": "#E5ECF6",
            "gridcolor": "white",
            "gridwidth": 2,
            "linecolor": "white",
            "showbackground": true,
            "ticks": "",
            "zerolinecolor": "white"
           },
           "yaxis": {
            "backgroundcolor": "#E5ECF6",
            "gridcolor": "white",
            "gridwidth": 2,
            "linecolor": "white",
            "showbackground": true,
            "ticks": "",
            "zerolinecolor": "white"
           },
           "zaxis": {
            "backgroundcolor": "#E5ECF6",
            "gridcolor": "white",
            "gridwidth": 2,
            "linecolor": "white",
            "showbackground": true,
            "ticks": "",
            "zerolinecolor": "white"
           }
          },
          "shapedefaults": {
           "line": {
            "color": "#2a3f5f"
           }
          },
          "ternary": {
           "aaxis": {
            "gridcolor": "white",
            "linecolor": "white",
            "ticks": ""
           },
           "baxis": {
            "gridcolor": "white",
            "linecolor": "white",
            "ticks": ""
           },
           "bgcolor": "#E5ECF6",
           "caxis": {
            "gridcolor": "white",
            "linecolor": "white",
            "ticks": ""
           }
          },
          "title": {
           "x": 0.05
          },
          "xaxis": {
           "automargin": true,
           "gridcolor": "white",
           "linecolor": "white",
           "ticks": "",
           "title": {
            "standoff": 15
           },
           "zerolinecolor": "white",
           "zerolinewidth": 2
          },
          "yaxis": {
           "automargin": true,
           "gridcolor": "white",
           "linecolor": "white",
           "ticks": "",
           "title": {
            "standoff": 15
           },
           "zerolinecolor": "white",
           "zerolinewidth": 2
          }
         }
        },
        "xaxis": {
         "anchor": "y",
         "domain": [
          0,
          1
         ],
         "title": {
          "text": "Surface"
         }
        },
        "yaxis": {
         "anchor": "x",
         "domain": [
          0,
          1
         ],
         "title": {
          "text": "ZCf"
         }
        }
       }
      },
      "text/html": [
       "<div>                            <div id=\"d36f135b-cf8e-4198-8c28-55ad7d1a8f31\" class=\"plotly-graph-div\" style=\"height:525px; width:100%;\"></div>            <script type=\"text/javascript\">                require([\"plotly\"], function(Plotly) {                    window.PLOTLYENV=window.PLOTLYENV || {};                                    if (document.getElementById(\"d36f135b-cf8e-4198-8c28-55ad7d1a8f31\")) {                    Plotly.newPlot(                        \"d36f135b-cf8e-4198-8c28-55ad7d1a8f31\",                        [{\"alignmentgroup\":\"True\",\"boxpoints\":\"all\",\"hovertemplate\":\"Surface=%{x}<br>ZCf=%{y}<extra></extra>\",\"legendgroup\":\"\",\"marker\":{\"color\":\"#636efa\"},\"name\":\"\",\"notched\":false,\"offsetgroup\":\"\",\"orientation\":\"v\",\"showlegend\":false,\"type\":\"box\",\"x\":[\"Wet Asphalt\",\"Wet Asphalt\",\"Wet Asphalt\",\"Wet Asphalt\",\"Wet Asphalt\",\"Wet Asphalt\",\"Wet Asphalt\",\"Wet Asphalt\",\"Wet Asphalt\",\"Wet Asphalt\",\"Wet Asphalt\",\"Wet Asphalt\",\"Wet Asphalt\",\"Wet Asphalt\",\"Wet Asphalt\",\"Wet Asphalt\",\"Wet Asphalt\",\"Wet Asphalt\",\"Wet Asphalt\",\"Wet Asphalt\",\"Wet Asphalt\",\"Wet Asphalt\",\"Wet Asphalt\",\"Wet Asphalt\",\"Wet Asphalt\",\"Wet Asphalt\",\"Wet Asphalt\",\"Wet Asphalt\",\"Wet Asphalt\",\"Wet Asphalt\",\"Wet Asphalt\",\"Wet Asphalt\",\"Wet Asphalt\",\"Wet Asphalt\",\"Wet Asphalt\",\"Wet Asphalt\",\"Wet Asphalt\",\"Wet Asphalt\",\"Wet Asphalt\",\"Wet Asphalt\",\"Wet Asphalt\",\"Wet Asphalt\",\"Wet Asphalt\",\"Wet Asphalt\",\"Wet Asphalt\",\"Wet Asphalt\",\"Wet Asphalt\",\"Wet Asphalt\",\"Wet Asphalt\",\"Wet Asphalt\",\"Wet Asphalt\",\"Wet Asphalt\",\"Wet Asphalt\",\"Wet Asphalt\",\"Wet Asphalt\",\"Wet Asphalt\",\"Wet Asphalt\",\"Wet Asphalt\",\"Wet Asphalt\",\"Wet Asphalt\",\"Wet Asphalt\",\"Wet Asphalt\",\"Wet Asphalt\",\"Wet Asphalt\",\"Wet Asphalt\",\"Wet Asphalt\",\"Wet Asphalt\",\"Wet Asphalt\",\"Wet Asphalt\",\"Wet Asphalt\",\"Wet Asphalt\",\"Wet Asphalt\",\"Wet Asphalt\",\"Wet Asphalt\",\"Wet Asphalt\",\"Wet Asphalt\",\"Wet Asphalt\",\"Wet Asphalt\",\"Wet Asphalt\",\"Wet Asphalt\",\"Wet Asphalt\",\"Wet Asphalt\",\"Wet Asphalt\",\"Wet Asphalt\",\"Wet Asphalt\",\"Wet Asphalt\",\"Wet Asphalt\",\"Wet Asphalt\",\"Wet Asphalt\",\"Wet Asphalt\",\"Wet Asphalt\",\"Wet Asphalt\",\"Wet Asphalt\",\"Wet Asphalt\",\"Wet Asphalt\",\"Wet Asphalt\",\"Wet Asphalt\",\"Wet Asphalt\",\"Wet Asphalt\",\"Wet Asphalt\",\"Wet Asphalt\",\"Wet Asphalt\",\"Wet Asphalt\",\"Wet Asphalt\",\"Wet Asphalt\",\"Wet Asphalt\",\"Wet Asphalt\",\"Wet Asphalt\",\"Wet Asphalt\",\"Gravel\",\"Gravel\",\"Gravel\",\"Gravel\",\"Gravel\",\"Gravel\",\"Gravel\",\"Gravel\",\"Gravel\",\"Gravel\",\"Gravel\",\"Gravel\",\"Gravel\",\"Gravel\",\"Gravel\",\"Gravel\",\"Gravel\",\"Gravel\",\"Gravel\",\"Gravel\",\"Gravel\",\"Gravel\",\"Gravel\",\"Gravel\",\"Gravel\",\"Gravel\",\"Gravel\",\"Gravel\",\"Gravel\",\"Gravel\"],\"x0\":\" \",\"xaxis\":\"x\",\"y\":[8387.0,9884.0,10466.0,9659.0,9141.0,6894.0,7752.0,8539.0,8204.0,6707.0,9185.0,12123.0,12527.0,11875.0,11924.0,13849.0,11819.0,10601.0,9557.0,9135.0,8225.0,7120.0,10701.0,11082.0,10554.0,7781.0,9765.0,10141.0,10200.0,9916.0,8617.0,9614.0,10807.0,10963.0,11211.0,11338.0,10657.0,9837.0,9288.0,9063.0,8707.0,9684.0,10132.0,10162.0,11808.0,9281.0,8329.0,9516.0,9445.0,9869.0,9369.0,10506.0,9706.0,10584.0,10045.0,9442.0,10042.0,9397.0,9788.0,10232.0,8534.0,5375.0,8015.0,7984.0,9509.0,9871.0,10000.0,7600.0,7236.0,8666.0,8119.0,7800.0,6117.0,5590.0,5479.0,7867.0,8700.0,8314.0,8084.0,8110.0,10240.0,7370.0,6870.0,10085.0,9748.0,10369.0,10237.0,9898.0,10245.0,9614.0,11459.0,12826.0,8898.0,8899.0,11993.0,10110.0,9437.0,9846.0,10650.0,10074.0,10596.0,9646.0,9905.0,11550.0,11269.0,14343.0,14007.0,8983.0,8304.0,13156.0,20817.0,13514.0,14074.0,13145.0,14399.0,12347.0,11757.0,10315.0,11178.0,13602.0,8931.0,9367.0,9473.0,8742.0,12502.0,10462.0,8666.0,8880.0,9652.0,11700.0,10189.0,13080.0,17086.0,22799.0,16171.0,13024.0,18786.0,16163.0,15063.0],\"y0\":\" \",\"yaxis\":\"y\"}],                        {\"boxmode\":\"group\",\"legend\":{\"tracegroupgap\":0},\"margin\":{\"t\":60},\"template\":{\"data\":{\"bar\":[{\"error_x\":{\"color\":\"#2a3f5f\"},\"error_y\":{\"color\":\"#2a3f5f\"},\"marker\":{\"line\":{\"color\":\"#E5ECF6\",\"width\":0.5},\"pattern\":{\"fillmode\":\"overlay\",\"size\":10,\"solidity\":0.2}},\"type\":\"bar\"}],\"barpolar\":[{\"marker\":{\"line\":{\"color\":\"#E5ECF6\",\"width\":0.5},\"pattern\":{\"fillmode\":\"overlay\",\"size\":10,\"solidity\":0.2}},\"type\":\"barpolar\"}],\"carpet\":[{\"aaxis\":{\"endlinecolor\":\"#2a3f5f\",\"gridcolor\":\"white\",\"linecolor\":\"white\",\"minorgridcolor\":\"white\",\"startlinecolor\":\"#2a3f5f\"},\"baxis\":{\"endlinecolor\":\"#2a3f5f\",\"gridcolor\":\"white\",\"linecolor\":\"white\",\"minorgridcolor\":\"white\",\"startlinecolor\":\"#2a3f5f\"},\"type\":\"carpet\"}],\"choropleth\":[{\"colorbar\":{\"outlinewidth\":0,\"ticks\":\"\"},\"type\":\"choropleth\"}],\"contour\":[{\"colorbar\":{\"outlinewidth\":0,\"ticks\":\"\"},\"colorscale\":[[0.0,\"#0d0887\"],[0.1111111111111111,\"#46039f\"],[0.2222222222222222,\"#7201a8\"],[0.3333333333333333,\"#9c179e\"],[0.4444444444444444,\"#bd3786\"],[0.5555555555555556,\"#d8576b\"],[0.6666666666666666,\"#ed7953\"],[0.7777777777777778,\"#fb9f3a\"],[0.8888888888888888,\"#fdca26\"],[1.0,\"#f0f921\"]],\"type\":\"contour\"}],\"contourcarpet\":[{\"colorbar\":{\"outlinewidth\":0,\"ticks\":\"\"},\"type\":\"contourcarpet\"}],\"heatmap\":[{\"colorbar\":{\"outlinewidth\":0,\"ticks\":\"\"},\"colorscale\":[[0.0,\"#0d0887\"],[0.1111111111111111,\"#46039f\"],[0.2222222222222222,\"#7201a8\"],[0.3333333333333333,\"#9c179e\"],[0.4444444444444444,\"#bd3786\"],[0.5555555555555556,\"#d8576b\"],[0.6666666666666666,\"#ed7953\"],[0.7777777777777778,\"#fb9f3a\"],[0.8888888888888888,\"#fdca26\"],[1.0,\"#f0f921\"]],\"type\":\"heatmap\"}],\"heatmapgl\":[{\"colorbar\":{\"outlinewidth\":0,\"ticks\":\"\"},\"colorscale\":[[0.0,\"#0d0887\"],[0.1111111111111111,\"#46039f\"],[0.2222222222222222,\"#7201a8\"],[0.3333333333333333,\"#9c179e\"],[0.4444444444444444,\"#bd3786\"],[0.5555555555555556,\"#d8576b\"],[0.6666666666666666,\"#ed7953\"],[0.7777777777777778,\"#fb9f3a\"],[0.8888888888888888,\"#fdca26\"],[1.0,\"#f0f921\"]],\"type\":\"heatmapgl\"}],\"histogram\":[{\"marker\":{\"pattern\":{\"fillmode\":\"overlay\",\"size\":10,\"solidity\":0.2}},\"type\":\"histogram\"}],\"histogram2d\":[{\"colorbar\":{\"outlinewidth\":0,\"ticks\":\"\"},\"colorscale\":[[0.0,\"#0d0887\"],[0.1111111111111111,\"#46039f\"],[0.2222222222222222,\"#7201a8\"],[0.3333333333333333,\"#9c179e\"],[0.4444444444444444,\"#bd3786\"],[0.5555555555555556,\"#d8576b\"],[0.6666666666666666,\"#ed7953\"],[0.7777777777777778,\"#fb9f3a\"],[0.8888888888888888,\"#fdca26\"],[1.0,\"#f0f921\"]],\"type\":\"histogram2d\"}],\"histogram2dcontour\":[{\"colorbar\":{\"outlinewidth\":0,\"ticks\":\"\"},\"colorscale\":[[0.0,\"#0d0887\"],[0.1111111111111111,\"#46039f\"],[0.2222222222222222,\"#7201a8\"],[0.3333333333333333,\"#9c179e\"],[0.4444444444444444,\"#bd3786\"],[0.5555555555555556,\"#d8576b\"],[0.6666666666666666,\"#ed7953\"],[0.7777777777777778,\"#fb9f3a\"],[0.8888888888888888,\"#fdca26\"],[1.0,\"#f0f921\"]],\"type\":\"histogram2dcontour\"}],\"mesh3d\":[{\"colorbar\":{\"outlinewidth\":0,\"ticks\":\"\"},\"type\":\"mesh3d\"}],\"parcoords\":[{\"line\":{\"colorbar\":{\"outlinewidth\":0,\"ticks\":\"\"}},\"type\":\"parcoords\"}],\"pie\":[{\"automargin\":true,\"type\":\"pie\"}],\"scatter\":[{\"marker\":{\"colorbar\":{\"outlinewidth\":0,\"ticks\":\"\"}},\"type\":\"scatter\"}],\"scatter3d\":[{\"line\":{\"colorbar\":{\"outlinewidth\":0,\"ticks\":\"\"}},\"marker\":{\"colorbar\":{\"outlinewidth\":0,\"ticks\":\"\"}},\"type\":\"scatter3d\"}],\"scattercarpet\":[{\"marker\":{\"colorbar\":{\"outlinewidth\":0,\"ticks\":\"\"}},\"type\":\"scattercarpet\"}],\"scattergeo\":[{\"marker\":{\"colorbar\":{\"outlinewidth\":0,\"ticks\":\"\"}},\"type\":\"scattergeo\"}],\"scattergl\":[{\"marker\":{\"colorbar\":{\"outlinewidth\":0,\"ticks\":\"\"}},\"type\":\"scattergl\"}],\"scattermapbox\":[{\"marker\":{\"colorbar\":{\"outlinewidth\":0,\"ticks\":\"\"}},\"type\":\"scattermapbox\"}],\"scatterpolar\":[{\"marker\":{\"colorbar\":{\"outlinewidth\":0,\"ticks\":\"\"}},\"type\":\"scatterpolar\"}],\"scatterpolargl\":[{\"marker\":{\"colorbar\":{\"outlinewidth\":0,\"ticks\":\"\"}},\"type\":\"scatterpolargl\"}],\"scatterternary\":[{\"marker\":{\"colorbar\":{\"outlinewidth\":0,\"ticks\":\"\"}},\"type\":\"scatterternary\"}],\"surface\":[{\"colorbar\":{\"outlinewidth\":0,\"ticks\":\"\"},\"colorscale\":[[0.0,\"#0d0887\"],[0.1111111111111111,\"#46039f\"],[0.2222222222222222,\"#7201a8\"],[0.3333333333333333,\"#9c179e\"],[0.4444444444444444,\"#bd3786\"],[0.5555555555555556,\"#d8576b\"],[0.6666666666666666,\"#ed7953\"],[0.7777777777777778,\"#fb9f3a\"],[0.8888888888888888,\"#fdca26\"],[1.0,\"#f0f921\"]],\"type\":\"surface\"}],\"table\":[{\"cells\":{\"fill\":{\"color\":\"#EBF0F8\"},\"line\":{\"color\":\"white\"}},\"header\":{\"fill\":{\"color\":\"#C8D4E3\"},\"line\":{\"color\":\"white\"}},\"type\":\"table\"}]},\"layout\":{\"annotationdefaults\":{\"arrowcolor\":\"#2a3f5f\",\"arrowhead\":0,\"arrowwidth\":1},\"autotypenumbers\":\"strict\",\"coloraxis\":{\"colorbar\":{\"outlinewidth\":0,\"ticks\":\"\"}},\"colorscale\":{\"diverging\":[[0,\"#8e0152\"],[0.1,\"#c51b7d\"],[0.2,\"#de77ae\"],[0.3,\"#f1b6da\"],[0.4,\"#fde0ef\"],[0.5,\"#f7f7f7\"],[0.6,\"#e6f5d0\"],[0.7,\"#b8e186\"],[0.8,\"#7fbc41\"],[0.9,\"#4d9221\"],[1,\"#276419\"]],\"sequential\":[[0.0,\"#0d0887\"],[0.1111111111111111,\"#46039f\"],[0.2222222222222222,\"#7201a8\"],[0.3333333333333333,\"#9c179e\"],[0.4444444444444444,\"#bd3786\"],[0.5555555555555556,\"#d8576b\"],[0.6666666666666666,\"#ed7953\"],[0.7777777777777778,\"#fb9f3a\"],[0.8888888888888888,\"#fdca26\"],[1.0,\"#f0f921\"]],\"sequentialminus\":[[0.0,\"#0d0887\"],[0.1111111111111111,\"#46039f\"],[0.2222222222222222,\"#7201a8\"],[0.3333333333333333,\"#9c179e\"],[0.4444444444444444,\"#bd3786\"],[0.5555555555555556,\"#d8576b\"],[0.6666666666666666,\"#ed7953\"],[0.7777777777777778,\"#fb9f3a\"],[0.8888888888888888,\"#fdca26\"],[1.0,\"#f0f921\"]]},\"colorway\":[\"#636efa\",\"#EF553B\",\"#00cc96\",\"#ab63fa\",\"#FFA15A\",\"#19d3f3\",\"#FF6692\",\"#B6E880\",\"#FF97FF\",\"#FECB52\"],\"font\":{\"color\":\"#2a3f5f\"},\"geo\":{\"bgcolor\":\"white\",\"lakecolor\":\"white\",\"landcolor\":\"#E5ECF6\",\"showlakes\":true,\"showland\":true,\"subunitcolor\":\"white\"},\"hoverlabel\":{\"align\":\"left\"},\"hovermode\":\"closest\",\"mapbox\":{\"style\":\"light\"},\"paper_bgcolor\":\"white\",\"plot_bgcolor\":\"#E5ECF6\",\"polar\":{\"angularaxis\":{\"gridcolor\":\"white\",\"linecolor\":\"white\",\"ticks\":\"\"},\"bgcolor\":\"#E5ECF6\",\"radialaxis\":{\"gridcolor\":\"white\",\"linecolor\":\"white\",\"ticks\":\"\"}},\"scene\":{\"xaxis\":{\"backgroundcolor\":\"#E5ECF6\",\"gridcolor\":\"white\",\"gridwidth\":2,\"linecolor\":\"white\",\"showbackground\":true,\"ticks\":\"\",\"zerolinecolor\":\"white\"},\"yaxis\":{\"backgroundcolor\":\"#E5ECF6\",\"gridcolor\":\"white\",\"gridwidth\":2,\"linecolor\":\"white\",\"showbackground\":true,\"ticks\":\"\",\"zerolinecolor\":\"white\"},\"zaxis\":{\"backgroundcolor\":\"#E5ECF6\",\"gridcolor\":\"white\",\"gridwidth\":2,\"linecolor\":\"white\",\"showbackground\":true,\"ticks\":\"\",\"zerolinecolor\":\"white\"}},\"shapedefaults\":{\"line\":{\"color\":\"#2a3f5f\"}},\"ternary\":{\"aaxis\":{\"gridcolor\":\"white\",\"linecolor\":\"white\",\"ticks\":\"\"},\"baxis\":{\"gridcolor\":\"white\",\"linecolor\":\"white\",\"ticks\":\"\"},\"bgcolor\":\"#E5ECF6\",\"caxis\":{\"gridcolor\":\"white\",\"linecolor\":\"white\",\"ticks\":\"\"}},\"title\":{\"x\":0.05},\"xaxis\":{\"automargin\":true,\"gridcolor\":\"white\",\"linecolor\":\"white\",\"ticks\":\"\",\"title\":{\"standoff\":15},\"zerolinecolor\":\"white\",\"zerolinewidth\":2},\"yaxis\":{\"automargin\":true,\"gridcolor\":\"white\",\"linecolor\":\"white\",\"ticks\":\"\",\"title\":{\"standoff\":15},\"zerolinecolor\":\"white\",\"zerolinewidth\":2}}},\"xaxis\":{\"anchor\":\"y\",\"domain\":[0.0,1.0],\"title\":{\"text\":\"Surface\"}},\"yaxis\":{\"anchor\":\"x\",\"domain\":[0.0,1.0],\"title\":{\"text\":\"ZCf\"}}},                        {\"responsive\": true}                    ).then(function(){\n",
       "                            \n",
       "var gd = document.getElementById('d36f135b-cf8e-4198-8c28-55ad7d1a8f31');\n",
       "var x = new MutationObserver(function (mutations, observer) {{\n",
       "        var display = window.getComputedStyle(gd).display;\n",
       "        if (!display || display === 'none') {{\n",
       "            console.log([gd, 'removed!']);\n",
       "            Plotly.purge(gd);\n",
       "            observer.disconnect();\n",
       "        }}\n",
       "}});\n",
       "\n",
       "// Listen for the removal of the full notebook cells\n",
       "var notebookContainer = gd.closest('#notebook-container');\n",
       "if (notebookContainer) {{\n",
       "    x.observe(notebookContainer, {childList: true});\n",
       "}}\n",
       "\n",
       "// Listen for the clearing of the current output cell\n",
       "var outputEl = gd.closest('.output');\n",
       "if (outputEl) {{\n",
       "    x.observe(outputEl, {childList: true});\n",
       "}}\n",
       "\n",
       "                        })                };                });            </script>        </div>"
      ]
     },
     "metadata": {},
     "output_type": "display_data"
    }
   ],
   "source": [
    "fig = px.box(alldf, x=\"Surface\", y=\"ZCf\", points = 'all')\n",
    "fig.show()"
   ]
  },
  {
   "cell_type": "code",
   "execution_count": 169,
   "metadata": {},
   "outputs": [
    {
     "data": {
      "application/vnd.plotly.v1+json": {
       "config": {
        "plotlyServerURL": "https://plot.ly"
       },
       "data": [
        {
         "alignmentgroup": "True",
         "boxpoints": "all",
         "hovertemplate": "Surface=%{x}<br>Specspr=%{y}<extra></extra>",
         "legendgroup": "",
         "marker": {
          "color": "#636efa"
         },
         "name": "",
         "notched": false,
         "offsetgroup": "",
         "orientation": "v",
         "showlegend": false,
         "type": "box",
         "x": [
          "Wet Asphalt",
          "Wet Asphalt",
          "Wet Asphalt",
          "Wet Asphalt",
          "Wet Asphalt",
          "Wet Asphalt",
          "Wet Asphalt",
          "Wet Asphalt",
          "Wet Asphalt",
          "Wet Asphalt",
          "Wet Asphalt",
          "Wet Asphalt",
          "Wet Asphalt",
          "Wet Asphalt",
          "Wet Asphalt",
          "Wet Asphalt",
          "Wet Asphalt",
          "Wet Asphalt",
          "Wet Asphalt",
          "Wet Asphalt",
          "Wet Asphalt",
          "Wet Asphalt",
          "Wet Asphalt",
          "Wet Asphalt",
          "Wet Asphalt",
          "Wet Asphalt",
          "Wet Asphalt",
          "Wet Asphalt",
          "Wet Asphalt",
          "Wet Asphalt",
          "Wet Asphalt",
          "Wet Asphalt",
          "Wet Asphalt",
          "Wet Asphalt",
          "Wet Asphalt",
          "Wet Asphalt",
          "Wet Asphalt",
          "Wet Asphalt",
          "Wet Asphalt",
          "Wet Asphalt",
          "Wet Asphalt",
          "Wet Asphalt",
          "Wet Asphalt",
          "Wet Asphalt",
          "Wet Asphalt",
          "Wet Asphalt",
          "Wet Asphalt",
          "Wet Asphalt",
          "Wet Asphalt",
          "Wet Asphalt",
          "Wet Asphalt",
          "Wet Asphalt",
          "Wet Asphalt",
          "Wet Asphalt",
          "Wet Asphalt",
          "Wet Asphalt",
          "Wet Asphalt",
          "Wet Asphalt",
          "Wet Asphalt",
          "Wet Asphalt",
          "Wet Asphalt",
          "Wet Asphalt",
          "Wet Asphalt",
          "Wet Asphalt",
          "Wet Asphalt",
          "Wet Asphalt",
          "Wet Asphalt",
          "Wet Asphalt",
          "Wet Asphalt",
          "Wet Asphalt",
          "Wet Asphalt",
          "Wet Asphalt",
          "Wet Asphalt",
          "Wet Asphalt",
          "Wet Asphalt",
          "Wet Asphalt",
          "Wet Asphalt",
          "Wet Asphalt",
          "Wet Asphalt",
          "Wet Asphalt",
          "Wet Asphalt",
          "Wet Asphalt",
          "Wet Asphalt",
          "Wet Asphalt",
          "Wet Asphalt",
          "Wet Asphalt",
          "Wet Asphalt",
          "Wet Asphalt",
          "Wet Asphalt",
          "Wet Asphalt",
          "Wet Asphalt",
          "Wet Asphalt",
          "Wet Asphalt",
          "Wet Asphalt",
          "Wet Asphalt",
          "Wet Asphalt",
          "Wet Asphalt",
          "Wet Asphalt",
          "Wet Asphalt",
          "Wet Asphalt",
          "Wet Asphalt",
          "Wet Asphalt",
          "Wet Asphalt",
          "Wet Asphalt",
          "Wet Asphalt",
          "Wet Asphalt",
          "Wet Asphalt",
          "Wet Asphalt",
          "Wet Asphalt",
          "Gravel",
          "Gravel",
          "Gravel",
          "Gravel",
          "Gravel",
          "Gravel",
          "Gravel",
          "Gravel",
          "Gravel",
          "Gravel",
          "Gravel",
          "Gravel",
          "Gravel",
          "Gravel",
          "Gravel",
          "Gravel",
          "Gravel",
          "Gravel",
          "Gravel",
          "Gravel",
          "Gravel",
          "Gravel",
          "Gravel",
          "Gravel",
          "Gravel",
          "Gravel",
          "Gravel",
          "Gravel",
          "Gravel",
          "Gravel"
         ],
         "x0": " ",
         "xaxis": "x",
         "y": [
          1641.8002127539407,
          1428.0567234274088,
          1688.4131685238876,
          1434.7428599657667,
          1441.429067597404,
          1432.1327146021958,
          1550.9441928212245,
          1522.452646625754,
          1772.1168843379526,
          1470.91164120298,
          1627.9801935591474,
          1817.4866602176637,
          1645.0886054835405,
          1678.6801342823028,
          1838.3127119844655,
          1990.7836906960383,
          1984.6913010426804,
          1725.4673150891958,
          1537.2192336886742,
          1505.0287888277346,
          1469.184738290815,
          1631.4890942461043,
          1443.2610137995368,
          1286.0129820797479,
          1341.2938337784335,
          1356.0257946327529,
          1409.466717085045,
          1639.724384339249,
          1391.361804172464,
          1263.1979267300958,
          1343.679921848137,
          1382.8736389630294,
          1628.6793948317488,
          1558.5660490349737,
          1360.2948179402579,
          1202.5567879628604,
          1172.8366276826864,
          1259.58306503652,
          1659.3035774237,
          1547.6082559246756,
          1400.668029426431,
          1577.1536200451783,
          1909.700469075933,
          1759.382465409359,
          1779.8745939462863,
          1209.5597777246012,
          1281.8096254377435,
          1562.493489130437,
          1781.6622435167246,
          1689.392672803481,
          1714.4535829097865,
          1670.6138151100595,
          1483.0186753525584,
          1837.1040728420915,
          1556.1754835976092,
          1472.5433375706823,
          1504.8541264478868,
          1657.2636213386745,
          1711.5414290900007,
          1805.5806204829933,
          1388.1582896968864,
          1635.77873540424,
          1368.4298806514796,
          1573.876963118276,
          1737.684297137127,
          1763.720616780257,
          1868.267075899012,
          1680.9550357258902,
          1899.6221773193909,
          1490.3054157471051,
          1424.8638649538757,
          1450.7344887785912,
          1529.9752288601665,
          1634.943194483009,
          1549.8988742492209,
          1927.824008723375,
          1705.0095398973108,
          2093.0908991777,
          2116.9454430750275,
          1534.932706863557,
          1536.6302082026639,
          1821.314145461336,
          1557.2911772475697,
          1461.2746301565187,
          1332.3543016246576,
          1431.7623205478308,
          1526.8969663737814,
          1450.226396618794,
          1763.3221949746094,
          1377.8178549924182,
          1727.1891798546774,
          1741.0078608571241,
          1669.4008153141756,
          1445.1202057929406,
          1813.199930295209,
          1829.731191521414,
          1629.7608039264398,
          1862.3778324337932,
          1977.302095644499,
          1914.8614693850086,
          1735.8357500796146,
          1777.3088926818552,
          1763.7922880744127,
          1797.7982673621957,
          1790.7467019188957,
          1957.4223038430782,
          2151.396115015673,
          1825.8501933836758,
          1847.1138217083815,
          2869.5906058614037,
          2229.6940966462944,
          1956.6459260511722,
          2023.599559679379,
          1857.7897926142884,
          2026.102258027425,
          1978.8217904841572,
          3150.690984511825,
          2182.269700922724,
          2464.9481891653304,
          2084.8377870232757,
          2060.9823697099787,
          2096.0172763097767,
          2217.0667816524906,
          1966.3545885205615,
          2225.060420193046,
          2200.09105819486,
          1870.6247233248505,
          1857.749135794334,
          1944.0956770626922,
          2064.1442686317264,
          2019.8332859540649,
          2242.874036448527,
          2263.5733801126935,
          2406.2798929637834,
          2296.5064897362417,
          2117.993201500503,
          2254.784988449431,
          2218.547835097893,
          2018.0976246615444
         ],
         "y0": " ",
         "yaxis": "y"
        }
       ],
       "layout": {
        "boxmode": "group",
        "legend": {
         "tracegroupgap": 0
        },
        "margin": {
         "t": 60
        },
        "template": {
         "data": {
          "bar": [
           {
            "error_x": {
             "color": "#2a3f5f"
            },
            "error_y": {
             "color": "#2a3f5f"
            },
            "marker": {
             "line": {
              "color": "#E5ECF6",
              "width": 0.5
             },
             "pattern": {
              "fillmode": "overlay",
              "size": 10,
              "solidity": 0.2
             }
            },
            "type": "bar"
           }
          ],
          "barpolar": [
           {
            "marker": {
             "line": {
              "color": "#E5ECF6",
              "width": 0.5
             },
             "pattern": {
              "fillmode": "overlay",
              "size": 10,
              "solidity": 0.2
             }
            },
            "type": "barpolar"
           }
          ],
          "carpet": [
           {
            "aaxis": {
             "endlinecolor": "#2a3f5f",
             "gridcolor": "white",
             "linecolor": "white",
             "minorgridcolor": "white",
             "startlinecolor": "#2a3f5f"
            },
            "baxis": {
             "endlinecolor": "#2a3f5f",
             "gridcolor": "white",
             "linecolor": "white",
             "minorgridcolor": "white",
             "startlinecolor": "#2a3f5f"
            },
            "type": "carpet"
           }
          ],
          "choropleth": [
           {
            "colorbar": {
             "outlinewidth": 0,
             "ticks": ""
            },
            "type": "choropleth"
           }
          ],
          "contour": [
           {
            "colorbar": {
             "outlinewidth": 0,
             "ticks": ""
            },
            "colorscale": [
             [
              0,
              "#0d0887"
             ],
             [
              0.1111111111111111,
              "#46039f"
             ],
             [
              0.2222222222222222,
              "#7201a8"
             ],
             [
              0.3333333333333333,
              "#9c179e"
             ],
             [
              0.4444444444444444,
              "#bd3786"
             ],
             [
              0.5555555555555556,
              "#d8576b"
             ],
             [
              0.6666666666666666,
              "#ed7953"
             ],
             [
              0.7777777777777778,
              "#fb9f3a"
             ],
             [
              0.8888888888888888,
              "#fdca26"
             ],
             [
              1,
              "#f0f921"
             ]
            ],
            "type": "contour"
           }
          ],
          "contourcarpet": [
           {
            "colorbar": {
             "outlinewidth": 0,
             "ticks": ""
            },
            "type": "contourcarpet"
           }
          ],
          "heatmap": [
           {
            "colorbar": {
             "outlinewidth": 0,
             "ticks": ""
            },
            "colorscale": [
             [
              0,
              "#0d0887"
             ],
             [
              0.1111111111111111,
              "#46039f"
             ],
             [
              0.2222222222222222,
              "#7201a8"
             ],
             [
              0.3333333333333333,
              "#9c179e"
             ],
             [
              0.4444444444444444,
              "#bd3786"
             ],
             [
              0.5555555555555556,
              "#d8576b"
             ],
             [
              0.6666666666666666,
              "#ed7953"
             ],
             [
              0.7777777777777778,
              "#fb9f3a"
             ],
             [
              0.8888888888888888,
              "#fdca26"
             ],
             [
              1,
              "#f0f921"
             ]
            ],
            "type": "heatmap"
           }
          ],
          "heatmapgl": [
           {
            "colorbar": {
             "outlinewidth": 0,
             "ticks": ""
            },
            "colorscale": [
             [
              0,
              "#0d0887"
             ],
             [
              0.1111111111111111,
              "#46039f"
             ],
             [
              0.2222222222222222,
              "#7201a8"
             ],
             [
              0.3333333333333333,
              "#9c179e"
             ],
             [
              0.4444444444444444,
              "#bd3786"
             ],
             [
              0.5555555555555556,
              "#d8576b"
             ],
             [
              0.6666666666666666,
              "#ed7953"
             ],
             [
              0.7777777777777778,
              "#fb9f3a"
             ],
             [
              0.8888888888888888,
              "#fdca26"
             ],
             [
              1,
              "#f0f921"
             ]
            ],
            "type": "heatmapgl"
           }
          ],
          "histogram": [
           {
            "marker": {
             "pattern": {
              "fillmode": "overlay",
              "size": 10,
              "solidity": 0.2
             }
            },
            "type": "histogram"
           }
          ],
          "histogram2d": [
           {
            "colorbar": {
             "outlinewidth": 0,
             "ticks": ""
            },
            "colorscale": [
             [
              0,
              "#0d0887"
             ],
             [
              0.1111111111111111,
              "#46039f"
             ],
             [
              0.2222222222222222,
              "#7201a8"
             ],
             [
              0.3333333333333333,
              "#9c179e"
             ],
             [
              0.4444444444444444,
              "#bd3786"
             ],
             [
              0.5555555555555556,
              "#d8576b"
             ],
             [
              0.6666666666666666,
              "#ed7953"
             ],
             [
              0.7777777777777778,
              "#fb9f3a"
             ],
             [
              0.8888888888888888,
              "#fdca26"
             ],
             [
              1,
              "#f0f921"
             ]
            ],
            "type": "histogram2d"
           }
          ],
          "histogram2dcontour": [
           {
            "colorbar": {
             "outlinewidth": 0,
             "ticks": ""
            },
            "colorscale": [
             [
              0,
              "#0d0887"
             ],
             [
              0.1111111111111111,
              "#46039f"
             ],
             [
              0.2222222222222222,
              "#7201a8"
             ],
             [
              0.3333333333333333,
              "#9c179e"
             ],
             [
              0.4444444444444444,
              "#bd3786"
             ],
             [
              0.5555555555555556,
              "#d8576b"
             ],
             [
              0.6666666666666666,
              "#ed7953"
             ],
             [
              0.7777777777777778,
              "#fb9f3a"
             ],
             [
              0.8888888888888888,
              "#fdca26"
             ],
             [
              1,
              "#f0f921"
             ]
            ],
            "type": "histogram2dcontour"
           }
          ],
          "mesh3d": [
           {
            "colorbar": {
             "outlinewidth": 0,
             "ticks": ""
            },
            "type": "mesh3d"
           }
          ],
          "parcoords": [
           {
            "line": {
             "colorbar": {
              "outlinewidth": 0,
              "ticks": ""
             }
            },
            "type": "parcoords"
           }
          ],
          "pie": [
           {
            "automargin": true,
            "type": "pie"
           }
          ],
          "scatter": [
           {
            "marker": {
             "colorbar": {
              "outlinewidth": 0,
              "ticks": ""
             }
            },
            "type": "scatter"
           }
          ],
          "scatter3d": [
           {
            "line": {
             "colorbar": {
              "outlinewidth": 0,
              "ticks": ""
             }
            },
            "marker": {
             "colorbar": {
              "outlinewidth": 0,
              "ticks": ""
             }
            },
            "type": "scatter3d"
           }
          ],
          "scattercarpet": [
           {
            "marker": {
             "colorbar": {
              "outlinewidth": 0,
              "ticks": ""
             }
            },
            "type": "scattercarpet"
           }
          ],
          "scattergeo": [
           {
            "marker": {
             "colorbar": {
              "outlinewidth": 0,
              "ticks": ""
             }
            },
            "type": "scattergeo"
           }
          ],
          "scattergl": [
           {
            "marker": {
             "colorbar": {
              "outlinewidth": 0,
              "ticks": ""
             }
            },
            "type": "scattergl"
           }
          ],
          "scattermapbox": [
           {
            "marker": {
             "colorbar": {
              "outlinewidth": 0,
              "ticks": ""
             }
            },
            "type": "scattermapbox"
           }
          ],
          "scatterpolar": [
           {
            "marker": {
             "colorbar": {
              "outlinewidth": 0,
              "ticks": ""
             }
            },
            "type": "scatterpolar"
           }
          ],
          "scatterpolargl": [
           {
            "marker": {
             "colorbar": {
              "outlinewidth": 0,
              "ticks": ""
             }
            },
            "type": "scatterpolargl"
           }
          ],
          "scatterternary": [
           {
            "marker": {
             "colorbar": {
              "outlinewidth": 0,
              "ticks": ""
             }
            },
            "type": "scatterternary"
           }
          ],
          "surface": [
           {
            "colorbar": {
             "outlinewidth": 0,
             "ticks": ""
            },
            "colorscale": [
             [
              0,
              "#0d0887"
             ],
             [
              0.1111111111111111,
              "#46039f"
             ],
             [
              0.2222222222222222,
              "#7201a8"
             ],
             [
              0.3333333333333333,
              "#9c179e"
             ],
             [
              0.4444444444444444,
              "#bd3786"
             ],
             [
              0.5555555555555556,
              "#d8576b"
             ],
             [
              0.6666666666666666,
              "#ed7953"
             ],
             [
              0.7777777777777778,
              "#fb9f3a"
             ],
             [
              0.8888888888888888,
              "#fdca26"
             ],
             [
              1,
              "#f0f921"
             ]
            ],
            "type": "surface"
           }
          ],
          "table": [
           {
            "cells": {
             "fill": {
              "color": "#EBF0F8"
             },
             "line": {
              "color": "white"
             }
            },
            "header": {
             "fill": {
              "color": "#C8D4E3"
             },
             "line": {
              "color": "white"
             }
            },
            "type": "table"
           }
          ]
         },
         "layout": {
          "annotationdefaults": {
           "arrowcolor": "#2a3f5f",
           "arrowhead": 0,
           "arrowwidth": 1
          },
          "autotypenumbers": "strict",
          "coloraxis": {
           "colorbar": {
            "outlinewidth": 0,
            "ticks": ""
           }
          },
          "colorscale": {
           "diverging": [
            [
             0,
             "#8e0152"
            ],
            [
             0.1,
             "#c51b7d"
            ],
            [
             0.2,
             "#de77ae"
            ],
            [
             0.3,
             "#f1b6da"
            ],
            [
             0.4,
             "#fde0ef"
            ],
            [
             0.5,
             "#f7f7f7"
            ],
            [
             0.6,
             "#e6f5d0"
            ],
            [
             0.7,
             "#b8e186"
            ],
            [
             0.8,
             "#7fbc41"
            ],
            [
             0.9,
             "#4d9221"
            ],
            [
             1,
             "#276419"
            ]
           ],
           "sequential": [
            [
             0,
             "#0d0887"
            ],
            [
             0.1111111111111111,
             "#46039f"
            ],
            [
             0.2222222222222222,
             "#7201a8"
            ],
            [
             0.3333333333333333,
             "#9c179e"
            ],
            [
             0.4444444444444444,
             "#bd3786"
            ],
            [
             0.5555555555555556,
             "#d8576b"
            ],
            [
             0.6666666666666666,
             "#ed7953"
            ],
            [
             0.7777777777777778,
             "#fb9f3a"
            ],
            [
             0.8888888888888888,
             "#fdca26"
            ],
            [
             1,
             "#f0f921"
            ]
           ],
           "sequentialminus": [
            [
             0,
             "#0d0887"
            ],
            [
             0.1111111111111111,
             "#46039f"
            ],
            [
             0.2222222222222222,
             "#7201a8"
            ],
            [
             0.3333333333333333,
             "#9c179e"
            ],
            [
             0.4444444444444444,
             "#bd3786"
            ],
            [
             0.5555555555555556,
             "#d8576b"
            ],
            [
             0.6666666666666666,
             "#ed7953"
            ],
            [
             0.7777777777777778,
             "#fb9f3a"
            ],
            [
             0.8888888888888888,
             "#fdca26"
            ],
            [
             1,
             "#f0f921"
            ]
           ]
          },
          "colorway": [
           "#636efa",
           "#EF553B",
           "#00cc96",
           "#ab63fa",
           "#FFA15A",
           "#19d3f3",
           "#FF6692",
           "#B6E880",
           "#FF97FF",
           "#FECB52"
          ],
          "font": {
           "color": "#2a3f5f"
          },
          "geo": {
           "bgcolor": "white",
           "lakecolor": "white",
           "landcolor": "#E5ECF6",
           "showlakes": true,
           "showland": true,
           "subunitcolor": "white"
          },
          "hoverlabel": {
           "align": "left"
          },
          "hovermode": "closest",
          "mapbox": {
           "style": "light"
          },
          "paper_bgcolor": "white",
          "plot_bgcolor": "#E5ECF6",
          "polar": {
           "angularaxis": {
            "gridcolor": "white",
            "linecolor": "white",
            "ticks": ""
           },
           "bgcolor": "#E5ECF6",
           "radialaxis": {
            "gridcolor": "white",
            "linecolor": "white",
            "ticks": ""
           }
          },
          "scene": {
           "xaxis": {
            "backgroundcolor": "#E5ECF6",
            "gridcolor": "white",
            "gridwidth": 2,
            "linecolor": "white",
            "showbackground": true,
            "ticks": "",
            "zerolinecolor": "white"
           },
           "yaxis": {
            "backgroundcolor": "#E5ECF6",
            "gridcolor": "white",
            "gridwidth": 2,
            "linecolor": "white",
            "showbackground": true,
            "ticks": "",
            "zerolinecolor": "white"
           },
           "zaxis": {
            "backgroundcolor": "#E5ECF6",
            "gridcolor": "white",
            "gridwidth": 2,
            "linecolor": "white",
            "showbackground": true,
            "ticks": "",
            "zerolinecolor": "white"
           }
          },
          "shapedefaults": {
           "line": {
            "color": "#2a3f5f"
           }
          },
          "ternary": {
           "aaxis": {
            "gridcolor": "white",
            "linecolor": "white",
            "ticks": ""
           },
           "baxis": {
            "gridcolor": "white",
            "linecolor": "white",
            "ticks": ""
           },
           "bgcolor": "#E5ECF6",
           "caxis": {
            "gridcolor": "white",
            "linecolor": "white",
            "ticks": ""
           }
          },
          "title": {
           "x": 0.05
          },
          "xaxis": {
           "automargin": true,
           "gridcolor": "white",
           "linecolor": "white",
           "ticks": "",
           "title": {
            "standoff": 15
           },
           "zerolinecolor": "white",
           "zerolinewidth": 2
          },
          "yaxis": {
           "automargin": true,
           "gridcolor": "white",
           "linecolor": "white",
           "ticks": "",
           "title": {
            "standoff": 15
           },
           "zerolinecolor": "white",
           "zerolinewidth": 2
          }
         }
        },
        "xaxis": {
         "anchor": "y",
         "domain": [
          0,
          1
         ],
         "title": {
          "text": "Surface"
         }
        },
        "yaxis": {
         "anchor": "x",
         "domain": [
          0,
          1
         ],
         "title": {
          "text": "Specspr"
         }
        }
       }
      },
      "text/html": [
       "<div>                            <div id=\"e2511730-4c4e-44a9-9865-03c04b4efcdc\" class=\"plotly-graph-div\" style=\"height:525px; width:100%;\"></div>            <script type=\"text/javascript\">                require([\"plotly\"], function(Plotly) {                    window.PLOTLYENV=window.PLOTLYENV || {};                                    if (document.getElementById(\"e2511730-4c4e-44a9-9865-03c04b4efcdc\")) {                    Plotly.newPlot(                        \"e2511730-4c4e-44a9-9865-03c04b4efcdc\",                        [{\"alignmentgroup\":\"True\",\"boxpoints\":\"all\",\"hovertemplate\":\"Surface=%{x}<br>Specspr=%{y}<extra></extra>\",\"legendgroup\":\"\",\"marker\":{\"color\":\"#636efa\"},\"name\":\"\",\"notched\":false,\"offsetgroup\":\"\",\"orientation\":\"v\",\"showlegend\":false,\"type\":\"box\",\"x\":[\"Wet Asphalt\",\"Wet Asphalt\",\"Wet Asphalt\",\"Wet Asphalt\",\"Wet Asphalt\",\"Wet Asphalt\",\"Wet Asphalt\",\"Wet Asphalt\",\"Wet Asphalt\",\"Wet Asphalt\",\"Wet Asphalt\",\"Wet Asphalt\",\"Wet Asphalt\",\"Wet Asphalt\",\"Wet Asphalt\",\"Wet Asphalt\",\"Wet Asphalt\",\"Wet Asphalt\",\"Wet Asphalt\",\"Wet Asphalt\",\"Wet Asphalt\",\"Wet Asphalt\",\"Wet Asphalt\",\"Wet Asphalt\",\"Wet Asphalt\",\"Wet Asphalt\",\"Wet Asphalt\",\"Wet Asphalt\",\"Wet Asphalt\",\"Wet Asphalt\",\"Wet Asphalt\",\"Wet Asphalt\",\"Wet Asphalt\",\"Wet Asphalt\",\"Wet Asphalt\",\"Wet Asphalt\",\"Wet Asphalt\",\"Wet Asphalt\",\"Wet Asphalt\",\"Wet Asphalt\",\"Wet Asphalt\",\"Wet Asphalt\",\"Wet Asphalt\",\"Wet Asphalt\",\"Wet Asphalt\",\"Wet Asphalt\",\"Wet Asphalt\",\"Wet Asphalt\",\"Wet Asphalt\",\"Wet Asphalt\",\"Wet Asphalt\",\"Wet Asphalt\",\"Wet Asphalt\",\"Wet Asphalt\",\"Wet Asphalt\",\"Wet Asphalt\",\"Wet Asphalt\",\"Wet Asphalt\",\"Wet Asphalt\",\"Wet Asphalt\",\"Wet Asphalt\",\"Wet Asphalt\",\"Wet Asphalt\",\"Wet Asphalt\",\"Wet Asphalt\",\"Wet Asphalt\",\"Wet Asphalt\",\"Wet Asphalt\",\"Wet Asphalt\",\"Wet Asphalt\",\"Wet Asphalt\",\"Wet Asphalt\",\"Wet Asphalt\",\"Wet Asphalt\",\"Wet Asphalt\",\"Wet Asphalt\",\"Wet Asphalt\",\"Wet Asphalt\",\"Wet Asphalt\",\"Wet Asphalt\",\"Wet Asphalt\",\"Wet Asphalt\",\"Wet Asphalt\",\"Wet Asphalt\",\"Wet Asphalt\",\"Wet Asphalt\",\"Wet Asphalt\",\"Wet Asphalt\",\"Wet Asphalt\",\"Wet Asphalt\",\"Wet Asphalt\",\"Wet Asphalt\",\"Wet Asphalt\",\"Wet Asphalt\",\"Wet Asphalt\",\"Wet Asphalt\",\"Wet Asphalt\",\"Wet Asphalt\",\"Wet Asphalt\",\"Wet Asphalt\",\"Wet Asphalt\",\"Wet Asphalt\",\"Wet Asphalt\",\"Wet Asphalt\",\"Wet Asphalt\",\"Wet Asphalt\",\"Wet Asphalt\",\"Wet Asphalt\",\"Wet Asphalt\",\"Gravel\",\"Gravel\",\"Gravel\",\"Gravel\",\"Gravel\",\"Gravel\",\"Gravel\",\"Gravel\",\"Gravel\",\"Gravel\",\"Gravel\",\"Gravel\",\"Gravel\",\"Gravel\",\"Gravel\",\"Gravel\",\"Gravel\",\"Gravel\",\"Gravel\",\"Gravel\",\"Gravel\",\"Gravel\",\"Gravel\",\"Gravel\",\"Gravel\",\"Gravel\",\"Gravel\",\"Gravel\",\"Gravel\",\"Gravel\"],\"x0\":\" \",\"xaxis\":\"x\",\"y\":[1641.8002127539407,1428.0567234274088,1688.4131685238876,1434.7428599657667,1441.429067597404,1432.1327146021958,1550.9441928212245,1522.452646625754,1772.1168843379526,1470.91164120298,1627.9801935591474,1817.4866602176637,1645.0886054835405,1678.6801342823028,1838.3127119844655,1990.7836906960383,1984.6913010426804,1725.4673150891958,1537.2192336886742,1505.0287888277346,1469.184738290815,1631.4890942461043,1443.2610137995368,1286.0129820797479,1341.2938337784335,1356.0257946327529,1409.466717085045,1639.724384339249,1391.361804172464,1263.1979267300958,1343.679921848137,1382.8736389630294,1628.6793948317488,1558.5660490349737,1360.2948179402579,1202.5567879628604,1172.8366276826864,1259.58306503652,1659.3035774237,1547.6082559246756,1400.668029426431,1577.1536200451783,1909.700469075933,1759.382465409359,1779.8745939462863,1209.5597777246012,1281.8096254377435,1562.493489130437,1781.6622435167246,1689.392672803481,1714.4535829097865,1670.6138151100595,1483.0186753525584,1837.1040728420915,1556.1754835976092,1472.5433375706823,1504.8541264478868,1657.2636213386745,1711.5414290900007,1805.5806204829933,1388.1582896968864,1635.77873540424,1368.4298806514796,1573.876963118276,1737.684297137127,1763.720616780257,1868.267075899012,1680.9550357258902,1899.6221773193909,1490.3054157471051,1424.8638649538757,1450.7344887785912,1529.9752288601665,1634.943194483009,1549.8988742492209,1927.824008723375,1705.0095398973108,2093.0908991777,2116.9454430750275,1534.932706863557,1536.6302082026639,1821.314145461336,1557.2911772475697,1461.2746301565187,1332.3543016246576,1431.7623205478308,1526.8969663737814,1450.226396618794,1763.3221949746094,1377.8178549924182,1727.1891798546774,1741.0078608571241,1669.4008153141756,1445.1202057929406,1813.199930295209,1829.731191521414,1629.7608039264398,1862.3778324337932,1977.302095644499,1914.8614693850086,1735.8357500796146,1777.3088926818552,1763.7922880744127,1797.7982673621957,1790.7467019188957,1957.4223038430782,2151.396115015673,1825.8501933836758,1847.1138217083815,2869.5906058614037,2229.6940966462944,1956.6459260511722,2023.599559679379,1857.7897926142884,2026.102258027425,1978.8217904841572,3150.690984511825,2182.269700922724,2464.9481891653304,2084.8377870232757,2060.9823697099787,2096.0172763097767,2217.0667816524906,1966.3545885205615,2225.060420193046,2200.09105819486,1870.6247233248505,1857.749135794334,1944.0956770626922,2064.1442686317264,2019.8332859540649,2242.874036448527,2263.5733801126935,2406.2798929637834,2296.5064897362417,2117.993201500503,2254.784988449431,2218.547835097893,2018.0976246615444],\"y0\":\" \",\"yaxis\":\"y\"}],                        {\"boxmode\":\"group\",\"legend\":{\"tracegroupgap\":0},\"margin\":{\"t\":60},\"template\":{\"data\":{\"bar\":[{\"error_x\":{\"color\":\"#2a3f5f\"},\"error_y\":{\"color\":\"#2a3f5f\"},\"marker\":{\"line\":{\"color\":\"#E5ECF6\",\"width\":0.5},\"pattern\":{\"fillmode\":\"overlay\",\"size\":10,\"solidity\":0.2}},\"type\":\"bar\"}],\"barpolar\":[{\"marker\":{\"line\":{\"color\":\"#E5ECF6\",\"width\":0.5},\"pattern\":{\"fillmode\":\"overlay\",\"size\":10,\"solidity\":0.2}},\"type\":\"barpolar\"}],\"carpet\":[{\"aaxis\":{\"endlinecolor\":\"#2a3f5f\",\"gridcolor\":\"white\",\"linecolor\":\"white\",\"minorgridcolor\":\"white\",\"startlinecolor\":\"#2a3f5f\"},\"baxis\":{\"endlinecolor\":\"#2a3f5f\",\"gridcolor\":\"white\",\"linecolor\":\"white\",\"minorgridcolor\":\"white\",\"startlinecolor\":\"#2a3f5f\"},\"type\":\"carpet\"}],\"choropleth\":[{\"colorbar\":{\"outlinewidth\":0,\"ticks\":\"\"},\"type\":\"choropleth\"}],\"contour\":[{\"colorbar\":{\"outlinewidth\":0,\"ticks\":\"\"},\"colorscale\":[[0.0,\"#0d0887\"],[0.1111111111111111,\"#46039f\"],[0.2222222222222222,\"#7201a8\"],[0.3333333333333333,\"#9c179e\"],[0.4444444444444444,\"#bd3786\"],[0.5555555555555556,\"#d8576b\"],[0.6666666666666666,\"#ed7953\"],[0.7777777777777778,\"#fb9f3a\"],[0.8888888888888888,\"#fdca26\"],[1.0,\"#f0f921\"]],\"type\":\"contour\"}],\"contourcarpet\":[{\"colorbar\":{\"outlinewidth\":0,\"ticks\":\"\"},\"type\":\"contourcarpet\"}],\"heatmap\":[{\"colorbar\":{\"outlinewidth\":0,\"ticks\":\"\"},\"colorscale\":[[0.0,\"#0d0887\"],[0.1111111111111111,\"#46039f\"],[0.2222222222222222,\"#7201a8\"],[0.3333333333333333,\"#9c179e\"],[0.4444444444444444,\"#bd3786\"],[0.5555555555555556,\"#d8576b\"],[0.6666666666666666,\"#ed7953\"],[0.7777777777777778,\"#fb9f3a\"],[0.8888888888888888,\"#fdca26\"],[1.0,\"#f0f921\"]],\"type\":\"heatmap\"}],\"heatmapgl\":[{\"colorbar\":{\"outlinewidth\":0,\"ticks\":\"\"},\"colorscale\":[[0.0,\"#0d0887\"],[0.1111111111111111,\"#46039f\"],[0.2222222222222222,\"#7201a8\"],[0.3333333333333333,\"#9c179e\"],[0.4444444444444444,\"#bd3786\"],[0.5555555555555556,\"#d8576b\"],[0.6666666666666666,\"#ed7953\"],[0.7777777777777778,\"#fb9f3a\"],[0.8888888888888888,\"#fdca26\"],[1.0,\"#f0f921\"]],\"type\":\"heatmapgl\"}],\"histogram\":[{\"marker\":{\"pattern\":{\"fillmode\":\"overlay\",\"size\":10,\"solidity\":0.2}},\"type\":\"histogram\"}],\"histogram2d\":[{\"colorbar\":{\"outlinewidth\":0,\"ticks\":\"\"},\"colorscale\":[[0.0,\"#0d0887\"],[0.1111111111111111,\"#46039f\"],[0.2222222222222222,\"#7201a8\"],[0.3333333333333333,\"#9c179e\"],[0.4444444444444444,\"#bd3786\"],[0.5555555555555556,\"#d8576b\"],[0.6666666666666666,\"#ed7953\"],[0.7777777777777778,\"#fb9f3a\"],[0.8888888888888888,\"#fdca26\"],[1.0,\"#f0f921\"]],\"type\":\"histogram2d\"}],\"histogram2dcontour\":[{\"colorbar\":{\"outlinewidth\":0,\"ticks\":\"\"},\"colorscale\":[[0.0,\"#0d0887\"],[0.1111111111111111,\"#46039f\"],[0.2222222222222222,\"#7201a8\"],[0.3333333333333333,\"#9c179e\"],[0.4444444444444444,\"#bd3786\"],[0.5555555555555556,\"#d8576b\"],[0.6666666666666666,\"#ed7953\"],[0.7777777777777778,\"#fb9f3a\"],[0.8888888888888888,\"#fdca26\"],[1.0,\"#f0f921\"]],\"type\":\"histogram2dcontour\"}],\"mesh3d\":[{\"colorbar\":{\"outlinewidth\":0,\"ticks\":\"\"},\"type\":\"mesh3d\"}],\"parcoords\":[{\"line\":{\"colorbar\":{\"outlinewidth\":0,\"ticks\":\"\"}},\"type\":\"parcoords\"}],\"pie\":[{\"automargin\":true,\"type\":\"pie\"}],\"scatter\":[{\"marker\":{\"colorbar\":{\"outlinewidth\":0,\"ticks\":\"\"}},\"type\":\"scatter\"}],\"scatter3d\":[{\"line\":{\"colorbar\":{\"outlinewidth\":0,\"ticks\":\"\"}},\"marker\":{\"colorbar\":{\"outlinewidth\":0,\"ticks\":\"\"}},\"type\":\"scatter3d\"}],\"scattercarpet\":[{\"marker\":{\"colorbar\":{\"outlinewidth\":0,\"ticks\":\"\"}},\"type\":\"scattercarpet\"}],\"scattergeo\":[{\"marker\":{\"colorbar\":{\"outlinewidth\":0,\"ticks\":\"\"}},\"type\":\"scattergeo\"}],\"scattergl\":[{\"marker\":{\"colorbar\":{\"outlinewidth\":0,\"ticks\":\"\"}},\"type\":\"scattergl\"}],\"scattermapbox\":[{\"marker\":{\"colorbar\":{\"outlinewidth\":0,\"ticks\":\"\"}},\"type\":\"scattermapbox\"}],\"scatterpolar\":[{\"marker\":{\"colorbar\":{\"outlinewidth\":0,\"ticks\":\"\"}},\"type\":\"scatterpolar\"}],\"scatterpolargl\":[{\"marker\":{\"colorbar\":{\"outlinewidth\":0,\"ticks\":\"\"}},\"type\":\"scatterpolargl\"}],\"scatterternary\":[{\"marker\":{\"colorbar\":{\"outlinewidth\":0,\"ticks\":\"\"}},\"type\":\"scatterternary\"}],\"surface\":[{\"colorbar\":{\"outlinewidth\":0,\"ticks\":\"\"},\"colorscale\":[[0.0,\"#0d0887\"],[0.1111111111111111,\"#46039f\"],[0.2222222222222222,\"#7201a8\"],[0.3333333333333333,\"#9c179e\"],[0.4444444444444444,\"#bd3786\"],[0.5555555555555556,\"#d8576b\"],[0.6666666666666666,\"#ed7953\"],[0.7777777777777778,\"#fb9f3a\"],[0.8888888888888888,\"#fdca26\"],[1.0,\"#f0f921\"]],\"type\":\"surface\"}],\"table\":[{\"cells\":{\"fill\":{\"color\":\"#EBF0F8\"},\"line\":{\"color\":\"white\"}},\"header\":{\"fill\":{\"color\":\"#C8D4E3\"},\"line\":{\"color\":\"white\"}},\"type\":\"table\"}]},\"layout\":{\"annotationdefaults\":{\"arrowcolor\":\"#2a3f5f\",\"arrowhead\":0,\"arrowwidth\":1},\"autotypenumbers\":\"strict\",\"coloraxis\":{\"colorbar\":{\"outlinewidth\":0,\"ticks\":\"\"}},\"colorscale\":{\"diverging\":[[0,\"#8e0152\"],[0.1,\"#c51b7d\"],[0.2,\"#de77ae\"],[0.3,\"#f1b6da\"],[0.4,\"#fde0ef\"],[0.5,\"#f7f7f7\"],[0.6,\"#e6f5d0\"],[0.7,\"#b8e186\"],[0.8,\"#7fbc41\"],[0.9,\"#4d9221\"],[1,\"#276419\"]],\"sequential\":[[0.0,\"#0d0887\"],[0.1111111111111111,\"#46039f\"],[0.2222222222222222,\"#7201a8\"],[0.3333333333333333,\"#9c179e\"],[0.4444444444444444,\"#bd3786\"],[0.5555555555555556,\"#d8576b\"],[0.6666666666666666,\"#ed7953\"],[0.7777777777777778,\"#fb9f3a\"],[0.8888888888888888,\"#fdca26\"],[1.0,\"#f0f921\"]],\"sequentialminus\":[[0.0,\"#0d0887\"],[0.1111111111111111,\"#46039f\"],[0.2222222222222222,\"#7201a8\"],[0.3333333333333333,\"#9c179e\"],[0.4444444444444444,\"#bd3786\"],[0.5555555555555556,\"#d8576b\"],[0.6666666666666666,\"#ed7953\"],[0.7777777777777778,\"#fb9f3a\"],[0.8888888888888888,\"#fdca26\"],[1.0,\"#f0f921\"]]},\"colorway\":[\"#636efa\",\"#EF553B\",\"#00cc96\",\"#ab63fa\",\"#FFA15A\",\"#19d3f3\",\"#FF6692\",\"#B6E880\",\"#FF97FF\",\"#FECB52\"],\"font\":{\"color\":\"#2a3f5f\"},\"geo\":{\"bgcolor\":\"white\",\"lakecolor\":\"white\",\"landcolor\":\"#E5ECF6\",\"showlakes\":true,\"showland\":true,\"subunitcolor\":\"white\"},\"hoverlabel\":{\"align\":\"left\"},\"hovermode\":\"closest\",\"mapbox\":{\"style\":\"light\"},\"paper_bgcolor\":\"white\",\"plot_bgcolor\":\"#E5ECF6\",\"polar\":{\"angularaxis\":{\"gridcolor\":\"white\",\"linecolor\":\"white\",\"ticks\":\"\"},\"bgcolor\":\"#E5ECF6\",\"radialaxis\":{\"gridcolor\":\"white\",\"linecolor\":\"white\",\"ticks\":\"\"}},\"scene\":{\"xaxis\":{\"backgroundcolor\":\"#E5ECF6\",\"gridcolor\":\"white\",\"gridwidth\":2,\"linecolor\":\"white\",\"showbackground\":true,\"ticks\":\"\",\"zerolinecolor\":\"white\"},\"yaxis\":{\"backgroundcolor\":\"#E5ECF6\",\"gridcolor\":\"white\",\"gridwidth\":2,\"linecolor\":\"white\",\"showbackground\":true,\"ticks\":\"\",\"zerolinecolor\":\"white\"},\"zaxis\":{\"backgroundcolor\":\"#E5ECF6\",\"gridcolor\":\"white\",\"gridwidth\":2,\"linecolor\":\"white\",\"showbackground\":true,\"ticks\":\"\",\"zerolinecolor\":\"white\"}},\"shapedefaults\":{\"line\":{\"color\":\"#2a3f5f\"}},\"ternary\":{\"aaxis\":{\"gridcolor\":\"white\",\"linecolor\":\"white\",\"ticks\":\"\"},\"baxis\":{\"gridcolor\":\"white\",\"linecolor\":\"white\",\"ticks\":\"\"},\"bgcolor\":\"#E5ECF6\",\"caxis\":{\"gridcolor\":\"white\",\"linecolor\":\"white\",\"ticks\":\"\"}},\"title\":{\"x\":0.05},\"xaxis\":{\"automargin\":true,\"gridcolor\":\"white\",\"linecolor\":\"white\",\"ticks\":\"\",\"title\":{\"standoff\":15},\"zerolinecolor\":\"white\",\"zerolinewidth\":2},\"yaxis\":{\"automargin\":true,\"gridcolor\":\"white\",\"linecolor\":\"white\",\"ticks\":\"\",\"title\":{\"standoff\":15},\"zerolinecolor\":\"white\",\"zerolinewidth\":2}}},\"xaxis\":{\"anchor\":\"y\",\"domain\":[0.0,1.0],\"title\":{\"text\":\"Surface\"}},\"yaxis\":{\"anchor\":\"x\",\"domain\":[0.0,1.0],\"title\":{\"text\":\"Specspr\"}}},                        {\"responsive\": true}                    ).then(function(){\n",
       "                            \n",
       "var gd = document.getElementById('e2511730-4c4e-44a9-9865-03c04b4efcdc');\n",
       "var x = new MutationObserver(function (mutations, observer) {{\n",
       "        var display = window.getComputedStyle(gd).display;\n",
       "        if (!display || display === 'none') {{\n",
       "            console.log([gd, 'removed!']);\n",
       "            Plotly.purge(gd);\n",
       "            observer.disconnect();\n",
       "        }}\n",
       "}});\n",
       "\n",
       "// Listen for the removal of the full notebook cells\n",
       "var notebookContainer = gd.closest('#notebook-container');\n",
       "if (notebookContainer) {{\n",
       "    x.observe(notebookContainer, {childList: true});\n",
       "}}\n",
       "\n",
       "// Listen for the clearing of the current output cell\n",
       "var outputEl = gd.closest('.output');\n",
       "if (outputEl) {{\n",
       "    x.observe(outputEl, {childList: true});\n",
       "}}\n",
       "\n",
       "                        })                };                });            </script>        </div>"
      ]
     },
     "metadata": {},
     "output_type": "display_data"
    }
   ],
   "source": [
    "fig = px.box(alldf, x=\"Surface\", y=\"Specspr\", points = 'all')\n",
    "fig.show()"
   ]
  },
  {
   "cell_type": "code",
   "execution_count": 170,
   "metadata": {},
   "outputs": [
    {
     "data": {
      "application/vnd.plotly.v1+json": {
       "config": {
        "plotlyServerURL": "https://plot.ly"
       },
       "data": [
        {
         "alignmentgroup": "True",
         "boxpoints": "all",
         "hovertemplate": "Surface=%{x}<br>Specsprf=%{y}<extra></extra>",
         "legendgroup": "",
         "marker": {
          "color": "#636efa"
         },
         "name": "",
         "notched": false,
         "offsetgroup": "",
         "orientation": "v",
         "showlegend": false,
         "type": "box",
         "x": [
          "Wet Asphalt",
          "Wet Asphalt",
          "Wet Asphalt",
          "Wet Asphalt",
          "Wet Asphalt",
          "Wet Asphalt",
          "Wet Asphalt",
          "Wet Asphalt",
          "Wet Asphalt",
          "Wet Asphalt",
          "Wet Asphalt",
          "Wet Asphalt",
          "Wet Asphalt",
          "Wet Asphalt",
          "Wet Asphalt",
          "Wet Asphalt",
          "Wet Asphalt",
          "Wet Asphalt",
          "Wet Asphalt",
          "Wet Asphalt",
          "Wet Asphalt",
          "Wet Asphalt",
          "Wet Asphalt",
          "Wet Asphalt",
          "Wet Asphalt",
          "Wet Asphalt",
          "Wet Asphalt",
          "Wet Asphalt",
          "Wet Asphalt",
          "Wet Asphalt",
          "Wet Asphalt",
          "Wet Asphalt",
          "Wet Asphalt",
          "Wet Asphalt",
          "Wet Asphalt",
          "Wet Asphalt",
          "Wet Asphalt",
          "Wet Asphalt",
          "Wet Asphalt",
          "Wet Asphalt",
          "Wet Asphalt",
          "Wet Asphalt",
          "Wet Asphalt",
          "Wet Asphalt",
          "Wet Asphalt",
          "Wet Asphalt",
          "Wet Asphalt",
          "Wet Asphalt",
          "Wet Asphalt",
          "Wet Asphalt",
          "Wet Asphalt",
          "Wet Asphalt",
          "Wet Asphalt",
          "Wet Asphalt",
          "Wet Asphalt",
          "Wet Asphalt",
          "Wet Asphalt",
          "Wet Asphalt",
          "Wet Asphalt",
          "Wet Asphalt",
          "Wet Asphalt",
          "Wet Asphalt",
          "Wet Asphalt",
          "Wet Asphalt",
          "Wet Asphalt",
          "Wet Asphalt",
          "Wet Asphalt",
          "Wet Asphalt",
          "Wet Asphalt",
          "Wet Asphalt",
          "Wet Asphalt",
          "Wet Asphalt",
          "Wet Asphalt",
          "Wet Asphalt",
          "Wet Asphalt",
          "Wet Asphalt",
          "Wet Asphalt",
          "Wet Asphalt",
          "Wet Asphalt",
          "Wet Asphalt",
          "Wet Asphalt",
          "Wet Asphalt",
          "Wet Asphalt",
          "Wet Asphalt",
          "Wet Asphalt",
          "Wet Asphalt",
          "Wet Asphalt",
          "Wet Asphalt",
          "Wet Asphalt",
          "Wet Asphalt",
          "Wet Asphalt",
          "Wet Asphalt",
          "Wet Asphalt",
          "Wet Asphalt",
          "Wet Asphalt",
          "Wet Asphalt",
          "Wet Asphalt",
          "Wet Asphalt",
          "Wet Asphalt",
          "Wet Asphalt",
          "Wet Asphalt",
          "Wet Asphalt",
          "Wet Asphalt",
          "Wet Asphalt",
          "Wet Asphalt",
          "Wet Asphalt",
          "Wet Asphalt",
          "Wet Asphalt",
          "Wet Asphalt",
          "Gravel",
          "Gravel",
          "Gravel",
          "Gravel",
          "Gravel",
          "Gravel",
          "Gravel",
          "Gravel",
          "Gravel",
          "Gravel",
          "Gravel",
          "Gravel",
          "Gravel",
          "Gravel",
          "Gravel",
          "Gravel",
          "Gravel",
          "Gravel",
          "Gravel",
          "Gravel",
          "Gravel",
          "Gravel",
          "Gravel",
          "Gravel",
          "Gravel",
          "Gravel",
          "Gravel",
          "Gravel",
          "Gravel",
          "Gravel"
         ],
         "x0": " ",
         "xaxis": "x",
         "y": [
          1592.380153251768,
          1453.2182136219508,
          1527.0676573035357,
          1557.9960162588202,
          1511.0967305874517,
          1415.6325882408203,
          1532.0542238577232,
          1594.119749676888,
          1814.8079571488954,
          1513.435731797191,
          1702.5158377145412,
          1898.595499445382,
          1669.1492652914012,
          1764.594513009339,
          1886.9294961705348,
          1961.9743769688885,
          1873.9923317449498,
          1694.248221785512,
          1599.9562368088782,
          1547.7821016281155,
          1266.699665772792,
          1342.4256424031025,
          1448.614852187328,
          1330.134788285257,
          1391.070991447546,
          1561.6742516036743,
          1543.3472381650977,
          1302.4929104197156,
          1258.3491461266206,
          1320.9827433444907,
          1367.9752863641077,
          1432.4779372548348,
          1693.7051252542115,
          1612.0719147104887,
          1292.0665318293645,
          1169.9209233805395,
          1207.8937848715686,
          1289.832453496175,
          1284.077197140678,
          1409.2691945545876,
          1348.5443953668428,
          1610.0501271562669,
          1633.6239146267244,
          1771.1014492958366,
          1836.8441263539726,
          1438.6379897519982,
          1273.1970383182681,
          1601.4334667633962,
          1839.0858677741815,
          1768.3984289084237,
          1649.4034897931085,
          1706.8679447753843,
          1573.5996881126591,
          1800.4444371942193,
          1576.182519389975,
          1393.9860939615678,
          1479.0686416850695,
          1626.9397884531681,
          1690.2352893636805,
          1841.0232042288887,
          1453.158259867579,
          1801.4474157857371,
          1375.302091622757,
          1383.9972959273975,
          1691.7254795741155,
          1868.635123487954,
          1723.43374012198,
          1719.8808558986723,
          1489.3419926576532,
          1570.2339022743463,
          1537.3605641912648,
          1538.5224038304432,
          1608.98722159103,
          1481.5070225122647,
          1596.1799720281167,
          1998.2973659875593,
          1638.6877220251038,
          1929.7718468841072,
          2259.6692083068065,
          1600.5901376226461,
          1513.8678278181515,
          1797.8701616238004,
          1589.9555949027078,
          1566.2983198714896,
          1357.07955245491,
          1539.1205214144425,
          1601.3522605760666,
          1521.55736677958,
          1658.4814353972727,
          1462.429190071311,
          1736.3012851468407,
          1790.3025989425264,
          1512.2147140327318,
          1611.3456844842697,
          1866.965287447997,
          1761.2727992779473,
          1633.5953437228004,
          1759.7586668508338,
          1830.705418201859,
          1834.183107401026,
          1780.2910667512947,
          1840.9214419974803,
          1925.5553560145465,
          1725.793567341987,
          1860.485288788606,
          2014.7598643087704,
          2190.563042523431,
          1742.4086676901604,
          1683.8239596054368,
          2947.8922797961163,
          2250.9197032147567,
          2003.0049648588572,
          2037.0778853415588,
          1916.2642818376762,
          2100.303255972011,
          1968.5988735994242,
          3229.261703254135,
          2055.453531254773,
          2105.9720481795516,
          2104.5516226687096,
          2072.5675017985536,
          1995.1640039438391,
          2238.499593816281,
          2010.2014732499194,
          2291.384859243988,
          2312.72875449126,
          1986.5614842560583,
          1982.1259452314391,
          2048.32406436829,
          2100.3996188080214,
          2168.535483917129,
          2268.0162406344753,
          2385.7278866436786,
          2454.364019863504,
          2327.4988874306905,
          2237.8721683601316,
          2299.299363084612,
          2307.0336850288986,
          2106.846227426591
         ],
         "y0": " ",
         "yaxis": "y"
        }
       ],
       "layout": {
        "boxmode": "group",
        "legend": {
         "tracegroupgap": 0
        },
        "margin": {
         "t": 60
        },
        "template": {
         "data": {
          "bar": [
           {
            "error_x": {
             "color": "#2a3f5f"
            },
            "error_y": {
             "color": "#2a3f5f"
            },
            "marker": {
             "line": {
              "color": "#E5ECF6",
              "width": 0.5
             },
             "pattern": {
              "fillmode": "overlay",
              "size": 10,
              "solidity": 0.2
             }
            },
            "type": "bar"
           }
          ],
          "barpolar": [
           {
            "marker": {
             "line": {
              "color": "#E5ECF6",
              "width": 0.5
             },
             "pattern": {
              "fillmode": "overlay",
              "size": 10,
              "solidity": 0.2
             }
            },
            "type": "barpolar"
           }
          ],
          "carpet": [
           {
            "aaxis": {
             "endlinecolor": "#2a3f5f",
             "gridcolor": "white",
             "linecolor": "white",
             "minorgridcolor": "white",
             "startlinecolor": "#2a3f5f"
            },
            "baxis": {
             "endlinecolor": "#2a3f5f",
             "gridcolor": "white",
             "linecolor": "white",
             "minorgridcolor": "white",
             "startlinecolor": "#2a3f5f"
            },
            "type": "carpet"
           }
          ],
          "choropleth": [
           {
            "colorbar": {
             "outlinewidth": 0,
             "ticks": ""
            },
            "type": "choropleth"
           }
          ],
          "contour": [
           {
            "colorbar": {
             "outlinewidth": 0,
             "ticks": ""
            },
            "colorscale": [
             [
              0,
              "#0d0887"
             ],
             [
              0.1111111111111111,
              "#46039f"
             ],
             [
              0.2222222222222222,
              "#7201a8"
             ],
             [
              0.3333333333333333,
              "#9c179e"
             ],
             [
              0.4444444444444444,
              "#bd3786"
             ],
             [
              0.5555555555555556,
              "#d8576b"
             ],
             [
              0.6666666666666666,
              "#ed7953"
             ],
             [
              0.7777777777777778,
              "#fb9f3a"
             ],
             [
              0.8888888888888888,
              "#fdca26"
             ],
             [
              1,
              "#f0f921"
             ]
            ],
            "type": "contour"
           }
          ],
          "contourcarpet": [
           {
            "colorbar": {
             "outlinewidth": 0,
             "ticks": ""
            },
            "type": "contourcarpet"
           }
          ],
          "heatmap": [
           {
            "colorbar": {
             "outlinewidth": 0,
             "ticks": ""
            },
            "colorscale": [
             [
              0,
              "#0d0887"
             ],
             [
              0.1111111111111111,
              "#46039f"
             ],
             [
              0.2222222222222222,
              "#7201a8"
             ],
             [
              0.3333333333333333,
              "#9c179e"
             ],
             [
              0.4444444444444444,
              "#bd3786"
             ],
             [
              0.5555555555555556,
              "#d8576b"
             ],
             [
              0.6666666666666666,
              "#ed7953"
             ],
             [
              0.7777777777777778,
              "#fb9f3a"
             ],
             [
              0.8888888888888888,
              "#fdca26"
             ],
             [
              1,
              "#f0f921"
             ]
            ],
            "type": "heatmap"
           }
          ],
          "heatmapgl": [
           {
            "colorbar": {
             "outlinewidth": 0,
             "ticks": ""
            },
            "colorscale": [
             [
              0,
              "#0d0887"
             ],
             [
              0.1111111111111111,
              "#46039f"
             ],
             [
              0.2222222222222222,
              "#7201a8"
             ],
             [
              0.3333333333333333,
              "#9c179e"
             ],
             [
              0.4444444444444444,
              "#bd3786"
             ],
             [
              0.5555555555555556,
              "#d8576b"
             ],
             [
              0.6666666666666666,
              "#ed7953"
             ],
             [
              0.7777777777777778,
              "#fb9f3a"
             ],
             [
              0.8888888888888888,
              "#fdca26"
             ],
             [
              1,
              "#f0f921"
             ]
            ],
            "type": "heatmapgl"
           }
          ],
          "histogram": [
           {
            "marker": {
             "pattern": {
              "fillmode": "overlay",
              "size": 10,
              "solidity": 0.2
             }
            },
            "type": "histogram"
           }
          ],
          "histogram2d": [
           {
            "colorbar": {
             "outlinewidth": 0,
             "ticks": ""
            },
            "colorscale": [
             [
              0,
              "#0d0887"
             ],
             [
              0.1111111111111111,
              "#46039f"
             ],
             [
              0.2222222222222222,
              "#7201a8"
             ],
             [
              0.3333333333333333,
              "#9c179e"
             ],
             [
              0.4444444444444444,
              "#bd3786"
             ],
             [
              0.5555555555555556,
              "#d8576b"
             ],
             [
              0.6666666666666666,
              "#ed7953"
             ],
             [
              0.7777777777777778,
              "#fb9f3a"
             ],
             [
              0.8888888888888888,
              "#fdca26"
             ],
             [
              1,
              "#f0f921"
             ]
            ],
            "type": "histogram2d"
           }
          ],
          "histogram2dcontour": [
           {
            "colorbar": {
             "outlinewidth": 0,
             "ticks": ""
            },
            "colorscale": [
             [
              0,
              "#0d0887"
             ],
             [
              0.1111111111111111,
              "#46039f"
             ],
             [
              0.2222222222222222,
              "#7201a8"
             ],
             [
              0.3333333333333333,
              "#9c179e"
             ],
             [
              0.4444444444444444,
              "#bd3786"
             ],
             [
              0.5555555555555556,
              "#d8576b"
             ],
             [
              0.6666666666666666,
              "#ed7953"
             ],
             [
              0.7777777777777778,
              "#fb9f3a"
             ],
             [
              0.8888888888888888,
              "#fdca26"
             ],
             [
              1,
              "#f0f921"
             ]
            ],
            "type": "histogram2dcontour"
           }
          ],
          "mesh3d": [
           {
            "colorbar": {
             "outlinewidth": 0,
             "ticks": ""
            },
            "type": "mesh3d"
           }
          ],
          "parcoords": [
           {
            "line": {
             "colorbar": {
              "outlinewidth": 0,
              "ticks": ""
             }
            },
            "type": "parcoords"
           }
          ],
          "pie": [
           {
            "automargin": true,
            "type": "pie"
           }
          ],
          "scatter": [
           {
            "marker": {
             "colorbar": {
              "outlinewidth": 0,
              "ticks": ""
             }
            },
            "type": "scatter"
           }
          ],
          "scatter3d": [
           {
            "line": {
             "colorbar": {
              "outlinewidth": 0,
              "ticks": ""
             }
            },
            "marker": {
             "colorbar": {
              "outlinewidth": 0,
              "ticks": ""
             }
            },
            "type": "scatter3d"
           }
          ],
          "scattercarpet": [
           {
            "marker": {
             "colorbar": {
              "outlinewidth": 0,
              "ticks": ""
             }
            },
            "type": "scattercarpet"
           }
          ],
          "scattergeo": [
           {
            "marker": {
             "colorbar": {
              "outlinewidth": 0,
              "ticks": ""
             }
            },
            "type": "scattergeo"
           }
          ],
          "scattergl": [
           {
            "marker": {
             "colorbar": {
              "outlinewidth": 0,
              "ticks": ""
             }
            },
            "type": "scattergl"
           }
          ],
          "scattermapbox": [
           {
            "marker": {
             "colorbar": {
              "outlinewidth": 0,
              "ticks": ""
             }
            },
            "type": "scattermapbox"
           }
          ],
          "scatterpolar": [
           {
            "marker": {
             "colorbar": {
              "outlinewidth": 0,
              "ticks": ""
             }
            },
            "type": "scatterpolar"
           }
          ],
          "scatterpolargl": [
           {
            "marker": {
             "colorbar": {
              "outlinewidth": 0,
              "ticks": ""
             }
            },
            "type": "scatterpolargl"
           }
          ],
          "scatterternary": [
           {
            "marker": {
             "colorbar": {
              "outlinewidth": 0,
              "ticks": ""
             }
            },
            "type": "scatterternary"
           }
          ],
          "surface": [
           {
            "colorbar": {
             "outlinewidth": 0,
             "ticks": ""
            },
            "colorscale": [
             [
              0,
              "#0d0887"
             ],
             [
              0.1111111111111111,
              "#46039f"
             ],
             [
              0.2222222222222222,
              "#7201a8"
             ],
             [
              0.3333333333333333,
              "#9c179e"
             ],
             [
              0.4444444444444444,
              "#bd3786"
             ],
             [
              0.5555555555555556,
              "#d8576b"
             ],
             [
              0.6666666666666666,
              "#ed7953"
             ],
             [
              0.7777777777777778,
              "#fb9f3a"
             ],
             [
              0.8888888888888888,
              "#fdca26"
             ],
             [
              1,
              "#f0f921"
             ]
            ],
            "type": "surface"
           }
          ],
          "table": [
           {
            "cells": {
             "fill": {
              "color": "#EBF0F8"
             },
             "line": {
              "color": "white"
             }
            },
            "header": {
             "fill": {
              "color": "#C8D4E3"
             },
             "line": {
              "color": "white"
             }
            },
            "type": "table"
           }
          ]
         },
         "layout": {
          "annotationdefaults": {
           "arrowcolor": "#2a3f5f",
           "arrowhead": 0,
           "arrowwidth": 1
          },
          "autotypenumbers": "strict",
          "coloraxis": {
           "colorbar": {
            "outlinewidth": 0,
            "ticks": ""
           }
          },
          "colorscale": {
           "diverging": [
            [
             0,
             "#8e0152"
            ],
            [
             0.1,
             "#c51b7d"
            ],
            [
             0.2,
             "#de77ae"
            ],
            [
             0.3,
             "#f1b6da"
            ],
            [
             0.4,
             "#fde0ef"
            ],
            [
             0.5,
             "#f7f7f7"
            ],
            [
             0.6,
             "#e6f5d0"
            ],
            [
             0.7,
             "#b8e186"
            ],
            [
             0.8,
             "#7fbc41"
            ],
            [
             0.9,
             "#4d9221"
            ],
            [
             1,
             "#276419"
            ]
           ],
           "sequential": [
            [
             0,
             "#0d0887"
            ],
            [
             0.1111111111111111,
             "#46039f"
            ],
            [
             0.2222222222222222,
             "#7201a8"
            ],
            [
             0.3333333333333333,
             "#9c179e"
            ],
            [
             0.4444444444444444,
             "#bd3786"
            ],
            [
             0.5555555555555556,
             "#d8576b"
            ],
            [
             0.6666666666666666,
             "#ed7953"
            ],
            [
             0.7777777777777778,
             "#fb9f3a"
            ],
            [
             0.8888888888888888,
             "#fdca26"
            ],
            [
             1,
             "#f0f921"
            ]
           ],
           "sequentialminus": [
            [
             0,
             "#0d0887"
            ],
            [
             0.1111111111111111,
             "#46039f"
            ],
            [
             0.2222222222222222,
             "#7201a8"
            ],
            [
             0.3333333333333333,
             "#9c179e"
            ],
            [
             0.4444444444444444,
             "#bd3786"
            ],
            [
             0.5555555555555556,
             "#d8576b"
            ],
            [
             0.6666666666666666,
             "#ed7953"
            ],
            [
             0.7777777777777778,
             "#fb9f3a"
            ],
            [
             0.8888888888888888,
             "#fdca26"
            ],
            [
             1,
             "#f0f921"
            ]
           ]
          },
          "colorway": [
           "#636efa",
           "#EF553B",
           "#00cc96",
           "#ab63fa",
           "#FFA15A",
           "#19d3f3",
           "#FF6692",
           "#B6E880",
           "#FF97FF",
           "#FECB52"
          ],
          "font": {
           "color": "#2a3f5f"
          },
          "geo": {
           "bgcolor": "white",
           "lakecolor": "white",
           "landcolor": "#E5ECF6",
           "showlakes": true,
           "showland": true,
           "subunitcolor": "white"
          },
          "hoverlabel": {
           "align": "left"
          },
          "hovermode": "closest",
          "mapbox": {
           "style": "light"
          },
          "paper_bgcolor": "white",
          "plot_bgcolor": "#E5ECF6",
          "polar": {
           "angularaxis": {
            "gridcolor": "white",
            "linecolor": "white",
            "ticks": ""
           },
           "bgcolor": "#E5ECF6",
           "radialaxis": {
            "gridcolor": "white",
            "linecolor": "white",
            "ticks": ""
           }
          },
          "scene": {
           "xaxis": {
            "backgroundcolor": "#E5ECF6",
            "gridcolor": "white",
            "gridwidth": 2,
            "linecolor": "white",
            "showbackground": true,
            "ticks": "",
            "zerolinecolor": "white"
           },
           "yaxis": {
            "backgroundcolor": "#E5ECF6",
            "gridcolor": "white",
            "gridwidth": 2,
            "linecolor": "white",
            "showbackground": true,
            "ticks": "",
            "zerolinecolor": "white"
           },
           "zaxis": {
            "backgroundcolor": "#E5ECF6",
            "gridcolor": "white",
            "gridwidth": 2,
            "linecolor": "white",
            "showbackground": true,
            "ticks": "",
            "zerolinecolor": "white"
           }
          },
          "shapedefaults": {
           "line": {
            "color": "#2a3f5f"
           }
          },
          "ternary": {
           "aaxis": {
            "gridcolor": "white",
            "linecolor": "white",
            "ticks": ""
           },
           "baxis": {
            "gridcolor": "white",
            "linecolor": "white",
            "ticks": ""
           },
           "bgcolor": "#E5ECF6",
           "caxis": {
            "gridcolor": "white",
            "linecolor": "white",
            "ticks": ""
           }
          },
          "title": {
           "x": 0.05
          },
          "xaxis": {
           "automargin": true,
           "gridcolor": "white",
           "linecolor": "white",
           "ticks": "",
           "title": {
            "standoff": 15
           },
           "zerolinecolor": "white",
           "zerolinewidth": 2
          },
          "yaxis": {
           "automargin": true,
           "gridcolor": "white",
           "linecolor": "white",
           "ticks": "",
           "title": {
            "standoff": 15
           },
           "zerolinecolor": "white",
           "zerolinewidth": 2
          }
         }
        },
        "xaxis": {
         "anchor": "y",
         "domain": [
          0,
          1
         ],
         "title": {
          "text": "Surface"
         }
        },
        "yaxis": {
         "anchor": "x",
         "domain": [
          0,
          1
         ],
         "title": {
          "text": "Specsprf"
         }
        }
       }
      },
      "text/html": [
       "<div>                            <div id=\"e7857c7f-4098-4c79-889c-81b4a6b824c7\" class=\"plotly-graph-div\" style=\"height:525px; width:100%;\"></div>            <script type=\"text/javascript\">                require([\"plotly\"], function(Plotly) {                    window.PLOTLYENV=window.PLOTLYENV || {};                                    if (document.getElementById(\"e7857c7f-4098-4c79-889c-81b4a6b824c7\")) {                    Plotly.newPlot(                        \"e7857c7f-4098-4c79-889c-81b4a6b824c7\",                        [{\"alignmentgroup\":\"True\",\"boxpoints\":\"all\",\"hovertemplate\":\"Surface=%{x}<br>Specsprf=%{y}<extra></extra>\",\"legendgroup\":\"\",\"marker\":{\"color\":\"#636efa\"},\"name\":\"\",\"notched\":false,\"offsetgroup\":\"\",\"orientation\":\"v\",\"showlegend\":false,\"type\":\"box\",\"x\":[\"Wet Asphalt\",\"Wet Asphalt\",\"Wet Asphalt\",\"Wet Asphalt\",\"Wet Asphalt\",\"Wet Asphalt\",\"Wet Asphalt\",\"Wet Asphalt\",\"Wet Asphalt\",\"Wet Asphalt\",\"Wet Asphalt\",\"Wet Asphalt\",\"Wet Asphalt\",\"Wet Asphalt\",\"Wet Asphalt\",\"Wet Asphalt\",\"Wet Asphalt\",\"Wet Asphalt\",\"Wet Asphalt\",\"Wet Asphalt\",\"Wet Asphalt\",\"Wet Asphalt\",\"Wet Asphalt\",\"Wet Asphalt\",\"Wet Asphalt\",\"Wet Asphalt\",\"Wet Asphalt\",\"Wet Asphalt\",\"Wet Asphalt\",\"Wet Asphalt\",\"Wet Asphalt\",\"Wet Asphalt\",\"Wet Asphalt\",\"Wet Asphalt\",\"Wet Asphalt\",\"Wet Asphalt\",\"Wet Asphalt\",\"Wet Asphalt\",\"Wet Asphalt\",\"Wet Asphalt\",\"Wet Asphalt\",\"Wet Asphalt\",\"Wet Asphalt\",\"Wet Asphalt\",\"Wet Asphalt\",\"Wet Asphalt\",\"Wet Asphalt\",\"Wet Asphalt\",\"Wet Asphalt\",\"Wet Asphalt\",\"Wet Asphalt\",\"Wet Asphalt\",\"Wet Asphalt\",\"Wet Asphalt\",\"Wet Asphalt\",\"Wet Asphalt\",\"Wet Asphalt\",\"Wet Asphalt\",\"Wet Asphalt\",\"Wet Asphalt\",\"Wet Asphalt\",\"Wet Asphalt\",\"Wet Asphalt\",\"Wet Asphalt\",\"Wet Asphalt\",\"Wet Asphalt\",\"Wet Asphalt\",\"Wet Asphalt\",\"Wet Asphalt\",\"Wet Asphalt\",\"Wet Asphalt\",\"Wet Asphalt\",\"Wet Asphalt\",\"Wet Asphalt\",\"Wet Asphalt\",\"Wet Asphalt\",\"Wet Asphalt\",\"Wet Asphalt\",\"Wet Asphalt\",\"Wet Asphalt\",\"Wet Asphalt\",\"Wet Asphalt\",\"Wet Asphalt\",\"Wet Asphalt\",\"Wet Asphalt\",\"Wet Asphalt\",\"Wet Asphalt\",\"Wet Asphalt\",\"Wet Asphalt\",\"Wet Asphalt\",\"Wet Asphalt\",\"Wet Asphalt\",\"Wet Asphalt\",\"Wet Asphalt\",\"Wet Asphalt\",\"Wet Asphalt\",\"Wet Asphalt\",\"Wet Asphalt\",\"Wet Asphalt\",\"Wet Asphalt\",\"Wet Asphalt\",\"Wet Asphalt\",\"Wet Asphalt\",\"Wet Asphalt\",\"Wet Asphalt\",\"Wet Asphalt\",\"Wet Asphalt\",\"Wet Asphalt\",\"Wet Asphalt\",\"Gravel\",\"Gravel\",\"Gravel\",\"Gravel\",\"Gravel\",\"Gravel\",\"Gravel\",\"Gravel\",\"Gravel\",\"Gravel\",\"Gravel\",\"Gravel\",\"Gravel\",\"Gravel\",\"Gravel\",\"Gravel\",\"Gravel\",\"Gravel\",\"Gravel\",\"Gravel\",\"Gravel\",\"Gravel\",\"Gravel\",\"Gravel\",\"Gravel\",\"Gravel\",\"Gravel\",\"Gravel\",\"Gravel\",\"Gravel\"],\"x0\":\" \",\"xaxis\":\"x\",\"y\":[1592.380153251768,1453.2182136219508,1527.0676573035357,1557.9960162588202,1511.0967305874517,1415.6325882408203,1532.0542238577232,1594.119749676888,1814.8079571488954,1513.435731797191,1702.5158377145412,1898.595499445382,1669.1492652914012,1764.594513009339,1886.9294961705348,1961.9743769688885,1873.9923317449498,1694.248221785512,1599.9562368088782,1547.7821016281155,1266.699665772792,1342.4256424031025,1448.614852187328,1330.134788285257,1391.070991447546,1561.6742516036743,1543.3472381650977,1302.4929104197156,1258.3491461266206,1320.9827433444907,1367.9752863641077,1432.4779372548348,1693.7051252542115,1612.0719147104887,1292.0665318293645,1169.9209233805395,1207.8937848715686,1289.832453496175,1284.077197140678,1409.2691945545876,1348.5443953668428,1610.0501271562669,1633.6239146267244,1771.1014492958366,1836.8441263539726,1438.6379897519982,1273.1970383182681,1601.4334667633962,1839.0858677741815,1768.3984289084237,1649.4034897931085,1706.8679447753843,1573.5996881126591,1800.4444371942193,1576.182519389975,1393.9860939615678,1479.0686416850695,1626.9397884531681,1690.2352893636805,1841.0232042288887,1453.158259867579,1801.4474157857371,1375.302091622757,1383.9972959273975,1691.7254795741155,1868.635123487954,1723.43374012198,1719.8808558986723,1489.3419926576532,1570.2339022743463,1537.3605641912648,1538.5224038304432,1608.98722159103,1481.5070225122647,1596.1799720281167,1998.2973659875593,1638.6877220251038,1929.7718468841072,2259.6692083068065,1600.5901376226461,1513.8678278181515,1797.8701616238004,1589.9555949027078,1566.2983198714896,1357.07955245491,1539.1205214144425,1601.3522605760666,1521.55736677958,1658.4814353972727,1462.429190071311,1736.3012851468407,1790.3025989425264,1512.2147140327318,1611.3456844842697,1866.965287447997,1761.2727992779473,1633.5953437228004,1759.7586668508338,1830.705418201859,1834.183107401026,1780.2910667512947,1840.9214419974803,1925.5553560145465,1725.793567341987,1860.485288788606,2014.7598643087704,2190.563042523431,1742.4086676901604,1683.8239596054368,2947.8922797961163,2250.9197032147567,2003.0049648588572,2037.0778853415588,1916.2642818376762,2100.303255972011,1968.5988735994242,3229.261703254135,2055.453531254773,2105.9720481795516,2104.5516226687096,2072.5675017985536,1995.1640039438391,2238.499593816281,2010.2014732499194,2291.384859243988,2312.72875449126,1986.5614842560583,1982.1259452314391,2048.32406436829,2100.3996188080214,2168.535483917129,2268.0162406344753,2385.7278866436786,2454.364019863504,2327.4988874306905,2237.8721683601316,2299.299363084612,2307.0336850288986,2106.846227426591],\"y0\":\" \",\"yaxis\":\"y\"}],                        {\"boxmode\":\"group\",\"legend\":{\"tracegroupgap\":0},\"margin\":{\"t\":60},\"template\":{\"data\":{\"bar\":[{\"error_x\":{\"color\":\"#2a3f5f\"},\"error_y\":{\"color\":\"#2a3f5f\"},\"marker\":{\"line\":{\"color\":\"#E5ECF6\",\"width\":0.5},\"pattern\":{\"fillmode\":\"overlay\",\"size\":10,\"solidity\":0.2}},\"type\":\"bar\"}],\"barpolar\":[{\"marker\":{\"line\":{\"color\":\"#E5ECF6\",\"width\":0.5},\"pattern\":{\"fillmode\":\"overlay\",\"size\":10,\"solidity\":0.2}},\"type\":\"barpolar\"}],\"carpet\":[{\"aaxis\":{\"endlinecolor\":\"#2a3f5f\",\"gridcolor\":\"white\",\"linecolor\":\"white\",\"minorgridcolor\":\"white\",\"startlinecolor\":\"#2a3f5f\"},\"baxis\":{\"endlinecolor\":\"#2a3f5f\",\"gridcolor\":\"white\",\"linecolor\":\"white\",\"minorgridcolor\":\"white\",\"startlinecolor\":\"#2a3f5f\"},\"type\":\"carpet\"}],\"choropleth\":[{\"colorbar\":{\"outlinewidth\":0,\"ticks\":\"\"},\"type\":\"choropleth\"}],\"contour\":[{\"colorbar\":{\"outlinewidth\":0,\"ticks\":\"\"},\"colorscale\":[[0.0,\"#0d0887\"],[0.1111111111111111,\"#46039f\"],[0.2222222222222222,\"#7201a8\"],[0.3333333333333333,\"#9c179e\"],[0.4444444444444444,\"#bd3786\"],[0.5555555555555556,\"#d8576b\"],[0.6666666666666666,\"#ed7953\"],[0.7777777777777778,\"#fb9f3a\"],[0.8888888888888888,\"#fdca26\"],[1.0,\"#f0f921\"]],\"type\":\"contour\"}],\"contourcarpet\":[{\"colorbar\":{\"outlinewidth\":0,\"ticks\":\"\"},\"type\":\"contourcarpet\"}],\"heatmap\":[{\"colorbar\":{\"outlinewidth\":0,\"ticks\":\"\"},\"colorscale\":[[0.0,\"#0d0887\"],[0.1111111111111111,\"#46039f\"],[0.2222222222222222,\"#7201a8\"],[0.3333333333333333,\"#9c179e\"],[0.4444444444444444,\"#bd3786\"],[0.5555555555555556,\"#d8576b\"],[0.6666666666666666,\"#ed7953\"],[0.7777777777777778,\"#fb9f3a\"],[0.8888888888888888,\"#fdca26\"],[1.0,\"#f0f921\"]],\"type\":\"heatmap\"}],\"heatmapgl\":[{\"colorbar\":{\"outlinewidth\":0,\"ticks\":\"\"},\"colorscale\":[[0.0,\"#0d0887\"],[0.1111111111111111,\"#46039f\"],[0.2222222222222222,\"#7201a8\"],[0.3333333333333333,\"#9c179e\"],[0.4444444444444444,\"#bd3786\"],[0.5555555555555556,\"#d8576b\"],[0.6666666666666666,\"#ed7953\"],[0.7777777777777778,\"#fb9f3a\"],[0.8888888888888888,\"#fdca26\"],[1.0,\"#f0f921\"]],\"type\":\"heatmapgl\"}],\"histogram\":[{\"marker\":{\"pattern\":{\"fillmode\":\"overlay\",\"size\":10,\"solidity\":0.2}},\"type\":\"histogram\"}],\"histogram2d\":[{\"colorbar\":{\"outlinewidth\":0,\"ticks\":\"\"},\"colorscale\":[[0.0,\"#0d0887\"],[0.1111111111111111,\"#46039f\"],[0.2222222222222222,\"#7201a8\"],[0.3333333333333333,\"#9c179e\"],[0.4444444444444444,\"#bd3786\"],[0.5555555555555556,\"#d8576b\"],[0.6666666666666666,\"#ed7953\"],[0.7777777777777778,\"#fb9f3a\"],[0.8888888888888888,\"#fdca26\"],[1.0,\"#f0f921\"]],\"type\":\"histogram2d\"}],\"histogram2dcontour\":[{\"colorbar\":{\"outlinewidth\":0,\"ticks\":\"\"},\"colorscale\":[[0.0,\"#0d0887\"],[0.1111111111111111,\"#46039f\"],[0.2222222222222222,\"#7201a8\"],[0.3333333333333333,\"#9c179e\"],[0.4444444444444444,\"#bd3786\"],[0.5555555555555556,\"#d8576b\"],[0.6666666666666666,\"#ed7953\"],[0.7777777777777778,\"#fb9f3a\"],[0.8888888888888888,\"#fdca26\"],[1.0,\"#f0f921\"]],\"type\":\"histogram2dcontour\"}],\"mesh3d\":[{\"colorbar\":{\"outlinewidth\":0,\"ticks\":\"\"},\"type\":\"mesh3d\"}],\"parcoords\":[{\"line\":{\"colorbar\":{\"outlinewidth\":0,\"ticks\":\"\"}},\"type\":\"parcoords\"}],\"pie\":[{\"automargin\":true,\"type\":\"pie\"}],\"scatter\":[{\"marker\":{\"colorbar\":{\"outlinewidth\":0,\"ticks\":\"\"}},\"type\":\"scatter\"}],\"scatter3d\":[{\"line\":{\"colorbar\":{\"outlinewidth\":0,\"ticks\":\"\"}},\"marker\":{\"colorbar\":{\"outlinewidth\":0,\"ticks\":\"\"}},\"type\":\"scatter3d\"}],\"scattercarpet\":[{\"marker\":{\"colorbar\":{\"outlinewidth\":0,\"ticks\":\"\"}},\"type\":\"scattercarpet\"}],\"scattergeo\":[{\"marker\":{\"colorbar\":{\"outlinewidth\":0,\"ticks\":\"\"}},\"type\":\"scattergeo\"}],\"scattergl\":[{\"marker\":{\"colorbar\":{\"outlinewidth\":0,\"ticks\":\"\"}},\"type\":\"scattergl\"}],\"scattermapbox\":[{\"marker\":{\"colorbar\":{\"outlinewidth\":0,\"ticks\":\"\"}},\"type\":\"scattermapbox\"}],\"scatterpolar\":[{\"marker\":{\"colorbar\":{\"outlinewidth\":0,\"ticks\":\"\"}},\"type\":\"scatterpolar\"}],\"scatterpolargl\":[{\"marker\":{\"colorbar\":{\"outlinewidth\":0,\"ticks\":\"\"}},\"type\":\"scatterpolargl\"}],\"scatterternary\":[{\"marker\":{\"colorbar\":{\"outlinewidth\":0,\"ticks\":\"\"}},\"type\":\"scatterternary\"}],\"surface\":[{\"colorbar\":{\"outlinewidth\":0,\"ticks\":\"\"},\"colorscale\":[[0.0,\"#0d0887\"],[0.1111111111111111,\"#46039f\"],[0.2222222222222222,\"#7201a8\"],[0.3333333333333333,\"#9c179e\"],[0.4444444444444444,\"#bd3786\"],[0.5555555555555556,\"#d8576b\"],[0.6666666666666666,\"#ed7953\"],[0.7777777777777778,\"#fb9f3a\"],[0.8888888888888888,\"#fdca26\"],[1.0,\"#f0f921\"]],\"type\":\"surface\"}],\"table\":[{\"cells\":{\"fill\":{\"color\":\"#EBF0F8\"},\"line\":{\"color\":\"white\"}},\"header\":{\"fill\":{\"color\":\"#C8D4E3\"},\"line\":{\"color\":\"white\"}},\"type\":\"table\"}]},\"layout\":{\"annotationdefaults\":{\"arrowcolor\":\"#2a3f5f\",\"arrowhead\":0,\"arrowwidth\":1},\"autotypenumbers\":\"strict\",\"coloraxis\":{\"colorbar\":{\"outlinewidth\":0,\"ticks\":\"\"}},\"colorscale\":{\"diverging\":[[0,\"#8e0152\"],[0.1,\"#c51b7d\"],[0.2,\"#de77ae\"],[0.3,\"#f1b6da\"],[0.4,\"#fde0ef\"],[0.5,\"#f7f7f7\"],[0.6,\"#e6f5d0\"],[0.7,\"#b8e186\"],[0.8,\"#7fbc41\"],[0.9,\"#4d9221\"],[1,\"#276419\"]],\"sequential\":[[0.0,\"#0d0887\"],[0.1111111111111111,\"#46039f\"],[0.2222222222222222,\"#7201a8\"],[0.3333333333333333,\"#9c179e\"],[0.4444444444444444,\"#bd3786\"],[0.5555555555555556,\"#d8576b\"],[0.6666666666666666,\"#ed7953\"],[0.7777777777777778,\"#fb9f3a\"],[0.8888888888888888,\"#fdca26\"],[1.0,\"#f0f921\"]],\"sequentialminus\":[[0.0,\"#0d0887\"],[0.1111111111111111,\"#46039f\"],[0.2222222222222222,\"#7201a8\"],[0.3333333333333333,\"#9c179e\"],[0.4444444444444444,\"#bd3786\"],[0.5555555555555556,\"#d8576b\"],[0.6666666666666666,\"#ed7953\"],[0.7777777777777778,\"#fb9f3a\"],[0.8888888888888888,\"#fdca26\"],[1.0,\"#f0f921\"]]},\"colorway\":[\"#636efa\",\"#EF553B\",\"#00cc96\",\"#ab63fa\",\"#FFA15A\",\"#19d3f3\",\"#FF6692\",\"#B6E880\",\"#FF97FF\",\"#FECB52\"],\"font\":{\"color\":\"#2a3f5f\"},\"geo\":{\"bgcolor\":\"white\",\"lakecolor\":\"white\",\"landcolor\":\"#E5ECF6\",\"showlakes\":true,\"showland\":true,\"subunitcolor\":\"white\"},\"hoverlabel\":{\"align\":\"left\"},\"hovermode\":\"closest\",\"mapbox\":{\"style\":\"light\"},\"paper_bgcolor\":\"white\",\"plot_bgcolor\":\"#E5ECF6\",\"polar\":{\"angularaxis\":{\"gridcolor\":\"white\",\"linecolor\":\"white\",\"ticks\":\"\"},\"bgcolor\":\"#E5ECF6\",\"radialaxis\":{\"gridcolor\":\"white\",\"linecolor\":\"white\",\"ticks\":\"\"}},\"scene\":{\"xaxis\":{\"backgroundcolor\":\"#E5ECF6\",\"gridcolor\":\"white\",\"gridwidth\":2,\"linecolor\":\"white\",\"showbackground\":true,\"ticks\":\"\",\"zerolinecolor\":\"white\"},\"yaxis\":{\"backgroundcolor\":\"#E5ECF6\",\"gridcolor\":\"white\",\"gridwidth\":2,\"linecolor\":\"white\",\"showbackground\":true,\"ticks\":\"\",\"zerolinecolor\":\"white\"},\"zaxis\":{\"backgroundcolor\":\"#E5ECF6\",\"gridcolor\":\"white\",\"gridwidth\":2,\"linecolor\":\"white\",\"showbackground\":true,\"ticks\":\"\",\"zerolinecolor\":\"white\"}},\"shapedefaults\":{\"line\":{\"color\":\"#2a3f5f\"}},\"ternary\":{\"aaxis\":{\"gridcolor\":\"white\",\"linecolor\":\"white\",\"ticks\":\"\"},\"baxis\":{\"gridcolor\":\"white\",\"linecolor\":\"white\",\"ticks\":\"\"},\"bgcolor\":\"#E5ECF6\",\"caxis\":{\"gridcolor\":\"white\",\"linecolor\":\"white\",\"ticks\":\"\"}},\"title\":{\"x\":0.05},\"xaxis\":{\"automargin\":true,\"gridcolor\":\"white\",\"linecolor\":\"white\",\"ticks\":\"\",\"title\":{\"standoff\":15},\"zerolinecolor\":\"white\",\"zerolinewidth\":2},\"yaxis\":{\"automargin\":true,\"gridcolor\":\"white\",\"linecolor\":\"white\",\"ticks\":\"\",\"title\":{\"standoff\":15},\"zerolinecolor\":\"white\",\"zerolinewidth\":2}}},\"xaxis\":{\"anchor\":\"y\",\"domain\":[0.0,1.0],\"title\":{\"text\":\"Surface\"}},\"yaxis\":{\"anchor\":\"x\",\"domain\":[0.0,1.0],\"title\":{\"text\":\"Specsprf\"}}},                        {\"responsive\": true}                    ).then(function(){\n",
       "                            \n",
       "var gd = document.getElementById('e7857c7f-4098-4c79-889c-81b4a6b824c7');\n",
       "var x = new MutationObserver(function (mutations, observer) {{\n",
       "        var display = window.getComputedStyle(gd).display;\n",
       "        if (!display || display === 'none') {{\n",
       "            console.log([gd, 'removed!']);\n",
       "            Plotly.purge(gd);\n",
       "            observer.disconnect();\n",
       "        }}\n",
       "}});\n",
       "\n",
       "// Listen for the removal of the full notebook cells\n",
       "var notebookContainer = gd.closest('#notebook-container');\n",
       "if (notebookContainer) {{\n",
       "    x.observe(notebookContainer, {childList: true});\n",
       "}}\n",
       "\n",
       "// Listen for the clearing of the current output cell\n",
       "var outputEl = gd.closest('.output');\n",
       "if (outputEl) {{\n",
       "    x.observe(outputEl, {childList: true});\n",
       "}}\n",
       "\n",
       "                        })                };                });            </script>        </div>"
      ]
     },
     "metadata": {},
     "output_type": "display_data"
    }
   ],
   "source": [
    "fig = px.box(alldf, x=\"Surface\", y=\"Specsprf\", points = 'all')\n",
    "fig.show()"
   ]
  },
  {
   "cell_type": "code",
   "execution_count": 168,
   "metadata": {},
   "outputs": [
    {
     "data": {
      "text/html": [
       "<div>\n",
       "<style scoped>\n",
       "    .dataframe tbody tr th:only-of-type {\n",
       "        vertical-align: middle;\n",
       "    }\n",
       "\n",
       "    .dataframe tbody tr th {\n",
       "        vertical-align: top;\n",
       "    }\n",
       "\n",
       "    .dataframe thead th {\n",
       "        text-align: right;\n",
       "    }\n",
       "</style>\n",
       "<table border=\"1\" class=\"dataframe\">\n",
       "  <thead>\n",
       "    <tr style=\"text-align: right;\">\n",
       "      <th></th>\n",
       "      <th>Surface</th>\n",
       "      <th>RMS</th>\n",
       "      <th>RMSf</th>\n",
       "      <th>ZC</th>\n",
       "      <th>ZCf</th>\n",
       "      <th>Spec</th>\n",
       "      <th>Specf</th>\n",
       "      <th>Specslo</th>\n",
       "      <th>Specslof</th>\n",
       "      <th>Specspr</th>\n",
       "      <th>Specsprf</th>\n",
       "    </tr>\n",
       "  </thead>\n",
       "  <tbody>\n",
       "    <tr>\n",
       "      <th>0</th>\n",
       "      <td>Wet Asphalt</td>\n",
       "      <td>29.546131</td>\n",
       "      <td>1023.227026</td>\n",
       "      <td>7470.0</td>\n",
       "      <td>8387.0</td>\n",
       "      <td>936.116277</td>\n",
       "      <td>1018.407771</td>\n",
       "      <td>-1.136291e-09</td>\n",
       "      <td>-1.127022e-09</td>\n",
       "      <td>1641.800213</td>\n",
       "      <td>1592.380153</td>\n",
       "    </tr>\n",
       "    <tr>\n",
       "      <th>1</th>\n",
       "      <td>Wet Asphalt</td>\n",
       "      <td>23.158067</td>\n",
       "      <td>1283.379764</td>\n",
       "      <td>8372.0</td>\n",
       "      <td>9884.0</td>\n",
       "      <td>869.158982</td>\n",
       "      <td>980.920178</td>\n",
       "      <td>-1.143832e-09</td>\n",
       "      <td>-1.131245e-09</td>\n",
       "      <td>1428.056723</td>\n",
       "      <td>1453.218214</td>\n",
       "    </tr>\n",
       "    <tr>\n",
       "      <th>2</th>\n",
       "      <td>Wet Asphalt</td>\n",
       "      <td>22.356680</td>\n",
       "      <td>1559.749380</td>\n",
       "      <td>9023.0</td>\n",
       "      <td>10466.0</td>\n",
       "      <td>978.265482</td>\n",
       "      <td>1050.050716</td>\n",
       "      <td>-1.131544e-09</td>\n",
       "      <td>-1.123459e-09</td>\n",
       "      <td>1688.413169</td>\n",
       "      <td>1527.067657</td>\n",
       "    </tr>\n",
       "    <tr>\n",
       "      <th>3</th>\n",
       "      <td>Wet Asphalt</td>\n",
       "      <td>18.413845</td>\n",
       "      <td>1917.039422</td>\n",
       "      <td>8206.0</td>\n",
       "      <td>9659.0</td>\n",
       "      <td>868.511381</td>\n",
       "      <td>999.818919</td>\n",
       "      <td>-1.143905e-09</td>\n",
       "      <td>-1.129116e-09</td>\n",
       "      <td>1434.742860</td>\n",
       "      <td>1557.996016</td>\n",
       "    </tr>\n",
       "    <tr>\n",
       "      <th>4</th>\n",
       "      <td>Wet Asphalt</td>\n",
       "      <td>17.320115</td>\n",
       "      <td>1903.750157</td>\n",
       "      <td>7371.0</td>\n",
       "      <td>9141.0</td>\n",
       "      <td>845.770818</td>\n",
       "      <td>980.018609</td>\n",
       "      <td>-1.146466e-09</td>\n",
       "      <td>-1.131346e-09</td>\n",
       "      <td>1441.429068</td>\n",
       "      <td>1511.096731</td>\n",
       "    </tr>\n",
       "    <tr>\n",
       "      <th>...</th>\n",
       "      <td>...</td>\n",
       "      <td>...</td>\n",
       "      <td>...</td>\n",
       "      <td>...</td>\n",
       "      <td>...</td>\n",
       "      <td>...</td>\n",
       "      <td>...</td>\n",
       "      <td>...</td>\n",
       "      <td>...</td>\n",
       "      <td>...</td>\n",
       "      <td>...</td>\n",
       "    </tr>\n",
       "    <tr>\n",
       "      <th>25</th>\n",
       "      <td>Gravel</td>\n",
       "      <td>24.141878</td>\n",
       "      <td>989.295926</td>\n",
       "      <td>11186.0</td>\n",
       "      <td>16171.0</td>\n",
       "      <td>1612.462501</td>\n",
       "      <td>1903.141399</td>\n",
       "      <td>-1.060115e-09</td>\n",
       "      <td>-1.027377e-09</td>\n",
       "      <td>2296.506490</td>\n",
       "      <td>2327.498887</td>\n",
       "    </tr>\n",
       "    <tr>\n",
       "      <th>26</th>\n",
       "      <td>Gravel</td>\n",
       "      <td>20.866727</td>\n",
       "      <td>1058.702097</td>\n",
       "      <td>8201.0</td>\n",
       "      <td>13024.0</td>\n",
       "      <td>1337.977433</td>\n",
       "      <td>1664.874924</td>\n",
       "      <td>-1.091030e-09</td>\n",
       "      <td>-1.054212e-09</td>\n",
       "      <td>2117.993202</td>\n",
       "      <td>2237.872168</td>\n",
       "    </tr>\n",
       "    <tr>\n",
       "      <th>27</th>\n",
       "      <td>Gravel</td>\n",
       "      <td>22.094076</td>\n",
       "      <td>1109.938163</td>\n",
       "      <td>12740.0</td>\n",
       "      <td>18786.0</td>\n",
       "      <td>1637.921696</td>\n",
       "      <td>1927.347734</td>\n",
       "      <td>-1.057248e-09</td>\n",
       "      <td>-1.024650e-09</td>\n",
       "      <td>2254.784988</td>\n",
       "      <td>2299.299363</td>\n",
       "    </tr>\n",
       "    <tr>\n",
       "      <th>28</th>\n",
       "      <td>Gravel</td>\n",
       "      <td>22.777678</td>\n",
       "      <td>1097.721646</td>\n",
       "      <td>10829.0</td>\n",
       "      <td>16163.0</td>\n",
       "      <td>1549.362682</td>\n",
       "      <td>1855.594265</td>\n",
       "      <td>-1.067222e-09</td>\n",
       "      <td>-1.032732e-09</td>\n",
       "      <td>2218.547835</td>\n",
       "      <td>2307.033685</td>\n",
       "    </tr>\n",
       "    <tr>\n",
       "      <th>29</th>\n",
       "      <td>Gravel</td>\n",
       "      <td>20.215075</td>\n",
       "      <td>1116.430389</td>\n",
       "      <td>8286.0</td>\n",
       "      <td>15063.0</td>\n",
       "      <td>1354.129609</td>\n",
       "      <td>1647.491043</td>\n",
       "      <td>-1.089211e-09</td>\n",
       "      <td>-1.056170e-09</td>\n",
       "      <td>2018.097625</td>\n",
       "      <td>2106.846227</td>\n",
       "    </tr>\n",
       "  </tbody>\n",
       "</table>\n",
       "<p>139 rows × 11 columns</p>\n",
       "</div>"
      ],
      "text/plain": [
       "        Surface        RMS         RMSf       ZC      ZCf         Spec  \\\n",
       "0   Wet Asphalt  29.546131  1023.227026   7470.0   8387.0   936.116277   \n",
       "1   Wet Asphalt  23.158067  1283.379764   8372.0   9884.0   869.158982   \n",
       "2   Wet Asphalt  22.356680  1559.749380   9023.0  10466.0   978.265482   \n",
       "3   Wet Asphalt  18.413845  1917.039422   8206.0   9659.0   868.511381   \n",
       "4   Wet Asphalt  17.320115  1903.750157   7371.0   9141.0   845.770818   \n",
       "..          ...        ...          ...      ...      ...          ...   \n",
       "25       Gravel  24.141878   989.295926  11186.0  16171.0  1612.462501   \n",
       "26       Gravel  20.866727  1058.702097   8201.0  13024.0  1337.977433   \n",
       "27       Gravel  22.094076  1109.938163  12740.0  18786.0  1637.921696   \n",
       "28       Gravel  22.777678  1097.721646  10829.0  16163.0  1549.362682   \n",
       "29       Gravel  20.215075  1116.430389   8286.0  15063.0  1354.129609   \n",
       "\n",
       "          Specf       Specslo      Specslof      Specspr     Specsprf  \n",
       "0   1018.407771 -1.136291e-09 -1.127022e-09  1641.800213  1592.380153  \n",
       "1    980.920178 -1.143832e-09 -1.131245e-09  1428.056723  1453.218214  \n",
       "2   1050.050716 -1.131544e-09 -1.123459e-09  1688.413169  1527.067657  \n",
       "3    999.818919 -1.143905e-09 -1.129116e-09  1434.742860  1557.996016  \n",
       "4    980.018609 -1.146466e-09 -1.131346e-09  1441.429068  1511.096731  \n",
       "..          ...           ...           ...          ...          ...  \n",
       "25  1903.141399 -1.060115e-09 -1.027377e-09  2296.506490  2327.498887  \n",
       "26  1664.874924 -1.091030e-09 -1.054212e-09  2117.993202  2237.872168  \n",
       "27  1927.347734 -1.057248e-09 -1.024650e-09  2254.784988  2299.299363  \n",
       "28  1855.594265 -1.067222e-09 -1.032732e-09  2218.547835  2307.033685  \n",
       "29  1647.491043 -1.089211e-09 -1.056170e-09  2018.097625  2106.846227  \n",
       "\n",
       "[139 rows x 11 columns]"
      ]
     },
     "execution_count": 168,
     "metadata": {},
     "output_type": "execute_result"
    }
   ],
   "source": [
    "alldf"
   ]
  },
  {
   "cell_type": "markdown",
   "metadata": {},
   "source": [
    "# MACHINE LEARNING PART"
   ]
  },
  {
   "cell_type": "code",
   "execution_count": 114,
   "metadata": {},
   "outputs": [],
   "source": [
    "from sklearn.model_selection import train_test_split\n",
    "from sklearn.neighbors import KNeighborsClassifier\n",
    "import sklearn\n",
    "import seaborn as sns\n",
    "from sklearn.metrics import plot_confusion_matrix\n",
    "from sklearn.metrics import accuracy_score\n",
    "from sklearn.model_selection import LeaveOneOut\n",
    "from sklearn.model_selection import cross_val_score\n",
    "from sklearn.model_selection import KFold\n",
    "from sklearn.metrics import recall_score\n",
    "from sklearn.metrics import plot_confusion_matrix\n",
    "from sklearn.metrics import precision_score\n",
    "from sklearn.ensemble import RandomForestClassifier\n",
    "from sklearn.ensemble import ExtraTreesClassifier\n",
    "from sklearn import preprocessing\n",
    "from sklearn import tree\n",
    "from sklearn.naive_bayes import GaussianNB"
   ]
  },
  {
   "cell_type": "code",
   "execution_count": 171,
   "metadata": {},
   "outputs": [],
   "source": [
    "features = [\"RMS\", \"RMSf\", \"ZC\", \"ZCf\", \"Spec\", \"Specf\", \"Specslo\", \"Specslof\", \"Specspr\", \"Specsprf\"]"
   ]
  },
  {
   "cell_type": "code",
   "execution_count": 173,
   "metadata": {},
   "outputs": [
    {
     "data": {
      "text/html": [
       "<div>\n",
       "<style scoped>\n",
       "    .dataframe tbody tr th:only-of-type {\n",
       "        vertical-align: middle;\n",
       "    }\n",
       "\n",
       "    .dataframe tbody tr th {\n",
       "        vertical-align: top;\n",
       "    }\n",
       "\n",
       "    .dataframe thead th {\n",
       "        text-align: right;\n",
       "    }\n",
       "</style>\n",
       "<table border=\"1\" class=\"dataframe\">\n",
       "  <thead>\n",
       "    <tr style=\"text-align: right;\">\n",
       "      <th></th>\n",
       "      <th>Surface</th>\n",
       "      <th>RMS</th>\n",
       "      <th>RMSf</th>\n",
       "      <th>ZC</th>\n",
       "      <th>ZCf</th>\n",
       "      <th>Spec</th>\n",
       "      <th>Specf</th>\n",
       "      <th>Specslo</th>\n",
       "      <th>Specslof</th>\n",
       "      <th>Specspr</th>\n",
       "      <th>Specsprf</th>\n",
       "    </tr>\n",
       "  </thead>\n",
       "  <tbody>\n",
       "    <tr>\n",
       "      <th>0</th>\n",
       "      <td>Wet Asphalt</td>\n",
       "      <td>1.095647</td>\n",
       "      <td>-0.946987</td>\n",
       "      <td>-0.442776</td>\n",
       "      <td>-0.737667</td>\n",
       "      <td>-0.424765</td>\n",
       "      <td>-0.543997</td>\n",
       "      <td>-0.424765</td>\n",
       "      <td>-0.543997</td>\n",
       "      <td>-0.285030</td>\n",
       "      <td>-0.450388</td>\n",
       "    </tr>\n",
       "    <tr>\n",
       "      <th>1</th>\n",
       "      <td>Wet Asphalt</td>\n",
       "      <td>0.279965</td>\n",
       "      <td>-0.647430</td>\n",
       "      <td>0.036485</td>\n",
       "      <td>-0.160581</td>\n",
       "      <td>-0.686337</td>\n",
       "      <td>-0.670309</td>\n",
       "      <td>-0.686337</td>\n",
       "      <td>-0.670309</td>\n",
       "      <td>-0.981912</td>\n",
       "      <td>-0.889725</td>\n",
       "    </tr>\n",
       "    <tr>\n",
       "      <th>2</th>\n",
       "      <td>Wet Asphalt</td>\n",
       "      <td>0.177637</td>\n",
       "      <td>-0.329201</td>\n",
       "      <td>0.382381</td>\n",
       "      <td>0.063777</td>\n",
       "      <td>-0.260108</td>\n",
       "      <td>-0.437378</td>\n",
       "      <td>-0.260108</td>\n",
       "      <td>-0.437378</td>\n",
       "      <td>-0.133055</td>\n",
       "      <td>-0.656581</td>\n",
       "    </tr>\n",
       "    <tr>\n",
       "      <th>3</th>\n",
       "      <td>Wet Asphalt</td>\n",
       "      <td>-0.325818</td>\n",
       "      <td>0.082206</td>\n",
       "      <td>-0.051716</td>\n",
       "      <td>-0.247317</td>\n",
       "      <td>-0.688867</td>\n",
       "      <td>-0.606631</td>\n",
       "      <td>-0.688867</td>\n",
       "      <td>-0.606631</td>\n",
       "      <td>-0.960113</td>\n",
       "      <td>-0.558939</td>\n",
       "    </tr>\n",
       "    <tr>\n",
       "      <th>4</th>\n",
       "      <td>Wet Asphalt</td>\n",
       "      <td>-0.465475</td>\n",
       "      <td>0.066904</td>\n",
       "      <td>-0.495377</td>\n",
       "      <td>-0.447003</td>\n",
       "      <td>-0.777704</td>\n",
       "      <td>-0.673346</td>\n",
       "      <td>-0.777704</td>\n",
       "      <td>-0.673346</td>\n",
       "      <td>-0.938313</td>\n",
       "      <td>-0.707001</td>\n",
       "    </tr>\n",
       "    <tr>\n",
       "      <th>...</th>\n",
       "      <td>...</td>\n",
       "      <td>...</td>\n",
       "      <td>...</td>\n",
       "      <td>...</td>\n",
       "      <td>...</td>\n",
       "      <td>...</td>\n",
       "      <td>...</td>\n",
       "      <td>...</td>\n",
       "      <td>...</td>\n",
       "      <td>...</td>\n",
       "      <td>...</td>\n",
       "    </tr>\n",
       "    <tr>\n",
       "      <th>25</th>\n",
       "      <td>Gravel</td>\n",
       "      <td>0.405586</td>\n",
       "      <td>-0.986057</td>\n",
       "      <td>1.531649</td>\n",
       "      <td>2.263025</td>\n",
       "      <td>2.217413</td>\n",
       "      <td>2.437053</td>\n",
       "      <td>2.217413</td>\n",
       "      <td>2.437053</td>\n",
       "      <td>1.849550</td>\n",
       "      <td>1.870398</td>\n",
       "    </tr>\n",
       "    <tr>\n",
       "      <th>26</th>\n",
       "      <td>Gravel</td>\n",
       "      <td>-0.012613</td>\n",
       "      <td>-0.906138</td>\n",
       "      <td>-0.054373</td>\n",
       "      <td>1.049873</td>\n",
       "      <td>1.145124</td>\n",
       "      <td>1.634230</td>\n",
       "      <td>1.145124</td>\n",
       "      <td>1.634230</td>\n",
       "      <td>1.267532</td>\n",
       "      <td>1.587445</td>\n",
       "    </tr>\n",
       "    <tr>\n",
       "      <th>27</th>\n",
       "      <td>Gravel</td>\n",
       "      <td>0.144105</td>\n",
       "      <td>-0.847142</td>\n",
       "      <td>2.357337</td>\n",
       "      <td>3.271093</td>\n",
       "      <td>2.316870</td>\n",
       "      <td>2.518614</td>\n",
       "      <td>2.316870</td>\n",
       "      <td>2.518614</td>\n",
       "      <td>1.713523</td>\n",
       "      <td>1.781372</td>\n",
       "    </tr>\n",
       "    <tr>\n",
       "      <th>28</th>\n",
       "      <td>Gravel</td>\n",
       "      <td>0.231393</td>\n",
       "      <td>-0.861209</td>\n",
       "      <td>1.341964</td>\n",
       "      <td>2.259941</td>\n",
       "      <td>1.970910</td>\n",
       "      <td>2.276846</td>\n",
       "      <td>1.970910</td>\n",
       "      <td>2.276846</td>\n",
       "      <td>1.595377</td>\n",
       "      <td>1.805789</td>\n",
       "    </tr>\n",
       "    <tr>\n",
       "      <th>29</th>\n",
       "      <td>Gravel</td>\n",
       "      <td>-0.095822</td>\n",
       "      <td>-0.839666</td>\n",
       "      <td>-0.009210</td>\n",
       "      <td>1.835896</td>\n",
       "      <td>1.208223</td>\n",
       "      <td>1.575656</td>\n",
       "      <td>1.208223</td>\n",
       "      <td>1.575656</td>\n",
       "      <td>0.941836</td>\n",
       "      <td>1.173793</td>\n",
       "    </tr>\n",
       "  </tbody>\n",
       "</table>\n",
       "<p>138 rows × 11 columns</p>\n",
       "</div>"
      ],
      "text/plain": [
       "        Surface       RMS      RMSf        ZC       ZCf      Spec     Specf  \\\n",
       "0   Wet Asphalt  1.095647 -0.946987 -0.442776 -0.737667 -0.424765 -0.543997   \n",
       "1   Wet Asphalt  0.279965 -0.647430  0.036485 -0.160581 -0.686337 -0.670309   \n",
       "2   Wet Asphalt  0.177637 -0.329201  0.382381  0.063777 -0.260108 -0.437378   \n",
       "3   Wet Asphalt -0.325818  0.082206 -0.051716 -0.247317 -0.688867 -0.606631   \n",
       "4   Wet Asphalt -0.465475  0.066904 -0.495377 -0.447003 -0.777704 -0.673346   \n",
       "..          ...       ...       ...       ...       ...       ...       ...   \n",
       "25       Gravel  0.405586 -0.986057  1.531649  2.263025  2.217413  2.437053   \n",
       "26       Gravel -0.012613 -0.906138 -0.054373  1.049873  1.145124  1.634230   \n",
       "27       Gravel  0.144105 -0.847142  2.357337  3.271093  2.316870  2.518614   \n",
       "28       Gravel  0.231393 -0.861209  1.341964  2.259941  1.970910  2.276846   \n",
       "29       Gravel -0.095822 -0.839666 -0.009210  1.835896  1.208223  1.575656   \n",
       "\n",
       "     Specslo  Specslof   Specspr  Specsprf  \n",
       "0  -0.424765 -0.543997 -0.285030 -0.450388  \n",
       "1  -0.686337 -0.670309 -0.981912 -0.889725  \n",
       "2  -0.260108 -0.437378 -0.133055 -0.656581  \n",
       "3  -0.688867 -0.606631 -0.960113 -0.558939  \n",
       "4  -0.777704 -0.673346 -0.938313 -0.707001  \n",
       "..       ...       ...       ...       ...  \n",
       "25  2.217413  2.437053  1.849550  1.870398  \n",
       "26  1.145124  1.634230  1.267532  1.587445  \n",
       "27  2.316870  2.518614  1.713523  1.781372  \n",
       "28  1.970910  2.276846  1.595377  1.805789  \n",
       "29  1.208223  1.575656  0.941836  1.173793  \n",
       "\n",
       "[138 rows x 11 columns]"
      ]
     },
     "execution_count": 173,
     "metadata": {},
     "output_type": "execute_result"
    }
   ],
   "source": [
    "\n",
    "# post processing, standardize the data\n",
    "\n",
    "#remove na values\n",
    "alldf = alldf.dropna()\n",
    "\n",
    "scaler = preprocessing.StandardScaler()\n",
    "# Fit your data on the scaler object\n",
    "\n",
    "#with these 3 features only, we can get almost perfect score...\n",
    "\n",
    "alldf[features] = scaler.fit_transform(alldf[features])\n",
    "\n",
    "alldf"
   ]
  },
  {
   "cell_type": "code",
   "execution_count": 174,
   "metadata": {},
   "outputs": [
    {
     "data": {
      "text/html": [
       "<div>\n",
       "<style scoped>\n",
       "    .dataframe tbody tr th:only-of-type {\n",
       "        vertical-align: middle;\n",
       "    }\n",
       "\n",
       "    .dataframe tbody tr th {\n",
       "        vertical-align: top;\n",
       "    }\n",
       "\n",
       "    .dataframe thead th {\n",
       "        text-align: right;\n",
       "    }\n",
       "</style>\n",
       "<table border=\"1\" class=\"dataframe\">\n",
       "  <thead>\n",
       "    <tr style=\"text-align: right;\">\n",
       "      <th></th>\n",
       "      <th>RMS</th>\n",
       "      <th>RMSf</th>\n",
       "      <th>ZC</th>\n",
       "      <th>ZCf</th>\n",
       "      <th>Spec</th>\n",
       "      <th>Specf</th>\n",
       "      <th>Specslo</th>\n",
       "      <th>Specslof</th>\n",
       "      <th>Specspr</th>\n",
       "      <th>Specsprf</th>\n",
       "    </tr>\n",
       "  </thead>\n",
       "  <tbody>\n",
       "    <tr>\n",
       "      <th>0</th>\n",
       "      <td>1.095647</td>\n",
       "      <td>-0.946987</td>\n",
       "      <td>-0.442776</td>\n",
       "      <td>-0.737667</td>\n",
       "      <td>-0.424765</td>\n",
       "      <td>-0.543997</td>\n",
       "      <td>-0.424765</td>\n",
       "      <td>-0.543997</td>\n",
       "      <td>-0.285030</td>\n",
       "      <td>-0.450388</td>\n",
       "    </tr>\n",
       "    <tr>\n",
       "      <th>1</th>\n",
       "      <td>0.279965</td>\n",
       "      <td>-0.647430</td>\n",
       "      <td>0.036485</td>\n",
       "      <td>-0.160581</td>\n",
       "      <td>-0.686337</td>\n",
       "      <td>-0.670309</td>\n",
       "      <td>-0.686337</td>\n",
       "      <td>-0.670309</td>\n",
       "      <td>-0.981912</td>\n",
       "      <td>-0.889725</td>\n",
       "    </tr>\n",
       "    <tr>\n",
       "      <th>2</th>\n",
       "      <td>0.177637</td>\n",
       "      <td>-0.329201</td>\n",
       "      <td>0.382381</td>\n",
       "      <td>0.063777</td>\n",
       "      <td>-0.260108</td>\n",
       "      <td>-0.437378</td>\n",
       "      <td>-0.260108</td>\n",
       "      <td>-0.437378</td>\n",
       "      <td>-0.133055</td>\n",
       "      <td>-0.656581</td>\n",
       "    </tr>\n",
       "    <tr>\n",
       "      <th>3</th>\n",
       "      <td>-0.325818</td>\n",
       "      <td>0.082206</td>\n",
       "      <td>-0.051716</td>\n",
       "      <td>-0.247317</td>\n",
       "      <td>-0.688867</td>\n",
       "      <td>-0.606631</td>\n",
       "      <td>-0.688867</td>\n",
       "      <td>-0.606631</td>\n",
       "      <td>-0.960113</td>\n",
       "      <td>-0.558939</td>\n",
       "    </tr>\n",
       "    <tr>\n",
       "      <th>4</th>\n",
       "      <td>-0.465475</td>\n",
       "      <td>0.066904</td>\n",
       "      <td>-0.495377</td>\n",
       "      <td>-0.447003</td>\n",
       "      <td>-0.777704</td>\n",
       "      <td>-0.673346</td>\n",
       "      <td>-0.777704</td>\n",
       "      <td>-0.673346</td>\n",
       "      <td>-0.938313</td>\n",
       "      <td>-0.707001</td>\n",
       "    </tr>\n",
       "    <tr>\n",
       "      <th>...</th>\n",
       "      <td>...</td>\n",
       "      <td>...</td>\n",
       "      <td>...</td>\n",
       "      <td>...</td>\n",
       "      <td>...</td>\n",
       "      <td>...</td>\n",
       "      <td>...</td>\n",
       "      <td>...</td>\n",
       "      <td>...</td>\n",
       "      <td>...</td>\n",
       "    </tr>\n",
       "    <tr>\n",
       "      <th>25</th>\n",
       "      <td>0.405586</td>\n",
       "      <td>-0.986057</td>\n",
       "      <td>1.531649</td>\n",
       "      <td>2.263025</td>\n",
       "      <td>2.217413</td>\n",
       "      <td>2.437053</td>\n",
       "      <td>2.217413</td>\n",
       "      <td>2.437053</td>\n",
       "      <td>1.849550</td>\n",
       "      <td>1.870398</td>\n",
       "    </tr>\n",
       "    <tr>\n",
       "      <th>26</th>\n",
       "      <td>-0.012613</td>\n",
       "      <td>-0.906138</td>\n",
       "      <td>-0.054373</td>\n",
       "      <td>1.049873</td>\n",
       "      <td>1.145124</td>\n",
       "      <td>1.634230</td>\n",
       "      <td>1.145124</td>\n",
       "      <td>1.634230</td>\n",
       "      <td>1.267532</td>\n",
       "      <td>1.587445</td>\n",
       "    </tr>\n",
       "    <tr>\n",
       "      <th>27</th>\n",
       "      <td>0.144105</td>\n",
       "      <td>-0.847142</td>\n",
       "      <td>2.357337</td>\n",
       "      <td>3.271093</td>\n",
       "      <td>2.316870</td>\n",
       "      <td>2.518614</td>\n",
       "      <td>2.316870</td>\n",
       "      <td>2.518614</td>\n",
       "      <td>1.713523</td>\n",
       "      <td>1.781372</td>\n",
       "    </tr>\n",
       "    <tr>\n",
       "      <th>28</th>\n",
       "      <td>0.231393</td>\n",
       "      <td>-0.861209</td>\n",
       "      <td>1.341964</td>\n",
       "      <td>2.259941</td>\n",
       "      <td>1.970910</td>\n",
       "      <td>2.276846</td>\n",
       "      <td>1.970910</td>\n",
       "      <td>2.276846</td>\n",
       "      <td>1.595377</td>\n",
       "      <td>1.805789</td>\n",
       "    </tr>\n",
       "    <tr>\n",
       "      <th>29</th>\n",
       "      <td>-0.095822</td>\n",
       "      <td>-0.839666</td>\n",
       "      <td>-0.009210</td>\n",
       "      <td>1.835896</td>\n",
       "      <td>1.208223</td>\n",
       "      <td>1.575656</td>\n",
       "      <td>1.208223</td>\n",
       "      <td>1.575656</td>\n",
       "      <td>0.941836</td>\n",
       "      <td>1.173793</td>\n",
       "    </tr>\n",
       "  </tbody>\n",
       "</table>\n",
       "<p>138 rows × 10 columns</p>\n",
       "</div>"
      ],
      "text/plain": [
       "         RMS      RMSf        ZC       ZCf      Spec     Specf   Specslo  \\\n",
       "0   1.095647 -0.946987 -0.442776 -0.737667 -0.424765 -0.543997 -0.424765   \n",
       "1   0.279965 -0.647430  0.036485 -0.160581 -0.686337 -0.670309 -0.686337   \n",
       "2   0.177637 -0.329201  0.382381  0.063777 -0.260108 -0.437378 -0.260108   \n",
       "3  -0.325818  0.082206 -0.051716 -0.247317 -0.688867 -0.606631 -0.688867   \n",
       "4  -0.465475  0.066904 -0.495377 -0.447003 -0.777704 -0.673346 -0.777704   \n",
       "..       ...       ...       ...       ...       ...       ...       ...   \n",
       "25  0.405586 -0.986057  1.531649  2.263025  2.217413  2.437053  2.217413   \n",
       "26 -0.012613 -0.906138 -0.054373  1.049873  1.145124  1.634230  1.145124   \n",
       "27  0.144105 -0.847142  2.357337  3.271093  2.316870  2.518614  2.316870   \n",
       "28  0.231393 -0.861209  1.341964  2.259941  1.970910  2.276846  1.970910   \n",
       "29 -0.095822 -0.839666 -0.009210  1.835896  1.208223  1.575656  1.208223   \n",
       "\n",
       "    Specslof   Specspr  Specsprf  \n",
       "0  -0.543997 -0.285030 -0.450388  \n",
       "1  -0.670309 -0.981912 -0.889725  \n",
       "2  -0.437378 -0.133055 -0.656581  \n",
       "3  -0.606631 -0.960113 -0.558939  \n",
       "4  -0.673346 -0.938313 -0.707001  \n",
       "..       ...       ...       ...  \n",
       "25  2.437053  1.849550  1.870398  \n",
       "26  1.634230  1.267532  1.587445  \n",
       "27  2.518614  1.713523  1.781372  \n",
       "28  2.276846  1.595377  1.805789  \n",
       "29  1.575656  0.941836  1.173793  \n",
       "\n",
       "[138 rows x 10 columns]"
      ]
     },
     "execution_count": 174,
     "metadata": {},
     "output_type": "execute_result"
    }
   ],
   "source": [
    "X = alldf[features]\n",
    "y = alldf[\"Surface\"]\n",
    "\n",
    "X"
   ]
  },
  {
   "cell_type": "code",
   "execution_count": 175,
   "metadata": {},
   "outputs": [
    {
     "data": {
      "text/html": [
       "<div>\n",
       "<style scoped>\n",
       "    .dataframe tbody tr th:only-of-type {\n",
       "        vertical-align: middle;\n",
       "    }\n",
       "\n",
       "    .dataframe tbody tr th {\n",
       "        vertical-align: top;\n",
       "    }\n",
       "\n",
       "    .dataframe thead th {\n",
       "        text-align: right;\n",
       "    }\n",
       "</style>\n",
       "<table border=\"1\" class=\"dataframe\">\n",
       "  <thead>\n",
       "    <tr style=\"text-align: right;\">\n",
       "      <th></th>\n",
       "      <th>RMS</th>\n",
       "      <th>RMSf</th>\n",
       "      <th>ZC</th>\n",
       "      <th>ZCf</th>\n",
       "      <th>Spec</th>\n",
       "      <th>Specf</th>\n",
       "      <th>Specslo</th>\n",
       "      <th>Specslof</th>\n",
       "      <th>Specspr</th>\n",
       "      <th>Specsprf</th>\n",
       "    </tr>\n",
       "  </thead>\n",
       "  <tbody>\n",
       "    <tr>\n",
       "      <th>106</th>\n",
       "      <td>0.640473</td>\n",
       "      <td>-0.586021</td>\n",
       "      <td>2.476886</td>\n",
       "      <td>1.428814</td>\n",
       "      <td>1.561350</td>\n",
       "      <td>1.291089</td>\n",
       "      <td>1.561350</td>\n",
       "      <td>1.291089</td>\n",
       "      <td>1.376438</td>\n",
       "      <td>1.438089</td>\n",
       "    </tr>\n",
       "    <tr>\n",
       "      <th>30</th>\n",
       "      <td>0.479794</td>\n",
       "      <td>-0.335936</td>\n",
       "      <td>-0.425242</td>\n",
       "      <td>-0.649003</td>\n",
       "      <td>-0.939213</td>\n",
       "      <td>-0.936567</td>\n",
       "      <td>-0.939213</td>\n",
       "      <td>-0.936567</td>\n",
       "      <td>-1.257011</td>\n",
       "      <td>-1.158839</td>\n",
       "    </tr>\n",
       "    <tr>\n",
       "      <th>62</th>\n",
       "      <td>-0.232938</td>\n",
       "      <td>0.053549</td>\n",
       "      <td>-0.844993</td>\n",
       "      <td>-0.881071</td>\n",
       "      <td>-1.114765</td>\n",
       "      <td>-1.035795</td>\n",
       "      <td>-1.114765</td>\n",
       "      <td>-1.035795</td>\n",
       "      <td>-1.176317</td>\n",
       "      <td>-1.135708</td>\n",
       "    </tr>\n",
       "    <tr>\n",
       "      <th>89</th>\n",
       "      <td>-1.195851</td>\n",
       "      <td>1.797930</td>\n",
       "      <td>-0.148418</td>\n",
       "      <td>-0.264664</td>\n",
       "      <td>-0.776658</td>\n",
       "      <td>-0.722501</td>\n",
       "      <td>-0.776658</td>\n",
       "      <td>-0.722501</td>\n",
       "      <td>-1.145709</td>\n",
       "      <td>-0.860646</td>\n",
       "    </tr>\n",
       "    <tr>\n",
       "      <th>27</th>\n",
       "      <td>0.144105</td>\n",
       "      <td>-0.847142</td>\n",
       "      <td>2.357337</td>\n",
       "      <td>3.271093</td>\n",
       "      <td>2.316870</td>\n",
       "      <td>2.518614</td>\n",
       "      <td>2.316870</td>\n",
       "      <td>2.518614</td>\n",
       "      <td>1.713523</td>\n",
       "      <td>1.781372</td>\n",
       "    </tr>\n",
       "    <tr>\n",
       "      <th>...</th>\n",
       "      <td>...</td>\n",
       "      <td>...</td>\n",
       "      <td>...</td>\n",
       "      <td>...</td>\n",
       "      <td>...</td>\n",
       "      <td>...</td>\n",
       "      <td>...</td>\n",
       "      <td>...</td>\n",
       "      <td>...</td>\n",
       "      <td>...</td>\n",
       "    </tr>\n",
       "    <tr>\n",
       "      <th>9</th>\n",
       "      <td>1.180280</td>\n",
       "      <td>-1.040197</td>\n",
       "      <td>-1.209486</td>\n",
       "      <td>-1.385298</td>\n",
       "      <td>-1.168446</td>\n",
       "      <td>-1.166695</td>\n",
       "      <td>-1.168446</td>\n",
       "      <td>-1.166695</td>\n",
       "      <td>-0.842189</td>\n",
       "      <td>-0.699617</td>\n",
       "    </tr>\n",
       "    <tr>\n",
       "      <th>103</th>\n",
       "      <td>-0.208954</td>\n",
       "      <td>-0.030577</td>\n",
       "      <td>0.873862</td>\n",
       "      <td>0.481653</td>\n",
       "      <td>0.222468</td>\n",
       "      <td>0.063082</td>\n",
       "      <td>0.222468</td>\n",
       "      <td>0.063082</td>\n",
       "      <td>0.223580</td>\n",
       "      <td>-0.029199</td>\n",
       "    </tr>\n",
       "    <tr>\n",
       "      <th>67</th>\n",
       "      <td>0.014203</td>\n",
       "      <td>0.228746</td>\n",
       "      <td>-0.768481</td>\n",
       "      <td>-1.041051</td>\n",
       "      <td>-0.293771</td>\n",
       "      <td>-0.325768</td>\n",
       "      <td>-0.293771</td>\n",
       "      <td>-0.325768</td>\n",
       "      <td>-0.157371</td>\n",
       "      <td>-0.047865</td>\n",
       "    </tr>\n",
       "    <tr>\n",
       "      <th>9</th>\n",
       "      <td>0.977248</td>\n",
       "      <td>-1.173815</td>\n",
       "      <td>0.269208</td>\n",
       "      <td>0.338249</td>\n",
       "      <td>1.412020</td>\n",
       "      <td>1.033832</td>\n",
       "      <td>1.412020</td>\n",
       "      <td>1.033832</td>\n",
       "      <td>2.398732</td>\n",
       "      <td>1.171033</td>\n",
       "    </tr>\n",
       "    <tr>\n",
       "      <th>47</th>\n",
       "      <td>-0.865275</td>\n",
       "      <td>0.839119</td>\n",
       "      <td>-0.494315</td>\n",
       "      <td>-0.302443</td>\n",
       "      <td>-0.486789</td>\n",
       "      <td>-0.413983</td>\n",
       "      <td>-0.486789</td>\n",
       "      <td>-0.413983</td>\n",
       "      <td>-0.543599</td>\n",
       "      <td>-0.421806</td>\n",
       "    </tr>\n",
       "  </tbody>\n",
       "</table>\n",
       "<p>103 rows × 10 columns</p>\n",
       "</div>"
      ],
      "text/plain": [
       "          RMS      RMSf        ZC       ZCf      Spec     Specf   Specslo  \\\n",
       "106  0.640473 -0.586021  2.476886  1.428814  1.561350  1.291089  1.561350   \n",
       "30   0.479794 -0.335936 -0.425242 -0.649003 -0.939213 -0.936567 -0.939213   \n",
       "62  -0.232938  0.053549 -0.844993 -0.881071 -1.114765 -1.035795 -1.114765   \n",
       "89  -1.195851  1.797930 -0.148418 -0.264664 -0.776658 -0.722501 -0.776658   \n",
       "27   0.144105 -0.847142  2.357337  3.271093  2.316870  2.518614  2.316870   \n",
       "..        ...       ...       ...       ...       ...       ...       ...   \n",
       "9    1.180280 -1.040197 -1.209486 -1.385298 -1.168446 -1.166695 -1.168446   \n",
       "103 -0.208954 -0.030577  0.873862  0.481653  0.222468  0.063082  0.222468   \n",
       "67   0.014203  0.228746 -0.768481 -1.041051 -0.293771 -0.325768 -0.293771   \n",
       "9    0.977248 -1.173815  0.269208  0.338249  1.412020  1.033832  1.412020   \n",
       "47  -0.865275  0.839119 -0.494315 -0.302443 -0.486789 -0.413983 -0.486789   \n",
       "\n",
       "     Specslof   Specspr  Specsprf  \n",
       "106  1.291089  1.376438  1.438089  \n",
       "30  -0.936567 -1.257011 -1.158839  \n",
       "62  -1.035795 -1.176317 -1.135708  \n",
       "89  -0.722501 -1.145709 -0.860646  \n",
       "27   2.518614  1.713523  1.781372  \n",
       "..        ...       ...       ...  \n",
       "9   -1.166695 -0.842189 -0.699617  \n",
       "103  0.063082  0.223580 -0.029199  \n",
       "67  -0.325768 -0.157371 -0.047865  \n",
       "9    1.033832  2.398732  1.171033  \n",
       "47  -0.413983 -0.543599 -0.421806  \n",
       "\n",
       "[103 rows x 10 columns]"
      ]
     },
     "execution_count": 175,
     "metadata": {},
     "output_type": "execute_result"
    }
   ],
   "source": [
    "x_train, x_test, y_train, y_test = train_test_split(X, y, test_size=0.25, random_state=0, shuffle=True, stratify=None)\n",
    "\n",
    "x_train"
   ]
  },
  {
   "cell_type": "code",
   "execution_count": 176,
   "metadata": {},
   "outputs": [],
   "source": [
    "# KNN\n",
    "\n",
    "knn = KNeighborsClassifier(n_neighbors=3)\n",
    "knn.fit(x_train, y_train)\n",
    "\n",
    "y_pred_knn = knn.predict(x_test)\n",
    "\n",
    "\n",
    "\n",
    "# Extra trees classifier\n",
    "\n",
    "forestclf = ExtraTreesClassifier(n_estimators = 500)\n",
    "\n",
    "forestclf.fit(x_train, y_train)\n",
    "\n",
    "y_pred_forest = forestclf.predict(x_test)\n",
    "\n",
    "\n",
    "# SVC\n",
    "\n",
    "#Create a svm Classifier\n",
    "clf = sklearn.svm.SVC(kernel='linear') \n",
    "\n",
    "#Train the model using the training sets\n",
    "clf.fit(x_train, y_train)\n",
    "\n",
    "#Predict the response for test dataset\n",
    "y_pred_svc = clf.predict(x_test)\n",
    "\n",
    "\n",
    "# Random Forest\n",
    "\n",
    "rforestclf = RandomForestClassifier(n_estimators = 500)\n",
    "\n",
    "rforestclf.fit(x_train, y_train)\n",
    "\n",
    "y_pred_rforest = rforestclf.predict(x_test)\n",
    "\n",
    "\n",
    "# Decision tree\n",
    "\n",
    "treeclf = tree.DecisionTreeClassifier()\n",
    "treeclf = clf.fit(x_train, y_train)\n",
    "y_pred_tree = rforestclf.predict(x_test)\n",
    "\n",
    "# Naive bayes\n",
    "\n",
    "gnb = GaussianNB()\n",
    "nbclf = gnb.fit(x_train, y_train)\n",
    "y_pred_nb = nbclf.predict(x_test)"
   ]
  },
  {
   "cell_type": "code",
   "execution_count": 177,
   "metadata": {
    "scrolled": false
   },
   "outputs": [
    {
     "name": "stdout",
     "output_type": "stream",
     "text": [
      "KNN confusion matrix\n"
     ]
    },
    {
     "data": {
      "application/javascript": [
       "/* Put everything inside the global mpl namespace */\n",
       "window.mpl = {};\n",
       "\n",
       "\n",
       "mpl.get_websocket_type = function() {\n",
       "    if (typeof(WebSocket) !== 'undefined') {\n",
       "        return WebSocket;\n",
       "    } else if (typeof(MozWebSocket) !== 'undefined') {\n",
       "        return MozWebSocket;\n",
       "    } else {\n",
       "        alert('Your browser does not have WebSocket support. ' +\n",
       "              'Please try Chrome, Safari or Firefox ≥ 6. ' +\n",
       "              'Firefox 4 and 5 are also supported but you ' +\n",
       "              'have to enable WebSockets in about:config.');\n",
       "    };\n",
       "}\n",
       "\n",
       "mpl.figure = function(figure_id, websocket, ondownload, parent_element) {\n",
       "    this.id = figure_id;\n",
       "\n",
       "    this.ws = websocket;\n",
       "\n",
       "    this.supports_binary = (this.ws.binaryType != undefined);\n",
       "\n",
       "    if (!this.supports_binary) {\n",
       "        var warnings = document.getElementById(\"mpl-warnings\");\n",
       "        if (warnings) {\n",
       "            warnings.style.display = 'block';\n",
       "            warnings.textContent = (\n",
       "                \"This browser does not support binary websocket messages. \" +\n",
       "                    \"Performance may be slow.\");\n",
       "        }\n",
       "    }\n",
       "\n",
       "    this.imageObj = new Image();\n",
       "\n",
       "    this.context = undefined;\n",
       "    this.message = undefined;\n",
       "    this.canvas = undefined;\n",
       "    this.rubberband_canvas = undefined;\n",
       "    this.rubberband_context = undefined;\n",
       "    this.format_dropdown = undefined;\n",
       "\n",
       "    this.image_mode = 'full';\n",
       "\n",
       "    this.root = $('<div/>');\n",
       "    this._root_extra_style(this.root)\n",
       "    this.root.attr('style', 'display: inline-block');\n",
       "\n",
       "    $(parent_element).append(this.root);\n",
       "\n",
       "    this._init_header(this);\n",
       "    this._init_canvas(this);\n",
       "    this._init_toolbar(this);\n",
       "\n",
       "    var fig = this;\n",
       "\n",
       "    this.waiting = false;\n",
       "\n",
       "    this.ws.onopen =  function () {\n",
       "            fig.send_message(\"supports_binary\", {value: fig.supports_binary});\n",
       "            fig.send_message(\"send_image_mode\", {});\n",
       "            if (mpl.ratio != 1) {\n",
       "                fig.send_message(\"set_dpi_ratio\", {'dpi_ratio': mpl.ratio});\n",
       "            }\n",
       "            fig.send_message(\"refresh\", {});\n",
       "        }\n",
       "\n",
       "    this.imageObj.onload = function() {\n",
       "            if (fig.image_mode == 'full') {\n",
       "                // Full images could contain transparency (where diff images\n",
       "                // almost always do), so we need to clear the canvas so that\n",
       "                // there is no ghosting.\n",
       "                fig.context.clearRect(0, 0, fig.canvas.width, fig.canvas.height);\n",
       "            }\n",
       "            fig.context.drawImage(fig.imageObj, 0, 0);\n",
       "        };\n",
       "\n",
       "    this.imageObj.onunload = function() {\n",
       "        fig.ws.close();\n",
       "    }\n",
       "\n",
       "    this.ws.onmessage = this._make_on_message_function(this);\n",
       "\n",
       "    this.ondownload = ondownload;\n",
       "}\n",
       "\n",
       "mpl.figure.prototype._init_header = function() {\n",
       "    var titlebar = $(\n",
       "        '<div class=\"ui-dialog-titlebar ui-widget-header ui-corner-all ' +\n",
       "        'ui-helper-clearfix\"/>');\n",
       "    var titletext = $(\n",
       "        '<div class=\"ui-dialog-title\" style=\"width: 100%; ' +\n",
       "        'text-align: center; padding: 3px;\"/>');\n",
       "    titlebar.append(titletext)\n",
       "    this.root.append(titlebar);\n",
       "    this.header = titletext[0];\n",
       "}\n",
       "\n",
       "\n",
       "\n",
       "mpl.figure.prototype._canvas_extra_style = function(canvas_div) {\n",
       "\n",
       "}\n",
       "\n",
       "\n",
       "mpl.figure.prototype._root_extra_style = function(canvas_div) {\n",
       "\n",
       "}\n",
       "\n",
       "mpl.figure.prototype._init_canvas = function() {\n",
       "    var fig = this;\n",
       "\n",
       "    var canvas_div = $('<div/>');\n",
       "\n",
       "    canvas_div.attr('style', 'position: relative; clear: both; outline: 0');\n",
       "\n",
       "    function canvas_keyboard_event(event) {\n",
       "        return fig.key_event(event, event['data']);\n",
       "    }\n",
       "\n",
       "    canvas_div.keydown('key_press', canvas_keyboard_event);\n",
       "    canvas_div.keyup('key_release', canvas_keyboard_event);\n",
       "    this.canvas_div = canvas_div\n",
       "    this._canvas_extra_style(canvas_div)\n",
       "    this.root.append(canvas_div);\n",
       "\n",
       "    var canvas = $('<canvas/>');\n",
       "    canvas.addClass('mpl-canvas');\n",
       "    canvas.attr('style', \"left: 0; top: 0; z-index: 0; outline: 0\")\n",
       "\n",
       "    this.canvas = canvas[0];\n",
       "    this.context = canvas[0].getContext(\"2d\");\n",
       "\n",
       "    var backingStore = this.context.backingStorePixelRatio ||\n",
       "\tthis.context.webkitBackingStorePixelRatio ||\n",
       "\tthis.context.mozBackingStorePixelRatio ||\n",
       "\tthis.context.msBackingStorePixelRatio ||\n",
       "\tthis.context.oBackingStorePixelRatio ||\n",
       "\tthis.context.backingStorePixelRatio || 1;\n",
       "\n",
       "    mpl.ratio = (window.devicePixelRatio || 1) / backingStore;\n",
       "\n",
       "    var rubberband = $('<canvas/>');\n",
       "    rubberband.attr('style', \"position: absolute; left: 0; top: 0; z-index: 1;\")\n",
       "\n",
       "    var pass_mouse_events = true;\n",
       "\n",
       "    canvas_div.resizable({\n",
       "        start: function(event, ui) {\n",
       "            pass_mouse_events = false;\n",
       "        },\n",
       "        resize: function(event, ui) {\n",
       "            fig.request_resize(ui.size.width, ui.size.height);\n",
       "        },\n",
       "        stop: function(event, ui) {\n",
       "            pass_mouse_events = true;\n",
       "            fig.request_resize(ui.size.width, ui.size.height);\n",
       "        },\n",
       "    });\n",
       "\n",
       "    function mouse_event_fn(event) {\n",
       "        if (pass_mouse_events)\n",
       "            return fig.mouse_event(event, event['data']);\n",
       "    }\n",
       "\n",
       "    rubberband.mousedown('button_press', mouse_event_fn);\n",
       "    rubberband.mouseup('button_release', mouse_event_fn);\n",
       "    // Throttle sequential mouse events to 1 every 20ms.\n",
       "    rubberband.mousemove('motion_notify', mouse_event_fn);\n",
       "\n",
       "    rubberband.mouseenter('figure_enter', mouse_event_fn);\n",
       "    rubberband.mouseleave('figure_leave', mouse_event_fn);\n",
       "\n",
       "    canvas_div.on(\"wheel\", function (event) {\n",
       "        event = event.originalEvent;\n",
       "        event['data'] = 'scroll'\n",
       "        if (event.deltaY < 0) {\n",
       "            event.step = 1;\n",
       "        } else {\n",
       "            event.step = -1;\n",
       "        }\n",
       "        mouse_event_fn(event);\n",
       "    });\n",
       "\n",
       "    canvas_div.append(canvas);\n",
       "    canvas_div.append(rubberband);\n",
       "\n",
       "    this.rubberband = rubberband;\n",
       "    this.rubberband_canvas = rubberband[0];\n",
       "    this.rubberband_context = rubberband[0].getContext(\"2d\");\n",
       "    this.rubberband_context.strokeStyle = \"#000000\";\n",
       "\n",
       "    this._resize_canvas = function(width, height) {\n",
       "        // Keep the size of the canvas, canvas container, and rubber band\n",
       "        // canvas in synch.\n",
       "        canvas_div.css('width', width)\n",
       "        canvas_div.css('height', height)\n",
       "\n",
       "        canvas.attr('width', width * mpl.ratio);\n",
       "        canvas.attr('height', height * mpl.ratio);\n",
       "        canvas.attr('style', 'width: ' + width + 'px; height: ' + height + 'px;');\n",
       "\n",
       "        rubberband.attr('width', width);\n",
       "        rubberband.attr('height', height);\n",
       "    }\n",
       "\n",
       "    // Set the figure to an initial 600x600px, this will subsequently be updated\n",
       "    // upon first draw.\n",
       "    this._resize_canvas(600, 600);\n",
       "\n",
       "    // Disable right mouse context menu.\n",
       "    $(this.rubberband_canvas).bind(\"contextmenu\",function(e){\n",
       "        return false;\n",
       "    });\n",
       "\n",
       "    function set_focus () {\n",
       "        canvas.focus();\n",
       "        canvas_div.focus();\n",
       "    }\n",
       "\n",
       "    window.setTimeout(set_focus, 100);\n",
       "}\n",
       "\n",
       "mpl.figure.prototype._init_toolbar = function() {\n",
       "    var fig = this;\n",
       "\n",
       "    var nav_element = $('<div/>');\n",
       "    nav_element.attr('style', 'width: 100%');\n",
       "    this.root.append(nav_element);\n",
       "\n",
       "    // Define a callback function for later on.\n",
       "    function toolbar_event(event) {\n",
       "        return fig.toolbar_button_onclick(event['data']);\n",
       "    }\n",
       "    function toolbar_mouse_event(event) {\n",
       "        return fig.toolbar_button_onmouseover(event['data']);\n",
       "    }\n",
       "\n",
       "    for(var toolbar_ind in mpl.toolbar_items) {\n",
       "        var name = mpl.toolbar_items[toolbar_ind][0];\n",
       "        var tooltip = mpl.toolbar_items[toolbar_ind][1];\n",
       "        var image = mpl.toolbar_items[toolbar_ind][2];\n",
       "        var method_name = mpl.toolbar_items[toolbar_ind][3];\n",
       "\n",
       "        if (!name) {\n",
       "            // put a spacer in here.\n",
       "            continue;\n",
       "        }\n",
       "        var button = $('<button/>');\n",
       "        button.addClass('ui-button ui-widget ui-state-default ui-corner-all ' +\n",
       "                        'ui-button-icon-only');\n",
       "        button.attr('role', 'button');\n",
       "        button.attr('aria-disabled', 'false');\n",
       "        button.click(method_name, toolbar_event);\n",
       "        button.mouseover(tooltip, toolbar_mouse_event);\n",
       "\n",
       "        var icon_img = $('<span/>');\n",
       "        icon_img.addClass('ui-button-icon-primary ui-icon');\n",
       "        icon_img.addClass(image);\n",
       "        icon_img.addClass('ui-corner-all');\n",
       "\n",
       "        var tooltip_span = $('<span/>');\n",
       "        tooltip_span.addClass('ui-button-text');\n",
       "        tooltip_span.html(tooltip);\n",
       "\n",
       "        button.append(icon_img);\n",
       "        button.append(tooltip_span);\n",
       "\n",
       "        nav_element.append(button);\n",
       "    }\n",
       "\n",
       "    var fmt_picker_span = $('<span/>');\n",
       "\n",
       "    var fmt_picker = $('<select/>');\n",
       "    fmt_picker.addClass('mpl-toolbar-option ui-widget ui-widget-content');\n",
       "    fmt_picker_span.append(fmt_picker);\n",
       "    nav_element.append(fmt_picker_span);\n",
       "    this.format_dropdown = fmt_picker[0];\n",
       "\n",
       "    for (var ind in mpl.extensions) {\n",
       "        var fmt = mpl.extensions[ind];\n",
       "        var option = $(\n",
       "            '<option/>', {selected: fmt === mpl.default_extension}).html(fmt);\n",
       "        fmt_picker.append(option);\n",
       "    }\n",
       "\n",
       "    // Add hover states to the ui-buttons\n",
       "    $( \".ui-button\" ).hover(\n",
       "        function() { $(this).addClass(\"ui-state-hover\");},\n",
       "        function() { $(this).removeClass(\"ui-state-hover\");}\n",
       "    );\n",
       "\n",
       "    var status_bar = $('<span class=\"mpl-message\"/>');\n",
       "    nav_element.append(status_bar);\n",
       "    this.message = status_bar[0];\n",
       "}\n",
       "\n",
       "mpl.figure.prototype.request_resize = function(x_pixels, y_pixels) {\n",
       "    // Request matplotlib to resize the figure. Matplotlib will then trigger a resize in the client,\n",
       "    // which will in turn request a refresh of the image.\n",
       "    this.send_message('resize', {'width': x_pixels, 'height': y_pixels});\n",
       "}\n",
       "\n",
       "mpl.figure.prototype.send_message = function(type, properties) {\n",
       "    properties['type'] = type;\n",
       "    properties['figure_id'] = this.id;\n",
       "    this.ws.send(JSON.stringify(properties));\n",
       "}\n",
       "\n",
       "mpl.figure.prototype.send_draw_message = function() {\n",
       "    if (!this.waiting) {\n",
       "        this.waiting = true;\n",
       "        this.ws.send(JSON.stringify({type: \"draw\", figure_id: this.id}));\n",
       "    }\n",
       "}\n",
       "\n",
       "\n",
       "mpl.figure.prototype.handle_save = function(fig, msg) {\n",
       "    var format_dropdown = fig.format_dropdown;\n",
       "    var format = format_dropdown.options[format_dropdown.selectedIndex].value;\n",
       "    fig.ondownload(fig, format);\n",
       "}\n",
       "\n",
       "\n",
       "mpl.figure.prototype.handle_resize = function(fig, msg) {\n",
       "    var size = msg['size'];\n",
       "    if (size[0] != fig.canvas.width || size[1] != fig.canvas.height) {\n",
       "        fig._resize_canvas(size[0], size[1]);\n",
       "        fig.send_message(\"refresh\", {});\n",
       "    };\n",
       "}\n",
       "\n",
       "mpl.figure.prototype.handle_rubberband = function(fig, msg) {\n",
       "    var x0 = msg['x0'] / mpl.ratio;\n",
       "    var y0 = (fig.canvas.height - msg['y0']) / mpl.ratio;\n",
       "    var x1 = msg['x1'] / mpl.ratio;\n",
       "    var y1 = (fig.canvas.height - msg['y1']) / mpl.ratio;\n",
       "    x0 = Math.floor(x0) + 0.5;\n",
       "    y0 = Math.floor(y0) + 0.5;\n",
       "    x1 = Math.floor(x1) + 0.5;\n",
       "    y1 = Math.floor(y1) + 0.5;\n",
       "    var min_x = Math.min(x0, x1);\n",
       "    var min_y = Math.min(y0, y1);\n",
       "    var width = Math.abs(x1 - x0);\n",
       "    var height = Math.abs(y1 - y0);\n",
       "\n",
       "    fig.rubberband_context.clearRect(\n",
       "        0, 0, fig.canvas.width / mpl.ratio, fig.canvas.height / mpl.ratio);\n",
       "\n",
       "    fig.rubberband_context.strokeRect(min_x, min_y, width, height);\n",
       "}\n",
       "\n",
       "mpl.figure.prototype.handle_figure_label = function(fig, msg) {\n",
       "    // Updates the figure title.\n",
       "    fig.header.textContent = msg['label'];\n",
       "}\n",
       "\n",
       "mpl.figure.prototype.handle_cursor = function(fig, msg) {\n",
       "    var cursor = msg['cursor'];\n",
       "    switch(cursor)\n",
       "    {\n",
       "    case 0:\n",
       "        cursor = 'pointer';\n",
       "        break;\n",
       "    case 1:\n",
       "        cursor = 'default';\n",
       "        break;\n",
       "    case 2:\n",
       "        cursor = 'crosshair';\n",
       "        break;\n",
       "    case 3:\n",
       "        cursor = 'move';\n",
       "        break;\n",
       "    }\n",
       "    fig.rubberband_canvas.style.cursor = cursor;\n",
       "}\n",
       "\n",
       "mpl.figure.prototype.handle_message = function(fig, msg) {\n",
       "    fig.message.textContent = msg['message'];\n",
       "}\n",
       "\n",
       "mpl.figure.prototype.handle_draw = function(fig, msg) {\n",
       "    // Request the server to send over a new figure.\n",
       "    fig.send_draw_message();\n",
       "}\n",
       "\n",
       "mpl.figure.prototype.handle_image_mode = function(fig, msg) {\n",
       "    fig.image_mode = msg['mode'];\n",
       "}\n",
       "\n",
       "mpl.figure.prototype.updated_canvas_event = function() {\n",
       "    // Called whenever the canvas gets updated.\n",
       "    this.send_message(\"ack\", {});\n",
       "}\n",
       "\n",
       "// A function to construct a web socket function for onmessage handling.\n",
       "// Called in the figure constructor.\n",
       "mpl.figure.prototype._make_on_message_function = function(fig) {\n",
       "    return function socket_on_message(evt) {\n",
       "        if (evt.data instanceof Blob) {\n",
       "            /* FIXME: We get \"Resource interpreted as Image but\n",
       "             * transferred with MIME type text/plain:\" errors on\n",
       "             * Chrome.  But how to set the MIME type?  It doesn't seem\n",
       "             * to be part of the websocket stream */\n",
       "            evt.data.type = \"image/png\";\n",
       "\n",
       "            /* Free the memory for the previous frames */\n",
       "            if (fig.imageObj.src) {\n",
       "                (window.URL || window.webkitURL).revokeObjectURL(\n",
       "                    fig.imageObj.src);\n",
       "            }\n",
       "\n",
       "            fig.imageObj.src = (window.URL || window.webkitURL).createObjectURL(\n",
       "                evt.data);\n",
       "            fig.updated_canvas_event();\n",
       "            fig.waiting = false;\n",
       "            return;\n",
       "        }\n",
       "        else if (typeof evt.data === 'string' && evt.data.slice(0, 21) == \"data:image/png;base64\") {\n",
       "            fig.imageObj.src = evt.data;\n",
       "            fig.updated_canvas_event();\n",
       "            fig.waiting = false;\n",
       "            return;\n",
       "        }\n",
       "\n",
       "        var msg = JSON.parse(evt.data);\n",
       "        var msg_type = msg['type'];\n",
       "\n",
       "        // Call the  \"handle_{type}\" callback, which takes\n",
       "        // the figure and JSON message as its only arguments.\n",
       "        try {\n",
       "            var callback = fig[\"handle_\" + msg_type];\n",
       "        } catch (e) {\n",
       "            console.log(\"No handler for the '\" + msg_type + \"' message type: \", msg);\n",
       "            return;\n",
       "        }\n",
       "\n",
       "        if (callback) {\n",
       "            try {\n",
       "                // console.log(\"Handling '\" + msg_type + \"' message: \", msg);\n",
       "                callback(fig, msg);\n",
       "            } catch (e) {\n",
       "                console.log(\"Exception inside the 'handler_\" + msg_type + \"' callback:\", e, e.stack, msg);\n",
       "            }\n",
       "        }\n",
       "    };\n",
       "}\n",
       "\n",
       "// from http://stackoverflow.com/questions/1114465/getting-mouse-location-in-canvas\n",
       "mpl.findpos = function(e) {\n",
       "    //this section is from http://www.quirksmode.org/js/events_properties.html\n",
       "    var targ;\n",
       "    if (!e)\n",
       "        e = window.event;\n",
       "    if (e.target)\n",
       "        targ = e.target;\n",
       "    else if (e.srcElement)\n",
       "        targ = e.srcElement;\n",
       "    if (targ.nodeType == 3) // defeat Safari bug\n",
       "        targ = targ.parentNode;\n",
       "\n",
       "    // jQuery normalizes the pageX and pageY\n",
       "    // pageX,Y are the mouse positions relative to the document\n",
       "    // offset() returns the position of the element relative to the document\n",
       "    var x = e.pageX - $(targ).offset().left;\n",
       "    var y = e.pageY - $(targ).offset().top;\n",
       "\n",
       "    return {\"x\": x, \"y\": y};\n",
       "};\n",
       "\n",
       "/*\n",
       " * return a copy of an object with only non-object keys\n",
       " * we need this to avoid circular references\n",
       " * http://stackoverflow.com/a/24161582/3208463\n",
       " */\n",
       "function simpleKeys (original) {\n",
       "  return Object.keys(original).reduce(function (obj, key) {\n",
       "    if (typeof original[key] !== 'object')\n",
       "        obj[key] = original[key]\n",
       "    return obj;\n",
       "  }, {});\n",
       "}\n",
       "\n",
       "mpl.figure.prototype.mouse_event = function(event, name) {\n",
       "    var canvas_pos = mpl.findpos(event)\n",
       "\n",
       "    if (name === 'button_press')\n",
       "    {\n",
       "        this.canvas.focus();\n",
       "        this.canvas_div.focus();\n",
       "    }\n",
       "\n",
       "    var x = canvas_pos.x * mpl.ratio;\n",
       "    var y = canvas_pos.y * mpl.ratio;\n",
       "\n",
       "    this.send_message(name, {x: x, y: y, button: event.button,\n",
       "                             step: event.step,\n",
       "                             guiEvent: simpleKeys(event)});\n",
       "\n",
       "    /* This prevents the web browser from automatically changing to\n",
       "     * the text insertion cursor when the button is pressed.  We want\n",
       "     * to control all of the cursor setting manually through the\n",
       "     * 'cursor' event from matplotlib */\n",
       "    event.preventDefault();\n",
       "    return false;\n",
       "}\n",
       "\n",
       "mpl.figure.prototype._key_event_extra = function(event, name) {\n",
       "    // Handle any extra behaviour associated with a key event\n",
       "}\n",
       "\n",
       "mpl.figure.prototype.key_event = function(event, name) {\n",
       "\n",
       "    // Prevent repeat events\n",
       "    if (name == 'key_press')\n",
       "    {\n",
       "        if (event.which === this._key)\n",
       "            return;\n",
       "        else\n",
       "            this._key = event.which;\n",
       "    }\n",
       "    if (name == 'key_release')\n",
       "        this._key = null;\n",
       "\n",
       "    var value = '';\n",
       "    if (event.ctrlKey && event.which != 17)\n",
       "        value += \"ctrl+\";\n",
       "    if (event.altKey && event.which != 18)\n",
       "        value += \"alt+\";\n",
       "    if (event.shiftKey && event.which != 16)\n",
       "        value += \"shift+\";\n",
       "\n",
       "    value += 'k';\n",
       "    value += event.which.toString();\n",
       "\n",
       "    this._key_event_extra(event, name);\n",
       "\n",
       "    this.send_message(name, {key: value,\n",
       "                             guiEvent: simpleKeys(event)});\n",
       "    return false;\n",
       "}\n",
       "\n",
       "mpl.figure.prototype.toolbar_button_onclick = function(name) {\n",
       "    if (name == 'download') {\n",
       "        this.handle_save(this, null);\n",
       "    } else {\n",
       "        this.send_message(\"toolbar_button\", {name: name});\n",
       "    }\n",
       "};\n",
       "\n",
       "mpl.figure.prototype.toolbar_button_onmouseover = function(tooltip) {\n",
       "    this.message.textContent = tooltip;\n",
       "};\n",
       "mpl.toolbar_items = [[\"Home\", \"Reset original view\", \"fa fa-home icon-home\", \"home\"], [\"Back\", \"Back to previous view\", \"fa fa-arrow-left icon-arrow-left\", \"back\"], [\"Forward\", \"Forward to next view\", \"fa fa-arrow-right icon-arrow-right\", \"forward\"], [\"\", \"\", \"\", \"\"], [\"Pan\", \"Pan axes with left mouse, zoom with right\", \"fa fa-arrows icon-move\", \"pan\"], [\"Zoom\", \"Zoom to rectangle\", \"fa fa-square-o icon-check-empty\", \"zoom\"], [\"\", \"\", \"\", \"\"], [\"Download\", \"Download plot\", \"fa fa-floppy-o icon-save\", \"download\"]];\n",
       "\n",
       "mpl.extensions = [\"eps\", \"jpeg\", \"pdf\", \"png\", \"ps\", \"raw\", \"svg\", \"tif\"];\n",
       "\n",
       "mpl.default_extension = \"png\";var comm_websocket_adapter = function(comm) {\n",
       "    // Create a \"websocket\"-like object which calls the given IPython comm\n",
       "    // object with the appropriate methods. Currently this is a non binary\n",
       "    // socket, so there is still some room for performance tuning.\n",
       "    var ws = {};\n",
       "\n",
       "    ws.close = function() {\n",
       "        comm.close()\n",
       "    };\n",
       "    ws.send = function(m) {\n",
       "        //console.log('sending', m);\n",
       "        comm.send(m);\n",
       "    };\n",
       "    // Register the callback with on_msg.\n",
       "    comm.on_msg(function(msg) {\n",
       "        //console.log('receiving', msg['content']['data'], msg);\n",
       "        // Pass the mpl event to the overridden (by mpl) onmessage function.\n",
       "        ws.onmessage(msg['content']['data'])\n",
       "    });\n",
       "    return ws;\n",
       "}\n",
       "\n",
       "mpl.mpl_figure_comm = function(comm, msg) {\n",
       "    // This is the function which gets called when the mpl process\n",
       "    // starts-up an IPython Comm through the \"matplotlib\" channel.\n",
       "\n",
       "    var id = msg.content.data.id;\n",
       "    // Get hold of the div created by the display call when the Comm\n",
       "    // socket was opened in Python.\n",
       "    var element = $(\"#\" + id);\n",
       "    var ws_proxy = comm_websocket_adapter(comm)\n",
       "\n",
       "    function ondownload(figure, format) {\n",
       "        window.open(figure.imageObj.src);\n",
       "    }\n",
       "\n",
       "    var fig = new mpl.figure(id, ws_proxy,\n",
       "                           ondownload,\n",
       "                           element.get(0));\n",
       "\n",
       "    // Call onopen now - mpl needs it, as it is assuming we've passed it a real\n",
       "    // web socket which is closed, not our websocket->open comm proxy.\n",
       "    ws_proxy.onopen();\n",
       "\n",
       "    fig.parent_element = element.get(0);\n",
       "    fig.cell_info = mpl.find_output_cell(\"<div id='\" + id + \"'></div>\");\n",
       "    if (!fig.cell_info) {\n",
       "        console.error(\"Failed to find cell for figure\", id, fig);\n",
       "        return;\n",
       "    }\n",
       "\n",
       "    var output_index = fig.cell_info[2]\n",
       "    var cell = fig.cell_info[0];\n",
       "\n",
       "};\n",
       "\n",
       "mpl.figure.prototype.handle_close = function(fig, msg) {\n",
       "    var width = fig.canvas.width/mpl.ratio\n",
       "    fig.root.unbind('remove')\n",
       "\n",
       "    // Update the output cell to use the data from the current canvas.\n",
       "    fig.push_to_output();\n",
       "    var dataURL = fig.canvas.toDataURL();\n",
       "    // Re-enable the keyboard manager in IPython - without this line, in FF,\n",
       "    // the notebook keyboard shortcuts fail.\n",
       "    IPython.keyboard_manager.enable()\n",
       "    $(fig.parent_element).html('<img src=\"' + dataURL + '\" width=\"' + width + '\">');\n",
       "    fig.close_ws(fig, msg);\n",
       "}\n",
       "\n",
       "mpl.figure.prototype.close_ws = function(fig, msg){\n",
       "    fig.send_message('closing', msg);\n",
       "    // fig.ws.close()\n",
       "}\n",
       "\n",
       "mpl.figure.prototype.push_to_output = function(remove_interactive) {\n",
       "    // Turn the data on the canvas into data in the output cell.\n",
       "    var width = this.canvas.width/mpl.ratio\n",
       "    var dataURL = this.canvas.toDataURL();\n",
       "    this.cell_info[1]['text/html'] = '<img src=\"' + dataURL + '\" width=\"' + width + '\">';\n",
       "}\n",
       "\n",
       "mpl.figure.prototype.updated_canvas_event = function() {\n",
       "    // Tell IPython that the notebook contents must change.\n",
       "    IPython.notebook.set_dirty(true);\n",
       "    this.send_message(\"ack\", {});\n",
       "    var fig = this;\n",
       "    // Wait a second, then push the new image to the DOM so\n",
       "    // that it is saved nicely (might be nice to debounce this).\n",
       "    setTimeout(function () { fig.push_to_output() }, 1000);\n",
       "}\n",
       "\n",
       "mpl.figure.prototype._init_toolbar = function() {\n",
       "    var fig = this;\n",
       "\n",
       "    var nav_element = $('<div/>');\n",
       "    nav_element.attr('style', 'width: 100%');\n",
       "    this.root.append(nav_element);\n",
       "\n",
       "    // Define a callback function for later on.\n",
       "    function toolbar_event(event) {\n",
       "        return fig.toolbar_button_onclick(event['data']);\n",
       "    }\n",
       "    function toolbar_mouse_event(event) {\n",
       "        return fig.toolbar_button_onmouseover(event['data']);\n",
       "    }\n",
       "\n",
       "    for(var toolbar_ind in mpl.toolbar_items){\n",
       "        var name = mpl.toolbar_items[toolbar_ind][0];\n",
       "        var tooltip = mpl.toolbar_items[toolbar_ind][1];\n",
       "        var image = mpl.toolbar_items[toolbar_ind][2];\n",
       "        var method_name = mpl.toolbar_items[toolbar_ind][3];\n",
       "\n",
       "        if (!name) { continue; };\n",
       "\n",
       "        var button = $('<button class=\"btn btn-default\" href=\"#\" title=\"' + name + '\"><i class=\"fa ' + image + ' fa-lg\"></i></button>');\n",
       "        button.click(method_name, toolbar_event);\n",
       "        button.mouseover(tooltip, toolbar_mouse_event);\n",
       "        nav_element.append(button);\n",
       "    }\n",
       "\n",
       "    // Add the status bar.\n",
       "    var status_bar = $('<span class=\"mpl-message\" style=\"text-align:right; float: right;\"/>');\n",
       "    nav_element.append(status_bar);\n",
       "    this.message = status_bar[0];\n",
       "\n",
       "    // Add the close button to the window.\n",
       "    var buttongrp = $('<div class=\"btn-group inline pull-right\"></div>');\n",
       "    var button = $('<button class=\"btn btn-mini btn-primary\" href=\"#\" title=\"Stop Interaction\"><i class=\"fa fa-power-off icon-remove icon-large\"></i></button>');\n",
       "    button.click(function (evt) { fig.handle_close(fig, {}); } );\n",
       "    button.mouseover('Stop Interaction', toolbar_mouse_event);\n",
       "    buttongrp.append(button);\n",
       "    var titlebar = this.root.find($('.ui-dialog-titlebar'));\n",
       "    titlebar.prepend(buttongrp);\n",
       "}\n",
       "\n",
       "mpl.figure.prototype._root_extra_style = function(el){\n",
       "    var fig = this\n",
       "    el.on(\"remove\", function(){\n",
       "\tfig.close_ws(fig, {});\n",
       "    });\n",
       "}\n",
       "\n",
       "mpl.figure.prototype._canvas_extra_style = function(el){\n",
       "    // this is important to make the div 'focusable\n",
       "    el.attr('tabindex', 0)\n",
       "    // reach out to IPython and tell the keyboard manager to turn it's self\n",
       "    // off when our div gets focus\n",
       "\n",
       "    // location in version 3\n",
       "    if (IPython.notebook.keyboard_manager) {\n",
       "        IPython.notebook.keyboard_manager.register_events(el);\n",
       "    }\n",
       "    else {\n",
       "        // location in version 2\n",
       "        IPython.keyboard_manager.register_events(el);\n",
       "    }\n",
       "\n",
       "}\n",
       "\n",
       "mpl.figure.prototype._key_event_extra = function(event, name) {\n",
       "    var manager = IPython.notebook.keyboard_manager;\n",
       "    if (!manager)\n",
       "        manager = IPython.keyboard_manager;\n",
       "\n",
       "    // Check for shift+enter\n",
       "    if (event.shiftKey && event.which == 13) {\n",
       "        this.canvas_div.blur();\n",
       "        // select the cell after this one\n",
       "        var index = IPython.notebook.find_cell_index(this.cell_info[0]);\n",
       "        IPython.notebook.select(index + 1);\n",
       "    }\n",
       "}\n",
       "\n",
       "mpl.figure.prototype.handle_save = function(fig, msg) {\n",
       "    fig.ondownload(fig, null);\n",
       "}\n",
       "\n",
       "\n",
       "mpl.find_output_cell = function(html_output) {\n",
       "    // Return the cell and output element which can be found *uniquely* in the notebook.\n",
       "    // Note - this is a bit hacky, but it is done because the \"notebook_saving.Notebook\"\n",
       "    // IPython event is triggered only after the cells have been serialised, which for\n",
       "    // our purposes (turning an active figure into a static one), is too late.\n",
       "    var cells = IPython.notebook.get_cells();\n",
       "    var ncells = cells.length;\n",
       "    for (var i=0; i<ncells; i++) {\n",
       "        var cell = cells[i];\n",
       "        if (cell.cell_type === 'code'){\n",
       "            for (var j=0; j<cell.output_area.outputs.length; j++) {\n",
       "                var data = cell.output_area.outputs[j];\n",
       "                if (data.data) {\n",
       "                    // IPython >= 3 moved mimebundle to data attribute of output\n",
       "                    data = data.data;\n",
       "                }\n",
       "                if (data['text/html'] == html_output) {\n",
       "                    return [cell, data, j];\n",
       "                }\n",
       "            }\n",
       "        }\n",
       "    }\n",
       "}\n",
       "\n",
       "// Register the function which deals with the matplotlib target/channel.\n",
       "// The kernel may be null if the page has been refreshed.\n",
       "if (IPython.notebook.kernel != null) {\n",
       "    IPython.notebook.kernel.comm_manager.register_target('matplotlib', mpl.mpl_figure_comm);\n",
       "}\n"
      ],
      "text/plain": [
       "<IPython.core.display.Javascript object>"
      ]
     },
     "metadata": {},
     "output_type": "display_data"
    },
    {
     "data": {
      "text/html": [
       "<img src=\"data:image/png;base64,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\" width=\"640\">"
      ],
      "text/plain": [
       "<IPython.core.display.HTML object>"
      ]
     },
     "metadata": {},
     "output_type": "display_data"
    },
    {
     "name": "stdout",
     "output_type": "stream",
     "text": [
      "SVC confusion matrix\n"
     ]
    },
    {
     "data": {
      "application/javascript": [
       "/* Put everything inside the global mpl namespace */\n",
       "window.mpl = {};\n",
       "\n",
       "\n",
       "mpl.get_websocket_type = function() {\n",
       "    if (typeof(WebSocket) !== 'undefined') {\n",
       "        return WebSocket;\n",
       "    } else if (typeof(MozWebSocket) !== 'undefined') {\n",
       "        return MozWebSocket;\n",
       "    } else {\n",
       "        alert('Your browser does not have WebSocket support. ' +\n",
       "              'Please try Chrome, Safari or Firefox ≥ 6. ' +\n",
       "              'Firefox 4 and 5 are also supported but you ' +\n",
       "              'have to enable WebSockets in about:config.');\n",
       "    };\n",
       "}\n",
       "\n",
       "mpl.figure = function(figure_id, websocket, ondownload, parent_element) {\n",
       "    this.id = figure_id;\n",
       "\n",
       "    this.ws = websocket;\n",
       "\n",
       "    this.supports_binary = (this.ws.binaryType != undefined);\n",
       "\n",
       "    if (!this.supports_binary) {\n",
       "        var warnings = document.getElementById(\"mpl-warnings\");\n",
       "        if (warnings) {\n",
       "            warnings.style.display = 'block';\n",
       "            warnings.textContent = (\n",
       "                \"This browser does not support binary websocket messages. \" +\n",
       "                    \"Performance may be slow.\");\n",
       "        }\n",
       "    }\n",
       "\n",
       "    this.imageObj = new Image();\n",
       "\n",
       "    this.context = undefined;\n",
       "    this.message = undefined;\n",
       "    this.canvas = undefined;\n",
       "    this.rubberband_canvas = undefined;\n",
       "    this.rubberband_context = undefined;\n",
       "    this.format_dropdown = undefined;\n",
       "\n",
       "    this.image_mode = 'full';\n",
       "\n",
       "    this.root = $('<div/>');\n",
       "    this._root_extra_style(this.root)\n",
       "    this.root.attr('style', 'display: inline-block');\n",
       "\n",
       "    $(parent_element).append(this.root);\n",
       "\n",
       "    this._init_header(this);\n",
       "    this._init_canvas(this);\n",
       "    this._init_toolbar(this);\n",
       "\n",
       "    var fig = this;\n",
       "\n",
       "    this.waiting = false;\n",
       "\n",
       "    this.ws.onopen =  function () {\n",
       "            fig.send_message(\"supports_binary\", {value: fig.supports_binary});\n",
       "            fig.send_message(\"send_image_mode\", {});\n",
       "            if (mpl.ratio != 1) {\n",
       "                fig.send_message(\"set_dpi_ratio\", {'dpi_ratio': mpl.ratio});\n",
       "            }\n",
       "            fig.send_message(\"refresh\", {});\n",
       "        }\n",
       "\n",
       "    this.imageObj.onload = function() {\n",
       "            if (fig.image_mode == 'full') {\n",
       "                // Full images could contain transparency (where diff images\n",
       "                // almost always do), so we need to clear the canvas so that\n",
       "                // there is no ghosting.\n",
       "                fig.context.clearRect(0, 0, fig.canvas.width, fig.canvas.height);\n",
       "            }\n",
       "            fig.context.drawImage(fig.imageObj, 0, 0);\n",
       "        };\n",
       "\n",
       "    this.imageObj.onunload = function() {\n",
       "        fig.ws.close();\n",
       "    }\n",
       "\n",
       "    this.ws.onmessage = this._make_on_message_function(this);\n",
       "\n",
       "    this.ondownload = ondownload;\n",
       "}\n",
       "\n",
       "mpl.figure.prototype._init_header = function() {\n",
       "    var titlebar = $(\n",
       "        '<div class=\"ui-dialog-titlebar ui-widget-header ui-corner-all ' +\n",
       "        'ui-helper-clearfix\"/>');\n",
       "    var titletext = $(\n",
       "        '<div class=\"ui-dialog-title\" style=\"width: 100%; ' +\n",
       "        'text-align: center; padding: 3px;\"/>');\n",
       "    titlebar.append(titletext)\n",
       "    this.root.append(titlebar);\n",
       "    this.header = titletext[0];\n",
       "}\n",
       "\n",
       "\n",
       "\n",
       "mpl.figure.prototype._canvas_extra_style = function(canvas_div) {\n",
       "\n",
       "}\n",
       "\n",
       "\n",
       "mpl.figure.prototype._root_extra_style = function(canvas_div) {\n",
       "\n",
       "}\n",
       "\n",
       "mpl.figure.prototype._init_canvas = function() {\n",
       "    var fig = this;\n",
       "\n",
       "    var canvas_div = $('<div/>');\n",
       "\n",
       "    canvas_div.attr('style', 'position: relative; clear: both; outline: 0');\n",
       "\n",
       "    function canvas_keyboard_event(event) {\n",
       "        return fig.key_event(event, event['data']);\n",
       "    }\n",
       "\n",
       "    canvas_div.keydown('key_press', canvas_keyboard_event);\n",
       "    canvas_div.keyup('key_release', canvas_keyboard_event);\n",
       "    this.canvas_div = canvas_div\n",
       "    this._canvas_extra_style(canvas_div)\n",
       "    this.root.append(canvas_div);\n",
       "\n",
       "    var canvas = $('<canvas/>');\n",
       "    canvas.addClass('mpl-canvas');\n",
       "    canvas.attr('style', \"left: 0; top: 0; z-index: 0; outline: 0\")\n",
       "\n",
       "    this.canvas = canvas[0];\n",
       "    this.context = canvas[0].getContext(\"2d\");\n",
       "\n",
       "    var backingStore = this.context.backingStorePixelRatio ||\n",
       "\tthis.context.webkitBackingStorePixelRatio ||\n",
       "\tthis.context.mozBackingStorePixelRatio ||\n",
       "\tthis.context.msBackingStorePixelRatio ||\n",
       "\tthis.context.oBackingStorePixelRatio ||\n",
       "\tthis.context.backingStorePixelRatio || 1;\n",
       "\n",
       "    mpl.ratio = (window.devicePixelRatio || 1) / backingStore;\n",
       "\n",
       "    var rubberband = $('<canvas/>');\n",
       "    rubberband.attr('style', \"position: absolute; left: 0; top: 0; z-index: 1;\")\n",
       "\n",
       "    var pass_mouse_events = true;\n",
       "\n",
       "    canvas_div.resizable({\n",
       "        start: function(event, ui) {\n",
       "            pass_mouse_events = false;\n",
       "        },\n",
       "        resize: function(event, ui) {\n",
       "            fig.request_resize(ui.size.width, ui.size.height);\n",
       "        },\n",
       "        stop: function(event, ui) {\n",
       "            pass_mouse_events = true;\n",
       "            fig.request_resize(ui.size.width, ui.size.height);\n",
       "        },\n",
       "    });\n",
       "\n",
       "    function mouse_event_fn(event) {\n",
       "        if (pass_mouse_events)\n",
       "            return fig.mouse_event(event, event['data']);\n",
       "    }\n",
       "\n",
       "    rubberband.mousedown('button_press', mouse_event_fn);\n",
       "    rubberband.mouseup('button_release', mouse_event_fn);\n",
       "    // Throttle sequential mouse events to 1 every 20ms.\n",
       "    rubberband.mousemove('motion_notify', mouse_event_fn);\n",
       "\n",
       "    rubberband.mouseenter('figure_enter', mouse_event_fn);\n",
       "    rubberband.mouseleave('figure_leave', mouse_event_fn);\n",
       "\n",
       "    canvas_div.on(\"wheel\", function (event) {\n",
       "        event = event.originalEvent;\n",
       "        event['data'] = 'scroll'\n",
       "        if (event.deltaY < 0) {\n",
       "            event.step = 1;\n",
       "        } else {\n",
       "            event.step = -1;\n",
       "        }\n",
       "        mouse_event_fn(event);\n",
       "    });\n",
       "\n",
       "    canvas_div.append(canvas);\n",
       "    canvas_div.append(rubberband);\n",
       "\n",
       "    this.rubberband = rubberband;\n",
       "    this.rubberband_canvas = rubberband[0];\n",
       "    this.rubberband_context = rubberband[0].getContext(\"2d\");\n",
       "    this.rubberband_context.strokeStyle = \"#000000\";\n",
       "\n",
       "    this._resize_canvas = function(width, height) {\n",
       "        // Keep the size of the canvas, canvas container, and rubber band\n",
       "        // canvas in synch.\n",
       "        canvas_div.css('width', width)\n",
       "        canvas_div.css('height', height)\n",
       "\n",
       "        canvas.attr('width', width * mpl.ratio);\n",
       "        canvas.attr('height', height * mpl.ratio);\n",
       "        canvas.attr('style', 'width: ' + width + 'px; height: ' + height + 'px;');\n",
       "\n",
       "        rubberband.attr('width', width);\n",
       "        rubberband.attr('height', height);\n",
       "    }\n",
       "\n",
       "    // Set the figure to an initial 600x600px, this will subsequently be updated\n",
       "    // upon first draw.\n",
       "    this._resize_canvas(600, 600);\n",
       "\n",
       "    // Disable right mouse context menu.\n",
       "    $(this.rubberband_canvas).bind(\"contextmenu\",function(e){\n",
       "        return false;\n",
       "    });\n",
       "\n",
       "    function set_focus () {\n",
       "        canvas.focus();\n",
       "        canvas_div.focus();\n",
       "    }\n",
       "\n",
       "    window.setTimeout(set_focus, 100);\n",
       "}\n",
       "\n",
       "mpl.figure.prototype._init_toolbar = function() {\n",
       "    var fig = this;\n",
       "\n",
       "    var nav_element = $('<div/>');\n",
       "    nav_element.attr('style', 'width: 100%');\n",
       "    this.root.append(nav_element);\n",
       "\n",
       "    // Define a callback function for later on.\n",
       "    function toolbar_event(event) {\n",
       "        return fig.toolbar_button_onclick(event['data']);\n",
       "    }\n",
       "    function toolbar_mouse_event(event) {\n",
       "        return fig.toolbar_button_onmouseover(event['data']);\n",
       "    }\n",
       "\n",
       "    for(var toolbar_ind in mpl.toolbar_items) {\n",
       "        var name = mpl.toolbar_items[toolbar_ind][0];\n",
       "        var tooltip = mpl.toolbar_items[toolbar_ind][1];\n",
       "        var image = mpl.toolbar_items[toolbar_ind][2];\n",
       "        var method_name = mpl.toolbar_items[toolbar_ind][3];\n",
       "\n",
       "        if (!name) {\n",
       "            // put a spacer in here.\n",
       "            continue;\n",
       "        }\n",
       "        var button = $('<button/>');\n",
       "        button.addClass('ui-button ui-widget ui-state-default ui-corner-all ' +\n",
       "                        'ui-button-icon-only');\n",
       "        button.attr('role', 'button');\n",
       "        button.attr('aria-disabled', 'false');\n",
       "        button.click(method_name, toolbar_event);\n",
       "        button.mouseover(tooltip, toolbar_mouse_event);\n",
       "\n",
       "        var icon_img = $('<span/>');\n",
       "        icon_img.addClass('ui-button-icon-primary ui-icon');\n",
       "        icon_img.addClass(image);\n",
       "        icon_img.addClass('ui-corner-all');\n",
       "\n",
       "        var tooltip_span = $('<span/>');\n",
       "        tooltip_span.addClass('ui-button-text');\n",
       "        tooltip_span.html(tooltip);\n",
       "\n",
       "        button.append(icon_img);\n",
       "        button.append(tooltip_span);\n",
       "\n",
       "        nav_element.append(button);\n",
       "    }\n",
       "\n",
       "    var fmt_picker_span = $('<span/>');\n",
       "\n",
       "    var fmt_picker = $('<select/>');\n",
       "    fmt_picker.addClass('mpl-toolbar-option ui-widget ui-widget-content');\n",
       "    fmt_picker_span.append(fmt_picker);\n",
       "    nav_element.append(fmt_picker_span);\n",
       "    this.format_dropdown = fmt_picker[0];\n",
       "\n",
       "    for (var ind in mpl.extensions) {\n",
       "        var fmt = mpl.extensions[ind];\n",
       "        var option = $(\n",
       "            '<option/>', {selected: fmt === mpl.default_extension}).html(fmt);\n",
       "        fmt_picker.append(option);\n",
       "    }\n",
       "\n",
       "    // Add hover states to the ui-buttons\n",
       "    $( \".ui-button\" ).hover(\n",
       "        function() { $(this).addClass(\"ui-state-hover\");},\n",
       "        function() { $(this).removeClass(\"ui-state-hover\");}\n",
       "    );\n",
       "\n",
       "    var status_bar = $('<span class=\"mpl-message\"/>');\n",
       "    nav_element.append(status_bar);\n",
       "    this.message = status_bar[0];\n",
       "}\n",
       "\n",
       "mpl.figure.prototype.request_resize = function(x_pixels, y_pixels) {\n",
       "    // Request matplotlib to resize the figure. Matplotlib will then trigger a resize in the client,\n",
       "    // which will in turn request a refresh of the image.\n",
       "    this.send_message('resize', {'width': x_pixels, 'height': y_pixels});\n",
       "}\n",
       "\n",
       "mpl.figure.prototype.send_message = function(type, properties) {\n",
       "    properties['type'] = type;\n",
       "    properties['figure_id'] = this.id;\n",
       "    this.ws.send(JSON.stringify(properties));\n",
       "}\n",
       "\n",
       "mpl.figure.prototype.send_draw_message = function() {\n",
       "    if (!this.waiting) {\n",
       "        this.waiting = true;\n",
       "        this.ws.send(JSON.stringify({type: \"draw\", figure_id: this.id}));\n",
       "    }\n",
       "}\n",
       "\n",
       "\n",
       "mpl.figure.prototype.handle_save = function(fig, msg) {\n",
       "    var format_dropdown = fig.format_dropdown;\n",
       "    var format = format_dropdown.options[format_dropdown.selectedIndex].value;\n",
       "    fig.ondownload(fig, format);\n",
       "}\n",
       "\n",
       "\n",
       "mpl.figure.prototype.handle_resize = function(fig, msg) {\n",
       "    var size = msg['size'];\n",
       "    if (size[0] != fig.canvas.width || size[1] != fig.canvas.height) {\n",
       "        fig._resize_canvas(size[0], size[1]);\n",
       "        fig.send_message(\"refresh\", {});\n",
       "    };\n",
       "}\n",
       "\n",
       "mpl.figure.prototype.handle_rubberband = function(fig, msg) {\n",
       "    var x0 = msg['x0'] / mpl.ratio;\n",
       "    var y0 = (fig.canvas.height - msg['y0']) / mpl.ratio;\n",
       "    var x1 = msg['x1'] / mpl.ratio;\n",
       "    var y1 = (fig.canvas.height - msg['y1']) / mpl.ratio;\n",
       "    x0 = Math.floor(x0) + 0.5;\n",
       "    y0 = Math.floor(y0) + 0.5;\n",
       "    x1 = Math.floor(x1) + 0.5;\n",
       "    y1 = Math.floor(y1) + 0.5;\n",
       "    var min_x = Math.min(x0, x1);\n",
       "    var min_y = Math.min(y0, y1);\n",
       "    var width = Math.abs(x1 - x0);\n",
       "    var height = Math.abs(y1 - y0);\n",
       "\n",
       "    fig.rubberband_context.clearRect(\n",
       "        0, 0, fig.canvas.width / mpl.ratio, fig.canvas.height / mpl.ratio);\n",
       "\n",
       "    fig.rubberband_context.strokeRect(min_x, min_y, width, height);\n",
       "}\n",
       "\n",
       "mpl.figure.prototype.handle_figure_label = function(fig, msg) {\n",
       "    // Updates the figure title.\n",
       "    fig.header.textContent = msg['label'];\n",
       "}\n",
       "\n",
       "mpl.figure.prototype.handle_cursor = function(fig, msg) {\n",
       "    var cursor = msg['cursor'];\n",
       "    switch(cursor)\n",
       "    {\n",
       "    case 0:\n",
       "        cursor = 'pointer';\n",
       "        break;\n",
       "    case 1:\n",
       "        cursor = 'default';\n",
       "        break;\n",
       "    case 2:\n",
       "        cursor = 'crosshair';\n",
       "        break;\n",
       "    case 3:\n",
       "        cursor = 'move';\n",
       "        break;\n",
       "    }\n",
       "    fig.rubberband_canvas.style.cursor = cursor;\n",
       "}\n",
       "\n",
       "mpl.figure.prototype.handle_message = function(fig, msg) {\n",
       "    fig.message.textContent = msg['message'];\n",
       "}\n",
       "\n",
       "mpl.figure.prototype.handle_draw = function(fig, msg) {\n",
       "    // Request the server to send over a new figure.\n",
       "    fig.send_draw_message();\n",
       "}\n",
       "\n",
       "mpl.figure.prototype.handle_image_mode = function(fig, msg) {\n",
       "    fig.image_mode = msg['mode'];\n",
       "}\n",
       "\n",
       "mpl.figure.prototype.updated_canvas_event = function() {\n",
       "    // Called whenever the canvas gets updated.\n",
       "    this.send_message(\"ack\", {});\n",
       "}\n",
       "\n",
       "// A function to construct a web socket function for onmessage handling.\n",
       "// Called in the figure constructor.\n",
       "mpl.figure.prototype._make_on_message_function = function(fig) {\n",
       "    return function socket_on_message(evt) {\n",
       "        if (evt.data instanceof Blob) {\n",
       "            /* FIXME: We get \"Resource interpreted as Image but\n",
       "             * transferred with MIME type text/plain:\" errors on\n",
       "             * Chrome.  But how to set the MIME type?  It doesn't seem\n",
       "             * to be part of the websocket stream */\n",
       "            evt.data.type = \"image/png\";\n",
       "\n",
       "            /* Free the memory for the previous frames */\n",
       "            if (fig.imageObj.src) {\n",
       "                (window.URL || window.webkitURL).revokeObjectURL(\n",
       "                    fig.imageObj.src);\n",
       "            }\n",
       "\n",
       "            fig.imageObj.src = (window.URL || window.webkitURL).createObjectURL(\n",
       "                evt.data);\n",
       "            fig.updated_canvas_event();\n",
       "            fig.waiting = false;\n",
       "            return;\n",
       "        }\n",
       "        else if (typeof evt.data === 'string' && evt.data.slice(0, 21) == \"data:image/png;base64\") {\n",
       "            fig.imageObj.src = evt.data;\n",
       "            fig.updated_canvas_event();\n",
       "            fig.waiting = false;\n",
       "            return;\n",
       "        }\n",
       "\n",
       "        var msg = JSON.parse(evt.data);\n",
       "        var msg_type = msg['type'];\n",
       "\n",
       "        // Call the  \"handle_{type}\" callback, which takes\n",
       "        // the figure and JSON message as its only arguments.\n",
       "        try {\n",
       "            var callback = fig[\"handle_\" + msg_type];\n",
       "        } catch (e) {\n",
       "            console.log(\"No handler for the '\" + msg_type + \"' message type: \", msg);\n",
       "            return;\n",
       "        }\n",
       "\n",
       "        if (callback) {\n",
       "            try {\n",
       "                // console.log(\"Handling '\" + msg_type + \"' message: \", msg);\n",
       "                callback(fig, msg);\n",
       "            } catch (e) {\n",
       "                console.log(\"Exception inside the 'handler_\" + msg_type + \"' callback:\", e, e.stack, msg);\n",
       "            }\n",
       "        }\n",
       "    };\n",
       "}\n",
       "\n",
       "// from http://stackoverflow.com/questions/1114465/getting-mouse-location-in-canvas\n",
       "mpl.findpos = function(e) {\n",
       "    //this section is from http://www.quirksmode.org/js/events_properties.html\n",
       "    var targ;\n",
       "    if (!e)\n",
       "        e = window.event;\n",
       "    if (e.target)\n",
       "        targ = e.target;\n",
       "    else if (e.srcElement)\n",
       "        targ = e.srcElement;\n",
       "    if (targ.nodeType == 3) // defeat Safari bug\n",
       "        targ = targ.parentNode;\n",
       "\n",
       "    // jQuery normalizes the pageX and pageY\n",
       "    // pageX,Y are the mouse positions relative to the document\n",
       "    // offset() returns the position of the element relative to the document\n",
       "    var x = e.pageX - $(targ).offset().left;\n",
       "    var y = e.pageY - $(targ).offset().top;\n",
       "\n",
       "    return {\"x\": x, \"y\": y};\n",
       "};\n",
       "\n",
       "/*\n",
       " * return a copy of an object with only non-object keys\n",
       " * we need this to avoid circular references\n",
       " * http://stackoverflow.com/a/24161582/3208463\n",
       " */\n",
       "function simpleKeys (original) {\n",
       "  return Object.keys(original).reduce(function (obj, key) {\n",
       "    if (typeof original[key] !== 'object')\n",
       "        obj[key] = original[key]\n",
       "    return obj;\n",
       "  }, {});\n",
       "}\n",
       "\n",
       "mpl.figure.prototype.mouse_event = function(event, name) {\n",
       "    var canvas_pos = mpl.findpos(event)\n",
       "\n",
       "    if (name === 'button_press')\n",
       "    {\n",
       "        this.canvas.focus();\n",
       "        this.canvas_div.focus();\n",
       "    }\n",
       "\n",
       "    var x = canvas_pos.x * mpl.ratio;\n",
       "    var y = canvas_pos.y * mpl.ratio;\n",
       "\n",
       "    this.send_message(name, {x: x, y: y, button: event.button,\n",
       "                             step: event.step,\n",
       "                             guiEvent: simpleKeys(event)});\n",
       "\n",
       "    /* This prevents the web browser from automatically changing to\n",
       "     * the text insertion cursor when the button is pressed.  We want\n",
       "     * to control all of the cursor setting manually through the\n",
       "     * 'cursor' event from matplotlib */\n",
       "    event.preventDefault();\n",
       "    return false;\n",
       "}\n",
       "\n",
       "mpl.figure.prototype._key_event_extra = function(event, name) {\n",
       "    // Handle any extra behaviour associated with a key event\n",
       "}\n",
       "\n",
       "mpl.figure.prototype.key_event = function(event, name) {\n",
       "\n",
       "    // Prevent repeat events\n",
       "    if (name == 'key_press')\n",
       "    {\n",
       "        if (event.which === this._key)\n",
       "            return;\n",
       "        else\n",
       "            this._key = event.which;\n",
       "    }\n",
       "    if (name == 'key_release')\n",
       "        this._key = null;\n",
       "\n",
       "    var value = '';\n",
       "    if (event.ctrlKey && event.which != 17)\n",
       "        value += \"ctrl+\";\n",
       "    if (event.altKey && event.which != 18)\n",
       "        value += \"alt+\";\n",
       "    if (event.shiftKey && event.which != 16)\n",
       "        value += \"shift+\";\n",
       "\n",
       "    value += 'k';\n",
       "    value += event.which.toString();\n",
       "\n",
       "    this._key_event_extra(event, name);\n",
       "\n",
       "    this.send_message(name, {key: value,\n",
       "                             guiEvent: simpleKeys(event)});\n",
       "    return false;\n",
       "}\n",
       "\n",
       "mpl.figure.prototype.toolbar_button_onclick = function(name) {\n",
       "    if (name == 'download') {\n",
       "        this.handle_save(this, null);\n",
       "    } else {\n",
       "        this.send_message(\"toolbar_button\", {name: name});\n",
       "    }\n",
       "};\n",
       "\n",
       "mpl.figure.prototype.toolbar_button_onmouseover = function(tooltip) {\n",
       "    this.message.textContent = tooltip;\n",
       "};\n",
       "mpl.toolbar_items = [[\"Home\", \"Reset original view\", \"fa fa-home icon-home\", \"home\"], [\"Back\", \"Back to previous view\", \"fa fa-arrow-left icon-arrow-left\", \"back\"], [\"Forward\", \"Forward to next view\", \"fa fa-arrow-right icon-arrow-right\", \"forward\"], [\"\", \"\", \"\", \"\"], [\"Pan\", \"Pan axes with left mouse, zoom with right\", \"fa fa-arrows icon-move\", \"pan\"], [\"Zoom\", \"Zoom to rectangle\", \"fa fa-square-o icon-check-empty\", \"zoom\"], [\"\", \"\", \"\", \"\"], [\"Download\", \"Download plot\", \"fa fa-floppy-o icon-save\", \"download\"]];\n",
       "\n",
       "mpl.extensions = [\"eps\", \"jpeg\", \"pdf\", \"png\", \"ps\", \"raw\", \"svg\", \"tif\"];\n",
       "\n",
       "mpl.default_extension = \"png\";var comm_websocket_adapter = function(comm) {\n",
       "    // Create a \"websocket\"-like object which calls the given IPython comm\n",
       "    // object with the appropriate methods. Currently this is a non binary\n",
       "    // socket, so there is still some room for performance tuning.\n",
       "    var ws = {};\n",
       "\n",
       "    ws.close = function() {\n",
       "        comm.close()\n",
       "    };\n",
       "    ws.send = function(m) {\n",
       "        //console.log('sending', m);\n",
       "        comm.send(m);\n",
       "    };\n",
       "    // Register the callback with on_msg.\n",
       "    comm.on_msg(function(msg) {\n",
       "        //console.log('receiving', msg['content']['data'], msg);\n",
       "        // Pass the mpl event to the overridden (by mpl) onmessage function.\n",
       "        ws.onmessage(msg['content']['data'])\n",
       "    });\n",
       "    return ws;\n",
       "}\n",
       "\n",
       "mpl.mpl_figure_comm = function(comm, msg) {\n",
       "    // This is the function which gets called when the mpl process\n",
       "    // starts-up an IPython Comm through the \"matplotlib\" channel.\n",
       "\n",
       "    var id = msg.content.data.id;\n",
       "    // Get hold of the div created by the display call when the Comm\n",
       "    // socket was opened in Python.\n",
       "    var element = $(\"#\" + id);\n",
       "    var ws_proxy = comm_websocket_adapter(comm)\n",
       "\n",
       "    function ondownload(figure, format) {\n",
       "        window.open(figure.imageObj.src);\n",
       "    }\n",
       "\n",
       "    var fig = new mpl.figure(id, ws_proxy,\n",
       "                           ondownload,\n",
       "                           element.get(0));\n",
       "\n",
       "    // Call onopen now - mpl needs it, as it is assuming we've passed it a real\n",
       "    // web socket which is closed, not our websocket->open comm proxy.\n",
       "    ws_proxy.onopen();\n",
       "\n",
       "    fig.parent_element = element.get(0);\n",
       "    fig.cell_info = mpl.find_output_cell(\"<div id='\" + id + \"'></div>\");\n",
       "    if (!fig.cell_info) {\n",
       "        console.error(\"Failed to find cell for figure\", id, fig);\n",
       "        return;\n",
       "    }\n",
       "\n",
       "    var output_index = fig.cell_info[2]\n",
       "    var cell = fig.cell_info[0];\n",
       "\n",
       "};\n",
       "\n",
       "mpl.figure.prototype.handle_close = function(fig, msg) {\n",
       "    var width = fig.canvas.width/mpl.ratio\n",
       "    fig.root.unbind('remove')\n",
       "\n",
       "    // Update the output cell to use the data from the current canvas.\n",
       "    fig.push_to_output();\n",
       "    var dataURL = fig.canvas.toDataURL();\n",
       "    // Re-enable the keyboard manager in IPython - without this line, in FF,\n",
       "    // the notebook keyboard shortcuts fail.\n",
       "    IPython.keyboard_manager.enable()\n",
       "    $(fig.parent_element).html('<img src=\"' + dataURL + '\" width=\"' + width + '\">');\n",
       "    fig.close_ws(fig, msg);\n",
       "}\n",
       "\n",
       "mpl.figure.prototype.close_ws = function(fig, msg){\n",
       "    fig.send_message('closing', msg);\n",
       "    // fig.ws.close()\n",
       "}\n",
       "\n",
       "mpl.figure.prototype.push_to_output = function(remove_interactive) {\n",
       "    // Turn the data on the canvas into data in the output cell.\n",
       "    var width = this.canvas.width/mpl.ratio\n",
       "    var dataURL = this.canvas.toDataURL();\n",
       "    this.cell_info[1]['text/html'] = '<img src=\"' + dataURL + '\" width=\"' + width + '\">';\n",
       "}\n",
       "\n",
       "mpl.figure.prototype.updated_canvas_event = function() {\n",
       "    // Tell IPython that the notebook contents must change.\n",
       "    IPython.notebook.set_dirty(true);\n",
       "    this.send_message(\"ack\", {});\n",
       "    var fig = this;\n",
       "    // Wait a second, then push the new image to the DOM so\n",
       "    // that it is saved nicely (might be nice to debounce this).\n",
       "    setTimeout(function () { fig.push_to_output() }, 1000);\n",
       "}\n",
       "\n",
       "mpl.figure.prototype._init_toolbar = function() {\n",
       "    var fig = this;\n",
       "\n",
       "    var nav_element = $('<div/>');\n",
       "    nav_element.attr('style', 'width: 100%');\n",
       "    this.root.append(nav_element);\n",
       "\n",
       "    // Define a callback function for later on.\n",
       "    function toolbar_event(event) {\n",
       "        return fig.toolbar_button_onclick(event['data']);\n",
       "    }\n",
       "    function toolbar_mouse_event(event) {\n",
       "        return fig.toolbar_button_onmouseover(event['data']);\n",
       "    }\n",
       "\n",
       "    for(var toolbar_ind in mpl.toolbar_items){\n",
       "        var name = mpl.toolbar_items[toolbar_ind][0];\n",
       "        var tooltip = mpl.toolbar_items[toolbar_ind][1];\n",
       "        var image = mpl.toolbar_items[toolbar_ind][2];\n",
       "        var method_name = mpl.toolbar_items[toolbar_ind][3];\n",
       "\n",
       "        if (!name) { continue; };\n",
       "\n",
       "        var button = $('<button class=\"btn btn-default\" href=\"#\" title=\"' + name + '\"><i class=\"fa ' + image + ' fa-lg\"></i></button>');\n",
       "        button.click(method_name, toolbar_event);\n",
       "        button.mouseover(tooltip, toolbar_mouse_event);\n",
       "        nav_element.append(button);\n",
       "    }\n",
       "\n",
       "    // Add the status bar.\n",
       "    var status_bar = $('<span class=\"mpl-message\" style=\"text-align:right; float: right;\"/>');\n",
       "    nav_element.append(status_bar);\n",
       "    this.message = status_bar[0];\n",
       "\n",
       "    // Add the close button to the window.\n",
       "    var buttongrp = $('<div class=\"btn-group inline pull-right\"></div>');\n",
       "    var button = $('<button class=\"btn btn-mini btn-primary\" href=\"#\" title=\"Stop Interaction\"><i class=\"fa fa-power-off icon-remove icon-large\"></i></button>');\n",
       "    button.click(function (evt) { fig.handle_close(fig, {}); } );\n",
       "    button.mouseover('Stop Interaction', toolbar_mouse_event);\n",
       "    buttongrp.append(button);\n",
       "    var titlebar = this.root.find($('.ui-dialog-titlebar'));\n",
       "    titlebar.prepend(buttongrp);\n",
       "}\n",
       "\n",
       "mpl.figure.prototype._root_extra_style = function(el){\n",
       "    var fig = this\n",
       "    el.on(\"remove\", function(){\n",
       "\tfig.close_ws(fig, {});\n",
       "    });\n",
       "}\n",
       "\n",
       "mpl.figure.prototype._canvas_extra_style = function(el){\n",
       "    // this is important to make the div 'focusable\n",
       "    el.attr('tabindex', 0)\n",
       "    // reach out to IPython and tell the keyboard manager to turn it's self\n",
       "    // off when our div gets focus\n",
       "\n",
       "    // location in version 3\n",
       "    if (IPython.notebook.keyboard_manager) {\n",
       "        IPython.notebook.keyboard_manager.register_events(el);\n",
       "    }\n",
       "    else {\n",
       "        // location in version 2\n",
       "        IPython.keyboard_manager.register_events(el);\n",
       "    }\n",
       "\n",
       "}\n",
       "\n",
       "mpl.figure.prototype._key_event_extra = function(event, name) {\n",
       "    var manager = IPython.notebook.keyboard_manager;\n",
       "    if (!manager)\n",
       "        manager = IPython.keyboard_manager;\n",
       "\n",
       "    // Check for shift+enter\n",
       "    if (event.shiftKey && event.which == 13) {\n",
       "        this.canvas_div.blur();\n",
       "        // select the cell after this one\n",
       "        var index = IPython.notebook.find_cell_index(this.cell_info[0]);\n",
       "        IPython.notebook.select(index + 1);\n",
       "    }\n",
       "}\n",
       "\n",
       "mpl.figure.prototype.handle_save = function(fig, msg) {\n",
       "    fig.ondownload(fig, null);\n",
       "}\n",
       "\n",
       "\n",
       "mpl.find_output_cell = function(html_output) {\n",
       "    // Return the cell and output element which can be found *uniquely* in the notebook.\n",
       "    // Note - this is a bit hacky, but it is done because the \"notebook_saving.Notebook\"\n",
       "    // IPython event is triggered only after the cells have been serialised, which for\n",
       "    // our purposes (turning an active figure into a static one), is too late.\n",
       "    var cells = IPython.notebook.get_cells();\n",
       "    var ncells = cells.length;\n",
       "    for (var i=0; i<ncells; i++) {\n",
       "        var cell = cells[i];\n",
       "        if (cell.cell_type === 'code'){\n",
       "            for (var j=0; j<cell.output_area.outputs.length; j++) {\n",
       "                var data = cell.output_area.outputs[j];\n",
       "                if (data.data) {\n",
       "                    // IPython >= 3 moved mimebundle to data attribute of output\n",
       "                    data = data.data;\n",
       "                }\n",
       "                if (data['text/html'] == html_output) {\n",
       "                    return [cell, data, j];\n",
       "                }\n",
       "            }\n",
       "        }\n",
       "    }\n",
       "}\n",
       "\n",
       "// Register the function which deals with the matplotlib target/channel.\n",
       "// The kernel may be null if the page has been refreshed.\n",
       "if (IPython.notebook.kernel != null) {\n",
       "    IPython.notebook.kernel.comm_manager.register_target('matplotlib', mpl.mpl_figure_comm);\n",
       "}\n"
      ],
      "text/plain": [
       "<IPython.core.display.Javascript object>"
      ]
     },
     "metadata": {},
     "output_type": "display_data"
    },
    {
     "data": {
      "text/html": [
       "<img src=\"data:image/png;base64,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\" width=\"640\">"
      ],
      "text/plain": [
       "<IPython.core.display.HTML object>"
      ]
     },
     "metadata": {},
     "output_type": "display_data"
    },
    {
     "name": "stdout",
     "output_type": "stream",
     "text": [
      "Decision tree classifier confusion matrix\n"
     ]
    },
    {
     "data": {
      "application/javascript": [
       "/* Put everything inside the global mpl namespace */\n",
       "window.mpl = {};\n",
       "\n",
       "\n",
       "mpl.get_websocket_type = function() {\n",
       "    if (typeof(WebSocket) !== 'undefined') {\n",
       "        return WebSocket;\n",
       "    } else if (typeof(MozWebSocket) !== 'undefined') {\n",
       "        return MozWebSocket;\n",
       "    } else {\n",
       "        alert('Your browser does not have WebSocket support. ' +\n",
       "              'Please try Chrome, Safari or Firefox ≥ 6. ' +\n",
       "              'Firefox 4 and 5 are also supported but you ' +\n",
       "              'have to enable WebSockets in about:config.');\n",
       "    };\n",
       "}\n",
       "\n",
       "mpl.figure = function(figure_id, websocket, ondownload, parent_element) {\n",
       "    this.id = figure_id;\n",
       "\n",
       "    this.ws = websocket;\n",
       "\n",
       "    this.supports_binary = (this.ws.binaryType != undefined);\n",
       "\n",
       "    if (!this.supports_binary) {\n",
       "        var warnings = document.getElementById(\"mpl-warnings\");\n",
       "        if (warnings) {\n",
       "            warnings.style.display = 'block';\n",
       "            warnings.textContent = (\n",
       "                \"This browser does not support binary websocket messages. \" +\n",
       "                    \"Performance may be slow.\");\n",
       "        }\n",
       "    }\n",
       "\n",
       "    this.imageObj = new Image();\n",
       "\n",
       "    this.context = undefined;\n",
       "    this.message = undefined;\n",
       "    this.canvas = undefined;\n",
       "    this.rubberband_canvas = undefined;\n",
       "    this.rubberband_context = undefined;\n",
       "    this.format_dropdown = undefined;\n",
       "\n",
       "    this.image_mode = 'full';\n",
       "\n",
       "    this.root = $('<div/>');\n",
       "    this._root_extra_style(this.root)\n",
       "    this.root.attr('style', 'display: inline-block');\n",
       "\n",
       "    $(parent_element).append(this.root);\n",
       "\n",
       "    this._init_header(this);\n",
       "    this._init_canvas(this);\n",
       "    this._init_toolbar(this);\n",
       "\n",
       "    var fig = this;\n",
       "\n",
       "    this.waiting = false;\n",
       "\n",
       "    this.ws.onopen =  function () {\n",
       "            fig.send_message(\"supports_binary\", {value: fig.supports_binary});\n",
       "            fig.send_message(\"send_image_mode\", {});\n",
       "            if (mpl.ratio != 1) {\n",
       "                fig.send_message(\"set_dpi_ratio\", {'dpi_ratio': mpl.ratio});\n",
       "            }\n",
       "            fig.send_message(\"refresh\", {});\n",
       "        }\n",
       "\n",
       "    this.imageObj.onload = function() {\n",
       "            if (fig.image_mode == 'full') {\n",
       "                // Full images could contain transparency (where diff images\n",
       "                // almost always do), so we need to clear the canvas so that\n",
       "                // there is no ghosting.\n",
       "                fig.context.clearRect(0, 0, fig.canvas.width, fig.canvas.height);\n",
       "            }\n",
       "            fig.context.drawImage(fig.imageObj, 0, 0);\n",
       "        };\n",
       "\n",
       "    this.imageObj.onunload = function() {\n",
       "        fig.ws.close();\n",
       "    }\n",
       "\n",
       "    this.ws.onmessage = this._make_on_message_function(this);\n",
       "\n",
       "    this.ondownload = ondownload;\n",
       "}\n",
       "\n",
       "mpl.figure.prototype._init_header = function() {\n",
       "    var titlebar = $(\n",
       "        '<div class=\"ui-dialog-titlebar ui-widget-header ui-corner-all ' +\n",
       "        'ui-helper-clearfix\"/>');\n",
       "    var titletext = $(\n",
       "        '<div class=\"ui-dialog-title\" style=\"width: 100%; ' +\n",
       "        'text-align: center; padding: 3px;\"/>');\n",
       "    titlebar.append(titletext)\n",
       "    this.root.append(titlebar);\n",
       "    this.header = titletext[0];\n",
       "}\n",
       "\n",
       "\n",
       "\n",
       "mpl.figure.prototype._canvas_extra_style = function(canvas_div) {\n",
       "\n",
       "}\n",
       "\n",
       "\n",
       "mpl.figure.prototype._root_extra_style = function(canvas_div) {\n",
       "\n",
       "}\n",
       "\n",
       "mpl.figure.prototype._init_canvas = function() {\n",
       "    var fig = this;\n",
       "\n",
       "    var canvas_div = $('<div/>');\n",
       "\n",
       "    canvas_div.attr('style', 'position: relative; clear: both; outline: 0');\n",
       "\n",
       "    function canvas_keyboard_event(event) {\n",
       "        return fig.key_event(event, event['data']);\n",
       "    }\n",
       "\n",
       "    canvas_div.keydown('key_press', canvas_keyboard_event);\n",
       "    canvas_div.keyup('key_release', canvas_keyboard_event);\n",
       "    this.canvas_div = canvas_div\n",
       "    this._canvas_extra_style(canvas_div)\n",
       "    this.root.append(canvas_div);\n",
       "\n",
       "    var canvas = $('<canvas/>');\n",
       "    canvas.addClass('mpl-canvas');\n",
       "    canvas.attr('style', \"left: 0; top: 0; z-index: 0; outline: 0\")\n",
       "\n",
       "    this.canvas = canvas[0];\n",
       "    this.context = canvas[0].getContext(\"2d\");\n",
       "\n",
       "    var backingStore = this.context.backingStorePixelRatio ||\n",
       "\tthis.context.webkitBackingStorePixelRatio ||\n",
       "\tthis.context.mozBackingStorePixelRatio ||\n",
       "\tthis.context.msBackingStorePixelRatio ||\n",
       "\tthis.context.oBackingStorePixelRatio ||\n",
       "\tthis.context.backingStorePixelRatio || 1;\n",
       "\n",
       "    mpl.ratio = (window.devicePixelRatio || 1) / backingStore;\n",
       "\n",
       "    var rubberband = $('<canvas/>');\n",
       "    rubberband.attr('style', \"position: absolute; left: 0; top: 0; z-index: 1;\")\n",
       "\n",
       "    var pass_mouse_events = true;\n",
       "\n",
       "    canvas_div.resizable({\n",
       "        start: function(event, ui) {\n",
       "            pass_mouse_events = false;\n",
       "        },\n",
       "        resize: function(event, ui) {\n",
       "            fig.request_resize(ui.size.width, ui.size.height);\n",
       "        },\n",
       "        stop: function(event, ui) {\n",
       "            pass_mouse_events = true;\n",
       "            fig.request_resize(ui.size.width, ui.size.height);\n",
       "        },\n",
       "    });\n",
       "\n",
       "    function mouse_event_fn(event) {\n",
       "        if (pass_mouse_events)\n",
       "            return fig.mouse_event(event, event['data']);\n",
       "    }\n",
       "\n",
       "    rubberband.mousedown('button_press', mouse_event_fn);\n",
       "    rubberband.mouseup('button_release', mouse_event_fn);\n",
       "    // Throttle sequential mouse events to 1 every 20ms.\n",
       "    rubberband.mousemove('motion_notify', mouse_event_fn);\n",
       "\n",
       "    rubberband.mouseenter('figure_enter', mouse_event_fn);\n",
       "    rubberband.mouseleave('figure_leave', mouse_event_fn);\n",
       "\n",
       "    canvas_div.on(\"wheel\", function (event) {\n",
       "        event = event.originalEvent;\n",
       "        event['data'] = 'scroll'\n",
       "        if (event.deltaY < 0) {\n",
       "            event.step = 1;\n",
       "        } else {\n",
       "            event.step = -1;\n",
       "        }\n",
       "        mouse_event_fn(event);\n",
       "    });\n",
       "\n",
       "    canvas_div.append(canvas);\n",
       "    canvas_div.append(rubberband);\n",
       "\n",
       "    this.rubberband = rubberband;\n",
       "    this.rubberband_canvas = rubberband[0];\n",
       "    this.rubberband_context = rubberband[0].getContext(\"2d\");\n",
       "    this.rubberband_context.strokeStyle = \"#000000\";\n",
       "\n",
       "    this._resize_canvas = function(width, height) {\n",
       "        // Keep the size of the canvas, canvas container, and rubber band\n",
       "        // canvas in synch.\n",
       "        canvas_div.css('width', width)\n",
       "        canvas_div.css('height', height)\n",
       "\n",
       "        canvas.attr('width', width * mpl.ratio);\n",
       "        canvas.attr('height', height * mpl.ratio);\n",
       "        canvas.attr('style', 'width: ' + width + 'px; height: ' + height + 'px;');\n",
       "\n",
       "        rubberband.attr('width', width);\n",
       "        rubberband.attr('height', height);\n",
       "    }\n",
       "\n",
       "    // Set the figure to an initial 600x600px, this will subsequently be updated\n",
       "    // upon first draw.\n",
       "    this._resize_canvas(600, 600);\n",
       "\n",
       "    // Disable right mouse context menu.\n",
       "    $(this.rubberband_canvas).bind(\"contextmenu\",function(e){\n",
       "        return false;\n",
       "    });\n",
       "\n",
       "    function set_focus () {\n",
       "        canvas.focus();\n",
       "        canvas_div.focus();\n",
       "    }\n",
       "\n",
       "    window.setTimeout(set_focus, 100);\n",
       "}\n",
       "\n",
       "mpl.figure.prototype._init_toolbar = function() {\n",
       "    var fig = this;\n",
       "\n",
       "    var nav_element = $('<div/>');\n",
       "    nav_element.attr('style', 'width: 100%');\n",
       "    this.root.append(nav_element);\n",
       "\n",
       "    // Define a callback function for later on.\n",
       "    function toolbar_event(event) {\n",
       "        return fig.toolbar_button_onclick(event['data']);\n",
       "    }\n",
       "    function toolbar_mouse_event(event) {\n",
       "        return fig.toolbar_button_onmouseover(event['data']);\n",
       "    }\n",
       "\n",
       "    for(var toolbar_ind in mpl.toolbar_items) {\n",
       "        var name = mpl.toolbar_items[toolbar_ind][0];\n",
       "        var tooltip = mpl.toolbar_items[toolbar_ind][1];\n",
       "        var image = mpl.toolbar_items[toolbar_ind][2];\n",
       "        var method_name = mpl.toolbar_items[toolbar_ind][3];\n",
       "\n",
       "        if (!name) {\n",
       "            // put a spacer in here.\n",
       "            continue;\n",
       "        }\n",
       "        var button = $('<button/>');\n",
       "        button.addClass('ui-button ui-widget ui-state-default ui-corner-all ' +\n",
       "                        'ui-button-icon-only');\n",
       "        button.attr('role', 'button');\n",
       "        button.attr('aria-disabled', 'false');\n",
       "        button.click(method_name, toolbar_event);\n",
       "        button.mouseover(tooltip, toolbar_mouse_event);\n",
       "\n",
       "        var icon_img = $('<span/>');\n",
       "        icon_img.addClass('ui-button-icon-primary ui-icon');\n",
       "        icon_img.addClass(image);\n",
       "        icon_img.addClass('ui-corner-all');\n",
       "\n",
       "        var tooltip_span = $('<span/>');\n",
       "        tooltip_span.addClass('ui-button-text');\n",
       "        tooltip_span.html(tooltip);\n",
       "\n",
       "        button.append(icon_img);\n",
       "        button.append(tooltip_span);\n",
       "\n",
       "        nav_element.append(button);\n",
       "    }\n",
       "\n",
       "    var fmt_picker_span = $('<span/>');\n",
       "\n",
       "    var fmt_picker = $('<select/>');\n",
       "    fmt_picker.addClass('mpl-toolbar-option ui-widget ui-widget-content');\n",
       "    fmt_picker_span.append(fmt_picker);\n",
       "    nav_element.append(fmt_picker_span);\n",
       "    this.format_dropdown = fmt_picker[0];\n",
       "\n",
       "    for (var ind in mpl.extensions) {\n",
       "        var fmt = mpl.extensions[ind];\n",
       "        var option = $(\n",
       "            '<option/>', {selected: fmt === mpl.default_extension}).html(fmt);\n",
       "        fmt_picker.append(option);\n",
       "    }\n",
       "\n",
       "    // Add hover states to the ui-buttons\n",
       "    $( \".ui-button\" ).hover(\n",
       "        function() { $(this).addClass(\"ui-state-hover\");},\n",
       "        function() { $(this).removeClass(\"ui-state-hover\");}\n",
       "    );\n",
       "\n",
       "    var status_bar = $('<span class=\"mpl-message\"/>');\n",
       "    nav_element.append(status_bar);\n",
       "    this.message = status_bar[0];\n",
       "}\n",
       "\n",
       "mpl.figure.prototype.request_resize = function(x_pixels, y_pixels) {\n",
       "    // Request matplotlib to resize the figure. Matplotlib will then trigger a resize in the client,\n",
       "    // which will in turn request a refresh of the image.\n",
       "    this.send_message('resize', {'width': x_pixels, 'height': y_pixels});\n",
       "}\n",
       "\n",
       "mpl.figure.prototype.send_message = function(type, properties) {\n",
       "    properties['type'] = type;\n",
       "    properties['figure_id'] = this.id;\n",
       "    this.ws.send(JSON.stringify(properties));\n",
       "}\n",
       "\n",
       "mpl.figure.prototype.send_draw_message = function() {\n",
       "    if (!this.waiting) {\n",
       "        this.waiting = true;\n",
       "        this.ws.send(JSON.stringify({type: \"draw\", figure_id: this.id}));\n",
       "    }\n",
       "}\n",
       "\n",
       "\n",
       "mpl.figure.prototype.handle_save = function(fig, msg) {\n",
       "    var format_dropdown = fig.format_dropdown;\n",
       "    var format = format_dropdown.options[format_dropdown.selectedIndex].value;\n",
       "    fig.ondownload(fig, format);\n",
       "}\n",
       "\n",
       "\n",
       "mpl.figure.prototype.handle_resize = function(fig, msg) {\n",
       "    var size = msg['size'];\n",
       "    if (size[0] != fig.canvas.width || size[1] != fig.canvas.height) {\n",
       "        fig._resize_canvas(size[0], size[1]);\n",
       "        fig.send_message(\"refresh\", {});\n",
       "    };\n",
       "}\n",
       "\n",
       "mpl.figure.prototype.handle_rubberband = function(fig, msg) {\n",
       "    var x0 = msg['x0'] / mpl.ratio;\n",
       "    var y0 = (fig.canvas.height - msg['y0']) / mpl.ratio;\n",
       "    var x1 = msg['x1'] / mpl.ratio;\n",
       "    var y1 = (fig.canvas.height - msg['y1']) / mpl.ratio;\n",
       "    x0 = Math.floor(x0) + 0.5;\n",
       "    y0 = Math.floor(y0) + 0.5;\n",
       "    x1 = Math.floor(x1) + 0.5;\n",
       "    y1 = Math.floor(y1) + 0.5;\n",
       "    var min_x = Math.min(x0, x1);\n",
       "    var min_y = Math.min(y0, y1);\n",
       "    var width = Math.abs(x1 - x0);\n",
       "    var height = Math.abs(y1 - y0);\n",
       "\n",
       "    fig.rubberband_context.clearRect(\n",
       "        0, 0, fig.canvas.width / mpl.ratio, fig.canvas.height / mpl.ratio);\n",
       "\n",
       "    fig.rubberband_context.strokeRect(min_x, min_y, width, height);\n",
       "}\n",
       "\n",
       "mpl.figure.prototype.handle_figure_label = function(fig, msg) {\n",
       "    // Updates the figure title.\n",
       "    fig.header.textContent = msg['label'];\n",
       "}\n",
       "\n",
       "mpl.figure.prototype.handle_cursor = function(fig, msg) {\n",
       "    var cursor = msg['cursor'];\n",
       "    switch(cursor)\n",
       "    {\n",
       "    case 0:\n",
       "        cursor = 'pointer';\n",
       "        break;\n",
       "    case 1:\n",
       "        cursor = 'default';\n",
       "        break;\n",
       "    case 2:\n",
       "        cursor = 'crosshair';\n",
       "        break;\n",
       "    case 3:\n",
       "        cursor = 'move';\n",
       "        break;\n",
       "    }\n",
       "    fig.rubberband_canvas.style.cursor = cursor;\n",
       "}\n",
       "\n",
       "mpl.figure.prototype.handle_message = function(fig, msg) {\n",
       "    fig.message.textContent = msg['message'];\n",
       "}\n",
       "\n",
       "mpl.figure.prototype.handle_draw = function(fig, msg) {\n",
       "    // Request the server to send over a new figure.\n",
       "    fig.send_draw_message();\n",
       "}\n",
       "\n",
       "mpl.figure.prototype.handle_image_mode = function(fig, msg) {\n",
       "    fig.image_mode = msg['mode'];\n",
       "}\n",
       "\n",
       "mpl.figure.prototype.updated_canvas_event = function() {\n",
       "    // Called whenever the canvas gets updated.\n",
       "    this.send_message(\"ack\", {});\n",
       "}\n",
       "\n",
       "// A function to construct a web socket function for onmessage handling.\n",
       "// Called in the figure constructor.\n",
       "mpl.figure.prototype._make_on_message_function = function(fig) {\n",
       "    return function socket_on_message(evt) {\n",
       "        if (evt.data instanceof Blob) {\n",
       "            /* FIXME: We get \"Resource interpreted as Image but\n",
       "             * transferred with MIME type text/plain:\" errors on\n",
       "             * Chrome.  But how to set the MIME type?  It doesn't seem\n",
       "             * to be part of the websocket stream */\n",
       "            evt.data.type = \"image/png\";\n",
       "\n",
       "            /* Free the memory for the previous frames */\n",
       "            if (fig.imageObj.src) {\n",
       "                (window.URL || window.webkitURL).revokeObjectURL(\n",
       "                    fig.imageObj.src);\n",
       "            }\n",
       "\n",
       "            fig.imageObj.src = (window.URL || window.webkitURL).createObjectURL(\n",
       "                evt.data);\n",
       "            fig.updated_canvas_event();\n",
       "            fig.waiting = false;\n",
       "            return;\n",
       "        }\n",
       "        else if (typeof evt.data === 'string' && evt.data.slice(0, 21) == \"data:image/png;base64\") {\n",
       "            fig.imageObj.src = evt.data;\n",
       "            fig.updated_canvas_event();\n",
       "            fig.waiting = false;\n",
       "            return;\n",
       "        }\n",
       "\n",
       "        var msg = JSON.parse(evt.data);\n",
       "        var msg_type = msg['type'];\n",
       "\n",
       "        // Call the  \"handle_{type}\" callback, which takes\n",
       "        // the figure and JSON message as its only arguments.\n",
       "        try {\n",
       "            var callback = fig[\"handle_\" + msg_type];\n",
       "        } catch (e) {\n",
       "            console.log(\"No handler for the '\" + msg_type + \"' message type: \", msg);\n",
       "            return;\n",
       "        }\n",
       "\n",
       "        if (callback) {\n",
       "            try {\n",
       "                // console.log(\"Handling '\" + msg_type + \"' message: \", msg);\n",
       "                callback(fig, msg);\n",
       "            } catch (e) {\n",
       "                console.log(\"Exception inside the 'handler_\" + msg_type + \"' callback:\", e, e.stack, msg);\n",
       "            }\n",
       "        }\n",
       "    };\n",
       "}\n",
       "\n",
       "// from http://stackoverflow.com/questions/1114465/getting-mouse-location-in-canvas\n",
       "mpl.findpos = function(e) {\n",
       "    //this section is from http://www.quirksmode.org/js/events_properties.html\n",
       "    var targ;\n",
       "    if (!e)\n",
       "        e = window.event;\n",
       "    if (e.target)\n",
       "        targ = e.target;\n",
       "    else if (e.srcElement)\n",
       "        targ = e.srcElement;\n",
       "    if (targ.nodeType == 3) // defeat Safari bug\n",
       "        targ = targ.parentNode;\n",
       "\n",
       "    // jQuery normalizes the pageX and pageY\n",
       "    // pageX,Y are the mouse positions relative to the document\n",
       "    // offset() returns the position of the element relative to the document\n",
       "    var x = e.pageX - $(targ).offset().left;\n",
       "    var y = e.pageY - $(targ).offset().top;\n",
       "\n",
       "    return {\"x\": x, \"y\": y};\n",
       "};\n",
       "\n",
       "/*\n",
       " * return a copy of an object with only non-object keys\n",
       " * we need this to avoid circular references\n",
       " * http://stackoverflow.com/a/24161582/3208463\n",
       " */\n",
       "function simpleKeys (original) {\n",
       "  return Object.keys(original).reduce(function (obj, key) {\n",
       "    if (typeof original[key] !== 'object')\n",
       "        obj[key] = original[key]\n",
       "    return obj;\n",
       "  }, {});\n",
       "}\n",
       "\n",
       "mpl.figure.prototype.mouse_event = function(event, name) {\n",
       "    var canvas_pos = mpl.findpos(event)\n",
       "\n",
       "    if (name === 'button_press')\n",
       "    {\n",
       "        this.canvas.focus();\n",
       "        this.canvas_div.focus();\n",
       "    }\n",
       "\n",
       "    var x = canvas_pos.x * mpl.ratio;\n",
       "    var y = canvas_pos.y * mpl.ratio;\n",
       "\n",
       "    this.send_message(name, {x: x, y: y, button: event.button,\n",
       "                             step: event.step,\n",
       "                             guiEvent: simpleKeys(event)});\n",
       "\n",
       "    /* This prevents the web browser from automatically changing to\n",
       "     * the text insertion cursor when the button is pressed.  We want\n",
       "     * to control all of the cursor setting manually through the\n",
       "     * 'cursor' event from matplotlib */\n",
       "    event.preventDefault();\n",
       "    return false;\n",
       "}\n",
       "\n",
       "mpl.figure.prototype._key_event_extra = function(event, name) {\n",
       "    // Handle any extra behaviour associated with a key event\n",
       "}\n",
       "\n",
       "mpl.figure.prototype.key_event = function(event, name) {\n",
       "\n",
       "    // Prevent repeat events\n",
       "    if (name == 'key_press')\n",
       "    {\n",
       "        if (event.which === this._key)\n",
       "            return;\n",
       "        else\n",
       "            this._key = event.which;\n",
       "    }\n",
       "    if (name == 'key_release')\n",
       "        this._key = null;\n",
       "\n",
       "    var value = '';\n",
       "    if (event.ctrlKey && event.which != 17)\n",
       "        value += \"ctrl+\";\n",
       "    if (event.altKey && event.which != 18)\n",
       "        value += \"alt+\";\n",
       "    if (event.shiftKey && event.which != 16)\n",
       "        value += \"shift+\";\n",
       "\n",
       "    value += 'k';\n",
       "    value += event.which.toString();\n",
       "\n",
       "    this._key_event_extra(event, name);\n",
       "\n",
       "    this.send_message(name, {key: value,\n",
       "                             guiEvent: simpleKeys(event)});\n",
       "    return false;\n",
       "}\n",
       "\n",
       "mpl.figure.prototype.toolbar_button_onclick = function(name) {\n",
       "    if (name == 'download') {\n",
       "        this.handle_save(this, null);\n",
       "    } else {\n",
       "        this.send_message(\"toolbar_button\", {name: name});\n",
       "    }\n",
       "};\n",
       "\n",
       "mpl.figure.prototype.toolbar_button_onmouseover = function(tooltip) {\n",
       "    this.message.textContent = tooltip;\n",
       "};\n",
       "mpl.toolbar_items = [[\"Home\", \"Reset original view\", \"fa fa-home icon-home\", \"home\"], [\"Back\", \"Back to previous view\", \"fa fa-arrow-left icon-arrow-left\", \"back\"], [\"Forward\", \"Forward to next view\", \"fa fa-arrow-right icon-arrow-right\", \"forward\"], [\"\", \"\", \"\", \"\"], [\"Pan\", \"Pan axes with left mouse, zoom with right\", \"fa fa-arrows icon-move\", \"pan\"], [\"Zoom\", \"Zoom to rectangle\", \"fa fa-square-o icon-check-empty\", \"zoom\"], [\"\", \"\", \"\", \"\"], [\"Download\", \"Download plot\", \"fa fa-floppy-o icon-save\", \"download\"]];\n",
       "\n",
       "mpl.extensions = [\"eps\", \"jpeg\", \"pdf\", \"png\", \"ps\", \"raw\", \"svg\", \"tif\"];\n",
       "\n",
       "mpl.default_extension = \"png\";var comm_websocket_adapter = function(comm) {\n",
       "    // Create a \"websocket\"-like object which calls the given IPython comm\n",
       "    // object with the appropriate methods. Currently this is a non binary\n",
       "    // socket, so there is still some room for performance tuning.\n",
       "    var ws = {};\n",
       "\n",
       "    ws.close = function() {\n",
       "        comm.close()\n",
       "    };\n",
       "    ws.send = function(m) {\n",
       "        //console.log('sending', m);\n",
       "        comm.send(m);\n",
       "    };\n",
       "    // Register the callback with on_msg.\n",
       "    comm.on_msg(function(msg) {\n",
       "        //console.log('receiving', msg['content']['data'], msg);\n",
       "        // Pass the mpl event to the overridden (by mpl) onmessage function.\n",
       "        ws.onmessage(msg['content']['data'])\n",
       "    });\n",
       "    return ws;\n",
       "}\n",
       "\n",
       "mpl.mpl_figure_comm = function(comm, msg) {\n",
       "    // This is the function which gets called when the mpl process\n",
       "    // starts-up an IPython Comm through the \"matplotlib\" channel.\n",
       "\n",
       "    var id = msg.content.data.id;\n",
       "    // Get hold of the div created by the display call when the Comm\n",
       "    // socket was opened in Python.\n",
       "    var element = $(\"#\" + id);\n",
       "    var ws_proxy = comm_websocket_adapter(comm)\n",
       "\n",
       "    function ondownload(figure, format) {\n",
       "        window.open(figure.imageObj.src);\n",
       "    }\n",
       "\n",
       "    var fig = new mpl.figure(id, ws_proxy,\n",
       "                           ondownload,\n",
       "                           element.get(0));\n",
       "\n",
       "    // Call onopen now - mpl needs it, as it is assuming we've passed it a real\n",
       "    // web socket which is closed, not our websocket->open comm proxy.\n",
       "    ws_proxy.onopen();\n",
       "\n",
       "    fig.parent_element = element.get(0);\n",
       "    fig.cell_info = mpl.find_output_cell(\"<div id='\" + id + \"'></div>\");\n",
       "    if (!fig.cell_info) {\n",
       "        console.error(\"Failed to find cell for figure\", id, fig);\n",
       "        return;\n",
       "    }\n",
       "\n",
       "    var output_index = fig.cell_info[2]\n",
       "    var cell = fig.cell_info[0];\n",
       "\n",
       "};\n",
       "\n",
       "mpl.figure.prototype.handle_close = function(fig, msg) {\n",
       "    var width = fig.canvas.width/mpl.ratio\n",
       "    fig.root.unbind('remove')\n",
       "\n",
       "    // Update the output cell to use the data from the current canvas.\n",
       "    fig.push_to_output();\n",
       "    var dataURL = fig.canvas.toDataURL();\n",
       "    // Re-enable the keyboard manager in IPython - without this line, in FF,\n",
       "    // the notebook keyboard shortcuts fail.\n",
       "    IPython.keyboard_manager.enable()\n",
       "    $(fig.parent_element).html('<img src=\"' + dataURL + '\" width=\"' + width + '\">');\n",
       "    fig.close_ws(fig, msg);\n",
       "}\n",
       "\n",
       "mpl.figure.prototype.close_ws = function(fig, msg){\n",
       "    fig.send_message('closing', msg);\n",
       "    // fig.ws.close()\n",
       "}\n",
       "\n",
       "mpl.figure.prototype.push_to_output = function(remove_interactive) {\n",
       "    // Turn the data on the canvas into data in the output cell.\n",
       "    var width = this.canvas.width/mpl.ratio\n",
       "    var dataURL = this.canvas.toDataURL();\n",
       "    this.cell_info[1]['text/html'] = '<img src=\"' + dataURL + '\" width=\"' + width + '\">';\n",
       "}\n",
       "\n",
       "mpl.figure.prototype.updated_canvas_event = function() {\n",
       "    // Tell IPython that the notebook contents must change.\n",
       "    IPython.notebook.set_dirty(true);\n",
       "    this.send_message(\"ack\", {});\n",
       "    var fig = this;\n",
       "    // Wait a second, then push the new image to the DOM so\n",
       "    // that it is saved nicely (might be nice to debounce this).\n",
       "    setTimeout(function () { fig.push_to_output() }, 1000);\n",
       "}\n",
       "\n",
       "mpl.figure.prototype._init_toolbar = function() {\n",
       "    var fig = this;\n",
       "\n",
       "    var nav_element = $('<div/>');\n",
       "    nav_element.attr('style', 'width: 100%');\n",
       "    this.root.append(nav_element);\n",
       "\n",
       "    // Define a callback function for later on.\n",
       "    function toolbar_event(event) {\n",
       "        return fig.toolbar_button_onclick(event['data']);\n",
       "    }\n",
       "    function toolbar_mouse_event(event) {\n",
       "        return fig.toolbar_button_onmouseover(event['data']);\n",
       "    }\n",
       "\n",
       "    for(var toolbar_ind in mpl.toolbar_items){\n",
       "        var name = mpl.toolbar_items[toolbar_ind][0];\n",
       "        var tooltip = mpl.toolbar_items[toolbar_ind][1];\n",
       "        var image = mpl.toolbar_items[toolbar_ind][2];\n",
       "        var method_name = mpl.toolbar_items[toolbar_ind][3];\n",
       "\n",
       "        if (!name) { continue; };\n",
       "\n",
       "        var button = $('<button class=\"btn btn-default\" href=\"#\" title=\"' + name + '\"><i class=\"fa ' + image + ' fa-lg\"></i></button>');\n",
       "        button.click(method_name, toolbar_event);\n",
       "        button.mouseover(tooltip, toolbar_mouse_event);\n",
       "        nav_element.append(button);\n",
       "    }\n",
       "\n",
       "    // Add the status bar.\n",
       "    var status_bar = $('<span class=\"mpl-message\" style=\"text-align:right; float: right;\"/>');\n",
       "    nav_element.append(status_bar);\n",
       "    this.message = status_bar[0];\n",
       "\n",
       "    // Add the close button to the window.\n",
       "    var buttongrp = $('<div class=\"btn-group inline pull-right\"></div>');\n",
       "    var button = $('<button class=\"btn btn-mini btn-primary\" href=\"#\" title=\"Stop Interaction\"><i class=\"fa fa-power-off icon-remove icon-large\"></i></button>');\n",
       "    button.click(function (evt) { fig.handle_close(fig, {}); } );\n",
       "    button.mouseover('Stop Interaction', toolbar_mouse_event);\n",
       "    buttongrp.append(button);\n",
       "    var titlebar = this.root.find($('.ui-dialog-titlebar'));\n",
       "    titlebar.prepend(buttongrp);\n",
       "}\n",
       "\n",
       "mpl.figure.prototype._root_extra_style = function(el){\n",
       "    var fig = this\n",
       "    el.on(\"remove\", function(){\n",
       "\tfig.close_ws(fig, {});\n",
       "    });\n",
       "}\n",
       "\n",
       "mpl.figure.prototype._canvas_extra_style = function(el){\n",
       "    // this is important to make the div 'focusable\n",
       "    el.attr('tabindex', 0)\n",
       "    // reach out to IPython and tell the keyboard manager to turn it's self\n",
       "    // off when our div gets focus\n",
       "\n",
       "    // location in version 3\n",
       "    if (IPython.notebook.keyboard_manager) {\n",
       "        IPython.notebook.keyboard_manager.register_events(el);\n",
       "    }\n",
       "    else {\n",
       "        // location in version 2\n",
       "        IPython.keyboard_manager.register_events(el);\n",
       "    }\n",
       "\n",
       "}\n",
       "\n",
       "mpl.figure.prototype._key_event_extra = function(event, name) {\n",
       "    var manager = IPython.notebook.keyboard_manager;\n",
       "    if (!manager)\n",
       "        manager = IPython.keyboard_manager;\n",
       "\n",
       "    // Check for shift+enter\n",
       "    if (event.shiftKey && event.which == 13) {\n",
       "        this.canvas_div.blur();\n",
       "        // select the cell after this one\n",
       "        var index = IPython.notebook.find_cell_index(this.cell_info[0]);\n",
       "        IPython.notebook.select(index + 1);\n",
       "    }\n",
       "}\n",
       "\n",
       "mpl.figure.prototype.handle_save = function(fig, msg) {\n",
       "    fig.ondownload(fig, null);\n",
       "}\n",
       "\n",
       "\n",
       "mpl.find_output_cell = function(html_output) {\n",
       "    // Return the cell and output element which can be found *uniquely* in the notebook.\n",
       "    // Note - this is a bit hacky, but it is done because the \"notebook_saving.Notebook\"\n",
       "    // IPython event is triggered only after the cells have been serialised, which for\n",
       "    // our purposes (turning an active figure into a static one), is too late.\n",
       "    var cells = IPython.notebook.get_cells();\n",
       "    var ncells = cells.length;\n",
       "    for (var i=0; i<ncells; i++) {\n",
       "        var cell = cells[i];\n",
       "        if (cell.cell_type === 'code'){\n",
       "            for (var j=0; j<cell.output_area.outputs.length; j++) {\n",
       "                var data = cell.output_area.outputs[j];\n",
       "                if (data.data) {\n",
       "                    // IPython >= 3 moved mimebundle to data attribute of output\n",
       "                    data = data.data;\n",
       "                }\n",
       "                if (data['text/html'] == html_output) {\n",
       "                    return [cell, data, j];\n",
       "                }\n",
       "            }\n",
       "        }\n",
       "    }\n",
       "}\n",
       "\n",
       "// Register the function which deals with the matplotlib target/channel.\n",
       "// The kernel may be null if the page has been refreshed.\n",
       "if (IPython.notebook.kernel != null) {\n",
       "    IPython.notebook.kernel.comm_manager.register_target('matplotlib', mpl.mpl_figure_comm);\n",
       "}\n"
      ],
      "text/plain": [
       "<IPython.core.display.Javascript object>"
      ]
     },
     "metadata": {},
     "output_type": "display_data"
    },
    {
     "data": {
      "text/html": [
       "<img src=\"data:image/png;base64,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\" width=\"640\">"
      ],
      "text/plain": [
       "<IPython.core.display.HTML object>"
      ]
     },
     "metadata": {},
     "output_type": "display_data"
    },
    {
     "name": "stdout",
     "output_type": "stream",
     "text": [
      "Random forest classifier confusion matrix\n"
     ]
    },
    {
     "data": {
      "application/javascript": [
       "/* Put everything inside the global mpl namespace */\n",
       "window.mpl = {};\n",
       "\n",
       "\n",
       "mpl.get_websocket_type = function() {\n",
       "    if (typeof(WebSocket) !== 'undefined') {\n",
       "        return WebSocket;\n",
       "    } else if (typeof(MozWebSocket) !== 'undefined') {\n",
       "        return MozWebSocket;\n",
       "    } else {\n",
       "        alert('Your browser does not have WebSocket support. ' +\n",
       "              'Please try Chrome, Safari or Firefox ≥ 6. ' +\n",
       "              'Firefox 4 and 5 are also supported but you ' +\n",
       "              'have to enable WebSockets in about:config.');\n",
       "    };\n",
       "}\n",
       "\n",
       "mpl.figure = function(figure_id, websocket, ondownload, parent_element) {\n",
       "    this.id = figure_id;\n",
       "\n",
       "    this.ws = websocket;\n",
       "\n",
       "    this.supports_binary = (this.ws.binaryType != undefined);\n",
       "\n",
       "    if (!this.supports_binary) {\n",
       "        var warnings = document.getElementById(\"mpl-warnings\");\n",
       "        if (warnings) {\n",
       "            warnings.style.display = 'block';\n",
       "            warnings.textContent = (\n",
       "                \"This browser does not support binary websocket messages. \" +\n",
       "                    \"Performance may be slow.\");\n",
       "        }\n",
       "    }\n",
       "\n",
       "    this.imageObj = new Image();\n",
       "\n",
       "    this.context = undefined;\n",
       "    this.message = undefined;\n",
       "    this.canvas = undefined;\n",
       "    this.rubberband_canvas = undefined;\n",
       "    this.rubberband_context = undefined;\n",
       "    this.format_dropdown = undefined;\n",
       "\n",
       "    this.image_mode = 'full';\n",
       "\n",
       "    this.root = $('<div/>');\n",
       "    this._root_extra_style(this.root)\n",
       "    this.root.attr('style', 'display: inline-block');\n",
       "\n",
       "    $(parent_element).append(this.root);\n",
       "\n",
       "    this._init_header(this);\n",
       "    this._init_canvas(this);\n",
       "    this._init_toolbar(this);\n",
       "\n",
       "    var fig = this;\n",
       "\n",
       "    this.waiting = false;\n",
       "\n",
       "    this.ws.onopen =  function () {\n",
       "            fig.send_message(\"supports_binary\", {value: fig.supports_binary});\n",
       "            fig.send_message(\"send_image_mode\", {});\n",
       "            if (mpl.ratio != 1) {\n",
       "                fig.send_message(\"set_dpi_ratio\", {'dpi_ratio': mpl.ratio});\n",
       "            }\n",
       "            fig.send_message(\"refresh\", {});\n",
       "        }\n",
       "\n",
       "    this.imageObj.onload = function() {\n",
       "            if (fig.image_mode == 'full') {\n",
       "                // Full images could contain transparency (where diff images\n",
       "                // almost always do), so we need to clear the canvas so that\n",
       "                // there is no ghosting.\n",
       "                fig.context.clearRect(0, 0, fig.canvas.width, fig.canvas.height);\n",
       "            }\n",
       "            fig.context.drawImage(fig.imageObj, 0, 0);\n",
       "        };\n",
       "\n",
       "    this.imageObj.onunload = function() {\n",
       "        fig.ws.close();\n",
       "    }\n",
       "\n",
       "    this.ws.onmessage = this._make_on_message_function(this);\n",
       "\n",
       "    this.ondownload = ondownload;\n",
       "}\n",
       "\n",
       "mpl.figure.prototype._init_header = function() {\n",
       "    var titlebar = $(\n",
       "        '<div class=\"ui-dialog-titlebar ui-widget-header ui-corner-all ' +\n",
       "        'ui-helper-clearfix\"/>');\n",
       "    var titletext = $(\n",
       "        '<div class=\"ui-dialog-title\" style=\"width: 100%; ' +\n",
       "        'text-align: center; padding: 3px;\"/>');\n",
       "    titlebar.append(titletext)\n",
       "    this.root.append(titlebar);\n",
       "    this.header = titletext[0];\n",
       "}\n",
       "\n",
       "\n",
       "\n",
       "mpl.figure.prototype._canvas_extra_style = function(canvas_div) {\n",
       "\n",
       "}\n",
       "\n",
       "\n",
       "mpl.figure.prototype._root_extra_style = function(canvas_div) {\n",
       "\n",
       "}\n",
       "\n",
       "mpl.figure.prototype._init_canvas = function() {\n",
       "    var fig = this;\n",
       "\n",
       "    var canvas_div = $('<div/>');\n",
       "\n",
       "    canvas_div.attr('style', 'position: relative; clear: both; outline: 0');\n",
       "\n",
       "    function canvas_keyboard_event(event) {\n",
       "        return fig.key_event(event, event['data']);\n",
       "    }\n",
       "\n",
       "    canvas_div.keydown('key_press', canvas_keyboard_event);\n",
       "    canvas_div.keyup('key_release', canvas_keyboard_event);\n",
       "    this.canvas_div = canvas_div\n",
       "    this._canvas_extra_style(canvas_div)\n",
       "    this.root.append(canvas_div);\n",
       "\n",
       "    var canvas = $('<canvas/>');\n",
       "    canvas.addClass('mpl-canvas');\n",
       "    canvas.attr('style', \"left: 0; top: 0; z-index: 0; outline: 0\")\n",
       "\n",
       "    this.canvas = canvas[0];\n",
       "    this.context = canvas[0].getContext(\"2d\");\n",
       "\n",
       "    var backingStore = this.context.backingStorePixelRatio ||\n",
       "\tthis.context.webkitBackingStorePixelRatio ||\n",
       "\tthis.context.mozBackingStorePixelRatio ||\n",
       "\tthis.context.msBackingStorePixelRatio ||\n",
       "\tthis.context.oBackingStorePixelRatio ||\n",
       "\tthis.context.backingStorePixelRatio || 1;\n",
       "\n",
       "    mpl.ratio = (window.devicePixelRatio || 1) / backingStore;\n",
       "\n",
       "    var rubberband = $('<canvas/>');\n",
       "    rubberband.attr('style', \"position: absolute; left: 0; top: 0; z-index: 1;\")\n",
       "\n",
       "    var pass_mouse_events = true;\n",
       "\n",
       "    canvas_div.resizable({\n",
       "        start: function(event, ui) {\n",
       "            pass_mouse_events = false;\n",
       "        },\n",
       "        resize: function(event, ui) {\n",
       "            fig.request_resize(ui.size.width, ui.size.height);\n",
       "        },\n",
       "        stop: function(event, ui) {\n",
       "            pass_mouse_events = true;\n",
       "            fig.request_resize(ui.size.width, ui.size.height);\n",
       "        },\n",
       "    });\n",
       "\n",
       "    function mouse_event_fn(event) {\n",
       "        if (pass_mouse_events)\n",
       "            return fig.mouse_event(event, event['data']);\n",
       "    }\n",
       "\n",
       "    rubberband.mousedown('button_press', mouse_event_fn);\n",
       "    rubberband.mouseup('button_release', mouse_event_fn);\n",
       "    // Throttle sequential mouse events to 1 every 20ms.\n",
       "    rubberband.mousemove('motion_notify', mouse_event_fn);\n",
       "\n",
       "    rubberband.mouseenter('figure_enter', mouse_event_fn);\n",
       "    rubberband.mouseleave('figure_leave', mouse_event_fn);\n",
       "\n",
       "    canvas_div.on(\"wheel\", function (event) {\n",
       "        event = event.originalEvent;\n",
       "        event['data'] = 'scroll'\n",
       "        if (event.deltaY < 0) {\n",
       "            event.step = 1;\n",
       "        } else {\n",
       "            event.step = -1;\n",
       "        }\n",
       "        mouse_event_fn(event);\n",
       "    });\n",
       "\n",
       "    canvas_div.append(canvas);\n",
       "    canvas_div.append(rubberband);\n",
       "\n",
       "    this.rubberband = rubberband;\n",
       "    this.rubberband_canvas = rubberband[0];\n",
       "    this.rubberband_context = rubberband[0].getContext(\"2d\");\n",
       "    this.rubberband_context.strokeStyle = \"#000000\";\n",
       "\n",
       "    this._resize_canvas = function(width, height) {\n",
       "        // Keep the size of the canvas, canvas container, and rubber band\n",
       "        // canvas in synch.\n",
       "        canvas_div.css('width', width)\n",
       "        canvas_div.css('height', height)\n",
       "\n",
       "        canvas.attr('width', width * mpl.ratio);\n",
       "        canvas.attr('height', height * mpl.ratio);\n",
       "        canvas.attr('style', 'width: ' + width + 'px; height: ' + height + 'px;');\n",
       "\n",
       "        rubberband.attr('width', width);\n",
       "        rubberband.attr('height', height);\n",
       "    }\n",
       "\n",
       "    // Set the figure to an initial 600x600px, this will subsequently be updated\n",
       "    // upon first draw.\n",
       "    this._resize_canvas(600, 600);\n",
       "\n",
       "    // Disable right mouse context menu.\n",
       "    $(this.rubberband_canvas).bind(\"contextmenu\",function(e){\n",
       "        return false;\n",
       "    });\n",
       "\n",
       "    function set_focus () {\n",
       "        canvas.focus();\n",
       "        canvas_div.focus();\n",
       "    }\n",
       "\n",
       "    window.setTimeout(set_focus, 100);\n",
       "}\n",
       "\n",
       "mpl.figure.prototype._init_toolbar = function() {\n",
       "    var fig = this;\n",
       "\n",
       "    var nav_element = $('<div/>');\n",
       "    nav_element.attr('style', 'width: 100%');\n",
       "    this.root.append(nav_element);\n",
       "\n",
       "    // Define a callback function for later on.\n",
       "    function toolbar_event(event) {\n",
       "        return fig.toolbar_button_onclick(event['data']);\n",
       "    }\n",
       "    function toolbar_mouse_event(event) {\n",
       "        return fig.toolbar_button_onmouseover(event['data']);\n",
       "    }\n",
       "\n",
       "    for(var toolbar_ind in mpl.toolbar_items) {\n",
       "        var name = mpl.toolbar_items[toolbar_ind][0];\n",
       "        var tooltip = mpl.toolbar_items[toolbar_ind][1];\n",
       "        var image = mpl.toolbar_items[toolbar_ind][2];\n",
       "        var method_name = mpl.toolbar_items[toolbar_ind][3];\n",
       "\n",
       "        if (!name) {\n",
       "            // put a spacer in here.\n",
       "            continue;\n",
       "        }\n",
       "        var button = $('<button/>');\n",
       "        button.addClass('ui-button ui-widget ui-state-default ui-corner-all ' +\n",
       "                        'ui-button-icon-only');\n",
       "        button.attr('role', 'button');\n",
       "        button.attr('aria-disabled', 'false');\n",
       "        button.click(method_name, toolbar_event);\n",
       "        button.mouseover(tooltip, toolbar_mouse_event);\n",
       "\n",
       "        var icon_img = $('<span/>');\n",
       "        icon_img.addClass('ui-button-icon-primary ui-icon');\n",
       "        icon_img.addClass(image);\n",
       "        icon_img.addClass('ui-corner-all');\n",
       "\n",
       "        var tooltip_span = $('<span/>');\n",
       "        tooltip_span.addClass('ui-button-text');\n",
       "        tooltip_span.html(tooltip);\n",
       "\n",
       "        button.append(icon_img);\n",
       "        button.append(tooltip_span);\n",
       "\n",
       "        nav_element.append(button);\n",
       "    }\n",
       "\n",
       "    var fmt_picker_span = $('<span/>');\n",
       "\n",
       "    var fmt_picker = $('<select/>');\n",
       "    fmt_picker.addClass('mpl-toolbar-option ui-widget ui-widget-content');\n",
       "    fmt_picker_span.append(fmt_picker);\n",
       "    nav_element.append(fmt_picker_span);\n",
       "    this.format_dropdown = fmt_picker[0];\n",
       "\n",
       "    for (var ind in mpl.extensions) {\n",
       "        var fmt = mpl.extensions[ind];\n",
       "        var option = $(\n",
       "            '<option/>', {selected: fmt === mpl.default_extension}).html(fmt);\n",
       "        fmt_picker.append(option);\n",
       "    }\n",
       "\n",
       "    // Add hover states to the ui-buttons\n",
       "    $( \".ui-button\" ).hover(\n",
       "        function() { $(this).addClass(\"ui-state-hover\");},\n",
       "        function() { $(this).removeClass(\"ui-state-hover\");}\n",
       "    );\n",
       "\n",
       "    var status_bar = $('<span class=\"mpl-message\"/>');\n",
       "    nav_element.append(status_bar);\n",
       "    this.message = status_bar[0];\n",
       "}\n",
       "\n",
       "mpl.figure.prototype.request_resize = function(x_pixels, y_pixels) {\n",
       "    // Request matplotlib to resize the figure. Matplotlib will then trigger a resize in the client,\n",
       "    // which will in turn request a refresh of the image.\n",
       "    this.send_message('resize', {'width': x_pixels, 'height': y_pixels});\n",
       "}\n",
       "\n",
       "mpl.figure.prototype.send_message = function(type, properties) {\n",
       "    properties['type'] = type;\n",
       "    properties['figure_id'] = this.id;\n",
       "    this.ws.send(JSON.stringify(properties));\n",
       "}\n",
       "\n",
       "mpl.figure.prototype.send_draw_message = function() {\n",
       "    if (!this.waiting) {\n",
       "        this.waiting = true;\n",
       "        this.ws.send(JSON.stringify({type: \"draw\", figure_id: this.id}));\n",
       "    }\n",
       "}\n",
       "\n",
       "\n",
       "mpl.figure.prototype.handle_save = function(fig, msg) {\n",
       "    var format_dropdown = fig.format_dropdown;\n",
       "    var format = format_dropdown.options[format_dropdown.selectedIndex].value;\n",
       "    fig.ondownload(fig, format);\n",
       "}\n",
       "\n",
       "\n",
       "mpl.figure.prototype.handle_resize = function(fig, msg) {\n",
       "    var size = msg['size'];\n",
       "    if (size[0] != fig.canvas.width || size[1] != fig.canvas.height) {\n",
       "        fig._resize_canvas(size[0], size[1]);\n",
       "        fig.send_message(\"refresh\", {});\n",
       "    };\n",
       "}\n",
       "\n",
       "mpl.figure.prototype.handle_rubberband = function(fig, msg) {\n",
       "    var x0 = msg['x0'] / mpl.ratio;\n",
       "    var y0 = (fig.canvas.height - msg['y0']) / mpl.ratio;\n",
       "    var x1 = msg['x1'] / mpl.ratio;\n",
       "    var y1 = (fig.canvas.height - msg['y1']) / mpl.ratio;\n",
       "    x0 = Math.floor(x0) + 0.5;\n",
       "    y0 = Math.floor(y0) + 0.5;\n",
       "    x1 = Math.floor(x1) + 0.5;\n",
       "    y1 = Math.floor(y1) + 0.5;\n",
       "    var min_x = Math.min(x0, x1);\n",
       "    var min_y = Math.min(y0, y1);\n",
       "    var width = Math.abs(x1 - x0);\n",
       "    var height = Math.abs(y1 - y0);\n",
       "\n",
       "    fig.rubberband_context.clearRect(\n",
       "        0, 0, fig.canvas.width / mpl.ratio, fig.canvas.height / mpl.ratio);\n",
       "\n",
       "    fig.rubberband_context.strokeRect(min_x, min_y, width, height);\n",
       "}\n",
       "\n",
       "mpl.figure.prototype.handle_figure_label = function(fig, msg) {\n",
       "    // Updates the figure title.\n",
       "    fig.header.textContent = msg['label'];\n",
       "}\n",
       "\n",
       "mpl.figure.prototype.handle_cursor = function(fig, msg) {\n",
       "    var cursor = msg['cursor'];\n",
       "    switch(cursor)\n",
       "    {\n",
       "    case 0:\n",
       "        cursor = 'pointer';\n",
       "        break;\n",
       "    case 1:\n",
       "        cursor = 'default';\n",
       "        break;\n",
       "    case 2:\n",
       "        cursor = 'crosshair';\n",
       "        break;\n",
       "    case 3:\n",
       "        cursor = 'move';\n",
       "        break;\n",
       "    }\n",
       "    fig.rubberband_canvas.style.cursor = cursor;\n",
       "}\n",
       "\n",
       "mpl.figure.prototype.handle_message = function(fig, msg) {\n",
       "    fig.message.textContent = msg['message'];\n",
       "}\n",
       "\n",
       "mpl.figure.prototype.handle_draw = function(fig, msg) {\n",
       "    // Request the server to send over a new figure.\n",
       "    fig.send_draw_message();\n",
       "}\n",
       "\n",
       "mpl.figure.prototype.handle_image_mode = function(fig, msg) {\n",
       "    fig.image_mode = msg['mode'];\n",
       "}\n",
       "\n",
       "mpl.figure.prototype.updated_canvas_event = function() {\n",
       "    // Called whenever the canvas gets updated.\n",
       "    this.send_message(\"ack\", {});\n",
       "}\n",
       "\n",
       "// A function to construct a web socket function for onmessage handling.\n",
       "// Called in the figure constructor.\n",
       "mpl.figure.prototype._make_on_message_function = function(fig) {\n",
       "    return function socket_on_message(evt) {\n",
       "        if (evt.data instanceof Blob) {\n",
       "            /* FIXME: We get \"Resource interpreted as Image but\n",
       "             * transferred with MIME type text/plain:\" errors on\n",
       "             * Chrome.  But how to set the MIME type?  It doesn't seem\n",
       "             * to be part of the websocket stream */\n",
       "            evt.data.type = \"image/png\";\n",
       "\n",
       "            /* Free the memory for the previous frames */\n",
       "            if (fig.imageObj.src) {\n",
       "                (window.URL || window.webkitURL).revokeObjectURL(\n",
       "                    fig.imageObj.src);\n",
       "            }\n",
       "\n",
       "            fig.imageObj.src = (window.URL || window.webkitURL).createObjectURL(\n",
       "                evt.data);\n",
       "            fig.updated_canvas_event();\n",
       "            fig.waiting = false;\n",
       "            return;\n",
       "        }\n",
       "        else if (typeof evt.data === 'string' && evt.data.slice(0, 21) == \"data:image/png;base64\") {\n",
       "            fig.imageObj.src = evt.data;\n",
       "            fig.updated_canvas_event();\n",
       "            fig.waiting = false;\n",
       "            return;\n",
       "        }\n",
       "\n",
       "        var msg = JSON.parse(evt.data);\n",
       "        var msg_type = msg['type'];\n",
       "\n",
       "        // Call the  \"handle_{type}\" callback, which takes\n",
       "        // the figure and JSON message as its only arguments.\n",
       "        try {\n",
       "            var callback = fig[\"handle_\" + msg_type];\n",
       "        } catch (e) {\n",
       "            console.log(\"No handler for the '\" + msg_type + \"' message type: \", msg);\n",
       "            return;\n",
       "        }\n",
       "\n",
       "        if (callback) {\n",
       "            try {\n",
       "                // console.log(\"Handling '\" + msg_type + \"' message: \", msg);\n",
       "                callback(fig, msg);\n",
       "            } catch (e) {\n",
       "                console.log(\"Exception inside the 'handler_\" + msg_type + \"' callback:\", e, e.stack, msg);\n",
       "            }\n",
       "        }\n",
       "    };\n",
       "}\n",
       "\n",
       "// from http://stackoverflow.com/questions/1114465/getting-mouse-location-in-canvas\n",
       "mpl.findpos = function(e) {\n",
       "    //this section is from http://www.quirksmode.org/js/events_properties.html\n",
       "    var targ;\n",
       "    if (!e)\n",
       "        e = window.event;\n",
       "    if (e.target)\n",
       "        targ = e.target;\n",
       "    else if (e.srcElement)\n",
       "        targ = e.srcElement;\n",
       "    if (targ.nodeType == 3) // defeat Safari bug\n",
       "        targ = targ.parentNode;\n",
       "\n",
       "    // jQuery normalizes the pageX and pageY\n",
       "    // pageX,Y are the mouse positions relative to the document\n",
       "    // offset() returns the position of the element relative to the document\n",
       "    var x = e.pageX - $(targ).offset().left;\n",
       "    var y = e.pageY - $(targ).offset().top;\n",
       "\n",
       "    return {\"x\": x, \"y\": y};\n",
       "};\n",
       "\n",
       "/*\n",
       " * return a copy of an object with only non-object keys\n",
       " * we need this to avoid circular references\n",
       " * http://stackoverflow.com/a/24161582/3208463\n",
       " */\n",
       "function simpleKeys (original) {\n",
       "  return Object.keys(original).reduce(function (obj, key) {\n",
       "    if (typeof original[key] !== 'object')\n",
       "        obj[key] = original[key]\n",
       "    return obj;\n",
       "  }, {});\n",
       "}\n",
       "\n",
       "mpl.figure.prototype.mouse_event = function(event, name) {\n",
       "    var canvas_pos = mpl.findpos(event)\n",
       "\n",
       "    if (name === 'button_press')\n",
       "    {\n",
       "        this.canvas.focus();\n",
       "        this.canvas_div.focus();\n",
       "    }\n",
       "\n",
       "    var x = canvas_pos.x * mpl.ratio;\n",
       "    var y = canvas_pos.y * mpl.ratio;\n",
       "\n",
       "    this.send_message(name, {x: x, y: y, button: event.button,\n",
       "                             step: event.step,\n",
       "                             guiEvent: simpleKeys(event)});\n",
       "\n",
       "    /* This prevents the web browser from automatically changing to\n",
       "     * the text insertion cursor when the button is pressed.  We want\n",
       "     * to control all of the cursor setting manually through the\n",
       "     * 'cursor' event from matplotlib */\n",
       "    event.preventDefault();\n",
       "    return false;\n",
       "}\n",
       "\n",
       "mpl.figure.prototype._key_event_extra = function(event, name) {\n",
       "    // Handle any extra behaviour associated with a key event\n",
       "}\n",
       "\n",
       "mpl.figure.prototype.key_event = function(event, name) {\n",
       "\n",
       "    // Prevent repeat events\n",
       "    if (name == 'key_press')\n",
       "    {\n",
       "        if (event.which === this._key)\n",
       "            return;\n",
       "        else\n",
       "            this._key = event.which;\n",
       "    }\n",
       "    if (name == 'key_release')\n",
       "        this._key = null;\n",
       "\n",
       "    var value = '';\n",
       "    if (event.ctrlKey && event.which != 17)\n",
       "        value += \"ctrl+\";\n",
       "    if (event.altKey && event.which != 18)\n",
       "        value += \"alt+\";\n",
       "    if (event.shiftKey && event.which != 16)\n",
       "        value += \"shift+\";\n",
       "\n",
       "    value += 'k';\n",
       "    value += event.which.toString();\n",
       "\n",
       "    this._key_event_extra(event, name);\n",
       "\n",
       "    this.send_message(name, {key: value,\n",
       "                             guiEvent: simpleKeys(event)});\n",
       "    return false;\n",
       "}\n",
       "\n",
       "mpl.figure.prototype.toolbar_button_onclick = function(name) {\n",
       "    if (name == 'download') {\n",
       "        this.handle_save(this, null);\n",
       "    } else {\n",
       "        this.send_message(\"toolbar_button\", {name: name});\n",
       "    }\n",
       "};\n",
       "\n",
       "mpl.figure.prototype.toolbar_button_onmouseover = function(tooltip) {\n",
       "    this.message.textContent = tooltip;\n",
       "};\n",
       "mpl.toolbar_items = [[\"Home\", \"Reset original view\", \"fa fa-home icon-home\", \"home\"], [\"Back\", \"Back to previous view\", \"fa fa-arrow-left icon-arrow-left\", \"back\"], [\"Forward\", \"Forward to next view\", \"fa fa-arrow-right icon-arrow-right\", \"forward\"], [\"\", \"\", \"\", \"\"], [\"Pan\", \"Pan axes with left mouse, zoom with right\", \"fa fa-arrows icon-move\", \"pan\"], [\"Zoom\", \"Zoom to rectangle\", \"fa fa-square-o icon-check-empty\", \"zoom\"], [\"\", \"\", \"\", \"\"], [\"Download\", \"Download plot\", \"fa fa-floppy-o icon-save\", \"download\"]];\n",
       "\n",
       "mpl.extensions = [\"eps\", \"jpeg\", \"pdf\", \"png\", \"ps\", \"raw\", \"svg\", \"tif\"];\n",
       "\n",
       "mpl.default_extension = \"png\";var comm_websocket_adapter = function(comm) {\n",
       "    // Create a \"websocket\"-like object which calls the given IPython comm\n",
       "    // object with the appropriate methods. Currently this is a non binary\n",
       "    // socket, so there is still some room for performance tuning.\n",
       "    var ws = {};\n",
       "\n",
       "    ws.close = function() {\n",
       "        comm.close()\n",
       "    };\n",
       "    ws.send = function(m) {\n",
       "        //console.log('sending', m);\n",
       "        comm.send(m);\n",
       "    };\n",
       "    // Register the callback with on_msg.\n",
       "    comm.on_msg(function(msg) {\n",
       "        //console.log('receiving', msg['content']['data'], msg);\n",
       "        // Pass the mpl event to the overridden (by mpl) onmessage function.\n",
       "        ws.onmessage(msg['content']['data'])\n",
       "    });\n",
       "    return ws;\n",
       "}\n",
       "\n",
       "mpl.mpl_figure_comm = function(comm, msg) {\n",
       "    // This is the function which gets called when the mpl process\n",
       "    // starts-up an IPython Comm through the \"matplotlib\" channel.\n",
       "\n",
       "    var id = msg.content.data.id;\n",
       "    // Get hold of the div created by the display call when the Comm\n",
       "    // socket was opened in Python.\n",
       "    var element = $(\"#\" + id);\n",
       "    var ws_proxy = comm_websocket_adapter(comm)\n",
       "\n",
       "    function ondownload(figure, format) {\n",
       "        window.open(figure.imageObj.src);\n",
       "    }\n",
       "\n",
       "    var fig = new mpl.figure(id, ws_proxy,\n",
       "                           ondownload,\n",
       "                           element.get(0));\n",
       "\n",
       "    // Call onopen now - mpl needs it, as it is assuming we've passed it a real\n",
       "    // web socket which is closed, not our websocket->open comm proxy.\n",
       "    ws_proxy.onopen();\n",
       "\n",
       "    fig.parent_element = element.get(0);\n",
       "    fig.cell_info = mpl.find_output_cell(\"<div id='\" + id + \"'></div>\");\n",
       "    if (!fig.cell_info) {\n",
       "        console.error(\"Failed to find cell for figure\", id, fig);\n",
       "        return;\n",
       "    }\n",
       "\n",
       "    var output_index = fig.cell_info[2]\n",
       "    var cell = fig.cell_info[0];\n",
       "\n",
       "};\n",
       "\n",
       "mpl.figure.prototype.handle_close = function(fig, msg) {\n",
       "    var width = fig.canvas.width/mpl.ratio\n",
       "    fig.root.unbind('remove')\n",
       "\n",
       "    // Update the output cell to use the data from the current canvas.\n",
       "    fig.push_to_output();\n",
       "    var dataURL = fig.canvas.toDataURL();\n",
       "    // Re-enable the keyboard manager in IPython - without this line, in FF,\n",
       "    // the notebook keyboard shortcuts fail.\n",
       "    IPython.keyboard_manager.enable()\n",
       "    $(fig.parent_element).html('<img src=\"' + dataURL + '\" width=\"' + width + '\">');\n",
       "    fig.close_ws(fig, msg);\n",
       "}\n",
       "\n",
       "mpl.figure.prototype.close_ws = function(fig, msg){\n",
       "    fig.send_message('closing', msg);\n",
       "    // fig.ws.close()\n",
       "}\n",
       "\n",
       "mpl.figure.prototype.push_to_output = function(remove_interactive) {\n",
       "    // Turn the data on the canvas into data in the output cell.\n",
       "    var width = this.canvas.width/mpl.ratio\n",
       "    var dataURL = this.canvas.toDataURL();\n",
       "    this.cell_info[1]['text/html'] = '<img src=\"' + dataURL + '\" width=\"' + width + '\">';\n",
       "}\n",
       "\n",
       "mpl.figure.prototype.updated_canvas_event = function() {\n",
       "    // Tell IPython that the notebook contents must change.\n",
       "    IPython.notebook.set_dirty(true);\n",
       "    this.send_message(\"ack\", {});\n",
       "    var fig = this;\n",
       "    // Wait a second, then push the new image to the DOM so\n",
       "    // that it is saved nicely (might be nice to debounce this).\n",
       "    setTimeout(function () { fig.push_to_output() }, 1000);\n",
       "}\n",
       "\n",
       "mpl.figure.prototype._init_toolbar = function() {\n",
       "    var fig = this;\n",
       "\n",
       "    var nav_element = $('<div/>');\n",
       "    nav_element.attr('style', 'width: 100%');\n",
       "    this.root.append(nav_element);\n",
       "\n",
       "    // Define a callback function for later on.\n",
       "    function toolbar_event(event) {\n",
       "        return fig.toolbar_button_onclick(event['data']);\n",
       "    }\n",
       "    function toolbar_mouse_event(event) {\n",
       "        return fig.toolbar_button_onmouseover(event['data']);\n",
       "    }\n",
       "\n",
       "    for(var toolbar_ind in mpl.toolbar_items){\n",
       "        var name = mpl.toolbar_items[toolbar_ind][0];\n",
       "        var tooltip = mpl.toolbar_items[toolbar_ind][1];\n",
       "        var image = mpl.toolbar_items[toolbar_ind][2];\n",
       "        var method_name = mpl.toolbar_items[toolbar_ind][3];\n",
       "\n",
       "        if (!name) { continue; };\n",
       "\n",
       "        var button = $('<button class=\"btn btn-default\" href=\"#\" title=\"' + name + '\"><i class=\"fa ' + image + ' fa-lg\"></i></button>');\n",
       "        button.click(method_name, toolbar_event);\n",
       "        button.mouseover(tooltip, toolbar_mouse_event);\n",
       "        nav_element.append(button);\n",
       "    }\n",
       "\n",
       "    // Add the status bar.\n",
       "    var status_bar = $('<span class=\"mpl-message\" style=\"text-align:right; float: right;\"/>');\n",
       "    nav_element.append(status_bar);\n",
       "    this.message = status_bar[0];\n",
       "\n",
       "    // Add the close button to the window.\n",
       "    var buttongrp = $('<div class=\"btn-group inline pull-right\"></div>');\n",
       "    var button = $('<button class=\"btn btn-mini btn-primary\" href=\"#\" title=\"Stop Interaction\"><i class=\"fa fa-power-off icon-remove icon-large\"></i></button>');\n",
       "    button.click(function (evt) { fig.handle_close(fig, {}); } );\n",
       "    button.mouseover('Stop Interaction', toolbar_mouse_event);\n",
       "    buttongrp.append(button);\n",
       "    var titlebar = this.root.find($('.ui-dialog-titlebar'));\n",
       "    titlebar.prepend(buttongrp);\n",
       "}\n",
       "\n",
       "mpl.figure.prototype._root_extra_style = function(el){\n",
       "    var fig = this\n",
       "    el.on(\"remove\", function(){\n",
       "\tfig.close_ws(fig, {});\n",
       "    });\n",
       "}\n",
       "\n",
       "mpl.figure.prototype._canvas_extra_style = function(el){\n",
       "    // this is important to make the div 'focusable\n",
       "    el.attr('tabindex', 0)\n",
       "    // reach out to IPython and tell the keyboard manager to turn it's self\n",
       "    // off when our div gets focus\n",
       "\n",
       "    // location in version 3\n",
       "    if (IPython.notebook.keyboard_manager) {\n",
       "        IPython.notebook.keyboard_manager.register_events(el);\n",
       "    }\n",
       "    else {\n",
       "        // location in version 2\n",
       "        IPython.keyboard_manager.register_events(el);\n",
       "    }\n",
       "\n",
       "}\n",
       "\n",
       "mpl.figure.prototype._key_event_extra = function(event, name) {\n",
       "    var manager = IPython.notebook.keyboard_manager;\n",
       "    if (!manager)\n",
       "        manager = IPython.keyboard_manager;\n",
       "\n",
       "    // Check for shift+enter\n",
       "    if (event.shiftKey && event.which == 13) {\n",
       "        this.canvas_div.blur();\n",
       "        // select the cell after this one\n",
       "        var index = IPython.notebook.find_cell_index(this.cell_info[0]);\n",
       "        IPython.notebook.select(index + 1);\n",
       "    }\n",
       "}\n",
       "\n",
       "mpl.figure.prototype.handle_save = function(fig, msg) {\n",
       "    fig.ondownload(fig, null);\n",
       "}\n",
       "\n",
       "\n",
       "mpl.find_output_cell = function(html_output) {\n",
       "    // Return the cell and output element which can be found *uniquely* in the notebook.\n",
       "    // Note - this is a bit hacky, but it is done because the \"notebook_saving.Notebook\"\n",
       "    // IPython event is triggered only after the cells have been serialised, which for\n",
       "    // our purposes (turning an active figure into a static one), is too late.\n",
       "    var cells = IPython.notebook.get_cells();\n",
       "    var ncells = cells.length;\n",
       "    for (var i=0; i<ncells; i++) {\n",
       "        var cell = cells[i];\n",
       "        if (cell.cell_type === 'code'){\n",
       "            for (var j=0; j<cell.output_area.outputs.length; j++) {\n",
       "                var data = cell.output_area.outputs[j];\n",
       "                if (data.data) {\n",
       "                    // IPython >= 3 moved mimebundle to data attribute of output\n",
       "                    data = data.data;\n",
       "                }\n",
       "                if (data['text/html'] == html_output) {\n",
       "                    return [cell, data, j];\n",
       "                }\n",
       "            }\n",
       "        }\n",
       "    }\n",
       "}\n",
       "\n",
       "// Register the function which deals with the matplotlib target/channel.\n",
       "// The kernel may be null if the page has been refreshed.\n",
       "if (IPython.notebook.kernel != null) {\n",
       "    IPython.notebook.kernel.comm_manager.register_target('matplotlib', mpl.mpl_figure_comm);\n",
       "}\n"
      ],
      "text/plain": [
       "<IPython.core.display.Javascript object>"
      ]
     },
     "metadata": {},
     "output_type": "display_data"
    },
    {
     "data": {
      "text/html": [
       "<img src=\"data:image/png;base64,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\" width=\"640\">"
      ],
      "text/plain": [
       "<IPython.core.display.HTML object>"
      ]
     },
     "metadata": {},
     "output_type": "display_data"
    },
    {
     "name": "stdout",
     "output_type": "stream",
     "text": [
      "Extra trees classifier confusion matrix\n"
     ]
    },
    {
     "data": {
      "application/javascript": [
       "/* Put everything inside the global mpl namespace */\n",
       "window.mpl = {};\n",
       "\n",
       "\n",
       "mpl.get_websocket_type = function() {\n",
       "    if (typeof(WebSocket) !== 'undefined') {\n",
       "        return WebSocket;\n",
       "    } else if (typeof(MozWebSocket) !== 'undefined') {\n",
       "        return MozWebSocket;\n",
       "    } else {\n",
       "        alert('Your browser does not have WebSocket support. ' +\n",
       "              'Please try Chrome, Safari or Firefox ≥ 6. ' +\n",
       "              'Firefox 4 and 5 are also supported but you ' +\n",
       "              'have to enable WebSockets in about:config.');\n",
       "    };\n",
       "}\n",
       "\n",
       "mpl.figure = function(figure_id, websocket, ondownload, parent_element) {\n",
       "    this.id = figure_id;\n",
       "\n",
       "    this.ws = websocket;\n",
       "\n",
       "    this.supports_binary = (this.ws.binaryType != undefined);\n",
       "\n",
       "    if (!this.supports_binary) {\n",
       "        var warnings = document.getElementById(\"mpl-warnings\");\n",
       "        if (warnings) {\n",
       "            warnings.style.display = 'block';\n",
       "            warnings.textContent = (\n",
       "                \"This browser does not support binary websocket messages. \" +\n",
       "                    \"Performance may be slow.\");\n",
       "        }\n",
       "    }\n",
       "\n",
       "    this.imageObj = new Image();\n",
       "\n",
       "    this.context = undefined;\n",
       "    this.message = undefined;\n",
       "    this.canvas = undefined;\n",
       "    this.rubberband_canvas = undefined;\n",
       "    this.rubberband_context = undefined;\n",
       "    this.format_dropdown = undefined;\n",
       "\n",
       "    this.image_mode = 'full';\n",
       "\n",
       "    this.root = $('<div/>');\n",
       "    this._root_extra_style(this.root)\n",
       "    this.root.attr('style', 'display: inline-block');\n",
       "\n",
       "    $(parent_element).append(this.root);\n",
       "\n",
       "    this._init_header(this);\n",
       "    this._init_canvas(this);\n",
       "    this._init_toolbar(this);\n",
       "\n",
       "    var fig = this;\n",
       "\n",
       "    this.waiting = false;\n",
       "\n",
       "    this.ws.onopen =  function () {\n",
       "            fig.send_message(\"supports_binary\", {value: fig.supports_binary});\n",
       "            fig.send_message(\"send_image_mode\", {});\n",
       "            if (mpl.ratio != 1) {\n",
       "                fig.send_message(\"set_dpi_ratio\", {'dpi_ratio': mpl.ratio});\n",
       "            }\n",
       "            fig.send_message(\"refresh\", {});\n",
       "        }\n",
       "\n",
       "    this.imageObj.onload = function() {\n",
       "            if (fig.image_mode == 'full') {\n",
       "                // Full images could contain transparency (where diff images\n",
       "                // almost always do), so we need to clear the canvas so that\n",
       "                // there is no ghosting.\n",
       "                fig.context.clearRect(0, 0, fig.canvas.width, fig.canvas.height);\n",
       "            }\n",
       "            fig.context.drawImage(fig.imageObj, 0, 0);\n",
       "        };\n",
       "\n",
       "    this.imageObj.onunload = function() {\n",
       "        fig.ws.close();\n",
       "    }\n",
       "\n",
       "    this.ws.onmessage = this._make_on_message_function(this);\n",
       "\n",
       "    this.ondownload = ondownload;\n",
       "}\n",
       "\n",
       "mpl.figure.prototype._init_header = function() {\n",
       "    var titlebar = $(\n",
       "        '<div class=\"ui-dialog-titlebar ui-widget-header ui-corner-all ' +\n",
       "        'ui-helper-clearfix\"/>');\n",
       "    var titletext = $(\n",
       "        '<div class=\"ui-dialog-title\" style=\"width: 100%; ' +\n",
       "        'text-align: center; padding: 3px;\"/>');\n",
       "    titlebar.append(titletext)\n",
       "    this.root.append(titlebar);\n",
       "    this.header = titletext[0];\n",
       "}\n",
       "\n",
       "\n",
       "\n",
       "mpl.figure.prototype._canvas_extra_style = function(canvas_div) {\n",
       "\n",
       "}\n",
       "\n",
       "\n",
       "mpl.figure.prototype._root_extra_style = function(canvas_div) {\n",
       "\n",
       "}\n",
       "\n",
       "mpl.figure.prototype._init_canvas = function() {\n",
       "    var fig = this;\n",
       "\n",
       "    var canvas_div = $('<div/>');\n",
       "\n",
       "    canvas_div.attr('style', 'position: relative; clear: both; outline: 0');\n",
       "\n",
       "    function canvas_keyboard_event(event) {\n",
       "        return fig.key_event(event, event['data']);\n",
       "    }\n",
       "\n",
       "    canvas_div.keydown('key_press', canvas_keyboard_event);\n",
       "    canvas_div.keyup('key_release', canvas_keyboard_event);\n",
       "    this.canvas_div = canvas_div\n",
       "    this._canvas_extra_style(canvas_div)\n",
       "    this.root.append(canvas_div);\n",
       "\n",
       "    var canvas = $('<canvas/>');\n",
       "    canvas.addClass('mpl-canvas');\n",
       "    canvas.attr('style', \"left: 0; top: 0; z-index: 0; outline: 0\")\n",
       "\n",
       "    this.canvas = canvas[0];\n",
       "    this.context = canvas[0].getContext(\"2d\");\n",
       "\n",
       "    var backingStore = this.context.backingStorePixelRatio ||\n",
       "\tthis.context.webkitBackingStorePixelRatio ||\n",
       "\tthis.context.mozBackingStorePixelRatio ||\n",
       "\tthis.context.msBackingStorePixelRatio ||\n",
       "\tthis.context.oBackingStorePixelRatio ||\n",
       "\tthis.context.backingStorePixelRatio || 1;\n",
       "\n",
       "    mpl.ratio = (window.devicePixelRatio || 1) / backingStore;\n",
       "\n",
       "    var rubberband = $('<canvas/>');\n",
       "    rubberband.attr('style', \"position: absolute; left: 0; top: 0; z-index: 1;\")\n",
       "\n",
       "    var pass_mouse_events = true;\n",
       "\n",
       "    canvas_div.resizable({\n",
       "        start: function(event, ui) {\n",
       "            pass_mouse_events = false;\n",
       "        },\n",
       "        resize: function(event, ui) {\n",
       "            fig.request_resize(ui.size.width, ui.size.height);\n",
       "        },\n",
       "        stop: function(event, ui) {\n",
       "            pass_mouse_events = true;\n",
       "            fig.request_resize(ui.size.width, ui.size.height);\n",
       "        },\n",
       "    });\n",
       "\n",
       "    function mouse_event_fn(event) {\n",
       "        if (pass_mouse_events)\n",
       "            return fig.mouse_event(event, event['data']);\n",
       "    }\n",
       "\n",
       "    rubberband.mousedown('button_press', mouse_event_fn);\n",
       "    rubberband.mouseup('button_release', mouse_event_fn);\n",
       "    // Throttle sequential mouse events to 1 every 20ms.\n",
       "    rubberband.mousemove('motion_notify', mouse_event_fn);\n",
       "\n",
       "    rubberband.mouseenter('figure_enter', mouse_event_fn);\n",
       "    rubberband.mouseleave('figure_leave', mouse_event_fn);\n",
       "\n",
       "    canvas_div.on(\"wheel\", function (event) {\n",
       "        event = event.originalEvent;\n",
       "        event['data'] = 'scroll'\n",
       "        if (event.deltaY < 0) {\n",
       "            event.step = 1;\n",
       "        } else {\n",
       "            event.step = -1;\n",
       "        }\n",
       "        mouse_event_fn(event);\n",
       "    });\n",
       "\n",
       "    canvas_div.append(canvas);\n",
       "    canvas_div.append(rubberband);\n",
       "\n",
       "    this.rubberband = rubberband;\n",
       "    this.rubberband_canvas = rubberband[0];\n",
       "    this.rubberband_context = rubberband[0].getContext(\"2d\");\n",
       "    this.rubberband_context.strokeStyle = \"#000000\";\n",
       "\n",
       "    this._resize_canvas = function(width, height) {\n",
       "        // Keep the size of the canvas, canvas container, and rubber band\n",
       "        // canvas in synch.\n",
       "        canvas_div.css('width', width)\n",
       "        canvas_div.css('height', height)\n",
       "\n",
       "        canvas.attr('width', width * mpl.ratio);\n",
       "        canvas.attr('height', height * mpl.ratio);\n",
       "        canvas.attr('style', 'width: ' + width + 'px; height: ' + height + 'px;');\n",
       "\n",
       "        rubberband.attr('width', width);\n",
       "        rubberband.attr('height', height);\n",
       "    }\n",
       "\n",
       "    // Set the figure to an initial 600x600px, this will subsequently be updated\n",
       "    // upon first draw.\n",
       "    this._resize_canvas(600, 600);\n",
       "\n",
       "    // Disable right mouse context menu.\n",
       "    $(this.rubberband_canvas).bind(\"contextmenu\",function(e){\n",
       "        return false;\n",
       "    });\n",
       "\n",
       "    function set_focus () {\n",
       "        canvas.focus();\n",
       "        canvas_div.focus();\n",
       "    }\n",
       "\n",
       "    window.setTimeout(set_focus, 100);\n",
       "}\n",
       "\n",
       "mpl.figure.prototype._init_toolbar = function() {\n",
       "    var fig = this;\n",
       "\n",
       "    var nav_element = $('<div/>');\n",
       "    nav_element.attr('style', 'width: 100%');\n",
       "    this.root.append(nav_element);\n",
       "\n",
       "    // Define a callback function for later on.\n",
       "    function toolbar_event(event) {\n",
       "        return fig.toolbar_button_onclick(event['data']);\n",
       "    }\n",
       "    function toolbar_mouse_event(event) {\n",
       "        return fig.toolbar_button_onmouseover(event['data']);\n",
       "    }\n",
       "\n",
       "    for(var toolbar_ind in mpl.toolbar_items) {\n",
       "        var name = mpl.toolbar_items[toolbar_ind][0];\n",
       "        var tooltip = mpl.toolbar_items[toolbar_ind][1];\n",
       "        var image = mpl.toolbar_items[toolbar_ind][2];\n",
       "        var method_name = mpl.toolbar_items[toolbar_ind][3];\n",
       "\n",
       "        if (!name) {\n",
       "            // put a spacer in here.\n",
       "            continue;\n",
       "        }\n",
       "        var button = $('<button/>');\n",
       "        button.addClass('ui-button ui-widget ui-state-default ui-corner-all ' +\n",
       "                        'ui-button-icon-only');\n",
       "        button.attr('role', 'button');\n",
       "        button.attr('aria-disabled', 'false');\n",
       "        button.click(method_name, toolbar_event);\n",
       "        button.mouseover(tooltip, toolbar_mouse_event);\n",
       "\n",
       "        var icon_img = $('<span/>');\n",
       "        icon_img.addClass('ui-button-icon-primary ui-icon');\n",
       "        icon_img.addClass(image);\n",
       "        icon_img.addClass('ui-corner-all');\n",
       "\n",
       "        var tooltip_span = $('<span/>');\n",
       "        tooltip_span.addClass('ui-button-text');\n",
       "        tooltip_span.html(tooltip);\n",
       "\n",
       "        button.append(icon_img);\n",
       "        button.append(tooltip_span);\n",
       "\n",
       "        nav_element.append(button);\n",
       "    }\n",
       "\n",
       "    var fmt_picker_span = $('<span/>');\n",
       "\n",
       "    var fmt_picker = $('<select/>');\n",
       "    fmt_picker.addClass('mpl-toolbar-option ui-widget ui-widget-content');\n",
       "    fmt_picker_span.append(fmt_picker);\n",
       "    nav_element.append(fmt_picker_span);\n",
       "    this.format_dropdown = fmt_picker[0];\n",
       "\n",
       "    for (var ind in mpl.extensions) {\n",
       "        var fmt = mpl.extensions[ind];\n",
       "        var option = $(\n",
       "            '<option/>', {selected: fmt === mpl.default_extension}).html(fmt);\n",
       "        fmt_picker.append(option);\n",
       "    }\n",
       "\n",
       "    // Add hover states to the ui-buttons\n",
       "    $( \".ui-button\" ).hover(\n",
       "        function() { $(this).addClass(\"ui-state-hover\");},\n",
       "        function() { $(this).removeClass(\"ui-state-hover\");}\n",
       "    );\n",
       "\n",
       "    var status_bar = $('<span class=\"mpl-message\"/>');\n",
       "    nav_element.append(status_bar);\n",
       "    this.message = status_bar[0];\n",
       "}\n",
       "\n",
       "mpl.figure.prototype.request_resize = function(x_pixels, y_pixels) {\n",
       "    // Request matplotlib to resize the figure. Matplotlib will then trigger a resize in the client,\n",
       "    // which will in turn request a refresh of the image.\n",
       "    this.send_message('resize', {'width': x_pixels, 'height': y_pixels});\n",
       "}\n",
       "\n",
       "mpl.figure.prototype.send_message = function(type, properties) {\n",
       "    properties['type'] = type;\n",
       "    properties['figure_id'] = this.id;\n",
       "    this.ws.send(JSON.stringify(properties));\n",
       "}\n",
       "\n",
       "mpl.figure.prototype.send_draw_message = function() {\n",
       "    if (!this.waiting) {\n",
       "        this.waiting = true;\n",
       "        this.ws.send(JSON.stringify({type: \"draw\", figure_id: this.id}));\n",
       "    }\n",
       "}\n",
       "\n",
       "\n",
       "mpl.figure.prototype.handle_save = function(fig, msg) {\n",
       "    var format_dropdown = fig.format_dropdown;\n",
       "    var format = format_dropdown.options[format_dropdown.selectedIndex].value;\n",
       "    fig.ondownload(fig, format);\n",
       "}\n",
       "\n",
       "\n",
       "mpl.figure.prototype.handle_resize = function(fig, msg) {\n",
       "    var size = msg['size'];\n",
       "    if (size[0] != fig.canvas.width || size[1] != fig.canvas.height) {\n",
       "        fig._resize_canvas(size[0], size[1]);\n",
       "        fig.send_message(\"refresh\", {});\n",
       "    };\n",
       "}\n",
       "\n",
       "mpl.figure.prototype.handle_rubberband = function(fig, msg) {\n",
       "    var x0 = msg['x0'] / mpl.ratio;\n",
       "    var y0 = (fig.canvas.height - msg['y0']) / mpl.ratio;\n",
       "    var x1 = msg['x1'] / mpl.ratio;\n",
       "    var y1 = (fig.canvas.height - msg['y1']) / mpl.ratio;\n",
       "    x0 = Math.floor(x0) + 0.5;\n",
       "    y0 = Math.floor(y0) + 0.5;\n",
       "    x1 = Math.floor(x1) + 0.5;\n",
       "    y1 = Math.floor(y1) + 0.5;\n",
       "    var min_x = Math.min(x0, x1);\n",
       "    var min_y = Math.min(y0, y1);\n",
       "    var width = Math.abs(x1 - x0);\n",
       "    var height = Math.abs(y1 - y0);\n",
       "\n",
       "    fig.rubberband_context.clearRect(\n",
       "        0, 0, fig.canvas.width / mpl.ratio, fig.canvas.height / mpl.ratio);\n",
       "\n",
       "    fig.rubberband_context.strokeRect(min_x, min_y, width, height);\n",
       "}\n",
       "\n",
       "mpl.figure.prototype.handle_figure_label = function(fig, msg) {\n",
       "    // Updates the figure title.\n",
       "    fig.header.textContent = msg['label'];\n",
       "}\n",
       "\n",
       "mpl.figure.prototype.handle_cursor = function(fig, msg) {\n",
       "    var cursor = msg['cursor'];\n",
       "    switch(cursor)\n",
       "    {\n",
       "    case 0:\n",
       "        cursor = 'pointer';\n",
       "        break;\n",
       "    case 1:\n",
       "        cursor = 'default';\n",
       "        break;\n",
       "    case 2:\n",
       "        cursor = 'crosshair';\n",
       "        break;\n",
       "    case 3:\n",
       "        cursor = 'move';\n",
       "        break;\n",
       "    }\n",
       "    fig.rubberband_canvas.style.cursor = cursor;\n",
       "}\n",
       "\n",
       "mpl.figure.prototype.handle_message = function(fig, msg) {\n",
       "    fig.message.textContent = msg['message'];\n",
       "}\n",
       "\n",
       "mpl.figure.prototype.handle_draw = function(fig, msg) {\n",
       "    // Request the server to send over a new figure.\n",
       "    fig.send_draw_message();\n",
       "}\n",
       "\n",
       "mpl.figure.prototype.handle_image_mode = function(fig, msg) {\n",
       "    fig.image_mode = msg['mode'];\n",
       "}\n",
       "\n",
       "mpl.figure.prototype.updated_canvas_event = function() {\n",
       "    // Called whenever the canvas gets updated.\n",
       "    this.send_message(\"ack\", {});\n",
       "}\n",
       "\n",
       "// A function to construct a web socket function for onmessage handling.\n",
       "// Called in the figure constructor.\n",
       "mpl.figure.prototype._make_on_message_function = function(fig) {\n",
       "    return function socket_on_message(evt) {\n",
       "        if (evt.data instanceof Blob) {\n",
       "            /* FIXME: We get \"Resource interpreted as Image but\n",
       "             * transferred with MIME type text/plain:\" errors on\n",
       "             * Chrome.  But how to set the MIME type?  It doesn't seem\n",
       "             * to be part of the websocket stream */\n",
       "            evt.data.type = \"image/png\";\n",
       "\n",
       "            /* Free the memory for the previous frames */\n",
       "            if (fig.imageObj.src) {\n",
       "                (window.URL || window.webkitURL).revokeObjectURL(\n",
       "                    fig.imageObj.src);\n",
       "            }\n",
       "\n",
       "            fig.imageObj.src = (window.URL || window.webkitURL).createObjectURL(\n",
       "                evt.data);\n",
       "            fig.updated_canvas_event();\n",
       "            fig.waiting = false;\n",
       "            return;\n",
       "        }\n",
       "        else if (typeof evt.data === 'string' && evt.data.slice(0, 21) == \"data:image/png;base64\") {\n",
       "            fig.imageObj.src = evt.data;\n",
       "            fig.updated_canvas_event();\n",
       "            fig.waiting = false;\n",
       "            return;\n",
       "        }\n",
       "\n",
       "        var msg = JSON.parse(evt.data);\n",
       "        var msg_type = msg['type'];\n",
       "\n",
       "        // Call the  \"handle_{type}\" callback, which takes\n",
       "        // the figure and JSON message as its only arguments.\n",
       "        try {\n",
       "            var callback = fig[\"handle_\" + msg_type];\n",
       "        } catch (e) {\n",
       "            console.log(\"No handler for the '\" + msg_type + \"' message type: \", msg);\n",
       "            return;\n",
       "        }\n",
       "\n",
       "        if (callback) {\n",
       "            try {\n",
       "                // console.log(\"Handling '\" + msg_type + \"' message: \", msg);\n",
       "                callback(fig, msg);\n",
       "            } catch (e) {\n",
       "                console.log(\"Exception inside the 'handler_\" + msg_type + \"' callback:\", e, e.stack, msg);\n",
       "            }\n",
       "        }\n",
       "    };\n",
       "}\n",
       "\n",
       "// from http://stackoverflow.com/questions/1114465/getting-mouse-location-in-canvas\n",
       "mpl.findpos = function(e) {\n",
       "    //this section is from http://www.quirksmode.org/js/events_properties.html\n",
       "    var targ;\n",
       "    if (!e)\n",
       "        e = window.event;\n",
       "    if (e.target)\n",
       "        targ = e.target;\n",
       "    else if (e.srcElement)\n",
       "        targ = e.srcElement;\n",
       "    if (targ.nodeType == 3) // defeat Safari bug\n",
       "        targ = targ.parentNode;\n",
       "\n",
       "    // jQuery normalizes the pageX and pageY\n",
       "    // pageX,Y are the mouse positions relative to the document\n",
       "    // offset() returns the position of the element relative to the document\n",
       "    var x = e.pageX - $(targ).offset().left;\n",
       "    var y = e.pageY - $(targ).offset().top;\n",
       "\n",
       "    return {\"x\": x, \"y\": y};\n",
       "};\n",
       "\n",
       "/*\n",
       " * return a copy of an object with only non-object keys\n",
       " * we need this to avoid circular references\n",
       " * http://stackoverflow.com/a/24161582/3208463\n",
       " */\n",
       "function simpleKeys (original) {\n",
       "  return Object.keys(original).reduce(function (obj, key) {\n",
       "    if (typeof original[key] !== 'object')\n",
       "        obj[key] = original[key]\n",
       "    return obj;\n",
       "  }, {});\n",
       "}\n",
       "\n",
       "mpl.figure.prototype.mouse_event = function(event, name) {\n",
       "    var canvas_pos = mpl.findpos(event)\n",
       "\n",
       "    if (name === 'button_press')\n",
       "    {\n",
       "        this.canvas.focus();\n",
       "        this.canvas_div.focus();\n",
       "    }\n",
       "\n",
       "    var x = canvas_pos.x * mpl.ratio;\n",
       "    var y = canvas_pos.y * mpl.ratio;\n",
       "\n",
       "    this.send_message(name, {x: x, y: y, button: event.button,\n",
       "                             step: event.step,\n",
       "                             guiEvent: simpleKeys(event)});\n",
       "\n",
       "    /* This prevents the web browser from automatically changing to\n",
       "     * the text insertion cursor when the button is pressed.  We want\n",
       "     * to control all of the cursor setting manually through the\n",
       "     * 'cursor' event from matplotlib */\n",
       "    event.preventDefault();\n",
       "    return false;\n",
       "}\n",
       "\n",
       "mpl.figure.prototype._key_event_extra = function(event, name) {\n",
       "    // Handle any extra behaviour associated with a key event\n",
       "}\n",
       "\n",
       "mpl.figure.prototype.key_event = function(event, name) {\n",
       "\n",
       "    // Prevent repeat events\n",
       "    if (name == 'key_press')\n",
       "    {\n",
       "        if (event.which === this._key)\n",
       "            return;\n",
       "        else\n",
       "            this._key = event.which;\n",
       "    }\n",
       "    if (name == 'key_release')\n",
       "        this._key = null;\n",
       "\n",
       "    var value = '';\n",
       "    if (event.ctrlKey && event.which != 17)\n",
       "        value += \"ctrl+\";\n",
       "    if (event.altKey && event.which != 18)\n",
       "        value += \"alt+\";\n",
       "    if (event.shiftKey && event.which != 16)\n",
       "        value += \"shift+\";\n",
       "\n",
       "    value += 'k';\n",
       "    value += event.which.toString();\n",
       "\n",
       "    this._key_event_extra(event, name);\n",
       "\n",
       "    this.send_message(name, {key: value,\n",
       "                             guiEvent: simpleKeys(event)});\n",
       "    return false;\n",
       "}\n",
       "\n",
       "mpl.figure.prototype.toolbar_button_onclick = function(name) {\n",
       "    if (name == 'download') {\n",
       "        this.handle_save(this, null);\n",
       "    } else {\n",
       "        this.send_message(\"toolbar_button\", {name: name});\n",
       "    }\n",
       "};\n",
       "\n",
       "mpl.figure.prototype.toolbar_button_onmouseover = function(tooltip) {\n",
       "    this.message.textContent = tooltip;\n",
       "};\n",
       "mpl.toolbar_items = [[\"Home\", \"Reset original view\", \"fa fa-home icon-home\", \"home\"], [\"Back\", \"Back to previous view\", \"fa fa-arrow-left icon-arrow-left\", \"back\"], [\"Forward\", \"Forward to next view\", \"fa fa-arrow-right icon-arrow-right\", \"forward\"], [\"\", \"\", \"\", \"\"], [\"Pan\", \"Pan axes with left mouse, zoom with right\", \"fa fa-arrows icon-move\", \"pan\"], [\"Zoom\", \"Zoom to rectangle\", \"fa fa-square-o icon-check-empty\", \"zoom\"], [\"\", \"\", \"\", \"\"], [\"Download\", \"Download plot\", \"fa fa-floppy-o icon-save\", \"download\"]];\n",
       "\n",
       "mpl.extensions = [\"eps\", \"jpeg\", \"pdf\", \"png\", \"ps\", \"raw\", \"svg\", \"tif\"];\n",
       "\n",
       "mpl.default_extension = \"png\";var comm_websocket_adapter = function(comm) {\n",
       "    // Create a \"websocket\"-like object which calls the given IPython comm\n",
       "    // object with the appropriate methods. Currently this is a non binary\n",
       "    // socket, so there is still some room for performance tuning.\n",
       "    var ws = {};\n",
       "\n",
       "    ws.close = function() {\n",
       "        comm.close()\n",
       "    };\n",
       "    ws.send = function(m) {\n",
       "        //console.log('sending', m);\n",
       "        comm.send(m);\n",
       "    };\n",
       "    // Register the callback with on_msg.\n",
       "    comm.on_msg(function(msg) {\n",
       "        //console.log('receiving', msg['content']['data'], msg);\n",
       "        // Pass the mpl event to the overridden (by mpl) onmessage function.\n",
       "        ws.onmessage(msg['content']['data'])\n",
       "    });\n",
       "    return ws;\n",
       "}\n",
       "\n",
       "mpl.mpl_figure_comm = function(comm, msg) {\n",
       "    // This is the function which gets called when the mpl process\n",
       "    // starts-up an IPython Comm through the \"matplotlib\" channel.\n",
       "\n",
       "    var id = msg.content.data.id;\n",
       "    // Get hold of the div created by the display call when the Comm\n",
       "    // socket was opened in Python.\n",
       "    var element = $(\"#\" + id);\n",
       "    var ws_proxy = comm_websocket_adapter(comm)\n",
       "\n",
       "    function ondownload(figure, format) {\n",
       "        window.open(figure.imageObj.src);\n",
       "    }\n",
       "\n",
       "    var fig = new mpl.figure(id, ws_proxy,\n",
       "                           ondownload,\n",
       "                           element.get(0));\n",
       "\n",
       "    // Call onopen now - mpl needs it, as it is assuming we've passed it a real\n",
       "    // web socket which is closed, not our websocket->open comm proxy.\n",
       "    ws_proxy.onopen();\n",
       "\n",
       "    fig.parent_element = element.get(0);\n",
       "    fig.cell_info = mpl.find_output_cell(\"<div id='\" + id + \"'></div>\");\n",
       "    if (!fig.cell_info) {\n",
       "        console.error(\"Failed to find cell for figure\", id, fig);\n",
       "        return;\n",
       "    }\n",
       "\n",
       "    var output_index = fig.cell_info[2]\n",
       "    var cell = fig.cell_info[0];\n",
       "\n",
       "};\n",
       "\n",
       "mpl.figure.prototype.handle_close = function(fig, msg) {\n",
       "    var width = fig.canvas.width/mpl.ratio\n",
       "    fig.root.unbind('remove')\n",
       "\n",
       "    // Update the output cell to use the data from the current canvas.\n",
       "    fig.push_to_output();\n",
       "    var dataURL = fig.canvas.toDataURL();\n",
       "    // Re-enable the keyboard manager in IPython - without this line, in FF,\n",
       "    // the notebook keyboard shortcuts fail.\n",
       "    IPython.keyboard_manager.enable()\n",
       "    $(fig.parent_element).html('<img src=\"' + dataURL + '\" width=\"' + width + '\">');\n",
       "    fig.close_ws(fig, msg);\n",
       "}\n",
       "\n",
       "mpl.figure.prototype.close_ws = function(fig, msg){\n",
       "    fig.send_message('closing', msg);\n",
       "    // fig.ws.close()\n",
       "}\n",
       "\n",
       "mpl.figure.prototype.push_to_output = function(remove_interactive) {\n",
       "    // Turn the data on the canvas into data in the output cell.\n",
       "    var width = this.canvas.width/mpl.ratio\n",
       "    var dataURL = this.canvas.toDataURL();\n",
       "    this.cell_info[1]['text/html'] = '<img src=\"' + dataURL + '\" width=\"' + width + '\">';\n",
       "}\n",
       "\n",
       "mpl.figure.prototype.updated_canvas_event = function() {\n",
       "    // Tell IPython that the notebook contents must change.\n",
       "    IPython.notebook.set_dirty(true);\n",
       "    this.send_message(\"ack\", {});\n",
       "    var fig = this;\n",
       "    // Wait a second, then push the new image to the DOM so\n",
       "    // that it is saved nicely (might be nice to debounce this).\n",
       "    setTimeout(function () { fig.push_to_output() }, 1000);\n",
       "}\n",
       "\n",
       "mpl.figure.prototype._init_toolbar = function() {\n",
       "    var fig = this;\n",
       "\n",
       "    var nav_element = $('<div/>');\n",
       "    nav_element.attr('style', 'width: 100%');\n",
       "    this.root.append(nav_element);\n",
       "\n",
       "    // Define a callback function for later on.\n",
       "    function toolbar_event(event) {\n",
       "        return fig.toolbar_button_onclick(event['data']);\n",
       "    }\n",
       "    function toolbar_mouse_event(event) {\n",
       "        return fig.toolbar_button_onmouseover(event['data']);\n",
       "    }\n",
       "\n",
       "    for(var toolbar_ind in mpl.toolbar_items){\n",
       "        var name = mpl.toolbar_items[toolbar_ind][0];\n",
       "        var tooltip = mpl.toolbar_items[toolbar_ind][1];\n",
       "        var image = mpl.toolbar_items[toolbar_ind][2];\n",
       "        var method_name = mpl.toolbar_items[toolbar_ind][3];\n",
       "\n",
       "        if (!name) { continue; };\n",
       "\n",
       "        var button = $('<button class=\"btn btn-default\" href=\"#\" title=\"' + name + '\"><i class=\"fa ' + image + ' fa-lg\"></i></button>');\n",
       "        button.click(method_name, toolbar_event);\n",
       "        button.mouseover(tooltip, toolbar_mouse_event);\n",
       "        nav_element.append(button);\n",
       "    }\n",
       "\n",
       "    // Add the status bar.\n",
       "    var status_bar = $('<span class=\"mpl-message\" style=\"text-align:right; float: right;\"/>');\n",
       "    nav_element.append(status_bar);\n",
       "    this.message = status_bar[0];\n",
       "\n",
       "    // Add the close button to the window.\n",
       "    var buttongrp = $('<div class=\"btn-group inline pull-right\"></div>');\n",
       "    var button = $('<button class=\"btn btn-mini btn-primary\" href=\"#\" title=\"Stop Interaction\"><i class=\"fa fa-power-off icon-remove icon-large\"></i></button>');\n",
       "    button.click(function (evt) { fig.handle_close(fig, {}); } );\n",
       "    button.mouseover('Stop Interaction', toolbar_mouse_event);\n",
       "    buttongrp.append(button);\n",
       "    var titlebar = this.root.find($('.ui-dialog-titlebar'));\n",
       "    titlebar.prepend(buttongrp);\n",
       "}\n",
       "\n",
       "mpl.figure.prototype._root_extra_style = function(el){\n",
       "    var fig = this\n",
       "    el.on(\"remove\", function(){\n",
       "\tfig.close_ws(fig, {});\n",
       "    });\n",
       "}\n",
       "\n",
       "mpl.figure.prototype._canvas_extra_style = function(el){\n",
       "    // this is important to make the div 'focusable\n",
       "    el.attr('tabindex', 0)\n",
       "    // reach out to IPython and tell the keyboard manager to turn it's self\n",
       "    // off when our div gets focus\n",
       "\n",
       "    // location in version 3\n",
       "    if (IPython.notebook.keyboard_manager) {\n",
       "        IPython.notebook.keyboard_manager.register_events(el);\n",
       "    }\n",
       "    else {\n",
       "        // location in version 2\n",
       "        IPython.keyboard_manager.register_events(el);\n",
       "    }\n",
       "\n",
       "}\n",
       "\n",
       "mpl.figure.prototype._key_event_extra = function(event, name) {\n",
       "    var manager = IPython.notebook.keyboard_manager;\n",
       "    if (!manager)\n",
       "        manager = IPython.keyboard_manager;\n",
       "\n",
       "    // Check for shift+enter\n",
       "    if (event.shiftKey && event.which == 13) {\n",
       "        this.canvas_div.blur();\n",
       "        // select the cell after this one\n",
       "        var index = IPython.notebook.find_cell_index(this.cell_info[0]);\n",
       "        IPython.notebook.select(index + 1);\n",
       "    }\n",
       "}\n",
       "\n",
       "mpl.figure.prototype.handle_save = function(fig, msg) {\n",
       "    fig.ondownload(fig, null);\n",
       "}\n",
       "\n",
       "\n",
       "mpl.find_output_cell = function(html_output) {\n",
       "    // Return the cell and output element which can be found *uniquely* in the notebook.\n",
       "    // Note - this is a bit hacky, but it is done because the \"notebook_saving.Notebook\"\n",
       "    // IPython event is triggered only after the cells have been serialised, which for\n",
       "    // our purposes (turning an active figure into a static one), is too late.\n",
       "    var cells = IPython.notebook.get_cells();\n",
       "    var ncells = cells.length;\n",
       "    for (var i=0; i<ncells; i++) {\n",
       "        var cell = cells[i];\n",
       "        if (cell.cell_type === 'code'){\n",
       "            for (var j=0; j<cell.output_area.outputs.length; j++) {\n",
       "                var data = cell.output_area.outputs[j];\n",
       "                if (data.data) {\n",
       "                    // IPython >= 3 moved mimebundle to data attribute of output\n",
       "                    data = data.data;\n",
       "                }\n",
       "                if (data['text/html'] == html_output) {\n",
       "                    return [cell, data, j];\n",
       "                }\n",
       "            }\n",
       "        }\n",
       "    }\n",
       "}\n",
       "\n",
       "// Register the function which deals with the matplotlib target/channel.\n",
       "// The kernel may be null if the page has been refreshed.\n",
       "if (IPython.notebook.kernel != null) {\n",
       "    IPython.notebook.kernel.comm_manager.register_target('matplotlib', mpl.mpl_figure_comm);\n",
       "}\n"
      ],
      "text/plain": [
       "<IPython.core.display.Javascript object>"
      ]
     },
     "metadata": {},
     "output_type": "display_data"
    },
    {
     "data": {
      "text/html": [
       "<img src=\"data:image/png;base64,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\" width=\"640\">"
      ],
      "text/plain": [
       "<IPython.core.display.HTML object>"
      ]
     },
     "metadata": {},
     "output_type": "display_data"
    },
    {
     "name": "stdout",
     "output_type": "stream",
     "text": [
      "NaiveBayes classifier confusion matrix\n"
     ]
    },
    {
     "data": {
      "application/javascript": [
       "/* Put everything inside the global mpl namespace */\n",
       "window.mpl = {};\n",
       "\n",
       "\n",
       "mpl.get_websocket_type = function() {\n",
       "    if (typeof(WebSocket) !== 'undefined') {\n",
       "        return WebSocket;\n",
       "    } else if (typeof(MozWebSocket) !== 'undefined') {\n",
       "        return MozWebSocket;\n",
       "    } else {\n",
       "        alert('Your browser does not have WebSocket support. ' +\n",
       "              'Please try Chrome, Safari or Firefox ≥ 6. ' +\n",
       "              'Firefox 4 and 5 are also supported but you ' +\n",
       "              'have to enable WebSockets in about:config.');\n",
       "    };\n",
       "}\n",
       "\n",
       "mpl.figure = function(figure_id, websocket, ondownload, parent_element) {\n",
       "    this.id = figure_id;\n",
       "\n",
       "    this.ws = websocket;\n",
       "\n",
       "    this.supports_binary = (this.ws.binaryType != undefined);\n",
       "\n",
       "    if (!this.supports_binary) {\n",
       "        var warnings = document.getElementById(\"mpl-warnings\");\n",
       "        if (warnings) {\n",
       "            warnings.style.display = 'block';\n",
       "            warnings.textContent = (\n",
       "                \"This browser does not support binary websocket messages. \" +\n",
       "                    \"Performance may be slow.\");\n",
       "        }\n",
       "    }\n",
       "\n",
       "    this.imageObj = new Image();\n",
       "\n",
       "    this.context = undefined;\n",
       "    this.message = undefined;\n",
       "    this.canvas = undefined;\n",
       "    this.rubberband_canvas = undefined;\n",
       "    this.rubberband_context = undefined;\n",
       "    this.format_dropdown = undefined;\n",
       "\n",
       "    this.image_mode = 'full';\n",
       "\n",
       "    this.root = $('<div/>');\n",
       "    this._root_extra_style(this.root)\n",
       "    this.root.attr('style', 'display: inline-block');\n",
       "\n",
       "    $(parent_element).append(this.root);\n",
       "\n",
       "    this._init_header(this);\n",
       "    this._init_canvas(this);\n",
       "    this._init_toolbar(this);\n",
       "\n",
       "    var fig = this;\n",
       "\n",
       "    this.waiting = false;\n",
       "\n",
       "    this.ws.onopen =  function () {\n",
       "            fig.send_message(\"supports_binary\", {value: fig.supports_binary});\n",
       "            fig.send_message(\"send_image_mode\", {});\n",
       "            if (mpl.ratio != 1) {\n",
       "                fig.send_message(\"set_dpi_ratio\", {'dpi_ratio': mpl.ratio});\n",
       "            }\n",
       "            fig.send_message(\"refresh\", {});\n",
       "        }\n",
       "\n",
       "    this.imageObj.onload = function() {\n",
       "            if (fig.image_mode == 'full') {\n",
       "                // Full images could contain transparency (where diff images\n",
       "                // almost always do), so we need to clear the canvas so that\n",
       "                // there is no ghosting.\n",
       "                fig.context.clearRect(0, 0, fig.canvas.width, fig.canvas.height);\n",
       "            }\n",
       "            fig.context.drawImage(fig.imageObj, 0, 0);\n",
       "        };\n",
       "\n",
       "    this.imageObj.onunload = function() {\n",
       "        fig.ws.close();\n",
       "    }\n",
       "\n",
       "    this.ws.onmessage = this._make_on_message_function(this);\n",
       "\n",
       "    this.ondownload = ondownload;\n",
       "}\n",
       "\n",
       "mpl.figure.prototype._init_header = function() {\n",
       "    var titlebar = $(\n",
       "        '<div class=\"ui-dialog-titlebar ui-widget-header ui-corner-all ' +\n",
       "        'ui-helper-clearfix\"/>');\n",
       "    var titletext = $(\n",
       "        '<div class=\"ui-dialog-title\" style=\"width: 100%; ' +\n",
       "        'text-align: center; padding: 3px;\"/>');\n",
       "    titlebar.append(titletext)\n",
       "    this.root.append(titlebar);\n",
       "    this.header = titletext[0];\n",
       "}\n",
       "\n",
       "\n",
       "\n",
       "mpl.figure.prototype._canvas_extra_style = function(canvas_div) {\n",
       "\n",
       "}\n",
       "\n",
       "\n",
       "mpl.figure.prototype._root_extra_style = function(canvas_div) {\n",
       "\n",
       "}\n",
       "\n",
       "mpl.figure.prototype._init_canvas = function() {\n",
       "    var fig = this;\n",
       "\n",
       "    var canvas_div = $('<div/>');\n",
       "\n",
       "    canvas_div.attr('style', 'position: relative; clear: both; outline: 0');\n",
       "\n",
       "    function canvas_keyboard_event(event) {\n",
       "        return fig.key_event(event, event['data']);\n",
       "    }\n",
       "\n",
       "    canvas_div.keydown('key_press', canvas_keyboard_event);\n",
       "    canvas_div.keyup('key_release', canvas_keyboard_event);\n",
       "    this.canvas_div = canvas_div\n",
       "    this._canvas_extra_style(canvas_div)\n",
       "    this.root.append(canvas_div);\n",
       "\n",
       "    var canvas = $('<canvas/>');\n",
       "    canvas.addClass('mpl-canvas');\n",
       "    canvas.attr('style', \"left: 0; top: 0; z-index: 0; outline: 0\")\n",
       "\n",
       "    this.canvas = canvas[0];\n",
       "    this.context = canvas[0].getContext(\"2d\");\n",
       "\n",
       "    var backingStore = this.context.backingStorePixelRatio ||\n",
       "\tthis.context.webkitBackingStorePixelRatio ||\n",
       "\tthis.context.mozBackingStorePixelRatio ||\n",
       "\tthis.context.msBackingStorePixelRatio ||\n",
       "\tthis.context.oBackingStorePixelRatio ||\n",
       "\tthis.context.backingStorePixelRatio || 1;\n",
       "\n",
       "    mpl.ratio = (window.devicePixelRatio || 1) / backingStore;\n",
       "\n",
       "    var rubberband = $('<canvas/>');\n",
       "    rubberband.attr('style', \"position: absolute; left: 0; top: 0; z-index: 1;\")\n",
       "\n",
       "    var pass_mouse_events = true;\n",
       "\n",
       "    canvas_div.resizable({\n",
       "        start: function(event, ui) {\n",
       "            pass_mouse_events = false;\n",
       "        },\n",
       "        resize: function(event, ui) {\n",
       "            fig.request_resize(ui.size.width, ui.size.height);\n",
       "        },\n",
       "        stop: function(event, ui) {\n",
       "            pass_mouse_events = true;\n",
       "            fig.request_resize(ui.size.width, ui.size.height);\n",
       "        },\n",
       "    });\n",
       "\n",
       "    function mouse_event_fn(event) {\n",
       "        if (pass_mouse_events)\n",
       "            return fig.mouse_event(event, event['data']);\n",
       "    }\n",
       "\n",
       "    rubberband.mousedown('button_press', mouse_event_fn);\n",
       "    rubberband.mouseup('button_release', mouse_event_fn);\n",
       "    // Throttle sequential mouse events to 1 every 20ms.\n",
       "    rubberband.mousemove('motion_notify', mouse_event_fn);\n",
       "\n",
       "    rubberband.mouseenter('figure_enter', mouse_event_fn);\n",
       "    rubberband.mouseleave('figure_leave', mouse_event_fn);\n",
       "\n",
       "    canvas_div.on(\"wheel\", function (event) {\n",
       "        event = event.originalEvent;\n",
       "        event['data'] = 'scroll'\n",
       "        if (event.deltaY < 0) {\n",
       "            event.step = 1;\n",
       "        } else {\n",
       "            event.step = -1;\n",
       "        }\n",
       "        mouse_event_fn(event);\n",
       "    });\n",
       "\n",
       "    canvas_div.append(canvas);\n",
       "    canvas_div.append(rubberband);\n",
       "\n",
       "    this.rubberband = rubberband;\n",
       "    this.rubberband_canvas = rubberband[0];\n",
       "    this.rubberband_context = rubberband[0].getContext(\"2d\");\n",
       "    this.rubberband_context.strokeStyle = \"#000000\";\n",
       "\n",
       "    this._resize_canvas = function(width, height) {\n",
       "        // Keep the size of the canvas, canvas container, and rubber band\n",
       "        // canvas in synch.\n",
       "        canvas_div.css('width', width)\n",
       "        canvas_div.css('height', height)\n",
       "\n",
       "        canvas.attr('width', width * mpl.ratio);\n",
       "        canvas.attr('height', height * mpl.ratio);\n",
       "        canvas.attr('style', 'width: ' + width + 'px; height: ' + height + 'px;');\n",
       "\n",
       "        rubberband.attr('width', width);\n",
       "        rubberband.attr('height', height);\n",
       "    }\n",
       "\n",
       "    // Set the figure to an initial 600x600px, this will subsequently be updated\n",
       "    // upon first draw.\n",
       "    this._resize_canvas(600, 600);\n",
       "\n",
       "    // Disable right mouse context menu.\n",
       "    $(this.rubberband_canvas).bind(\"contextmenu\",function(e){\n",
       "        return false;\n",
       "    });\n",
       "\n",
       "    function set_focus () {\n",
       "        canvas.focus();\n",
       "        canvas_div.focus();\n",
       "    }\n",
       "\n",
       "    window.setTimeout(set_focus, 100);\n",
       "}\n",
       "\n",
       "mpl.figure.prototype._init_toolbar = function() {\n",
       "    var fig = this;\n",
       "\n",
       "    var nav_element = $('<div/>');\n",
       "    nav_element.attr('style', 'width: 100%');\n",
       "    this.root.append(nav_element);\n",
       "\n",
       "    // Define a callback function for later on.\n",
       "    function toolbar_event(event) {\n",
       "        return fig.toolbar_button_onclick(event['data']);\n",
       "    }\n",
       "    function toolbar_mouse_event(event) {\n",
       "        return fig.toolbar_button_onmouseover(event['data']);\n",
       "    }\n",
       "\n",
       "    for(var toolbar_ind in mpl.toolbar_items) {\n",
       "        var name = mpl.toolbar_items[toolbar_ind][0];\n",
       "        var tooltip = mpl.toolbar_items[toolbar_ind][1];\n",
       "        var image = mpl.toolbar_items[toolbar_ind][2];\n",
       "        var method_name = mpl.toolbar_items[toolbar_ind][3];\n",
       "\n",
       "        if (!name) {\n",
       "            // put a spacer in here.\n",
       "            continue;\n",
       "        }\n",
       "        var button = $('<button/>');\n",
       "        button.addClass('ui-button ui-widget ui-state-default ui-corner-all ' +\n",
       "                        'ui-button-icon-only');\n",
       "        button.attr('role', 'button');\n",
       "        button.attr('aria-disabled', 'false');\n",
       "        button.click(method_name, toolbar_event);\n",
       "        button.mouseover(tooltip, toolbar_mouse_event);\n",
       "\n",
       "        var icon_img = $('<span/>');\n",
       "        icon_img.addClass('ui-button-icon-primary ui-icon');\n",
       "        icon_img.addClass(image);\n",
       "        icon_img.addClass('ui-corner-all');\n",
       "\n",
       "        var tooltip_span = $('<span/>');\n",
       "        tooltip_span.addClass('ui-button-text');\n",
       "        tooltip_span.html(tooltip);\n",
       "\n",
       "        button.append(icon_img);\n",
       "        button.append(tooltip_span);\n",
       "\n",
       "        nav_element.append(button);\n",
       "    }\n",
       "\n",
       "    var fmt_picker_span = $('<span/>');\n",
       "\n",
       "    var fmt_picker = $('<select/>');\n",
       "    fmt_picker.addClass('mpl-toolbar-option ui-widget ui-widget-content');\n",
       "    fmt_picker_span.append(fmt_picker);\n",
       "    nav_element.append(fmt_picker_span);\n",
       "    this.format_dropdown = fmt_picker[0];\n",
       "\n",
       "    for (var ind in mpl.extensions) {\n",
       "        var fmt = mpl.extensions[ind];\n",
       "        var option = $(\n",
       "            '<option/>', {selected: fmt === mpl.default_extension}).html(fmt);\n",
       "        fmt_picker.append(option);\n",
       "    }\n",
       "\n",
       "    // Add hover states to the ui-buttons\n",
       "    $( \".ui-button\" ).hover(\n",
       "        function() { $(this).addClass(\"ui-state-hover\");},\n",
       "        function() { $(this).removeClass(\"ui-state-hover\");}\n",
       "    );\n",
       "\n",
       "    var status_bar = $('<span class=\"mpl-message\"/>');\n",
       "    nav_element.append(status_bar);\n",
       "    this.message = status_bar[0];\n",
       "}\n",
       "\n",
       "mpl.figure.prototype.request_resize = function(x_pixels, y_pixels) {\n",
       "    // Request matplotlib to resize the figure. Matplotlib will then trigger a resize in the client,\n",
       "    // which will in turn request a refresh of the image.\n",
       "    this.send_message('resize', {'width': x_pixels, 'height': y_pixels});\n",
       "}\n",
       "\n",
       "mpl.figure.prototype.send_message = function(type, properties) {\n",
       "    properties['type'] = type;\n",
       "    properties['figure_id'] = this.id;\n",
       "    this.ws.send(JSON.stringify(properties));\n",
       "}\n",
       "\n",
       "mpl.figure.prototype.send_draw_message = function() {\n",
       "    if (!this.waiting) {\n",
       "        this.waiting = true;\n",
       "        this.ws.send(JSON.stringify({type: \"draw\", figure_id: this.id}));\n",
       "    }\n",
       "}\n",
       "\n",
       "\n",
       "mpl.figure.prototype.handle_save = function(fig, msg) {\n",
       "    var format_dropdown = fig.format_dropdown;\n",
       "    var format = format_dropdown.options[format_dropdown.selectedIndex].value;\n",
       "    fig.ondownload(fig, format);\n",
       "}\n",
       "\n",
       "\n",
       "mpl.figure.prototype.handle_resize = function(fig, msg) {\n",
       "    var size = msg['size'];\n",
       "    if (size[0] != fig.canvas.width || size[1] != fig.canvas.height) {\n",
       "        fig._resize_canvas(size[0], size[1]);\n",
       "        fig.send_message(\"refresh\", {});\n",
       "    };\n",
       "}\n",
       "\n",
       "mpl.figure.prototype.handle_rubberband = function(fig, msg) {\n",
       "    var x0 = msg['x0'] / mpl.ratio;\n",
       "    var y0 = (fig.canvas.height - msg['y0']) / mpl.ratio;\n",
       "    var x1 = msg['x1'] / mpl.ratio;\n",
       "    var y1 = (fig.canvas.height - msg['y1']) / mpl.ratio;\n",
       "    x0 = Math.floor(x0) + 0.5;\n",
       "    y0 = Math.floor(y0) + 0.5;\n",
       "    x1 = Math.floor(x1) + 0.5;\n",
       "    y1 = Math.floor(y1) + 0.5;\n",
       "    var min_x = Math.min(x0, x1);\n",
       "    var min_y = Math.min(y0, y1);\n",
       "    var width = Math.abs(x1 - x0);\n",
       "    var height = Math.abs(y1 - y0);\n",
       "\n",
       "    fig.rubberband_context.clearRect(\n",
       "        0, 0, fig.canvas.width / mpl.ratio, fig.canvas.height / mpl.ratio);\n",
       "\n",
       "    fig.rubberband_context.strokeRect(min_x, min_y, width, height);\n",
       "}\n",
       "\n",
       "mpl.figure.prototype.handle_figure_label = function(fig, msg) {\n",
       "    // Updates the figure title.\n",
       "    fig.header.textContent = msg['label'];\n",
       "}\n",
       "\n",
       "mpl.figure.prototype.handle_cursor = function(fig, msg) {\n",
       "    var cursor = msg['cursor'];\n",
       "    switch(cursor)\n",
       "    {\n",
       "    case 0:\n",
       "        cursor = 'pointer';\n",
       "        break;\n",
       "    case 1:\n",
       "        cursor = 'default';\n",
       "        break;\n",
       "    case 2:\n",
       "        cursor = 'crosshair';\n",
       "        break;\n",
       "    case 3:\n",
       "        cursor = 'move';\n",
       "        break;\n",
       "    }\n",
       "    fig.rubberband_canvas.style.cursor = cursor;\n",
       "}\n",
       "\n",
       "mpl.figure.prototype.handle_message = function(fig, msg) {\n",
       "    fig.message.textContent = msg['message'];\n",
       "}\n",
       "\n",
       "mpl.figure.prototype.handle_draw = function(fig, msg) {\n",
       "    // Request the server to send over a new figure.\n",
       "    fig.send_draw_message();\n",
       "}\n",
       "\n",
       "mpl.figure.prototype.handle_image_mode = function(fig, msg) {\n",
       "    fig.image_mode = msg['mode'];\n",
       "}\n",
       "\n",
       "mpl.figure.prototype.updated_canvas_event = function() {\n",
       "    // Called whenever the canvas gets updated.\n",
       "    this.send_message(\"ack\", {});\n",
       "}\n",
       "\n",
       "// A function to construct a web socket function for onmessage handling.\n",
       "// Called in the figure constructor.\n",
       "mpl.figure.prototype._make_on_message_function = function(fig) {\n",
       "    return function socket_on_message(evt) {\n",
       "        if (evt.data instanceof Blob) {\n",
       "            /* FIXME: We get \"Resource interpreted as Image but\n",
       "             * transferred with MIME type text/plain:\" errors on\n",
       "             * Chrome.  But how to set the MIME type?  It doesn't seem\n",
       "             * to be part of the websocket stream */\n",
       "            evt.data.type = \"image/png\";\n",
       "\n",
       "            /* Free the memory for the previous frames */\n",
       "            if (fig.imageObj.src) {\n",
       "                (window.URL || window.webkitURL).revokeObjectURL(\n",
       "                    fig.imageObj.src);\n",
       "            }\n",
       "\n",
       "            fig.imageObj.src = (window.URL || window.webkitURL).createObjectURL(\n",
       "                evt.data);\n",
       "            fig.updated_canvas_event();\n",
       "            fig.waiting = false;\n",
       "            return;\n",
       "        }\n",
       "        else if (typeof evt.data === 'string' && evt.data.slice(0, 21) == \"data:image/png;base64\") {\n",
       "            fig.imageObj.src = evt.data;\n",
       "            fig.updated_canvas_event();\n",
       "            fig.waiting = false;\n",
       "            return;\n",
       "        }\n",
       "\n",
       "        var msg = JSON.parse(evt.data);\n",
       "        var msg_type = msg['type'];\n",
       "\n",
       "        // Call the  \"handle_{type}\" callback, which takes\n",
       "        // the figure and JSON message as its only arguments.\n",
       "        try {\n",
       "            var callback = fig[\"handle_\" + msg_type];\n",
       "        } catch (e) {\n",
       "            console.log(\"No handler for the '\" + msg_type + \"' message type: \", msg);\n",
       "            return;\n",
       "        }\n",
       "\n",
       "        if (callback) {\n",
       "            try {\n",
       "                // console.log(\"Handling '\" + msg_type + \"' message: \", msg);\n",
       "                callback(fig, msg);\n",
       "            } catch (e) {\n",
       "                console.log(\"Exception inside the 'handler_\" + msg_type + \"' callback:\", e, e.stack, msg);\n",
       "            }\n",
       "        }\n",
       "    };\n",
       "}\n",
       "\n",
       "// from http://stackoverflow.com/questions/1114465/getting-mouse-location-in-canvas\n",
       "mpl.findpos = function(e) {\n",
       "    //this section is from http://www.quirksmode.org/js/events_properties.html\n",
       "    var targ;\n",
       "    if (!e)\n",
       "        e = window.event;\n",
       "    if (e.target)\n",
       "        targ = e.target;\n",
       "    else if (e.srcElement)\n",
       "        targ = e.srcElement;\n",
       "    if (targ.nodeType == 3) // defeat Safari bug\n",
       "        targ = targ.parentNode;\n",
       "\n",
       "    // jQuery normalizes the pageX and pageY\n",
       "    // pageX,Y are the mouse positions relative to the document\n",
       "    // offset() returns the position of the element relative to the document\n",
       "    var x = e.pageX - $(targ).offset().left;\n",
       "    var y = e.pageY - $(targ).offset().top;\n",
       "\n",
       "    return {\"x\": x, \"y\": y};\n",
       "};\n",
       "\n",
       "/*\n",
       " * return a copy of an object with only non-object keys\n",
       " * we need this to avoid circular references\n",
       " * http://stackoverflow.com/a/24161582/3208463\n",
       " */\n",
       "function simpleKeys (original) {\n",
       "  return Object.keys(original).reduce(function (obj, key) {\n",
       "    if (typeof original[key] !== 'object')\n",
       "        obj[key] = original[key]\n",
       "    return obj;\n",
       "  }, {});\n",
       "}\n",
       "\n",
       "mpl.figure.prototype.mouse_event = function(event, name) {\n",
       "    var canvas_pos = mpl.findpos(event)\n",
       "\n",
       "    if (name === 'button_press')\n",
       "    {\n",
       "        this.canvas.focus();\n",
       "        this.canvas_div.focus();\n",
       "    }\n",
       "\n",
       "    var x = canvas_pos.x * mpl.ratio;\n",
       "    var y = canvas_pos.y * mpl.ratio;\n",
       "\n",
       "    this.send_message(name, {x: x, y: y, button: event.button,\n",
       "                             step: event.step,\n",
       "                             guiEvent: simpleKeys(event)});\n",
       "\n",
       "    /* This prevents the web browser from automatically changing to\n",
       "     * the text insertion cursor when the button is pressed.  We want\n",
       "     * to control all of the cursor setting manually through the\n",
       "     * 'cursor' event from matplotlib */\n",
       "    event.preventDefault();\n",
       "    return false;\n",
       "}\n",
       "\n",
       "mpl.figure.prototype._key_event_extra = function(event, name) {\n",
       "    // Handle any extra behaviour associated with a key event\n",
       "}\n",
       "\n",
       "mpl.figure.prototype.key_event = function(event, name) {\n",
       "\n",
       "    // Prevent repeat events\n",
       "    if (name == 'key_press')\n",
       "    {\n",
       "        if (event.which === this._key)\n",
       "            return;\n",
       "        else\n",
       "            this._key = event.which;\n",
       "    }\n",
       "    if (name == 'key_release')\n",
       "        this._key = null;\n",
       "\n",
       "    var value = '';\n",
       "    if (event.ctrlKey && event.which != 17)\n",
       "        value += \"ctrl+\";\n",
       "    if (event.altKey && event.which != 18)\n",
       "        value += \"alt+\";\n",
       "    if (event.shiftKey && event.which != 16)\n",
       "        value += \"shift+\";\n",
       "\n",
       "    value += 'k';\n",
       "    value += event.which.toString();\n",
       "\n",
       "    this._key_event_extra(event, name);\n",
       "\n",
       "    this.send_message(name, {key: value,\n",
       "                             guiEvent: simpleKeys(event)});\n",
       "    return false;\n",
       "}\n",
       "\n",
       "mpl.figure.prototype.toolbar_button_onclick = function(name) {\n",
       "    if (name == 'download') {\n",
       "        this.handle_save(this, null);\n",
       "    } else {\n",
       "        this.send_message(\"toolbar_button\", {name: name});\n",
       "    }\n",
       "};\n",
       "\n",
       "mpl.figure.prototype.toolbar_button_onmouseover = function(tooltip) {\n",
       "    this.message.textContent = tooltip;\n",
       "};\n",
       "mpl.toolbar_items = [[\"Home\", \"Reset original view\", \"fa fa-home icon-home\", \"home\"], [\"Back\", \"Back to previous view\", \"fa fa-arrow-left icon-arrow-left\", \"back\"], [\"Forward\", \"Forward to next view\", \"fa fa-arrow-right icon-arrow-right\", \"forward\"], [\"\", \"\", \"\", \"\"], [\"Pan\", \"Pan axes with left mouse, zoom with right\", \"fa fa-arrows icon-move\", \"pan\"], [\"Zoom\", \"Zoom to rectangle\", \"fa fa-square-o icon-check-empty\", \"zoom\"], [\"\", \"\", \"\", \"\"], [\"Download\", \"Download plot\", \"fa fa-floppy-o icon-save\", \"download\"]];\n",
       "\n",
       "mpl.extensions = [\"eps\", \"jpeg\", \"pdf\", \"png\", \"ps\", \"raw\", \"svg\", \"tif\"];\n",
       "\n",
       "mpl.default_extension = \"png\";var comm_websocket_adapter = function(comm) {\n",
       "    // Create a \"websocket\"-like object which calls the given IPython comm\n",
       "    // object with the appropriate methods. Currently this is a non binary\n",
       "    // socket, so there is still some room for performance tuning.\n",
       "    var ws = {};\n",
       "\n",
       "    ws.close = function() {\n",
       "        comm.close()\n",
       "    };\n",
       "    ws.send = function(m) {\n",
       "        //console.log('sending', m);\n",
       "        comm.send(m);\n",
       "    };\n",
       "    // Register the callback with on_msg.\n",
       "    comm.on_msg(function(msg) {\n",
       "        //console.log('receiving', msg['content']['data'], msg);\n",
       "        // Pass the mpl event to the overridden (by mpl) onmessage function.\n",
       "        ws.onmessage(msg['content']['data'])\n",
       "    });\n",
       "    return ws;\n",
       "}\n",
       "\n",
       "mpl.mpl_figure_comm = function(comm, msg) {\n",
       "    // This is the function which gets called when the mpl process\n",
       "    // starts-up an IPython Comm through the \"matplotlib\" channel.\n",
       "\n",
       "    var id = msg.content.data.id;\n",
       "    // Get hold of the div created by the display call when the Comm\n",
       "    // socket was opened in Python.\n",
       "    var element = $(\"#\" + id);\n",
       "    var ws_proxy = comm_websocket_adapter(comm)\n",
       "\n",
       "    function ondownload(figure, format) {\n",
       "        window.open(figure.imageObj.src);\n",
       "    }\n",
       "\n",
       "    var fig = new mpl.figure(id, ws_proxy,\n",
       "                           ondownload,\n",
       "                           element.get(0));\n",
       "\n",
       "    // Call onopen now - mpl needs it, as it is assuming we've passed it a real\n",
       "    // web socket which is closed, not our websocket->open comm proxy.\n",
       "    ws_proxy.onopen();\n",
       "\n",
       "    fig.parent_element = element.get(0);\n",
       "    fig.cell_info = mpl.find_output_cell(\"<div id='\" + id + \"'></div>\");\n",
       "    if (!fig.cell_info) {\n",
       "        console.error(\"Failed to find cell for figure\", id, fig);\n",
       "        return;\n",
       "    }\n",
       "\n",
       "    var output_index = fig.cell_info[2]\n",
       "    var cell = fig.cell_info[0];\n",
       "\n",
       "};\n",
       "\n",
       "mpl.figure.prototype.handle_close = function(fig, msg) {\n",
       "    var width = fig.canvas.width/mpl.ratio\n",
       "    fig.root.unbind('remove')\n",
       "\n",
       "    // Update the output cell to use the data from the current canvas.\n",
       "    fig.push_to_output();\n",
       "    var dataURL = fig.canvas.toDataURL();\n",
       "    // Re-enable the keyboard manager in IPython - without this line, in FF,\n",
       "    // the notebook keyboard shortcuts fail.\n",
       "    IPython.keyboard_manager.enable()\n",
       "    $(fig.parent_element).html('<img src=\"' + dataURL + '\" width=\"' + width + '\">');\n",
       "    fig.close_ws(fig, msg);\n",
       "}\n",
       "\n",
       "mpl.figure.prototype.close_ws = function(fig, msg){\n",
       "    fig.send_message('closing', msg);\n",
       "    // fig.ws.close()\n",
       "}\n",
       "\n",
       "mpl.figure.prototype.push_to_output = function(remove_interactive) {\n",
       "    // Turn the data on the canvas into data in the output cell.\n",
       "    var width = this.canvas.width/mpl.ratio\n",
       "    var dataURL = this.canvas.toDataURL();\n",
       "    this.cell_info[1]['text/html'] = '<img src=\"' + dataURL + '\" width=\"' + width + '\">';\n",
       "}\n",
       "\n",
       "mpl.figure.prototype.updated_canvas_event = function() {\n",
       "    // Tell IPython that the notebook contents must change.\n",
       "    IPython.notebook.set_dirty(true);\n",
       "    this.send_message(\"ack\", {});\n",
       "    var fig = this;\n",
       "    // Wait a second, then push the new image to the DOM so\n",
       "    // that it is saved nicely (might be nice to debounce this).\n",
       "    setTimeout(function () { fig.push_to_output() }, 1000);\n",
       "}\n",
       "\n",
       "mpl.figure.prototype._init_toolbar = function() {\n",
       "    var fig = this;\n",
       "\n",
       "    var nav_element = $('<div/>');\n",
       "    nav_element.attr('style', 'width: 100%');\n",
       "    this.root.append(nav_element);\n",
       "\n",
       "    // Define a callback function for later on.\n",
       "    function toolbar_event(event) {\n",
       "        return fig.toolbar_button_onclick(event['data']);\n",
       "    }\n",
       "    function toolbar_mouse_event(event) {\n",
       "        return fig.toolbar_button_onmouseover(event['data']);\n",
       "    }\n",
       "\n",
       "    for(var toolbar_ind in mpl.toolbar_items){\n",
       "        var name = mpl.toolbar_items[toolbar_ind][0];\n",
       "        var tooltip = mpl.toolbar_items[toolbar_ind][1];\n",
       "        var image = mpl.toolbar_items[toolbar_ind][2];\n",
       "        var method_name = mpl.toolbar_items[toolbar_ind][3];\n",
       "\n",
       "        if (!name) { continue; };\n",
       "\n",
       "        var button = $('<button class=\"btn btn-default\" href=\"#\" title=\"' + name + '\"><i class=\"fa ' + image + ' fa-lg\"></i></button>');\n",
       "        button.click(method_name, toolbar_event);\n",
       "        button.mouseover(tooltip, toolbar_mouse_event);\n",
       "        nav_element.append(button);\n",
       "    }\n",
       "\n",
       "    // Add the status bar.\n",
       "    var status_bar = $('<span class=\"mpl-message\" style=\"text-align:right; float: right;\"/>');\n",
       "    nav_element.append(status_bar);\n",
       "    this.message = status_bar[0];\n",
       "\n",
       "    // Add the close button to the window.\n",
       "    var buttongrp = $('<div class=\"btn-group inline pull-right\"></div>');\n",
       "    var button = $('<button class=\"btn btn-mini btn-primary\" href=\"#\" title=\"Stop Interaction\"><i class=\"fa fa-power-off icon-remove icon-large\"></i></button>');\n",
       "    button.click(function (evt) { fig.handle_close(fig, {}); } );\n",
       "    button.mouseover('Stop Interaction', toolbar_mouse_event);\n",
       "    buttongrp.append(button);\n",
       "    var titlebar = this.root.find($('.ui-dialog-titlebar'));\n",
       "    titlebar.prepend(buttongrp);\n",
       "}\n",
       "\n",
       "mpl.figure.prototype._root_extra_style = function(el){\n",
       "    var fig = this\n",
       "    el.on(\"remove\", function(){\n",
       "\tfig.close_ws(fig, {});\n",
       "    });\n",
       "}\n",
       "\n",
       "mpl.figure.prototype._canvas_extra_style = function(el){\n",
       "    // this is important to make the div 'focusable\n",
       "    el.attr('tabindex', 0)\n",
       "    // reach out to IPython and tell the keyboard manager to turn it's self\n",
       "    // off when our div gets focus\n",
       "\n",
       "    // location in version 3\n",
       "    if (IPython.notebook.keyboard_manager) {\n",
       "        IPython.notebook.keyboard_manager.register_events(el);\n",
       "    }\n",
       "    else {\n",
       "        // location in version 2\n",
       "        IPython.keyboard_manager.register_events(el);\n",
       "    }\n",
       "\n",
       "}\n",
       "\n",
       "mpl.figure.prototype._key_event_extra = function(event, name) {\n",
       "    var manager = IPython.notebook.keyboard_manager;\n",
       "    if (!manager)\n",
       "        manager = IPython.keyboard_manager;\n",
       "\n",
       "    // Check for shift+enter\n",
       "    if (event.shiftKey && event.which == 13) {\n",
       "        this.canvas_div.blur();\n",
       "        // select the cell after this one\n",
       "        var index = IPython.notebook.find_cell_index(this.cell_info[0]);\n",
       "        IPython.notebook.select(index + 1);\n",
       "    }\n",
       "}\n",
       "\n",
       "mpl.figure.prototype.handle_save = function(fig, msg) {\n",
       "    fig.ondownload(fig, null);\n",
       "}\n",
       "\n",
       "\n",
       "mpl.find_output_cell = function(html_output) {\n",
       "    // Return the cell and output element which can be found *uniquely* in the notebook.\n",
       "    // Note - this is a bit hacky, but it is done because the \"notebook_saving.Notebook\"\n",
       "    // IPython event is triggered only after the cells have been serialised, which for\n",
       "    // our purposes (turning an active figure into a static one), is too late.\n",
       "    var cells = IPython.notebook.get_cells();\n",
       "    var ncells = cells.length;\n",
       "    for (var i=0; i<ncells; i++) {\n",
       "        var cell = cells[i];\n",
       "        if (cell.cell_type === 'code'){\n",
       "            for (var j=0; j<cell.output_area.outputs.length; j++) {\n",
       "                var data = cell.output_area.outputs[j];\n",
       "                if (data.data) {\n",
       "                    // IPython >= 3 moved mimebundle to data attribute of output\n",
       "                    data = data.data;\n",
       "                }\n",
       "                if (data['text/html'] == html_output) {\n",
       "                    return [cell, data, j];\n",
       "                }\n",
       "            }\n",
       "        }\n",
       "    }\n",
       "}\n",
       "\n",
       "// Register the function which deals with the matplotlib target/channel.\n",
       "// The kernel may be null if the page has been refreshed.\n",
       "if (IPython.notebook.kernel != null) {\n",
       "    IPython.notebook.kernel.comm_manager.register_target('matplotlib', mpl.mpl_figure_comm);\n",
       "}\n"
      ],
      "text/plain": [
       "<IPython.core.display.Javascript object>"
      ]
     },
     "metadata": {},
     "output_type": "display_data"
    },
    {
     "data": {
      "text/html": [
       "<img src=\"data:image/png;base64,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\" width=\"640\">"
      ],
      "text/plain": [
       "<IPython.core.display.HTML object>"
      ]
     },
     "metadata": {},
     "output_type": "display_data"
    }
   ],
   "source": [
    "#%matplotlib inline\n",
    "\n",
    "print(\"KNN confusion matrix\")\n",
    "plot_confusion_matrix(knn, x_test, y_test)\n",
    "plt.show()\n",
    "\n",
    "\n",
    "print(\"SVC confusion matrix\")\n",
    "plot_confusion_matrix(clf, x_test, y_test)\n",
    "plt.show()\n",
    "\n",
    "print(\"Decision tree classifier confusion matrix\")\n",
    "plot_confusion_matrix(treeclf, x_test, y_test)\n",
    "plt.show()\n",
    "\n",
    "print(\"Random forest classifier confusion matrix\")\n",
    "plot_confusion_matrix(rforestclf, x_test, y_test)\n",
    "plt.show()\n",
    "\n",
    "print(\"Extra trees classifier confusion matrix\")\n",
    "plot_confusion_matrix(forestclf, x_test, y_test)\n",
    "plt.show()\n",
    "\n",
    "print(\"NaiveBayes classifier confusion matrix\")\n",
    "plot_confusion_matrix(nbclf, x_test, y_test)\n",
    "plt.show()"
   ]
  },
  {
   "cell_type": "code",
   "execution_count": 179,
   "metadata": {},
   "outputs": [
    {
     "name": "stdout",
     "output_type": "stream",
     "text": [
      "Accuracy knn:  0.97\n",
      "Accuracy svc:  0.97\n",
      "Accuracy Tree :  0.94\n",
      "Accuracy Random forest :  0.94\n",
      "Accuracy Extra Trees :  1.0\n",
      "----------\n",
      "Precision knn:  0.98\n",
      "Precision svc:  0.98\n",
      "Precision Tree:  0.9\n",
      "Precision Random Forest:  0.9\n",
      "Precision trees:  1.0\n",
      "----------\n",
      "Recall knn:  0.92\n",
      "Recall svc:  0.92\n",
      "Recall tree:  0.9\n",
      "Recall forest:  0.9\n",
      "Recall trees:  1.0\n",
      "----------\n",
      "F1 knn:  0.95\n",
      "F1 svc:  0.95\n",
      "F1 tree:  0.9\n",
      "F1 forest:  0.9\n",
      "F1 trees:  1.0\n"
     ]
    }
   ],
   "source": [
    "from sklearn.metrics import recall_score\n",
    "from sklearn.metrics import f1_score\n",
    "print(\"Accuracy knn: \", np.round(accuracy_score(y_test, y_pred_knn),2))\n",
    "print(\"Accuracy svc: \", np.round(accuracy_score(y_test, y_pred_svc),2))\n",
    "print(\"Accuracy Tree : \", np.round(accuracy_score(y_test, y_pred_tree),2))\n",
    "print(\"Accuracy Random forest : \", np.round(accuracy_score(y_test, y_pred_rforest),2))\n",
    "print(\"Accuracy Extra Trees : \", np.round(accuracy_score(y_test, y_pred_forest),2))\n",
    "\n",
    "print(\"----------\")\n",
    "\n",
    "print(\"Precision knn: \", np.round(precision_score(y_test, y_pred_knn, average='macro'),2))\n",
    "print(\"Precision svc: \", np.round(precision_score(y_test, y_pred_svc, average = 'macro'),2))\n",
    "print(\"Precision Tree: \", np.round(precision_score(y_test, y_pred_tree, average = 'macro'),2))\n",
    "print(\"Precision Random Forest: \", np.round(precision_score(y_test, y_pred_rforest, average = 'macro'),2))\n",
    "print(\"Precision trees: \", np.round(precision_score(y_test, y_pred_forest, average = 'macro'),2))\n",
    "\n",
    "print(\"----------\")\n",
    "\n",
    "print(\"Recall knn: \", np.round(recall_score(y_test, y_pred_knn, average = 'macro'),2))\n",
    "print(\"Recall svc: \", np.round(recall_score(y_test, y_pred_svc, average = 'macro'),2))     \n",
    "print(\"Recall tree: \", np.round(recall_score(y_test, y_pred_tree, average = 'macro'),2))  \n",
    "print(\"Recall forest: \", np.round(recall_score(y_test, y_pred_rforest, average = 'macro'),2))     \n",
    "print(\"Recall trees: \", np.round(recall_score(y_test, y_pred_forest, average = 'macro'),2)) \n",
    "\n",
    "print(\"----------\")\n",
    " \n",
    "print(\"F1 knn: \", np.round(f1_score(y_test, y_pred_knn, average = 'macro'),2))\n",
    "print(\"F1 svc: \", np.round(f1_score(y_test, y_pred_svc, average = 'macro'),2))            \n",
    "print(\"F1 tree: \", np.round(f1_score(y_test, y_pred_tree, average = 'macro'),2))  \n",
    "print(\"F1 forest: \", np.round(f1_score(y_test, y_pred_rforest, average = 'macro'),2))  \n",
    "\n",
    "print(\"F1 trees: \", np.round(f1_score(y_test, y_pred_forest, average = 'macro'),2))  "
   ]
  },
  {
   "cell_type": "code",
   "execution_count": 180,
   "metadata": {},
   "outputs": [
    {
     "name": "stdout",
     "output_type": "stream",
     "text": [
      "Accuracy knn: 99.3 %\n",
      "Accuracy svc: 99.3 %\n",
      "Accuracy tree: 94.9 %\n",
      "Accuracy forest: 96.4 %\n",
      "Accuracy extra trees: 97.1 %\n"
     ]
    }
   ],
   "source": [
    "model = KNeighborsClassifier(n_neighbors=3)\n",
    "scores = cross_val_score(model, X, y, scoring='accuracy', cv=LeaveOneOut(), n_jobs=-1)\n",
    "\n",
    "print('Accuracy knn:', round(np.mean(scores)*100,1), '%')\n",
    "\n",
    "\n",
    "model = sklearn.svm.SVC(kernel='linear') \n",
    "scores = cross_val_score(model, X, y, scoring='accuracy', cv=LeaveOneOut(), n_jobs=-1)\n",
    "\n",
    "print('Accuracy svc:', round(np.mean(scores)*100,1), '%')\n",
    "\n",
    "\n",
    "model = tree.DecisionTreeClassifier()\n",
    "scores = cross_val_score(model, X, y, scoring='accuracy', cv=LeaveOneOut(), n_jobs=-1)\n",
    "print('Accuracy tree:', round(np.mean(scores)*100,1), '%')\n",
    "\n",
    "\n",
    "model = RandomForestClassifier(n_estimators = 500)\n",
    "scores = cross_val_score(model, X, y, scoring='accuracy', cv=LeaveOneOut(), n_jobs=-1)\n",
    "print('Accuracy forest:', round(np.mean(scores)*100,1), '%')\n",
    "\n",
    "\n",
    "\n",
    "model = ExtraTreesClassifier(n_estimators = 500)\n",
    "scores = cross_val_score(model, X, y, scoring='accuracy', cv=LeaveOneOut(), n_jobs=-1)\n",
    "\n",
    "print('Accuracy extra trees:', round(np.mean(scores)*100,1), '%')"
   ]
  },
  {
   "cell_type": "code",
   "execution_count": null,
   "metadata": {},
   "outputs": [],
   "source": []
  }
 ],
 "metadata": {
  "kernelspec": {
   "display_name": "Python 3",
   "language": "python",
   "name": "python3"
  },
  "language_info": {
   "codemirror_mode": {
    "name": "ipython",
    "version": 3
   },
   "file_extension": ".py",
   "mimetype": "text/x-python",
   "name": "python",
   "nbconvert_exporter": "python",
   "pygments_lexer": "ipython3",
   "version": "3.8.3"
  }
 },
 "nbformat": 4,
 "nbformat_minor": 4
}
